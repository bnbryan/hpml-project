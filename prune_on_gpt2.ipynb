{
  "cells": [
    {
      "cell_type": "markdown",
      "metadata": {
        "id": "gzHXX9M0RLK7"
      },
      "source": [
        "install library"
      ]
    },
    {
      "cell_type": "code",
      "execution_count": 1,
      "metadata": {
        "colab": {
          "base_uri": "https://localhost:8080/"
        },
        "id": "B8O-fd7SRFR_",
        "outputId": "e8ebc819-c1ce-47f5-8fa8-3c1c4b7c5473"
      },
      "outputs": [
        {
          "output_type": "stream",
          "name": "stdout",
          "text": [
            "Requirement already satisfied: transformers in /usr/local/lib/python3.10/dist-packages (4.46.3)\n",
            "Requirement already satisfied: filelock in /usr/local/lib/python3.10/dist-packages (from transformers) (3.16.1)\n",
            "Requirement already satisfied: huggingface-hub<1.0,>=0.23.2 in /usr/local/lib/python3.10/dist-packages (from transformers) (0.26.3)\n",
            "Requirement already satisfied: numpy>=1.17 in /usr/local/lib/python3.10/dist-packages (from transformers) (1.26.4)\n",
            "Requirement already satisfied: packaging>=20.0 in /usr/local/lib/python3.10/dist-packages (from transformers) (24.2)\n",
            "Requirement already satisfied: pyyaml>=5.1 in /usr/local/lib/python3.10/dist-packages (from transformers) (6.0.2)\n",
            "Requirement already satisfied: regex!=2019.12.17 in /usr/local/lib/python3.10/dist-packages (from transformers) (2024.9.11)\n",
            "Requirement already satisfied: requests in /usr/local/lib/python3.10/dist-packages (from transformers) (2.32.3)\n",
            "Requirement already satisfied: tokenizers<0.21,>=0.20 in /usr/local/lib/python3.10/dist-packages (from transformers) (0.20.3)\n",
            "Requirement already satisfied: safetensors>=0.4.1 in /usr/local/lib/python3.10/dist-packages (from transformers) (0.4.5)\n",
            "Requirement already satisfied: tqdm>=4.27 in /usr/local/lib/python3.10/dist-packages (from transformers) (4.66.6)\n",
            "Requirement already satisfied: fsspec>=2023.5.0 in /usr/local/lib/python3.10/dist-packages (from huggingface-hub<1.0,>=0.23.2->transformers) (2024.10.0)\n",
            "Requirement already satisfied: typing-extensions>=3.7.4.3 in /usr/local/lib/python3.10/dist-packages (from huggingface-hub<1.0,>=0.23.2->transformers) (4.12.2)\n",
            "Requirement already satisfied: charset-normalizer<4,>=2 in /usr/local/lib/python3.10/dist-packages (from requests->transformers) (3.4.0)\n",
            "Requirement already satisfied: idna<4,>=2.5 in /usr/local/lib/python3.10/dist-packages (from requests->transformers) (3.10)\n",
            "Requirement already satisfied: urllib3<3,>=1.21.1 in /usr/local/lib/python3.10/dist-packages (from requests->transformers) (2.2.3)\n",
            "Requirement already satisfied: certifi>=2017.4.17 in /usr/local/lib/python3.10/dist-packages (from requests->transformers) (2024.8.30)\n",
            "Collecting datasets\n",
            "  Downloading datasets-3.1.0-py3-none-any.whl.metadata (20 kB)\n",
            "Requirement already satisfied: filelock in /usr/local/lib/python3.10/dist-packages (from datasets) (3.16.1)\n",
            "Requirement already satisfied: numpy>=1.17 in /usr/local/lib/python3.10/dist-packages (from datasets) (1.26.4)\n",
            "Requirement already satisfied: pyarrow>=15.0.0 in /usr/local/lib/python3.10/dist-packages (from datasets) (17.0.0)\n",
            "Collecting dill<0.3.9,>=0.3.0 (from datasets)\n",
            "  Downloading dill-0.3.8-py3-none-any.whl.metadata (10 kB)\n",
            "Requirement already satisfied: pandas in /usr/local/lib/python3.10/dist-packages (from datasets) (2.2.2)\n",
            "Requirement already satisfied: requests>=2.32.2 in /usr/local/lib/python3.10/dist-packages (from datasets) (2.32.3)\n",
            "Requirement already satisfied: tqdm>=4.66.3 in /usr/local/lib/python3.10/dist-packages (from datasets) (4.66.6)\n",
            "Collecting xxhash (from datasets)\n",
            "  Downloading xxhash-3.5.0-cp310-cp310-manylinux_2_17_x86_64.manylinux2014_x86_64.whl.metadata (12 kB)\n",
            "Collecting multiprocess<0.70.17 (from datasets)\n",
            "  Downloading multiprocess-0.70.16-py310-none-any.whl.metadata (7.2 kB)\n",
            "Collecting fsspec<=2024.9.0,>=2023.1.0 (from fsspec[http]<=2024.9.0,>=2023.1.0->datasets)\n",
            "  Downloading fsspec-2024.9.0-py3-none-any.whl.metadata (11 kB)\n",
            "Requirement already satisfied: aiohttp in /usr/local/lib/python3.10/dist-packages (from datasets) (3.11.9)\n",
            "Requirement already satisfied: huggingface-hub>=0.23.0 in /usr/local/lib/python3.10/dist-packages (from datasets) (0.26.3)\n",
            "Requirement already satisfied: packaging in /usr/local/lib/python3.10/dist-packages (from datasets) (24.2)\n",
            "Requirement already satisfied: pyyaml>=5.1 in /usr/local/lib/python3.10/dist-packages (from datasets) (6.0.2)\n",
            "Requirement already satisfied: aiohappyeyeballs>=2.3.0 in /usr/local/lib/python3.10/dist-packages (from aiohttp->datasets) (2.4.4)\n",
            "Requirement already satisfied: aiosignal>=1.1.2 in /usr/local/lib/python3.10/dist-packages (from aiohttp->datasets) (1.3.1)\n",
            "Requirement already satisfied: async-timeout<6.0,>=4.0 in /usr/local/lib/python3.10/dist-packages (from aiohttp->datasets) (4.0.3)\n",
            "Requirement already satisfied: attrs>=17.3.0 in /usr/local/lib/python3.10/dist-packages (from aiohttp->datasets) (24.2.0)\n",
            "Requirement already satisfied: frozenlist>=1.1.1 in /usr/local/lib/python3.10/dist-packages (from aiohttp->datasets) (1.5.0)\n",
            "Requirement already satisfied: multidict<7.0,>=4.5 in /usr/local/lib/python3.10/dist-packages (from aiohttp->datasets) (6.1.0)\n",
            "Requirement already satisfied: propcache>=0.2.0 in /usr/local/lib/python3.10/dist-packages (from aiohttp->datasets) (0.2.1)\n",
            "Requirement already satisfied: yarl<2.0,>=1.17.0 in /usr/local/lib/python3.10/dist-packages (from aiohttp->datasets) (1.18.3)\n",
            "Requirement already satisfied: typing-extensions>=3.7.4.3 in /usr/local/lib/python3.10/dist-packages (from huggingface-hub>=0.23.0->datasets) (4.12.2)\n",
            "Requirement already satisfied: charset-normalizer<4,>=2 in /usr/local/lib/python3.10/dist-packages (from requests>=2.32.2->datasets) (3.4.0)\n",
            "Requirement already satisfied: idna<4,>=2.5 in /usr/local/lib/python3.10/dist-packages (from requests>=2.32.2->datasets) (3.10)\n",
            "Requirement already satisfied: urllib3<3,>=1.21.1 in /usr/local/lib/python3.10/dist-packages (from requests>=2.32.2->datasets) (2.2.3)\n",
            "Requirement already satisfied: certifi>=2017.4.17 in /usr/local/lib/python3.10/dist-packages (from requests>=2.32.2->datasets) (2024.8.30)\n",
            "Requirement already satisfied: python-dateutil>=2.8.2 in /usr/local/lib/python3.10/dist-packages (from pandas->datasets) (2.8.2)\n",
            "Requirement already satisfied: pytz>=2020.1 in /usr/local/lib/python3.10/dist-packages (from pandas->datasets) (2024.2)\n",
            "Requirement already satisfied: tzdata>=2022.7 in /usr/local/lib/python3.10/dist-packages (from pandas->datasets) (2024.2)\n",
            "Requirement already satisfied: six>=1.5 in /usr/local/lib/python3.10/dist-packages (from python-dateutil>=2.8.2->pandas->datasets) (1.16.0)\n",
            "Downloading datasets-3.1.0-py3-none-any.whl (480 kB)\n",
            "\u001b[2K   \u001b[90m━━━━━━━━━━━━━━━━━━━━━━━━━━━━━━━━━━━━━━━━\u001b[0m \u001b[32m480.6/480.6 kB\u001b[0m \u001b[31m11.3 MB/s\u001b[0m eta \u001b[36m0:00:00\u001b[0m\n",
            "\u001b[?25hDownloading dill-0.3.8-py3-none-any.whl (116 kB)\n",
            "\u001b[2K   \u001b[90m━━━━━━━━━━━━━━━━━━━━━━━━━━━━━━━━━━━━━━━━\u001b[0m \u001b[32m116.3/116.3 kB\u001b[0m \u001b[31m11.1 MB/s\u001b[0m eta \u001b[36m0:00:00\u001b[0m\n",
            "\u001b[?25hDownloading fsspec-2024.9.0-py3-none-any.whl (179 kB)\n",
            "\u001b[2K   \u001b[90m━━━━━━━━━━━━━━━━━━━━━━━━━━━━━━━━━━━━━━━━\u001b[0m \u001b[32m179.3/179.3 kB\u001b[0m \u001b[31m15.7 MB/s\u001b[0m eta \u001b[36m0:00:00\u001b[0m\n",
            "\u001b[?25hDownloading multiprocess-0.70.16-py310-none-any.whl (134 kB)\n",
            "\u001b[2K   \u001b[90m━━━━━━━━━━━━━━━━━━━━━━━━━━━━━━━━━━━━━━━━\u001b[0m \u001b[32m134.8/134.8 kB\u001b[0m \u001b[31m10.4 MB/s\u001b[0m eta \u001b[36m0:00:00\u001b[0m\n",
            "\u001b[?25hDownloading xxhash-3.5.0-cp310-cp310-manylinux_2_17_x86_64.manylinux2014_x86_64.whl (194 kB)\n",
            "\u001b[2K   \u001b[90m━━━━━━━━━━━━━━━━━━━━━━━━━━━━━━━━━━━━━━━━\u001b[0m \u001b[32m194.1/194.1 kB\u001b[0m \u001b[31m17.4 MB/s\u001b[0m eta \u001b[36m0:00:00\u001b[0m\n",
            "\u001b[?25hInstalling collected packages: xxhash, fsspec, dill, multiprocess, datasets\n",
            "  Attempting uninstall: fsspec\n",
            "    Found existing installation: fsspec 2024.10.0\n",
            "    Uninstalling fsspec-2024.10.0:\n",
            "      Successfully uninstalled fsspec-2024.10.0\n",
            "\u001b[31mERROR: pip's dependency resolver does not currently take into account all the packages that are installed. This behaviour is the source of the following dependency conflicts.\n",
            "gcsfs 2024.10.0 requires fsspec==2024.10.0, but you have fsspec 2024.9.0 which is incompatible.\u001b[0m\u001b[31m\n",
            "\u001b[0mSuccessfully installed datasets-3.1.0 dill-0.3.8 fsspec-2024.9.0 multiprocess-0.70.16 xxhash-3.5.0\n"
          ]
        }
      ],
      "source": [
        "%pip install transformers\n",
        "%pip install datasets"
      ]
    },
    {
      "cell_type": "markdown",
      "metadata": {
        "id": "G1haHG-QhNyc"
      },
      "source": [
        "### Prune, calculate perplexity, and restore pruned layers"
      ]
    },
    {
      "cell_type": "code",
      "execution_count": 2,
      "metadata": {
        "colab": {
          "base_uri": "https://localhost:8080/"
        },
        "id": "WCjn_WUPFkgJ",
        "outputId": "522441b2-da42-412c-9904-6c40ca9cbc9a"
      },
      "outputs": [
        {
          "output_type": "stream",
          "name": "stdout",
          "text": [
            "Mounted at /content/drive/\n"
          ]
        }
      ],
      "source": [
        "from google.colab import drive\n",
        "drive.mount('/content/drive/')"
      ]
    },
    {
      "cell_type": "code",
      "execution_count": null,
      "metadata": {
        "colab": {
          "base_uri": "https://localhost:8080/",
          "height": 1000,
          "referenced_widgets": [
            "de95ef3bc3b041ce90997c2df9848424",
            "87e174a537d34225b8a2a06d0195d93d",
            "8607d12f12b847f589a2d8cc1fb55071",
            "3ca03b06164e4a2dadbcbc1d7af35c6a",
            "3017af8665d04d6cad18fdaf499776b4",
            "645f4f5c70d54825a95084afb3d250a7",
            "90e7acfe5c0d45fc892f605ef541a9bd",
            "fa0cd9e447454dfaa022bc64181d572b",
            "0496d18b0d5e4d6092abdab5767d6484",
            "84afb87f02cd403d9a452df0b43db485",
            "11938de7ee184620a469dde469b619a6",
            "b7234284962e4f91b688fc5c53dbff3c",
            "82028ab227f94ba3a4b03bc1c8ca480d",
            "2f96678ff95f4cd7a5600d2e36e9da3e",
            "c2e86c015c3e4054a47372cd870587f2",
            "f2277d629f0042c59651e94196166f73",
            "e0812b1e90d349c9acbe54ba7f62dcea",
            "b429bb3b494e4641b4e02898b44acbaf",
            "7c009a416ad64b1785a2dab631fbef96",
            "a0a0bd32dd13441ca5361575f4497874",
            "e8aea34200ed4178b011920909b8f980",
            "356a8e293972406aa7102cb2463428b9",
            "7599b6a501184552a9c999621b68be55",
            "e77b1eec3a2644a48985625b79a8fa95",
            "5ade10add594487ea7f7d3836eae4087",
            "5698349e79a54c189cee9346b93173dc",
            "0261981df7fb4a32bebe2b7115968d2a",
            "507477fccdf84e279618f7a77de84f4e",
            "62783465da03403e9f1fc4e92d10b986",
            "adfc81c9ef9d416c960c380ab2503b26",
            "a771ee658c724531abb4496572437fdb",
            "72aa3469d7cc4ad983feeafa2111daba",
            "f6978a12c8d24ef0a7e40efa728dab88",
            "57d8266f73e945e39604d167a5a2248c",
            "798828699abe4edebcc3990a9374c667",
            "ec9a06873ce44576979b99e558abb686",
            "b8969874ab3a409ea7946615d03a1b52",
            "ff3e71ef97574fa193ea2791211de5ce",
            "e458f32d362f43b688615ed8ccc90bbd",
            "bbb060aa4b5a4001a7a13c55fe73be04",
            "268438e9076f4140a7cb91fa845157dc",
            "bd14ed20aa004c7da647d386c285f74d",
            "3af88caa9f5c4a15869c2785904a2028",
            "a5b3656f4e464fe8af3e17281c0fc353",
            "02d53b391bc1408c87f95520c11b7573",
            "eef45f38d5e84367880b11f33742c763",
            "979adbb5d0254b80ac917198019f5832",
            "5b75aca3152e41baa1714d34fae483ca",
            "f46c7f8505c845c3ac5c09939d7f3ad1",
            "3209ca7f4fe946db87d5ac80aad07cb5",
            "d7dd4b05aa014f3c9eae30becc67a898",
            "6928a2ee9c274fe3b185ed474c23c033",
            "376c7544ad114249979deb6136de8a2d",
            "c8ad481118d04617af594851f134d815",
            "0ed187efe8c042b6bc4a5cfe33e25140",
            "139d4c1bd7e442828048d99bf2a36850",
            "c63d4f4071194e87b1d53826edd88456",
            "c6e8af40ddef40e89ed35d95ac03ec3f",
            "375f00c36c0f48da8283919b66b18f35",
            "0f4bf3c5120740ea9fc49d32146b0cb2",
            "c766172d28424a76b42fb247484a697f",
            "9d02655ca7a9420d97b61cafdfbf69d9",
            "0403698e7038461bbd61e8459eb6dc7a",
            "b97f5c756536427abe44a122f8a7107c",
            "de6aeb50d1e84a909e317decad03ecb1",
            "80c7fd3d5f0f49dabacf2acf750999a5",
            "02e18b5c4e32498593d2d435d116e8f6",
            "29e8f7d5deba4aada340ac748d7b8b8d",
            "d9f4f1253c254d5babe0d85ce42dbb7a",
            "edf41e1a69554ad89054d882d9fa1c09",
            "92cd95a84ee74329881b5b402fb3a0f2",
            "9b89932266064ab7bcdd58b8da5aae35",
            "eff02b8954a2416db590a9e1525293b2",
            "21033ab3c2074ceb94bf5a5599b365f1",
            "dff379bbabdc47cd956d492925010eb6",
            "cb22d7560b5e4d4e8ddf2413018a4bf2",
            "6eea45e280e54ac4b47268a9ff79a037",
            "9755db0a165e4afb84b8a2ea40519327",
            "350432d7982441a49277249b5c3cd720",
            "e8c5d6ce0f1d4ec9af3122246ac70b13",
            "6884b391a794477ca74bc4d54af2faee",
            "b3a3db0e0d1e4a6ea50c30dde9c2262d",
            "2f8077b3abdc43628c7b2aa40558c3b3",
            "6a60c4a402bd47309529bef30e52d371",
            "7d9fddca83b24e00954a760bc1ea1f0b",
            "c960309c22f44d01bd4a97eca33ac1fc",
            "1f069c3eeb554f2795c6e004e7120c2e",
            "a864abf208224904a2ff7c41c045a810",
            "2fded33c6ef54b1cbc2b50931bd329cc",
            "931d795afcd748eb8f4dd07f66adbce3",
            "3170c0dc5d184d6bad74bc0cc731436f",
            "050f5d42298e440589e0453a350a2881",
            "50ff851e32ec4120bdb45a416bd85437",
            "a30895f96ec44f1dbfb71ecb134cff04",
            "5982dc7d2b1a49d980ca752d64dfd3ea",
            "054869e318c54c758d1d6caa7f1810c9",
            "bc3b010ee2c644a1b7b6c61d23863be7",
            "a582e3ba2ff8477daa6802c7f62ebe4c",
            "19368943051a434780423a79e0973f51",
            "cc67b1d1375041b095292761f00af19b",
            "1674dd91e6fb42bb876df911c4ab34d3",
            "5e58d2829ebf4fafbba17d09ee97ea89",
            "adc6a03ed7d043dca9776634169083a6",
            "dd4f61142b6c4cfaab339841acd079b4",
            "2da50e8dae2b4cf483dcc7e7cea7b247",
            "c1fdefb60c9b499598b053259acd82ff",
            "440f4d893eef46199de7dc69da125f87",
            "d680717b698c4867853c80ebd04db800",
            "ad1912d59a9c4dc9a044d6b6343fda64",
            "d874341c7b0040088957ee27a7c342a2",
            "59c0fd60268e42c0bfe6b408df03e581",
            "2cc36f90ad534c2cb108de48074f6565",
            "7df45f247ce347df8ac013956f6d2087",
            "ddf03f331f3a4a3c9eeb8d3578cdb87c",
            "65cec011ee024f0eb9d5c5830ae0f9fd",
            "9a04be5346424c9995de3322d3e9247d",
            "a7934ab1d3ed4037b0902c3c04200c8e",
            "31fc52da79b645e2a835e038b1cc7b4f",
            "0432f966c9ef42869b3c6496040f211a",
            "b275a66a23b74b63801c8b9112690006",
            "6791f3d3484648ccae87fbfada1bc37a",
            "fa92feef0d784d1aaac7fef666f142e4",
            "1e17c333c7da4359bfdf62c7bf2270c2",
            "0fb6de9d771c4133a28a275d0a7d3952",
            "37a90c31ba88485597faa7aa3e40abce",
            "4316b6830f014f46aaeb73671f9adef6",
            "f0b16087cece495cb43eebfc31f2b290",
            "4c5b4150fb6e4528b929457f05faf954",
            "3746b8d940d94ebcaa8a84df420a41e7",
            "5618a85ae44d44d7aaf6fd61958a5ca4",
            "971a04126647436eb473c2ae4989cdbb",
            "7c0d9db5aa024dfda2e6711a1167dbd1",
            "01ea4320ce3742b6bb6e246b88e3a484",
            "9323fe4128f94c25bdf09ad077588daa",
            "79a723444f7d4ba8ab3f97d3890acb5b",
            "e8124eace87d4a1a8453306c6665cf5a",
            "b5520a39904741ee9b3b3f12d43057e8",
            "6a7ef8156128419fa1f5ab8604bdae25",
            "ccd7f1576a014667a6a721c697fa6000",
            "b92f617add924b1daf0a7aa872c08b62",
            "91d90ad0e77a4eef91780b34742bfbaa",
            "15e32778037e42dfabc4818d8dd54c64",
            "6965ea201d7449168e5d20cc94360815",
            "0778d7193a76440a8bfbcd282b72f836",
            "4f3389c610134689b8db816cb1ba8471",
            "62c705a343e5442aa797fe946ac53e3f",
            "0a12cb1e48954095a07e121b68b9f79f",
            "4d67b50ec615484581a852a6f3ab8a6a",
            "4c6fd05b85d94632bce4daf70467ce6a",
            "8afad0965da441d290636e24517eaae3",
            "e1aceebd52654f63802a586f2dd7f8ac",
            "56a3d50807ab464c9336059669972cdf",
            "7bbe0ea702c54be88060d2b245f83f93",
            "4afd19be02764995bf9bb42906d0cc27",
            "0322883d71924215ad7e91a6434c4585",
            "b6172ddaa7db426d842a07034f7823fa",
            "aae8df804a1d4148b34a39dceb31dcb1",
            "4fe92aaf1eda4c889ac5e83643d91697",
            "198a1d4ea8fd49df917aa1a3ed2845b3",
            "7ebad35f3cd84f098456e5feddfb1ec8",
            "5cabf7f99329418d9e1d35207786a387",
            "b7defe6b77324955a4bb1772bd894aeb",
            "9e588caedc754747a8cb117f12856cdf",
            "b2efbe071a5c4e3d9e01c39b2f02b1d6",
            "09df5cb98c3e45f4b18c517b51cf34ee",
            "527a6e157ece4858a0b07c89b386433c",
            "56c156ae984145c49b441a272d05b61c",
            "d2a317d2b2d34ef69a2dd186a68cbb21",
            "0e4e553802b748268a18dd567a637a75",
            "227428b565a44ec489ceb1cab0566101",
            "be8768d794f34b2d8b0622c897c4ae39",
            "eddc2fe413e04c51b8a642e99eaa5901",
            "aaf955a2420142e2877187f7257fb380",
            "807b9dc6ce34466e893369d2fdd674a7",
            "1775761c61e64eb69be3c2b0c2cf46db",
            "4c04224068f341cdb4dd445f444ca33f",
            "a16a2edbfa3c4ee8b4bf85f68ae04f79",
            "ae24f1da9ae94f2a8501bf016f4572c9",
            "6dbb716d2ffa45d1bf02cfe3f9cfd209",
            "81e0c6b3892a4f6589cfbcddf026f6a7",
            "43b66e0aa47b4b40b77bba85ed3fc899",
            "4acd3a757af64d15bbb1e45c3d2c2306",
            "4482cf1f24a647ada28f3bd4e454f03e",
            "bc8e9d3f00c746209253a5b88bcb4cce",
            "dd65ee31c4c74016b758a5a9d2362eea",
            "d496f5ff67924a9780c1eba3ca88cd87",
            "680a7b1d72cf428287b852b746528a6b",
            "a5df2bb152cd4f569c395ea6d1dc9d1c",
            "9ebc5fee209c42f7bffd4fc7caf975c3",
            "f4f599dbeb0e4beeb4b25f3af675b4d6",
            "f74d8729d5204731ad5fb8750b9040c3",
            "8e32489439d3431eb5846d80fa169b2d",
            "1b26a97259dd47128c6517ce99b5f065",
            "776fcdd5dcf841e3ba05d87386cf6ec1",
            "d2b8b3e0609447679a1c597aac838003",
            "6e01b67c1cdf4988aef68a1d3df49a3d",
            "0756e2bcb6fe4284ac47a66f57829688",
            "8aa60762561443fdb542b3fa901c43b9",
            "e4ba82e8e5af4a64b40cb114d18f98c8",
            "ccb5186aa4bd4eeeb8786e1fa8c29d41",
            "34e4c0402b9e42f7a5783e2816e8a0bc",
            "dc0a927346e140e0801a7fab2117167b",
            "383878478c8143858723f4d9603654bd",
            "c9afcf78c07a4538b74405bc926639c1",
            "1149dd68c667439ab3a935e7c7e225c4",
            "71974c7a4f6c496993ba1de0a17628c9",
            "6dde2934558b4921b6ee1a6cc2af411d",
            "3bc1ecf38aed412596709e842149051d",
            "ddab2de2f5a640779212a3d5da54bafc",
            "5b643a3790a34815bb87b0c4c18029ae",
            "361fab6c89e2497a9610ca1e213b3cf5",
            "16c750b1fdd942df934b8fdf8e33ab67",
            "cfa06ec2b79d49b6b9e7793da465df12",
            "444db2b4ae7647faa2413fb0210b9ced",
            "626ef15bdf364c2f825b006e7c9dccd1",
            "70dbc106871641d794ad27c43465591c",
            "0447b2d5d46944bb92f5860c27974461",
            "9728a946ceb944579c1519a378fe094d",
            "b1b79c7b810448b3b7c0baa1276307cf",
            "84b89d9e72fb42c29d805da387455b1f",
            "fc007186fc3d46f0a16d065965ac63cd",
            "0b56661f30ca4aa790edb79a4254458b",
            "9781b1964bcd4c06a78ee1695e9fe6b1",
            "6908b65daa3a43a887a96587af7c13f6",
            "f5af455c7ef84962a92fc68e52f6bc6b",
            "d119c24d20794391bff0411c6a8ce783",
            "77ded04ca8c347a9b08bc59aa00ffb67",
            "6c97848d3ef543d8890387f416139657",
            "ebca4b76c3af4978abbb6206d60feccd",
            "1dc6b5bdf32a4e36a96ac57eecb071eb",
            "0faffb1c35b84a0e8c7e85cef5b7d7b0",
            "750445d2dd5049b89e5c521728af8a16",
            "7246281ecb4f48a48457a789ce32c6d6",
            "242599d7cf084e7c833fa0186e914329",
            "d39d2fe0704b4ffb8c96d171a2729927",
            "9863441b1ccf41e6bd8e30676581f350",
            "55744777e1cc4986bf800c69effef471",
            "0b0c74b5b5e44ebcaddcbc50602e7eb3",
            "d18c0d5eadb44082a2a4b43f8f779a7d",
            "34c599510a1b472b8a3220610888eb35",
            "99d007fdf9604e25b6f9a97d6bf42cf9",
            "71d47a13151d4101a0d8dc659f2c0fb6",
            "fc3e7ea126334641ae656788e41ffecb",
            "a9d9410c62bf4e37be384d84ec485001",
            "3901c13c54d54b34bf41485e4a0002ce",
            "d6d59a94c68a4c11aa7e078f05e997a6",
            "e4059a73a62649b581d9645022299b5b",
            "1cace8c530ee416fb7bed18eeaeaaf5a",
            "5c3b7e782f63460ca9ef3842e39cf541",
            "2fb74efd374a4c078d32a53986b89877",
            "2815caa5ad15477680f2a60f5d980ce6",
            "8612fef6f4574557985af5005307c526",
            "950fbdc56305468191f1cf74dc4ad46c",
            "c43a34e190254294a22167cd9054abf2",
            "1f8d35ab53974f1f98e3647d728b2300",
            "61522241d6ce4ea48aa48fafbb051a9e",
            "a0d905113f6348a280399f3750b35c65",
            "6c50d10733024b2fa4f507280b79fa72",
            "7236375b22b145a39fa354cf5d7ff865",
            "980b49fa595c4dcc9765b6e9ce5bf420",
            "66d260b95334486d976f3af41ef2f01b",
            "698c6d5408024c1287472365a441def1",
            "18271df4c0b34ab39011e19fe848ef8a",
            "43a315a161944dc18dbd653603edb7fa",
            "08848b39250d46d9a58f2ea0ef905c34",
            "7bb8df39256b47278ffbcab5c996bde0",
            "5400ac784df344ac9d7eaed4a8ba72bf",
            "1f79736cee5641a2ba3118103ebd7042",
            "72d15d0b98d44fc982bc1a0a740ef239",
            "6c18e6c1c131485c93a70e9fb29da650",
            "934d43214ac6485c897b17e4fc6e6515",
            "21d719b422b640e0a3d2b1a1045be6a6",
            "c3bdb99302c347b5857416bbb5512f0f",
            "d0807b10f41946de87ef55219061cdc3",
            "d2eadda51be44144a50692f5b4468ad1",
            "efb87a4e607f45db91cf3504f80503dc",
            "c96cb83a414e4a9a9ec3bf21595bbacd",
            "e67f7d12d2b345ee81cd2e0f3f6ad668",
            "7f8f6dd780bf4b0496fcf48cc44771c7",
            "4d487df109b64be2be7b1d5b1173d22b",
            "ac875565a74247ee97e2813960093a71",
            "47fd8fa9b894419b883a4e45f5d6cb84",
            "33f383d9b9384116a91e158bb6afa984",
            "84bad33b5bf84874922e60f16d828781",
            "c7fdf2cc39d6483eb105eac1330fe3b2",
            "7bd92ae422984b98ab65ab912ae66bcc",
            "51ad1f33e48546e7b48655687adc7a78",
            "d2adf9559a6442e2a5ddd8234cdd6f37",
            "d715cee4081245b985c8a794799cfdb3",
            "b21243f3ec0448bbbed2e42a02b36269",
            "9c6f69d09c8c4efc930b393b71ec0800",
            "5b5a6fff0bb44bc3989881b46ef612ff",
            "4935d9b8b2f54fa482a2f805ddaed9bd",
            "e664268e7c294371bd6d9837df981545",
            "a89f169b9ec742b58e8e45bc84eb5fe2",
            "a9be356a419c4e849b2872657772e577",
            "ff4908a05a8a4ce1ad9cb0a724176c6d",
            "224fd2eb2f2c4320a071dea3f6a138f0",
            "35274970148349c89175839ba2dbc114",
            "1e75d87e296e4c99b952cf5112ef4547",
            "9a8101f460f14b47a75bc3830f2031a6",
            "e2af3bc4379c4740abde0b78b6194ba6",
            "03bfaf1a42d34fb5a81ddb3323e9a45c",
            "155d2992a81c43d8900f9762650bbbf6",
            "f0450c48075d46529053784f1858d201",
            "6fedcd2408af45f28dbb0e786b493b60",
            "e5fc5b84add74f728cceb3cc0b79bd3c",
            "45581077352c4e9c9c3d984b5de92cc7",
            "8334dd6f3bd04ba793442ebff87e1c46",
            "eff9a841773d4d41bf284e6d64feaf3b",
            "23ec9ecd91774854a332d8c726ada8c7",
            "2c2d395a3d3d4757ba2e4dbe72afa726",
            "6296d80e9543482ca14583e7cdf4d5b3",
            "eca60981e11647828e888aad0552b2bd",
            "eb9c9579b50a480682dc4e352dcc39d3",
            "80920df0f789427da3c5747667edb9b8",
            "0ea3c2a21dfa4ec3a113b1a4cd11c909",
            "7adc62912ee74ef398be8b407248bc88",
            "765b44aca3794106a320c5845756ed00",
            "f6178d0c7b7a47209968dab5bc7ab923",
            "8e2a7be35894483ab20dc1cb375a8c47",
            "5a00b488fabb46c2a9f095ab0110582c",
            "09e17bc33f224a829402d391ad7d5ec4",
            "daa7ee8a598d473298a25ba1100be910",
            "8f989609393f4fa1b68b56caea17de58",
            "7940d827a59148d684291ba3aa1c9877",
            "ce85f4b6f358463dabe927aa4652746e",
            "6b995ed78db342d7a0320f3167c86238",
            "6c87db3d777b4c2fbc50589f9ef65972",
            "0c682a11beb3445cbb33d00a7988e7f0",
            "7f3aa100e6a1404c9b60bdd0ea982022",
            "2def091da311450eaf8ec5a052b893d4",
            "2138bb556144411282877d9ea32b8bae",
            "db897766785d409abb6d27bc0c515bc3",
            "2efc6b9348cf49bcb67f135125644298",
            "4025f3ea251a4e20a33e58d3a01e07e4",
            "a5b4478444034e729cacda8add675414",
            "0699be451eb34e02a6e94e562785a14d",
            "8042e580fd634ac3a48244e6b0517697",
            "eb00e74dcc8f43959366dee9c950732a",
            "ec38a05ad675453c8415886d4d8ceb81",
            "5bf814ff776a4700ba66bf880606878e",
            "09ea08781eea4ca3adc4c56e7a714623",
            "b12624e139ed4f2f88b11971de7f4613",
            "af83752b591846d8b33b63df2fe9958c",
            "3f347e26cadf482db6512315ba7352aa",
            "f1f59d29a9c545ac910f434c8292fc0f",
            "68cadcd7270a438993f51a06adf63844",
            "89d8fd9ecdb44185b0507557f9311fce",
            "c3314362d5d345f0917a3ecdb52bd661",
            "72009b7f62c4440990caf0d3884757b2",
            "e9882a58e65e44b193e4719cca24cee1",
            "6a9d99e9742f4caeb8d36fe53cbc1972",
            "d13f96730d414d4da71636efe28e51eb",
            "b916147eb9a64d08bb7203adbb006a13",
            "cec974f0db6c453c9c5b2ea62195a5af",
            "199343e430cf46cdacbd4076562e3a40",
            "e72c52285b7f436bab21116ce640c05e",
            "0e6279917c664a0fa6a99b07ab51b675",
            "638f7931150c491193529fe3be6bdbcc",
            "648a39d9e77547ae888641d1abfa83f5",
            "b24010233b114fc28030c44caba44a1e",
            "11a8d65061de4e33b602c6923f5c21a9",
            "4f589f5f11d643cf80fe9d8197bfe3a5",
            "1244df54222f45a19124ba6769437e44",
            "74465bfec5654cb5a32f79f4902195ab",
            "7a852463f4d54e60a4ef28703b5d9402",
            "8d19193597c642e0affb8000eba75044",
            "1251ce3e7e144b32adc88dcd275300b7",
            "122c8d9f3caf48c7b53d90ea637c13cb",
            "50bce88a5b314d81a4a29e537d1ba5b2",
            "ac528b96168849e2833a0148840fffad",
            "bf749844dccf4ebf897c526c1149bce9",
            "c943289265984bd0beb12e892e490c19",
            "659653bcf4a544d8aca16103255cae65",
            "d6c9cd35ef144194b02a5e0db4ce458c",
            "a2ec9089467c436a9a7ec6eab71815df",
            "bf37d0a85df544d28d4827bffadb0b37",
            "3cbbcad2bb384fc291b418d38084251e",
            "ffa0729a071a4bee9335694234e679b7",
            "f81490bc3df74eababe89baf63bbaa78",
            "6e48f605ccc24edaac0fe73275127852",
            "29a21ec61cc343d2a729bf8cac7cb35e",
            "7d70953387ec4ef5afc299856785e38d"
          ]
        },
        "id": "Gi7FwqH8mHHM",
        "outputId": "8b4bff14-9f8c-4dd3-b789-741b9b3d34c3"
      },
      "outputs": [
        {
          "metadata": {
            "tags": null
          },
          "name": "stdout",
          "output_type": "stream",
          "text": [
            "Loading existing sampled dataset...\n"
          ]
        },
        {
          "metadata": {
            "tags": null
          },
          "name": "stderr",
          "output_type": "stream",
          "text": [
            "/usr/local/lib/python3.10/dist-packages/huggingface_hub/utils/_auth.py:94: UserWarning: \n",
            "The secret `HF_TOKEN` does not exist in your Colab secrets.\n",
            "To authenticate with the Hugging Face Hub, create a token in your settings tab (https://huggingface.co/settings/tokens), set it as secret in your Google Colab and restart your session.\n",
            "You will be able to reuse this secret in all of your notebooks.\n",
            "Please note that authentication is recommended but still optional to access public models or datasets.\n",
            "  warnings.warn(\n"
          ]
        },
        {
          "metadata": {
            "tags": null
          },
          "name": "stdout",
          "output_type": "stream",
          "text": [
            "Fine-tuned model already exists. Skipping fine-tuning...\n"
          ]
        },
        {
          "metadata": {
            "tags": null
          },
          "name": "stderr",
          "output_type": "stream",
          "text": [
            "\u001b[34m\u001b[1mwandb\u001b[0m: Using wandb-core as the SDK backend.  Please refer to https://wandb.me/wandb-core for more information.\n"
          ]
        },
        {
          "metadata": {
            "tags": null
          },
          "name": "stdout",
          "output_type": "stream",
          "text": [
            "Create sweep with ID: wd1vpw3g\n",
            "Sweep URL: https://wandb.ai/tokamak01823-new-york-university/gpt2-pruning-optimization/sweeps/wd1vpw3g\n"
          ]
        },
        {
          "metadata": {
            "tags": null
          },
          "name": "stderr",
          "output_type": "stream",
          "text": [
            "\u001b[34m\u001b[1mwandb\u001b[0m: Agent Starting Run: oayqa2js with config:\n",
            "\u001b[34m\u001b[1mwandb\u001b[0m: \tfirst_ratio: 0\n",
            "\u001b[34m\u001b[1mwandb\u001b[0m: \tlast_ratio: 0.1\n",
            "\u001b[34m\u001b[1mwandb\u001b[0m: \tmiddle_ratio: 0.3\n",
            "\u001b[34m\u001b[1mwandb\u001b[0m: Currently logged in as: \u001b[33mtokamak01823\u001b[0m (\u001b[33mtokamak01823-new-york-university\u001b[0m). Use \u001b[1m`wandb login --relogin`\u001b[0m to force relogin\n"
          ]
        },
        {
          "data": {
            "text/html": [
              "Tracking run with wandb version 0.18.7"
            ],
            "text/plain": [
              "<IPython.core.display.HTML object>"
            ]
          },
          "metadata": {},
          "output_type": "display_data"
        },
        {
          "data": {
            "text/html": [
              "Run data is saved locally in <code>/content/wandb/run-20241209_161616-oayqa2js</code>"
            ],
            "text/plain": [
              "<IPython.core.display.HTML object>"
            ]
          },
          "metadata": {},
          "output_type": "display_data"
        },
        {
          "data": {
            "text/html": [
              "Syncing run <strong><a href='https://wandb.ai/tokamak01823-new-york-university/gpt2-pruning-optimization/runs/oayqa2js' target=\"_blank\">misty-sweep-1</a></strong> to <a href='https://wandb.ai/tokamak01823-new-york-university/gpt2-pruning-optimization' target=\"_blank\">Weights & Biases</a> (<a href='https://wandb.me/developer-guide' target=\"_blank\">docs</a>)<br/>Sweep page: <a href='https://wandb.ai/tokamak01823-new-york-university/gpt2-pruning-optimization/sweeps/wd1vpw3g' target=\"_blank\">https://wandb.ai/tokamak01823-new-york-university/gpt2-pruning-optimization/sweeps/wd1vpw3g</a>"
            ],
            "text/plain": [
              "<IPython.core.display.HTML object>"
            ]
          },
          "metadata": {},
          "output_type": "display_data"
        },
        {
          "data": {
            "text/html": [
              " View project at <a href='https://wandb.ai/tokamak01823-new-york-university/gpt2-pruning-optimization' target=\"_blank\">https://wandb.ai/tokamak01823-new-york-university/gpt2-pruning-optimization</a>"
            ],
            "text/plain": [
              "<IPython.core.display.HTML object>"
            ]
          },
          "metadata": {},
          "output_type": "display_data"
        },
        {
          "data": {
            "text/html": [
              " View sweep at <a href='https://wandb.ai/tokamak01823-new-york-university/gpt2-pruning-optimization/sweeps/wd1vpw3g' target=\"_blank\">https://wandb.ai/tokamak01823-new-york-university/gpt2-pruning-optimization/sweeps/wd1vpw3g</a>"
            ],
            "text/plain": [
              "<IPython.core.display.HTML object>"
            ]
          },
          "metadata": {},
          "output_type": "display_data"
        },
        {
          "data": {
            "text/html": [
              " View run at <a href='https://wandb.ai/tokamak01823-new-york-university/gpt2-pruning-optimization/runs/oayqa2js' target=\"_blank\">https://wandb.ai/tokamak01823-new-york-university/gpt2-pruning-optimization/runs/oayqa2js</a>"
            ],
            "text/plain": [
              "<IPython.core.display.HTML object>"
            ]
          },
          "metadata": {},
          "output_type": "display_data"
        },
        {
          "metadata": {
            "tags": null
          },
          "name": "stderr",
          "output_type": "stream",
          "text": [
            "/usr/local/lib/python3.10/dist-packages/transformers/optimization.py:591: FutureWarning: This implementation of AdamW is deprecated and will be removed in a future version. Use the PyTorch implementation torch.optim.AdamW instead, or set `no_deprecation_warning=True` to disable this warning\n",
            "  warnings.warn(\n",
            "Re-training after pruning: 100%|██████████| 901/901 [03:28<00:00,  4.32it/s]\n"
          ]
        },
        {
          "metadata": {
            "tags": null
          },
          "name": "stdout",
          "output_type": "stream",
          "text": [
            "First test sample text:\n",
            "  Hurricanes are an ever @-@ present threat during the summer and fall season , which puts Galveston in Coastal Windstorm Area . Galveston Island and the Bolivar Peninsula are generally at the greatest risk among the communities near the Galveston Bay . However , though the island and peninsula provide some shielding , the bay shoreline still faces significant danger from storm surge . \n",
            "\n",
            "First test sample tokenized input_ids: tensor([[39419,   389,   281,  1683,  2488,    12,    31,  1944,  2372,  1141,\n",
            "           262,  3931,   290,  2121,  1622,   837,   543,  7584,  5027,  4223,\n",
            "           261,   287, 43513,  3086, 12135,  9498,   764,  5027,  4223,   261,\n",
            "          5451,   290,   262, 10797,   452,   283, 24078,   389,  4143,   379,\n",
            "           262,  6000,  2526,  1871,   262,  5348,  1474,   262,  5027,  4223,\n",
            "           261,  4696,   764,  2102,   837,   996,   262,  7022,   290, 28080,\n",
            "          2148,   617, 43539,   837,   262, 15489, 15191,  1370,   991,  6698,\n",
            "          2383,  3514,   422,  6388, 13853,   764,   220,   198]])\n",
            "Decoded text from tokenized input:  Hurricanes are an ever @-@ present threat during the summer and fall season , which puts Galveston in Coastal Windstorm Area . Galveston Island and the Bolivar Peninsula are generally at the greatest risk among the communities near the Galveston Bay . However , though the island and peninsula provide some shielding , the bay shoreline still faces significant danger from storm surge . \n",
            "\n",
            "Test Perplexity: 1.0769, Test Accuracy: 0.7261\n"
          ]
        },
        {
          "data": {
            "application/vnd.jupyter.widget-view+json": {
              "model_id": "de95ef3bc3b041ce90997c2df9848424",
              "version_major": 2,
              "version_minor": 0
            },
            "text/plain": [
              "VBox(children=(Label(value='0.014 MB of 0.014 MB uploaded\\r'), FloatProgress(value=1.0, max=1.0)))"
            ]
          },
          "metadata": {},
          "output_type": "display_data"
        },
        {
          "data": {
            "text/html": [
              "\n",
              "    <style>\n",
              "        .wandb-row {\n",
              "            display: flex;\n",
              "            flex-direction: row;\n",
              "            flex-wrap: wrap;\n",
              "            justify-content: flex-start;\n",
              "            width: 100%;\n",
              "        }\n",
              "        .wandb-col {\n",
              "            display: flex;\n",
              "            flex-direction: column;\n",
              "            flex-basis: 100%;\n",
              "            flex: 1;\n",
              "            padding: 10px;\n",
              "        }\n",
              "    </style>\n",
              "<div class=\"wandb-row\"><div class=\"wandb-col\"><h3>Run history:</h3><br/><table class=\"wandb\"><tr><td>accuracy</td><td>▁</td></tr><tr><td>perplexity</td><td>▁</td></tr><tr><td>train_loss</td><td>▁</td></tr></table><br/></div><div class=\"wandb-col\"><h3>Run summary:</h3><br/><table class=\"wandb\"><tr><td>accuracy</td><td>0.72608</td></tr><tr><td>perplexity</td><td>1.07686</td></tr><tr><td>train_loss</td><td>0.19493</td></tr></table><br/></div></div>"
            ],
            "text/plain": [
              "<IPython.core.display.HTML object>"
            ]
          },
          "metadata": {},
          "output_type": "display_data"
        },
        {
          "data": {
            "text/html": [
              " View run <strong style=\"color:#cdcd00\">misty-sweep-1</strong> at: <a href='https://wandb.ai/tokamak01823-new-york-university/gpt2-pruning-optimization/runs/oayqa2js' target=\"_blank\">https://wandb.ai/tokamak01823-new-york-university/gpt2-pruning-optimization/runs/oayqa2js</a><br/> View project at: <a href='https://wandb.ai/tokamak01823-new-york-university/gpt2-pruning-optimization' target=\"_blank\">https://wandb.ai/tokamak01823-new-york-university/gpt2-pruning-optimization</a><br/>Synced 5 W&B file(s), 0 media file(s), 0 artifact file(s) and 0 other file(s)"
            ],
            "text/plain": [
              "<IPython.core.display.HTML object>"
            ]
          },
          "metadata": {},
          "output_type": "display_data"
        },
        {
          "data": {
            "text/html": [
              "Find logs at: <code>./wandb/run-20241209_161616-oayqa2js/logs</code>"
            ],
            "text/plain": [
              "<IPython.core.display.HTML object>"
            ]
          },
          "metadata": {},
          "output_type": "display_data"
        },
        {
          "metadata": {
            "tags": null
          },
          "name": "stderr",
          "output_type": "stream",
          "text": [
            "\u001b[34m\u001b[1mwandb\u001b[0m: Agent Starting Run: 1w8dk2u7 with config:\n",
            "\u001b[34m\u001b[1mwandb\u001b[0m: \tfirst_ratio: 0.7\n",
            "\u001b[34m\u001b[1mwandb\u001b[0m: \tlast_ratio: 0.5\n",
            "\u001b[34m\u001b[1mwandb\u001b[0m: \tmiddle_ratio: 0.9\n"
          ]
        },
        {
          "data": {
            "text/html": [
              "Tracking run with wandb version 0.18.7"
            ],
            "text/plain": [
              "<IPython.core.display.HTML object>"
            ]
          },
          "metadata": {},
          "output_type": "display_data"
        },
        {
          "data": {
            "text/html": [
              "Run data is saved locally in <code>/content/wandb/run-20241209_162017-1w8dk2u7</code>"
            ],
            "text/plain": [
              "<IPython.core.display.HTML object>"
            ]
          },
          "metadata": {},
          "output_type": "display_data"
        },
        {
          "data": {
            "text/html": [
              "Syncing run <strong><a href='https://wandb.ai/tokamak01823-new-york-university/gpt2-pruning-optimization/runs/1w8dk2u7' target=\"_blank\">silver-sweep-2</a></strong> to <a href='https://wandb.ai/tokamak01823-new-york-university/gpt2-pruning-optimization' target=\"_blank\">Weights & Biases</a> (<a href='https://wandb.me/developer-guide' target=\"_blank\">docs</a>)<br/>Sweep page: <a href='https://wandb.ai/tokamak01823-new-york-university/gpt2-pruning-optimization/sweeps/wd1vpw3g' target=\"_blank\">https://wandb.ai/tokamak01823-new-york-university/gpt2-pruning-optimization/sweeps/wd1vpw3g</a>"
            ],
            "text/plain": [
              "<IPython.core.display.HTML object>"
            ]
          },
          "metadata": {},
          "output_type": "display_data"
        },
        {
          "data": {
            "text/html": [
              " View project at <a href='https://wandb.ai/tokamak01823-new-york-university/gpt2-pruning-optimization' target=\"_blank\">https://wandb.ai/tokamak01823-new-york-university/gpt2-pruning-optimization</a>"
            ],
            "text/plain": [
              "<IPython.core.display.HTML object>"
            ]
          },
          "metadata": {},
          "output_type": "display_data"
        },
        {
          "data": {
            "text/html": [
              " View sweep at <a href='https://wandb.ai/tokamak01823-new-york-university/gpt2-pruning-optimization/sweeps/wd1vpw3g' target=\"_blank\">https://wandb.ai/tokamak01823-new-york-university/gpt2-pruning-optimization/sweeps/wd1vpw3g</a>"
            ],
            "text/plain": [
              "<IPython.core.display.HTML object>"
            ]
          },
          "metadata": {},
          "output_type": "display_data"
        },
        {
          "data": {
            "text/html": [
              " View run at <a href='https://wandb.ai/tokamak01823-new-york-university/gpt2-pruning-optimization/runs/1w8dk2u7' target=\"_blank\">https://wandb.ai/tokamak01823-new-york-university/gpt2-pruning-optimization/runs/1w8dk2u7</a>"
            ],
            "text/plain": [
              "<IPython.core.display.HTML object>"
            ]
          },
          "metadata": {},
          "output_type": "display_data"
        },
        {
          "metadata": {
            "tags": null
          },
          "name": "stderr",
          "output_type": "stream",
          "text": [
            "Re-training after pruning: 100%|██████████| 901/901 [03:20<00:00,  4.49it/s]\n"
          ]
        },
        {
          "metadata": {
            "tags": null
          },
          "name": "stdout",
          "output_type": "stream",
          "text": [
            "First test sample text:\n",
            "  Hurricanes are an ever @-@ present threat during the summer and fall season , which puts Galveston in Coastal Windstorm Area . Galveston Island and the Bolivar Peninsula are generally at the greatest risk among the communities near the Galveston Bay . However , though the island and peninsula provide some shielding , the bay shoreline still faces significant danger from storm surge . \n",
            "\n",
            "First test sample tokenized input_ids: tensor([[39419,   389,   281,  1683,  2488,    12,    31,  1944,  2372,  1141,\n",
            "           262,  3931,   290,  2121,  1622,   837,   543,  7584,  5027,  4223,\n",
            "           261,   287, 43513,  3086, 12135,  9498,   764,  5027,  4223,   261,\n",
            "          5451,   290,   262, 10797,   452,   283, 24078,   389,  4143,   379,\n",
            "           262,  6000,  2526,  1871,   262,  5348,  1474,   262,  5027,  4223,\n",
            "           261,  4696,   764,  2102,   837,   996,   262,  7022,   290, 28080,\n",
            "          2148,   617, 43539,   837,   262, 15489, 15191,  1370,   991,  6698,\n",
            "          2383,  3514,   422,  6388, 13853,   764,   220,   198]])\n",
            "Decoded text from tokenized input:  Hurricanes are an ever @-@ present threat during the summer and fall season , which puts Galveston in Coastal Windstorm Area . Galveston Island and the Bolivar Peninsula are generally at the greatest risk among the communities near the Galveston Bay . However , though the island and peninsula provide some shielding , the bay shoreline still faces significant danger from storm surge . \n",
            "\n",
            "Test Perplexity: 1.9905, Test Accuracy: 0.7271\n"
          ]
        },
        {
          "data": {
            "application/vnd.jupyter.widget-view+json": {
              "model_id": "0496d18b0d5e4d6092abdab5767d6484",
              "version_major": 2,
              "version_minor": 0
            },
            "text/plain": [
              "VBox(children=(Label(value='0.014 MB of 0.014 MB uploaded\\r'), FloatProgress(value=1.0, max=1.0)))"
            ]
          },
          "metadata": {},
          "output_type": "display_data"
        },
        {
          "data": {
            "text/html": [
              "\n",
              "    <style>\n",
              "        .wandb-row {\n",
              "            display: flex;\n",
              "            flex-direction: row;\n",
              "            flex-wrap: wrap;\n",
              "            justify-content: flex-start;\n",
              "            width: 100%;\n",
              "        }\n",
              "        .wandb-col {\n",
              "            display: flex;\n",
              "            flex-direction: column;\n",
              "            flex-basis: 100%;\n",
              "            flex: 1;\n",
              "            padding: 10px;\n",
              "        }\n",
              "    </style>\n",
              "<div class=\"wandb-row\"><div class=\"wandb-col\"><h3>Run history:</h3><br/><table class=\"wandb\"><tr><td>accuracy</td><td>▁</td></tr><tr><td>perplexity</td><td>▁</td></tr><tr><td>train_loss</td><td>▁</td></tr></table><br/></div><div class=\"wandb-col\"><h3>Run summary:</h3><br/><table class=\"wandb\"><tr><td>accuracy</td><td>0.72709</td></tr><tr><td>perplexity</td><td>1.99054</td></tr><tr><td>train_loss</td><td>1.28543</td></tr></table><br/></div></div>"
            ],
            "text/plain": [
              "<IPython.core.display.HTML object>"
            ]
          },
          "metadata": {},
          "output_type": "display_data"
        },
        {
          "data": {
            "text/html": [
              " View run <strong style=\"color:#cdcd00\">silver-sweep-2</strong> at: <a href='https://wandb.ai/tokamak01823-new-york-university/gpt2-pruning-optimization/runs/1w8dk2u7' target=\"_blank\">https://wandb.ai/tokamak01823-new-york-university/gpt2-pruning-optimization/runs/1w8dk2u7</a><br/> View project at: <a href='https://wandb.ai/tokamak01823-new-york-university/gpt2-pruning-optimization' target=\"_blank\">https://wandb.ai/tokamak01823-new-york-university/gpt2-pruning-optimization</a><br/>Synced 5 W&B file(s), 0 media file(s), 0 artifact file(s) and 0 other file(s)"
            ],
            "text/plain": [
              "<IPython.core.display.HTML object>"
            ]
          },
          "metadata": {},
          "output_type": "display_data"
        },
        {
          "data": {
            "text/html": [
              "Find logs at: <code>./wandb/run-20241209_162017-1w8dk2u7/logs</code>"
            ],
            "text/plain": [
              "<IPython.core.display.HTML object>"
            ]
          },
          "metadata": {},
          "output_type": "display_data"
        },
        {
          "metadata": {
            "tags": null
          },
          "name": "stderr",
          "output_type": "stream",
          "text": [
            "\u001b[34m\u001b[1mwandb\u001b[0m: Sweep Agent: Waiting for job.\n",
            "\u001b[34m\u001b[1mwandb\u001b[0m: Job received.\n",
            "\u001b[34m\u001b[1mwandb\u001b[0m: Agent Starting Run: 7qreyfeh with config:\n",
            "\u001b[34m\u001b[1mwandb\u001b[0m: \tfirst_ratio: 0.7\n",
            "\u001b[34m\u001b[1mwandb\u001b[0m: \tlast_ratio: 0.5\n",
            "\u001b[34m\u001b[1mwandb\u001b[0m: \tmiddle_ratio: 0.7\n"
          ]
        },
        {
          "data": {
            "text/html": [
              "Tracking run with wandb version 0.18.7"
            ],
            "text/plain": [
              "<IPython.core.display.HTML object>"
            ]
          },
          "metadata": {},
          "output_type": "display_data"
        },
        {
          "data": {
            "text/html": [
              "Run data is saved locally in <code>/content/wandb/run-20241209_162412-7qreyfeh</code>"
            ],
            "text/plain": [
              "<IPython.core.display.HTML object>"
            ]
          },
          "metadata": {},
          "output_type": "display_data"
        },
        {
          "data": {
            "text/html": [
              "Syncing run <strong><a href='https://wandb.ai/tokamak01823-new-york-university/gpt2-pruning-optimization/runs/7qreyfeh' target=\"_blank\">feasible-sweep-3</a></strong> to <a href='https://wandb.ai/tokamak01823-new-york-university/gpt2-pruning-optimization' target=\"_blank\">Weights & Biases</a> (<a href='https://wandb.me/developer-guide' target=\"_blank\">docs</a>)<br/>Sweep page: <a href='https://wandb.ai/tokamak01823-new-york-university/gpt2-pruning-optimization/sweeps/wd1vpw3g' target=\"_blank\">https://wandb.ai/tokamak01823-new-york-university/gpt2-pruning-optimization/sweeps/wd1vpw3g</a>"
            ],
            "text/plain": [
              "<IPython.core.display.HTML object>"
            ]
          },
          "metadata": {},
          "output_type": "display_data"
        },
        {
          "data": {
            "text/html": [
              " View project at <a href='https://wandb.ai/tokamak01823-new-york-university/gpt2-pruning-optimization' target=\"_blank\">https://wandb.ai/tokamak01823-new-york-university/gpt2-pruning-optimization</a>"
            ],
            "text/plain": [
              "<IPython.core.display.HTML object>"
            ]
          },
          "metadata": {},
          "output_type": "display_data"
        },
        {
          "data": {
            "text/html": [
              " View sweep at <a href='https://wandb.ai/tokamak01823-new-york-university/gpt2-pruning-optimization/sweeps/wd1vpw3g' target=\"_blank\">https://wandb.ai/tokamak01823-new-york-university/gpt2-pruning-optimization/sweeps/wd1vpw3g</a>"
            ],
            "text/plain": [
              "<IPython.core.display.HTML object>"
            ]
          },
          "metadata": {},
          "output_type": "display_data"
        },
        {
          "data": {
            "text/html": [
              " View run at <a href='https://wandb.ai/tokamak01823-new-york-university/gpt2-pruning-optimization/runs/7qreyfeh' target=\"_blank\">https://wandb.ai/tokamak01823-new-york-university/gpt2-pruning-optimization/runs/7qreyfeh</a>"
            ],
            "text/plain": [
              "<IPython.core.display.HTML object>"
            ]
          },
          "metadata": {},
          "output_type": "display_data"
        },
        {
          "metadata": {
            "tags": null
          },
          "name": "stderr",
          "output_type": "stream",
          "text": [
            "Re-training after pruning: 100%|██████████| 901/901 [03:21<00:00,  4.47it/s]\n"
          ]
        },
        {
          "metadata": {
            "tags": null
          },
          "name": "stdout",
          "output_type": "stream",
          "text": [
            "First test sample text:\n",
            "  Hurricanes are an ever @-@ present threat during the summer and fall season , which puts Galveston in Coastal Windstorm Area . Galveston Island and the Bolivar Peninsula are generally at the greatest risk among the communities near the Galveston Bay . However , though the island and peninsula provide some shielding , the bay shoreline still faces significant danger from storm surge . \n",
            "\n",
            "First test sample tokenized input_ids: tensor([[39419,   389,   281,  1683,  2488,    12,    31,  1944,  2372,  1141,\n",
            "           262,  3931,   290,  2121,  1622,   837,   543,  7584,  5027,  4223,\n",
            "           261,   287, 43513,  3086, 12135,  9498,   764,  5027,  4223,   261,\n",
            "          5451,   290,   262, 10797,   452,   283, 24078,   389,  4143,   379,\n",
            "           262,  6000,  2526,  1871,   262,  5348,  1474,   262,  5027,  4223,\n",
            "           261,  4696,   764,  2102,   837,   996,   262,  7022,   290, 28080,\n",
            "          2148,   617, 43539,   837,   262, 15489, 15191,  1370,   991,  6698,\n",
            "          2383,  3514,   422,  6388, 13853,   764,   220,   198]])\n",
            "Decoded text from tokenized input:  Hurricanes are an ever @-@ present threat during the summer and fall season , which puts Galveston in Coastal Windstorm Area . Galveston Island and the Bolivar Peninsula are generally at the greatest risk among the communities near the Galveston Bay . However , though the island and peninsula provide some shielding , the bay shoreline still faces significant danger from storm surge . \n",
            "\n",
            "Test Perplexity: 1.5910, Test Accuracy: 0.7264\n"
          ]
        },
        {
          "data": {
            "application/vnd.jupyter.widget-view+json": {
              "model_id": "e0812b1e90d349c9acbe54ba7f62dcea",
              "version_major": 2,
              "version_minor": 0
            },
            "text/plain": [
              "VBox(children=(Label(value='0.014 MB of 0.014 MB uploaded\\r'), FloatProgress(value=1.0, max=1.0)))"
            ]
          },
          "metadata": {},
          "output_type": "display_data"
        },
        {
          "data": {
            "text/html": [
              "\n",
              "    <style>\n",
              "        .wandb-row {\n",
              "            display: flex;\n",
              "            flex-direction: row;\n",
              "            flex-wrap: wrap;\n",
              "            justify-content: flex-start;\n",
              "            width: 100%;\n",
              "        }\n",
              "        .wandb-col {\n",
              "            display: flex;\n",
              "            flex-direction: column;\n",
              "            flex-basis: 100%;\n",
              "            flex: 1;\n",
              "            padding: 10px;\n",
              "        }\n",
              "    </style>\n",
              "<div class=\"wandb-row\"><div class=\"wandb-col\"><h3>Run history:</h3><br/><table class=\"wandb\"><tr><td>accuracy</td><td>▁</td></tr><tr><td>perplexity</td><td>▁</td></tr><tr><td>train_loss</td><td>▁</td></tr></table><br/></div><div class=\"wandb-col\"><h3>Run summary:</h3><br/><table class=\"wandb\"><tr><td>accuracy</td><td>0.72643</td></tr><tr><td>perplexity</td><td>1.59102</td></tr><tr><td>train_loss</td><td>0.96533</td></tr></table><br/></div></div>"
            ],
            "text/plain": [
              "<IPython.core.display.HTML object>"
            ]
          },
          "metadata": {},
          "output_type": "display_data"
        },
        {
          "data": {
            "text/html": [
              " View run <strong style=\"color:#cdcd00\">feasible-sweep-3</strong> at: <a href='https://wandb.ai/tokamak01823-new-york-university/gpt2-pruning-optimization/runs/7qreyfeh' target=\"_blank\">https://wandb.ai/tokamak01823-new-york-university/gpt2-pruning-optimization/runs/7qreyfeh</a><br/> View project at: <a href='https://wandb.ai/tokamak01823-new-york-university/gpt2-pruning-optimization' target=\"_blank\">https://wandb.ai/tokamak01823-new-york-university/gpt2-pruning-optimization</a><br/>Synced 5 W&B file(s), 0 media file(s), 0 artifact file(s) and 0 other file(s)"
            ],
            "text/plain": [
              "<IPython.core.display.HTML object>"
            ]
          },
          "metadata": {},
          "output_type": "display_data"
        },
        {
          "data": {
            "text/html": [
              "Find logs at: <code>./wandb/run-20241209_162412-7qreyfeh/logs</code>"
            ],
            "text/plain": [
              "<IPython.core.display.HTML object>"
            ]
          },
          "metadata": {},
          "output_type": "display_data"
        },
        {
          "metadata": {
            "tags": null
          },
          "name": "stderr",
          "output_type": "stream",
          "text": [
            "\u001b[34m\u001b[1mwandb\u001b[0m: Agent Starting Run: uvdky0mm with config:\n",
            "\u001b[34m\u001b[1mwandb\u001b[0m: \tfirst_ratio: 0.9\n",
            "\u001b[34m\u001b[1mwandb\u001b[0m: \tlast_ratio: 0.3\n",
            "\u001b[34m\u001b[1mwandb\u001b[0m: \tmiddle_ratio: 0\n"
          ]
        },
        {
          "data": {
            "text/html": [
              "Tracking run with wandb version 0.18.7"
            ],
            "text/plain": [
              "<IPython.core.display.HTML object>"
            ]
          },
          "metadata": {},
          "output_type": "display_data"
        },
        {
          "data": {
            "text/html": [
              "Run data is saved locally in <code>/content/wandb/run-20241209_162758-uvdky0mm</code>"
            ],
            "text/plain": [
              "<IPython.core.display.HTML object>"
            ]
          },
          "metadata": {},
          "output_type": "display_data"
        },
        {
          "data": {
            "text/html": [
              "Syncing run <strong><a href='https://wandb.ai/tokamak01823-new-york-university/gpt2-pruning-optimization/runs/uvdky0mm' target=\"_blank\">usual-sweep-4</a></strong> to <a href='https://wandb.ai/tokamak01823-new-york-university/gpt2-pruning-optimization' target=\"_blank\">Weights & Biases</a> (<a href='https://wandb.me/developer-guide' target=\"_blank\">docs</a>)<br/>Sweep page: <a href='https://wandb.ai/tokamak01823-new-york-university/gpt2-pruning-optimization/sweeps/wd1vpw3g' target=\"_blank\">https://wandb.ai/tokamak01823-new-york-university/gpt2-pruning-optimization/sweeps/wd1vpw3g</a>"
            ],
            "text/plain": [
              "<IPython.core.display.HTML object>"
            ]
          },
          "metadata": {},
          "output_type": "display_data"
        },
        {
          "data": {
            "text/html": [
              " View project at <a href='https://wandb.ai/tokamak01823-new-york-university/gpt2-pruning-optimization' target=\"_blank\">https://wandb.ai/tokamak01823-new-york-university/gpt2-pruning-optimization</a>"
            ],
            "text/plain": [
              "<IPython.core.display.HTML object>"
            ]
          },
          "metadata": {},
          "output_type": "display_data"
        },
        {
          "data": {
            "text/html": [
              " View sweep at <a href='https://wandb.ai/tokamak01823-new-york-university/gpt2-pruning-optimization/sweeps/wd1vpw3g' target=\"_blank\">https://wandb.ai/tokamak01823-new-york-university/gpt2-pruning-optimization/sweeps/wd1vpw3g</a>"
            ],
            "text/plain": [
              "<IPython.core.display.HTML object>"
            ]
          },
          "metadata": {},
          "output_type": "display_data"
        },
        {
          "data": {
            "text/html": [
              " View run at <a href='https://wandb.ai/tokamak01823-new-york-university/gpt2-pruning-optimization/runs/uvdky0mm' target=\"_blank\">https://wandb.ai/tokamak01823-new-york-university/gpt2-pruning-optimization/runs/uvdky0mm</a>"
            ],
            "text/plain": [
              "<IPython.core.display.HTML object>"
            ]
          },
          "metadata": {},
          "output_type": "display_data"
        },
        {
          "metadata": {
            "tags": null
          },
          "name": "stderr",
          "output_type": "stream",
          "text": [
            "Re-training after pruning: 100%|██████████| 901/901 [03:21<00:00,  4.48it/s]\n"
          ]
        },
        {
          "metadata": {
            "tags": null
          },
          "name": "stdout",
          "output_type": "stream",
          "text": [
            "First test sample text:\n",
            "  Hurricanes are an ever @-@ present threat during the summer and fall season , which puts Galveston in Coastal Windstorm Area . Galveston Island and the Bolivar Peninsula are generally at the greatest risk among the communities near the Galveston Bay . However , though the island and peninsula provide some shielding , the bay shoreline still faces significant danger from storm surge . \n",
            "\n",
            "First test sample tokenized input_ids: tensor([[39419,   389,   281,  1683,  2488,    12,    31,  1944,  2372,  1141,\n",
            "           262,  3931,   290,  2121,  1622,   837,   543,  7584,  5027,  4223,\n",
            "           261,   287, 43513,  3086, 12135,  9498,   764,  5027,  4223,   261,\n",
            "          5451,   290,   262, 10797,   452,   283, 24078,   389,  4143,   379,\n",
            "           262,  6000,  2526,  1871,   262,  5348,  1474,   262,  5027,  4223,\n",
            "           261,  4696,   764,  2102,   837,   996,   262,  7022,   290, 28080,\n",
            "          2148,   617, 43539,   837,   262, 15489, 15191,  1370,   991,  6698,\n",
            "          2383,  3514,   422,  6388, 13853,   764,   220,   198]])\n",
            "Decoded text from tokenized input:  Hurricanes are an ever @-@ present threat during the summer and fall season , which puts Galveston in Coastal Windstorm Area . Galveston Island and the Bolivar Peninsula are generally at the greatest risk among the communities near the Galveston Bay . However , though the island and peninsula provide some shielding , the bay shoreline still faces significant danger from storm surge . \n",
            "\n",
            "Test Perplexity: 1.8556, Test Accuracy: 0.7267\n"
          ]
        },
        {
          "data": {
            "application/vnd.jupyter.widget-view+json": {
              "model_id": "5ade10add594487ea7f7d3836eae4087",
              "version_major": 2,
              "version_minor": 0
            },
            "text/plain": [
              "VBox(children=(Label(value='0.014 MB of 0.014 MB uploaded\\r'), FloatProgress(value=1.0, max=1.0)))"
            ]
          },
          "metadata": {},
          "output_type": "display_data"
        },
        {
          "data": {
            "text/html": [
              "\n",
              "    <style>\n",
              "        .wandb-row {\n",
              "            display: flex;\n",
              "            flex-direction: row;\n",
              "            flex-wrap: wrap;\n",
              "            justify-content: flex-start;\n",
              "            width: 100%;\n",
              "        }\n",
              "        .wandb-col {\n",
              "            display: flex;\n",
              "            flex-direction: column;\n",
              "            flex-basis: 100%;\n",
              "            flex: 1;\n",
              "            padding: 10px;\n",
              "        }\n",
              "    </style>\n",
              "<div class=\"wandb-row\"><div class=\"wandb-col\"><h3>Run history:</h3><br/><table class=\"wandb\"><tr><td>accuracy</td><td>▁</td></tr><tr><td>perplexity</td><td>▁</td></tr><tr><td>train_loss</td><td>▁</td></tr></table><br/></div><div class=\"wandb-col\"><h3>Run summary:</h3><br/><table class=\"wandb\"><tr><td>accuracy</td><td>0.72674</td></tr><tr><td>perplexity</td><td>1.85562</td></tr><tr><td>train_loss</td><td>1.62847</td></tr></table><br/></div></div>"
            ],
            "text/plain": [
              "<IPython.core.display.HTML object>"
            ]
          },
          "metadata": {},
          "output_type": "display_data"
        },
        {
          "data": {
            "text/html": [
              " View run <strong style=\"color:#cdcd00\">usual-sweep-4</strong> at: <a href='https://wandb.ai/tokamak01823-new-york-university/gpt2-pruning-optimization/runs/uvdky0mm' target=\"_blank\">https://wandb.ai/tokamak01823-new-york-university/gpt2-pruning-optimization/runs/uvdky0mm</a><br/> View project at: <a href='https://wandb.ai/tokamak01823-new-york-university/gpt2-pruning-optimization' target=\"_blank\">https://wandb.ai/tokamak01823-new-york-university/gpt2-pruning-optimization</a><br/>Synced 5 W&B file(s), 0 media file(s), 0 artifact file(s) and 0 other file(s)"
            ],
            "text/plain": [
              "<IPython.core.display.HTML object>"
            ]
          },
          "metadata": {},
          "output_type": "display_data"
        },
        {
          "data": {
            "text/html": [
              "Find logs at: <code>./wandb/run-20241209_162758-uvdky0mm/logs</code>"
            ],
            "text/plain": [
              "<IPython.core.display.HTML object>"
            ]
          },
          "metadata": {},
          "output_type": "display_data"
        },
        {
          "metadata": {
            "tags": null
          },
          "name": "stderr",
          "output_type": "stream",
          "text": [
            "\u001b[34m\u001b[1mwandb\u001b[0m: Sweep Agent: Waiting for job.\n",
            "\u001b[34m\u001b[1mwandb\u001b[0m: Job received.\n",
            "\u001b[34m\u001b[1mwandb\u001b[0m: Agent Starting Run: kk30jav7 with config:\n",
            "\u001b[34m\u001b[1mwandb\u001b[0m: \tfirst_ratio: 0.1\n",
            "\u001b[34m\u001b[1mwandb\u001b[0m: \tlast_ratio: 0.5\n",
            "\u001b[34m\u001b[1mwandb\u001b[0m: \tmiddle_ratio: 0.7\n"
          ]
        },
        {
          "data": {
            "text/html": [
              "Tracking run with wandb version 0.18.7"
            ],
            "text/plain": [
              "<IPython.core.display.HTML object>"
            ]
          },
          "metadata": {},
          "output_type": "display_data"
        },
        {
          "data": {
            "text/html": [
              "Run data is saved locally in <code>/content/wandb/run-20241209_163153-kk30jav7</code>"
            ],
            "text/plain": [
              "<IPython.core.display.HTML object>"
            ]
          },
          "metadata": {},
          "output_type": "display_data"
        },
        {
          "data": {
            "text/html": [
              "Syncing run <strong><a href='https://wandb.ai/tokamak01823-new-york-university/gpt2-pruning-optimization/runs/kk30jav7' target=\"_blank\">fancy-sweep-5</a></strong> to <a href='https://wandb.ai/tokamak01823-new-york-university/gpt2-pruning-optimization' target=\"_blank\">Weights & Biases</a> (<a href='https://wandb.me/developer-guide' target=\"_blank\">docs</a>)<br/>Sweep page: <a href='https://wandb.ai/tokamak01823-new-york-university/gpt2-pruning-optimization/sweeps/wd1vpw3g' target=\"_blank\">https://wandb.ai/tokamak01823-new-york-university/gpt2-pruning-optimization/sweeps/wd1vpw3g</a>"
            ],
            "text/plain": [
              "<IPython.core.display.HTML object>"
            ]
          },
          "metadata": {},
          "output_type": "display_data"
        },
        {
          "data": {
            "text/html": [
              " View project at <a href='https://wandb.ai/tokamak01823-new-york-university/gpt2-pruning-optimization' target=\"_blank\">https://wandb.ai/tokamak01823-new-york-university/gpt2-pruning-optimization</a>"
            ],
            "text/plain": [
              "<IPython.core.display.HTML object>"
            ]
          },
          "metadata": {},
          "output_type": "display_data"
        },
        {
          "data": {
            "text/html": [
              " View sweep at <a href='https://wandb.ai/tokamak01823-new-york-university/gpt2-pruning-optimization/sweeps/wd1vpw3g' target=\"_blank\">https://wandb.ai/tokamak01823-new-york-university/gpt2-pruning-optimization/sweeps/wd1vpw3g</a>"
            ],
            "text/plain": [
              "<IPython.core.display.HTML object>"
            ]
          },
          "metadata": {},
          "output_type": "display_data"
        },
        {
          "data": {
            "text/html": [
              " View run at <a href='https://wandb.ai/tokamak01823-new-york-university/gpt2-pruning-optimization/runs/kk30jav7' target=\"_blank\">https://wandb.ai/tokamak01823-new-york-university/gpt2-pruning-optimization/runs/kk30jav7</a>"
            ],
            "text/plain": [
              "<IPython.core.display.HTML object>"
            ]
          },
          "metadata": {},
          "output_type": "display_data"
        },
        {
          "metadata": {
            "tags": null
          },
          "name": "stderr",
          "output_type": "stream",
          "text": [
            "Re-training after pruning: 100%|██████████| 901/901 [03:21<00:00,  4.48it/s]\n"
          ]
        },
        {
          "metadata": {
            "tags": null
          },
          "name": "stdout",
          "output_type": "stream",
          "text": [
            "First test sample text:\n",
            "  Hurricanes are an ever @-@ present threat during the summer and fall season , which puts Galveston in Coastal Windstorm Area . Galveston Island and the Bolivar Peninsula are generally at the greatest risk among the communities near the Galveston Bay . However , though the island and peninsula provide some shielding , the bay shoreline still faces significant danger from storm surge . \n",
            "\n",
            "First test sample tokenized input_ids: tensor([[39419,   389,   281,  1683,  2488,    12,    31,  1944,  2372,  1141,\n",
            "           262,  3931,   290,  2121,  1622,   837,   543,  7584,  5027,  4223,\n",
            "           261,   287, 43513,  3086, 12135,  9498,   764,  5027,  4223,   261,\n",
            "          5451,   290,   262, 10797,   452,   283, 24078,   389,  4143,   379,\n",
            "           262,  6000,  2526,  1871,   262,  5348,  1474,   262,  5027,  4223,\n",
            "           261,  4696,   764,  2102,   837,   996,   262,  7022,   290, 28080,\n",
            "          2148,   617, 43539,   837,   262, 15489, 15191,  1370,   991,  6698,\n",
            "          2383,  3514,   422,  6388, 13853,   764,   220,   198]])\n",
            "Decoded text from tokenized input:  Hurricanes are an ever @-@ present threat during the summer and fall season , which puts Galveston in Coastal Windstorm Area . Galveston Island and the Bolivar Peninsula are generally at the greatest risk among the communities near the Galveston Bay . However , though the island and peninsula provide some shielding , the bay shoreline still faces significant danger from storm surge . \n",
            "\n",
            "Test Perplexity: 1.3295, Test Accuracy: 0.7262\n"
          ]
        },
        {
          "data": {
            "application/vnd.jupyter.widget-view+json": {
              "model_id": "f6978a12c8d24ef0a7e40efa728dab88",
              "version_major": 2,
              "version_minor": 0
            },
            "text/plain": [
              "VBox(children=(Label(value='0.014 MB of 0.014 MB uploaded\\r'), FloatProgress(value=1.0, max=1.0)))"
            ]
          },
          "metadata": {},
          "output_type": "display_data"
        },
        {
          "data": {
            "text/html": [
              "\n",
              "    <style>\n",
              "        .wandb-row {\n",
              "            display: flex;\n",
              "            flex-direction: row;\n",
              "            flex-wrap: wrap;\n",
              "            justify-content: flex-start;\n",
              "            width: 100%;\n",
              "        }\n",
              "        .wandb-col {\n",
              "            display: flex;\n",
              "            flex-direction: column;\n",
              "            flex-basis: 100%;\n",
              "            flex: 1;\n",
              "            padding: 10px;\n",
              "        }\n",
              "    </style>\n",
              "<div class=\"wandb-row\"><div class=\"wandb-col\"><h3>Run history:</h3><br/><table class=\"wandb\"><tr><td>accuracy</td><td>▁</td></tr><tr><td>perplexity</td><td>▁</td></tr><tr><td>train_loss</td><td>▁</td></tr></table><br/></div><div class=\"wandb-col\"><h3>Run summary:</h3><br/><table class=\"wandb\"><tr><td>accuracy</td><td>0.7262</td></tr><tr><td>perplexity</td><td>1.32948</td></tr><tr><td>train_loss</td><td>0.59526</td></tr></table><br/></div></div>"
            ],
            "text/plain": [
              "<IPython.core.display.HTML object>"
            ]
          },
          "metadata": {},
          "output_type": "display_data"
        },
        {
          "data": {
            "text/html": [
              " View run <strong style=\"color:#cdcd00\">fancy-sweep-5</strong> at: <a href='https://wandb.ai/tokamak01823-new-york-university/gpt2-pruning-optimization/runs/kk30jav7' target=\"_blank\">https://wandb.ai/tokamak01823-new-york-university/gpt2-pruning-optimization/runs/kk30jav7</a><br/> View project at: <a href='https://wandb.ai/tokamak01823-new-york-university/gpt2-pruning-optimization' target=\"_blank\">https://wandb.ai/tokamak01823-new-york-university/gpt2-pruning-optimization</a><br/>Synced 5 W&B file(s), 0 media file(s), 0 artifact file(s) and 0 other file(s)"
            ],
            "text/plain": [
              "<IPython.core.display.HTML object>"
            ]
          },
          "metadata": {},
          "output_type": "display_data"
        },
        {
          "data": {
            "text/html": [
              "Find logs at: <code>./wandb/run-20241209_163153-kk30jav7/logs</code>"
            ],
            "text/plain": [
              "<IPython.core.display.HTML object>"
            ]
          },
          "metadata": {},
          "output_type": "display_data"
        },
        {
          "metadata": {
            "tags": null
          },
          "name": "stderr",
          "output_type": "stream",
          "text": [
            "\u001b[34m\u001b[1mwandb\u001b[0m: Agent Starting Run: o3hgtkx6 with config:\n",
            "\u001b[34m\u001b[1mwandb\u001b[0m: \tfirst_ratio: 0.1\n",
            "\u001b[34m\u001b[1mwandb\u001b[0m: \tlast_ratio: 0.5\n",
            "\u001b[34m\u001b[1mwandb\u001b[0m: \tmiddle_ratio: 0\n"
          ]
        },
        {
          "data": {
            "text/html": [
              "Tracking run with wandb version 0.18.7"
            ],
            "text/plain": [
              "<IPython.core.display.HTML object>"
            ]
          },
          "metadata": {},
          "output_type": "display_data"
        },
        {
          "data": {
            "text/html": [
              "Run data is saved locally in <code>/content/wandb/run-20241209_163544-o3hgtkx6</code>"
            ],
            "text/plain": [
              "<IPython.core.display.HTML object>"
            ]
          },
          "metadata": {},
          "output_type": "display_data"
        },
        {
          "data": {
            "text/html": [
              "Syncing run <strong><a href='https://wandb.ai/tokamak01823-new-york-university/gpt2-pruning-optimization/runs/o3hgtkx6' target=\"_blank\">smooth-sweep-6</a></strong> to <a href='https://wandb.ai/tokamak01823-new-york-university/gpt2-pruning-optimization' target=\"_blank\">Weights & Biases</a> (<a href='https://wandb.me/developer-guide' target=\"_blank\">docs</a>)<br/>Sweep page: <a href='https://wandb.ai/tokamak01823-new-york-university/gpt2-pruning-optimization/sweeps/wd1vpw3g' target=\"_blank\">https://wandb.ai/tokamak01823-new-york-university/gpt2-pruning-optimization/sweeps/wd1vpw3g</a>"
            ],
            "text/plain": [
              "<IPython.core.display.HTML object>"
            ]
          },
          "metadata": {},
          "output_type": "display_data"
        },
        {
          "data": {
            "text/html": [
              " View project at <a href='https://wandb.ai/tokamak01823-new-york-university/gpt2-pruning-optimization' target=\"_blank\">https://wandb.ai/tokamak01823-new-york-university/gpt2-pruning-optimization</a>"
            ],
            "text/plain": [
              "<IPython.core.display.HTML object>"
            ]
          },
          "metadata": {},
          "output_type": "display_data"
        },
        {
          "data": {
            "text/html": [
              " View sweep at <a href='https://wandb.ai/tokamak01823-new-york-university/gpt2-pruning-optimization/sweeps/wd1vpw3g' target=\"_blank\">https://wandb.ai/tokamak01823-new-york-university/gpt2-pruning-optimization/sweeps/wd1vpw3g</a>"
            ],
            "text/plain": [
              "<IPython.core.display.HTML object>"
            ]
          },
          "metadata": {},
          "output_type": "display_data"
        },
        {
          "data": {
            "text/html": [
              " View run at <a href='https://wandb.ai/tokamak01823-new-york-university/gpt2-pruning-optimization/runs/o3hgtkx6' target=\"_blank\">https://wandb.ai/tokamak01823-new-york-university/gpt2-pruning-optimization/runs/o3hgtkx6</a>"
            ],
            "text/plain": [
              "<IPython.core.display.HTML object>"
            ]
          },
          "metadata": {},
          "output_type": "display_data"
        },
        {
          "metadata": {
            "tags": null
          },
          "name": "stderr",
          "output_type": "stream",
          "text": [
            "Re-training after pruning: 100%|██████████| 901/901 [03:24<00:00,  4.41it/s]\n"
          ]
        },
        {
          "metadata": {
            "tags": null
          },
          "name": "stdout",
          "output_type": "stream",
          "text": [
            "First test sample text:\n",
            "  Hurricanes are an ever @-@ present threat during the summer and fall season , which puts Galveston in Coastal Windstorm Area . Galveston Island and the Bolivar Peninsula are generally at the greatest risk among the communities near the Galveston Bay . However , though the island and peninsula provide some shielding , the bay shoreline still faces significant danger from storm surge . \n",
            "\n",
            "First test sample tokenized input_ids: tensor([[39419,   389,   281,  1683,  2488,    12,    31,  1944,  2372,  1141,\n",
            "           262,  3931,   290,  2121,  1622,   837,   543,  7584,  5027,  4223,\n",
            "           261,   287, 43513,  3086, 12135,  9498,   764,  5027,  4223,   261,\n",
            "          5451,   290,   262, 10797,   452,   283, 24078,   389,  4143,   379,\n",
            "           262,  6000,  2526,  1871,   262,  5348,  1474,   262,  5027,  4223,\n",
            "           261,  4696,   764,  2102,   837,   996,   262,  7022,   290, 28080,\n",
            "          2148,   617, 43539,   837,   262, 15489, 15191,  1370,   991,  6698,\n",
            "          2383,  3514,   422,  6388, 13853,   764,   220,   198]])\n",
            "Decoded text from tokenized input:  Hurricanes are an ever @-@ present threat during the summer and fall season , which puts Galveston in Coastal Windstorm Area . Galveston Island and the Bolivar Peninsula are generally at the greatest risk among the communities near the Galveston Bay . However , though the island and peninsula provide some shielding , the bay shoreline still faces significant danger from storm surge . \n",
            "\n",
            "Test Perplexity: 1.1151, Test Accuracy: 0.7261\n"
          ]
        },
        {
          "data": {
            "application/vnd.jupyter.widget-view+json": {
              "model_id": "268438e9076f4140a7cb91fa845157dc",
              "version_major": 2,
              "version_minor": 0
            },
            "text/plain": [
              "VBox(children=(Label(value='0.014 MB of 0.014 MB uploaded\\r'), FloatProgress(value=1.0, max=1.0)))"
            ]
          },
          "metadata": {},
          "output_type": "display_data"
        },
        {
          "data": {
            "text/html": [
              "\n",
              "    <style>\n",
              "        .wandb-row {\n",
              "            display: flex;\n",
              "            flex-direction: row;\n",
              "            flex-wrap: wrap;\n",
              "            justify-content: flex-start;\n",
              "            width: 100%;\n",
              "        }\n",
              "        .wandb-col {\n",
              "            display: flex;\n",
              "            flex-direction: column;\n",
              "            flex-basis: 100%;\n",
              "            flex: 1;\n",
              "            padding: 10px;\n",
              "        }\n",
              "    </style>\n",
              "<div class=\"wandb-row\"><div class=\"wandb-col\"><h3>Run history:</h3><br/><table class=\"wandb\"><tr><td>accuracy</td><td>▁</td></tr><tr><td>perplexity</td><td>▁</td></tr><tr><td>train_loss</td><td>▁</td></tr></table><br/></div><div class=\"wandb-col\"><h3>Run summary:</h3><br/><table class=\"wandb\"><tr><td>accuracy</td><td>0.72611</td></tr><tr><td>perplexity</td><td>1.11507</td></tr><tr><td>train_loss</td><td>0.27971</td></tr></table><br/></div></div>"
            ],
            "text/plain": [
              "<IPython.core.display.HTML object>"
            ]
          },
          "metadata": {},
          "output_type": "display_data"
        },
        {
          "data": {
            "text/html": [
              " View run <strong style=\"color:#cdcd00\">smooth-sweep-6</strong> at: <a href='https://wandb.ai/tokamak01823-new-york-university/gpt2-pruning-optimization/runs/o3hgtkx6' target=\"_blank\">https://wandb.ai/tokamak01823-new-york-university/gpt2-pruning-optimization/runs/o3hgtkx6</a><br/> View project at: <a href='https://wandb.ai/tokamak01823-new-york-university/gpt2-pruning-optimization' target=\"_blank\">https://wandb.ai/tokamak01823-new-york-university/gpt2-pruning-optimization</a><br/>Synced 5 W&B file(s), 0 media file(s), 0 artifact file(s) and 0 other file(s)"
            ],
            "text/plain": [
              "<IPython.core.display.HTML object>"
            ]
          },
          "metadata": {},
          "output_type": "display_data"
        },
        {
          "data": {
            "text/html": [
              "Find logs at: <code>./wandb/run-20241209_163544-o3hgtkx6/logs</code>"
            ],
            "text/plain": [
              "<IPython.core.display.HTML object>"
            ]
          },
          "metadata": {},
          "output_type": "display_data"
        },
        {
          "metadata": {
            "tags": null
          },
          "name": "stderr",
          "output_type": "stream",
          "text": [
            "\u001b[34m\u001b[1mwandb\u001b[0m: Agent Starting Run: 5d9kjatg with config:\n",
            "\u001b[34m\u001b[1mwandb\u001b[0m: \tfirst_ratio: 0.1\n",
            "\u001b[34m\u001b[1mwandb\u001b[0m: \tlast_ratio: 0.7\n",
            "\u001b[34m\u001b[1mwandb\u001b[0m: \tmiddle_ratio: 0.3\n"
          ]
        },
        {
          "data": {
            "text/html": [
              "Tracking run with wandb version 0.18.7"
            ],
            "text/plain": [
              "<IPython.core.display.HTML object>"
            ]
          },
          "metadata": {},
          "output_type": "display_data"
        },
        {
          "data": {
            "text/html": [
              "Run data is saved locally in <code>/content/wandb/run-20241209_163935-5d9kjatg</code>"
            ],
            "text/plain": [
              "<IPython.core.display.HTML object>"
            ]
          },
          "metadata": {},
          "output_type": "display_data"
        },
        {
          "data": {
            "text/html": [
              "Syncing run <strong><a href='https://wandb.ai/tokamak01823-new-york-university/gpt2-pruning-optimization/runs/5d9kjatg' target=\"_blank\">prime-sweep-7</a></strong> to <a href='https://wandb.ai/tokamak01823-new-york-university/gpt2-pruning-optimization' target=\"_blank\">Weights & Biases</a> (<a href='https://wandb.me/developer-guide' target=\"_blank\">docs</a>)<br/>Sweep page: <a href='https://wandb.ai/tokamak01823-new-york-university/gpt2-pruning-optimization/sweeps/wd1vpw3g' target=\"_blank\">https://wandb.ai/tokamak01823-new-york-university/gpt2-pruning-optimization/sweeps/wd1vpw3g</a>"
            ],
            "text/plain": [
              "<IPython.core.display.HTML object>"
            ]
          },
          "metadata": {},
          "output_type": "display_data"
        },
        {
          "data": {
            "text/html": [
              " View project at <a href='https://wandb.ai/tokamak01823-new-york-university/gpt2-pruning-optimization' target=\"_blank\">https://wandb.ai/tokamak01823-new-york-university/gpt2-pruning-optimization</a>"
            ],
            "text/plain": [
              "<IPython.core.display.HTML object>"
            ]
          },
          "metadata": {},
          "output_type": "display_data"
        },
        {
          "data": {
            "text/html": [
              " View sweep at <a href='https://wandb.ai/tokamak01823-new-york-university/gpt2-pruning-optimization/sweeps/wd1vpw3g' target=\"_blank\">https://wandb.ai/tokamak01823-new-york-university/gpt2-pruning-optimization/sweeps/wd1vpw3g</a>"
            ],
            "text/plain": [
              "<IPython.core.display.HTML object>"
            ]
          },
          "metadata": {},
          "output_type": "display_data"
        },
        {
          "data": {
            "text/html": [
              " View run at <a href='https://wandb.ai/tokamak01823-new-york-university/gpt2-pruning-optimization/runs/5d9kjatg' target=\"_blank\">https://wandb.ai/tokamak01823-new-york-university/gpt2-pruning-optimization/runs/5d9kjatg</a>"
            ],
            "text/plain": [
              "<IPython.core.display.HTML object>"
            ]
          },
          "metadata": {},
          "output_type": "display_data"
        },
        {
          "metadata": {
            "tags": null
          },
          "name": "stderr",
          "output_type": "stream",
          "text": [
            "Re-training after pruning: 100%|██████████| 901/901 [03:24<00:00,  4.40it/s]\n"
          ]
        },
        {
          "metadata": {
            "tags": null
          },
          "name": "stdout",
          "output_type": "stream",
          "text": [
            "First test sample text:\n",
            "  Hurricanes are an ever @-@ present threat during the summer and fall season , which puts Galveston in Coastal Windstorm Area . Galveston Island and the Bolivar Peninsula are generally at the greatest risk among the communities near the Galveston Bay . However , though the island and peninsula provide some shielding , the bay shoreline still faces significant danger from storm surge . \n",
            "\n",
            "First test sample tokenized input_ids: tensor([[39419,   389,   281,  1683,  2488,    12,    31,  1944,  2372,  1141,\n",
            "           262,  3931,   290,  2121,  1622,   837,   543,  7584,  5027,  4223,\n",
            "           261,   287, 43513,  3086, 12135,  9498,   764,  5027,  4223,   261,\n",
            "          5451,   290,   262, 10797,   452,   283, 24078,   389,  4143,   379,\n",
            "           262,  6000,  2526,  1871,   262,  5348,  1474,   262,  5027,  4223,\n",
            "           261,  4696,   764,  2102,   837,   996,   262,  7022,   290, 28080,\n",
            "          2148,   617, 43539,   837,   262, 15489, 15191,  1370,   991,  6698,\n",
            "          2383,  3514,   422,  6388, 13853,   764,   220,   198]])\n",
            "Decoded text from tokenized input:  Hurricanes are an ever @-@ present threat during the summer and fall season , which puts Galveston in Coastal Windstorm Area . Galveston Island and the Bolivar Peninsula are generally at the greatest risk among the communities near the Galveston Bay . However , though the island and peninsula provide some shielding , the bay shoreline still faces significant danger from storm surge . \n",
            "\n",
            "Test Perplexity: 1.3035, Test Accuracy: 0.7263\n"
          ]
        },
        {
          "data": {
            "application/vnd.jupyter.widget-view+json": {
              "model_id": "f46c7f8505c845c3ac5c09939d7f3ad1",
              "version_major": 2,
              "version_minor": 0
            },
            "text/plain": [
              "VBox(children=(Label(value='0.014 MB of 0.014 MB uploaded\\r'), FloatProgress(value=1.0, max=1.0)))"
            ]
          },
          "metadata": {},
          "output_type": "display_data"
        },
        {
          "data": {
            "text/html": [
              "\n",
              "    <style>\n",
              "        .wandb-row {\n",
              "            display: flex;\n",
              "            flex-direction: row;\n",
              "            flex-wrap: wrap;\n",
              "            justify-content: flex-start;\n",
              "            width: 100%;\n",
              "        }\n",
              "        .wandb-col {\n",
              "            display: flex;\n",
              "            flex-direction: column;\n",
              "            flex-basis: 100%;\n",
              "            flex: 1;\n",
              "            padding: 10px;\n",
              "        }\n",
              "    </style>\n",
              "<div class=\"wandb-row\"><div class=\"wandb-col\"><h3>Run history:</h3><br/><table class=\"wandb\"><tr><td>accuracy</td><td>▁</td></tr><tr><td>perplexity</td><td>▁</td></tr><tr><td>train_loss</td><td>▁</td></tr></table><br/></div><div class=\"wandb-col\"><h3>Run summary:</h3><br/><table class=\"wandb\"><tr><td>accuracy</td><td>0.72628</td></tr><tr><td>perplexity</td><td>1.30354</td></tr><tr><td>train_loss</td><td>0.53133</td></tr></table><br/></div></div>"
            ],
            "text/plain": [
              "<IPython.core.display.HTML object>"
            ]
          },
          "metadata": {},
          "output_type": "display_data"
        },
        {
          "data": {
            "text/html": [
              " View run <strong style=\"color:#cdcd00\">prime-sweep-7</strong> at: <a href='https://wandb.ai/tokamak01823-new-york-university/gpt2-pruning-optimization/runs/5d9kjatg' target=\"_blank\">https://wandb.ai/tokamak01823-new-york-university/gpt2-pruning-optimization/runs/5d9kjatg</a><br/> View project at: <a href='https://wandb.ai/tokamak01823-new-york-university/gpt2-pruning-optimization' target=\"_blank\">https://wandb.ai/tokamak01823-new-york-university/gpt2-pruning-optimization</a><br/>Synced 5 W&B file(s), 0 media file(s), 0 artifact file(s) and 0 other file(s)"
            ],
            "text/plain": [
              "<IPython.core.display.HTML object>"
            ]
          },
          "metadata": {},
          "output_type": "display_data"
        },
        {
          "data": {
            "text/html": [
              "Find logs at: <code>./wandb/run-20241209_163935-5d9kjatg/logs</code>"
            ],
            "text/plain": [
              "<IPython.core.display.HTML object>"
            ]
          },
          "metadata": {},
          "output_type": "display_data"
        },
        {
          "metadata": {
            "tags": null
          },
          "name": "stderr",
          "output_type": "stream",
          "text": [
            "\u001b[34m\u001b[1mwandb\u001b[0m: Sweep Agent: Waiting for job.\n",
            "\u001b[34m\u001b[1mwandb\u001b[0m: Job received.\n",
            "\u001b[34m\u001b[1mwandb\u001b[0m: Agent Starting Run: luz78e9k with config:\n",
            "\u001b[34m\u001b[1mwandb\u001b[0m: \tfirst_ratio: 0.1\n",
            "\u001b[34m\u001b[1mwandb\u001b[0m: \tlast_ratio: 0.7\n",
            "\u001b[34m\u001b[1mwandb\u001b[0m: \tmiddle_ratio: 0\n"
          ]
        },
        {
          "data": {
            "text/html": [
              "Tracking run with wandb version 0.18.7"
            ],
            "text/plain": [
              "<IPython.core.display.HTML object>"
            ]
          },
          "metadata": {},
          "output_type": "display_data"
        },
        {
          "data": {
            "text/html": [
              "Run data is saved locally in <code>/content/wandb/run-20241209_164335-luz78e9k</code>"
            ],
            "text/plain": [
              "<IPython.core.display.HTML object>"
            ]
          },
          "metadata": {},
          "output_type": "display_data"
        },
        {
          "data": {
            "text/html": [
              "Syncing run <strong><a href='https://wandb.ai/tokamak01823-new-york-university/gpt2-pruning-optimization/runs/luz78e9k' target=\"_blank\">floral-sweep-8</a></strong> to <a href='https://wandb.ai/tokamak01823-new-york-university/gpt2-pruning-optimization' target=\"_blank\">Weights & Biases</a> (<a href='https://wandb.me/developer-guide' target=\"_blank\">docs</a>)<br/>Sweep page: <a href='https://wandb.ai/tokamak01823-new-york-university/gpt2-pruning-optimization/sweeps/wd1vpw3g' target=\"_blank\">https://wandb.ai/tokamak01823-new-york-university/gpt2-pruning-optimization/sweeps/wd1vpw3g</a>"
            ],
            "text/plain": [
              "<IPython.core.display.HTML object>"
            ]
          },
          "metadata": {},
          "output_type": "display_data"
        },
        {
          "data": {
            "text/html": [
              " View project at <a href='https://wandb.ai/tokamak01823-new-york-university/gpt2-pruning-optimization' target=\"_blank\">https://wandb.ai/tokamak01823-new-york-university/gpt2-pruning-optimization</a>"
            ],
            "text/plain": [
              "<IPython.core.display.HTML object>"
            ]
          },
          "metadata": {},
          "output_type": "display_data"
        },
        {
          "data": {
            "text/html": [
              " View sweep at <a href='https://wandb.ai/tokamak01823-new-york-university/gpt2-pruning-optimization/sweeps/wd1vpw3g' target=\"_blank\">https://wandb.ai/tokamak01823-new-york-university/gpt2-pruning-optimization/sweeps/wd1vpw3g</a>"
            ],
            "text/plain": [
              "<IPython.core.display.HTML object>"
            ]
          },
          "metadata": {},
          "output_type": "display_data"
        },
        {
          "data": {
            "text/html": [
              " View run at <a href='https://wandb.ai/tokamak01823-new-york-university/gpt2-pruning-optimization/runs/luz78e9k' target=\"_blank\">https://wandb.ai/tokamak01823-new-york-university/gpt2-pruning-optimization/runs/luz78e9k</a>"
            ],
            "text/plain": [
              "<IPython.core.display.HTML object>"
            ]
          },
          "metadata": {},
          "output_type": "display_data"
        },
        {
          "metadata": {
            "tags": null
          },
          "name": "stderr",
          "output_type": "stream",
          "text": [
            "Re-training after pruning: 100%|██████████| 901/901 [03:24<00:00,  4.40it/s]\n"
          ]
        },
        {
          "metadata": {
            "tags": null
          },
          "name": "stdout",
          "output_type": "stream",
          "text": [
            "First test sample text:\n",
            "  Hurricanes are an ever @-@ present threat during the summer and fall season , which puts Galveston in Coastal Windstorm Area . Galveston Island and the Bolivar Peninsula are generally at the greatest risk among the communities near the Galveston Bay . However , though the island and peninsula provide some shielding , the bay shoreline still faces significant danger from storm surge . \n",
            "\n",
            "First test sample tokenized input_ids: tensor([[39419,   389,   281,  1683,  2488,    12,    31,  1944,  2372,  1141,\n",
            "           262,  3931,   290,  2121,  1622,   837,   543,  7584,  5027,  4223,\n",
            "           261,   287, 43513,  3086, 12135,  9498,   764,  5027,  4223,   261,\n",
            "          5451,   290,   262, 10797,   452,   283, 24078,   389,  4143,   379,\n",
            "           262,  6000,  2526,  1871,   262,  5348,  1474,   262,  5027,  4223,\n",
            "           261,  4696,   764,  2102,   837,   996,   262,  7022,   290, 28080,\n",
            "          2148,   617, 43539,   837,   262, 15489, 15191,  1370,   991,  6698,\n",
            "          2383,  3514,   422,  6388, 13853,   764,   220,   198]])\n",
            "Decoded text from tokenized input:  Hurricanes are an ever @-@ present threat during the summer and fall season , which puts Galveston in Coastal Windstorm Area . Galveston Island and the Bolivar Peninsula are generally at the greatest risk among the communities near the Galveston Bay . However , though the island and peninsula provide some shielding , the bay shoreline still faces significant danger from storm surge . \n",
            "\n",
            "Test Perplexity: 1.2795, Test Accuracy: 0.7262\n"
          ]
        },
        {
          "data": {
            "application/vnd.jupyter.widget-view+json": {
              "model_id": "c63d4f4071194e87b1d53826edd88456",
              "version_major": 2,
              "version_minor": 0
            },
            "text/plain": [
              "VBox(children=(Label(value='0.014 MB of 0.014 MB uploaded\\r'), FloatProgress(value=1.0, max=1.0)))"
            ]
          },
          "metadata": {},
          "output_type": "display_data"
        },
        {
          "data": {
            "text/html": [
              "\n",
              "    <style>\n",
              "        .wandb-row {\n",
              "            display: flex;\n",
              "            flex-direction: row;\n",
              "            flex-wrap: wrap;\n",
              "            justify-content: flex-start;\n",
              "            width: 100%;\n",
              "        }\n",
              "        .wandb-col {\n",
              "            display: flex;\n",
              "            flex-direction: column;\n",
              "            flex-basis: 100%;\n",
              "            flex: 1;\n",
              "            padding: 10px;\n",
              "        }\n",
              "    </style>\n",
              "<div class=\"wandb-row\"><div class=\"wandb-col\"><h3>Run history:</h3><br/><table class=\"wandb\"><tr><td>accuracy</td><td>▁</td></tr><tr><td>perplexity</td><td>▁</td></tr><tr><td>train_loss</td><td>▁</td></tr></table><br/></div><div class=\"wandb-col\"><h3>Run summary:</h3><br/><table class=\"wandb\"><tr><td>accuracy</td><td>0.72624</td></tr><tr><td>perplexity</td><td>1.27949</td></tr><tr><td>train_loss</td><td>0.50768</td></tr></table><br/></div></div>"
            ],
            "text/plain": [
              "<IPython.core.display.HTML object>"
            ]
          },
          "metadata": {},
          "output_type": "display_data"
        },
        {
          "data": {
            "text/html": [
              " View run <strong style=\"color:#cdcd00\">floral-sweep-8</strong> at: <a href='https://wandb.ai/tokamak01823-new-york-university/gpt2-pruning-optimization/runs/luz78e9k' target=\"_blank\">https://wandb.ai/tokamak01823-new-york-university/gpt2-pruning-optimization/runs/luz78e9k</a><br/> View project at: <a href='https://wandb.ai/tokamak01823-new-york-university/gpt2-pruning-optimization' target=\"_blank\">https://wandb.ai/tokamak01823-new-york-university/gpt2-pruning-optimization</a><br/>Synced 5 W&B file(s), 0 media file(s), 0 artifact file(s) and 0 other file(s)"
            ],
            "text/plain": [
              "<IPython.core.display.HTML object>"
            ]
          },
          "metadata": {},
          "output_type": "display_data"
        },
        {
          "data": {
            "text/html": [
              "Find logs at: <code>./wandb/run-20241209_164335-luz78e9k/logs</code>"
            ],
            "text/plain": [
              "<IPython.core.display.HTML object>"
            ]
          },
          "metadata": {},
          "output_type": "display_data"
        },
        {
          "metadata": {
            "tags": null
          },
          "name": "stderr",
          "output_type": "stream",
          "text": [
            "\u001b[34m\u001b[1mwandb\u001b[0m: Agent Starting Run: ga28qphs with config:\n",
            "\u001b[34m\u001b[1mwandb\u001b[0m: \tfirst_ratio: 0.3\n",
            "\u001b[34m\u001b[1mwandb\u001b[0m: \tlast_ratio: 0.1\n",
            "\u001b[34m\u001b[1mwandb\u001b[0m: \tmiddle_ratio: 0\n"
          ]
        },
        {
          "data": {
            "text/html": [
              "Tracking run with wandb version 0.18.7"
            ],
            "text/plain": [
              "<IPython.core.display.HTML object>"
            ]
          },
          "metadata": {},
          "output_type": "display_data"
        },
        {
          "data": {
            "text/html": [
              "Run data is saved locally in <code>/content/wandb/run-20241209_164726-ga28qphs</code>"
            ],
            "text/plain": [
              "<IPython.core.display.HTML object>"
            ]
          },
          "metadata": {},
          "output_type": "display_data"
        },
        {
          "data": {
            "text/html": [
              "Syncing run <strong><a href='https://wandb.ai/tokamak01823-new-york-university/gpt2-pruning-optimization/runs/ga28qphs' target=\"_blank\">eager-sweep-9</a></strong> to <a href='https://wandb.ai/tokamak01823-new-york-university/gpt2-pruning-optimization' target=\"_blank\">Weights & Biases</a> (<a href='https://wandb.me/developer-guide' target=\"_blank\">docs</a>)<br/>Sweep page: <a href='https://wandb.ai/tokamak01823-new-york-university/gpt2-pruning-optimization/sweeps/wd1vpw3g' target=\"_blank\">https://wandb.ai/tokamak01823-new-york-university/gpt2-pruning-optimization/sweeps/wd1vpw3g</a>"
            ],
            "text/plain": [
              "<IPython.core.display.HTML object>"
            ]
          },
          "metadata": {},
          "output_type": "display_data"
        },
        {
          "data": {
            "text/html": [
              " View project at <a href='https://wandb.ai/tokamak01823-new-york-university/gpt2-pruning-optimization' target=\"_blank\">https://wandb.ai/tokamak01823-new-york-university/gpt2-pruning-optimization</a>"
            ],
            "text/plain": [
              "<IPython.core.display.HTML object>"
            ]
          },
          "metadata": {},
          "output_type": "display_data"
        },
        {
          "data": {
            "text/html": [
              " View sweep at <a href='https://wandb.ai/tokamak01823-new-york-university/gpt2-pruning-optimization/sweeps/wd1vpw3g' target=\"_blank\">https://wandb.ai/tokamak01823-new-york-university/gpt2-pruning-optimization/sweeps/wd1vpw3g</a>"
            ],
            "text/plain": [
              "<IPython.core.display.HTML object>"
            ]
          },
          "metadata": {},
          "output_type": "display_data"
        },
        {
          "data": {
            "text/html": [
              " View run at <a href='https://wandb.ai/tokamak01823-new-york-university/gpt2-pruning-optimization/runs/ga28qphs' target=\"_blank\">https://wandb.ai/tokamak01823-new-york-university/gpt2-pruning-optimization/runs/ga28qphs</a>"
            ],
            "text/plain": [
              "<IPython.core.display.HTML object>"
            ]
          },
          "metadata": {},
          "output_type": "display_data"
        },
        {
          "metadata": {
            "tags": null
          },
          "name": "stderr",
          "output_type": "stream",
          "text": [
            "Re-training after pruning: 100%|██████████| 901/901 [03:23<00:00,  4.42it/s]\n"
          ]
        },
        {
          "metadata": {
            "tags": null
          },
          "name": "stdout",
          "output_type": "stream",
          "text": [
            "First test sample text:\n",
            "  Hurricanes are an ever @-@ present threat during the summer and fall season , which puts Galveston in Coastal Windstorm Area . Galveston Island and the Bolivar Peninsula are generally at the greatest risk among the communities near the Galveston Bay . However , though the island and peninsula provide some shielding , the bay shoreline still faces significant danger from storm surge . \n",
            "\n",
            "First test sample tokenized input_ids: tensor([[39419,   389,   281,  1683,  2488,    12,    31,  1944,  2372,  1141,\n",
            "           262,  3931,   290,  2121,  1622,   837,   543,  7584,  5027,  4223,\n",
            "           261,   287, 43513,  3086, 12135,  9498,   764,  5027,  4223,   261,\n",
            "          5451,   290,   262, 10797,   452,   283, 24078,   389,  4143,   379,\n",
            "           262,  6000,  2526,  1871,   262,  5348,  1474,   262,  5027,  4223,\n",
            "           261,  4696,   764,  2102,   837,   996,   262,  7022,   290, 28080,\n",
            "          2148,   617, 43539,   837,   262, 15489, 15191,  1370,   991,  6698,\n",
            "          2383,  3514,   422,  6388, 13853,   764,   220,   198]])\n",
            "Decoded text from tokenized input:  Hurricanes are an ever @-@ present threat during the summer and fall season , which puts Galveston in Coastal Windstorm Area . Galveston Island and the Bolivar Peninsula are generally at the greatest risk among the communities near the Galveston Bay . However , though the island and peninsula provide some shielding , the bay shoreline still faces significant danger from storm surge . \n",
            "\n",
            "Test Perplexity: 1.0726, Test Accuracy: 0.7260\n"
          ]
        },
        {
          "data": {
            "application/vnd.jupyter.widget-view+json": {
              "model_id": "de6aeb50d1e84a909e317decad03ecb1",
              "version_major": 2,
              "version_minor": 0
            },
            "text/plain": [
              "VBox(children=(Label(value='0.014 MB of 0.014 MB uploaded\\r'), FloatProgress(value=1.0, max=1.0)))"
            ]
          },
          "metadata": {},
          "output_type": "display_data"
        },
        {
          "data": {
            "text/html": [
              "\n",
              "    <style>\n",
              "        .wandb-row {\n",
              "            display: flex;\n",
              "            flex-direction: row;\n",
              "            flex-wrap: wrap;\n",
              "            justify-content: flex-start;\n",
              "            width: 100%;\n",
              "        }\n",
              "        .wandb-col {\n",
              "            display: flex;\n",
              "            flex-direction: column;\n",
              "            flex-basis: 100%;\n",
              "            flex: 1;\n",
              "            padding: 10px;\n",
              "        }\n",
              "    </style>\n",
              "<div class=\"wandb-row\"><div class=\"wandb-col\"><h3>Run history:</h3><br/><table class=\"wandb\"><tr><td>accuracy</td><td>▁</td></tr><tr><td>perplexity</td><td>▁</td></tr><tr><td>train_loss</td><td>▁</td></tr></table><br/></div><div class=\"wandb-col\"><h3>Run summary:</h3><br/><table class=\"wandb\"><tr><td>accuracy</td><td>0.72603</td></tr><tr><td>perplexity</td><td>1.0726</td></tr><tr><td>train_loss</td><td>0.19242</td></tr></table><br/></div></div>"
            ],
            "text/plain": [
              "<IPython.core.display.HTML object>"
            ]
          },
          "metadata": {},
          "output_type": "display_data"
        },
        {
          "data": {
            "text/html": [
              " View run <strong style=\"color:#cdcd00\">eager-sweep-9</strong> at: <a href='https://wandb.ai/tokamak01823-new-york-university/gpt2-pruning-optimization/runs/ga28qphs' target=\"_blank\">https://wandb.ai/tokamak01823-new-york-university/gpt2-pruning-optimization/runs/ga28qphs</a><br/> View project at: <a href='https://wandb.ai/tokamak01823-new-york-university/gpt2-pruning-optimization' target=\"_blank\">https://wandb.ai/tokamak01823-new-york-university/gpt2-pruning-optimization</a><br/>Synced 5 W&B file(s), 0 media file(s), 0 artifact file(s) and 0 other file(s)"
            ],
            "text/plain": [
              "<IPython.core.display.HTML object>"
            ]
          },
          "metadata": {},
          "output_type": "display_data"
        },
        {
          "data": {
            "text/html": [
              "Find logs at: <code>./wandb/run-20241209_164726-ga28qphs/logs</code>"
            ],
            "text/plain": [
              "<IPython.core.display.HTML object>"
            ]
          },
          "metadata": {},
          "output_type": "display_data"
        },
        {
          "metadata": {
            "tags": null
          },
          "name": "stderr",
          "output_type": "stream",
          "text": [
            "\u001b[34m\u001b[1mwandb\u001b[0m: Agent Starting Run: eewkf3cu with config:\n",
            "\u001b[34m\u001b[1mwandb\u001b[0m: \tfirst_ratio: 0\n",
            "\u001b[34m\u001b[1mwandb\u001b[0m: \tlast_ratio: 0.5\n",
            "\u001b[34m\u001b[1mwandb\u001b[0m: \tmiddle_ratio: 0.5\n"
          ]
        },
        {
          "data": {
            "text/html": [
              "Tracking run with wandb version 0.18.7"
            ],
            "text/plain": [
              "<IPython.core.display.HTML object>"
            ]
          },
          "metadata": {},
          "output_type": "display_data"
        },
        {
          "data": {
            "text/html": [
              "Run data is saved locally in <code>/content/wandb/run-20241209_165117-eewkf3cu</code>"
            ],
            "text/plain": [
              "<IPython.core.display.HTML object>"
            ]
          },
          "metadata": {},
          "output_type": "display_data"
        },
        {
          "data": {
            "text/html": [
              "Syncing run <strong><a href='https://wandb.ai/tokamak01823-new-york-university/gpt2-pruning-optimization/runs/eewkf3cu' target=\"_blank\">zesty-sweep-10</a></strong> to <a href='https://wandb.ai/tokamak01823-new-york-university/gpt2-pruning-optimization' target=\"_blank\">Weights & Biases</a> (<a href='https://wandb.me/developer-guide' target=\"_blank\">docs</a>)<br/>Sweep page: <a href='https://wandb.ai/tokamak01823-new-york-university/gpt2-pruning-optimization/sweeps/wd1vpw3g' target=\"_blank\">https://wandb.ai/tokamak01823-new-york-university/gpt2-pruning-optimization/sweeps/wd1vpw3g</a>"
            ],
            "text/plain": [
              "<IPython.core.display.HTML object>"
            ]
          },
          "metadata": {},
          "output_type": "display_data"
        },
        {
          "data": {
            "text/html": [
              " View project at <a href='https://wandb.ai/tokamak01823-new-york-university/gpt2-pruning-optimization' target=\"_blank\">https://wandb.ai/tokamak01823-new-york-university/gpt2-pruning-optimization</a>"
            ],
            "text/plain": [
              "<IPython.core.display.HTML object>"
            ]
          },
          "metadata": {},
          "output_type": "display_data"
        },
        {
          "data": {
            "text/html": [
              " View sweep at <a href='https://wandb.ai/tokamak01823-new-york-university/gpt2-pruning-optimization/sweeps/wd1vpw3g' target=\"_blank\">https://wandb.ai/tokamak01823-new-york-university/gpt2-pruning-optimization/sweeps/wd1vpw3g</a>"
            ],
            "text/plain": [
              "<IPython.core.display.HTML object>"
            ]
          },
          "metadata": {},
          "output_type": "display_data"
        },
        {
          "data": {
            "text/html": [
              " View run at <a href='https://wandb.ai/tokamak01823-new-york-university/gpt2-pruning-optimization/runs/eewkf3cu' target=\"_blank\">https://wandb.ai/tokamak01823-new-york-university/gpt2-pruning-optimization/runs/eewkf3cu</a>"
            ],
            "text/plain": [
              "<IPython.core.display.HTML object>"
            ]
          },
          "metadata": {},
          "output_type": "display_data"
        },
        {
          "metadata": {
            "tags": null
          },
          "name": "stderr",
          "output_type": "stream",
          "text": [
            "Re-training after pruning: 100%|██████████| 901/901 [03:21<00:00,  4.47it/s]\n"
          ]
        },
        {
          "metadata": {
            "tags": null
          },
          "name": "stdout",
          "output_type": "stream",
          "text": [
            "First test sample text:\n",
            "  Hurricanes are an ever @-@ present threat during the summer and fall season , which puts Galveston in Coastal Windstorm Area . Galveston Island and the Bolivar Peninsula are generally at the greatest risk among the communities near the Galveston Bay . However , though the island and peninsula provide some shielding , the bay shoreline still faces significant danger from storm surge . \n",
            "\n",
            "First test sample tokenized input_ids: tensor([[39419,   389,   281,  1683,  2488,    12,    31,  1944,  2372,  1141,\n",
            "           262,  3931,   290,  2121,  1622,   837,   543,  7584,  5027,  4223,\n",
            "           261,   287, 43513,  3086, 12135,  9498,   764,  5027,  4223,   261,\n",
            "          5451,   290,   262, 10797,   452,   283, 24078,   389,  4143,   379,\n",
            "           262,  6000,  2526,  1871,   262,  5348,  1474,   262,  5027,  4223,\n",
            "           261,  4696,   764,  2102,   837,   996,   262,  7022,   290, 28080,\n",
            "          2148,   617, 43539,   837,   262, 15489, 15191,  1370,   991,  6698,\n",
            "          2383,  3514,   422,  6388, 13853,   764,   220,   198]])\n",
            "Decoded text from tokenized input:  Hurricanes are an ever @-@ present threat during the summer and fall season , which puts Galveston in Coastal Windstorm Area . Galveston Island and the Bolivar Peninsula are generally at the greatest risk among the communities near the Galveston Bay . However , though the island and peninsula provide some shielding , the bay shoreline still faces significant danger from storm surge . \n",
            "\n",
            "Test Perplexity: 1.1772, Test Accuracy: 0.7261\n"
          ]
        },
        {
          "data": {
            "application/vnd.jupyter.widget-view+json": {
              "model_id": "eff02b8954a2416db590a9e1525293b2",
              "version_major": 2,
              "version_minor": 0
            },
            "text/plain": [
              "VBox(children=(Label(value='0.014 MB of 0.014 MB uploaded\\r'), FloatProgress(value=1.0, max=1.0)))"
            ]
          },
          "metadata": {},
          "output_type": "display_data"
        },
        {
          "data": {
            "text/html": [
              "\n",
              "    <style>\n",
              "        .wandb-row {\n",
              "            display: flex;\n",
              "            flex-direction: row;\n",
              "            flex-wrap: wrap;\n",
              "            justify-content: flex-start;\n",
              "            width: 100%;\n",
              "        }\n",
              "        .wandb-col {\n",
              "            display: flex;\n",
              "            flex-direction: column;\n",
              "            flex-basis: 100%;\n",
              "            flex: 1;\n",
              "            padding: 10px;\n",
              "        }\n",
              "    </style>\n",
              "<div class=\"wandb-row\"><div class=\"wandb-col\"><h3>Run history:</h3><br/><table class=\"wandb\"><tr><td>accuracy</td><td>▁</td></tr><tr><td>perplexity</td><td>▁</td></tr><tr><td>train_loss</td><td>▁</td></tr></table><br/></div><div class=\"wandb-col\"><h3>Run summary:</h3><br/><table class=\"wandb\"><tr><td>accuracy</td><td>0.72612</td></tr><tr><td>perplexity</td><td>1.17725</td></tr><tr><td>train_loss</td><td>0.39768</td></tr></table><br/></div></div>"
            ],
            "text/plain": [
              "<IPython.core.display.HTML object>"
            ]
          },
          "metadata": {},
          "output_type": "display_data"
        },
        {
          "data": {
            "text/html": [
              " View run <strong style=\"color:#cdcd00\">zesty-sweep-10</strong> at: <a href='https://wandb.ai/tokamak01823-new-york-university/gpt2-pruning-optimization/runs/eewkf3cu' target=\"_blank\">https://wandb.ai/tokamak01823-new-york-university/gpt2-pruning-optimization/runs/eewkf3cu</a><br/> View project at: <a href='https://wandb.ai/tokamak01823-new-york-university/gpt2-pruning-optimization' target=\"_blank\">https://wandb.ai/tokamak01823-new-york-university/gpt2-pruning-optimization</a><br/>Synced 5 W&B file(s), 0 media file(s), 0 artifact file(s) and 0 other file(s)"
            ],
            "text/plain": [
              "<IPython.core.display.HTML object>"
            ]
          },
          "metadata": {},
          "output_type": "display_data"
        },
        {
          "data": {
            "text/html": [
              "Find logs at: <code>./wandb/run-20241209_165117-eewkf3cu/logs</code>"
            ],
            "text/plain": [
              "<IPython.core.display.HTML object>"
            ]
          },
          "metadata": {},
          "output_type": "display_data"
        },
        {
          "metadata": {
            "tags": null
          },
          "name": "stderr",
          "output_type": "stream",
          "text": [
            "\u001b[34m\u001b[1mwandb\u001b[0m: Agent Starting Run: ieszm7q8 with config:\n",
            "\u001b[34m\u001b[1mwandb\u001b[0m: \tfirst_ratio: 0.1\n",
            "\u001b[34m\u001b[1mwandb\u001b[0m: \tlast_ratio: 0.7\n",
            "\u001b[34m\u001b[1mwandb\u001b[0m: \tmiddle_ratio: 0.5\n"
          ]
        },
        {
          "data": {
            "text/html": [
              "Tracking run with wandb version 0.18.7"
            ],
            "text/plain": [
              "<IPython.core.display.HTML object>"
            ]
          },
          "metadata": {},
          "output_type": "display_data"
        },
        {
          "data": {
            "text/html": [
              "Run data is saved locally in <code>/content/wandb/run-20241209_165506-ieszm7q8</code>"
            ],
            "text/plain": [
              "<IPython.core.display.HTML object>"
            ]
          },
          "metadata": {},
          "output_type": "display_data"
        },
        {
          "data": {
            "text/html": [
              "Syncing run <strong><a href='https://wandb.ai/tokamak01823-new-york-university/gpt2-pruning-optimization/runs/ieszm7q8' target=\"_blank\">blooming-sweep-11</a></strong> to <a href='https://wandb.ai/tokamak01823-new-york-university/gpt2-pruning-optimization' target=\"_blank\">Weights & Biases</a> (<a href='https://wandb.me/developer-guide' target=\"_blank\">docs</a>)<br/>Sweep page: <a href='https://wandb.ai/tokamak01823-new-york-university/gpt2-pruning-optimization/sweeps/wd1vpw3g' target=\"_blank\">https://wandb.ai/tokamak01823-new-york-university/gpt2-pruning-optimization/sweeps/wd1vpw3g</a>"
            ],
            "text/plain": [
              "<IPython.core.display.HTML object>"
            ]
          },
          "metadata": {},
          "output_type": "display_data"
        },
        {
          "data": {
            "text/html": [
              " View project at <a href='https://wandb.ai/tokamak01823-new-york-university/gpt2-pruning-optimization' target=\"_blank\">https://wandb.ai/tokamak01823-new-york-university/gpt2-pruning-optimization</a>"
            ],
            "text/plain": [
              "<IPython.core.display.HTML object>"
            ]
          },
          "metadata": {},
          "output_type": "display_data"
        },
        {
          "data": {
            "text/html": [
              " View sweep at <a href='https://wandb.ai/tokamak01823-new-york-university/gpt2-pruning-optimization/sweeps/wd1vpw3g' target=\"_blank\">https://wandb.ai/tokamak01823-new-york-university/gpt2-pruning-optimization/sweeps/wd1vpw3g</a>"
            ],
            "text/plain": [
              "<IPython.core.display.HTML object>"
            ]
          },
          "metadata": {},
          "output_type": "display_data"
        },
        {
          "data": {
            "text/html": [
              " View run at <a href='https://wandb.ai/tokamak01823-new-york-university/gpt2-pruning-optimization/runs/ieszm7q8' target=\"_blank\">https://wandb.ai/tokamak01823-new-york-university/gpt2-pruning-optimization/runs/ieszm7q8</a>"
            ],
            "text/plain": [
              "<IPython.core.display.HTML object>"
            ]
          },
          "metadata": {},
          "output_type": "display_data"
        },
        {
          "metadata": {
            "tags": null
          },
          "name": "stderr",
          "output_type": "stream",
          "text": [
            "Re-training after pruning: 100%|██████████| 901/901 [03:24<00:00,  4.41it/s]\n"
          ]
        },
        {
          "metadata": {
            "tags": null
          },
          "name": "stdout",
          "output_type": "stream",
          "text": [
            "First test sample text:\n",
            "  Hurricanes are an ever @-@ present threat during the summer and fall season , which puts Galveston in Coastal Windstorm Area . Galveston Island and the Bolivar Peninsula are generally at the greatest risk among the communities near the Galveston Bay . However , though the island and peninsula provide some shielding , the bay shoreline still faces significant danger from storm surge . \n",
            "\n",
            "First test sample tokenized input_ids: tensor([[39419,   389,   281,  1683,  2488,    12,    31,  1944,  2372,  1141,\n",
            "           262,  3931,   290,  2121,  1622,   837,   543,  7584,  5027,  4223,\n",
            "           261,   287, 43513,  3086, 12135,  9498,   764,  5027,  4223,   261,\n",
            "          5451,   290,   262, 10797,   452,   283, 24078,   389,  4143,   379,\n",
            "           262,  6000,  2526,  1871,   262,  5348,  1474,   262,  5027,  4223,\n",
            "           261,  4696,   764,  2102,   837,   996,   262,  7022,   290, 28080,\n",
            "          2148,   617, 43539,   837,   262, 15489, 15191,  1370,   991,  6698,\n",
            "          2383,  3514,   422,  6388, 13853,   764,   220,   198]])\n",
            "Decoded text from tokenized input:  Hurricanes are an ever @-@ present threat during the summer and fall season , which puts Galveston in Coastal Windstorm Area . Galveston Island and the Bolivar Peninsula are generally at the greatest risk among the communities near the Galveston Bay . However , though the island and peninsula provide some shielding , the bay shoreline still faces significant danger from storm surge . \n",
            "\n",
            "Test Perplexity: 1.3976, Test Accuracy: 0.7263\n"
          ]
        },
        {
          "data": {
            "application/vnd.jupyter.widget-view+json": {
              "model_id": "6884b391a794477ca74bc4d54af2faee",
              "version_major": 2,
              "version_minor": 0
            },
            "text/plain": [
              "VBox(children=(Label(value='0.014 MB of 0.014 MB uploaded\\r'), FloatProgress(value=1.0, max=1.0)))"
            ]
          },
          "metadata": {},
          "output_type": "display_data"
        },
        {
          "data": {
            "text/html": [
              "\n",
              "    <style>\n",
              "        .wandb-row {\n",
              "            display: flex;\n",
              "            flex-direction: row;\n",
              "            flex-wrap: wrap;\n",
              "            justify-content: flex-start;\n",
              "            width: 100%;\n",
              "        }\n",
              "        .wandb-col {\n",
              "            display: flex;\n",
              "            flex-direction: column;\n",
              "            flex-basis: 100%;\n",
              "            flex: 1;\n",
              "            padding: 10px;\n",
              "        }\n",
              "    </style>\n",
              "<div class=\"wandb-row\"><div class=\"wandb-col\"><h3>Run history:</h3><br/><table class=\"wandb\"><tr><td>accuracy</td><td>▁</td></tr><tr><td>perplexity</td><td>▁</td></tr><tr><td>train_loss</td><td>▁</td></tr></table><br/></div><div class=\"wandb-col\"><h3>Run summary:</h3><br/><table class=\"wandb\"><tr><td>accuracy</td><td>0.72627</td></tr><tr><td>perplexity</td><td>1.39755</td></tr><tr><td>train_loss</td><td>0.64351</td></tr></table><br/></div></div>"
            ],
            "text/plain": [
              "<IPython.core.display.HTML object>"
            ]
          },
          "metadata": {},
          "output_type": "display_data"
        },
        {
          "data": {
            "text/html": [
              " View run <strong style=\"color:#cdcd00\">blooming-sweep-11</strong> at: <a href='https://wandb.ai/tokamak01823-new-york-university/gpt2-pruning-optimization/runs/ieszm7q8' target=\"_blank\">https://wandb.ai/tokamak01823-new-york-university/gpt2-pruning-optimization/runs/ieszm7q8</a><br/> View project at: <a href='https://wandb.ai/tokamak01823-new-york-university/gpt2-pruning-optimization' target=\"_blank\">https://wandb.ai/tokamak01823-new-york-university/gpt2-pruning-optimization</a><br/>Synced 5 W&B file(s), 0 media file(s), 0 artifact file(s) and 0 other file(s)"
            ],
            "text/plain": [
              "<IPython.core.display.HTML object>"
            ]
          },
          "metadata": {},
          "output_type": "display_data"
        },
        {
          "data": {
            "text/html": [
              "Find logs at: <code>./wandb/run-20241209_165506-ieszm7q8/logs</code>"
            ],
            "text/plain": [
              "<IPython.core.display.HTML object>"
            ]
          },
          "metadata": {},
          "output_type": "display_data"
        },
        {
          "metadata": {
            "tags": null
          },
          "name": "stderr",
          "output_type": "stream",
          "text": [
            "\u001b[34m\u001b[1mwandb\u001b[0m: Sweep Agent: Waiting for job.\n",
            "\u001b[34m\u001b[1mwandb\u001b[0m: Job received.\n",
            "\u001b[34m\u001b[1mwandb\u001b[0m: Agent Starting Run: mr8t92mm with config:\n",
            "\u001b[34m\u001b[1mwandb\u001b[0m: \tfirst_ratio: 0\n",
            "\u001b[34m\u001b[1mwandb\u001b[0m: \tlast_ratio: 0.7\n",
            "\u001b[34m\u001b[1mwandb\u001b[0m: \tmiddle_ratio: 0.5\n"
          ]
        },
        {
          "data": {
            "text/html": [
              "Tracking run with wandb version 0.18.7"
            ],
            "text/plain": [
              "<IPython.core.display.HTML object>"
            ]
          },
          "metadata": {},
          "output_type": "display_data"
        },
        {
          "data": {
            "text/html": [
              "Run data is saved locally in <code>/content/wandb/run-20241209_165906-mr8t92mm</code>"
            ],
            "text/plain": [
              "<IPython.core.display.HTML object>"
            ]
          },
          "metadata": {},
          "output_type": "display_data"
        },
        {
          "data": {
            "text/html": [
              "Syncing run <strong><a href='https://wandb.ai/tokamak01823-new-york-university/gpt2-pruning-optimization/runs/mr8t92mm' target=\"_blank\">bright-sweep-12</a></strong> to <a href='https://wandb.ai/tokamak01823-new-york-university/gpt2-pruning-optimization' target=\"_blank\">Weights & Biases</a> (<a href='https://wandb.me/developer-guide' target=\"_blank\">docs</a>)<br/>Sweep page: <a href='https://wandb.ai/tokamak01823-new-york-university/gpt2-pruning-optimization/sweeps/wd1vpw3g' target=\"_blank\">https://wandb.ai/tokamak01823-new-york-university/gpt2-pruning-optimization/sweeps/wd1vpw3g</a>"
            ],
            "text/plain": [
              "<IPython.core.display.HTML object>"
            ]
          },
          "metadata": {},
          "output_type": "display_data"
        },
        {
          "data": {
            "text/html": [
              " View project at <a href='https://wandb.ai/tokamak01823-new-york-university/gpt2-pruning-optimization' target=\"_blank\">https://wandb.ai/tokamak01823-new-york-university/gpt2-pruning-optimization</a>"
            ],
            "text/plain": [
              "<IPython.core.display.HTML object>"
            ]
          },
          "metadata": {},
          "output_type": "display_data"
        },
        {
          "data": {
            "text/html": [
              " View sweep at <a href='https://wandb.ai/tokamak01823-new-york-university/gpt2-pruning-optimization/sweeps/wd1vpw3g' target=\"_blank\">https://wandb.ai/tokamak01823-new-york-university/gpt2-pruning-optimization/sweeps/wd1vpw3g</a>"
            ],
            "text/plain": [
              "<IPython.core.display.HTML object>"
            ]
          },
          "metadata": {},
          "output_type": "display_data"
        },
        {
          "data": {
            "text/html": [
              " View run at <a href='https://wandb.ai/tokamak01823-new-york-university/gpt2-pruning-optimization/runs/mr8t92mm' target=\"_blank\">https://wandb.ai/tokamak01823-new-york-university/gpt2-pruning-optimization/runs/mr8t92mm</a>"
            ],
            "text/plain": [
              "<IPython.core.display.HTML object>"
            ]
          },
          "metadata": {},
          "output_type": "display_data"
        },
        {
          "metadata": {
            "tags": null
          },
          "name": "stderr",
          "output_type": "stream",
          "text": [
            "Re-training after pruning: 100%|██████████| 901/901 [03:22<00:00,  4.44it/s]\n"
          ]
        },
        {
          "metadata": {
            "tags": null
          },
          "name": "stdout",
          "output_type": "stream",
          "text": [
            "First test sample text:\n",
            "  Hurricanes are an ever @-@ present threat during the summer and fall season , which puts Galveston in Coastal Windstorm Area . Galveston Island and the Bolivar Peninsula are generally at the greatest risk among the communities near the Galveston Bay . However , though the island and peninsula provide some shielding , the bay shoreline still faces significant danger from storm surge . \n",
            "\n",
            "First test sample tokenized input_ids: tensor([[39419,   389,   281,  1683,  2488,    12,    31,  1944,  2372,  1141,\n",
            "           262,  3931,   290,  2121,  1622,   837,   543,  7584,  5027,  4223,\n",
            "           261,   287, 43513,  3086, 12135,  9498,   764,  5027,  4223,   261,\n",
            "          5451,   290,   262, 10797,   452,   283, 24078,   389,  4143,   379,\n",
            "           262,  6000,  2526,  1871,   262,  5348,  1474,   262,  5027,  4223,\n",
            "           261,  4696,   764,  2102,   837,   996,   262,  7022,   290, 28080,\n",
            "          2148,   617, 43539,   837,   262, 15489, 15191,  1370,   991,  6698,\n",
            "          2383,  3514,   422,  6388, 13853,   764,   220,   198]])\n",
            "Decoded text from tokenized input:  Hurricanes are an ever @-@ present threat during the summer and fall season , which puts Galveston in Coastal Windstorm Area . Galveston Island and the Bolivar Peninsula are generally at the greatest risk among the communities near the Galveston Bay . However , though the island and peninsula provide some shielding , the bay shoreline still faces significant danger from storm surge . \n",
            "\n",
            "Test Perplexity: 1.3953, Test Accuracy: 0.7263\n"
          ]
        },
        {
          "data": {
            "text/html": [
              "\n",
              "    <style>\n",
              "        .wandb-row {\n",
              "            display: flex;\n",
              "            flex-direction: row;\n",
              "            flex-wrap: wrap;\n",
              "            justify-content: flex-start;\n",
              "            width: 100%;\n",
              "        }\n",
              "        .wandb-col {\n",
              "            display: flex;\n",
              "            flex-direction: column;\n",
              "            flex-basis: 100%;\n",
              "            flex: 1;\n",
              "            padding: 10px;\n",
              "        }\n",
              "    </style>\n",
              "<div class=\"wandb-row\"><div class=\"wandb-col\"><h3>Run history:</h3><br/><table class=\"wandb\"><tr><td>accuracy</td><td>▁</td></tr><tr><td>perplexity</td><td>▁</td></tr><tr><td>train_loss</td><td>▁</td></tr></table><br/></div><div class=\"wandb-col\"><h3>Run summary:</h3><br/><table class=\"wandb\"><tr><td>accuracy</td><td>0.72629</td></tr><tr><td>perplexity</td><td>1.39534</td></tr><tr><td>train_loss</td><td>0.63946</td></tr></table><br/></div></div>"
            ],
            "text/plain": [
              "<IPython.core.display.HTML object>"
            ]
          },
          "metadata": {},
          "output_type": "display_data"
        },
        {
          "data": {
            "text/html": [
              " View run <strong style=\"color:#cdcd00\">bright-sweep-12</strong> at: <a href='https://wandb.ai/tokamak01823-new-york-university/gpt2-pruning-optimization/runs/mr8t92mm' target=\"_blank\">https://wandb.ai/tokamak01823-new-york-university/gpt2-pruning-optimization/runs/mr8t92mm</a><br/> View project at: <a href='https://wandb.ai/tokamak01823-new-york-university/gpt2-pruning-optimization' target=\"_blank\">https://wandb.ai/tokamak01823-new-york-university/gpt2-pruning-optimization</a><br/>Synced 5 W&B file(s), 0 media file(s), 0 artifact file(s) and 0 other file(s)"
            ],
            "text/plain": [
              "<IPython.core.display.HTML object>"
            ]
          },
          "metadata": {},
          "output_type": "display_data"
        },
        {
          "data": {
            "text/html": [
              "Find logs at: <code>./wandb/run-20241209_165906-mr8t92mm/logs</code>"
            ],
            "text/plain": [
              "<IPython.core.display.HTML object>"
            ]
          },
          "metadata": {},
          "output_type": "display_data"
        },
        {
          "metadata": {
            "tags": null
          },
          "name": "stderr",
          "output_type": "stream",
          "text": [
            "\u001b[34m\u001b[1mwandb\u001b[0m: Agent Starting Run: m74rpr8n with config:\n",
            "\u001b[34m\u001b[1mwandb\u001b[0m: \tfirst_ratio: 0.3\n",
            "\u001b[34m\u001b[1mwandb\u001b[0m: \tlast_ratio: 0.9\n",
            "\u001b[34m\u001b[1mwandb\u001b[0m: \tmiddle_ratio: 0\n"
          ]
        },
        {
          "data": {
            "text/html": [
              "Tracking run with wandb version 0.18.7"
            ],
            "text/plain": [
              "<IPython.core.display.HTML object>"
            ]
          },
          "metadata": {},
          "output_type": "display_data"
        },
        {
          "data": {
            "text/html": [
              "Run data is saved locally in <code>/content/wandb/run-20241209_170258-m74rpr8n</code>"
            ],
            "text/plain": [
              "<IPython.core.display.HTML object>"
            ]
          },
          "metadata": {},
          "output_type": "display_data"
        },
        {
          "data": {
            "text/html": [
              "Syncing run <strong><a href='https://wandb.ai/tokamak01823-new-york-university/gpt2-pruning-optimization/runs/m74rpr8n' target=\"_blank\">spring-sweep-13</a></strong> to <a href='https://wandb.ai/tokamak01823-new-york-university/gpt2-pruning-optimization' target=\"_blank\">Weights & Biases</a> (<a href='https://wandb.me/developer-guide' target=\"_blank\">docs</a>)<br/>Sweep page: <a href='https://wandb.ai/tokamak01823-new-york-university/gpt2-pruning-optimization/sweeps/wd1vpw3g' target=\"_blank\">https://wandb.ai/tokamak01823-new-york-university/gpt2-pruning-optimization/sweeps/wd1vpw3g</a>"
            ],
            "text/plain": [
              "<IPython.core.display.HTML object>"
            ]
          },
          "metadata": {},
          "output_type": "display_data"
        },
        {
          "data": {
            "text/html": [
              " View project at <a href='https://wandb.ai/tokamak01823-new-york-university/gpt2-pruning-optimization' target=\"_blank\">https://wandb.ai/tokamak01823-new-york-university/gpt2-pruning-optimization</a>"
            ],
            "text/plain": [
              "<IPython.core.display.HTML object>"
            ]
          },
          "metadata": {},
          "output_type": "display_data"
        },
        {
          "data": {
            "text/html": [
              " View sweep at <a href='https://wandb.ai/tokamak01823-new-york-university/gpt2-pruning-optimization/sweeps/wd1vpw3g' target=\"_blank\">https://wandb.ai/tokamak01823-new-york-university/gpt2-pruning-optimization/sweeps/wd1vpw3g</a>"
            ],
            "text/plain": [
              "<IPython.core.display.HTML object>"
            ]
          },
          "metadata": {},
          "output_type": "display_data"
        },
        {
          "data": {
            "text/html": [
              " View run at <a href='https://wandb.ai/tokamak01823-new-york-university/gpt2-pruning-optimization/runs/m74rpr8n' target=\"_blank\">https://wandb.ai/tokamak01823-new-york-university/gpt2-pruning-optimization/runs/m74rpr8n</a>"
            ],
            "text/plain": [
              "<IPython.core.display.HTML object>"
            ]
          },
          "metadata": {},
          "output_type": "display_data"
        },
        {
          "metadata": {
            "tags": null
          },
          "name": "stderr",
          "output_type": "stream",
          "text": [
            "Re-training after pruning: 100%|██████████| 901/901 [03:23<00:00,  4.43it/s]\n"
          ]
        },
        {
          "metadata": {
            "tags": null
          },
          "name": "stdout",
          "output_type": "stream",
          "text": [
            "First test sample text:\n",
            "  Hurricanes are an ever @-@ present threat during the summer and fall season , which puts Galveston in Coastal Windstorm Area . Galveston Island and the Bolivar Peninsula are generally at the greatest risk among the communities near the Galveston Bay . However , though the island and peninsula provide some shielding , the bay shoreline still faces significant danger from storm surge . \n",
            "\n",
            "First test sample tokenized input_ids: tensor([[39419,   389,   281,  1683,  2488,    12,    31,  1944,  2372,  1141,\n",
            "           262,  3931,   290,  2121,  1622,   837,   543,  7584,  5027,  4223,\n",
            "           261,   287, 43513,  3086, 12135,  9498,   764,  5027,  4223,   261,\n",
            "          5451,   290,   262, 10797,   452,   283, 24078,   389,  4143,   379,\n",
            "           262,  6000,  2526,  1871,   262,  5348,  1474,   262,  5027,  4223,\n",
            "           261,  4696,   764,  2102,   837,   996,   262,  7022,   290, 28080,\n",
            "          2148,   617, 43539,   837,   262, 15489, 15191,  1370,   991,  6698,\n",
            "          2383,  3514,   422,  6388, 13853,   764,   220,   198]])\n",
            "Decoded text from tokenized input:  Hurricanes are an ever @-@ present threat during the summer and fall season , which puts Galveston in Coastal Windstorm Area . Galveston Island and the Bolivar Peninsula are generally at the greatest risk among the communities near the Galveston Bay . However , though the island and peninsula provide some shielding , the bay shoreline still faces significant danger from storm surge . \n",
            "\n",
            "Test Perplexity: 1.7159, Test Accuracy: 0.7268\n"
          ]
        },
        {
          "data": {
            "application/vnd.jupyter.widget-view+json": {
              "model_id": "2fded33c6ef54b1cbc2b50931bd329cc",
              "version_major": 2,
              "version_minor": 0
            },
            "text/plain": [
              "VBox(children=(Label(value='0.014 MB of 0.014 MB uploaded\\r'), FloatProgress(value=1.0, max=1.0)))"
            ]
          },
          "metadata": {},
          "output_type": "display_data"
        },
        {
          "data": {
            "text/html": [
              "\n",
              "    <style>\n",
              "        .wandb-row {\n",
              "            display: flex;\n",
              "            flex-direction: row;\n",
              "            flex-wrap: wrap;\n",
              "            justify-content: flex-start;\n",
              "            width: 100%;\n",
              "        }\n",
              "        .wandb-col {\n",
              "            display: flex;\n",
              "            flex-direction: column;\n",
              "            flex-basis: 100%;\n",
              "            flex: 1;\n",
              "            padding: 10px;\n",
              "        }\n",
              "    </style>\n",
              "<div class=\"wandb-row\"><div class=\"wandb-col\"><h3>Run history:</h3><br/><table class=\"wandb\"><tr><td>accuracy</td><td>▁</td></tr><tr><td>perplexity</td><td>▁</td></tr><tr><td>train_loss</td><td>▁</td></tr></table><br/></div><div class=\"wandb-col\"><h3>Run summary:</h3><br/><table class=\"wandb\"><tr><td>accuracy</td><td>0.72685</td></tr><tr><td>perplexity</td><td>1.71587</td></tr><tr><td>train_loss</td><td>0.89543</td></tr></table><br/></div></div>"
            ],
            "text/plain": [
              "<IPython.core.display.HTML object>"
            ]
          },
          "metadata": {},
          "output_type": "display_data"
        },
        {
          "data": {
            "text/html": [
              " View run <strong style=\"color:#cdcd00\">spring-sweep-13</strong> at: <a href='https://wandb.ai/tokamak01823-new-york-university/gpt2-pruning-optimization/runs/m74rpr8n' target=\"_blank\">https://wandb.ai/tokamak01823-new-york-university/gpt2-pruning-optimization/runs/m74rpr8n</a><br/> View project at: <a href='https://wandb.ai/tokamak01823-new-york-university/gpt2-pruning-optimization' target=\"_blank\">https://wandb.ai/tokamak01823-new-york-university/gpt2-pruning-optimization</a><br/>Synced 5 W&B file(s), 0 media file(s), 0 artifact file(s) and 0 other file(s)"
            ],
            "text/plain": [
              "<IPython.core.display.HTML object>"
            ]
          },
          "metadata": {},
          "output_type": "display_data"
        },
        {
          "data": {
            "text/html": [
              "Find logs at: <code>./wandb/run-20241209_170258-m74rpr8n/logs</code>"
            ],
            "text/plain": [
              "<IPython.core.display.HTML object>"
            ]
          },
          "metadata": {},
          "output_type": "display_data"
        },
        {
          "metadata": {
            "tags": null
          },
          "name": "stderr",
          "output_type": "stream",
          "text": [
            "\u001b[34m\u001b[1mwandb\u001b[0m: Agent Starting Run: hy7pfak9 with config:\n",
            "\u001b[34m\u001b[1mwandb\u001b[0m: \tfirst_ratio: 0.3\n",
            "\u001b[34m\u001b[1mwandb\u001b[0m: \tlast_ratio: 0.1\n",
            "\u001b[34m\u001b[1mwandb\u001b[0m: \tmiddle_ratio: 0\n"
          ]
        },
        {
          "data": {
            "text/html": [
              "Tracking run with wandb version 0.18.7"
            ],
            "text/plain": [
              "<IPython.core.display.HTML object>"
            ]
          },
          "metadata": {},
          "output_type": "display_data"
        },
        {
          "data": {
            "text/html": [
              "Run data is saved locally in <code>/content/wandb/run-20241209_170648-hy7pfak9</code>"
            ],
            "text/plain": [
              "<IPython.core.display.HTML object>"
            ]
          },
          "metadata": {},
          "output_type": "display_data"
        },
        {
          "data": {
            "text/html": [
              "Syncing run <strong><a href='https://wandb.ai/tokamak01823-new-york-university/gpt2-pruning-optimization/runs/hy7pfak9' target=\"_blank\">crisp-sweep-14</a></strong> to <a href='https://wandb.ai/tokamak01823-new-york-university/gpt2-pruning-optimization' target=\"_blank\">Weights & Biases</a> (<a href='https://wandb.me/developer-guide' target=\"_blank\">docs</a>)<br/>Sweep page: <a href='https://wandb.ai/tokamak01823-new-york-university/gpt2-pruning-optimization/sweeps/wd1vpw3g' target=\"_blank\">https://wandb.ai/tokamak01823-new-york-university/gpt2-pruning-optimization/sweeps/wd1vpw3g</a>"
            ],
            "text/plain": [
              "<IPython.core.display.HTML object>"
            ]
          },
          "metadata": {},
          "output_type": "display_data"
        },
        {
          "data": {
            "text/html": [
              " View project at <a href='https://wandb.ai/tokamak01823-new-york-university/gpt2-pruning-optimization' target=\"_blank\">https://wandb.ai/tokamak01823-new-york-university/gpt2-pruning-optimization</a>"
            ],
            "text/plain": [
              "<IPython.core.display.HTML object>"
            ]
          },
          "metadata": {},
          "output_type": "display_data"
        },
        {
          "data": {
            "text/html": [
              " View sweep at <a href='https://wandb.ai/tokamak01823-new-york-university/gpt2-pruning-optimization/sweeps/wd1vpw3g' target=\"_blank\">https://wandb.ai/tokamak01823-new-york-university/gpt2-pruning-optimization/sweeps/wd1vpw3g</a>"
            ],
            "text/plain": [
              "<IPython.core.display.HTML object>"
            ]
          },
          "metadata": {},
          "output_type": "display_data"
        },
        {
          "data": {
            "text/html": [
              " View run at <a href='https://wandb.ai/tokamak01823-new-york-university/gpt2-pruning-optimization/runs/hy7pfak9' target=\"_blank\">https://wandb.ai/tokamak01823-new-york-university/gpt2-pruning-optimization/runs/hy7pfak9</a>"
            ],
            "text/plain": [
              "<IPython.core.display.HTML object>"
            ]
          },
          "metadata": {},
          "output_type": "display_data"
        },
        {
          "output_type": "stream",
          "name": "stderr",
          "text": [
            "Re-training after pruning: 100%|██████████| 901/901 [03:21<00:00,  4.46it/s]\n"
          ]
        },
        {
          "output_type": "stream",
          "name": "stdout",
          "text": [
            "First test sample text:\n",
            "  Hurricanes are an ever @-@ present threat during the summer and fall season , which puts Galveston in Coastal Windstorm Area . Galveston Island and the Bolivar Peninsula are generally at the greatest risk among the communities near the Galveston Bay . However , though the island and peninsula provide some shielding , the bay shoreline still faces significant danger from storm surge . \n",
            "\n",
            "First test sample tokenized input_ids: tensor([[39419,   389,   281,  1683,  2488,    12,    31,  1944,  2372,  1141,\n",
            "           262,  3931,   290,  2121,  1622,   837,   543,  7584,  5027,  4223,\n",
            "           261,   287, 43513,  3086, 12135,  9498,   764,  5027,  4223,   261,\n",
            "          5451,   290,   262, 10797,   452,   283, 24078,   389,  4143,   379,\n",
            "           262,  6000,  2526,  1871,   262,  5348,  1474,   262,  5027,  4223,\n",
            "           261,  4696,   764,  2102,   837,   996,   262,  7022,   290, 28080,\n",
            "          2148,   617, 43539,   837,   262, 15489, 15191,  1370,   991,  6698,\n",
            "          2383,  3514,   422,  6388, 13853,   764,   220,   198]])\n",
            "Decoded text from tokenized input:  Hurricanes are an ever @-@ present threat during the summer and fall season , which puts Galveston in Coastal Windstorm Area . Galveston Island and the Bolivar Peninsula are generally at the greatest risk among the communities near the Galveston Bay . However , though the island and peninsula provide some shielding , the bay shoreline still faces significant danger from storm surge . \n",
            "\n",
            "Test Perplexity: 1.0742, Test Accuracy: 0.7261\n"
          ]
        },
        {
          "output_type": "display_data",
          "data": {
            "text/plain": [
              "VBox(children=(Label(value='0.014 MB of 0.014 MB uploaded\\r'), FloatProgress(value=1.0, max=1.0)))"
            ],
            "application/vnd.jupyter.widget-view+json": {
              "version_major": 2,
              "version_minor": 0,
              "model_id": "bc3b010ee2c644a1b7b6c61d23863be7"
            }
          },
          "metadata": {}
        },
        {
          "output_type": "display_data",
          "data": {
            "text/plain": [
              "<IPython.core.display.HTML object>"
            ],
            "text/html": [
              "\n",
              "    <style>\n",
              "        .wandb-row {\n",
              "            display: flex;\n",
              "            flex-direction: row;\n",
              "            flex-wrap: wrap;\n",
              "            justify-content: flex-start;\n",
              "            width: 100%;\n",
              "        }\n",
              "        .wandb-col {\n",
              "            display: flex;\n",
              "            flex-direction: column;\n",
              "            flex-basis: 100%;\n",
              "            flex: 1;\n",
              "            padding: 10px;\n",
              "        }\n",
              "    </style>\n",
              "<div class=\"wandb-row\"><div class=\"wandb-col\"><h3>Run history:</h3><br/><table class=\"wandb\"><tr><td>accuracy</td><td>▁</td></tr><tr><td>perplexity</td><td>▁</td></tr><tr><td>train_loss</td><td>▁</td></tr></table><br/></div><div class=\"wandb-col\"><h3>Run summary:</h3><br/><table class=\"wandb\"><tr><td>accuracy</td><td>0.72609</td></tr><tr><td>perplexity</td><td>1.07421</td></tr><tr><td>train_loss</td><td>0.19377</td></tr></table><br/></div></div>"
            ]
          },
          "metadata": {}
        },
        {
          "output_type": "display_data",
          "data": {
            "text/plain": [
              "<IPython.core.display.HTML object>"
            ],
            "text/html": [
              " View run <strong style=\"color:#cdcd00\">crisp-sweep-14</strong> at: <a href='https://wandb.ai/tokamak01823-new-york-university/gpt2-pruning-optimization/runs/hy7pfak9' target=\"_blank\">https://wandb.ai/tokamak01823-new-york-university/gpt2-pruning-optimization/runs/hy7pfak9</a><br/> View project at: <a href='https://wandb.ai/tokamak01823-new-york-university/gpt2-pruning-optimization' target=\"_blank\">https://wandb.ai/tokamak01823-new-york-university/gpt2-pruning-optimization</a><br/>Synced 5 W&B file(s), 0 media file(s), 0 artifact file(s) and 0 other file(s)"
            ]
          },
          "metadata": {}
        },
        {
          "output_type": "display_data",
          "data": {
            "text/plain": [
              "<IPython.core.display.HTML object>"
            ],
            "text/html": [
              "Find logs at: <code>./wandb/run-20241209_170648-hy7pfak9/logs</code>"
            ]
          },
          "metadata": {}
        },
        {
          "output_type": "stream",
          "name": "stderr",
          "text": [
            "\u001b[34m\u001b[1mwandb\u001b[0m: Agent Starting Run: fhf09gpg with config:\n",
            "\u001b[34m\u001b[1mwandb\u001b[0m: \tfirst_ratio: 0.7\n",
            "\u001b[34m\u001b[1mwandb\u001b[0m: \tlast_ratio: 0.7\n",
            "\u001b[34m\u001b[1mwandb\u001b[0m: \tmiddle_ratio: 0.3\n"
          ]
        },
        {
          "output_type": "display_data",
          "data": {
            "text/plain": [
              "<IPython.core.display.HTML object>"
            ],
            "text/html": [
              "Tracking run with wandb version 0.18.7"
            ]
          },
          "metadata": {}
        },
        {
          "output_type": "display_data",
          "data": {
            "text/plain": [
              "<IPython.core.display.HTML object>"
            ],
            "text/html": [
              "Run data is saved locally in <code>/content/wandb/run-20241209_171041-fhf09gpg</code>"
            ]
          },
          "metadata": {}
        },
        {
          "output_type": "display_data",
          "data": {
            "text/plain": [
              "<IPython.core.display.HTML object>"
            ],
            "text/html": [
              "Syncing run <strong><a href='https://wandb.ai/tokamak01823-new-york-university/gpt2-pruning-optimization/runs/fhf09gpg' target=\"_blank\">rose-sweep-15</a></strong> to <a href='https://wandb.ai/tokamak01823-new-york-university/gpt2-pruning-optimization' target=\"_blank\">Weights & Biases</a> (<a href='https://wandb.me/developer-guide' target=\"_blank\">docs</a>)<br/>Sweep page: <a href='https://wandb.ai/tokamak01823-new-york-university/gpt2-pruning-optimization/sweeps/wd1vpw3g' target=\"_blank\">https://wandb.ai/tokamak01823-new-york-university/gpt2-pruning-optimization/sweeps/wd1vpw3g</a>"
            ]
          },
          "metadata": {}
        },
        {
          "output_type": "display_data",
          "data": {
            "text/plain": [
              "<IPython.core.display.HTML object>"
            ],
            "text/html": [
              " View project at <a href='https://wandb.ai/tokamak01823-new-york-university/gpt2-pruning-optimization' target=\"_blank\">https://wandb.ai/tokamak01823-new-york-university/gpt2-pruning-optimization</a>"
            ]
          },
          "metadata": {}
        },
        {
          "output_type": "display_data",
          "data": {
            "text/plain": [
              "<IPython.core.display.HTML object>"
            ],
            "text/html": [
              " View sweep at <a href='https://wandb.ai/tokamak01823-new-york-university/gpt2-pruning-optimization/sweeps/wd1vpw3g' target=\"_blank\">https://wandb.ai/tokamak01823-new-york-university/gpt2-pruning-optimization/sweeps/wd1vpw3g</a>"
            ]
          },
          "metadata": {}
        },
        {
          "output_type": "display_data",
          "data": {
            "text/plain": [
              "<IPython.core.display.HTML object>"
            ],
            "text/html": [
              " View run at <a href='https://wandb.ai/tokamak01823-new-york-university/gpt2-pruning-optimization/runs/fhf09gpg' target=\"_blank\">https://wandb.ai/tokamak01823-new-york-university/gpt2-pruning-optimization/runs/fhf09gpg</a>"
            ]
          },
          "metadata": {}
        },
        {
          "output_type": "stream",
          "name": "stderr",
          "text": [
            "Re-training after pruning: 100%|██████████| 901/901 [03:22<00:00,  4.45it/s]\n"
          ]
        },
        {
          "output_type": "stream",
          "name": "stdout",
          "text": [
            "First test sample text:\n",
            "  Hurricanes are an ever @-@ present threat during the summer and fall season , which puts Galveston in Coastal Windstorm Area . Galveston Island and the Bolivar Peninsula are generally at the greatest risk among the communities near the Galveston Bay . However , though the island and peninsula provide some shielding , the bay shoreline still faces significant danger from storm surge . \n",
            "\n",
            "First test sample tokenized input_ids: tensor([[39419,   389,   281,  1683,  2488,    12,    31,  1944,  2372,  1141,\n",
            "           262,  3931,   290,  2121,  1622,   837,   543,  7584,  5027,  4223,\n",
            "           261,   287, 43513,  3086, 12135,  9498,   764,  5027,  4223,   261,\n",
            "          5451,   290,   262, 10797,   452,   283, 24078,   389,  4143,   379,\n",
            "           262,  6000,  2526,  1871,   262,  5348,  1474,   262,  5027,  4223,\n",
            "           261,  4696,   764,  2102,   837,   996,   262,  7022,   290, 28080,\n",
            "          2148,   617, 43539,   837,   262, 15489, 15191,  1370,   991,  6698,\n",
            "          2383,  3514,   422,  6388, 13853,   764,   220,   198]])\n",
            "Decoded text from tokenized input:  Hurricanes are an ever @-@ present threat during the summer and fall season , which puts Galveston in Coastal Windstorm Area . Galveston Island and the Bolivar Peninsula are generally at the greatest risk among the communities near the Galveston Bay . However , though the island and peninsula provide some shielding , the bay shoreline still faces significant danger from storm surge . \n",
            "\n",
            "Test Perplexity: 1.5014, Test Accuracy: 0.7265\n"
          ]
        },
        {
          "output_type": "display_data",
          "data": {
            "text/plain": [
              "VBox(children=(Label(value='0.014 MB of 0.014 MB uploaded\\r'), FloatProgress(value=1.0, max=1.0)))"
            ],
            "application/vnd.jupyter.widget-view+json": {
              "version_major": 2,
              "version_minor": 0,
              "model_id": "2da50e8dae2b4cf483dcc7e7cea7b247"
            }
          },
          "metadata": {}
        },
        {
          "output_type": "display_data",
          "data": {
            "text/plain": [
              "<IPython.core.display.HTML object>"
            ],
            "text/html": [
              "\n",
              "    <style>\n",
              "        .wandb-row {\n",
              "            display: flex;\n",
              "            flex-direction: row;\n",
              "            flex-wrap: wrap;\n",
              "            justify-content: flex-start;\n",
              "            width: 100%;\n",
              "        }\n",
              "        .wandb-col {\n",
              "            display: flex;\n",
              "            flex-direction: column;\n",
              "            flex-basis: 100%;\n",
              "            flex: 1;\n",
              "            padding: 10px;\n",
              "        }\n",
              "    </style>\n",
              "<div class=\"wandb-row\"><div class=\"wandb-col\"><h3>Run history:</h3><br/><table class=\"wandb\"><tr><td>accuracy</td><td>▁</td></tr><tr><td>perplexity</td><td>▁</td></tr><tr><td>train_loss</td><td>▁</td></tr></table><br/></div><div class=\"wandb-col\"><h3>Run summary:</h3><br/><table class=\"wandb\"><tr><td>accuracy</td><td>0.72648</td></tr><tr><td>perplexity</td><td>1.50135</td></tr><tr><td>train_loss</td><td>0.86197</td></tr></table><br/></div></div>"
            ]
          },
          "metadata": {}
        },
        {
          "output_type": "display_data",
          "data": {
            "text/plain": [
              "<IPython.core.display.HTML object>"
            ],
            "text/html": [
              " View run <strong style=\"color:#cdcd00\">rose-sweep-15</strong> at: <a href='https://wandb.ai/tokamak01823-new-york-university/gpt2-pruning-optimization/runs/fhf09gpg' target=\"_blank\">https://wandb.ai/tokamak01823-new-york-university/gpt2-pruning-optimization/runs/fhf09gpg</a><br/> View project at: <a href='https://wandb.ai/tokamak01823-new-york-university/gpt2-pruning-optimization' target=\"_blank\">https://wandb.ai/tokamak01823-new-york-university/gpt2-pruning-optimization</a><br/>Synced 5 W&B file(s), 0 media file(s), 0 artifact file(s) and 0 other file(s)"
            ]
          },
          "metadata": {}
        },
        {
          "output_type": "display_data",
          "data": {
            "text/plain": [
              "<IPython.core.display.HTML object>"
            ],
            "text/html": [
              "Find logs at: <code>./wandb/run-20241209_171041-fhf09gpg/logs</code>"
            ]
          },
          "metadata": {}
        },
        {
          "output_type": "stream",
          "name": "stderr",
          "text": [
            "\u001b[34m\u001b[1mwandb\u001b[0m: Sweep Agent: Waiting for job.\n",
            "\u001b[34m\u001b[1mwandb\u001b[0m: Job received.\n",
            "\u001b[34m\u001b[1mwandb\u001b[0m: Agent Starting Run: 7td52nyl with config:\n",
            "\u001b[34m\u001b[1mwandb\u001b[0m: \tfirst_ratio: 0.3\n",
            "\u001b[34m\u001b[1mwandb\u001b[0m: \tlast_ratio: 0.9\n",
            "\u001b[34m\u001b[1mwandb\u001b[0m: \tmiddle_ratio: 0.1\n"
          ]
        },
        {
          "output_type": "display_data",
          "data": {
            "text/plain": [
              "<IPython.core.display.HTML object>"
            ],
            "text/html": [
              "Tracking run with wandb version 0.18.7"
            ]
          },
          "metadata": {}
        },
        {
          "output_type": "display_data",
          "data": {
            "text/plain": [
              "<IPython.core.display.HTML object>"
            ],
            "text/html": [
              "Run data is saved locally in <code>/content/wandb/run-20241209_171447-7td52nyl</code>"
            ]
          },
          "metadata": {}
        },
        {
          "output_type": "display_data",
          "data": {
            "text/plain": [
              "<IPython.core.display.HTML object>"
            ],
            "text/html": [
              "Syncing run <strong><a href='https://wandb.ai/tokamak01823-new-york-university/gpt2-pruning-optimization/runs/7td52nyl' target=\"_blank\">major-sweep-16</a></strong> to <a href='https://wandb.ai/tokamak01823-new-york-university/gpt2-pruning-optimization' target=\"_blank\">Weights & Biases</a> (<a href='https://wandb.me/developer-guide' target=\"_blank\">docs</a>)<br/>Sweep page: <a href='https://wandb.ai/tokamak01823-new-york-university/gpt2-pruning-optimization/sweeps/wd1vpw3g' target=\"_blank\">https://wandb.ai/tokamak01823-new-york-university/gpt2-pruning-optimization/sweeps/wd1vpw3g</a>"
            ]
          },
          "metadata": {}
        },
        {
          "output_type": "display_data",
          "data": {
            "text/plain": [
              "<IPython.core.display.HTML object>"
            ],
            "text/html": [
              " View project at <a href='https://wandb.ai/tokamak01823-new-york-university/gpt2-pruning-optimization' target=\"_blank\">https://wandb.ai/tokamak01823-new-york-university/gpt2-pruning-optimization</a>"
            ]
          },
          "metadata": {}
        },
        {
          "output_type": "display_data",
          "data": {
            "text/plain": [
              "<IPython.core.display.HTML object>"
            ],
            "text/html": [
              " View sweep at <a href='https://wandb.ai/tokamak01823-new-york-university/gpt2-pruning-optimization/sweeps/wd1vpw3g' target=\"_blank\">https://wandb.ai/tokamak01823-new-york-university/gpt2-pruning-optimization/sweeps/wd1vpw3g</a>"
            ]
          },
          "metadata": {}
        },
        {
          "output_type": "display_data",
          "data": {
            "text/plain": [
              "<IPython.core.display.HTML object>"
            ],
            "text/html": [
              " View run at <a href='https://wandb.ai/tokamak01823-new-york-university/gpt2-pruning-optimization/runs/7td52nyl' target=\"_blank\">https://wandb.ai/tokamak01823-new-york-university/gpt2-pruning-optimization/runs/7td52nyl</a>"
            ]
          },
          "metadata": {}
        },
        {
          "output_type": "stream",
          "name": "stderr",
          "text": [
            "Re-training after pruning: 100%|██████████| 901/901 [03:23<00:00,  4.43it/s]\n"
          ]
        },
        {
          "output_type": "stream",
          "name": "stdout",
          "text": [
            "First test sample text:\n",
            "  Hurricanes are an ever @-@ present threat during the summer and fall season , which puts Galveston in Coastal Windstorm Area . Galveston Island and the Bolivar Peninsula are generally at the greatest risk among the communities near the Galveston Bay . However , though the island and peninsula provide some shielding , the bay shoreline still faces significant danger from storm surge . \n",
            "\n",
            "First test sample tokenized input_ids: tensor([[39419,   389,   281,  1683,  2488,    12,    31,  1944,  2372,  1141,\n",
            "           262,  3931,   290,  2121,  1622,   837,   543,  7584,  5027,  4223,\n",
            "           261,   287, 43513,  3086, 12135,  9498,   764,  5027,  4223,   261,\n",
            "          5451,   290,   262, 10797,   452,   283, 24078,   389,  4143,   379,\n",
            "           262,  6000,  2526,  1871,   262,  5348,  1474,   262,  5027,  4223,\n",
            "           261,  4696,   764,  2102,   837,   996,   262,  7022,   290, 28080,\n",
            "          2148,   617, 43539,   837,   262, 15489, 15191,  1370,   991,  6698,\n",
            "          2383,  3514,   422,  6388, 13853,   764,   220,   198]])\n",
            "Decoded text from tokenized input:  Hurricanes are an ever @-@ present threat during the summer and fall season , which puts Galveston in Coastal Windstorm Area . Galveston Island and the Bolivar Peninsula are generally at the greatest risk among the communities near the Galveston Bay . However , though the island and peninsula provide some shielding , the bay shoreline still faces significant danger from storm surge . \n",
            "\n",
            "Test Perplexity: 1.7250, Test Accuracy: 0.7269\n"
          ]
        },
        {
          "output_type": "display_data",
          "data": {
            "text/plain": [
              "VBox(children=(Label(value='0.014 MB of 0.014 MB uploaded\\r'), FloatProgress(value=1.0, max=1.0)))"
            ],
            "application/vnd.jupyter.widget-view+json": {
              "version_major": 2,
              "version_minor": 0,
              "model_id": "7df45f247ce347df8ac013956f6d2087"
            }
          },
          "metadata": {}
        },
        {
          "output_type": "display_data",
          "data": {
            "text/plain": [
              "<IPython.core.display.HTML object>"
            ],
            "text/html": [
              "\n",
              "    <style>\n",
              "        .wandb-row {\n",
              "            display: flex;\n",
              "            flex-direction: row;\n",
              "            flex-wrap: wrap;\n",
              "            justify-content: flex-start;\n",
              "            width: 100%;\n",
              "        }\n",
              "        .wandb-col {\n",
              "            display: flex;\n",
              "            flex-direction: column;\n",
              "            flex-basis: 100%;\n",
              "            flex: 1;\n",
              "            padding: 10px;\n",
              "        }\n",
              "    </style>\n",
              "<div class=\"wandb-row\"><div class=\"wandb-col\"><h3>Run history:</h3><br/><table class=\"wandb\"><tr><td>accuracy</td><td>▁</td></tr><tr><td>perplexity</td><td>▁</td></tr><tr><td>train_loss</td><td>▁</td></tr></table><br/></div><div class=\"wandb-col\"><h3>Run summary:</h3><br/><table class=\"wandb\"><tr><td>accuracy</td><td>0.7269</td></tr><tr><td>perplexity</td><td>1.725</td></tr><tr><td>train_loss</td><td>0.9029</td></tr></table><br/></div></div>"
            ]
          },
          "metadata": {}
        },
        {
          "output_type": "display_data",
          "data": {
            "text/plain": [
              "<IPython.core.display.HTML object>"
            ],
            "text/html": [
              " View run <strong style=\"color:#cdcd00\">major-sweep-16</strong> at: <a href='https://wandb.ai/tokamak01823-new-york-university/gpt2-pruning-optimization/runs/7td52nyl' target=\"_blank\">https://wandb.ai/tokamak01823-new-york-university/gpt2-pruning-optimization/runs/7td52nyl</a><br/> View project at: <a href='https://wandb.ai/tokamak01823-new-york-university/gpt2-pruning-optimization' target=\"_blank\">https://wandb.ai/tokamak01823-new-york-university/gpt2-pruning-optimization</a><br/>Synced 5 W&B file(s), 0 media file(s), 0 artifact file(s) and 0 other file(s)"
            ]
          },
          "metadata": {}
        },
        {
          "output_type": "display_data",
          "data": {
            "text/plain": [
              "<IPython.core.display.HTML object>"
            ],
            "text/html": [
              "Find logs at: <code>./wandb/run-20241209_171447-7td52nyl/logs</code>"
            ]
          },
          "metadata": {}
        },
        {
          "output_type": "stream",
          "name": "stderr",
          "text": [
            "\u001b[34m\u001b[1mwandb\u001b[0m: Agent Starting Run: dk533lx5 with config:\n",
            "\u001b[34m\u001b[1mwandb\u001b[0m: \tfirst_ratio: 0.7\n",
            "\u001b[34m\u001b[1mwandb\u001b[0m: \tlast_ratio: 0.7\n",
            "\u001b[34m\u001b[1mwandb\u001b[0m: \tmiddle_ratio: 0\n"
          ]
        },
        {
          "output_type": "display_data",
          "data": {
            "text/plain": [
              "<IPython.core.display.HTML object>"
            ],
            "text/html": [
              "Tracking run with wandb version 0.18.7"
            ]
          },
          "metadata": {}
        },
        {
          "output_type": "display_data",
          "data": {
            "text/plain": [
              "<IPython.core.display.HTML object>"
            ],
            "text/html": [
              "Run data is saved locally in <code>/content/wandb/run-20241209_171843-dk533lx5</code>"
            ]
          },
          "metadata": {}
        },
        {
          "output_type": "display_data",
          "data": {
            "text/plain": [
              "<IPython.core.display.HTML object>"
            ],
            "text/html": [
              "Syncing run <strong><a href='https://wandb.ai/tokamak01823-new-york-university/gpt2-pruning-optimization/runs/dk533lx5' target=\"_blank\">fancy-sweep-17</a></strong> to <a href='https://wandb.ai/tokamak01823-new-york-university/gpt2-pruning-optimization' target=\"_blank\">Weights & Biases</a> (<a href='https://wandb.me/developer-guide' target=\"_blank\">docs</a>)<br/>Sweep page: <a href='https://wandb.ai/tokamak01823-new-york-university/gpt2-pruning-optimization/sweeps/wd1vpw3g' target=\"_blank\">https://wandb.ai/tokamak01823-new-york-university/gpt2-pruning-optimization/sweeps/wd1vpw3g</a>"
            ]
          },
          "metadata": {}
        },
        {
          "output_type": "display_data",
          "data": {
            "text/plain": [
              "<IPython.core.display.HTML object>"
            ],
            "text/html": [
              " View project at <a href='https://wandb.ai/tokamak01823-new-york-university/gpt2-pruning-optimization' target=\"_blank\">https://wandb.ai/tokamak01823-new-york-university/gpt2-pruning-optimization</a>"
            ]
          },
          "metadata": {}
        },
        {
          "output_type": "display_data",
          "data": {
            "text/plain": [
              "<IPython.core.display.HTML object>"
            ],
            "text/html": [
              " View sweep at <a href='https://wandb.ai/tokamak01823-new-york-university/gpt2-pruning-optimization/sweeps/wd1vpw3g' target=\"_blank\">https://wandb.ai/tokamak01823-new-york-university/gpt2-pruning-optimization/sweeps/wd1vpw3g</a>"
            ]
          },
          "metadata": {}
        },
        {
          "output_type": "display_data",
          "data": {
            "text/plain": [
              "<IPython.core.display.HTML object>"
            ],
            "text/html": [
              " View run at <a href='https://wandb.ai/tokamak01823-new-york-university/gpt2-pruning-optimization/runs/dk533lx5' target=\"_blank\">https://wandb.ai/tokamak01823-new-york-university/gpt2-pruning-optimization/runs/dk533lx5</a>"
            ]
          },
          "metadata": {}
        },
        {
          "output_type": "stream",
          "name": "stderr",
          "text": [
            "Re-training after pruning: 100%|██████████| 901/901 [03:24<00:00,  4.40it/s]\n"
          ]
        },
        {
          "output_type": "stream",
          "name": "stdout",
          "text": [
            "First test sample text:\n",
            "  Hurricanes are an ever @-@ present threat during the summer and fall season , which puts Galveston in Coastal Windstorm Area . Galveston Island and the Bolivar Peninsula are generally at the greatest risk among the communities near the Galveston Bay . However , though the island and peninsula provide some shielding , the bay shoreline still faces significant danger from storm surge . \n",
            "\n",
            "First test sample tokenized input_ids: tensor([[39419,   389,   281,  1683,  2488,    12,    31,  1944,  2372,  1141,\n",
            "           262,  3931,   290,  2121,  1622,   837,   543,  7584,  5027,  4223,\n",
            "           261,   287, 43513,  3086, 12135,  9498,   764,  5027,  4223,   261,\n",
            "          5451,   290,   262, 10797,   452,   283, 24078,   389,  4143,   379,\n",
            "           262,  6000,  2526,  1871,   262,  5348,  1474,   262,  5027,  4223,\n",
            "           261,  4696,   764,  2102,   837,   996,   262,  7022,   290, 28080,\n",
            "          2148,   617, 43539,   837,   262, 15489, 15191,  1370,   991,  6698,\n",
            "          2383,  3514,   422,  6388, 13853,   764,   220,   198]])\n",
            "Decoded text from tokenized input:  Hurricanes are an ever @-@ present threat during the summer and fall season , which puts Galveston in Coastal Windstorm Area . Galveston Island and the Bolivar Peninsula are generally at the greatest risk among the communities near the Galveston Bay . However , though the island and peninsula provide some shielding , the bay shoreline still faces significant danger from storm surge . \n",
            "\n",
            "Test Perplexity: 1.4703, Test Accuracy: 0.7260\n"
          ]
        },
        {
          "output_type": "display_data",
          "data": {
            "text/plain": [
              "VBox(children=(Label(value='0.014 MB of 0.014 MB uploaded\\r'), FloatProgress(value=1.0, max=1.0)))"
            ],
            "application/vnd.jupyter.widget-view+json": {
              "version_major": 2,
              "version_minor": 0,
              "model_id": "6791f3d3484648ccae87fbfada1bc37a"
            }
          },
          "metadata": {}
        },
        {
          "output_type": "display_data",
          "data": {
            "text/plain": [
              "<IPython.core.display.HTML object>"
            ],
            "text/html": [
              "\n",
              "    <style>\n",
              "        .wandb-row {\n",
              "            display: flex;\n",
              "            flex-direction: row;\n",
              "            flex-wrap: wrap;\n",
              "            justify-content: flex-start;\n",
              "            width: 100%;\n",
              "        }\n",
              "        .wandb-col {\n",
              "            display: flex;\n",
              "            flex-direction: column;\n",
              "            flex-basis: 100%;\n",
              "            flex: 1;\n",
              "            padding: 10px;\n",
              "        }\n",
              "    </style>\n",
              "<div class=\"wandb-row\"><div class=\"wandb-col\"><h3>Run history:</h3><br/><table class=\"wandb\"><tr><td>accuracy</td><td>▁</td></tr><tr><td>perplexity</td><td>▁</td></tr><tr><td>train_loss</td><td>▁</td></tr></table><br/></div><div class=\"wandb-col\"><h3>Run summary:</h3><br/><table class=\"wandb\"><tr><td>accuracy</td><td>0.72604</td></tr><tr><td>perplexity</td><td>1.47035</td></tr><tr><td>train_loss</td><td>0.80513</td></tr></table><br/></div></div>"
            ]
          },
          "metadata": {}
        },
        {
          "output_type": "display_data",
          "data": {
            "text/plain": [
              "<IPython.core.display.HTML object>"
            ],
            "text/html": [
              " View run <strong style=\"color:#cdcd00\">fancy-sweep-17</strong> at: <a href='https://wandb.ai/tokamak01823-new-york-university/gpt2-pruning-optimization/runs/dk533lx5' target=\"_blank\">https://wandb.ai/tokamak01823-new-york-university/gpt2-pruning-optimization/runs/dk533lx5</a><br/> View project at: <a href='https://wandb.ai/tokamak01823-new-york-university/gpt2-pruning-optimization' target=\"_blank\">https://wandb.ai/tokamak01823-new-york-university/gpt2-pruning-optimization</a><br/>Synced 5 W&B file(s), 0 media file(s), 0 artifact file(s) and 0 other file(s)"
            ]
          },
          "metadata": {}
        },
        {
          "output_type": "display_data",
          "data": {
            "text/plain": [
              "<IPython.core.display.HTML object>"
            ],
            "text/html": [
              "Find logs at: <code>./wandb/run-20241209_171843-dk533lx5/logs</code>"
            ]
          },
          "metadata": {}
        },
        {
          "output_type": "stream",
          "name": "stderr",
          "text": [
            "\u001b[34m\u001b[1mwandb\u001b[0m: Agent Starting Run: gnedx50p with config:\n",
            "\u001b[34m\u001b[1mwandb\u001b[0m: \tfirst_ratio: 0.9\n",
            "\u001b[34m\u001b[1mwandb\u001b[0m: \tlast_ratio: 0.3\n",
            "\u001b[34m\u001b[1mwandb\u001b[0m: \tmiddle_ratio: 0.9\n"
          ]
        },
        {
          "output_type": "display_data",
          "data": {
            "text/plain": [
              "<IPython.core.display.HTML object>"
            ],
            "text/html": [
              "Tracking run with wandb version 0.18.7"
            ]
          },
          "metadata": {}
        },
        {
          "output_type": "display_data",
          "data": {
            "text/plain": [
              "<IPython.core.display.HTML object>"
            ],
            "text/html": [
              "Run data is saved locally in <code>/content/wandb/run-20241209_172244-gnedx50p</code>"
            ]
          },
          "metadata": {}
        },
        {
          "output_type": "display_data",
          "data": {
            "text/plain": [
              "<IPython.core.display.HTML object>"
            ],
            "text/html": [
              "Syncing run <strong><a href='https://wandb.ai/tokamak01823-new-york-university/gpt2-pruning-optimization/runs/gnedx50p' target=\"_blank\">brisk-sweep-18</a></strong> to <a href='https://wandb.ai/tokamak01823-new-york-university/gpt2-pruning-optimization' target=\"_blank\">Weights & Biases</a> (<a href='https://wandb.me/developer-guide' target=\"_blank\">docs</a>)<br/>Sweep page: <a href='https://wandb.ai/tokamak01823-new-york-university/gpt2-pruning-optimization/sweeps/wd1vpw3g' target=\"_blank\">https://wandb.ai/tokamak01823-new-york-university/gpt2-pruning-optimization/sweeps/wd1vpw3g</a>"
            ]
          },
          "metadata": {}
        },
        {
          "output_type": "display_data",
          "data": {
            "text/plain": [
              "<IPython.core.display.HTML object>"
            ],
            "text/html": [
              " View project at <a href='https://wandb.ai/tokamak01823-new-york-university/gpt2-pruning-optimization' target=\"_blank\">https://wandb.ai/tokamak01823-new-york-university/gpt2-pruning-optimization</a>"
            ]
          },
          "metadata": {}
        },
        {
          "output_type": "display_data",
          "data": {
            "text/plain": [
              "<IPython.core.display.HTML object>"
            ],
            "text/html": [
              " View sweep at <a href='https://wandb.ai/tokamak01823-new-york-university/gpt2-pruning-optimization/sweeps/wd1vpw3g' target=\"_blank\">https://wandb.ai/tokamak01823-new-york-university/gpt2-pruning-optimization/sweeps/wd1vpw3g</a>"
            ]
          },
          "metadata": {}
        },
        {
          "output_type": "display_data",
          "data": {
            "text/plain": [
              "<IPython.core.display.HTML object>"
            ],
            "text/html": [
              " View run at <a href='https://wandb.ai/tokamak01823-new-york-university/gpt2-pruning-optimization/runs/gnedx50p' target=\"_blank\">https://wandb.ai/tokamak01823-new-york-university/gpt2-pruning-optimization/runs/gnedx50p</a>"
            ]
          },
          "metadata": {}
        },
        {
          "output_type": "stream",
          "name": "stderr",
          "text": [
            "Re-training after pruning: 100%|██████████| 901/901 [03:22<00:00,  4.46it/s]\n"
          ]
        },
        {
          "output_type": "stream",
          "name": "stdout",
          "text": [
            "First test sample text:\n",
            "  Hurricanes are an ever @-@ present threat during the summer and fall season , which puts Galveston in Coastal Windstorm Area . Galveston Island and the Bolivar Peninsula are generally at the greatest risk among the communities near the Galveston Bay . However , though the island and peninsula provide some shielding , the bay shoreline still faces significant danger from storm surge . \n",
            "\n",
            "First test sample tokenized input_ids: tensor([[39419,   389,   281,  1683,  2488,    12,    31,  1944,  2372,  1141,\n",
            "           262,  3931,   290,  2121,  1622,   837,   543,  7584,  5027,  4223,\n",
            "           261,   287, 43513,  3086, 12135,  9498,   764,  5027,  4223,   261,\n",
            "          5451,   290,   262, 10797,   452,   283, 24078,   389,  4143,   379,\n",
            "           262,  6000,  2526,  1871,   262,  5348,  1474,   262,  5027,  4223,\n",
            "           261,  4696,   764,  2102,   837,   996,   262,  7022,   290, 28080,\n",
            "          2148,   617, 43539,   837,   262, 15489, 15191,  1370,   991,  6698,\n",
            "          2383,  3514,   422,  6388, 13853,   764,   220,   198]])\n",
            "Decoded text from tokenized input:  Hurricanes are an ever @-@ present threat during the summer and fall season , which puts Galveston in Coastal Windstorm Area . Galveston Island and the Bolivar Peninsula are generally at the greatest risk among the communities near the Galveston Bay . However , though the island and peninsula provide some shielding , the bay shoreline still faces significant danger from storm surge . \n",
            "\n",
            "Test Perplexity: 3.1718, Test Accuracy: 0.7290\n"
          ]
        },
        {
          "output_type": "display_data",
          "data": {
            "text/plain": [
              "VBox(children=(Label(value='0.014 MB of 0.014 MB uploaded\\r'), FloatProgress(value=1.0, max=1.0)))"
            ],
            "application/vnd.jupyter.widget-view+json": {
              "version_major": 2,
              "version_minor": 0,
              "model_id": "3746b8d940d94ebcaa8a84df420a41e7"
            }
          },
          "metadata": {}
        },
        {
          "output_type": "display_data",
          "data": {
            "text/plain": [
              "<IPython.core.display.HTML object>"
            ],
            "text/html": [
              "\n",
              "    <style>\n",
              "        .wandb-row {\n",
              "            display: flex;\n",
              "            flex-direction: row;\n",
              "            flex-wrap: wrap;\n",
              "            justify-content: flex-start;\n",
              "            width: 100%;\n",
              "        }\n",
              "        .wandb-col {\n",
              "            display: flex;\n",
              "            flex-direction: column;\n",
              "            flex-basis: 100%;\n",
              "            flex: 1;\n",
              "            padding: 10px;\n",
              "        }\n",
              "    </style>\n",
              "<div class=\"wandb-row\"><div class=\"wandb-col\"><h3>Run history:</h3><br/><table class=\"wandb\"><tr><td>accuracy</td><td>▁</td></tr><tr><td>perplexity</td><td>▁</td></tr><tr><td>train_loss</td><td>▁</td></tr></table><br/></div><div class=\"wandb-col\"><h3>Run summary:</h3><br/><table class=\"wandb\"><tr><td>accuracy</td><td>0.72903</td></tr><tr><td>perplexity</td><td>3.17183</td></tr><tr><td>train_loss</td><td>2.04383</td></tr></table><br/></div></div>"
            ]
          },
          "metadata": {}
        },
        {
          "output_type": "display_data",
          "data": {
            "text/plain": [
              "<IPython.core.display.HTML object>"
            ],
            "text/html": [
              " View run <strong style=\"color:#cdcd00\">brisk-sweep-18</strong> at: <a href='https://wandb.ai/tokamak01823-new-york-university/gpt2-pruning-optimization/runs/gnedx50p' target=\"_blank\">https://wandb.ai/tokamak01823-new-york-university/gpt2-pruning-optimization/runs/gnedx50p</a><br/> View project at: <a href='https://wandb.ai/tokamak01823-new-york-university/gpt2-pruning-optimization' target=\"_blank\">https://wandb.ai/tokamak01823-new-york-university/gpt2-pruning-optimization</a><br/>Synced 5 W&B file(s), 0 media file(s), 0 artifact file(s) and 0 other file(s)"
            ]
          },
          "metadata": {}
        },
        {
          "output_type": "display_data",
          "data": {
            "text/plain": [
              "<IPython.core.display.HTML object>"
            ],
            "text/html": [
              "Find logs at: <code>./wandb/run-20241209_172244-gnedx50p/logs</code>"
            ]
          },
          "metadata": {}
        },
        {
          "output_type": "stream",
          "name": "stderr",
          "text": [
            "\u001b[34m\u001b[1mwandb\u001b[0m: Agent Starting Run: 2i9jg4i9 with config:\n",
            "\u001b[34m\u001b[1mwandb\u001b[0m: \tfirst_ratio: 0\n",
            "\u001b[34m\u001b[1mwandb\u001b[0m: \tlast_ratio: 0.5\n",
            "\u001b[34m\u001b[1mwandb\u001b[0m: \tmiddle_ratio: 0.9\n"
          ]
        },
        {
          "output_type": "display_data",
          "data": {
            "text/plain": [
              "<IPython.core.display.HTML object>"
            ],
            "text/html": [
              "Tracking run with wandb version 0.18.7"
            ]
          },
          "metadata": {}
        },
        {
          "output_type": "display_data",
          "data": {
            "text/plain": [
              "<IPython.core.display.HTML object>"
            ],
            "text/html": [
              "Run data is saved locally in <code>/content/wandb/run-20241209_172640-2i9jg4i9</code>"
            ]
          },
          "metadata": {}
        },
        {
          "output_type": "display_data",
          "data": {
            "text/plain": [
              "<IPython.core.display.HTML object>"
            ],
            "text/html": [
              "Syncing run <strong><a href='https://wandb.ai/tokamak01823-new-york-university/gpt2-pruning-optimization/runs/2i9jg4i9' target=\"_blank\">zesty-sweep-19</a></strong> to <a href='https://wandb.ai/tokamak01823-new-york-university/gpt2-pruning-optimization' target=\"_blank\">Weights & Biases</a> (<a href='https://wandb.me/developer-guide' target=\"_blank\">docs</a>)<br/>Sweep page: <a href='https://wandb.ai/tokamak01823-new-york-university/gpt2-pruning-optimization/sweeps/wd1vpw3g' target=\"_blank\">https://wandb.ai/tokamak01823-new-york-university/gpt2-pruning-optimization/sweeps/wd1vpw3g</a>"
            ]
          },
          "metadata": {}
        },
        {
          "output_type": "display_data",
          "data": {
            "text/plain": [
              "<IPython.core.display.HTML object>"
            ],
            "text/html": [
              " View project at <a href='https://wandb.ai/tokamak01823-new-york-university/gpt2-pruning-optimization' target=\"_blank\">https://wandb.ai/tokamak01823-new-york-university/gpt2-pruning-optimization</a>"
            ]
          },
          "metadata": {}
        },
        {
          "output_type": "display_data",
          "data": {
            "text/plain": [
              "<IPython.core.display.HTML object>"
            ],
            "text/html": [
              " View sweep at <a href='https://wandb.ai/tokamak01823-new-york-university/gpt2-pruning-optimization/sweeps/wd1vpw3g' target=\"_blank\">https://wandb.ai/tokamak01823-new-york-university/gpt2-pruning-optimization/sweeps/wd1vpw3g</a>"
            ]
          },
          "metadata": {}
        },
        {
          "output_type": "display_data",
          "data": {
            "text/plain": [
              "<IPython.core.display.HTML object>"
            ],
            "text/html": [
              " View run at <a href='https://wandb.ai/tokamak01823-new-york-university/gpt2-pruning-optimization/runs/2i9jg4i9' target=\"_blank\">https://wandb.ai/tokamak01823-new-york-university/gpt2-pruning-optimization/runs/2i9jg4i9</a>"
            ]
          },
          "metadata": {}
        },
        {
          "output_type": "stream",
          "name": "stderr",
          "text": [
            "Re-training after pruning: 100%|██████████| 901/901 [03:23<00:00,  4.43it/s]\n"
          ]
        },
        {
          "output_type": "stream",
          "name": "stdout",
          "text": [
            "First test sample text:\n",
            "  Hurricanes are an ever @-@ present threat during the summer and fall season , which puts Galveston in Coastal Windstorm Area . Galveston Island and the Bolivar Peninsula are generally at the greatest risk among the communities near the Galveston Bay . However , though the island and peninsula provide some shielding , the bay shoreline still faces significant danger from storm surge . \n",
            "\n",
            "First test sample tokenized input_ids: tensor([[39419,   389,   281,  1683,  2488,    12,    31,  1944,  2372,  1141,\n",
            "           262,  3931,   290,  2121,  1622,   837,   543,  7584,  5027,  4223,\n",
            "           261,   287, 43513,  3086, 12135,  9498,   764,  5027,  4223,   261,\n",
            "          5451,   290,   262, 10797,   452,   283, 24078,   389,  4143,   379,\n",
            "           262,  6000,  2526,  1871,   262,  5348,  1474,   262,  5027,  4223,\n",
            "           261,  4696,   764,  2102,   837,   996,   262,  7022,   290, 28080,\n",
            "          2148,   617, 43539,   837,   262, 15489, 15191,  1370,   991,  6698,\n",
            "          2383,  3514,   422,  6388, 13853,   764,   220,   198]])\n",
            "Decoded text from tokenized input:  Hurricanes are an ever @-@ present threat during the summer and fall season , which puts Galveston in Coastal Windstorm Area . Galveston Island and the Bolivar Peninsula are generally at the greatest risk among the communities near the Galveston Bay . However , though the island and peninsula provide some shielding , the bay shoreline still faces significant danger from storm surge . \n",
            "\n",
            "Test Perplexity: 1.6183, Test Accuracy: 0.7264\n"
          ]
        },
        {
          "output_type": "display_data",
          "data": {
            "text/plain": [
              "VBox(children=(Label(value='0.011 MB of 0.011 MB uploaded\\r'), FloatProgress(value=1.0, max=1.0)))"
            ],
            "application/vnd.jupyter.widget-view+json": {
              "version_major": 2,
              "version_minor": 0,
              "model_id": "b5520a39904741ee9b3b3f12d43057e8"
            }
          },
          "metadata": {}
        },
        {
          "output_type": "display_data",
          "data": {
            "text/plain": [
              "<IPython.core.display.HTML object>"
            ],
            "text/html": [
              "\n",
              "    <style>\n",
              "        .wandb-row {\n",
              "            display: flex;\n",
              "            flex-direction: row;\n",
              "            flex-wrap: wrap;\n",
              "            justify-content: flex-start;\n",
              "            width: 100%;\n",
              "        }\n",
              "        .wandb-col {\n",
              "            display: flex;\n",
              "            flex-direction: column;\n",
              "            flex-basis: 100%;\n",
              "            flex: 1;\n",
              "            padding: 10px;\n",
              "        }\n",
              "    </style>\n",
              "<div class=\"wandb-row\"><div class=\"wandb-col\"><h3>Run history:</h3><br/><table class=\"wandb\"><tr><td>accuracy</td><td>▁</td></tr><tr><td>perplexity</td><td>▁</td></tr><tr><td>train_loss</td><td>▁</td></tr></table><br/></div><div class=\"wandb-col\"><h3>Run summary:</h3><br/><table class=\"wandb\"><tr><td>accuracy</td><td>0.7264</td></tr><tr><td>perplexity</td><td>1.61833</td></tr><tr><td>train_loss</td><td>0.8591</td></tr></table><br/></div></div>"
            ]
          },
          "metadata": {}
        },
        {
          "output_type": "display_data",
          "data": {
            "text/plain": [
              "<IPython.core.display.HTML object>"
            ],
            "text/html": [
              " View run <strong style=\"color:#cdcd00\">zesty-sweep-19</strong> at: <a href='https://wandb.ai/tokamak01823-new-york-university/gpt2-pruning-optimization/runs/2i9jg4i9' target=\"_blank\">https://wandb.ai/tokamak01823-new-york-university/gpt2-pruning-optimization/runs/2i9jg4i9</a><br/> View project at: <a href='https://wandb.ai/tokamak01823-new-york-university/gpt2-pruning-optimization' target=\"_blank\">https://wandb.ai/tokamak01823-new-york-university/gpt2-pruning-optimization</a><br/>Synced 5 W&B file(s), 0 media file(s), 0 artifact file(s) and 0 other file(s)"
            ]
          },
          "metadata": {}
        },
        {
          "output_type": "display_data",
          "data": {
            "text/plain": [
              "<IPython.core.display.HTML object>"
            ],
            "text/html": [
              "Find logs at: <code>./wandb/run-20241209_172640-2i9jg4i9/logs</code>"
            ]
          },
          "metadata": {}
        },
        {
          "output_type": "stream",
          "name": "stderr",
          "text": [
            "\u001b[34m\u001b[1mwandb\u001b[0m: Agent Starting Run: 6hqioj4m with config:\n",
            "\u001b[34m\u001b[1mwandb\u001b[0m: \tfirst_ratio: 0\n",
            "\u001b[34m\u001b[1mwandb\u001b[0m: \tlast_ratio: 0.5\n",
            "\u001b[34m\u001b[1mwandb\u001b[0m: \tmiddle_ratio: 0.9\n"
          ]
        },
        {
          "output_type": "display_data",
          "data": {
            "text/plain": [
              "<IPython.core.display.HTML object>"
            ],
            "text/html": [
              "Tracking run with wandb version 0.18.7"
            ]
          },
          "metadata": {}
        },
        {
          "output_type": "display_data",
          "data": {
            "text/plain": [
              "<IPython.core.display.HTML object>"
            ],
            "text/html": [
              "Run data is saved locally in <code>/content/wandb/run-20241209_173042-6hqioj4m</code>"
            ]
          },
          "metadata": {}
        },
        {
          "output_type": "display_data",
          "data": {
            "text/plain": [
              "<IPython.core.display.HTML object>"
            ],
            "text/html": [
              "Syncing run <strong><a href='https://wandb.ai/tokamak01823-new-york-university/gpt2-pruning-optimization/runs/6hqioj4m' target=\"_blank\">super-sweep-20</a></strong> to <a href='https://wandb.ai/tokamak01823-new-york-university/gpt2-pruning-optimization' target=\"_blank\">Weights & Biases</a> (<a href='https://wandb.me/developer-guide' target=\"_blank\">docs</a>)<br/>Sweep page: <a href='https://wandb.ai/tokamak01823-new-york-university/gpt2-pruning-optimization/sweeps/wd1vpw3g' target=\"_blank\">https://wandb.ai/tokamak01823-new-york-university/gpt2-pruning-optimization/sweeps/wd1vpw3g</a>"
            ]
          },
          "metadata": {}
        },
        {
          "output_type": "display_data",
          "data": {
            "text/plain": [
              "<IPython.core.display.HTML object>"
            ],
            "text/html": [
              " View project at <a href='https://wandb.ai/tokamak01823-new-york-university/gpt2-pruning-optimization' target=\"_blank\">https://wandb.ai/tokamak01823-new-york-university/gpt2-pruning-optimization</a>"
            ]
          },
          "metadata": {}
        },
        {
          "output_type": "display_data",
          "data": {
            "text/plain": [
              "<IPython.core.display.HTML object>"
            ],
            "text/html": [
              " View sweep at <a href='https://wandb.ai/tokamak01823-new-york-university/gpt2-pruning-optimization/sweeps/wd1vpw3g' target=\"_blank\">https://wandb.ai/tokamak01823-new-york-university/gpt2-pruning-optimization/sweeps/wd1vpw3g</a>"
            ]
          },
          "metadata": {}
        },
        {
          "output_type": "display_data",
          "data": {
            "text/plain": [
              "<IPython.core.display.HTML object>"
            ],
            "text/html": [
              " View run at <a href='https://wandb.ai/tokamak01823-new-york-university/gpt2-pruning-optimization/runs/6hqioj4m' target=\"_blank\">https://wandb.ai/tokamak01823-new-york-university/gpt2-pruning-optimization/runs/6hqioj4m</a>"
            ]
          },
          "metadata": {}
        },
        {
          "output_type": "stream",
          "name": "stderr",
          "text": [
            "Re-training after pruning: 100%|██████████| 901/901 [03:20<00:00,  4.49it/s]\n"
          ]
        },
        {
          "output_type": "stream",
          "name": "stdout",
          "text": [
            "First test sample text:\n",
            "  Hurricanes are an ever @-@ present threat during the summer and fall season , which puts Galveston in Coastal Windstorm Area . Galveston Island and the Bolivar Peninsula are generally at the greatest risk among the communities near the Galveston Bay . However , though the island and peninsula provide some shielding , the bay shoreline still faces significant danger from storm surge . \n",
            "\n",
            "First test sample tokenized input_ids: tensor([[39419,   389,   281,  1683,  2488,    12,    31,  1944,  2372,  1141,\n",
            "           262,  3931,   290,  2121,  1622,   837,   543,  7584,  5027,  4223,\n",
            "           261,   287, 43513,  3086, 12135,  9498,   764,  5027,  4223,   261,\n",
            "          5451,   290,   262, 10797,   452,   283, 24078,   389,  4143,   379,\n",
            "           262,  6000,  2526,  1871,   262,  5348,  1474,   262,  5027,  4223,\n",
            "           261,  4696,   764,  2102,   837,   996,   262,  7022,   290, 28080,\n",
            "          2148,   617, 43539,   837,   262, 15489, 15191,  1370,   991,  6698,\n",
            "          2383,  3514,   422,  6388, 13853,   764,   220,   198]])\n",
            "Decoded text from tokenized input:  Hurricanes are an ever @-@ present threat during the summer and fall season , which puts Galveston in Coastal Windstorm Area . Galveston Island and the Bolivar Peninsula are generally at the greatest risk among the communities near the Galveston Bay . However , though the island and peninsula provide some shielding , the bay shoreline still faces significant danger from storm surge . \n",
            "\n",
            "Test Perplexity: 1.6169, Test Accuracy: 0.7263\n"
          ]
        },
        {
          "output_type": "display_data",
          "data": {
            "text/plain": [
              "VBox(children=(Label(value='0.014 MB of 0.014 MB uploaded\\r'), FloatProgress(value=1.0, max=1.0)))"
            ],
            "application/vnd.jupyter.widget-view+json": {
              "version_major": 2,
              "version_minor": 0,
              "model_id": "4f3389c610134689b8db816cb1ba8471"
            }
          },
          "metadata": {}
        },
        {
          "output_type": "display_data",
          "data": {
            "text/plain": [
              "<IPython.core.display.HTML object>"
            ],
            "text/html": [
              "\n",
              "    <style>\n",
              "        .wandb-row {\n",
              "            display: flex;\n",
              "            flex-direction: row;\n",
              "            flex-wrap: wrap;\n",
              "            justify-content: flex-start;\n",
              "            width: 100%;\n",
              "        }\n",
              "        .wandb-col {\n",
              "            display: flex;\n",
              "            flex-direction: column;\n",
              "            flex-basis: 100%;\n",
              "            flex: 1;\n",
              "            padding: 10px;\n",
              "        }\n",
              "    </style>\n",
              "<div class=\"wandb-row\"><div class=\"wandb-col\"><h3>Run history:</h3><br/><table class=\"wandb\"><tr><td>accuracy</td><td>▁</td></tr><tr><td>perplexity</td><td>▁</td></tr><tr><td>train_loss</td><td>▁</td></tr></table><br/></div><div class=\"wandb-col\"><h3>Run summary:</h3><br/><table class=\"wandb\"><tr><td>accuracy</td><td>0.72632</td></tr><tr><td>perplexity</td><td>1.61691</td></tr><tr><td>train_loss</td><td>0.88298</td></tr></table><br/></div></div>"
            ]
          },
          "metadata": {}
        },
        {
          "output_type": "display_data",
          "data": {
            "text/plain": [
              "<IPython.core.display.HTML object>"
            ],
            "text/html": [
              " View run <strong style=\"color:#cdcd00\">super-sweep-20</strong> at: <a href='https://wandb.ai/tokamak01823-new-york-university/gpt2-pruning-optimization/runs/6hqioj4m' target=\"_blank\">https://wandb.ai/tokamak01823-new-york-university/gpt2-pruning-optimization/runs/6hqioj4m</a><br/> View project at: <a href='https://wandb.ai/tokamak01823-new-york-university/gpt2-pruning-optimization' target=\"_blank\">https://wandb.ai/tokamak01823-new-york-university/gpt2-pruning-optimization</a><br/>Synced 5 W&B file(s), 0 media file(s), 0 artifact file(s) and 0 other file(s)"
            ]
          },
          "metadata": {}
        },
        {
          "output_type": "display_data",
          "data": {
            "text/plain": [
              "<IPython.core.display.HTML object>"
            ],
            "text/html": [
              "Find logs at: <code>./wandb/run-20241209_173042-6hqioj4m/logs</code>"
            ]
          },
          "metadata": {}
        },
        {
          "output_type": "stream",
          "name": "stderr",
          "text": [
            "\u001b[34m\u001b[1mwandb\u001b[0m: Agent Starting Run: 7nhqiv8a with config:\n",
            "\u001b[34m\u001b[1mwandb\u001b[0m: \tfirst_ratio: 0.9\n",
            "\u001b[34m\u001b[1mwandb\u001b[0m: \tlast_ratio: 0.1\n",
            "\u001b[34m\u001b[1mwandb\u001b[0m: \tmiddle_ratio: 0.5\n"
          ]
        },
        {
          "output_type": "display_data",
          "data": {
            "text/plain": [
              "<IPython.core.display.HTML object>"
            ],
            "text/html": [
              "Tracking run with wandb version 0.18.7"
            ]
          },
          "metadata": {}
        },
        {
          "output_type": "display_data",
          "data": {
            "text/plain": [
              "<IPython.core.display.HTML object>"
            ],
            "text/html": [
              "Run data is saved locally in <code>/content/wandb/run-20241209_173438-7nhqiv8a</code>"
            ]
          },
          "metadata": {}
        },
        {
          "output_type": "display_data",
          "data": {
            "text/plain": [
              "<IPython.core.display.HTML object>"
            ],
            "text/html": [
              "Syncing run <strong><a href='https://wandb.ai/tokamak01823-new-york-university/gpt2-pruning-optimization/runs/7nhqiv8a' target=\"_blank\">peach-sweep-21</a></strong> to <a href='https://wandb.ai/tokamak01823-new-york-university/gpt2-pruning-optimization' target=\"_blank\">Weights & Biases</a> (<a href='https://wandb.me/developer-guide' target=\"_blank\">docs</a>)<br/>Sweep page: <a href='https://wandb.ai/tokamak01823-new-york-university/gpt2-pruning-optimization/sweeps/wd1vpw3g' target=\"_blank\">https://wandb.ai/tokamak01823-new-york-university/gpt2-pruning-optimization/sweeps/wd1vpw3g</a>"
            ]
          },
          "metadata": {}
        },
        {
          "output_type": "display_data",
          "data": {
            "text/plain": [
              "<IPython.core.display.HTML object>"
            ],
            "text/html": [
              " View project at <a href='https://wandb.ai/tokamak01823-new-york-university/gpt2-pruning-optimization' target=\"_blank\">https://wandb.ai/tokamak01823-new-york-university/gpt2-pruning-optimization</a>"
            ]
          },
          "metadata": {}
        },
        {
          "output_type": "display_data",
          "data": {
            "text/plain": [
              "<IPython.core.display.HTML object>"
            ],
            "text/html": [
              " View sweep at <a href='https://wandb.ai/tokamak01823-new-york-university/gpt2-pruning-optimization/sweeps/wd1vpw3g' target=\"_blank\">https://wandb.ai/tokamak01823-new-york-university/gpt2-pruning-optimization/sweeps/wd1vpw3g</a>"
            ]
          },
          "metadata": {}
        },
        {
          "output_type": "display_data",
          "data": {
            "text/plain": [
              "<IPython.core.display.HTML object>"
            ],
            "text/html": [
              " View run at <a href='https://wandb.ai/tokamak01823-new-york-university/gpt2-pruning-optimization/runs/7nhqiv8a' target=\"_blank\">https://wandb.ai/tokamak01823-new-york-university/gpt2-pruning-optimization/runs/7nhqiv8a</a>"
            ]
          },
          "metadata": {}
        },
        {
          "output_type": "stream",
          "name": "stderr",
          "text": [
            "Re-training after pruning: 100%|██████████| 901/901 [03:24<00:00,  4.41it/s]\n"
          ]
        },
        {
          "output_type": "stream",
          "name": "stdout",
          "text": [
            "First test sample text:\n",
            "  Hurricanes are an ever @-@ present threat during the summer and fall season , which puts Galveston in Coastal Windstorm Area . Galveston Island and the Bolivar Peninsula are generally at the greatest risk among the communities near the Galveston Bay . However , though the island and peninsula provide some shielding , the bay shoreline still faces significant danger from storm surge . \n",
            "\n",
            "First test sample tokenized input_ids: tensor([[39419,   389,   281,  1683,  2488,    12,    31,  1944,  2372,  1141,\n",
            "           262,  3931,   290,  2121,  1622,   837,   543,  7584,  5027,  4223,\n",
            "           261,   287, 43513,  3086, 12135,  9498,   764,  5027,  4223,   261,\n",
            "          5451,   290,   262, 10797,   452,   283, 24078,   389,  4143,   379,\n",
            "           262,  6000,  2526,  1871,   262,  5348,  1474,   262,  5027,  4223,\n",
            "           261,  4696,   764,  2102,   837,   996,   262,  7022,   290, 28080,\n",
            "          2148,   617, 43539,   837,   262, 15489, 15191,  1370,   991,  6698,\n",
            "          2383,  3514,   422,  6388, 13853,   764,   220,   198]])\n",
            "Decoded text from tokenized input:  Hurricanes are an ever @-@ present threat during the summer and fall season , which puts Galveston in Coastal Windstorm Area . Galveston Island and the Bolivar Peninsula are generally at the greatest risk among the communities near the Galveston Bay . However , though the island and peninsula provide some shielding , the bay shoreline still faces significant danger from storm surge . \n",
            "\n",
            "Test Perplexity: 2.0725, Test Accuracy: 0.7271\n"
          ]
        },
        {
          "output_type": "display_data",
          "data": {
            "text/plain": [
              "VBox(children=(Label(value='0.014 MB of 0.014 MB uploaded\\r'), FloatProgress(value=1.0, max=1.0)))"
            ],
            "application/vnd.jupyter.widget-view+json": {
              "version_major": 2,
              "version_minor": 0,
              "model_id": "7bbe0ea702c54be88060d2b245f83f93"
            }
          },
          "metadata": {}
        },
        {
          "output_type": "display_data",
          "data": {
            "text/plain": [
              "<IPython.core.display.HTML object>"
            ],
            "text/html": [
              "\n",
              "    <style>\n",
              "        .wandb-row {\n",
              "            display: flex;\n",
              "            flex-direction: row;\n",
              "            flex-wrap: wrap;\n",
              "            justify-content: flex-start;\n",
              "            width: 100%;\n",
              "        }\n",
              "        .wandb-col {\n",
              "            display: flex;\n",
              "            flex-direction: column;\n",
              "            flex-basis: 100%;\n",
              "            flex: 1;\n",
              "            padding: 10px;\n",
              "        }\n",
              "    </style>\n",
              "<div class=\"wandb-row\"><div class=\"wandb-col\"><h3>Run history:</h3><br/><table class=\"wandb\"><tr><td>accuracy</td><td>▁</td></tr><tr><td>perplexity</td><td>▁</td></tr><tr><td>train_loss</td><td>▁</td></tr></table><br/></div><div class=\"wandb-col\"><h3>Run summary:</h3><br/><table class=\"wandb\"><tr><td>accuracy</td><td>0.72707</td></tr><tr><td>perplexity</td><td>2.07248</td></tr><tr><td>train_loss</td><td>1.71841</td></tr></table><br/></div></div>"
            ]
          },
          "metadata": {}
        },
        {
          "output_type": "display_data",
          "data": {
            "text/plain": [
              "<IPython.core.display.HTML object>"
            ],
            "text/html": [
              " View run <strong style=\"color:#cdcd00\">peach-sweep-21</strong> at: <a href='https://wandb.ai/tokamak01823-new-york-university/gpt2-pruning-optimization/runs/7nhqiv8a' target=\"_blank\">https://wandb.ai/tokamak01823-new-york-university/gpt2-pruning-optimization/runs/7nhqiv8a</a><br/> View project at: <a href='https://wandb.ai/tokamak01823-new-york-university/gpt2-pruning-optimization' target=\"_blank\">https://wandb.ai/tokamak01823-new-york-university/gpt2-pruning-optimization</a><br/>Synced 5 W&B file(s), 0 media file(s), 0 artifact file(s) and 0 other file(s)"
            ]
          },
          "metadata": {}
        },
        {
          "output_type": "display_data",
          "data": {
            "text/plain": [
              "<IPython.core.display.HTML object>"
            ],
            "text/html": [
              "Find logs at: <code>./wandb/run-20241209_173438-7nhqiv8a/logs</code>"
            ]
          },
          "metadata": {}
        },
        {
          "output_type": "stream",
          "name": "stderr",
          "text": [
            "\u001b[34m\u001b[1mwandb\u001b[0m: Agent Starting Run: wl1ikdlc with config:\n",
            "\u001b[34m\u001b[1mwandb\u001b[0m: \tfirst_ratio: 0.9\n",
            "\u001b[34m\u001b[1mwandb\u001b[0m: \tlast_ratio: 0.3\n",
            "\u001b[34m\u001b[1mwandb\u001b[0m: \tmiddle_ratio: 0.1\n"
          ]
        },
        {
          "output_type": "display_data",
          "data": {
            "text/plain": [
              "<IPython.core.display.HTML object>"
            ],
            "text/html": [
              "Tracking run with wandb version 0.18.7"
            ]
          },
          "metadata": {}
        },
        {
          "output_type": "display_data",
          "data": {
            "text/plain": [
              "<IPython.core.display.HTML object>"
            ],
            "text/html": [
              "Run data is saved locally in <code>/content/wandb/run-20241209_173839-wl1ikdlc</code>"
            ]
          },
          "metadata": {}
        },
        {
          "output_type": "display_data",
          "data": {
            "text/plain": [
              "<IPython.core.display.HTML object>"
            ],
            "text/html": [
              "Syncing run <strong><a href='https://wandb.ai/tokamak01823-new-york-university/gpt2-pruning-optimization/runs/wl1ikdlc' target=\"_blank\">swift-sweep-22</a></strong> to <a href='https://wandb.ai/tokamak01823-new-york-university/gpt2-pruning-optimization' target=\"_blank\">Weights & Biases</a> (<a href='https://wandb.me/developer-guide' target=\"_blank\">docs</a>)<br/>Sweep page: <a href='https://wandb.ai/tokamak01823-new-york-university/gpt2-pruning-optimization/sweeps/wd1vpw3g' target=\"_blank\">https://wandb.ai/tokamak01823-new-york-university/gpt2-pruning-optimization/sweeps/wd1vpw3g</a>"
            ]
          },
          "metadata": {}
        },
        {
          "output_type": "display_data",
          "data": {
            "text/plain": [
              "<IPython.core.display.HTML object>"
            ],
            "text/html": [
              " View project at <a href='https://wandb.ai/tokamak01823-new-york-university/gpt2-pruning-optimization' target=\"_blank\">https://wandb.ai/tokamak01823-new-york-university/gpt2-pruning-optimization</a>"
            ]
          },
          "metadata": {}
        },
        {
          "output_type": "display_data",
          "data": {
            "text/plain": [
              "<IPython.core.display.HTML object>"
            ],
            "text/html": [
              " View sweep at <a href='https://wandb.ai/tokamak01823-new-york-university/gpt2-pruning-optimization/sweeps/wd1vpw3g' target=\"_blank\">https://wandb.ai/tokamak01823-new-york-university/gpt2-pruning-optimization/sweeps/wd1vpw3g</a>"
            ]
          },
          "metadata": {}
        },
        {
          "output_type": "display_data",
          "data": {
            "text/plain": [
              "<IPython.core.display.HTML object>"
            ],
            "text/html": [
              " View run at <a href='https://wandb.ai/tokamak01823-new-york-university/gpt2-pruning-optimization/runs/wl1ikdlc' target=\"_blank\">https://wandb.ai/tokamak01823-new-york-university/gpt2-pruning-optimization/runs/wl1ikdlc</a>"
            ]
          },
          "metadata": {}
        },
        {
          "output_type": "stream",
          "name": "stderr",
          "text": [
            "Re-training after pruning: 100%|██████████| 901/901 [03:22<00:00,  4.44it/s]\n"
          ]
        },
        {
          "output_type": "stream",
          "name": "stdout",
          "text": [
            "First test sample text:\n",
            "  Hurricanes are an ever @-@ present threat during the summer and fall season , which puts Galveston in Coastal Windstorm Area . Galveston Island and the Bolivar Peninsula are generally at the greatest risk among the communities near the Galveston Bay . However , though the island and peninsula provide some shielding , the bay shoreline still faces significant danger from storm surge . \n",
            "\n",
            "First test sample tokenized input_ids: tensor([[39419,   389,   281,  1683,  2488,    12,    31,  1944,  2372,  1141,\n",
            "           262,  3931,   290,  2121,  1622,   837,   543,  7584,  5027,  4223,\n",
            "           261,   287, 43513,  3086, 12135,  9498,   764,  5027,  4223,   261,\n",
            "          5451,   290,   262, 10797,   452,   283, 24078,   389,  4143,   379,\n",
            "           262,  6000,  2526,  1871,   262,  5348,  1474,   262,  5027,  4223,\n",
            "           261,  4696,   764,  2102,   837,   996,   262,  7022,   290, 28080,\n",
            "          2148,   617, 43539,   837,   262, 15489, 15191,  1370,   991,  6698,\n",
            "          2383,  3514,   422,  6388, 13853,   764,   220,   198]])\n",
            "Decoded text from tokenized input:  Hurricanes are an ever @-@ present threat during the summer and fall season , which puts Galveston in Coastal Windstorm Area . Galveston Island and the Bolivar Peninsula are generally at the greatest risk among the communities near the Galveston Bay . However , though the island and peninsula provide some shielding , the bay shoreline still faces significant danger from storm surge . \n",
            "\n",
            "Test Perplexity: 1.8784, Test Accuracy: 0.7267\n"
          ]
        },
        {
          "output_type": "display_data",
          "data": {
            "text/plain": [
              "VBox(children=(Label(value='0.014 MB of 0.014 MB uploaded\\r'), FloatProgress(value=1.0, max=1.0)))"
            ],
            "application/vnd.jupyter.widget-view+json": {
              "version_major": 2,
              "version_minor": 0,
              "model_id": "5cabf7f99329418d9e1d35207786a387"
            }
          },
          "metadata": {}
        },
        {
          "output_type": "display_data",
          "data": {
            "text/plain": [
              "<IPython.core.display.HTML object>"
            ],
            "text/html": [
              "\n",
              "    <style>\n",
              "        .wandb-row {\n",
              "            display: flex;\n",
              "            flex-direction: row;\n",
              "            flex-wrap: wrap;\n",
              "            justify-content: flex-start;\n",
              "            width: 100%;\n",
              "        }\n",
              "        .wandb-col {\n",
              "            display: flex;\n",
              "            flex-direction: column;\n",
              "            flex-basis: 100%;\n",
              "            flex: 1;\n",
              "            padding: 10px;\n",
              "        }\n",
              "    </style>\n",
              "<div class=\"wandb-row\"><div class=\"wandb-col\"><h3>Run history:</h3><br/><table class=\"wandb\"><tr><td>accuracy</td><td>▁</td></tr><tr><td>perplexity</td><td>▁</td></tr><tr><td>train_loss</td><td>▁</td></tr></table><br/></div><div class=\"wandb-col\"><h3>Run summary:</h3><br/><table class=\"wandb\"><tr><td>accuracy</td><td>0.72668</td></tr><tr><td>perplexity</td><td>1.8784</td></tr><tr><td>train_loss</td><td>1.64902</td></tr></table><br/></div></div>"
            ]
          },
          "metadata": {}
        },
        {
          "output_type": "display_data",
          "data": {
            "text/plain": [
              "<IPython.core.display.HTML object>"
            ],
            "text/html": [
              " View run <strong style=\"color:#cdcd00\">swift-sweep-22</strong> at: <a href='https://wandb.ai/tokamak01823-new-york-university/gpt2-pruning-optimization/runs/wl1ikdlc' target=\"_blank\">https://wandb.ai/tokamak01823-new-york-university/gpt2-pruning-optimization/runs/wl1ikdlc</a><br/> View project at: <a href='https://wandb.ai/tokamak01823-new-york-university/gpt2-pruning-optimization' target=\"_blank\">https://wandb.ai/tokamak01823-new-york-university/gpt2-pruning-optimization</a><br/>Synced 5 W&B file(s), 0 media file(s), 0 artifact file(s) and 0 other file(s)"
            ]
          },
          "metadata": {}
        },
        {
          "output_type": "display_data",
          "data": {
            "text/plain": [
              "<IPython.core.display.HTML object>"
            ],
            "text/html": [
              "Find logs at: <code>./wandb/run-20241209_173839-wl1ikdlc/logs</code>"
            ]
          },
          "metadata": {}
        },
        {
          "output_type": "stream",
          "name": "stderr",
          "text": [
            "\u001b[34m\u001b[1mwandb\u001b[0m: Agent Starting Run: s7vlee2v with config:\n",
            "\u001b[34m\u001b[1mwandb\u001b[0m: \tfirst_ratio: 0.9\n",
            "\u001b[34m\u001b[1mwandb\u001b[0m: \tlast_ratio: 0.5\n",
            "\u001b[34m\u001b[1mwandb\u001b[0m: \tmiddle_ratio: 0.3\n"
          ]
        },
        {
          "output_type": "display_data",
          "data": {
            "text/plain": [
              "<IPython.core.display.HTML object>"
            ],
            "text/html": [
              "Tracking run with wandb version 0.18.7"
            ]
          },
          "metadata": {}
        },
        {
          "output_type": "display_data",
          "data": {
            "text/plain": [
              "<IPython.core.display.HTML object>"
            ],
            "text/html": [
              "Run data is saved locally in <code>/content/wandb/run-20241209_174235-s7vlee2v</code>"
            ]
          },
          "metadata": {}
        },
        {
          "output_type": "display_data",
          "data": {
            "text/plain": [
              "<IPython.core.display.HTML object>"
            ],
            "text/html": [
              "Syncing run <strong><a href='https://wandb.ai/tokamak01823-new-york-university/gpt2-pruning-optimization/runs/s7vlee2v' target=\"_blank\">atomic-sweep-23</a></strong> to <a href='https://wandb.ai/tokamak01823-new-york-university/gpt2-pruning-optimization' target=\"_blank\">Weights & Biases</a> (<a href='https://wandb.me/developer-guide' target=\"_blank\">docs</a>)<br/>Sweep page: <a href='https://wandb.ai/tokamak01823-new-york-university/gpt2-pruning-optimization/sweeps/wd1vpw3g' target=\"_blank\">https://wandb.ai/tokamak01823-new-york-university/gpt2-pruning-optimization/sweeps/wd1vpw3g</a>"
            ]
          },
          "metadata": {}
        },
        {
          "output_type": "display_data",
          "data": {
            "text/plain": [
              "<IPython.core.display.HTML object>"
            ],
            "text/html": [
              " View project at <a href='https://wandb.ai/tokamak01823-new-york-university/gpt2-pruning-optimization' target=\"_blank\">https://wandb.ai/tokamak01823-new-york-university/gpt2-pruning-optimization</a>"
            ]
          },
          "metadata": {}
        },
        {
          "output_type": "display_data",
          "data": {
            "text/plain": [
              "<IPython.core.display.HTML object>"
            ],
            "text/html": [
              " View sweep at <a href='https://wandb.ai/tokamak01823-new-york-university/gpt2-pruning-optimization/sweeps/wd1vpw3g' target=\"_blank\">https://wandb.ai/tokamak01823-new-york-university/gpt2-pruning-optimization/sweeps/wd1vpw3g</a>"
            ]
          },
          "metadata": {}
        },
        {
          "output_type": "display_data",
          "data": {
            "text/plain": [
              "<IPython.core.display.HTML object>"
            ],
            "text/html": [
              " View run at <a href='https://wandb.ai/tokamak01823-new-york-university/gpt2-pruning-optimization/runs/s7vlee2v' target=\"_blank\">https://wandb.ai/tokamak01823-new-york-university/gpt2-pruning-optimization/runs/s7vlee2v</a>"
            ]
          },
          "metadata": {}
        },
        {
          "output_type": "stream",
          "name": "stderr",
          "text": [
            "Re-training after pruning: 100%|██████████| 901/901 [03:23<00:00,  4.44it/s]\n"
          ]
        },
        {
          "output_type": "stream",
          "name": "stdout",
          "text": [
            "First test sample text:\n",
            "  Hurricanes are an ever @-@ present threat during the summer and fall season , which puts Galveston in Coastal Windstorm Area . Galveston Island and the Bolivar Peninsula are generally at the greatest risk among the communities near the Galveston Bay . However , though the island and peninsula provide some shielding , the bay shoreline still faces significant danger from storm surge . \n",
            "\n",
            "First test sample tokenized input_ids: tensor([[39419,   389,   281,  1683,  2488,    12,    31,  1944,  2372,  1141,\n",
            "           262,  3931,   290,  2121,  1622,   837,   543,  7584,  5027,  4223,\n",
            "           261,   287, 43513,  3086, 12135,  9498,   764,  5027,  4223,   261,\n",
            "          5451,   290,   262, 10797,   452,   283, 24078,   389,  4143,   379,\n",
            "           262,  6000,  2526,  1871,   262,  5348,  1474,   262,  5027,  4223,\n",
            "           261,  4696,   764,  2102,   837,   996,   262,  7022,   290, 28080,\n",
            "          2148,   617, 43539,   837,   262, 15489, 15191,  1370,   991,  6698,\n",
            "          2383,  3514,   422,  6388, 13853,   764,   220,   198]])\n",
            "Decoded text from tokenized input:  Hurricanes are an ever @-@ present threat during the summer and fall season , which puts Galveston in Coastal Windstorm Area . Galveston Island and the Bolivar Peninsula are generally at the greatest risk among the communities near the Galveston Bay . However , though the island and peninsula provide some shielding , the bay shoreline still faces significant danger from storm surge . \n",
            "\n",
            "Test Perplexity: 2.0100, Test Accuracy: 0.7268\n"
          ]
        },
        {
          "output_type": "display_data",
          "data": {
            "text/plain": [
              "VBox(children=(Label(value='0.014 MB of 0.014 MB uploaded\\r'), FloatProgress(value=1.0, max=1.0)))"
            ],
            "application/vnd.jupyter.widget-view+json": {
              "version_major": 2,
              "version_minor": 0,
              "model_id": "0e4e553802b748268a18dd567a637a75"
            }
          },
          "metadata": {}
        },
        {
          "output_type": "display_data",
          "data": {
            "text/plain": [
              "<IPython.core.display.HTML object>"
            ],
            "text/html": [
              "\n",
              "    <style>\n",
              "        .wandb-row {\n",
              "            display: flex;\n",
              "            flex-direction: row;\n",
              "            flex-wrap: wrap;\n",
              "            justify-content: flex-start;\n",
              "            width: 100%;\n",
              "        }\n",
              "        .wandb-col {\n",
              "            display: flex;\n",
              "            flex-direction: column;\n",
              "            flex-basis: 100%;\n",
              "            flex: 1;\n",
              "            padding: 10px;\n",
              "        }\n",
              "    </style>\n",
              "<div class=\"wandb-row\"><div class=\"wandb-col\"><h3>Run history:</h3><br/><table class=\"wandb\"><tr><td>accuracy</td><td>▁</td></tr><tr><td>perplexity</td><td>▁</td></tr><tr><td>train_loss</td><td>▁</td></tr></table><br/></div><div class=\"wandb-col\"><h3>Run summary:</h3><br/><table class=\"wandb\"><tr><td>accuracy</td><td>0.72683</td></tr><tr><td>perplexity</td><td>2.01001</td></tr><tr><td>train_loss</td><td>1.62781</td></tr></table><br/></div></div>"
            ]
          },
          "metadata": {}
        },
        {
          "output_type": "display_data",
          "data": {
            "text/plain": [
              "<IPython.core.display.HTML object>"
            ],
            "text/html": [
              " View run <strong style=\"color:#cdcd00\">atomic-sweep-23</strong> at: <a href='https://wandb.ai/tokamak01823-new-york-university/gpt2-pruning-optimization/runs/s7vlee2v' target=\"_blank\">https://wandb.ai/tokamak01823-new-york-university/gpt2-pruning-optimization/runs/s7vlee2v</a><br/> View project at: <a href='https://wandb.ai/tokamak01823-new-york-university/gpt2-pruning-optimization' target=\"_blank\">https://wandb.ai/tokamak01823-new-york-university/gpt2-pruning-optimization</a><br/>Synced 5 W&B file(s), 0 media file(s), 0 artifact file(s) and 0 other file(s)"
            ]
          },
          "metadata": {}
        },
        {
          "output_type": "display_data",
          "data": {
            "text/plain": [
              "<IPython.core.display.HTML object>"
            ],
            "text/html": [
              "Find logs at: <code>./wandb/run-20241209_174235-s7vlee2v/logs</code>"
            ]
          },
          "metadata": {}
        },
        {
          "output_type": "stream",
          "name": "stderr",
          "text": [
            "\u001b[34m\u001b[1mwandb\u001b[0m: Sweep Agent: Waiting for job.\n",
            "\u001b[34m\u001b[1mwandb\u001b[0m: Job received.\n",
            "\u001b[34m\u001b[1mwandb\u001b[0m: Agent Starting Run: olubkwn5 with config:\n",
            "\u001b[34m\u001b[1mwandb\u001b[0m: \tfirst_ratio: 0.5\n",
            "\u001b[34m\u001b[1mwandb\u001b[0m: \tlast_ratio: 0.5\n",
            "\u001b[34m\u001b[1mwandb\u001b[0m: \tmiddle_ratio: 0.5\n"
          ]
        },
        {
          "output_type": "display_data",
          "data": {
            "text/plain": [
              "<IPython.core.display.HTML object>"
            ],
            "text/html": [
              "Tracking run with wandb version 0.18.7"
            ]
          },
          "metadata": {}
        },
        {
          "output_type": "display_data",
          "data": {
            "text/plain": [
              "<IPython.core.display.HTML object>"
            ],
            "text/html": [
              "Run data is saved locally in <code>/content/wandb/run-20241209_174641-olubkwn5</code>"
            ]
          },
          "metadata": {}
        },
        {
          "output_type": "display_data",
          "data": {
            "text/plain": [
              "<IPython.core.display.HTML object>"
            ],
            "text/html": [
              "Syncing run <strong><a href='https://wandb.ai/tokamak01823-new-york-university/gpt2-pruning-optimization/runs/olubkwn5' target=\"_blank\">exalted-sweep-24</a></strong> to <a href='https://wandb.ai/tokamak01823-new-york-university/gpt2-pruning-optimization' target=\"_blank\">Weights & Biases</a> (<a href='https://wandb.me/developer-guide' target=\"_blank\">docs</a>)<br/>Sweep page: <a href='https://wandb.ai/tokamak01823-new-york-university/gpt2-pruning-optimization/sweeps/wd1vpw3g' target=\"_blank\">https://wandb.ai/tokamak01823-new-york-university/gpt2-pruning-optimization/sweeps/wd1vpw3g</a>"
            ]
          },
          "metadata": {}
        },
        {
          "output_type": "display_data",
          "data": {
            "text/plain": [
              "<IPython.core.display.HTML object>"
            ],
            "text/html": [
              " View project at <a href='https://wandb.ai/tokamak01823-new-york-university/gpt2-pruning-optimization' target=\"_blank\">https://wandb.ai/tokamak01823-new-york-university/gpt2-pruning-optimization</a>"
            ]
          },
          "metadata": {}
        },
        {
          "output_type": "display_data",
          "data": {
            "text/plain": [
              "<IPython.core.display.HTML object>"
            ],
            "text/html": [
              " View sweep at <a href='https://wandb.ai/tokamak01823-new-york-university/gpt2-pruning-optimization/sweeps/wd1vpw3g' target=\"_blank\">https://wandb.ai/tokamak01823-new-york-university/gpt2-pruning-optimization/sweeps/wd1vpw3g</a>"
            ]
          },
          "metadata": {}
        },
        {
          "output_type": "display_data",
          "data": {
            "text/plain": [
              "<IPython.core.display.HTML object>"
            ],
            "text/html": [
              " View run at <a href='https://wandb.ai/tokamak01823-new-york-university/gpt2-pruning-optimization/runs/olubkwn5' target=\"_blank\">https://wandb.ai/tokamak01823-new-york-university/gpt2-pruning-optimization/runs/olubkwn5</a>"
            ]
          },
          "metadata": {}
        },
        {
          "output_type": "stream",
          "name": "stderr",
          "text": [
            "Re-training after pruning: 100%|██████████| 901/901 [03:25<00:00,  4.39it/s]\n"
          ]
        },
        {
          "output_type": "stream",
          "name": "stdout",
          "text": [
            "First test sample text:\n",
            "  Hurricanes are an ever @-@ present threat during the summer and fall season , which puts Galveston in Coastal Windstorm Area . Galveston Island and the Bolivar Peninsula are generally at the greatest risk among the communities near the Galveston Bay . However , though the island and peninsula provide some shielding , the bay shoreline still faces significant danger from storm surge . \n",
            "\n",
            "First test sample tokenized input_ids: tensor([[39419,   389,   281,  1683,  2488,    12,    31,  1944,  2372,  1141,\n",
            "           262,  3931,   290,  2121,  1622,   837,   543,  7584,  5027,  4223,\n",
            "           261,   287, 43513,  3086, 12135,  9498,   764,  5027,  4223,   261,\n",
            "          5451,   290,   262, 10797,   452,   283, 24078,   389,  4143,   379,\n",
            "           262,  6000,  2526,  1871,   262,  5348,  1474,   262,  5027,  4223,\n",
            "           261,  4696,   764,  2102,   837,   996,   262,  7022,   290, 28080,\n",
            "          2148,   617, 43539,   837,   262, 15489, 15191,  1370,   991,  6698,\n",
            "          2383,  3514,   422,  6388, 13853,   764,   220,   198]])\n",
            "Decoded text from tokenized input:  Hurricanes are an ever @-@ present threat during the summer and fall season , which puts Galveston in Coastal Windstorm Area . Galveston Island and the Bolivar Peninsula are generally at the greatest risk among the communities near the Galveston Bay . However , though the island and peninsula provide some shielding , the bay shoreline still faces significant danger from storm surge . \n",
            "\n",
            "Test Perplexity: 1.2199, Test Accuracy: 0.7262\n"
          ]
        },
        {
          "output_type": "display_data",
          "data": {
            "text/plain": [
              "<IPython.core.display.HTML object>"
            ],
            "text/html": [
              "\n",
              "    <style>\n",
              "        .wandb-row {\n",
              "            display: flex;\n",
              "            flex-direction: row;\n",
              "            flex-wrap: wrap;\n",
              "            justify-content: flex-start;\n",
              "            width: 100%;\n",
              "        }\n",
              "        .wandb-col {\n",
              "            display: flex;\n",
              "            flex-direction: column;\n",
              "            flex-basis: 100%;\n",
              "            flex: 1;\n",
              "            padding: 10px;\n",
              "        }\n",
              "    </style>\n",
              "<div class=\"wandb-row\"><div class=\"wandb-col\"><h3>Run history:</h3><br/><table class=\"wandb\"><tr><td>accuracy</td><td>▁</td></tr><tr><td>perplexity</td><td>▁</td></tr><tr><td>train_loss</td><td>▁</td></tr></table><br/></div><div class=\"wandb-col\"><h3>Run summary:</h3><br/><table class=\"wandb\"><tr><td>accuracy</td><td>0.72615</td></tr><tr><td>perplexity</td><td>1.21988</td></tr><tr><td>train_loss</td><td>0.47941</td></tr></table><br/></div></div>"
            ]
          },
          "metadata": {}
        },
        {
          "output_type": "display_data",
          "data": {
            "text/plain": [
              "<IPython.core.display.HTML object>"
            ],
            "text/html": [
              " View run <strong style=\"color:#cdcd00\">exalted-sweep-24</strong> at: <a href='https://wandb.ai/tokamak01823-new-york-university/gpt2-pruning-optimization/runs/olubkwn5' target=\"_blank\">https://wandb.ai/tokamak01823-new-york-university/gpt2-pruning-optimization/runs/olubkwn5</a><br/> View project at: <a href='https://wandb.ai/tokamak01823-new-york-university/gpt2-pruning-optimization' target=\"_blank\">https://wandb.ai/tokamak01823-new-york-university/gpt2-pruning-optimization</a><br/>Synced 5 W&B file(s), 0 media file(s), 0 artifact file(s) and 0 other file(s)"
            ]
          },
          "metadata": {}
        },
        {
          "output_type": "display_data",
          "data": {
            "text/plain": [
              "<IPython.core.display.HTML object>"
            ],
            "text/html": [
              "Find logs at: <code>./wandb/run-20241209_174641-olubkwn5/logs</code>"
            ]
          },
          "metadata": {}
        },
        {
          "output_type": "stream",
          "name": "stderr",
          "text": [
            "\u001b[34m\u001b[1mwandb\u001b[0m: Agent Starting Run: jt6e5csn with config:\n",
            "\u001b[34m\u001b[1mwandb\u001b[0m: \tfirst_ratio: 0.9\n",
            "\u001b[34m\u001b[1mwandb\u001b[0m: \tlast_ratio: 0\n",
            "\u001b[34m\u001b[1mwandb\u001b[0m: \tmiddle_ratio: 0.7\n"
          ]
        },
        {
          "output_type": "display_data",
          "data": {
            "text/plain": [
              "<IPython.core.display.HTML object>"
            ],
            "text/html": [
              "Tracking run with wandb version 0.18.7"
            ]
          },
          "metadata": {}
        },
        {
          "output_type": "display_data",
          "data": {
            "text/plain": [
              "<IPython.core.display.HTML object>"
            ],
            "text/html": [
              "Run data is saved locally in <code>/content/wandb/run-20241209_175043-jt6e5csn</code>"
            ]
          },
          "metadata": {}
        },
        {
          "output_type": "display_data",
          "data": {
            "text/plain": [
              "<IPython.core.display.HTML object>"
            ],
            "text/html": [
              "Syncing run <strong><a href='https://wandb.ai/tokamak01823-new-york-university/gpt2-pruning-optimization/runs/jt6e5csn' target=\"_blank\">fresh-sweep-25</a></strong> to <a href='https://wandb.ai/tokamak01823-new-york-university/gpt2-pruning-optimization' target=\"_blank\">Weights & Biases</a> (<a href='https://wandb.me/developer-guide' target=\"_blank\">docs</a>)<br/>Sweep page: <a href='https://wandb.ai/tokamak01823-new-york-university/gpt2-pruning-optimization/sweeps/wd1vpw3g' target=\"_blank\">https://wandb.ai/tokamak01823-new-york-university/gpt2-pruning-optimization/sweeps/wd1vpw3g</a>"
            ]
          },
          "metadata": {}
        },
        {
          "output_type": "display_data",
          "data": {
            "text/plain": [
              "<IPython.core.display.HTML object>"
            ],
            "text/html": [
              " View project at <a href='https://wandb.ai/tokamak01823-new-york-university/gpt2-pruning-optimization' target=\"_blank\">https://wandb.ai/tokamak01823-new-york-university/gpt2-pruning-optimization</a>"
            ]
          },
          "metadata": {}
        },
        {
          "output_type": "display_data",
          "data": {
            "text/plain": [
              "<IPython.core.display.HTML object>"
            ],
            "text/html": [
              " View sweep at <a href='https://wandb.ai/tokamak01823-new-york-university/gpt2-pruning-optimization/sweeps/wd1vpw3g' target=\"_blank\">https://wandb.ai/tokamak01823-new-york-university/gpt2-pruning-optimization/sweeps/wd1vpw3g</a>"
            ]
          },
          "metadata": {}
        },
        {
          "output_type": "display_data",
          "data": {
            "text/plain": [
              "<IPython.core.display.HTML object>"
            ],
            "text/html": [
              " View run at <a href='https://wandb.ai/tokamak01823-new-york-university/gpt2-pruning-optimization/runs/jt6e5csn' target=\"_blank\">https://wandb.ai/tokamak01823-new-york-university/gpt2-pruning-optimization/runs/jt6e5csn</a>"
            ]
          },
          "metadata": {}
        },
        {
          "output_type": "stream",
          "name": "stderr",
          "text": [
            "Re-training after pruning: 100%|██████████| 901/901 [03:23<00:00,  4.42it/s]\n"
          ]
        },
        {
          "output_type": "stream",
          "name": "stdout",
          "text": [
            "First test sample text:\n",
            "  Hurricanes are an ever @-@ present threat during the summer and fall season , which puts Galveston in Coastal Windstorm Area . Galveston Island and the Bolivar Peninsula are generally at the greatest risk among the communities near the Galveston Bay . However , though the island and peninsula provide some shielding , the bay shoreline still faces significant danger from storm surge . \n",
            "\n",
            "First test sample tokenized input_ids: tensor([[39419,   389,   281,  1683,  2488,    12,    31,  1944,  2372,  1141,\n",
            "           262,  3931,   290,  2121,  1622,   837,   543,  7584,  5027,  4223,\n",
            "           261,   287, 43513,  3086, 12135,  9498,   764,  5027,  4223,   261,\n",
            "          5451,   290,   262, 10797,   452,   283, 24078,   389,  4143,   379,\n",
            "           262,  6000,  2526,  1871,   262,  5348,  1474,   262,  5027,  4223,\n",
            "           261,  4696,   764,  2102,   837,   996,   262,  7022,   290, 28080,\n",
            "          2148,   617, 43539,   837,   262, 15489, 15191,  1370,   991,  6698,\n",
            "          2383,  3514,   422,  6388, 13853,   764,   220,   198]])\n",
            "Decoded text from tokenized input:  Hurricanes are an ever @-@ present threat during the summer and fall season , which puts Galveston in Coastal Windstorm Area . Galveston Island and the Bolivar Peninsula are generally at the greatest risk among the communities near the Galveston Bay . However , though the island and peninsula provide some shielding , the bay shoreline still faces significant danger from storm surge . \n",
            "\n",
            "Test Perplexity: 2.4265, Test Accuracy: 0.7274\n"
          ]
        },
        {
          "output_type": "display_data",
          "data": {
            "text/plain": [
              "VBox(children=(Label(value='0.014 MB of 0.014 MB uploaded\\r'), FloatProgress(value=1.0, max=1.0)))"
            ],
            "application/vnd.jupyter.widget-view+json": {
              "version_major": 2,
              "version_minor": 0,
              "model_id": "a16a2edbfa3c4ee8b4bf85f68ae04f79"
            }
          },
          "metadata": {}
        },
        {
          "output_type": "display_data",
          "data": {
            "text/plain": [
              "<IPython.core.display.HTML object>"
            ],
            "text/html": [
              "\n",
              "    <style>\n",
              "        .wandb-row {\n",
              "            display: flex;\n",
              "            flex-direction: row;\n",
              "            flex-wrap: wrap;\n",
              "            justify-content: flex-start;\n",
              "            width: 100%;\n",
              "        }\n",
              "        .wandb-col {\n",
              "            display: flex;\n",
              "            flex-direction: column;\n",
              "            flex-basis: 100%;\n",
              "            flex: 1;\n",
              "            padding: 10px;\n",
              "        }\n",
              "    </style>\n",
              "<div class=\"wandb-row\"><div class=\"wandb-col\"><h3>Run history:</h3><br/><table class=\"wandb\"><tr><td>accuracy</td><td>▁</td></tr><tr><td>perplexity</td><td>▁</td></tr><tr><td>train_loss</td><td>▁</td></tr></table><br/></div><div class=\"wandb-col\"><h3>Run summary:</h3><br/><table class=\"wandb\"><tr><td>accuracy</td><td>0.72741</td></tr><tr><td>perplexity</td><td>2.42647</td></tr><tr><td>train_loss</td><td>1.82052</td></tr></table><br/></div></div>"
            ]
          },
          "metadata": {}
        },
        {
          "output_type": "display_data",
          "data": {
            "text/plain": [
              "<IPython.core.display.HTML object>"
            ],
            "text/html": [
              " View run <strong style=\"color:#cdcd00\">fresh-sweep-25</strong> at: <a href='https://wandb.ai/tokamak01823-new-york-university/gpt2-pruning-optimization/runs/jt6e5csn' target=\"_blank\">https://wandb.ai/tokamak01823-new-york-university/gpt2-pruning-optimization/runs/jt6e5csn</a><br/> View project at: <a href='https://wandb.ai/tokamak01823-new-york-university/gpt2-pruning-optimization' target=\"_blank\">https://wandb.ai/tokamak01823-new-york-university/gpt2-pruning-optimization</a><br/>Synced 5 W&B file(s), 0 media file(s), 0 artifact file(s) and 0 other file(s)"
            ]
          },
          "metadata": {}
        },
        {
          "output_type": "display_data",
          "data": {
            "text/plain": [
              "<IPython.core.display.HTML object>"
            ],
            "text/html": [
              "Find logs at: <code>./wandb/run-20241209_175043-jt6e5csn/logs</code>"
            ]
          },
          "metadata": {}
        },
        {
          "output_type": "stream",
          "name": "stderr",
          "text": [
            "\u001b[34m\u001b[1mwandb\u001b[0m: Sweep Agent: Waiting for job.\n",
            "\u001b[34m\u001b[1mwandb\u001b[0m: Job received.\n",
            "\u001b[34m\u001b[1mwandb\u001b[0m: Agent Starting Run: cwaxj9b5 with config:\n",
            "\u001b[34m\u001b[1mwandb\u001b[0m: \tfirst_ratio: 0.5\n",
            "\u001b[34m\u001b[1mwandb\u001b[0m: \tlast_ratio: 0.3\n",
            "\u001b[34m\u001b[1mwandb\u001b[0m: \tmiddle_ratio: 0\n"
          ]
        },
        {
          "output_type": "display_data",
          "data": {
            "text/plain": [
              "<IPython.core.display.HTML object>"
            ],
            "text/html": [
              "Tracking run with wandb version 0.18.7"
            ]
          },
          "metadata": {}
        },
        {
          "output_type": "display_data",
          "data": {
            "text/plain": [
              "<IPython.core.display.HTML object>"
            ],
            "text/html": [
              "Run data is saved locally in <code>/content/wandb/run-20241209_175449-cwaxj9b5</code>"
            ]
          },
          "metadata": {}
        },
        {
          "output_type": "display_data",
          "data": {
            "text/plain": [
              "<IPython.core.display.HTML object>"
            ],
            "text/html": [
              "Syncing run <strong><a href='https://wandb.ai/tokamak01823-new-york-university/gpt2-pruning-optimization/runs/cwaxj9b5' target=\"_blank\">dazzling-sweep-26</a></strong> to <a href='https://wandb.ai/tokamak01823-new-york-university/gpt2-pruning-optimization' target=\"_blank\">Weights & Biases</a> (<a href='https://wandb.me/developer-guide' target=\"_blank\">docs</a>)<br/>Sweep page: <a href='https://wandb.ai/tokamak01823-new-york-university/gpt2-pruning-optimization/sweeps/wd1vpw3g' target=\"_blank\">https://wandb.ai/tokamak01823-new-york-university/gpt2-pruning-optimization/sweeps/wd1vpw3g</a>"
            ]
          },
          "metadata": {}
        },
        {
          "output_type": "display_data",
          "data": {
            "text/plain": [
              "<IPython.core.display.HTML object>"
            ],
            "text/html": [
              " View project at <a href='https://wandb.ai/tokamak01823-new-york-university/gpt2-pruning-optimization' target=\"_blank\">https://wandb.ai/tokamak01823-new-york-university/gpt2-pruning-optimization</a>"
            ]
          },
          "metadata": {}
        },
        {
          "output_type": "display_data",
          "data": {
            "text/plain": [
              "<IPython.core.display.HTML object>"
            ],
            "text/html": [
              " View sweep at <a href='https://wandb.ai/tokamak01823-new-york-university/gpt2-pruning-optimization/sweeps/wd1vpw3g' target=\"_blank\">https://wandb.ai/tokamak01823-new-york-university/gpt2-pruning-optimization/sweeps/wd1vpw3g</a>"
            ]
          },
          "metadata": {}
        },
        {
          "output_type": "display_data",
          "data": {
            "text/plain": [
              "<IPython.core.display.HTML object>"
            ],
            "text/html": [
              " View run at <a href='https://wandb.ai/tokamak01823-new-york-university/gpt2-pruning-optimization/runs/cwaxj9b5' target=\"_blank\">https://wandb.ai/tokamak01823-new-york-university/gpt2-pruning-optimization/runs/cwaxj9b5</a>"
            ]
          },
          "metadata": {}
        },
        {
          "output_type": "stream",
          "name": "stderr",
          "text": [
            "Re-training after pruning: 100%|██████████| 901/901 [03:23<00:00,  4.42it/s]\n"
          ]
        },
        {
          "output_type": "stream",
          "name": "stdout",
          "text": [
            "First test sample text:\n",
            "  Hurricanes are an ever @-@ present threat during the summer and fall season , which puts Galveston in Coastal Windstorm Area . Galveston Island and the Bolivar Peninsula are generally at the greatest risk among the communities near the Galveston Bay . However , though the island and peninsula provide some shielding , the bay shoreline still faces significant danger from storm surge . \n",
            "\n",
            "First test sample tokenized input_ids: tensor([[39419,   389,   281,  1683,  2488,    12,    31,  1944,  2372,  1141,\n",
            "           262,  3931,   290,  2121,  1622,   837,   543,  7584,  5027,  4223,\n",
            "           261,   287, 43513,  3086, 12135,  9498,   764,  5027,  4223,   261,\n",
            "          5451,   290,   262, 10797,   452,   283, 24078,   389,  4143,   379,\n",
            "           262,  6000,  2526,  1871,   262,  5348,  1474,   262,  5027,  4223,\n",
            "           261,  4696,   764,  2102,   837,   996,   262,  7022,   290, 28080,\n",
            "          2148,   617, 43539,   837,   262, 15489, 15191,  1370,   991,  6698,\n",
            "          2383,  3514,   422,  6388, 13853,   764,   220,   198]])\n",
            "Decoded text from tokenized input:  Hurricanes are an ever @-@ present threat during the summer and fall season , which puts Galveston in Coastal Windstorm Area . Galveston Island and the Bolivar Peninsula are generally at the greatest risk among the communities near the Galveston Bay . However , though the island and peninsula provide some shielding , the bay shoreline still faces significant danger from storm surge . \n",
            "\n",
            "Test Perplexity: 1.0925, Test Accuracy: 0.7261\n"
          ]
        },
        {
          "output_type": "display_data",
          "data": {
            "text/plain": [
              "VBox(children=(Label(value='0.014 MB of 0.014 MB uploaded\\r'), FloatProgress(value=1.0, max=1.0)))"
            ],
            "application/vnd.jupyter.widget-view+json": {
              "version_major": 2,
              "version_minor": 0,
              "model_id": "dd65ee31c4c74016b758a5a9d2362eea"
            }
          },
          "metadata": {}
        },
        {
          "output_type": "display_data",
          "data": {
            "text/plain": [
              "<IPython.core.display.HTML object>"
            ],
            "text/html": [
              "\n",
              "    <style>\n",
              "        .wandb-row {\n",
              "            display: flex;\n",
              "            flex-direction: row;\n",
              "            flex-wrap: wrap;\n",
              "            justify-content: flex-start;\n",
              "            width: 100%;\n",
              "        }\n",
              "        .wandb-col {\n",
              "            display: flex;\n",
              "            flex-direction: column;\n",
              "            flex-basis: 100%;\n",
              "            flex: 1;\n",
              "            padding: 10px;\n",
              "        }\n",
              "    </style>\n",
              "<div class=\"wandb-row\"><div class=\"wandb-col\"><h3>Run history:</h3><br/><table class=\"wandb\"><tr><td>accuracy</td><td>▁</td></tr><tr><td>perplexity</td><td>▁</td></tr><tr><td>train_loss</td><td>▁</td></tr></table><br/></div><div class=\"wandb-col\"><h3>Run summary:</h3><br/><table class=\"wandb\"><tr><td>accuracy</td><td>0.7261</td></tr><tr><td>perplexity</td><td>1.09255</td></tr><tr><td>train_loss</td><td>0.25689</td></tr></table><br/></div></div>"
            ]
          },
          "metadata": {}
        },
        {
          "output_type": "display_data",
          "data": {
            "text/plain": [
              "<IPython.core.display.HTML object>"
            ],
            "text/html": [
              " View run <strong style=\"color:#cdcd00\">dazzling-sweep-26</strong> at: <a href='https://wandb.ai/tokamak01823-new-york-university/gpt2-pruning-optimization/runs/cwaxj9b5' target=\"_blank\">https://wandb.ai/tokamak01823-new-york-university/gpt2-pruning-optimization/runs/cwaxj9b5</a><br/> View project at: <a href='https://wandb.ai/tokamak01823-new-york-university/gpt2-pruning-optimization' target=\"_blank\">https://wandb.ai/tokamak01823-new-york-university/gpt2-pruning-optimization</a><br/>Synced 5 W&B file(s), 0 media file(s), 0 artifact file(s) and 0 other file(s)"
            ]
          },
          "metadata": {}
        },
        {
          "output_type": "display_data",
          "data": {
            "text/plain": [
              "<IPython.core.display.HTML object>"
            ],
            "text/html": [
              "Find logs at: <code>./wandb/run-20241209_175449-cwaxj9b5/logs</code>"
            ]
          },
          "metadata": {}
        },
        {
          "output_type": "stream",
          "name": "stderr",
          "text": [
            "\u001b[34m\u001b[1mwandb\u001b[0m: Sweep Agent: Waiting for job.\n",
            "\u001b[34m\u001b[1mwandb\u001b[0m: Job received.\n",
            "\u001b[34m\u001b[1mwandb\u001b[0m: Agent Starting Run: 66rh8ciz with config:\n",
            "\u001b[34m\u001b[1mwandb\u001b[0m: \tfirst_ratio: 0.5\n",
            "\u001b[34m\u001b[1mwandb\u001b[0m: \tlast_ratio: 0.7\n",
            "\u001b[34m\u001b[1mwandb\u001b[0m: \tmiddle_ratio: 0.3\n"
          ]
        },
        {
          "output_type": "display_data",
          "data": {
            "text/plain": [
              "<IPython.core.display.HTML object>"
            ],
            "text/html": [
              "Tracking run with wandb version 0.18.7"
            ]
          },
          "metadata": {}
        },
        {
          "output_type": "display_data",
          "data": {
            "text/plain": [
              "<IPython.core.display.HTML object>"
            ],
            "text/html": [
              "Run data is saved locally in <code>/content/wandb/run-20241209_175856-66rh8ciz</code>"
            ]
          },
          "metadata": {}
        },
        {
          "output_type": "display_data",
          "data": {
            "text/plain": [
              "<IPython.core.display.HTML object>"
            ],
            "text/html": [
              "Syncing run <strong><a href='https://wandb.ai/tokamak01823-new-york-university/gpt2-pruning-optimization/runs/66rh8ciz' target=\"_blank\">graceful-sweep-27</a></strong> to <a href='https://wandb.ai/tokamak01823-new-york-university/gpt2-pruning-optimization' target=\"_blank\">Weights & Biases</a> (<a href='https://wandb.me/developer-guide' target=\"_blank\">docs</a>)<br/>Sweep page: <a href='https://wandb.ai/tokamak01823-new-york-university/gpt2-pruning-optimization/sweeps/wd1vpw3g' target=\"_blank\">https://wandb.ai/tokamak01823-new-york-university/gpt2-pruning-optimization/sweeps/wd1vpw3g</a>"
            ]
          },
          "metadata": {}
        },
        {
          "output_type": "display_data",
          "data": {
            "text/plain": [
              "<IPython.core.display.HTML object>"
            ],
            "text/html": [
              " View project at <a href='https://wandb.ai/tokamak01823-new-york-university/gpt2-pruning-optimization' target=\"_blank\">https://wandb.ai/tokamak01823-new-york-university/gpt2-pruning-optimization</a>"
            ]
          },
          "metadata": {}
        },
        {
          "output_type": "display_data",
          "data": {
            "text/plain": [
              "<IPython.core.display.HTML object>"
            ],
            "text/html": [
              " View sweep at <a href='https://wandb.ai/tokamak01823-new-york-university/gpt2-pruning-optimization/sweeps/wd1vpw3g' target=\"_blank\">https://wandb.ai/tokamak01823-new-york-university/gpt2-pruning-optimization/sweeps/wd1vpw3g</a>"
            ]
          },
          "metadata": {}
        },
        {
          "output_type": "display_data",
          "data": {
            "text/plain": [
              "<IPython.core.display.HTML object>"
            ],
            "text/html": [
              " View run at <a href='https://wandb.ai/tokamak01823-new-york-university/gpt2-pruning-optimization/runs/66rh8ciz' target=\"_blank\">https://wandb.ai/tokamak01823-new-york-university/gpt2-pruning-optimization/runs/66rh8ciz</a>"
            ]
          },
          "metadata": {}
        },
        {
          "output_type": "stream",
          "name": "stderr",
          "text": [
            "Re-training after pruning: 100%|██████████| 901/901 [03:24<00:00,  4.41it/s]\n"
          ]
        },
        {
          "output_type": "stream",
          "name": "stdout",
          "text": [
            "First test sample text:\n",
            "  Hurricanes are an ever @-@ present threat during the summer and fall season , which puts Galveston in Coastal Windstorm Area . Galveston Island and the Bolivar Peninsula are generally at the greatest risk among the communities near the Galveston Bay . However , though the island and peninsula provide some shielding , the bay shoreline still faces significant danger from storm surge . \n",
            "\n",
            "First test sample tokenized input_ids: tensor([[39419,   389,   281,  1683,  2488,    12,    31,  1944,  2372,  1141,\n",
            "           262,  3931,   290,  2121,  1622,   837,   543,  7584,  5027,  4223,\n",
            "           261,   287, 43513,  3086, 12135,  9498,   764,  5027,  4223,   261,\n",
            "          5451,   290,   262, 10797,   452,   283, 24078,   389,  4143,   379,\n",
            "           262,  6000,  2526,  1871,   262,  5348,  1474,   262,  5027,  4223,\n",
            "           261,  4696,   764,  2102,   837,   996,   262,  7022,   290, 28080,\n",
            "          2148,   617, 43539,   837,   262, 15489, 15191,  1370,   991,  6698,\n",
            "          2383,  3514,   422,  6388, 13853,   764,   220,   198]])\n",
            "Decoded text from tokenized input:  Hurricanes are an ever @-@ present threat during the summer and fall season , which puts Galveston in Coastal Windstorm Area . Galveston Island and the Bolivar Peninsula are generally at the greatest risk among the communities near the Galveston Bay . However , though the island and peninsula provide some shielding , the bay shoreline still faces significant danger from storm surge . \n",
            "\n",
            "Test Perplexity: 1.3564, Test Accuracy: 0.7263\n"
          ]
        },
        {
          "output_type": "display_data",
          "data": {
            "text/plain": [
              "VBox(children=(Label(value='0.014 MB of 0.014 MB uploaded\\r'), FloatProgress(value=1.0, max=1.0)))"
            ],
            "application/vnd.jupyter.widget-view+json": {
              "version_major": 2,
              "version_minor": 0,
              "model_id": "1b26a97259dd47128c6517ce99b5f065"
            }
          },
          "metadata": {}
        },
        {
          "output_type": "display_data",
          "data": {
            "text/plain": [
              "<IPython.core.display.HTML object>"
            ],
            "text/html": [
              "\n",
              "    <style>\n",
              "        .wandb-row {\n",
              "            display: flex;\n",
              "            flex-direction: row;\n",
              "            flex-wrap: wrap;\n",
              "            justify-content: flex-start;\n",
              "            width: 100%;\n",
              "        }\n",
              "        .wandb-col {\n",
              "            display: flex;\n",
              "            flex-direction: column;\n",
              "            flex-basis: 100%;\n",
              "            flex: 1;\n",
              "            padding: 10px;\n",
              "        }\n",
              "    </style>\n",
              "<div class=\"wandb-row\"><div class=\"wandb-col\"><h3>Run history:</h3><br/><table class=\"wandb\"><tr><td>accuracy</td><td>▁</td></tr><tr><td>perplexity</td><td>▁</td></tr><tr><td>train_loss</td><td>▁</td></tr></table><br/></div><div class=\"wandb-col\"><h3>Run summary:</h3><br/><table class=\"wandb\"><tr><td>accuracy</td><td>0.72628</td></tr><tr><td>perplexity</td><td>1.35642</td></tr><tr><td>train_loss</td><td>0.62016</td></tr></table><br/></div></div>"
            ]
          },
          "metadata": {}
        },
        {
          "output_type": "display_data",
          "data": {
            "text/plain": [
              "<IPython.core.display.HTML object>"
            ],
            "text/html": [
              " View run <strong style=\"color:#cdcd00\">graceful-sweep-27</strong> at: <a href='https://wandb.ai/tokamak01823-new-york-university/gpt2-pruning-optimization/runs/66rh8ciz' target=\"_blank\">https://wandb.ai/tokamak01823-new-york-university/gpt2-pruning-optimization/runs/66rh8ciz</a><br/> View project at: <a href='https://wandb.ai/tokamak01823-new-york-university/gpt2-pruning-optimization' target=\"_blank\">https://wandb.ai/tokamak01823-new-york-university/gpt2-pruning-optimization</a><br/>Synced 5 W&B file(s), 0 media file(s), 0 artifact file(s) and 0 other file(s)"
            ]
          },
          "metadata": {}
        },
        {
          "output_type": "display_data",
          "data": {
            "text/plain": [
              "<IPython.core.display.HTML object>"
            ],
            "text/html": [
              "Find logs at: <code>./wandb/run-20241209_175856-66rh8ciz/logs</code>"
            ]
          },
          "metadata": {}
        },
        {
          "output_type": "stream",
          "name": "stderr",
          "text": [
            "\u001b[34m\u001b[1mwandb\u001b[0m: Agent Starting Run: hq9lq566 with config:\n",
            "\u001b[34m\u001b[1mwandb\u001b[0m: \tfirst_ratio: 0.7\n",
            "\u001b[34m\u001b[1mwandb\u001b[0m: \tlast_ratio: 0.7\n",
            "\u001b[34m\u001b[1mwandb\u001b[0m: \tmiddle_ratio: 0.1\n"
          ]
        },
        {
          "output_type": "display_data",
          "data": {
            "text/plain": [
              "<IPython.core.display.HTML object>"
            ],
            "text/html": [
              "Tracking run with wandb version 0.18.7"
            ]
          },
          "metadata": {}
        },
        {
          "output_type": "display_data",
          "data": {
            "text/plain": [
              "<IPython.core.display.HTML object>"
            ],
            "text/html": [
              "Run data is saved locally in <code>/content/wandb/run-20241209_180258-hq9lq566</code>"
            ]
          },
          "metadata": {}
        },
        {
          "output_type": "display_data",
          "data": {
            "text/plain": [
              "<IPython.core.display.HTML object>"
            ],
            "text/html": [
              "Syncing run <strong><a href='https://wandb.ai/tokamak01823-new-york-university/gpt2-pruning-optimization/runs/hq9lq566' target=\"_blank\">sage-sweep-28</a></strong> to <a href='https://wandb.ai/tokamak01823-new-york-university/gpt2-pruning-optimization' target=\"_blank\">Weights & Biases</a> (<a href='https://wandb.me/developer-guide' target=\"_blank\">docs</a>)<br/>Sweep page: <a href='https://wandb.ai/tokamak01823-new-york-university/gpt2-pruning-optimization/sweeps/wd1vpw3g' target=\"_blank\">https://wandb.ai/tokamak01823-new-york-university/gpt2-pruning-optimization/sweeps/wd1vpw3g</a>"
            ]
          },
          "metadata": {}
        },
        {
          "output_type": "display_data",
          "data": {
            "text/plain": [
              "<IPython.core.display.HTML object>"
            ],
            "text/html": [
              " View project at <a href='https://wandb.ai/tokamak01823-new-york-university/gpt2-pruning-optimization' target=\"_blank\">https://wandb.ai/tokamak01823-new-york-university/gpt2-pruning-optimization</a>"
            ]
          },
          "metadata": {}
        },
        {
          "output_type": "display_data",
          "data": {
            "text/plain": [
              "<IPython.core.display.HTML object>"
            ],
            "text/html": [
              " View sweep at <a href='https://wandb.ai/tokamak01823-new-york-university/gpt2-pruning-optimization/sweeps/wd1vpw3g' target=\"_blank\">https://wandb.ai/tokamak01823-new-york-university/gpt2-pruning-optimization/sweeps/wd1vpw3g</a>"
            ]
          },
          "metadata": {}
        },
        {
          "output_type": "display_data",
          "data": {
            "text/plain": [
              "<IPython.core.display.HTML object>"
            ],
            "text/html": [
              " View run at <a href='https://wandb.ai/tokamak01823-new-york-university/gpt2-pruning-optimization/runs/hq9lq566' target=\"_blank\">https://wandb.ai/tokamak01823-new-york-university/gpt2-pruning-optimization/runs/hq9lq566</a>"
            ]
          },
          "metadata": {}
        },
        {
          "output_type": "stream",
          "name": "stderr",
          "text": [
            "Re-training after pruning: 100%|██████████| 901/901 [03:23<00:00,  4.44it/s]\n"
          ]
        },
        {
          "output_type": "stream",
          "name": "stdout",
          "text": [
            "First test sample text:\n",
            "  Hurricanes are an ever @-@ present threat during the summer and fall season , which puts Galveston in Coastal Windstorm Area . Galveston Island and the Bolivar Peninsula are generally at the greatest risk among the communities near the Galveston Bay . However , though the island and peninsula provide some shielding , the bay shoreline still faces significant danger from storm surge . \n",
            "\n",
            "First test sample tokenized input_ids: tensor([[39419,   389,   281,  1683,  2488,    12,    31,  1944,  2372,  1141,\n",
            "           262,  3931,   290,  2121,  1622,   837,   543,  7584,  5027,  4223,\n",
            "           261,   287, 43513,  3086, 12135,  9498,   764,  5027,  4223,   261,\n",
            "          5451,   290,   262, 10797,   452,   283, 24078,   389,  4143,   379,\n",
            "           262,  6000,  2526,  1871,   262,  5348,  1474,   262,  5027,  4223,\n",
            "           261,  4696,   764,  2102,   837,   996,   262,  7022,   290, 28080,\n",
            "          2148,   617, 43539,   837,   262, 15489, 15191,  1370,   991,  6698,\n",
            "          2383,  3514,   422,  6388, 13853,   764,   220,   198]])\n",
            "Decoded text from tokenized input:  Hurricanes are an ever @-@ present threat during the summer and fall season , which puts Galveston in Coastal Windstorm Area . Galveston Island and the Bolivar Peninsula are generally at the greatest risk among the communities near the Galveston Bay . However , though the island and peninsula provide some shielding , the bay shoreline still faces significant danger from storm surge . \n",
            "\n",
            "Test Perplexity: 1.4654, Test Accuracy: 0.7264\n"
          ]
        },
        {
          "output_type": "display_data",
          "data": {
            "text/plain": [
              "VBox(children=(Label(value='0.014 MB of 0.014 MB uploaded\\r'), FloatProgress(value=1.0, max=1.0)))"
            ],
            "application/vnd.jupyter.widget-view+json": {
              "version_major": 2,
              "version_minor": 0,
              "model_id": "34e4c0402b9e42f7a5783e2816e8a0bc"
            }
          },
          "metadata": {}
        },
        {
          "output_type": "display_data",
          "data": {
            "text/plain": [
              "<IPython.core.display.HTML object>"
            ],
            "text/html": [
              "\n",
              "    <style>\n",
              "        .wandb-row {\n",
              "            display: flex;\n",
              "            flex-direction: row;\n",
              "            flex-wrap: wrap;\n",
              "            justify-content: flex-start;\n",
              "            width: 100%;\n",
              "        }\n",
              "        .wandb-col {\n",
              "            display: flex;\n",
              "            flex-direction: column;\n",
              "            flex-basis: 100%;\n",
              "            flex: 1;\n",
              "            padding: 10px;\n",
              "        }\n",
              "    </style>\n",
              "<div class=\"wandb-row\"><div class=\"wandb-col\"><h3>Run history:</h3><br/><table class=\"wandb\"><tr><td>accuracy</td><td>▁</td></tr><tr><td>perplexity</td><td>▁</td></tr><tr><td>train_loss</td><td>▁</td></tr></table><br/></div><div class=\"wandb-col\"><h3>Run summary:</h3><br/><table class=\"wandb\"><tr><td>accuracy</td><td>0.72636</td></tr><tr><td>perplexity</td><td>1.46536</td></tr><tr><td>train_loss</td><td>0.80741</td></tr></table><br/></div></div>"
            ]
          },
          "metadata": {}
        },
        {
          "output_type": "display_data",
          "data": {
            "text/plain": [
              "<IPython.core.display.HTML object>"
            ],
            "text/html": [
              " View run <strong style=\"color:#cdcd00\">sage-sweep-28</strong> at: <a href='https://wandb.ai/tokamak01823-new-york-university/gpt2-pruning-optimization/runs/hq9lq566' target=\"_blank\">https://wandb.ai/tokamak01823-new-york-university/gpt2-pruning-optimization/runs/hq9lq566</a><br/> View project at: <a href='https://wandb.ai/tokamak01823-new-york-university/gpt2-pruning-optimization' target=\"_blank\">https://wandb.ai/tokamak01823-new-york-university/gpt2-pruning-optimization</a><br/>Synced 5 W&B file(s), 0 media file(s), 0 artifact file(s) and 0 other file(s)"
            ]
          },
          "metadata": {}
        },
        {
          "output_type": "display_data",
          "data": {
            "text/plain": [
              "<IPython.core.display.HTML object>"
            ],
            "text/html": [
              "Find logs at: <code>./wandb/run-20241209_180258-hq9lq566/logs</code>"
            ]
          },
          "metadata": {}
        },
        {
          "output_type": "stream",
          "name": "stderr",
          "text": [
            "\u001b[34m\u001b[1mwandb\u001b[0m: Sweep Agent: Waiting for job.\n",
            "\u001b[34m\u001b[1mwandb\u001b[0m: Job received.\n",
            "\u001b[34m\u001b[1mwandb\u001b[0m: Agent Starting Run: np6fzq6d with config:\n",
            "\u001b[34m\u001b[1mwandb\u001b[0m: \tfirst_ratio: 0.5\n",
            "\u001b[34m\u001b[1mwandb\u001b[0m: \tlast_ratio: 0.1\n",
            "\u001b[34m\u001b[1mwandb\u001b[0m: \tmiddle_ratio: 0.9\n"
          ]
        },
        {
          "output_type": "display_data",
          "data": {
            "text/plain": [
              "<IPython.core.display.HTML object>"
            ],
            "text/html": [
              "Tracking run with wandb version 0.18.7"
            ]
          },
          "metadata": {}
        },
        {
          "output_type": "display_data",
          "data": {
            "text/plain": [
              "<IPython.core.display.HTML object>"
            ],
            "text/html": [
              "Run data is saved locally in <code>/content/wandb/run-20241209_180704-np6fzq6d</code>"
            ]
          },
          "metadata": {}
        },
        {
          "output_type": "display_data",
          "data": {
            "text/plain": [
              "<IPython.core.display.HTML object>"
            ],
            "text/html": [
              "Syncing run <strong><a href='https://wandb.ai/tokamak01823-new-york-university/gpt2-pruning-optimization/runs/np6fzq6d' target=\"_blank\">volcanic-sweep-29</a></strong> to <a href='https://wandb.ai/tokamak01823-new-york-university/gpt2-pruning-optimization' target=\"_blank\">Weights & Biases</a> (<a href='https://wandb.me/developer-guide' target=\"_blank\">docs</a>)<br/>Sweep page: <a href='https://wandb.ai/tokamak01823-new-york-university/gpt2-pruning-optimization/sweeps/wd1vpw3g' target=\"_blank\">https://wandb.ai/tokamak01823-new-york-university/gpt2-pruning-optimization/sweeps/wd1vpw3g</a>"
            ]
          },
          "metadata": {}
        },
        {
          "output_type": "display_data",
          "data": {
            "text/plain": [
              "<IPython.core.display.HTML object>"
            ],
            "text/html": [
              " View project at <a href='https://wandb.ai/tokamak01823-new-york-university/gpt2-pruning-optimization' target=\"_blank\">https://wandb.ai/tokamak01823-new-york-university/gpt2-pruning-optimization</a>"
            ]
          },
          "metadata": {}
        },
        {
          "output_type": "display_data",
          "data": {
            "text/plain": [
              "<IPython.core.display.HTML object>"
            ],
            "text/html": [
              " View sweep at <a href='https://wandb.ai/tokamak01823-new-york-university/gpt2-pruning-optimization/sweeps/wd1vpw3g' target=\"_blank\">https://wandb.ai/tokamak01823-new-york-university/gpt2-pruning-optimization/sweeps/wd1vpw3g</a>"
            ]
          },
          "metadata": {}
        },
        {
          "output_type": "display_data",
          "data": {
            "text/plain": [
              "<IPython.core.display.HTML object>"
            ],
            "text/html": [
              " View run at <a href='https://wandb.ai/tokamak01823-new-york-university/gpt2-pruning-optimization/runs/np6fzq6d' target=\"_blank\">https://wandb.ai/tokamak01823-new-york-university/gpt2-pruning-optimization/runs/np6fzq6d</a>"
            ]
          },
          "metadata": {}
        },
        {
          "output_type": "stream",
          "name": "stderr",
          "text": [
            "Re-training after pruning: 100%|██████████| 901/901 [03:25<00:00,  4.38it/s]\n"
          ]
        },
        {
          "output_type": "stream",
          "name": "stdout",
          "text": [
            "First test sample text:\n",
            "  Hurricanes are an ever @-@ present threat during the summer and fall season , which puts Galveston in Coastal Windstorm Area . Galveston Island and the Bolivar Peninsula are generally at the greatest risk among the communities near the Galveston Bay . However , though the island and peninsula provide some shielding , the bay shoreline still faces significant danger from storm surge . \n",
            "\n",
            "First test sample tokenized input_ids: tensor([[39419,   389,   281,  1683,  2488,    12,    31,  1944,  2372,  1141,\n",
            "           262,  3931,   290,  2121,  1622,   837,   543,  7584,  5027,  4223,\n",
            "           261,   287, 43513,  3086, 12135,  9498,   764,  5027,  4223,   261,\n",
            "          5451,   290,   262, 10797,   452,   283, 24078,   389,  4143,   379,\n",
            "           262,  6000,  2526,  1871,   262,  5348,  1474,   262,  5027,  4223,\n",
            "           261,  4696,   764,  2102,   837,   996,   262,  7022,   290, 28080,\n",
            "          2148,   617, 43539,   837,   262, 15489, 15191,  1370,   991,  6698,\n",
            "          2383,  3514,   422,  6388, 13853,   764,   220,   198]])\n",
            "Decoded text from tokenized input:  Hurricanes are an ever @-@ present threat during the summer and fall season , which puts Galveston in Coastal Windstorm Area . Galveston Island and the Bolivar Peninsula are generally at the greatest risk among the communities near the Galveston Bay . However , though the island and peninsula provide some shielding , the bay shoreline still faces significant danger from storm surge . \n",
            "\n",
            "Test Perplexity: 1.5610, Test Accuracy: 0.7259\n"
          ]
        },
        {
          "output_type": "display_data",
          "data": {
            "text/plain": [
              "VBox(children=(Label(value='0.014 MB of 0.014 MB uploaded\\r'), FloatProgress(value=1.0, max=1.0)))"
            ],
            "application/vnd.jupyter.widget-view+json": {
              "version_major": 2,
              "version_minor": 0,
              "model_id": "ddab2de2f5a640779212a3d5da54bafc"
            }
          },
          "metadata": {}
        },
        {
          "output_type": "display_data",
          "data": {
            "text/plain": [
              "<IPython.core.display.HTML object>"
            ],
            "text/html": [
              "\n",
              "    <style>\n",
              "        .wandb-row {\n",
              "            display: flex;\n",
              "            flex-direction: row;\n",
              "            flex-wrap: wrap;\n",
              "            justify-content: flex-start;\n",
              "            width: 100%;\n",
              "        }\n",
              "        .wandb-col {\n",
              "            display: flex;\n",
              "            flex-direction: column;\n",
              "            flex-basis: 100%;\n",
              "            flex: 1;\n",
              "            padding: 10px;\n",
              "        }\n",
              "    </style>\n",
              "<div class=\"wandb-row\"><div class=\"wandb-col\"><h3>Run history:</h3><br/><table class=\"wandb\"><tr><td>accuracy</td><td>▁</td></tr><tr><td>perplexity</td><td>▁</td></tr><tr><td>train_loss</td><td>▁</td></tr></table><br/></div><div class=\"wandb-col\"><h3>Run summary:</h3><br/><table class=\"wandb\"><tr><td>accuracy</td><td>0.72593</td></tr><tr><td>perplexity</td><td>1.561</td></tr><tr><td>train_loss</td><td>0.85826</td></tr></table><br/></div></div>"
            ]
          },
          "metadata": {}
        },
        {
          "output_type": "display_data",
          "data": {
            "text/plain": [
              "<IPython.core.display.HTML object>"
            ],
            "text/html": [
              " View run <strong style=\"color:#cdcd00\">volcanic-sweep-29</strong> at: <a href='https://wandb.ai/tokamak01823-new-york-university/gpt2-pruning-optimization/runs/np6fzq6d' target=\"_blank\">https://wandb.ai/tokamak01823-new-york-university/gpt2-pruning-optimization/runs/np6fzq6d</a><br/> View project at: <a href='https://wandb.ai/tokamak01823-new-york-university/gpt2-pruning-optimization' target=\"_blank\">https://wandb.ai/tokamak01823-new-york-university/gpt2-pruning-optimization</a><br/>Synced 5 W&B file(s), 0 media file(s), 0 artifact file(s) and 0 other file(s)"
            ]
          },
          "metadata": {}
        },
        {
          "output_type": "display_data",
          "data": {
            "text/plain": [
              "<IPython.core.display.HTML object>"
            ],
            "text/html": [
              "Find logs at: <code>./wandb/run-20241209_180704-np6fzq6d/logs</code>"
            ]
          },
          "metadata": {}
        },
        {
          "output_type": "stream",
          "name": "stderr",
          "text": [
            "\u001b[34m\u001b[1mwandb\u001b[0m: Agent Starting Run: ucpxa7zo with config:\n",
            "\u001b[34m\u001b[1mwandb\u001b[0m: \tfirst_ratio: 0\n",
            "\u001b[34m\u001b[1mwandb\u001b[0m: \tlast_ratio: 0\n",
            "\u001b[34m\u001b[1mwandb\u001b[0m: \tmiddle_ratio: 0.5\n"
          ]
        },
        {
          "output_type": "display_data",
          "data": {
            "text/plain": [
              "<IPython.core.display.HTML object>"
            ],
            "text/html": [
              "Tracking run with wandb version 0.18.7"
            ]
          },
          "metadata": {}
        },
        {
          "output_type": "display_data",
          "data": {
            "text/plain": [
              "<IPython.core.display.HTML object>"
            ],
            "text/html": [
              "Run data is saved locally in <code>/content/wandb/run-20241209_181107-ucpxa7zo</code>"
            ]
          },
          "metadata": {}
        },
        {
          "output_type": "display_data",
          "data": {
            "text/plain": [
              "<IPython.core.display.HTML object>"
            ],
            "text/html": [
              "Syncing run <strong><a href='https://wandb.ai/tokamak01823-new-york-university/gpt2-pruning-optimization/runs/ucpxa7zo' target=\"_blank\">helpful-sweep-30</a></strong> to <a href='https://wandb.ai/tokamak01823-new-york-university/gpt2-pruning-optimization' target=\"_blank\">Weights & Biases</a> (<a href='https://wandb.me/developer-guide' target=\"_blank\">docs</a>)<br/>Sweep page: <a href='https://wandb.ai/tokamak01823-new-york-university/gpt2-pruning-optimization/sweeps/wd1vpw3g' target=\"_blank\">https://wandb.ai/tokamak01823-new-york-university/gpt2-pruning-optimization/sweeps/wd1vpw3g</a>"
            ]
          },
          "metadata": {}
        },
        {
          "output_type": "display_data",
          "data": {
            "text/plain": [
              "<IPython.core.display.HTML object>"
            ],
            "text/html": [
              " View project at <a href='https://wandb.ai/tokamak01823-new-york-university/gpt2-pruning-optimization' target=\"_blank\">https://wandb.ai/tokamak01823-new-york-university/gpt2-pruning-optimization</a>"
            ]
          },
          "metadata": {}
        },
        {
          "output_type": "display_data",
          "data": {
            "text/plain": [
              "<IPython.core.display.HTML object>"
            ],
            "text/html": [
              " View sweep at <a href='https://wandb.ai/tokamak01823-new-york-university/gpt2-pruning-optimization/sweeps/wd1vpw3g' target=\"_blank\">https://wandb.ai/tokamak01823-new-york-university/gpt2-pruning-optimization/sweeps/wd1vpw3g</a>"
            ]
          },
          "metadata": {}
        },
        {
          "output_type": "display_data",
          "data": {
            "text/plain": [
              "<IPython.core.display.HTML object>"
            ],
            "text/html": [
              " View run at <a href='https://wandb.ai/tokamak01823-new-york-university/gpt2-pruning-optimization/runs/ucpxa7zo' target=\"_blank\">https://wandb.ai/tokamak01823-new-york-university/gpt2-pruning-optimization/runs/ucpxa7zo</a>"
            ]
          },
          "metadata": {}
        },
        {
          "output_type": "stream",
          "name": "stderr",
          "text": [
            "Re-training after pruning: 100%|██████████| 901/901 [03:21<00:00,  4.46it/s]\n"
          ]
        },
        {
          "output_type": "stream",
          "name": "stdout",
          "text": [
            "First test sample text:\n",
            "  Hurricanes are an ever @-@ present threat during the summer and fall season , which puts Galveston in Coastal Windstorm Area . Galveston Island and the Bolivar Peninsula are generally at the greatest risk among the communities near the Galveston Bay . However , though the island and peninsula provide some shielding , the bay shoreline still faces significant danger from storm surge . \n",
            "\n",
            "First test sample tokenized input_ids: tensor([[39419,   389,   281,  1683,  2488,    12,    31,  1944,  2372,  1141,\n",
            "           262,  3931,   290,  2121,  1622,   837,   543,  7584,  5027,  4223,\n",
            "           261,   287, 43513,  3086, 12135,  9498,   764,  5027,  4223,   261,\n",
            "          5451,   290,   262, 10797,   452,   283, 24078,   389,  4143,   379,\n",
            "           262,  6000,  2526,  1871,   262,  5348,  1474,   262,  5027,  4223,\n",
            "           261,  4696,   764,  2102,   837,   996,   262,  7022,   290, 28080,\n",
            "          2148,   617, 43539,   837,   262, 15489, 15191,  1370,   991,  6698,\n",
            "          2383,  3514,   422,  6388, 13853,   764,   220,   198]])\n",
            "Decoded text from tokenized input:  Hurricanes are an ever @-@ present threat during the summer and fall season , which puts Galveston in Coastal Windstorm Area . Galveston Island and the Bolivar Peninsula are generally at the greatest risk among the communities near the Galveston Bay . However , though the island and peninsula provide some shielding , the bay shoreline still faces significant danger from storm surge . \n",
            "\n",
            "Test Perplexity: 1.1058, Test Accuracy: 0.7260\n"
          ]
        },
        {
          "output_type": "display_data",
          "data": {
            "text/plain": [
              "VBox(children=(Label(value='0.014 MB of 0.014 MB uploaded\\r'), FloatProgress(value=1.0, max=1.0)))"
            ],
            "application/vnd.jupyter.widget-view+json": {
              "version_major": 2,
              "version_minor": 0,
              "model_id": "0447b2d5d46944bb92f5860c27974461"
            }
          },
          "metadata": {}
        },
        {
          "output_type": "display_data",
          "data": {
            "text/plain": [
              "<IPython.core.display.HTML object>"
            ],
            "text/html": [
              "\n",
              "    <style>\n",
              "        .wandb-row {\n",
              "            display: flex;\n",
              "            flex-direction: row;\n",
              "            flex-wrap: wrap;\n",
              "            justify-content: flex-start;\n",
              "            width: 100%;\n",
              "        }\n",
              "        .wandb-col {\n",
              "            display: flex;\n",
              "            flex-direction: column;\n",
              "            flex-basis: 100%;\n",
              "            flex: 1;\n",
              "            padding: 10px;\n",
              "        }\n",
              "    </style>\n",
              "<div class=\"wandb-row\"><div class=\"wandb-col\"><h3>Run history:</h3><br/><table class=\"wandb\"><tr><td>accuracy</td><td>▁</td></tr><tr><td>perplexity</td><td>▁</td></tr><tr><td>train_loss</td><td>▁</td></tr></table><br/></div><div class=\"wandb-col\"><h3>Run summary:</h3><br/><table class=\"wandb\"><tr><td>accuracy</td><td>0.726</td></tr><tr><td>perplexity</td><td>1.10578</td></tr><tr><td>train_loss</td><td>0.26995</td></tr></table><br/></div></div>"
            ]
          },
          "metadata": {}
        },
        {
          "output_type": "display_data",
          "data": {
            "text/plain": [
              "<IPython.core.display.HTML object>"
            ],
            "text/html": [
              " View run <strong style=\"color:#cdcd00\">helpful-sweep-30</strong> at: <a href='https://wandb.ai/tokamak01823-new-york-university/gpt2-pruning-optimization/runs/ucpxa7zo' target=\"_blank\">https://wandb.ai/tokamak01823-new-york-university/gpt2-pruning-optimization/runs/ucpxa7zo</a><br/> View project at: <a href='https://wandb.ai/tokamak01823-new-york-university/gpt2-pruning-optimization' target=\"_blank\">https://wandb.ai/tokamak01823-new-york-university/gpt2-pruning-optimization</a><br/>Synced 5 W&B file(s), 0 media file(s), 0 artifact file(s) and 0 other file(s)"
            ]
          },
          "metadata": {}
        },
        {
          "output_type": "display_data",
          "data": {
            "text/plain": [
              "<IPython.core.display.HTML object>"
            ],
            "text/html": [
              "Find logs at: <code>./wandb/run-20241209_181107-ucpxa7zo/logs</code>"
            ]
          },
          "metadata": {}
        },
        {
          "output_type": "stream",
          "name": "stderr",
          "text": [
            "\u001b[34m\u001b[1mwandb\u001b[0m: Agent Starting Run: 5dunagyo with config:\n",
            "\u001b[34m\u001b[1mwandb\u001b[0m: \tfirst_ratio: 0.7\n",
            "\u001b[34m\u001b[1mwandb\u001b[0m: \tlast_ratio: 0.3\n",
            "\u001b[34m\u001b[1mwandb\u001b[0m: \tmiddle_ratio: 0.5\n"
          ]
        },
        {
          "output_type": "display_data",
          "data": {
            "text/plain": [
              "<IPython.core.display.HTML object>"
            ],
            "text/html": [
              "Tracking run with wandb version 0.18.7"
            ]
          },
          "metadata": {}
        },
        {
          "output_type": "display_data",
          "data": {
            "text/plain": [
              "<IPython.core.display.HTML object>"
            ],
            "text/html": [
              "Run data is saved locally in <code>/content/wandb/run-20241209_181503-5dunagyo</code>"
            ]
          },
          "metadata": {}
        },
        {
          "output_type": "display_data",
          "data": {
            "text/plain": [
              "<IPython.core.display.HTML object>"
            ],
            "text/html": [
              "Syncing run <strong><a href='https://wandb.ai/tokamak01823-new-york-university/gpt2-pruning-optimization/runs/5dunagyo' target=\"_blank\">zany-sweep-31</a></strong> to <a href='https://wandb.ai/tokamak01823-new-york-university/gpt2-pruning-optimization' target=\"_blank\">Weights & Biases</a> (<a href='https://wandb.me/developer-guide' target=\"_blank\">docs</a>)<br/>Sweep page: <a href='https://wandb.ai/tokamak01823-new-york-university/gpt2-pruning-optimization/sweeps/wd1vpw3g' target=\"_blank\">https://wandb.ai/tokamak01823-new-york-university/gpt2-pruning-optimization/sweeps/wd1vpw3g</a>"
            ]
          },
          "metadata": {}
        },
        {
          "output_type": "display_data",
          "data": {
            "text/plain": [
              "<IPython.core.display.HTML object>"
            ],
            "text/html": [
              " View project at <a href='https://wandb.ai/tokamak01823-new-york-university/gpt2-pruning-optimization' target=\"_blank\">https://wandb.ai/tokamak01823-new-york-university/gpt2-pruning-optimization</a>"
            ]
          },
          "metadata": {}
        },
        {
          "output_type": "display_data",
          "data": {
            "text/plain": [
              "<IPython.core.display.HTML object>"
            ],
            "text/html": [
              " View sweep at <a href='https://wandb.ai/tokamak01823-new-york-university/gpt2-pruning-optimization/sweeps/wd1vpw3g' target=\"_blank\">https://wandb.ai/tokamak01823-new-york-university/gpt2-pruning-optimization/sweeps/wd1vpw3g</a>"
            ]
          },
          "metadata": {}
        },
        {
          "output_type": "display_data",
          "data": {
            "text/plain": [
              "<IPython.core.display.HTML object>"
            ],
            "text/html": [
              " View run at <a href='https://wandb.ai/tokamak01823-new-york-university/gpt2-pruning-optimization/runs/5dunagyo' target=\"_blank\">https://wandb.ai/tokamak01823-new-york-university/gpt2-pruning-optimization/runs/5dunagyo</a>"
            ]
          },
          "metadata": {}
        },
        {
          "output_type": "stream",
          "name": "stderr",
          "text": [
            "Re-training after pruning: 100%|██████████| 901/901 [03:25<00:00,  4.39it/s]\n"
          ]
        },
        {
          "output_type": "stream",
          "name": "stdout",
          "text": [
            "First test sample text:\n",
            "  Hurricanes are an ever @-@ present threat during the summer and fall season , which puts Galveston in Coastal Windstorm Area . Galveston Island and the Bolivar Peninsula are generally at the greatest risk among the communities near the Galveston Bay . However , though the island and peninsula provide some shielding , the bay shoreline still faces significant danger from storm surge . \n",
            "\n",
            "First test sample tokenized input_ids: tensor([[39419,   389,   281,  1683,  2488,    12,    31,  1944,  2372,  1141,\n",
            "           262,  3931,   290,  2121,  1622,   837,   543,  7584,  5027,  4223,\n",
            "           261,   287, 43513,  3086, 12135,  9498,   764,  5027,  4223,   261,\n",
            "          5451,   290,   262, 10797,   452,   283, 24078,   389,  4143,   379,\n",
            "           262,  6000,  2526,  1871,   262,  5348,  1474,   262,  5027,  4223,\n",
            "           261,  4696,   764,  2102,   837,   996,   262,  7022,   290, 28080,\n",
            "          2148,   617, 43539,   837,   262, 15489, 15191,  1370,   991,  6698,\n",
            "          2383,  3514,   422,  6388, 13853,   764,   220,   198]])\n",
            "Decoded text from tokenized input:  Hurricanes are an ever @-@ present threat during the summer and fall season , which puts Galveston in Coastal Windstorm Area . Galveston Island and the Bolivar Peninsula are generally at the greatest risk among the communities near the Galveston Bay . However , though the island and peninsula provide some shielding , the bay shoreline still faces significant danger from storm surge . \n",
            "\n",
            "Test Perplexity: 1.2454, Test Accuracy: 0.7262\n"
          ]
        },
        {
          "output_type": "display_data",
          "data": {
            "text/plain": [
              "VBox(children=(Label(value='0.014 MB of 0.014 MB uploaded\\r'), FloatProgress(value=1.0, max=1.0)))"
            ],
            "application/vnd.jupyter.widget-view+json": {
              "version_major": 2,
              "version_minor": 0,
              "model_id": "f5af455c7ef84962a92fc68e52f6bc6b"
            }
          },
          "metadata": {}
        },
        {
          "output_type": "display_data",
          "data": {
            "text/plain": [
              "<IPython.core.display.HTML object>"
            ],
            "text/html": [
              "\n",
              "    <style>\n",
              "        .wandb-row {\n",
              "            display: flex;\n",
              "            flex-direction: row;\n",
              "            flex-wrap: wrap;\n",
              "            justify-content: flex-start;\n",
              "            width: 100%;\n",
              "        }\n",
              "        .wandb-col {\n",
              "            display: flex;\n",
              "            flex-direction: column;\n",
              "            flex-basis: 100%;\n",
              "            flex: 1;\n",
              "            padding: 10px;\n",
              "        }\n",
              "    </style>\n",
              "<div class=\"wandb-row\"><div class=\"wandb-col\"><h3>Run history:</h3><br/><table class=\"wandb\"><tr><td>accuracy</td><td>▁</td></tr><tr><td>perplexity</td><td>▁</td></tr><tr><td>train_loss</td><td>▁</td></tr></table><br/></div><div class=\"wandb-col\"><h3>Run summary:</h3><br/><table class=\"wandb\"><tr><td>accuracy</td><td>0.72622</td></tr><tr><td>perplexity</td><td>1.24541</td></tr><tr><td>train_loss</td><td>0.60413</td></tr></table><br/></div></div>"
            ]
          },
          "metadata": {}
        },
        {
          "output_type": "display_data",
          "data": {
            "text/plain": [
              "<IPython.core.display.HTML object>"
            ],
            "text/html": [
              " View run <strong style=\"color:#cdcd00\">zany-sweep-31</strong> at: <a href='https://wandb.ai/tokamak01823-new-york-university/gpt2-pruning-optimization/runs/5dunagyo' target=\"_blank\">https://wandb.ai/tokamak01823-new-york-university/gpt2-pruning-optimization/runs/5dunagyo</a><br/> View project at: <a href='https://wandb.ai/tokamak01823-new-york-university/gpt2-pruning-optimization' target=\"_blank\">https://wandb.ai/tokamak01823-new-york-university/gpt2-pruning-optimization</a><br/>Synced 5 W&B file(s), 0 media file(s), 0 artifact file(s) and 0 other file(s)"
            ]
          },
          "metadata": {}
        },
        {
          "output_type": "display_data",
          "data": {
            "text/plain": [
              "<IPython.core.display.HTML object>"
            ],
            "text/html": [
              "Find logs at: <code>./wandb/run-20241209_181503-5dunagyo/logs</code>"
            ]
          },
          "metadata": {}
        },
        {
          "output_type": "stream",
          "name": "stderr",
          "text": [
            "\u001b[34m\u001b[1mwandb\u001b[0m: Agent Starting Run: a4s3w0wo with config:\n",
            "\u001b[34m\u001b[1mwandb\u001b[0m: \tfirst_ratio: 0.3\n",
            "\u001b[34m\u001b[1mwandb\u001b[0m: \tlast_ratio: 0.5\n",
            "\u001b[34m\u001b[1mwandb\u001b[0m: \tmiddle_ratio: 0\n"
          ]
        },
        {
          "output_type": "display_data",
          "data": {
            "text/plain": [
              "<IPython.core.display.HTML object>"
            ],
            "text/html": [
              "Tracking run with wandb version 0.18.7"
            ]
          },
          "metadata": {}
        },
        {
          "output_type": "display_data",
          "data": {
            "text/plain": [
              "<IPython.core.display.HTML object>"
            ],
            "text/html": [
              "Run data is saved locally in <code>/content/wandb/run-20241209_181904-a4s3w0wo</code>"
            ]
          },
          "metadata": {}
        },
        {
          "output_type": "display_data",
          "data": {
            "text/plain": [
              "<IPython.core.display.HTML object>"
            ],
            "text/html": [
              "Syncing run <strong><a href='https://wandb.ai/tokamak01823-new-york-university/gpt2-pruning-optimization/runs/a4s3w0wo' target=\"_blank\">kind-sweep-32</a></strong> to <a href='https://wandb.ai/tokamak01823-new-york-university/gpt2-pruning-optimization' target=\"_blank\">Weights & Biases</a> (<a href='https://wandb.me/developer-guide' target=\"_blank\">docs</a>)<br/>Sweep page: <a href='https://wandb.ai/tokamak01823-new-york-university/gpt2-pruning-optimization/sweeps/wd1vpw3g' target=\"_blank\">https://wandb.ai/tokamak01823-new-york-university/gpt2-pruning-optimization/sweeps/wd1vpw3g</a>"
            ]
          },
          "metadata": {}
        },
        {
          "output_type": "display_data",
          "data": {
            "text/plain": [
              "<IPython.core.display.HTML object>"
            ],
            "text/html": [
              " View project at <a href='https://wandb.ai/tokamak01823-new-york-university/gpt2-pruning-optimization' target=\"_blank\">https://wandb.ai/tokamak01823-new-york-university/gpt2-pruning-optimization</a>"
            ]
          },
          "metadata": {}
        },
        {
          "output_type": "display_data",
          "data": {
            "text/plain": [
              "<IPython.core.display.HTML object>"
            ],
            "text/html": [
              " View sweep at <a href='https://wandb.ai/tokamak01823-new-york-university/gpt2-pruning-optimization/sweeps/wd1vpw3g' target=\"_blank\">https://wandb.ai/tokamak01823-new-york-university/gpt2-pruning-optimization/sweeps/wd1vpw3g</a>"
            ]
          },
          "metadata": {}
        },
        {
          "output_type": "display_data",
          "data": {
            "text/plain": [
              "<IPython.core.display.HTML object>"
            ],
            "text/html": [
              " View run at <a href='https://wandb.ai/tokamak01823-new-york-university/gpt2-pruning-optimization/runs/a4s3w0wo' target=\"_blank\">https://wandb.ai/tokamak01823-new-york-university/gpt2-pruning-optimization/runs/a4s3w0wo</a>"
            ]
          },
          "metadata": {}
        },
        {
          "output_type": "stream",
          "name": "stderr",
          "text": [
            "Re-training after pruning: 100%|██████████| 901/901 [03:22<00:00,  4.45it/s]\n"
          ]
        },
        {
          "output_type": "stream",
          "name": "stdout",
          "text": [
            "First test sample text:\n",
            "  Hurricanes are an ever @-@ present threat during the summer and fall season , which puts Galveston in Coastal Windstorm Area . Galveston Island and the Bolivar Peninsula are generally at the greatest risk among the communities near the Galveston Bay . However , though the island and peninsula provide some shielding , the bay shoreline still faces significant danger from storm surge . \n",
            "\n",
            "First test sample tokenized input_ids: tensor([[39419,   389,   281,  1683,  2488,    12,    31,  1944,  2372,  1141,\n",
            "           262,  3931,   290,  2121,  1622,   837,   543,  7584,  5027,  4223,\n",
            "           261,   287, 43513,  3086, 12135,  9498,   764,  5027,  4223,   261,\n",
            "          5451,   290,   262, 10797,   452,   283, 24078,   389,  4143,   379,\n",
            "           262,  6000,  2526,  1871,   262,  5348,  1474,   262,  5027,  4223,\n",
            "           261,  4696,   764,  2102,   837,   996,   262,  7022,   290, 28080,\n",
            "          2148,   617, 43539,   837,   262, 15489, 15191,  1370,   991,  6698,\n",
            "          2383,  3514,   422,  6388, 13853,   764,   220,   198]])\n",
            "Decoded text from tokenized input:  Hurricanes are an ever @-@ present threat during the summer and fall season , which puts Galveston in Coastal Windstorm Area . Galveston Island and the Bolivar Peninsula are generally at the greatest risk among the communities near the Galveston Bay . However , though the island and peninsula provide some shielding , the bay shoreline still faces significant danger from storm surge . \n",
            "\n",
            "Test Perplexity: 1.1186, Test Accuracy: 0.7261\n"
          ]
        },
        {
          "output_type": "display_data",
          "data": {
            "text/plain": [
              "VBox(children=(Label(value='0.014 MB of 0.014 MB uploaded\\r'), FloatProgress(value=1.0, max=1.0)))"
            ],
            "application/vnd.jupyter.widget-view+json": {
              "version_major": 2,
              "version_minor": 0,
              "model_id": "7246281ecb4f48a48457a789ce32c6d6"
            }
          },
          "metadata": {}
        },
        {
          "output_type": "display_data",
          "data": {
            "text/plain": [
              "<IPython.core.display.HTML object>"
            ],
            "text/html": [
              "\n",
              "    <style>\n",
              "        .wandb-row {\n",
              "            display: flex;\n",
              "            flex-direction: row;\n",
              "            flex-wrap: wrap;\n",
              "            justify-content: flex-start;\n",
              "            width: 100%;\n",
              "        }\n",
              "        .wandb-col {\n",
              "            display: flex;\n",
              "            flex-direction: column;\n",
              "            flex-basis: 100%;\n",
              "            flex: 1;\n",
              "            padding: 10px;\n",
              "        }\n",
              "    </style>\n",
              "<div class=\"wandb-row\"><div class=\"wandb-col\"><h3>Run history:</h3><br/><table class=\"wandb\"><tr><td>accuracy</td><td>▁</td></tr><tr><td>perplexity</td><td>▁</td></tr><tr><td>train_loss</td><td>▁</td></tr></table><br/></div><div class=\"wandb-col\"><h3>Run summary:</h3><br/><table class=\"wandb\"><tr><td>accuracy</td><td>0.7261</td></tr><tr><td>perplexity</td><td>1.11864</td></tr><tr><td>train_loss</td><td>0.29439</td></tr></table><br/></div></div>"
            ]
          },
          "metadata": {}
        },
        {
          "output_type": "display_data",
          "data": {
            "text/plain": [
              "<IPython.core.display.HTML object>"
            ],
            "text/html": [
              " View run <strong style=\"color:#cdcd00\">kind-sweep-32</strong> at: <a href='https://wandb.ai/tokamak01823-new-york-university/gpt2-pruning-optimization/runs/a4s3w0wo' target=\"_blank\">https://wandb.ai/tokamak01823-new-york-university/gpt2-pruning-optimization/runs/a4s3w0wo</a><br/> View project at: <a href='https://wandb.ai/tokamak01823-new-york-university/gpt2-pruning-optimization' target=\"_blank\">https://wandb.ai/tokamak01823-new-york-university/gpt2-pruning-optimization</a><br/>Synced 5 W&B file(s), 0 media file(s), 0 artifact file(s) and 0 other file(s)"
            ]
          },
          "metadata": {}
        },
        {
          "output_type": "display_data",
          "data": {
            "text/plain": [
              "<IPython.core.display.HTML object>"
            ],
            "text/html": [
              "Find logs at: <code>./wandb/run-20241209_181904-a4s3w0wo/logs</code>"
            ]
          },
          "metadata": {}
        },
        {
          "output_type": "stream",
          "name": "stderr",
          "text": [
            "\u001b[34m\u001b[1mwandb\u001b[0m: Agent Starting Run: 1p9gke0y with config:\n",
            "\u001b[34m\u001b[1mwandb\u001b[0m: \tfirst_ratio: 0.5\n",
            "\u001b[34m\u001b[1mwandb\u001b[0m: \tlast_ratio: 0\n",
            "\u001b[34m\u001b[1mwandb\u001b[0m: \tmiddle_ratio: 0.9\n"
          ]
        },
        {
          "output_type": "display_data",
          "data": {
            "text/plain": [
              "<IPython.core.display.HTML object>"
            ],
            "text/html": [
              "Tracking run with wandb version 0.18.7"
            ]
          },
          "metadata": {}
        },
        {
          "output_type": "display_data",
          "data": {
            "text/plain": [
              "<IPython.core.display.HTML object>"
            ],
            "text/html": [
              "Run data is saved locally in <code>/content/wandb/run-20241209_182300-1p9gke0y</code>"
            ]
          },
          "metadata": {}
        },
        {
          "output_type": "display_data",
          "data": {
            "text/plain": [
              "<IPython.core.display.HTML object>"
            ],
            "text/html": [
              "Syncing run <strong><a href='https://wandb.ai/tokamak01823-new-york-university/gpt2-pruning-optimization/runs/1p9gke0y' target=\"_blank\">lyric-sweep-33</a></strong> to <a href='https://wandb.ai/tokamak01823-new-york-university/gpt2-pruning-optimization' target=\"_blank\">Weights & Biases</a> (<a href='https://wandb.me/developer-guide' target=\"_blank\">docs</a>)<br/>Sweep page: <a href='https://wandb.ai/tokamak01823-new-york-university/gpt2-pruning-optimization/sweeps/wd1vpw3g' target=\"_blank\">https://wandb.ai/tokamak01823-new-york-university/gpt2-pruning-optimization/sweeps/wd1vpw3g</a>"
            ]
          },
          "metadata": {}
        },
        {
          "output_type": "display_data",
          "data": {
            "text/plain": [
              "<IPython.core.display.HTML object>"
            ],
            "text/html": [
              " View project at <a href='https://wandb.ai/tokamak01823-new-york-university/gpt2-pruning-optimization' target=\"_blank\">https://wandb.ai/tokamak01823-new-york-university/gpt2-pruning-optimization</a>"
            ]
          },
          "metadata": {}
        },
        {
          "output_type": "display_data",
          "data": {
            "text/plain": [
              "<IPython.core.display.HTML object>"
            ],
            "text/html": [
              " View sweep at <a href='https://wandb.ai/tokamak01823-new-york-university/gpt2-pruning-optimization/sweeps/wd1vpw3g' target=\"_blank\">https://wandb.ai/tokamak01823-new-york-university/gpt2-pruning-optimization/sweeps/wd1vpw3g</a>"
            ]
          },
          "metadata": {}
        },
        {
          "output_type": "display_data",
          "data": {
            "text/plain": [
              "<IPython.core.display.HTML object>"
            ],
            "text/html": [
              " View run at <a href='https://wandb.ai/tokamak01823-new-york-university/gpt2-pruning-optimization/runs/1p9gke0y' target=\"_blank\">https://wandb.ai/tokamak01823-new-york-university/gpt2-pruning-optimization/runs/1p9gke0y</a>"
            ]
          },
          "metadata": {}
        },
        {
          "output_type": "stream",
          "name": "stderr",
          "text": [
            "Re-training after pruning: 100%|██████████| 901/901 [03:22<00:00,  4.45it/s]\n"
          ]
        },
        {
          "output_type": "stream",
          "name": "stdout",
          "text": [
            "First test sample text:\n",
            "  Hurricanes are an ever @-@ present threat during the summer and fall season , which puts Galveston in Coastal Windstorm Area . Galveston Island and the Bolivar Peninsula are generally at the greatest risk among the communities near the Galveston Bay . However , though the island and peninsula provide some shielding , the bay shoreline still faces significant danger from storm surge . \n",
            "\n",
            "First test sample tokenized input_ids: tensor([[39419,   389,   281,  1683,  2488,    12,    31,  1944,  2372,  1141,\n",
            "           262,  3931,   290,  2121,  1622,   837,   543,  7584,  5027,  4223,\n",
            "           261,   287, 43513,  3086, 12135,  9498,   764,  5027,  4223,   261,\n",
            "          5451,   290,   262, 10797,   452,   283, 24078,   389,  4143,   379,\n",
            "           262,  6000,  2526,  1871,   262,  5348,  1474,   262,  5027,  4223,\n",
            "           261,  4696,   764,  2102,   837,   996,   262,  7022,   290, 28080,\n",
            "          2148,   617, 43539,   837,   262, 15489, 15191,  1370,   991,  6698,\n",
            "          2383,  3514,   422,  6388, 13853,   764,   220,   198]])\n",
            "Decoded text from tokenized input:  Hurricanes are an ever @-@ present threat during the summer and fall season , which puts Galveston in Coastal Windstorm Area . Galveston Island and the Bolivar Peninsula are generally at the greatest risk among the communities near the Galveston Bay . However , though the island and peninsula provide some shielding , the bay shoreline still faces significant danger from storm surge . \n",
            "\n",
            "Test Perplexity: 1.5643, Test Accuracy: 0.7259\n"
          ]
        },
        {
          "output_type": "display_data",
          "data": {
            "text/plain": [
              "VBox(children=(Label(value='0.014 MB of 0.014 MB uploaded\\r'), FloatProgress(value=1.0, max=1.0)))"
            ],
            "application/vnd.jupyter.widget-view+json": {
              "version_major": 2,
              "version_minor": 0,
              "model_id": "99d007fdf9604e25b6f9a97d6bf42cf9"
            }
          },
          "metadata": {}
        },
        {
          "output_type": "display_data",
          "data": {
            "text/plain": [
              "<IPython.core.display.HTML object>"
            ],
            "text/html": [
              "\n",
              "    <style>\n",
              "        .wandb-row {\n",
              "            display: flex;\n",
              "            flex-direction: row;\n",
              "            flex-wrap: wrap;\n",
              "            justify-content: flex-start;\n",
              "            width: 100%;\n",
              "        }\n",
              "        .wandb-col {\n",
              "            display: flex;\n",
              "            flex-direction: column;\n",
              "            flex-basis: 100%;\n",
              "            flex: 1;\n",
              "            padding: 10px;\n",
              "        }\n",
              "    </style>\n",
              "<div class=\"wandb-row\"><div class=\"wandb-col\"><h3>Run history:</h3><br/><table class=\"wandb\"><tr><td>accuracy</td><td>▁</td></tr><tr><td>perplexity</td><td>▁</td></tr><tr><td>train_loss</td><td>▁</td></tr></table><br/></div><div class=\"wandb-col\"><h3>Run summary:</h3><br/><table class=\"wandb\"><tr><td>accuracy</td><td>0.72594</td></tr><tr><td>perplexity</td><td>1.56431</td></tr><tr><td>train_loss</td><td>0.85823</td></tr></table><br/></div></div>"
            ]
          },
          "metadata": {}
        },
        {
          "output_type": "display_data",
          "data": {
            "text/plain": [
              "<IPython.core.display.HTML object>"
            ],
            "text/html": [
              " View run <strong style=\"color:#cdcd00\">lyric-sweep-33</strong> at: <a href='https://wandb.ai/tokamak01823-new-york-university/gpt2-pruning-optimization/runs/1p9gke0y' target=\"_blank\">https://wandb.ai/tokamak01823-new-york-university/gpt2-pruning-optimization/runs/1p9gke0y</a><br/> View project at: <a href='https://wandb.ai/tokamak01823-new-york-university/gpt2-pruning-optimization' target=\"_blank\">https://wandb.ai/tokamak01823-new-york-university/gpt2-pruning-optimization</a><br/>Synced 5 W&B file(s), 0 media file(s), 0 artifact file(s) and 0 other file(s)"
            ]
          },
          "metadata": {}
        },
        {
          "output_type": "display_data",
          "data": {
            "text/plain": [
              "<IPython.core.display.HTML object>"
            ],
            "text/html": [
              "Find logs at: <code>./wandb/run-20241209_182300-1p9gke0y/logs</code>"
            ]
          },
          "metadata": {}
        },
        {
          "output_type": "stream",
          "name": "stderr",
          "text": [
            "\u001b[34m\u001b[1mwandb\u001b[0m: Agent Starting Run: f95uacyz with config:\n",
            "\u001b[34m\u001b[1mwandb\u001b[0m: \tfirst_ratio: 0.7\n",
            "\u001b[34m\u001b[1mwandb\u001b[0m: \tlast_ratio: 0\n",
            "\u001b[34m\u001b[1mwandb\u001b[0m: \tmiddle_ratio: 0.7\n"
          ]
        },
        {
          "output_type": "display_data",
          "data": {
            "text/plain": [
              "<IPython.core.display.HTML object>"
            ],
            "text/html": [
              "Tracking run with wandb version 0.18.7"
            ]
          },
          "metadata": {}
        },
        {
          "output_type": "display_data",
          "data": {
            "text/plain": [
              "<IPython.core.display.HTML object>"
            ],
            "text/html": [
              "Run data is saved locally in <code>/content/wandb/run-20241209_182656-f95uacyz</code>"
            ]
          },
          "metadata": {}
        },
        {
          "output_type": "display_data",
          "data": {
            "text/plain": [
              "<IPython.core.display.HTML object>"
            ],
            "text/html": [
              "Syncing run <strong><a href='https://wandb.ai/tokamak01823-new-york-university/gpt2-pruning-optimization/runs/f95uacyz' target=\"_blank\">giddy-sweep-34</a></strong> to <a href='https://wandb.ai/tokamak01823-new-york-university/gpt2-pruning-optimization' target=\"_blank\">Weights & Biases</a> (<a href='https://wandb.me/developer-guide' target=\"_blank\">docs</a>)<br/>Sweep page: <a href='https://wandb.ai/tokamak01823-new-york-university/gpt2-pruning-optimization/sweeps/wd1vpw3g' target=\"_blank\">https://wandb.ai/tokamak01823-new-york-university/gpt2-pruning-optimization/sweeps/wd1vpw3g</a>"
            ]
          },
          "metadata": {}
        },
        {
          "output_type": "display_data",
          "data": {
            "text/plain": [
              "<IPython.core.display.HTML object>"
            ],
            "text/html": [
              " View project at <a href='https://wandb.ai/tokamak01823-new-york-university/gpt2-pruning-optimization' target=\"_blank\">https://wandb.ai/tokamak01823-new-york-university/gpt2-pruning-optimization</a>"
            ]
          },
          "metadata": {}
        },
        {
          "output_type": "display_data",
          "data": {
            "text/plain": [
              "<IPython.core.display.HTML object>"
            ],
            "text/html": [
              " View sweep at <a href='https://wandb.ai/tokamak01823-new-york-university/gpt2-pruning-optimization/sweeps/wd1vpw3g' target=\"_blank\">https://wandb.ai/tokamak01823-new-york-university/gpt2-pruning-optimization/sweeps/wd1vpw3g</a>"
            ]
          },
          "metadata": {}
        },
        {
          "output_type": "display_data",
          "data": {
            "text/plain": [
              "<IPython.core.display.HTML object>"
            ],
            "text/html": [
              " View run at <a href='https://wandb.ai/tokamak01823-new-york-university/gpt2-pruning-optimization/runs/f95uacyz' target=\"_blank\">https://wandb.ai/tokamak01823-new-york-university/gpt2-pruning-optimization/runs/f95uacyz</a>"
            ]
          },
          "metadata": {}
        },
        {
          "output_type": "stream",
          "name": "stderr",
          "text": [
            "Re-training after pruning: 100%|██████████| 901/901 [03:24<00:00,  4.40it/s]\n"
          ]
        },
        {
          "output_type": "stream",
          "name": "stdout",
          "text": [
            "First test sample text:\n",
            "  Hurricanes are an ever @-@ present threat during the summer and fall season , which puts Galveston in Coastal Windstorm Area . Galveston Island and the Bolivar Peninsula are generally at the greatest risk among the communities near the Galveston Bay . However , though the island and peninsula provide some shielding , the bay shoreline still faces significant danger from storm surge . \n",
            "\n",
            "First test sample tokenized input_ids: tensor([[39419,   389,   281,  1683,  2488,    12,    31,  1944,  2372,  1141,\n",
            "           262,  3931,   290,  2121,  1622,   837,   543,  7584,  5027,  4223,\n",
            "           261,   287, 43513,  3086, 12135,  9498,   764,  5027,  4223,   261,\n",
            "          5451,   290,   262, 10797,   452,   283, 24078,   389,  4143,   379,\n",
            "           262,  6000,  2526,  1871,   262,  5348,  1474,   262,  5027,  4223,\n",
            "           261,  4696,   764,  2102,   837,   996,   262,  7022,   290, 28080,\n",
            "          2148,   617, 43539,   837,   262, 15489, 15191,  1370,   991,  6698,\n",
            "          2383,  3514,   422,  6388, 13853,   764,   220,   198]])\n",
            "Decoded text from tokenized input:  Hurricanes are an ever @-@ present threat during the summer and fall season , which puts Galveston in Coastal Windstorm Area . Galveston Island and the Bolivar Peninsula are generally at the greatest risk among the communities near the Galveston Bay . However , though the island and peninsula provide some shielding , the bay shoreline still faces significant danger from storm surge . \n",
            "\n",
            "Test Perplexity: 1.4300, Test Accuracy: 0.7262\n"
          ]
        },
        {
          "output_type": "display_data",
          "data": {
            "text/plain": [
              "VBox(children=(Label(value='0.014 MB of 0.014 MB uploaded\\r'), FloatProgress(value=1.0, max=1.0)))"
            ],
            "application/vnd.jupyter.widget-view+json": {
              "version_major": 2,
              "version_minor": 0,
              "model_id": "5c3b7e782f63460ca9ef3842e39cf541"
            }
          },
          "metadata": {}
        },
        {
          "output_type": "display_data",
          "data": {
            "text/plain": [
              "<IPython.core.display.HTML object>"
            ],
            "text/html": [
              "\n",
              "    <style>\n",
              "        .wandb-row {\n",
              "            display: flex;\n",
              "            flex-direction: row;\n",
              "            flex-wrap: wrap;\n",
              "            justify-content: flex-start;\n",
              "            width: 100%;\n",
              "        }\n",
              "        .wandb-col {\n",
              "            display: flex;\n",
              "            flex-direction: column;\n",
              "            flex-basis: 100%;\n",
              "            flex: 1;\n",
              "            padding: 10px;\n",
              "        }\n",
              "    </style>\n",
              "<div class=\"wandb-row\"><div class=\"wandb-col\"><h3>Run history:</h3><br/><table class=\"wandb\"><tr><td>accuracy</td><td>▁</td></tr><tr><td>perplexity</td><td>▁</td></tr><tr><td>train_loss</td><td>▁</td></tr></table><br/></div><div class=\"wandb-col\"><h3>Run summary:</h3><br/><table class=\"wandb\"><tr><td>accuracy</td><td>0.72619</td></tr><tr><td>perplexity</td><td>1.43004</td></tr><tr><td>train_loss</td><td>0.82429</td></tr></table><br/></div></div>"
            ]
          },
          "metadata": {}
        },
        {
          "output_type": "display_data",
          "data": {
            "text/plain": [
              "<IPython.core.display.HTML object>"
            ],
            "text/html": [
              " View run <strong style=\"color:#cdcd00\">giddy-sweep-34</strong> at: <a href='https://wandb.ai/tokamak01823-new-york-university/gpt2-pruning-optimization/runs/f95uacyz' target=\"_blank\">https://wandb.ai/tokamak01823-new-york-university/gpt2-pruning-optimization/runs/f95uacyz</a><br/> View project at: <a href='https://wandb.ai/tokamak01823-new-york-university/gpt2-pruning-optimization' target=\"_blank\">https://wandb.ai/tokamak01823-new-york-university/gpt2-pruning-optimization</a><br/>Synced 5 W&B file(s), 0 media file(s), 0 artifact file(s) and 0 other file(s)"
            ]
          },
          "metadata": {}
        },
        {
          "output_type": "display_data",
          "data": {
            "text/plain": [
              "<IPython.core.display.HTML object>"
            ],
            "text/html": [
              "Find logs at: <code>./wandb/run-20241209_182656-f95uacyz/logs</code>"
            ]
          },
          "metadata": {}
        },
        {
          "output_type": "stream",
          "name": "stderr",
          "text": [
            "\u001b[34m\u001b[1mwandb\u001b[0m: Agent Starting Run: xr4g2v3d with config:\n",
            "\u001b[34m\u001b[1mwandb\u001b[0m: \tfirst_ratio: 0.1\n",
            "\u001b[34m\u001b[1mwandb\u001b[0m: \tlast_ratio: 0.7\n",
            "\u001b[34m\u001b[1mwandb\u001b[0m: \tmiddle_ratio: 0.1\n"
          ]
        },
        {
          "output_type": "display_data",
          "data": {
            "text/plain": [
              "<IPython.core.display.HTML object>"
            ],
            "text/html": [
              "Tracking run with wandb version 0.18.7"
            ]
          },
          "metadata": {}
        },
        {
          "output_type": "display_data",
          "data": {
            "text/plain": [
              "<IPython.core.display.HTML object>"
            ],
            "text/html": [
              "Run data is saved locally in <code>/content/wandb/run-20241209_183057-xr4g2v3d</code>"
            ]
          },
          "metadata": {}
        },
        {
          "output_type": "display_data",
          "data": {
            "text/plain": [
              "<IPython.core.display.HTML object>"
            ],
            "text/html": [
              "Syncing run <strong><a href='https://wandb.ai/tokamak01823-new-york-university/gpt2-pruning-optimization/runs/xr4g2v3d' target=\"_blank\">fast-sweep-35</a></strong> to <a href='https://wandb.ai/tokamak01823-new-york-university/gpt2-pruning-optimization' target=\"_blank\">Weights & Biases</a> (<a href='https://wandb.me/developer-guide' target=\"_blank\">docs</a>)<br/>Sweep page: <a href='https://wandb.ai/tokamak01823-new-york-university/gpt2-pruning-optimization/sweeps/wd1vpw3g' target=\"_blank\">https://wandb.ai/tokamak01823-new-york-university/gpt2-pruning-optimization/sweeps/wd1vpw3g</a>"
            ]
          },
          "metadata": {}
        },
        {
          "output_type": "display_data",
          "data": {
            "text/plain": [
              "<IPython.core.display.HTML object>"
            ],
            "text/html": [
              " View project at <a href='https://wandb.ai/tokamak01823-new-york-university/gpt2-pruning-optimization' target=\"_blank\">https://wandb.ai/tokamak01823-new-york-university/gpt2-pruning-optimization</a>"
            ]
          },
          "metadata": {}
        },
        {
          "output_type": "display_data",
          "data": {
            "text/plain": [
              "<IPython.core.display.HTML object>"
            ],
            "text/html": [
              " View sweep at <a href='https://wandb.ai/tokamak01823-new-york-university/gpt2-pruning-optimization/sweeps/wd1vpw3g' target=\"_blank\">https://wandb.ai/tokamak01823-new-york-university/gpt2-pruning-optimization/sweeps/wd1vpw3g</a>"
            ]
          },
          "metadata": {}
        },
        {
          "output_type": "display_data",
          "data": {
            "text/plain": [
              "<IPython.core.display.HTML object>"
            ],
            "text/html": [
              " View run at <a href='https://wandb.ai/tokamak01823-new-york-university/gpt2-pruning-optimization/runs/xr4g2v3d' target=\"_blank\">https://wandb.ai/tokamak01823-new-york-university/gpt2-pruning-optimization/runs/xr4g2v3d</a>"
            ]
          },
          "metadata": {}
        },
        {
          "output_type": "stream",
          "name": "stderr",
          "text": [
            "Re-training after pruning: 100%|██████████| 901/901 [03:23<00:00,  4.42it/s]\n"
          ]
        },
        {
          "output_type": "stream",
          "name": "stdout",
          "text": [
            "First test sample text:\n",
            "  Hurricanes are an ever @-@ present threat during the summer and fall season , which puts Galveston in Coastal Windstorm Area . Galveston Island and the Bolivar Peninsula are generally at the greatest risk among the communities near the Galveston Bay . However , though the island and peninsula provide some shielding , the bay shoreline still faces significant danger from storm surge . \n",
            "\n",
            "First test sample tokenized input_ids: tensor([[39419,   389,   281,  1683,  2488,    12,    31,  1944,  2372,  1141,\n",
            "           262,  3931,   290,  2121,  1622,   837,   543,  7584,  5027,  4223,\n",
            "           261,   287, 43513,  3086, 12135,  9498,   764,  5027,  4223,   261,\n",
            "          5451,   290,   262, 10797,   452,   283, 24078,   389,  4143,   379,\n",
            "           262,  6000,  2526,  1871,   262,  5348,  1474,   262,  5027,  4223,\n",
            "           261,  4696,   764,  2102,   837,   996,   262,  7022,   290, 28080,\n",
            "          2148,   617, 43539,   837,   262, 15489, 15191,  1370,   991,  6698,\n",
            "          2383,  3514,   422,  6388, 13853,   764,   220,   198]])\n",
            "Decoded text from tokenized input:  Hurricanes are an ever @-@ present threat during the summer and fall season , which puts Galveston in Coastal Windstorm Area . Galveston Island and the Bolivar Peninsula are generally at the greatest risk among the communities near the Galveston Bay . However , though the island and peninsula provide some shielding , the bay shoreline still faces significant danger from storm surge . \n",
            "\n",
            "Test Perplexity: 1.2794, Test Accuracy: 0.7262\n"
          ]
        },
        {
          "output_type": "display_data",
          "data": {
            "text/plain": [
              "VBox(children=(Label(value='0.014 MB of 0.014 MB uploaded\\r'), FloatProgress(value=1.0, max=1.0)))"
            ],
            "application/vnd.jupyter.widget-view+json": {
              "version_major": 2,
              "version_minor": 0,
              "model_id": "a0d905113f6348a280399f3750b35c65"
            }
          },
          "metadata": {}
        },
        {
          "output_type": "display_data",
          "data": {
            "text/plain": [
              "<IPython.core.display.HTML object>"
            ],
            "text/html": [
              "\n",
              "    <style>\n",
              "        .wandb-row {\n",
              "            display: flex;\n",
              "            flex-direction: row;\n",
              "            flex-wrap: wrap;\n",
              "            justify-content: flex-start;\n",
              "            width: 100%;\n",
              "        }\n",
              "        .wandb-col {\n",
              "            display: flex;\n",
              "            flex-direction: column;\n",
              "            flex-basis: 100%;\n",
              "            flex: 1;\n",
              "            padding: 10px;\n",
              "        }\n",
              "    </style>\n",
              "<div class=\"wandb-row\"><div class=\"wandb-col\"><h3>Run history:</h3><br/><table class=\"wandb\"><tr><td>accuracy</td><td>▁</td></tr><tr><td>perplexity</td><td>▁</td></tr><tr><td>train_loss</td><td>▁</td></tr></table><br/></div><div class=\"wandb-col\"><h3>Run summary:</h3><br/><table class=\"wandb\"><tr><td>accuracy</td><td>0.72623</td></tr><tr><td>perplexity</td><td>1.2794</td></tr><tr><td>train_loss</td><td>0.5115</td></tr></table><br/></div></div>"
            ]
          },
          "metadata": {}
        },
        {
          "output_type": "display_data",
          "data": {
            "text/plain": [
              "<IPython.core.display.HTML object>"
            ],
            "text/html": [
              " View run <strong style=\"color:#cdcd00\">fast-sweep-35</strong> at: <a href='https://wandb.ai/tokamak01823-new-york-university/gpt2-pruning-optimization/runs/xr4g2v3d' target=\"_blank\">https://wandb.ai/tokamak01823-new-york-university/gpt2-pruning-optimization/runs/xr4g2v3d</a><br/> View project at: <a href='https://wandb.ai/tokamak01823-new-york-university/gpt2-pruning-optimization' target=\"_blank\">https://wandb.ai/tokamak01823-new-york-university/gpt2-pruning-optimization</a><br/>Synced 5 W&B file(s), 0 media file(s), 0 artifact file(s) and 0 other file(s)"
            ]
          },
          "metadata": {}
        },
        {
          "output_type": "display_data",
          "data": {
            "text/plain": [
              "<IPython.core.display.HTML object>"
            ],
            "text/html": [
              "Find logs at: <code>./wandb/run-20241209_183057-xr4g2v3d/logs</code>"
            ]
          },
          "metadata": {}
        },
        {
          "output_type": "stream",
          "name": "stderr",
          "text": [
            "\u001b[34m\u001b[1mwandb\u001b[0m: Agent Starting Run: bqx04gdq with config:\n",
            "\u001b[34m\u001b[1mwandb\u001b[0m: \tfirst_ratio: 0.3\n",
            "\u001b[34m\u001b[1mwandb\u001b[0m: \tlast_ratio: 0.7\n",
            "\u001b[34m\u001b[1mwandb\u001b[0m: \tmiddle_ratio: 0\n"
          ]
        },
        {
          "output_type": "display_data",
          "data": {
            "text/plain": [
              "<IPython.core.display.HTML object>"
            ],
            "text/html": [
              "Tracking run with wandb version 0.18.7"
            ]
          },
          "metadata": {}
        },
        {
          "output_type": "display_data",
          "data": {
            "text/plain": [
              "<IPython.core.display.HTML object>"
            ],
            "text/html": [
              "Run data is saved locally in <code>/content/wandb/run-20241209_183459-bqx04gdq</code>"
            ]
          },
          "metadata": {}
        },
        {
          "output_type": "display_data",
          "data": {
            "text/plain": [
              "<IPython.core.display.HTML object>"
            ],
            "text/html": [
              "Syncing run <strong><a href='https://wandb.ai/tokamak01823-new-york-university/gpt2-pruning-optimization/runs/bqx04gdq' target=\"_blank\">dulcet-sweep-36</a></strong> to <a href='https://wandb.ai/tokamak01823-new-york-university/gpt2-pruning-optimization' target=\"_blank\">Weights & Biases</a> (<a href='https://wandb.me/developer-guide' target=\"_blank\">docs</a>)<br/>Sweep page: <a href='https://wandb.ai/tokamak01823-new-york-university/gpt2-pruning-optimization/sweeps/wd1vpw3g' target=\"_blank\">https://wandb.ai/tokamak01823-new-york-university/gpt2-pruning-optimization/sweeps/wd1vpw3g</a>"
            ]
          },
          "metadata": {}
        },
        {
          "output_type": "display_data",
          "data": {
            "text/plain": [
              "<IPython.core.display.HTML object>"
            ],
            "text/html": [
              " View project at <a href='https://wandb.ai/tokamak01823-new-york-university/gpt2-pruning-optimization' target=\"_blank\">https://wandb.ai/tokamak01823-new-york-university/gpt2-pruning-optimization</a>"
            ]
          },
          "metadata": {}
        },
        {
          "output_type": "display_data",
          "data": {
            "text/plain": [
              "<IPython.core.display.HTML object>"
            ],
            "text/html": [
              " View sweep at <a href='https://wandb.ai/tokamak01823-new-york-university/gpt2-pruning-optimization/sweeps/wd1vpw3g' target=\"_blank\">https://wandb.ai/tokamak01823-new-york-university/gpt2-pruning-optimization/sweeps/wd1vpw3g</a>"
            ]
          },
          "metadata": {}
        },
        {
          "output_type": "display_data",
          "data": {
            "text/plain": [
              "<IPython.core.display.HTML object>"
            ],
            "text/html": [
              " View run at <a href='https://wandb.ai/tokamak01823-new-york-university/gpt2-pruning-optimization/runs/bqx04gdq' target=\"_blank\">https://wandb.ai/tokamak01823-new-york-university/gpt2-pruning-optimization/runs/bqx04gdq</a>"
            ]
          },
          "metadata": {}
        },
        {
          "output_type": "stream",
          "name": "stderr",
          "text": [
            "Re-training after pruning: 100%|██████████| 901/901 [03:25<00:00,  4.39it/s]\n"
          ]
        },
        {
          "output_type": "stream",
          "name": "stdout",
          "text": [
            "First test sample text:\n",
            "  Hurricanes are an ever @-@ present threat during the summer and fall season , which puts Galveston in Coastal Windstorm Area . Galveston Island and the Bolivar Peninsula are generally at the greatest risk among the communities near the Galveston Bay . However , though the island and peninsula provide some shielding , the bay shoreline still faces significant danger from storm surge . \n",
            "\n",
            "First test sample tokenized input_ids: tensor([[39419,   389,   281,  1683,  2488,    12,    31,  1944,  2372,  1141,\n",
            "           262,  3931,   290,  2121,  1622,   837,   543,  7584,  5027,  4223,\n",
            "           261,   287, 43513,  3086, 12135,  9498,   764,  5027,  4223,   261,\n",
            "          5451,   290,   262, 10797,   452,   283, 24078,   389,  4143,   379,\n",
            "           262,  6000,  2526,  1871,   262,  5348,  1474,   262,  5027,  4223,\n",
            "           261,  4696,   764,  2102,   837,   996,   262,  7022,   290, 28080,\n",
            "          2148,   617, 43539,   837,   262, 15489, 15191,  1370,   991,  6698,\n",
            "          2383,  3514,   422,  6388, 13853,   764,   220,   198]])\n",
            "Decoded text from tokenized input:  Hurricanes are an ever @-@ present threat during the summer and fall season , which puts Galveston in Coastal Windstorm Area . Galveston Island and the Bolivar Peninsula are generally at the greatest risk among the communities near the Galveston Bay . However , though the island and peninsula provide some shielding , the bay shoreline still faces significant danger from storm surge . \n",
            "\n",
            "Test Perplexity: 1.2890, Test Accuracy: 0.7262\n"
          ]
        },
        {
          "output_type": "display_data",
          "data": {
            "text/plain": [
              "VBox(children=(Label(value='0.014 MB of 0.014 MB uploaded\\r'), FloatProgress(value=1.0, max=1.0)))"
            ],
            "application/vnd.jupyter.widget-view+json": {
              "version_major": 2,
              "version_minor": 0,
              "model_id": "08848b39250d46d9a58f2ea0ef905c34"
            }
          },
          "metadata": {}
        },
        {
          "output_type": "display_data",
          "data": {
            "text/plain": [
              "<IPython.core.display.HTML object>"
            ],
            "text/html": [
              "\n",
              "    <style>\n",
              "        .wandb-row {\n",
              "            display: flex;\n",
              "            flex-direction: row;\n",
              "            flex-wrap: wrap;\n",
              "            justify-content: flex-start;\n",
              "            width: 100%;\n",
              "        }\n",
              "        .wandb-col {\n",
              "            display: flex;\n",
              "            flex-direction: column;\n",
              "            flex-basis: 100%;\n",
              "            flex: 1;\n",
              "            padding: 10px;\n",
              "        }\n",
              "    </style>\n",
              "<div class=\"wandb-row\"><div class=\"wandb-col\"><h3>Run history:</h3><br/><table class=\"wandb\"><tr><td>accuracy</td><td>▁</td></tr><tr><td>perplexity</td><td>▁</td></tr><tr><td>train_loss</td><td>▁</td></tr></table><br/></div><div class=\"wandb-col\"><h3>Run summary:</h3><br/><table class=\"wandb\"><tr><td>accuracy</td><td>0.72624</td></tr><tr><td>perplexity</td><td>1.28898</td></tr><tr><td>train_loss</td><td>0.52313</td></tr></table><br/></div></div>"
            ]
          },
          "metadata": {}
        },
        {
          "output_type": "display_data",
          "data": {
            "text/plain": [
              "<IPython.core.display.HTML object>"
            ],
            "text/html": [
              " View run <strong style=\"color:#cdcd00\">dulcet-sweep-36</strong> at: <a href='https://wandb.ai/tokamak01823-new-york-university/gpt2-pruning-optimization/runs/bqx04gdq' target=\"_blank\">https://wandb.ai/tokamak01823-new-york-university/gpt2-pruning-optimization/runs/bqx04gdq</a><br/> View project at: <a href='https://wandb.ai/tokamak01823-new-york-university/gpt2-pruning-optimization' target=\"_blank\">https://wandb.ai/tokamak01823-new-york-university/gpt2-pruning-optimization</a><br/>Synced 5 W&B file(s), 0 media file(s), 0 artifact file(s) and 0 other file(s)"
            ]
          },
          "metadata": {}
        },
        {
          "output_type": "display_data",
          "data": {
            "text/plain": [
              "<IPython.core.display.HTML object>"
            ],
            "text/html": [
              "Find logs at: <code>./wandb/run-20241209_183459-bqx04gdq/logs</code>"
            ]
          },
          "metadata": {}
        },
        {
          "output_type": "stream",
          "name": "stderr",
          "text": [
            "\u001b[34m\u001b[1mwandb\u001b[0m: Agent Starting Run: s34jn3eq with config:\n",
            "\u001b[34m\u001b[1mwandb\u001b[0m: \tfirst_ratio: 0.5\n",
            "\u001b[34m\u001b[1mwandb\u001b[0m: \tlast_ratio: 0.3\n",
            "\u001b[34m\u001b[1mwandb\u001b[0m: \tmiddle_ratio: 0\n"
          ]
        },
        {
          "output_type": "display_data",
          "data": {
            "text/plain": [
              "<IPython.core.display.HTML object>"
            ],
            "text/html": [
              "Tracking run with wandb version 0.18.7"
            ]
          },
          "metadata": {}
        },
        {
          "output_type": "display_data",
          "data": {
            "text/plain": [
              "<IPython.core.display.HTML object>"
            ],
            "text/html": [
              "Run data is saved locally in <code>/content/wandb/run-20241209_183900-s34jn3eq</code>"
            ]
          },
          "metadata": {}
        },
        {
          "output_type": "display_data",
          "data": {
            "text/plain": [
              "<IPython.core.display.HTML object>"
            ],
            "text/html": [
              "Syncing run <strong><a href='https://wandb.ai/tokamak01823-new-york-university/gpt2-pruning-optimization/runs/s34jn3eq' target=\"_blank\">eager-sweep-37</a></strong> to <a href='https://wandb.ai/tokamak01823-new-york-university/gpt2-pruning-optimization' target=\"_blank\">Weights & Biases</a> (<a href='https://wandb.me/developer-guide' target=\"_blank\">docs</a>)<br/>Sweep page: <a href='https://wandb.ai/tokamak01823-new-york-university/gpt2-pruning-optimization/sweeps/wd1vpw3g' target=\"_blank\">https://wandb.ai/tokamak01823-new-york-university/gpt2-pruning-optimization/sweeps/wd1vpw3g</a>"
            ]
          },
          "metadata": {}
        },
        {
          "output_type": "display_data",
          "data": {
            "text/plain": [
              "<IPython.core.display.HTML object>"
            ],
            "text/html": [
              " View project at <a href='https://wandb.ai/tokamak01823-new-york-university/gpt2-pruning-optimization' target=\"_blank\">https://wandb.ai/tokamak01823-new-york-university/gpt2-pruning-optimization</a>"
            ]
          },
          "metadata": {}
        },
        {
          "output_type": "display_data",
          "data": {
            "text/plain": [
              "<IPython.core.display.HTML object>"
            ],
            "text/html": [
              " View sweep at <a href='https://wandb.ai/tokamak01823-new-york-university/gpt2-pruning-optimization/sweeps/wd1vpw3g' target=\"_blank\">https://wandb.ai/tokamak01823-new-york-university/gpt2-pruning-optimization/sweeps/wd1vpw3g</a>"
            ]
          },
          "metadata": {}
        },
        {
          "output_type": "display_data",
          "data": {
            "text/plain": [
              "<IPython.core.display.HTML object>"
            ],
            "text/html": [
              " View run at <a href='https://wandb.ai/tokamak01823-new-york-university/gpt2-pruning-optimization/runs/s34jn3eq' target=\"_blank\">https://wandb.ai/tokamak01823-new-york-university/gpt2-pruning-optimization/runs/s34jn3eq</a>"
            ]
          },
          "metadata": {}
        },
        {
          "output_type": "stream",
          "name": "stderr",
          "text": [
            "Re-training after pruning: 100%|██████████| 901/901 [03:23<00:00,  4.43it/s]\n"
          ]
        },
        {
          "output_type": "stream",
          "name": "stdout",
          "text": [
            "First test sample text:\n",
            "  Hurricanes are an ever @-@ present threat during the summer and fall season , which puts Galveston in Coastal Windstorm Area . Galveston Island and the Bolivar Peninsula are generally at the greatest risk among the communities near the Galveston Bay . However , though the island and peninsula provide some shielding , the bay shoreline still faces significant danger from storm surge . \n",
            "\n",
            "First test sample tokenized input_ids: tensor([[39419,   389,   281,  1683,  2488,    12,    31,  1944,  2372,  1141,\n",
            "           262,  3931,   290,  2121,  1622,   837,   543,  7584,  5027,  4223,\n",
            "           261,   287, 43513,  3086, 12135,  9498,   764,  5027,  4223,   261,\n",
            "          5451,   290,   262, 10797,   452,   283, 24078,   389,  4143,   379,\n",
            "           262,  6000,  2526,  1871,   262,  5348,  1474,   262,  5027,  4223,\n",
            "           261,  4696,   764,  2102,   837,   996,   262,  7022,   290, 28080,\n",
            "          2148,   617, 43539,   837,   262, 15489, 15191,  1370,   991,  6698,\n",
            "          2383,  3514,   422,  6388, 13853,   764,   220,   198]])\n",
            "Decoded text from tokenized input:  Hurricanes are an ever @-@ present threat during the summer and fall season , which puts Galveston in Coastal Windstorm Area . Galveston Island and the Bolivar Peninsula are generally at the greatest risk among the communities near the Galveston Bay . However , though the island and peninsula provide some shielding , the bay shoreline still faces significant danger from storm surge . \n",
            "\n",
            "Test Perplexity: 1.0941, Test Accuracy: 0.7261\n"
          ]
        },
        {
          "output_type": "display_data",
          "data": {
            "text/plain": [
              "VBox(children=(Label(value='0.014 MB of 0.014 MB uploaded\\r'), FloatProgress(value=1.0, max=1.0)))"
            ],
            "application/vnd.jupyter.widget-view+json": {
              "version_major": 2,
              "version_minor": 0,
              "model_id": "c3bdb99302c347b5857416bbb5512f0f"
            }
          },
          "metadata": {}
        },
        {
          "output_type": "display_data",
          "data": {
            "text/plain": [
              "<IPython.core.display.HTML object>"
            ],
            "text/html": [
              "\n",
              "    <style>\n",
              "        .wandb-row {\n",
              "            display: flex;\n",
              "            flex-direction: row;\n",
              "            flex-wrap: wrap;\n",
              "            justify-content: flex-start;\n",
              "            width: 100%;\n",
              "        }\n",
              "        .wandb-col {\n",
              "            display: flex;\n",
              "            flex-direction: column;\n",
              "            flex-basis: 100%;\n",
              "            flex: 1;\n",
              "            padding: 10px;\n",
              "        }\n",
              "    </style>\n",
              "<div class=\"wandb-row\"><div class=\"wandb-col\"><h3>Run history:</h3><br/><table class=\"wandb\"><tr><td>accuracy</td><td>▁</td></tr><tr><td>perplexity</td><td>▁</td></tr><tr><td>train_loss</td><td>▁</td></tr></table><br/></div><div class=\"wandb-col\"><h3>Run summary:</h3><br/><table class=\"wandb\"><tr><td>accuracy</td><td>0.72609</td></tr><tr><td>perplexity</td><td>1.09406</td></tr><tr><td>train_loss</td><td>0.25523</td></tr></table><br/></div></div>"
            ]
          },
          "metadata": {}
        },
        {
          "output_type": "display_data",
          "data": {
            "text/plain": [
              "<IPython.core.display.HTML object>"
            ],
            "text/html": [
              " View run <strong style=\"color:#cdcd00\">eager-sweep-37</strong> at: <a href='https://wandb.ai/tokamak01823-new-york-university/gpt2-pruning-optimization/runs/s34jn3eq' target=\"_blank\">https://wandb.ai/tokamak01823-new-york-university/gpt2-pruning-optimization/runs/s34jn3eq</a><br/> View project at: <a href='https://wandb.ai/tokamak01823-new-york-university/gpt2-pruning-optimization' target=\"_blank\">https://wandb.ai/tokamak01823-new-york-university/gpt2-pruning-optimization</a><br/>Synced 5 W&B file(s), 0 media file(s), 0 artifact file(s) and 0 other file(s)"
            ]
          },
          "metadata": {}
        },
        {
          "output_type": "display_data",
          "data": {
            "text/plain": [
              "<IPython.core.display.HTML object>"
            ],
            "text/html": [
              "Find logs at: <code>./wandb/run-20241209_183900-s34jn3eq/logs</code>"
            ]
          },
          "metadata": {}
        },
        {
          "output_type": "stream",
          "name": "stderr",
          "text": [
            "\u001b[34m\u001b[1mwandb\u001b[0m: Sweep Agent: Waiting for job.\n",
            "\u001b[34m\u001b[1mwandb\u001b[0m: Job received.\n",
            "\u001b[34m\u001b[1mwandb\u001b[0m: Agent Starting Run: 7sqm7eq3 with config:\n",
            "\u001b[34m\u001b[1mwandb\u001b[0m: \tfirst_ratio: 0.9\n",
            "\u001b[34m\u001b[1mwandb\u001b[0m: \tlast_ratio: 0\n",
            "\u001b[34m\u001b[1mwandb\u001b[0m: \tmiddle_ratio: 0.3\n"
          ]
        },
        {
          "output_type": "display_data",
          "data": {
            "text/plain": [
              "<IPython.core.display.HTML object>"
            ],
            "text/html": [
              "Tracking run with wandb version 0.18.7"
            ]
          },
          "metadata": {}
        },
        {
          "output_type": "display_data",
          "data": {
            "text/plain": [
              "<IPython.core.display.HTML object>"
            ],
            "text/html": [
              "Run data is saved locally in <code>/content/wandb/run-20241209_184306-7sqm7eq3</code>"
            ]
          },
          "metadata": {}
        },
        {
          "output_type": "display_data",
          "data": {
            "text/plain": [
              "<IPython.core.display.HTML object>"
            ],
            "text/html": [
              "Syncing run <strong><a href='https://wandb.ai/tokamak01823-new-york-university/gpt2-pruning-optimization/runs/7sqm7eq3' target=\"_blank\">clean-sweep-38</a></strong> to <a href='https://wandb.ai/tokamak01823-new-york-university/gpt2-pruning-optimization' target=\"_blank\">Weights & Biases</a> (<a href='https://wandb.me/developer-guide' target=\"_blank\">docs</a>)<br/>Sweep page: <a href='https://wandb.ai/tokamak01823-new-york-university/gpt2-pruning-optimization/sweeps/wd1vpw3g' target=\"_blank\">https://wandb.ai/tokamak01823-new-york-university/gpt2-pruning-optimization/sweeps/wd1vpw3g</a>"
            ]
          },
          "metadata": {}
        },
        {
          "output_type": "display_data",
          "data": {
            "text/plain": [
              "<IPython.core.display.HTML object>"
            ],
            "text/html": [
              " View project at <a href='https://wandb.ai/tokamak01823-new-york-university/gpt2-pruning-optimization' target=\"_blank\">https://wandb.ai/tokamak01823-new-york-university/gpt2-pruning-optimization</a>"
            ]
          },
          "metadata": {}
        },
        {
          "output_type": "display_data",
          "data": {
            "text/plain": [
              "<IPython.core.display.HTML object>"
            ],
            "text/html": [
              " View sweep at <a href='https://wandb.ai/tokamak01823-new-york-university/gpt2-pruning-optimization/sweeps/wd1vpw3g' target=\"_blank\">https://wandb.ai/tokamak01823-new-york-university/gpt2-pruning-optimization/sweeps/wd1vpw3g</a>"
            ]
          },
          "metadata": {}
        },
        {
          "output_type": "display_data",
          "data": {
            "text/plain": [
              "<IPython.core.display.HTML object>"
            ],
            "text/html": [
              " View run at <a href='https://wandb.ai/tokamak01823-new-york-university/gpt2-pruning-optimization/runs/7sqm7eq3' target=\"_blank\">https://wandb.ai/tokamak01823-new-york-university/gpt2-pruning-optimization/runs/7sqm7eq3</a>"
            ]
          },
          "metadata": {}
        },
        {
          "output_type": "stream",
          "name": "stderr",
          "text": [
            "Re-training after pruning: 100%|██████████| 901/901 [03:23<00:00,  4.42it/s]\n"
          ]
        },
        {
          "output_type": "stream",
          "name": "stdout",
          "text": [
            "First test sample text:\n",
            "  Hurricanes are an ever @-@ present threat during the summer and fall season , which puts Galveston in Coastal Windstorm Area . Galveston Island and the Bolivar Peninsula are generally at the greatest risk among the communities near the Galveston Bay . However , though the island and peninsula provide some shielding , the bay shoreline still faces significant danger from storm surge . \n",
            "\n",
            "First test sample tokenized input_ids: tensor([[39419,   389,   281,  1683,  2488,    12,    31,  1944,  2372,  1141,\n",
            "           262,  3931,   290,  2121,  1622,   837,   543,  7584,  5027,  4223,\n",
            "           261,   287, 43513,  3086, 12135,  9498,   764,  5027,  4223,   261,\n",
            "          5451,   290,   262, 10797,   452,   283, 24078,   389,  4143,   379,\n",
            "           262,  6000,  2526,  1871,   262,  5348,  1474,   262,  5027,  4223,\n",
            "           261,  4696,   764,  2102,   837,   996,   262,  7022,   290, 28080,\n",
            "          2148,   617, 43539,   837,   262, 15489, 15191,  1370,   991,  6698,\n",
            "          2383,  3514,   422,  6388, 13853,   764,   220,   198]])\n",
            "Decoded text from tokenized input:  Hurricanes are an ever @-@ present threat during the summer and fall season , which puts Galveston in Coastal Windstorm Area . Galveston Island and the Bolivar Peninsula are generally at the greatest risk among the communities near the Galveston Bay . However , though the island and peninsula provide some shielding , the bay shoreline still faces significant danger from storm surge . \n",
            "\n",
            "Test Perplexity: 1.8698, Test Accuracy: 0.7267\n"
          ]
        },
        {
          "output_type": "display_data",
          "data": {
            "text/plain": [
              "VBox(children=(Label(value='0.014 MB of 0.014 MB uploaded\\r'), FloatProgress(value=1.0, max=1.0)))"
            ],
            "application/vnd.jupyter.widget-view+json": {
              "version_major": 2,
              "version_minor": 0,
              "model_id": "ac875565a74247ee97e2813960093a71"
            }
          },
          "metadata": {}
        },
        {
          "output_type": "display_data",
          "data": {
            "text/plain": [
              "<IPython.core.display.HTML object>"
            ],
            "text/html": [
              "\n",
              "    <style>\n",
              "        .wandb-row {\n",
              "            display: flex;\n",
              "            flex-direction: row;\n",
              "            flex-wrap: wrap;\n",
              "            justify-content: flex-start;\n",
              "            width: 100%;\n",
              "        }\n",
              "        .wandb-col {\n",
              "            display: flex;\n",
              "            flex-direction: column;\n",
              "            flex-basis: 100%;\n",
              "            flex: 1;\n",
              "            padding: 10px;\n",
              "        }\n",
              "    </style>\n",
              "<div class=\"wandb-row\"><div class=\"wandb-col\"><h3>Run history:</h3><br/><table class=\"wandb\"><tr><td>accuracy</td><td>▁</td></tr><tr><td>perplexity</td><td>▁</td></tr><tr><td>train_loss</td><td>▁</td></tr></table><br/></div><div class=\"wandb-col\"><h3>Run summary:</h3><br/><table class=\"wandb\"><tr><td>accuracy</td><td>0.72671</td></tr><tr><td>perplexity</td><td>1.86981</td></tr><tr><td>train_loss</td><td>1.59214</td></tr></table><br/></div></div>"
            ]
          },
          "metadata": {}
        },
        {
          "output_type": "display_data",
          "data": {
            "text/plain": [
              "<IPython.core.display.HTML object>"
            ],
            "text/html": [
              " View run <strong style=\"color:#cdcd00\">clean-sweep-38</strong> at: <a href='https://wandb.ai/tokamak01823-new-york-university/gpt2-pruning-optimization/runs/7sqm7eq3' target=\"_blank\">https://wandb.ai/tokamak01823-new-york-university/gpt2-pruning-optimization/runs/7sqm7eq3</a><br/> View project at: <a href='https://wandb.ai/tokamak01823-new-york-university/gpt2-pruning-optimization' target=\"_blank\">https://wandb.ai/tokamak01823-new-york-university/gpt2-pruning-optimization</a><br/>Synced 5 W&B file(s), 0 media file(s), 0 artifact file(s) and 0 other file(s)"
            ]
          },
          "metadata": {}
        },
        {
          "output_type": "display_data",
          "data": {
            "text/plain": [
              "<IPython.core.display.HTML object>"
            ],
            "text/html": [
              "Find logs at: <code>./wandb/run-20241209_184306-7sqm7eq3/logs</code>"
            ]
          },
          "metadata": {}
        },
        {
          "output_type": "stream",
          "name": "stderr",
          "text": [
            "\u001b[34m\u001b[1mwandb\u001b[0m: Agent Starting Run: lw2flhlk with config:\n",
            "\u001b[34m\u001b[1mwandb\u001b[0m: \tfirst_ratio: 0.1\n",
            "\u001b[34m\u001b[1mwandb\u001b[0m: \tlast_ratio: 0.1\n",
            "\u001b[34m\u001b[1mwandb\u001b[0m: \tmiddle_ratio: 0.1\n"
          ]
        },
        {
          "output_type": "display_data",
          "data": {
            "text/plain": [
              "<IPython.core.display.HTML object>"
            ],
            "text/html": [
              "Tracking run with wandb version 0.18.7"
            ]
          },
          "metadata": {}
        },
        {
          "output_type": "display_data",
          "data": {
            "text/plain": [
              "<IPython.core.display.HTML object>"
            ],
            "text/html": [
              "Run data is saved locally in <code>/content/wandb/run-20241209_184703-lw2flhlk</code>"
            ]
          },
          "metadata": {}
        },
        {
          "output_type": "display_data",
          "data": {
            "text/plain": [
              "<IPython.core.display.HTML object>"
            ],
            "text/html": [
              "Syncing run <strong><a href='https://wandb.ai/tokamak01823-new-york-university/gpt2-pruning-optimization/runs/lw2flhlk' target=\"_blank\">crisp-sweep-39</a></strong> to <a href='https://wandb.ai/tokamak01823-new-york-university/gpt2-pruning-optimization' target=\"_blank\">Weights & Biases</a> (<a href='https://wandb.me/developer-guide' target=\"_blank\">docs</a>)<br/>Sweep page: <a href='https://wandb.ai/tokamak01823-new-york-university/gpt2-pruning-optimization/sweeps/wd1vpw3g' target=\"_blank\">https://wandb.ai/tokamak01823-new-york-university/gpt2-pruning-optimization/sweeps/wd1vpw3g</a>"
            ]
          },
          "metadata": {}
        },
        {
          "output_type": "display_data",
          "data": {
            "text/plain": [
              "<IPython.core.display.HTML object>"
            ],
            "text/html": [
              " View project at <a href='https://wandb.ai/tokamak01823-new-york-university/gpt2-pruning-optimization' target=\"_blank\">https://wandb.ai/tokamak01823-new-york-university/gpt2-pruning-optimization</a>"
            ]
          },
          "metadata": {}
        },
        {
          "output_type": "display_data",
          "data": {
            "text/plain": [
              "<IPython.core.display.HTML object>"
            ],
            "text/html": [
              " View sweep at <a href='https://wandb.ai/tokamak01823-new-york-university/gpt2-pruning-optimization/sweeps/wd1vpw3g' target=\"_blank\">https://wandb.ai/tokamak01823-new-york-university/gpt2-pruning-optimization/sweeps/wd1vpw3g</a>"
            ]
          },
          "metadata": {}
        },
        {
          "output_type": "display_data",
          "data": {
            "text/plain": [
              "<IPython.core.display.HTML object>"
            ],
            "text/html": [
              " View run at <a href='https://wandb.ai/tokamak01823-new-york-university/gpt2-pruning-optimization/runs/lw2flhlk' target=\"_blank\">https://wandb.ai/tokamak01823-new-york-university/gpt2-pruning-optimization/runs/lw2flhlk</a>"
            ]
          },
          "metadata": {}
        },
        {
          "output_type": "stream",
          "name": "stderr",
          "text": [
            "Re-training after pruning: 100%|██████████| 901/901 [03:26<00:00,  4.36it/s]\n"
          ]
        },
        {
          "output_type": "stream",
          "name": "stdout",
          "text": [
            "First test sample text:\n",
            "  Hurricanes are an ever @-@ present threat during the summer and fall season , which puts Galveston in Coastal Windstorm Area . Galveston Island and the Bolivar Peninsula are generally at the greatest risk among the communities near the Galveston Bay . However , though the island and peninsula provide some shielding , the bay shoreline still faces significant danger from storm surge . \n",
            "\n",
            "First test sample tokenized input_ids: tensor([[39419,   389,   281,  1683,  2488,    12,    31,  1944,  2372,  1141,\n",
            "           262,  3931,   290,  2121,  1622,   837,   543,  7584,  5027,  4223,\n",
            "           261,   287, 43513,  3086, 12135,  9498,   764,  5027,  4223,   261,\n",
            "          5451,   290,   262, 10797,   452,   283, 24078,   389,  4143,   379,\n",
            "           262,  6000,  2526,  1871,   262,  5348,  1474,   262,  5027,  4223,\n",
            "           261,  4696,   764,  2102,   837,   996,   262,  7022,   290, 28080,\n",
            "          2148,   617, 43539,   837,   262, 15489, 15191,  1370,   991,  6698,\n",
            "          2383,  3514,   422,  6388, 13853,   764,   220,   198]])\n",
            "Decoded text from tokenized input:  Hurricanes are an ever @-@ present threat during the summer and fall season , which puts Galveston in Coastal Windstorm Area . Galveston Island and the Bolivar Peninsula are generally at the greatest risk among the communities near the Galveston Bay . However , though the island and peninsula provide some shielding , the bay shoreline still faces significant danger from storm surge . \n",
            "\n",
            "Test Perplexity: 1.0708, Test Accuracy: 0.7260\n"
          ]
        },
        {
          "output_type": "display_data",
          "data": {
            "text/plain": [
              "VBox(children=(Label(value='0.014 MB of 0.014 MB uploaded\\r'), FloatProgress(value=1.0, max=1.0)))"
            ],
            "application/vnd.jupyter.widget-view+json": {
              "version_major": 2,
              "version_minor": 0,
              "model_id": "d715cee4081245b985c8a794799cfdb3"
            }
          },
          "metadata": {}
        },
        {
          "output_type": "display_data",
          "data": {
            "text/plain": [
              "<IPython.core.display.HTML object>"
            ],
            "text/html": [
              "\n",
              "    <style>\n",
              "        .wandb-row {\n",
              "            display: flex;\n",
              "            flex-direction: row;\n",
              "            flex-wrap: wrap;\n",
              "            justify-content: flex-start;\n",
              "            width: 100%;\n",
              "        }\n",
              "        .wandb-col {\n",
              "            display: flex;\n",
              "            flex-direction: column;\n",
              "            flex-basis: 100%;\n",
              "            flex: 1;\n",
              "            padding: 10px;\n",
              "        }\n",
              "    </style>\n",
              "<div class=\"wandb-row\"><div class=\"wandb-col\"><h3>Run history:</h3><br/><table class=\"wandb\"><tr><td>accuracy</td><td>▁</td></tr><tr><td>perplexity</td><td>▁</td></tr><tr><td>train_loss</td><td>▁</td></tr></table><br/></div><div class=\"wandb-col\"><h3>Run summary:</h3><br/><table class=\"wandb\"><tr><td>accuracy</td><td>0.72605</td></tr><tr><td>perplexity</td><td>1.07077</td></tr><tr><td>train_loss</td><td>0.17852</td></tr></table><br/></div></div>"
            ]
          },
          "metadata": {}
        },
        {
          "output_type": "display_data",
          "data": {
            "text/plain": [
              "<IPython.core.display.HTML object>"
            ],
            "text/html": [
              " View run <strong style=\"color:#cdcd00\">crisp-sweep-39</strong> at: <a href='https://wandb.ai/tokamak01823-new-york-university/gpt2-pruning-optimization/runs/lw2flhlk' target=\"_blank\">https://wandb.ai/tokamak01823-new-york-university/gpt2-pruning-optimization/runs/lw2flhlk</a><br/> View project at: <a href='https://wandb.ai/tokamak01823-new-york-university/gpt2-pruning-optimization' target=\"_blank\">https://wandb.ai/tokamak01823-new-york-university/gpt2-pruning-optimization</a><br/>Synced 5 W&B file(s), 0 media file(s), 0 artifact file(s) and 0 other file(s)"
            ]
          },
          "metadata": {}
        },
        {
          "output_type": "display_data",
          "data": {
            "text/plain": [
              "<IPython.core.display.HTML object>"
            ],
            "text/html": [
              "Find logs at: <code>./wandb/run-20241209_184703-lw2flhlk/logs</code>"
            ]
          },
          "metadata": {}
        },
        {
          "output_type": "stream",
          "name": "stderr",
          "text": [
            "\u001b[34m\u001b[1mwandb\u001b[0m: Agent Starting Run: vo3xi334 with config:\n",
            "\u001b[34m\u001b[1mwandb\u001b[0m: \tfirst_ratio: 0.3\n",
            "\u001b[34m\u001b[1mwandb\u001b[0m: \tlast_ratio: 0.1\n",
            "\u001b[34m\u001b[1mwandb\u001b[0m: \tmiddle_ratio: 0.1\n"
          ]
        },
        {
          "output_type": "display_data",
          "data": {
            "text/plain": [
              "<IPython.core.display.HTML object>"
            ],
            "text/html": [
              "Tracking run with wandb version 0.18.7"
            ]
          },
          "metadata": {}
        },
        {
          "output_type": "display_data",
          "data": {
            "text/plain": [
              "<IPython.core.display.HTML object>"
            ],
            "text/html": [
              "Run data is saved locally in <code>/content/wandb/run-20241209_185104-vo3xi334</code>"
            ]
          },
          "metadata": {}
        },
        {
          "output_type": "display_data",
          "data": {
            "text/plain": [
              "<IPython.core.display.HTML object>"
            ],
            "text/html": [
              "Syncing run <strong><a href='https://wandb.ai/tokamak01823-new-york-university/gpt2-pruning-optimization/runs/vo3xi334' target=\"_blank\">desert-sweep-40</a></strong> to <a href='https://wandb.ai/tokamak01823-new-york-university/gpt2-pruning-optimization' target=\"_blank\">Weights & Biases</a> (<a href='https://wandb.me/developer-guide' target=\"_blank\">docs</a>)<br/>Sweep page: <a href='https://wandb.ai/tokamak01823-new-york-university/gpt2-pruning-optimization/sweeps/wd1vpw3g' target=\"_blank\">https://wandb.ai/tokamak01823-new-york-university/gpt2-pruning-optimization/sweeps/wd1vpw3g</a>"
            ]
          },
          "metadata": {}
        },
        {
          "output_type": "display_data",
          "data": {
            "text/plain": [
              "<IPython.core.display.HTML object>"
            ],
            "text/html": [
              " View project at <a href='https://wandb.ai/tokamak01823-new-york-university/gpt2-pruning-optimization' target=\"_blank\">https://wandb.ai/tokamak01823-new-york-university/gpt2-pruning-optimization</a>"
            ]
          },
          "metadata": {}
        },
        {
          "output_type": "display_data",
          "data": {
            "text/plain": [
              "<IPython.core.display.HTML object>"
            ],
            "text/html": [
              " View sweep at <a href='https://wandb.ai/tokamak01823-new-york-university/gpt2-pruning-optimization/sweeps/wd1vpw3g' target=\"_blank\">https://wandb.ai/tokamak01823-new-york-university/gpt2-pruning-optimization/sweeps/wd1vpw3g</a>"
            ]
          },
          "metadata": {}
        },
        {
          "output_type": "display_data",
          "data": {
            "text/plain": [
              "<IPython.core.display.HTML object>"
            ],
            "text/html": [
              " View run at <a href='https://wandb.ai/tokamak01823-new-york-university/gpt2-pruning-optimization/runs/vo3xi334' target=\"_blank\">https://wandb.ai/tokamak01823-new-york-university/gpt2-pruning-optimization/runs/vo3xi334</a>"
            ]
          },
          "metadata": {}
        },
        {
          "output_type": "stream",
          "name": "stderr",
          "text": [
            "Re-training after pruning: 100%|██████████| 901/901 [03:26<00:00,  4.36it/s]\n"
          ]
        },
        {
          "output_type": "stream",
          "name": "stdout",
          "text": [
            "First test sample text:\n",
            "  Hurricanes are an ever @-@ present threat during the summer and fall season , which puts Galveston in Coastal Windstorm Area . Galveston Island and the Bolivar Peninsula are generally at the greatest risk among the communities near the Galveston Bay . However , though the island and peninsula provide some shielding , the bay shoreline still faces significant danger from storm surge . \n",
            "\n",
            "First test sample tokenized input_ids: tensor([[39419,   389,   281,  1683,  2488,    12,    31,  1944,  2372,  1141,\n",
            "           262,  3931,   290,  2121,  1622,   837,   543,  7584,  5027,  4223,\n",
            "           261,   287, 43513,  3086, 12135,  9498,   764,  5027,  4223,   261,\n",
            "          5451,   290,   262, 10797,   452,   283, 24078,   389,  4143,   379,\n",
            "           262,  6000,  2526,  1871,   262,  5348,  1474,   262,  5027,  4223,\n",
            "           261,  4696,   764,  2102,   837,   996,   262,  7022,   290, 28080,\n",
            "          2148,   617, 43539,   837,   262, 15489, 15191,  1370,   991,  6698,\n",
            "          2383,  3514,   422,  6388, 13853,   764,   220,   198]])\n",
            "Decoded text from tokenized input:  Hurricanes are an ever @-@ present threat during the summer and fall season , which puts Galveston in Coastal Windstorm Area . Galveston Island and the Bolivar Peninsula are generally at the greatest risk among the communities near the Galveston Bay . However , though the island and peninsula provide some shielding , the bay shoreline still faces significant danger from storm surge . \n",
            "\n",
            "Test Perplexity: 1.0724, Test Accuracy: 0.7261\n"
          ]
        },
        {
          "output_type": "display_data",
          "data": {
            "text/plain": [
              "VBox(children=(Label(value='0.014 MB of 0.014 MB uploaded\\r'), FloatProgress(value=1.0, max=1.0)))"
            ],
            "application/vnd.jupyter.widget-view+json": {
              "version_major": 2,
              "version_minor": 0,
              "model_id": "ff4908a05a8a4ce1ad9cb0a724176c6d"
            }
          },
          "metadata": {}
        },
        {
          "output_type": "display_data",
          "data": {
            "text/plain": [
              "<IPython.core.display.HTML object>"
            ],
            "text/html": [
              "\n",
              "    <style>\n",
              "        .wandb-row {\n",
              "            display: flex;\n",
              "            flex-direction: row;\n",
              "            flex-wrap: wrap;\n",
              "            justify-content: flex-start;\n",
              "            width: 100%;\n",
              "        }\n",
              "        .wandb-col {\n",
              "            display: flex;\n",
              "            flex-direction: column;\n",
              "            flex-basis: 100%;\n",
              "            flex: 1;\n",
              "            padding: 10px;\n",
              "        }\n",
              "    </style>\n",
              "<div class=\"wandb-row\"><div class=\"wandb-col\"><h3>Run history:</h3><br/><table class=\"wandb\"><tr><td>accuracy</td><td>▁</td></tr><tr><td>perplexity</td><td>▁</td></tr><tr><td>train_loss</td><td>▁</td></tr></table><br/></div><div class=\"wandb-col\"><h3>Run summary:</h3><br/><table class=\"wandb\"><tr><td>accuracy</td><td>0.72609</td></tr><tr><td>perplexity</td><td>1.07236</td></tr><tr><td>train_loss</td><td>0.19265</td></tr></table><br/></div></div>"
            ]
          },
          "metadata": {}
        },
        {
          "output_type": "display_data",
          "data": {
            "text/plain": [
              "<IPython.core.display.HTML object>"
            ],
            "text/html": [
              " View run <strong style=\"color:#cdcd00\">desert-sweep-40</strong> at: <a href='https://wandb.ai/tokamak01823-new-york-university/gpt2-pruning-optimization/runs/vo3xi334' target=\"_blank\">https://wandb.ai/tokamak01823-new-york-university/gpt2-pruning-optimization/runs/vo3xi334</a><br/> View project at: <a href='https://wandb.ai/tokamak01823-new-york-university/gpt2-pruning-optimization' target=\"_blank\">https://wandb.ai/tokamak01823-new-york-university/gpt2-pruning-optimization</a><br/>Synced 5 W&B file(s), 0 media file(s), 0 artifact file(s) and 0 other file(s)"
            ]
          },
          "metadata": {}
        },
        {
          "output_type": "display_data",
          "data": {
            "text/plain": [
              "<IPython.core.display.HTML object>"
            ],
            "text/html": [
              "Find logs at: <code>./wandb/run-20241209_185104-vo3xi334/logs</code>"
            ]
          },
          "metadata": {}
        },
        {
          "output_type": "stream",
          "name": "stderr",
          "text": [
            "\u001b[34m\u001b[1mwandb\u001b[0m: Agent Starting Run: qh4co3rn with config:\n",
            "\u001b[34m\u001b[1mwandb\u001b[0m: \tfirst_ratio: 0.5\n",
            "\u001b[34m\u001b[1mwandb\u001b[0m: \tlast_ratio: 0.7\n",
            "\u001b[34m\u001b[1mwandb\u001b[0m: \tmiddle_ratio: 0.1\n"
          ]
        },
        {
          "output_type": "display_data",
          "data": {
            "text/plain": [
              "<IPython.core.display.HTML object>"
            ],
            "text/html": [
              "Tracking run with wandb version 0.18.7"
            ]
          },
          "metadata": {}
        },
        {
          "output_type": "display_data",
          "data": {
            "text/plain": [
              "<IPython.core.display.HTML object>"
            ],
            "text/html": [
              "Run data is saved locally in <code>/content/wandb/run-20241209_185505-qh4co3rn</code>"
            ]
          },
          "metadata": {}
        },
        {
          "output_type": "display_data",
          "data": {
            "text/plain": [
              "<IPython.core.display.HTML object>"
            ],
            "text/html": [
              "Syncing run <strong><a href='https://wandb.ai/tokamak01823-new-york-university/gpt2-pruning-optimization/runs/qh4co3rn' target=\"_blank\">deft-sweep-41</a></strong> to <a href='https://wandb.ai/tokamak01823-new-york-university/gpt2-pruning-optimization' target=\"_blank\">Weights & Biases</a> (<a href='https://wandb.me/developer-guide' target=\"_blank\">docs</a>)<br/>Sweep page: <a href='https://wandb.ai/tokamak01823-new-york-university/gpt2-pruning-optimization/sweeps/wd1vpw3g' target=\"_blank\">https://wandb.ai/tokamak01823-new-york-university/gpt2-pruning-optimization/sweeps/wd1vpw3g</a>"
            ]
          },
          "metadata": {}
        },
        {
          "output_type": "display_data",
          "data": {
            "text/plain": [
              "<IPython.core.display.HTML object>"
            ],
            "text/html": [
              " View project at <a href='https://wandb.ai/tokamak01823-new-york-university/gpt2-pruning-optimization' target=\"_blank\">https://wandb.ai/tokamak01823-new-york-university/gpt2-pruning-optimization</a>"
            ]
          },
          "metadata": {}
        },
        {
          "output_type": "display_data",
          "data": {
            "text/plain": [
              "<IPython.core.display.HTML object>"
            ],
            "text/html": [
              " View sweep at <a href='https://wandb.ai/tokamak01823-new-york-university/gpt2-pruning-optimization/sweeps/wd1vpw3g' target=\"_blank\">https://wandb.ai/tokamak01823-new-york-university/gpt2-pruning-optimization/sweeps/wd1vpw3g</a>"
            ]
          },
          "metadata": {}
        },
        {
          "output_type": "display_data",
          "data": {
            "text/plain": [
              "<IPython.core.display.HTML object>"
            ],
            "text/html": [
              " View run at <a href='https://wandb.ai/tokamak01823-new-york-university/gpt2-pruning-optimization/runs/qh4co3rn' target=\"_blank\">https://wandb.ai/tokamak01823-new-york-university/gpt2-pruning-optimization/runs/qh4co3rn</a>"
            ]
          },
          "metadata": {}
        },
        {
          "output_type": "stream",
          "name": "stderr",
          "text": [
            "Re-training after pruning: 100%|██████████| 901/901 [03:26<00:00,  4.35it/s]\n"
          ]
        },
        {
          "output_type": "stream",
          "name": "stdout",
          "text": [
            "First test sample text:\n",
            "  Hurricanes are an ever @-@ present threat during the summer and fall season , which puts Galveston in Coastal Windstorm Area . Galveston Island and the Bolivar Peninsula are generally at the greatest risk among the communities near the Galveston Bay . However , though the island and peninsula provide some shielding , the bay shoreline still faces significant danger from storm surge . \n",
            "\n",
            "First test sample tokenized input_ids: tensor([[39419,   389,   281,  1683,  2488,    12,    31,  1944,  2372,  1141,\n",
            "           262,  3931,   290,  2121,  1622,   837,   543,  7584,  5027,  4223,\n",
            "           261,   287, 43513,  3086, 12135,  9498,   764,  5027,  4223,   261,\n",
            "          5451,   290,   262, 10797,   452,   283, 24078,   389,  4143,   379,\n",
            "           262,  6000,  2526,  1871,   262,  5348,  1474,   262,  5027,  4223,\n",
            "           261,  4696,   764,  2102,   837,   996,   262,  7022,   290, 28080,\n",
            "          2148,   617, 43539,   837,   262, 15489, 15191,  1370,   991,  6698,\n",
            "          2383,  3514,   422,  6388, 13853,   764,   220,   198]])\n",
            "Decoded text from tokenized input:  Hurricanes are an ever @-@ present threat during the summer and fall season , which puts Galveston in Coastal Windstorm Area . Galveston Island and the Bolivar Peninsula are generally at the greatest risk among the communities near the Galveston Bay . However , though the island and peninsula provide some shielding , the bay shoreline still faces significant danger from storm surge . \n",
            "\n",
            "Test Perplexity: 1.3331, Test Accuracy: 0.7263\n"
          ]
        },
        {
          "output_type": "display_data",
          "data": {
            "text/plain": [
              "VBox(children=(Label(value='0.014 MB of 0.014 MB uploaded\\r'), FloatProgress(value=1.0, max=1.0)))"
            ],
            "application/vnd.jupyter.widget-view+json": {
              "version_major": 2,
              "version_minor": 0,
              "model_id": "f0450c48075d46529053784f1858d201"
            }
          },
          "metadata": {}
        },
        {
          "output_type": "display_data",
          "data": {
            "text/plain": [
              "<IPython.core.display.HTML object>"
            ],
            "text/html": [
              "\n",
              "    <style>\n",
              "        .wandb-row {\n",
              "            display: flex;\n",
              "            flex-direction: row;\n",
              "            flex-wrap: wrap;\n",
              "            justify-content: flex-start;\n",
              "            width: 100%;\n",
              "        }\n",
              "        .wandb-col {\n",
              "            display: flex;\n",
              "            flex-direction: column;\n",
              "            flex-basis: 100%;\n",
              "            flex: 1;\n",
              "            padding: 10px;\n",
              "        }\n",
              "    </style>\n",
              "<div class=\"wandb-row\"><div class=\"wandb-col\"><h3>Run history:</h3><br/><table class=\"wandb\"><tr><td>accuracy</td><td>▁</td></tr><tr><td>perplexity</td><td>▁</td></tr><tr><td>train_loss</td><td>▁</td></tr></table><br/></div><div class=\"wandb-col\"><h3>Run summary:</h3><br/><table class=\"wandb\"><tr><td>accuracy</td><td>0.7263</td></tr><tr><td>perplexity</td><td>1.33314</td></tr><tr><td>train_loss</td><td>0.59564</td></tr></table><br/></div></div>"
            ]
          },
          "metadata": {}
        },
        {
          "output_type": "display_data",
          "data": {
            "text/plain": [
              "<IPython.core.display.HTML object>"
            ],
            "text/html": [
              " View run <strong style=\"color:#cdcd00\">deft-sweep-41</strong> at: <a href='https://wandb.ai/tokamak01823-new-york-university/gpt2-pruning-optimization/runs/qh4co3rn' target=\"_blank\">https://wandb.ai/tokamak01823-new-york-university/gpt2-pruning-optimization/runs/qh4co3rn</a><br/> View project at: <a href='https://wandb.ai/tokamak01823-new-york-university/gpt2-pruning-optimization' target=\"_blank\">https://wandb.ai/tokamak01823-new-york-university/gpt2-pruning-optimization</a><br/>Synced 5 W&B file(s), 0 media file(s), 0 artifact file(s) and 0 other file(s)"
            ]
          },
          "metadata": {}
        },
        {
          "output_type": "display_data",
          "data": {
            "text/plain": [
              "<IPython.core.display.HTML object>"
            ],
            "text/html": [
              "Find logs at: <code>./wandb/run-20241209_185505-qh4co3rn/logs</code>"
            ]
          },
          "metadata": {}
        },
        {
          "output_type": "stream",
          "name": "stderr",
          "text": [
            "\u001b[34m\u001b[1mwandb\u001b[0m: Agent Starting Run: y2vckzlb with config:\n",
            "\u001b[34m\u001b[1mwandb\u001b[0m: \tfirst_ratio: 0.9\n",
            "\u001b[34m\u001b[1mwandb\u001b[0m: \tlast_ratio: 0.5\n",
            "\u001b[34m\u001b[1mwandb\u001b[0m: \tmiddle_ratio: 0.7\n"
          ]
        },
        {
          "output_type": "display_data",
          "data": {
            "text/plain": [
              "<IPython.core.display.HTML object>"
            ],
            "text/html": [
              "Tracking run with wandb version 0.18.7"
            ]
          },
          "metadata": {}
        },
        {
          "output_type": "display_data",
          "data": {
            "text/plain": [
              "<IPython.core.display.HTML object>"
            ],
            "text/html": [
              "Run data is saved locally in <code>/content/wandb/run-20241209_185906-y2vckzlb</code>"
            ]
          },
          "metadata": {}
        },
        {
          "output_type": "display_data",
          "data": {
            "text/plain": [
              "<IPython.core.display.HTML object>"
            ],
            "text/html": [
              "Syncing run <strong><a href='https://wandb.ai/tokamak01823-new-york-university/gpt2-pruning-optimization/runs/y2vckzlb' target=\"_blank\">hearty-sweep-42</a></strong> to <a href='https://wandb.ai/tokamak01823-new-york-university/gpt2-pruning-optimization' target=\"_blank\">Weights & Biases</a> (<a href='https://wandb.me/developer-guide' target=\"_blank\">docs</a>)<br/>Sweep page: <a href='https://wandb.ai/tokamak01823-new-york-university/gpt2-pruning-optimization/sweeps/wd1vpw3g' target=\"_blank\">https://wandb.ai/tokamak01823-new-york-university/gpt2-pruning-optimization/sweeps/wd1vpw3g</a>"
            ]
          },
          "metadata": {}
        },
        {
          "output_type": "display_data",
          "data": {
            "text/plain": [
              "<IPython.core.display.HTML object>"
            ],
            "text/html": [
              " View project at <a href='https://wandb.ai/tokamak01823-new-york-university/gpt2-pruning-optimization' target=\"_blank\">https://wandb.ai/tokamak01823-new-york-university/gpt2-pruning-optimization</a>"
            ]
          },
          "metadata": {}
        },
        {
          "output_type": "display_data",
          "data": {
            "text/plain": [
              "<IPython.core.display.HTML object>"
            ],
            "text/html": [
              " View sweep at <a href='https://wandb.ai/tokamak01823-new-york-university/gpt2-pruning-optimization/sweeps/wd1vpw3g' target=\"_blank\">https://wandb.ai/tokamak01823-new-york-university/gpt2-pruning-optimization/sweeps/wd1vpw3g</a>"
            ]
          },
          "metadata": {}
        },
        {
          "output_type": "display_data",
          "data": {
            "text/plain": [
              "<IPython.core.display.HTML object>"
            ],
            "text/html": [
              " View run at <a href='https://wandb.ai/tokamak01823-new-york-university/gpt2-pruning-optimization/runs/y2vckzlb' target=\"_blank\">https://wandb.ai/tokamak01823-new-york-university/gpt2-pruning-optimization/runs/y2vckzlb</a>"
            ]
          },
          "metadata": {}
        },
        {
          "output_type": "stream",
          "name": "stderr",
          "text": [
            "Re-training after pruning: 100%|██████████| 901/901 [03:25<00:00,  4.39it/s]\n"
          ]
        },
        {
          "output_type": "stream",
          "name": "stdout",
          "text": [
            "First test sample text:\n",
            "  Hurricanes are an ever @-@ present threat during the summer and fall season , which puts Galveston in Coastal Windstorm Area . Galveston Island and the Bolivar Peninsula are generally at the greatest risk among the communities near the Galveston Bay . However , though the island and peninsula provide some shielding , the bay shoreline still faces significant danger from storm surge . \n",
            "\n",
            "First test sample tokenized input_ids: tensor([[39419,   389,   281,  1683,  2488,    12,    31,  1944,  2372,  1141,\n",
            "           262,  3931,   290,  2121,  1622,   837,   543,  7584,  5027,  4223,\n",
            "           261,   287, 43513,  3086, 12135,  9498,   764,  5027,  4223,   261,\n",
            "          5451,   290,   262, 10797,   452,   283, 24078,   389,  4143,   379,\n",
            "           262,  6000,  2526,  1871,   262,  5348,  1474,   262,  5027,  4223,\n",
            "           261,  4696,   764,  2102,   837,   996,   262,  7022,   290, 28080,\n",
            "          2148,   617, 43539,   837,   262, 15489, 15191,  1370,   991,  6698,\n",
            "          2383,  3514,   422,  6388, 13853,   764,   220,   198]])\n",
            "Decoded text from tokenized input:  Hurricanes are an ever @-@ present threat during the summer and fall season , which puts Galveston in Coastal Windstorm Area . Galveston Island and the Bolivar Peninsula are generally at the greatest risk among the communities near the Galveston Bay . However , though the island and peninsula provide some shielding , the bay shoreline still faces significant danger from storm surge . \n",
            "\n",
            "Test Perplexity: 2.5729, Test Accuracy: 0.7275\n"
          ]
        },
        {
          "output_type": "display_data",
          "data": {
            "text/plain": [
              "<IPython.core.display.HTML object>"
            ],
            "text/html": [
              "\n",
              "    <style>\n",
              "        .wandb-row {\n",
              "            display: flex;\n",
              "            flex-direction: row;\n",
              "            flex-wrap: wrap;\n",
              "            justify-content: flex-start;\n",
              "            width: 100%;\n",
              "        }\n",
              "        .wandb-col {\n",
              "            display: flex;\n",
              "            flex-direction: column;\n",
              "            flex-basis: 100%;\n",
              "            flex: 1;\n",
              "            padding: 10px;\n",
              "        }\n",
              "    </style>\n",
              "<div class=\"wandb-row\"><div class=\"wandb-col\"><h3>Run history:</h3><br/><table class=\"wandb\"><tr><td>accuracy</td><td>▁</td></tr><tr><td>perplexity</td><td>▁</td></tr><tr><td>train_loss</td><td>▁</td></tr></table><br/></div><div class=\"wandb-col\"><h3>Run summary:</h3><br/><table class=\"wandb\"><tr><td>accuracy</td><td>0.72753</td></tr><tr><td>perplexity</td><td>2.57286</td></tr><tr><td>train_loss</td><td>1.86522</td></tr></table><br/></div></div>"
            ]
          },
          "metadata": {}
        },
        {
          "output_type": "display_data",
          "data": {
            "text/plain": [
              "<IPython.core.display.HTML object>"
            ],
            "text/html": [
              " View run <strong style=\"color:#cdcd00\">hearty-sweep-42</strong> at: <a href='https://wandb.ai/tokamak01823-new-york-university/gpt2-pruning-optimization/runs/y2vckzlb' target=\"_blank\">https://wandb.ai/tokamak01823-new-york-university/gpt2-pruning-optimization/runs/y2vckzlb</a><br/> View project at: <a href='https://wandb.ai/tokamak01823-new-york-university/gpt2-pruning-optimization' target=\"_blank\">https://wandb.ai/tokamak01823-new-york-university/gpt2-pruning-optimization</a><br/>Synced 5 W&B file(s), 0 media file(s), 0 artifact file(s) and 0 other file(s)"
            ]
          },
          "metadata": {}
        },
        {
          "output_type": "display_data",
          "data": {
            "text/plain": [
              "<IPython.core.display.HTML object>"
            ],
            "text/html": [
              "Find logs at: <code>./wandb/run-20241209_185906-y2vckzlb/logs</code>"
            ]
          },
          "metadata": {}
        },
        {
          "output_type": "stream",
          "name": "stderr",
          "text": [
            "\u001b[34m\u001b[1mwandb\u001b[0m: Agent Starting Run: 2ppffdcu with config:\n",
            "\u001b[34m\u001b[1mwandb\u001b[0m: \tfirst_ratio: 0.3\n",
            "\u001b[34m\u001b[1mwandb\u001b[0m: \tlast_ratio: 0.3\n",
            "\u001b[34m\u001b[1mwandb\u001b[0m: \tmiddle_ratio: 0\n"
          ]
        },
        {
          "output_type": "display_data",
          "data": {
            "text/plain": [
              "<IPython.core.display.HTML object>"
            ],
            "text/html": [
              "Tracking run with wandb version 0.18.7"
            ]
          },
          "metadata": {}
        },
        {
          "output_type": "display_data",
          "data": {
            "text/plain": [
              "<IPython.core.display.HTML object>"
            ],
            "text/html": [
              "Run data is saved locally in <code>/content/wandb/run-20241209_190307-2ppffdcu</code>"
            ]
          },
          "metadata": {}
        },
        {
          "output_type": "display_data",
          "data": {
            "text/plain": [
              "<IPython.core.display.HTML object>"
            ],
            "text/html": [
              "Syncing run <strong><a href='https://wandb.ai/tokamak01823-new-york-university/gpt2-pruning-optimization/runs/2ppffdcu' target=\"_blank\">major-sweep-43</a></strong> to <a href='https://wandb.ai/tokamak01823-new-york-university/gpt2-pruning-optimization' target=\"_blank\">Weights & Biases</a> (<a href='https://wandb.me/developer-guide' target=\"_blank\">docs</a>)<br/>Sweep page: <a href='https://wandb.ai/tokamak01823-new-york-university/gpt2-pruning-optimization/sweeps/wd1vpw3g' target=\"_blank\">https://wandb.ai/tokamak01823-new-york-university/gpt2-pruning-optimization/sweeps/wd1vpw3g</a>"
            ]
          },
          "metadata": {}
        },
        {
          "output_type": "display_data",
          "data": {
            "text/plain": [
              "<IPython.core.display.HTML object>"
            ],
            "text/html": [
              " View project at <a href='https://wandb.ai/tokamak01823-new-york-university/gpt2-pruning-optimization' target=\"_blank\">https://wandb.ai/tokamak01823-new-york-university/gpt2-pruning-optimization</a>"
            ]
          },
          "metadata": {}
        },
        {
          "output_type": "display_data",
          "data": {
            "text/plain": [
              "<IPython.core.display.HTML object>"
            ],
            "text/html": [
              " View sweep at <a href='https://wandb.ai/tokamak01823-new-york-university/gpt2-pruning-optimization/sweeps/wd1vpw3g' target=\"_blank\">https://wandb.ai/tokamak01823-new-york-university/gpt2-pruning-optimization/sweeps/wd1vpw3g</a>"
            ]
          },
          "metadata": {}
        },
        {
          "output_type": "display_data",
          "data": {
            "text/plain": [
              "<IPython.core.display.HTML object>"
            ],
            "text/html": [
              " View run at <a href='https://wandb.ai/tokamak01823-new-york-university/gpt2-pruning-optimization/runs/2ppffdcu' target=\"_blank\">https://wandb.ai/tokamak01823-new-york-university/gpt2-pruning-optimization/runs/2ppffdcu</a>"
            ]
          },
          "metadata": {}
        },
        {
          "output_type": "stream",
          "name": "stderr",
          "text": [
            "Re-training after pruning: 100%|██████████| 901/901 [03:26<00:00,  4.36it/s]\n"
          ]
        },
        {
          "output_type": "stream",
          "name": "stdout",
          "text": [
            "First test sample text:\n",
            "  Hurricanes are an ever @-@ present threat during the summer and fall season , which puts Galveston in Coastal Windstorm Area . Galveston Island and the Bolivar Peninsula are generally at the greatest risk among the communities near the Galveston Bay . However , though the island and peninsula provide some shielding , the bay shoreline still faces significant danger from storm surge . \n",
            "\n",
            "First test sample tokenized input_ids: tensor([[39419,   389,   281,  1683,  2488,    12,    31,  1944,  2372,  1141,\n",
            "           262,  3931,   290,  2121,  1622,   837,   543,  7584,  5027,  4223,\n",
            "           261,   287, 43513,  3086, 12135,  9498,   764,  5027,  4223,   261,\n",
            "          5451,   290,   262, 10797,   452,   283, 24078,   389,  4143,   379,\n",
            "           262,  6000,  2526,  1871,   262,  5348,  1474,   262,  5027,  4223,\n",
            "           261,  4696,   764,  2102,   837,   996,   262,  7022,   290, 28080,\n",
            "          2148,   617, 43539,   837,   262, 15489, 15191,  1370,   991,  6698,\n",
            "          2383,  3514,   422,  6388, 13853,   764,   220,   198]])\n",
            "Decoded text from tokenized input:  Hurricanes are an ever @-@ present threat during the summer and fall season , which puts Galveston in Coastal Windstorm Area . Galveston Island and the Bolivar Peninsula are generally at the greatest risk among the communities near the Galveston Bay . However , though the island and peninsula provide some shielding , the bay shoreline still faces significant danger from storm surge . \n",
            "\n",
            "Test Perplexity: 1.0807, Test Accuracy: 0.7260\n"
          ]
        },
        {
          "output_type": "display_data",
          "data": {
            "text/plain": [
              "VBox(children=(Label(value='0.014 MB of 0.014 MB uploaded\\r'), FloatProgress(value=1.0, max=1.0)))"
            ],
            "application/vnd.jupyter.widget-view+json": {
              "version_major": 2,
              "version_minor": 0,
              "model_id": "6296d80e9543482ca14583e7cdf4d5b3"
            }
          },
          "metadata": {}
        },
        {
          "output_type": "display_data",
          "data": {
            "text/plain": [
              "<IPython.core.display.HTML object>"
            ],
            "text/html": [
              "\n",
              "    <style>\n",
              "        .wandb-row {\n",
              "            display: flex;\n",
              "            flex-direction: row;\n",
              "            flex-wrap: wrap;\n",
              "            justify-content: flex-start;\n",
              "            width: 100%;\n",
              "        }\n",
              "        .wandb-col {\n",
              "            display: flex;\n",
              "            flex-direction: column;\n",
              "            flex-basis: 100%;\n",
              "            flex: 1;\n",
              "            padding: 10px;\n",
              "        }\n",
              "    </style>\n",
              "<div class=\"wandb-row\"><div class=\"wandb-col\"><h3>Run history:</h3><br/><table class=\"wandb\"><tr><td>accuracy</td><td>▁</td></tr><tr><td>perplexity</td><td>▁</td></tr><tr><td>train_loss</td><td>▁</td></tr></table><br/></div><div class=\"wandb-col\"><h3>Run summary:</h3><br/><table class=\"wandb\"><tr><td>accuracy</td><td>0.72604</td></tr><tr><td>perplexity</td><td>1.08066</td></tr><tr><td>train_loss</td><td>0.20561</td></tr></table><br/></div></div>"
            ]
          },
          "metadata": {}
        },
        {
          "output_type": "display_data",
          "data": {
            "text/plain": [
              "<IPython.core.display.HTML object>"
            ],
            "text/html": [
              " View run <strong style=\"color:#cdcd00\">major-sweep-43</strong> at: <a href='https://wandb.ai/tokamak01823-new-york-university/gpt2-pruning-optimization/runs/2ppffdcu' target=\"_blank\">https://wandb.ai/tokamak01823-new-york-university/gpt2-pruning-optimization/runs/2ppffdcu</a><br/> View project at: <a href='https://wandb.ai/tokamak01823-new-york-university/gpt2-pruning-optimization' target=\"_blank\">https://wandb.ai/tokamak01823-new-york-university/gpt2-pruning-optimization</a><br/>Synced 5 W&B file(s), 0 media file(s), 0 artifact file(s) and 0 other file(s)"
            ]
          },
          "metadata": {}
        },
        {
          "output_type": "display_data",
          "data": {
            "text/plain": [
              "<IPython.core.display.HTML object>"
            ],
            "text/html": [
              "Find logs at: <code>./wandb/run-20241209_190307-2ppffdcu/logs</code>"
            ]
          },
          "metadata": {}
        },
        {
          "output_type": "stream",
          "name": "stderr",
          "text": [
            "\u001b[34m\u001b[1mwandb\u001b[0m: Agent Starting Run: vzfs3hl5 with config:\n",
            "\u001b[34m\u001b[1mwandb\u001b[0m: \tfirst_ratio: 0.5\n",
            "\u001b[34m\u001b[1mwandb\u001b[0m: \tlast_ratio: 0.7\n",
            "\u001b[34m\u001b[1mwandb\u001b[0m: \tmiddle_ratio: 0.3\n"
          ]
        },
        {
          "output_type": "display_data",
          "data": {
            "text/plain": [
              "<IPython.core.display.HTML object>"
            ],
            "text/html": [
              "Tracking run with wandb version 0.18.7"
            ]
          },
          "metadata": {}
        },
        {
          "output_type": "display_data",
          "data": {
            "text/plain": [
              "<IPython.core.display.HTML object>"
            ],
            "text/html": [
              "Run data is saved locally in <code>/content/wandb/run-20241209_190708-vzfs3hl5</code>"
            ]
          },
          "metadata": {}
        },
        {
          "output_type": "display_data",
          "data": {
            "text/plain": [
              "<IPython.core.display.HTML object>"
            ],
            "text/html": [
              "Syncing run <strong><a href='https://wandb.ai/tokamak01823-new-york-university/gpt2-pruning-optimization/runs/vzfs3hl5' target=\"_blank\">easy-sweep-44</a></strong> to <a href='https://wandb.ai/tokamak01823-new-york-university/gpt2-pruning-optimization' target=\"_blank\">Weights & Biases</a> (<a href='https://wandb.me/developer-guide' target=\"_blank\">docs</a>)<br/>Sweep page: <a href='https://wandb.ai/tokamak01823-new-york-university/gpt2-pruning-optimization/sweeps/wd1vpw3g' target=\"_blank\">https://wandb.ai/tokamak01823-new-york-university/gpt2-pruning-optimization/sweeps/wd1vpw3g</a>"
            ]
          },
          "metadata": {}
        },
        {
          "output_type": "display_data",
          "data": {
            "text/plain": [
              "<IPython.core.display.HTML object>"
            ],
            "text/html": [
              " View project at <a href='https://wandb.ai/tokamak01823-new-york-university/gpt2-pruning-optimization' target=\"_blank\">https://wandb.ai/tokamak01823-new-york-university/gpt2-pruning-optimization</a>"
            ]
          },
          "metadata": {}
        },
        {
          "output_type": "display_data",
          "data": {
            "text/plain": [
              "<IPython.core.display.HTML object>"
            ],
            "text/html": [
              " View sweep at <a href='https://wandb.ai/tokamak01823-new-york-university/gpt2-pruning-optimization/sweeps/wd1vpw3g' target=\"_blank\">https://wandb.ai/tokamak01823-new-york-university/gpt2-pruning-optimization/sweeps/wd1vpw3g</a>"
            ]
          },
          "metadata": {}
        },
        {
          "output_type": "display_data",
          "data": {
            "text/plain": [
              "<IPython.core.display.HTML object>"
            ],
            "text/html": [
              " View run at <a href='https://wandb.ai/tokamak01823-new-york-university/gpt2-pruning-optimization/runs/vzfs3hl5' target=\"_blank\">https://wandb.ai/tokamak01823-new-york-university/gpt2-pruning-optimization/runs/vzfs3hl5</a>"
            ]
          },
          "metadata": {}
        },
        {
          "output_type": "stream",
          "name": "stderr",
          "text": [
            "Re-training after pruning: 100%|██████████| 901/901 [03:23<00:00,  4.44it/s]\n"
          ]
        },
        {
          "output_type": "stream",
          "name": "stdout",
          "text": [
            "First test sample text:\n",
            "  Hurricanes are an ever @-@ present threat during the summer and fall season , which puts Galveston in Coastal Windstorm Area . Galveston Island and the Bolivar Peninsula are generally at the greatest risk among the communities near the Galveston Bay . However , though the island and peninsula provide some shielding , the bay shoreline still faces significant danger from storm surge . \n",
            "\n",
            "First test sample tokenized input_ids: tensor([[39419,   389,   281,  1683,  2488,    12,    31,  1944,  2372,  1141,\n",
            "           262,  3931,   290,  2121,  1622,   837,   543,  7584,  5027,  4223,\n",
            "           261,   287, 43513,  3086, 12135,  9498,   764,  5027,  4223,   261,\n",
            "          5451,   290,   262, 10797,   452,   283, 24078,   389,  4143,   379,\n",
            "           262,  6000,  2526,  1871,   262,  5348,  1474,   262,  5027,  4223,\n",
            "           261,  4696,   764,  2102,   837,   996,   262,  7022,   290, 28080,\n",
            "          2148,   617, 43539,   837,   262, 15489, 15191,  1370,   991,  6698,\n",
            "          2383,  3514,   422,  6388, 13853,   764,   220,   198]])\n",
            "Decoded text from tokenized input:  Hurricanes are an ever @-@ present threat during the summer and fall season , which puts Galveston in Coastal Windstorm Area . Galveston Island and the Bolivar Peninsula are generally at the greatest risk among the communities near the Galveston Bay . However , though the island and peninsula provide some shielding , the bay shoreline still faces significant danger from storm surge . \n",
            "\n",
            "Test Perplexity: 1.3596, Test Accuracy: 0.7263\n"
          ]
        },
        {
          "output_type": "display_data",
          "data": {
            "text/plain": [
              "VBox(children=(Label(value='0.014 MB of 0.014 MB uploaded\\r'), FloatProgress(value=1.0, max=1.0)))"
            ],
            "application/vnd.jupyter.widget-view+json": {
              "version_major": 2,
              "version_minor": 0,
              "model_id": "8e2a7be35894483ab20dc1cb375a8c47"
            }
          },
          "metadata": {}
        },
        {
          "output_type": "display_data",
          "data": {
            "text/plain": [
              "<IPython.core.display.HTML object>"
            ],
            "text/html": [
              "\n",
              "    <style>\n",
              "        .wandb-row {\n",
              "            display: flex;\n",
              "            flex-direction: row;\n",
              "            flex-wrap: wrap;\n",
              "            justify-content: flex-start;\n",
              "            width: 100%;\n",
              "        }\n",
              "        .wandb-col {\n",
              "            display: flex;\n",
              "            flex-direction: column;\n",
              "            flex-basis: 100%;\n",
              "            flex: 1;\n",
              "            padding: 10px;\n",
              "        }\n",
              "    </style>\n",
              "<div class=\"wandb-row\"><div class=\"wandb-col\"><h3>Run history:</h3><br/><table class=\"wandb\"><tr><td>accuracy</td><td>▁</td></tr><tr><td>perplexity</td><td>▁</td></tr><tr><td>train_loss</td><td>▁</td></tr></table><br/></div><div class=\"wandb-col\"><h3>Run summary:</h3><br/><table class=\"wandb\"><tr><td>accuracy</td><td>0.7263</td></tr><tr><td>perplexity</td><td>1.35961</td></tr><tr><td>train_loss</td><td>0.62593</td></tr></table><br/></div></div>"
            ]
          },
          "metadata": {}
        },
        {
          "output_type": "display_data",
          "data": {
            "text/plain": [
              "<IPython.core.display.HTML object>"
            ],
            "text/html": [
              " View run <strong style=\"color:#cdcd00\">easy-sweep-44</strong> at: <a href='https://wandb.ai/tokamak01823-new-york-university/gpt2-pruning-optimization/runs/vzfs3hl5' target=\"_blank\">https://wandb.ai/tokamak01823-new-york-university/gpt2-pruning-optimization/runs/vzfs3hl5</a><br/> View project at: <a href='https://wandb.ai/tokamak01823-new-york-university/gpt2-pruning-optimization' target=\"_blank\">https://wandb.ai/tokamak01823-new-york-university/gpt2-pruning-optimization</a><br/>Synced 5 W&B file(s), 0 media file(s), 0 artifact file(s) and 0 other file(s)"
            ]
          },
          "metadata": {}
        },
        {
          "output_type": "display_data",
          "data": {
            "text/plain": [
              "<IPython.core.display.HTML object>"
            ],
            "text/html": [
              "Find logs at: <code>./wandb/run-20241209_190708-vzfs3hl5/logs</code>"
            ]
          },
          "metadata": {}
        },
        {
          "output_type": "stream",
          "name": "stderr",
          "text": [
            "\u001b[34m\u001b[1mwandb\u001b[0m: Agent Starting Run: ssa4232m with config:\n",
            "\u001b[34m\u001b[1mwandb\u001b[0m: \tfirst_ratio: 0.7\n",
            "\u001b[34m\u001b[1mwandb\u001b[0m: \tlast_ratio: 0.3\n",
            "\u001b[34m\u001b[1mwandb\u001b[0m: \tmiddle_ratio: 0\n"
          ]
        },
        {
          "output_type": "display_data",
          "data": {
            "text/plain": [
              "VBox(children=(Label(value='Waiting for wandb.init()...\\r'), FloatProgress(value=0.011112770011115774, max=1.0…"
            ],
            "application/vnd.jupyter.widget-view+json": {
              "version_major": 2,
              "version_minor": 0,
              "model_id": "6c87db3d777b4c2fbc50589f9ef65972"
            }
          },
          "metadata": {}
        },
        {
          "output_type": "display_data",
          "data": {
            "text/plain": [
              "<IPython.core.display.HTML object>"
            ],
            "text/html": [
              "Tracking run with wandb version 0.18.7"
            ]
          },
          "metadata": {}
        },
        {
          "output_type": "display_data",
          "data": {
            "text/plain": [
              "<IPython.core.display.HTML object>"
            ],
            "text/html": [
              "Run data is saved locally in <code>/content/wandb/run-20241209_191109-ssa4232m</code>"
            ]
          },
          "metadata": {}
        },
        {
          "output_type": "display_data",
          "data": {
            "text/plain": [
              "<IPython.core.display.HTML object>"
            ],
            "text/html": [
              "Syncing run <strong><a href='https://wandb.ai/tokamak01823-new-york-university/gpt2-pruning-optimization/runs/ssa4232m' target=\"_blank\">generous-sweep-45</a></strong> to <a href='https://wandb.ai/tokamak01823-new-york-university/gpt2-pruning-optimization' target=\"_blank\">Weights & Biases</a> (<a href='https://wandb.me/developer-guide' target=\"_blank\">docs</a>)<br/>Sweep page: <a href='https://wandb.ai/tokamak01823-new-york-university/gpt2-pruning-optimization/sweeps/wd1vpw3g' target=\"_blank\">https://wandb.ai/tokamak01823-new-york-university/gpt2-pruning-optimization/sweeps/wd1vpw3g</a>"
            ]
          },
          "metadata": {}
        },
        {
          "output_type": "display_data",
          "data": {
            "text/plain": [
              "<IPython.core.display.HTML object>"
            ],
            "text/html": [
              " View project at <a href='https://wandb.ai/tokamak01823-new-york-university/gpt2-pruning-optimization' target=\"_blank\">https://wandb.ai/tokamak01823-new-york-university/gpt2-pruning-optimization</a>"
            ]
          },
          "metadata": {}
        },
        {
          "output_type": "display_data",
          "data": {
            "text/plain": [
              "<IPython.core.display.HTML object>"
            ],
            "text/html": [
              " View sweep at <a href='https://wandb.ai/tokamak01823-new-york-university/gpt2-pruning-optimization/sweeps/wd1vpw3g' target=\"_blank\">https://wandb.ai/tokamak01823-new-york-university/gpt2-pruning-optimization/sweeps/wd1vpw3g</a>"
            ]
          },
          "metadata": {}
        },
        {
          "output_type": "display_data",
          "data": {
            "text/plain": [
              "<IPython.core.display.HTML object>"
            ],
            "text/html": [
              " View run at <a href='https://wandb.ai/tokamak01823-new-york-university/gpt2-pruning-optimization/runs/ssa4232m' target=\"_blank\">https://wandb.ai/tokamak01823-new-york-university/gpt2-pruning-optimization/runs/ssa4232m</a>"
            ]
          },
          "metadata": {}
        },
        {
          "output_type": "stream",
          "name": "stderr",
          "text": [
            "Re-training after pruning: 100%|██████████| 901/901 [03:23<00:00,  4.42it/s]\n"
          ]
        },
        {
          "output_type": "stream",
          "name": "stdout",
          "text": [
            "First test sample text:\n",
            "  Hurricanes are an ever @-@ present threat during the summer and fall season , which puts Galveston in Coastal Windstorm Area . Galveston Island and the Bolivar Peninsula are generally at the greatest risk among the communities near the Galveston Bay . However , though the island and peninsula provide some shielding , the bay shoreline still faces significant danger from storm surge . \n",
            "\n",
            "First test sample tokenized input_ids: tensor([[39419,   389,   281,  1683,  2488,    12,    31,  1944,  2372,  1141,\n",
            "           262,  3931,   290,  2121,  1622,   837,   543,  7584,  5027,  4223,\n",
            "           261,   287, 43513,  3086, 12135,  9498,   764,  5027,  4223,   261,\n",
            "          5451,   290,   262, 10797,   452,   283, 24078,   389,  4143,   379,\n",
            "           262,  6000,  2526,  1871,   262,  5348,  1474,   262,  5027,  4223,\n",
            "           261,  4696,   764,  2102,   837,   996,   262,  7022,   290, 28080,\n",
            "          2148,   617, 43539,   837,   262, 15489, 15191,  1370,   991,  6698,\n",
            "          2383,  3514,   422,  6388, 13853,   764,   220,   198]])\n",
            "Decoded text from tokenized input:  Hurricanes are an ever @-@ present threat during the summer and fall season , which puts Galveston in Coastal Windstorm Area . Galveston Island and the Bolivar Peninsula are generally at the greatest risk among the communities near the Galveston Bay . However , though the island and peninsula provide some shielding , the bay shoreline still faces significant danger from storm surge . \n",
            "\n",
            "Test Perplexity: 1.1513, Test Accuracy: 0.7257\n"
          ]
        },
        {
          "output_type": "display_data",
          "data": {
            "text/plain": [
              "<IPython.core.display.HTML object>"
            ],
            "text/html": [
              "\n",
              "    <style>\n",
              "        .wandb-row {\n",
              "            display: flex;\n",
              "            flex-direction: row;\n",
              "            flex-wrap: wrap;\n",
              "            justify-content: flex-start;\n",
              "            width: 100%;\n",
              "        }\n",
              "        .wandb-col {\n",
              "            display: flex;\n",
              "            flex-direction: column;\n",
              "            flex-basis: 100%;\n",
              "            flex: 1;\n",
              "            padding: 10px;\n",
              "        }\n",
              "    </style>\n",
              "<div class=\"wandb-row\"><div class=\"wandb-col\"><h3>Run history:</h3><br/><table class=\"wandb\"><tr><td>accuracy</td><td>▁</td></tr><tr><td>perplexity</td><td>▁</td></tr><tr><td>train_loss</td><td>▁</td></tr></table><br/></div><div class=\"wandb-col\"><h3>Run summary:</h3><br/><table class=\"wandb\"><tr><td>accuracy</td><td>0.7257</td></tr><tr><td>perplexity</td><td>1.15127</td></tr><tr><td>train_loss</td><td>0.4634</td></tr></table><br/></div></div>"
            ]
          },
          "metadata": {}
        },
        {
          "output_type": "display_data",
          "data": {
            "text/plain": [
              "<IPython.core.display.HTML object>"
            ],
            "text/html": [
              " View run <strong style=\"color:#cdcd00\">generous-sweep-45</strong> at: <a href='https://wandb.ai/tokamak01823-new-york-university/gpt2-pruning-optimization/runs/ssa4232m' target=\"_blank\">https://wandb.ai/tokamak01823-new-york-university/gpt2-pruning-optimization/runs/ssa4232m</a><br/> View project at: <a href='https://wandb.ai/tokamak01823-new-york-university/gpt2-pruning-optimization' target=\"_blank\">https://wandb.ai/tokamak01823-new-york-university/gpt2-pruning-optimization</a><br/>Synced 5 W&B file(s), 0 media file(s), 0 artifact file(s) and 0 other file(s)"
            ]
          },
          "metadata": {}
        },
        {
          "output_type": "display_data",
          "data": {
            "text/plain": [
              "<IPython.core.display.HTML object>"
            ],
            "text/html": [
              "Find logs at: <code>./wandb/run-20241209_191109-ssa4232m/logs</code>"
            ]
          },
          "metadata": {}
        },
        {
          "output_type": "stream",
          "name": "stderr",
          "text": [
            "\u001b[34m\u001b[1mwandb\u001b[0m: Agent Starting Run: 81afava3 with config:\n",
            "\u001b[34m\u001b[1mwandb\u001b[0m: \tfirst_ratio: 0.3\n",
            "\u001b[34m\u001b[1mwandb\u001b[0m: \tlast_ratio: 0.7\n",
            "\u001b[34m\u001b[1mwandb\u001b[0m: \tmiddle_ratio: 0.9\n"
          ]
        },
        {
          "output_type": "display_data",
          "data": {
            "text/plain": [
              "<IPython.core.display.HTML object>"
            ],
            "text/html": [
              "Tracking run with wandb version 0.18.7"
            ]
          },
          "metadata": {}
        },
        {
          "output_type": "display_data",
          "data": {
            "text/plain": [
              "<IPython.core.display.HTML object>"
            ],
            "text/html": [
              "Run data is saved locally in <code>/content/wandb/run-20241209_191510-81afava3</code>"
            ]
          },
          "metadata": {}
        },
        {
          "output_type": "display_data",
          "data": {
            "text/plain": [
              "<IPython.core.display.HTML object>"
            ],
            "text/html": [
              "Syncing run <strong><a href='https://wandb.ai/tokamak01823-new-york-university/gpt2-pruning-optimization/runs/81afava3' target=\"_blank\">warm-sweep-46</a></strong> to <a href='https://wandb.ai/tokamak01823-new-york-university/gpt2-pruning-optimization' target=\"_blank\">Weights & Biases</a> (<a href='https://wandb.me/developer-guide' target=\"_blank\">docs</a>)<br/>Sweep page: <a href='https://wandb.ai/tokamak01823-new-york-university/gpt2-pruning-optimization/sweeps/wd1vpw3g' target=\"_blank\">https://wandb.ai/tokamak01823-new-york-university/gpt2-pruning-optimization/sweeps/wd1vpw3g</a>"
            ]
          },
          "metadata": {}
        },
        {
          "output_type": "display_data",
          "data": {
            "text/plain": [
              "<IPython.core.display.HTML object>"
            ],
            "text/html": [
              " View project at <a href='https://wandb.ai/tokamak01823-new-york-university/gpt2-pruning-optimization' target=\"_blank\">https://wandb.ai/tokamak01823-new-york-university/gpt2-pruning-optimization</a>"
            ]
          },
          "metadata": {}
        },
        {
          "output_type": "display_data",
          "data": {
            "text/plain": [
              "<IPython.core.display.HTML object>"
            ],
            "text/html": [
              " View sweep at <a href='https://wandb.ai/tokamak01823-new-york-university/gpt2-pruning-optimization/sweeps/wd1vpw3g' target=\"_blank\">https://wandb.ai/tokamak01823-new-york-university/gpt2-pruning-optimization/sweeps/wd1vpw3g</a>"
            ]
          },
          "metadata": {}
        },
        {
          "output_type": "display_data",
          "data": {
            "text/plain": [
              "<IPython.core.display.HTML object>"
            ],
            "text/html": [
              " View run at <a href='https://wandb.ai/tokamak01823-new-york-university/gpt2-pruning-optimization/runs/81afava3' target=\"_blank\">https://wandb.ai/tokamak01823-new-york-university/gpt2-pruning-optimization/runs/81afava3</a>"
            ]
          },
          "metadata": {}
        },
        {
          "output_type": "stream",
          "name": "stderr",
          "text": [
            "Re-training after pruning: 100%|██████████| 901/901 [03:24<00:00,  4.40it/s]\n"
          ]
        },
        {
          "output_type": "stream",
          "name": "stdout",
          "text": [
            "First test sample text:\n",
            "  Hurricanes are an ever @-@ present threat during the summer and fall season , which puts Galveston in Coastal Windstorm Area . Galveston Island and the Bolivar Peninsula are generally at the greatest risk among the communities near the Galveston Bay . However , though the island and peninsula provide some shielding , the bay shoreline still faces significant danger from storm surge . \n",
            "\n",
            "First test sample tokenized input_ids: tensor([[39419,   389,   281,  1683,  2488,    12,    31,  1944,  2372,  1141,\n",
            "           262,  3931,   290,  2121,  1622,   837,   543,  7584,  5027,  4223,\n",
            "           261,   287, 43513,  3086, 12135,  9498,   764,  5027,  4223,   261,\n",
            "          5451,   290,   262, 10797,   452,   283, 24078,   389,  4143,   379,\n",
            "           262,  6000,  2526,  1871,   262,  5348,  1474,   262,  5027,  4223,\n",
            "           261,  4696,   764,  2102,   837,   996,   262,  7022,   290, 28080,\n",
            "          2148,   617, 43539,   837,   262, 15489, 15191,  1370,   991,  6698,\n",
            "          2383,  3514,   422,  6388, 13853,   764,   220,   198]])\n",
            "Decoded text from tokenized input:  Hurricanes are an ever @-@ present threat during the summer and fall season , which puts Galveston in Coastal Windstorm Area . Galveston Island and the Bolivar Peninsula are generally at the greatest risk among the communities near the Galveston Bay . However , though the island and peninsula provide some shielding , the bay shoreline still faces significant danger from storm surge . \n",
            "\n",
            "Test Perplexity: 1.9617, Test Accuracy: 0.7269\n"
          ]
        },
        {
          "output_type": "display_data",
          "data": {
            "text/plain": [
              "VBox(children=(Label(value='0.014 MB of 0.014 MB uploaded\\r'), FloatProgress(value=1.0, max=1.0)))"
            ],
            "application/vnd.jupyter.widget-view+json": {
              "version_major": 2,
              "version_minor": 0,
              "model_id": "a5b4478444034e729cacda8add675414"
            }
          },
          "metadata": {}
        },
        {
          "output_type": "display_data",
          "data": {
            "text/plain": [
              "<IPython.core.display.HTML object>"
            ],
            "text/html": [
              "\n",
              "    <style>\n",
              "        .wandb-row {\n",
              "            display: flex;\n",
              "            flex-direction: row;\n",
              "            flex-wrap: wrap;\n",
              "            justify-content: flex-start;\n",
              "            width: 100%;\n",
              "        }\n",
              "        .wandb-col {\n",
              "            display: flex;\n",
              "            flex-direction: column;\n",
              "            flex-basis: 100%;\n",
              "            flex: 1;\n",
              "            padding: 10px;\n",
              "        }\n",
              "    </style>\n",
              "<div class=\"wandb-row\"><div class=\"wandb-col\"><h3>Run history:</h3><br/><table class=\"wandb\"><tr><td>accuracy</td><td>▁</td></tr><tr><td>perplexity</td><td>▁</td></tr><tr><td>train_loss</td><td>▁</td></tr></table><br/></div><div class=\"wandb-col\"><h3>Run summary:</h3><br/><table class=\"wandb\"><tr><td>accuracy</td><td>0.72695</td></tr><tr><td>perplexity</td><td>1.96168</td></tr><tr><td>train_loss</td><td>1.10662</td></tr></table><br/></div></div>"
            ]
          },
          "metadata": {}
        },
        {
          "output_type": "display_data",
          "data": {
            "text/plain": [
              "<IPython.core.display.HTML object>"
            ],
            "text/html": [
              " View run <strong style=\"color:#cdcd00\">warm-sweep-46</strong> at: <a href='https://wandb.ai/tokamak01823-new-york-university/gpt2-pruning-optimization/runs/81afava3' target=\"_blank\">https://wandb.ai/tokamak01823-new-york-university/gpt2-pruning-optimization/runs/81afava3</a><br/> View project at: <a href='https://wandb.ai/tokamak01823-new-york-university/gpt2-pruning-optimization' target=\"_blank\">https://wandb.ai/tokamak01823-new-york-university/gpt2-pruning-optimization</a><br/>Synced 5 W&B file(s), 0 media file(s), 0 artifact file(s) and 0 other file(s)"
            ]
          },
          "metadata": {}
        },
        {
          "output_type": "display_data",
          "data": {
            "text/plain": [
              "<IPython.core.display.HTML object>"
            ],
            "text/html": [
              "Find logs at: <code>./wandb/run-20241209_191510-81afava3/logs</code>"
            ]
          },
          "metadata": {}
        },
        {
          "output_type": "stream",
          "name": "stderr",
          "text": [
            "\u001b[34m\u001b[1mwandb\u001b[0m: Agent Starting Run: docx3m2m with config:\n",
            "\u001b[34m\u001b[1mwandb\u001b[0m: \tfirst_ratio: 0.1\n",
            "\u001b[34m\u001b[1mwandb\u001b[0m: \tlast_ratio: 0.5\n",
            "\u001b[34m\u001b[1mwandb\u001b[0m: \tmiddle_ratio: 0.7\n"
          ]
        },
        {
          "output_type": "display_data",
          "data": {
            "text/plain": [
              "<IPython.core.display.HTML object>"
            ],
            "text/html": [
              "Tracking run with wandb version 0.18.7"
            ]
          },
          "metadata": {}
        },
        {
          "output_type": "display_data",
          "data": {
            "text/plain": [
              "<IPython.core.display.HTML object>"
            ],
            "text/html": [
              "Run data is saved locally in <code>/content/wandb/run-20241209_191911-docx3m2m</code>"
            ]
          },
          "metadata": {}
        },
        {
          "output_type": "display_data",
          "data": {
            "text/plain": [
              "<IPython.core.display.HTML object>"
            ],
            "text/html": [
              "Syncing run <strong><a href='https://wandb.ai/tokamak01823-new-york-university/gpt2-pruning-optimization/runs/docx3m2m' target=\"_blank\">glorious-sweep-47</a></strong> to <a href='https://wandb.ai/tokamak01823-new-york-university/gpt2-pruning-optimization' target=\"_blank\">Weights & Biases</a> (<a href='https://wandb.me/developer-guide' target=\"_blank\">docs</a>)<br/>Sweep page: <a href='https://wandb.ai/tokamak01823-new-york-university/gpt2-pruning-optimization/sweeps/wd1vpw3g' target=\"_blank\">https://wandb.ai/tokamak01823-new-york-university/gpt2-pruning-optimization/sweeps/wd1vpw3g</a>"
            ]
          },
          "metadata": {}
        },
        {
          "output_type": "display_data",
          "data": {
            "text/plain": [
              "<IPython.core.display.HTML object>"
            ],
            "text/html": [
              " View project at <a href='https://wandb.ai/tokamak01823-new-york-university/gpt2-pruning-optimization' target=\"_blank\">https://wandb.ai/tokamak01823-new-york-university/gpt2-pruning-optimization</a>"
            ]
          },
          "metadata": {}
        },
        {
          "output_type": "display_data",
          "data": {
            "text/plain": [
              "<IPython.core.display.HTML object>"
            ],
            "text/html": [
              " View sweep at <a href='https://wandb.ai/tokamak01823-new-york-university/gpt2-pruning-optimization/sweeps/wd1vpw3g' target=\"_blank\">https://wandb.ai/tokamak01823-new-york-university/gpt2-pruning-optimization/sweeps/wd1vpw3g</a>"
            ]
          },
          "metadata": {}
        },
        {
          "output_type": "display_data",
          "data": {
            "text/plain": [
              "<IPython.core.display.HTML object>"
            ],
            "text/html": [
              " View run at <a href='https://wandb.ai/tokamak01823-new-york-university/gpt2-pruning-optimization/runs/docx3m2m' target=\"_blank\">https://wandb.ai/tokamak01823-new-york-university/gpt2-pruning-optimization/runs/docx3m2m</a>"
            ]
          },
          "metadata": {}
        },
        {
          "output_type": "stream",
          "name": "stderr",
          "text": [
            "Re-training after pruning: 100%|██████████| 901/901 [03:23<00:00,  4.42it/s]\n"
          ]
        },
        {
          "output_type": "stream",
          "name": "stdout",
          "text": [
            "First test sample text:\n",
            "  Hurricanes are an ever @-@ present threat during the summer and fall season , which puts Galveston in Coastal Windstorm Area . Galveston Island and the Bolivar Peninsula are generally at the greatest risk among the communities near the Galveston Bay . However , though the island and peninsula provide some shielding , the bay shoreline still faces significant danger from storm surge . \n",
            "\n",
            "First test sample tokenized input_ids: tensor([[39419,   389,   281,  1683,  2488,    12,    31,  1944,  2372,  1141,\n",
            "           262,  3931,   290,  2121,  1622,   837,   543,  7584,  5027,  4223,\n",
            "           261,   287, 43513,  3086, 12135,  9498,   764,  5027,  4223,   261,\n",
            "          5451,   290,   262, 10797,   452,   283, 24078,   389,  4143,   379,\n",
            "           262,  6000,  2526,  1871,   262,  5348,  1474,   262,  5027,  4223,\n",
            "           261,  4696,   764,  2102,   837,   996,   262,  7022,   290, 28080,\n",
            "          2148,   617, 43539,   837,   262, 15489, 15191,  1370,   991,  6698,\n",
            "          2383,  3514,   422,  6388, 13853,   764,   220,   198]])\n",
            "Decoded text from tokenized input:  Hurricanes are an ever @-@ present threat during the summer and fall season , which puts Galveston in Coastal Windstorm Area . Galveston Island and the Bolivar Peninsula are generally at the greatest risk among the communities near the Galveston Bay . However , though the island and peninsula provide some shielding , the bay shoreline still faces significant danger from storm surge . \n",
            "\n",
            "Test Perplexity: 1.3306, Test Accuracy: 0.7262\n"
          ]
        },
        {
          "output_type": "display_data",
          "data": {
            "text/plain": [
              "VBox(children=(Label(value='0.014 MB of 0.014 MB uploaded\\r'), FloatProgress(value=1.0, max=1.0)))"
            ],
            "application/vnd.jupyter.widget-view+json": {
              "version_major": 2,
              "version_minor": 0,
              "model_id": "af83752b591846d8b33b63df2fe9958c"
            }
          },
          "metadata": {}
        },
        {
          "output_type": "display_data",
          "data": {
            "text/plain": [
              "<IPython.core.display.HTML object>"
            ],
            "text/html": [
              "\n",
              "    <style>\n",
              "        .wandb-row {\n",
              "            display: flex;\n",
              "            flex-direction: row;\n",
              "            flex-wrap: wrap;\n",
              "            justify-content: flex-start;\n",
              "            width: 100%;\n",
              "        }\n",
              "        .wandb-col {\n",
              "            display: flex;\n",
              "            flex-direction: column;\n",
              "            flex-basis: 100%;\n",
              "            flex: 1;\n",
              "            padding: 10px;\n",
              "        }\n",
              "    </style>\n",
              "<div class=\"wandb-row\"><div class=\"wandb-col\"><h3>Run history:</h3><br/><table class=\"wandb\"><tr><td>accuracy</td><td>▁</td></tr><tr><td>perplexity</td><td>▁</td></tr><tr><td>train_loss</td><td>▁</td></tr></table><br/></div><div class=\"wandb-col\"><h3>Run summary:</h3><br/><table class=\"wandb\"><tr><td>accuracy</td><td>0.7262</td></tr><tr><td>perplexity</td><td>1.33064</td></tr><tr><td>train_loss</td><td>0.59193</td></tr></table><br/></div></div>"
            ]
          },
          "metadata": {}
        },
        {
          "output_type": "display_data",
          "data": {
            "text/plain": [
              "<IPython.core.display.HTML object>"
            ],
            "text/html": [
              " View run <strong style=\"color:#cdcd00\">glorious-sweep-47</strong> at: <a href='https://wandb.ai/tokamak01823-new-york-university/gpt2-pruning-optimization/runs/docx3m2m' target=\"_blank\">https://wandb.ai/tokamak01823-new-york-university/gpt2-pruning-optimization/runs/docx3m2m</a><br/> View project at: <a href='https://wandb.ai/tokamak01823-new-york-university/gpt2-pruning-optimization' target=\"_blank\">https://wandb.ai/tokamak01823-new-york-university/gpt2-pruning-optimization</a><br/>Synced 5 W&B file(s), 0 media file(s), 0 artifact file(s) and 0 other file(s)"
            ]
          },
          "metadata": {}
        },
        {
          "output_type": "display_data",
          "data": {
            "text/plain": [
              "<IPython.core.display.HTML object>"
            ],
            "text/html": [
              "Find logs at: <code>./wandb/run-20241209_191911-docx3m2m/logs</code>"
            ]
          },
          "metadata": {}
        },
        {
          "output_type": "stream",
          "name": "stderr",
          "text": [
            "\u001b[34m\u001b[1mwandb\u001b[0m: Agent Starting Run: g6ig7nsl with config:\n",
            "\u001b[34m\u001b[1mwandb\u001b[0m: \tfirst_ratio: 0\n",
            "\u001b[34m\u001b[1mwandb\u001b[0m: \tlast_ratio: 0.3\n",
            "\u001b[34m\u001b[1mwandb\u001b[0m: \tmiddle_ratio: 0.7\n"
          ]
        },
        {
          "output_type": "display_data",
          "data": {
            "text/plain": [
              "<IPython.core.display.HTML object>"
            ],
            "text/html": [
              "Tracking run with wandb version 0.18.7"
            ]
          },
          "metadata": {}
        },
        {
          "output_type": "display_data",
          "data": {
            "text/plain": [
              "<IPython.core.display.HTML object>"
            ],
            "text/html": [
              "Run data is saved locally in <code>/content/wandb/run-20241209_192313-g6ig7nsl</code>"
            ]
          },
          "metadata": {}
        },
        {
          "output_type": "display_data",
          "data": {
            "text/plain": [
              "<IPython.core.display.HTML object>"
            ],
            "text/html": [
              "Syncing run <strong><a href='https://wandb.ai/tokamak01823-new-york-university/gpt2-pruning-optimization/runs/g6ig7nsl' target=\"_blank\">fast-sweep-48</a></strong> to <a href='https://wandb.ai/tokamak01823-new-york-university/gpt2-pruning-optimization' target=\"_blank\">Weights & Biases</a> (<a href='https://wandb.me/developer-guide' target=\"_blank\">docs</a>)<br/>Sweep page: <a href='https://wandb.ai/tokamak01823-new-york-university/gpt2-pruning-optimization/sweeps/wd1vpw3g' target=\"_blank\">https://wandb.ai/tokamak01823-new-york-university/gpt2-pruning-optimization/sweeps/wd1vpw3g</a>"
            ]
          },
          "metadata": {}
        },
        {
          "output_type": "display_data",
          "data": {
            "text/plain": [
              "<IPython.core.display.HTML object>"
            ],
            "text/html": [
              " View project at <a href='https://wandb.ai/tokamak01823-new-york-university/gpt2-pruning-optimization' target=\"_blank\">https://wandb.ai/tokamak01823-new-york-university/gpt2-pruning-optimization</a>"
            ]
          },
          "metadata": {}
        },
        {
          "output_type": "display_data",
          "data": {
            "text/plain": [
              "<IPython.core.display.HTML object>"
            ],
            "text/html": [
              " View sweep at <a href='https://wandb.ai/tokamak01823-new-york-university/gpt2-pruning-optimization/sweeps/wd1vpw3g' target=\"_blank\">https://wandb.ai/tokamak01823-new-york-university/gpt2-pruning-optimization/sweeps/wd1vpw3g</a>"
            ]
          },
          "metadata": {}
        },
        {
          "output_type": "display_data",
          "data": {
            "text/plain": [
              "<IPython.core.display.HTML object>"
            ],
            "text/html": [
              " View run at <a href='https://wandb.ai/tokamak01823-new-york-university/gpt2-pruning-optimization/runs/g6ig7nsl' target=\"_blank\">https://wandb.ai/tokamak01823-new-york-university/gpt2-pruning-optimization/runs/g6ig7nsl</a>"
            ]
          },
          "metadata": {}
        },
        {
          "output_type": "stream",
          "name": "stderr",
          "text": [
            "Re-training after pruning: 100%|██████████| 901/901 [03:23<00:00,  4.43it/s]\n"
          ]
        },
        {
          "output_type": "stream",
          "name": "stdout",
          "text": [
            "First test sample text:\n",
            "  Hurricanes are an ever @-@ present threat during the summer and fall season , which puts Galveston in Coastal Windstorm Area . Galveston Island and the Bolivar Peninsula are generally at the greatest risk among the communities near the Galveston Bay . However , though the island and peninsula provide some shielding , the bay shoreline still faces significant danger from storm surge . \n",
            "\n",
            "First test sample tokenized input_ids: tensor([[39419,   389,   281,  1683,  2488,    12,    31,  1944,  2372,  1141,\n",
            "           262,  3931,   290,  2121,  1622,   837,   543,  7584,  5027,  4223,\n",
            "           261,   287, 43513,  3086, 12135,  9498,   764,  5027,  4223,   261,\n",
            "          5451,   290,   262, 10797,   452,   283, 24078,   389,  4143,   379,\n",
            "           262,  6000,  2526,  1871,   262,  5348,  1474,   262,  5027,  4223,\n",
            "           261,  4696,   764,  2102,   837,   996,   262,  7022,   290, 28080,\n",
            "          2148,   617, 43539,   837,   262, 15489, 15191,  1370,   991,  6698,\n",
            "          2383,  3514,   422,  6388, 13853,   764,   220,   198]])\n",
            "Decoded text from tokenized input:  Hurricanes are an ever @-@ present threat during the summer and fall season , which puts Galveston in Coastal Windstorm Area . Galveston Island and the Bolivar Peninsula are generally at the greatest risk among the communities near the Galveston Bay . However , though the island and peninsula provide some shielding , the bay shoreline still faces significant danger from storm surge . \n",
            "\n",
            "Test Perplexity: 1.2335, Test Accuracy: 0.7260\n"
          ]
        },
        {
          "output_type": "display_data",
          "data": {
            "text/plain": [
              "VBox(children=(Label(value='0.014 MB of 0.014 MB uploaded\\r'), FloatProgress(value=1.0, max=1.0)))"
            ],
            "application/vnd.jupyter.widget-view+json": {
              "version_major": 2,
              "version_minor": 0,
              "model_id": "6a9d99e9742f4caeb8d36fe53cbc1972"
            }
          },
          "metadata": {}
        },
        {
          "output_type": "display_data",
          "data": {
            "text/plain": [
              "<IPython.core.display.HTML object>"
            ],
            "text/html": [
              "\n",
              "    <style>\n",
              "        .wandb-row {\n",
              "            display: flex;\n",
              "            flex-direction: row;\n",
              "            flex-wrap: wrap;\n",
              "            justify-content: flex-start;\n",
              "            width: 100%;\n",
              "        }\n",
              "        .wandb-col {\n",
              "            display: flex;\n",
              "            flex-direction: column;\n",
              "            flex-basis: 100%;\n",
              "            flex: 1;\n",
              "            padding: 10px;\n",
              "        }\n",
              "    </style>\n",
              "<div class=\"wandb-row\"><div class=\"wandb-col\"><h3>Run history:</h3><br/><table class=\"wandb\"><tr><td>accuracy</td><td>▁</td></tr><tr><td>perplexity</td><td>▁</td></tr><tr><td>train_loss</td><td>▁</td></tr></table><br/></div><div class=\"wandb-col\"><h3>Run summary:</h3><br/><table class=\"wandb\"><tr><td>accuracy</td><td>0.72601</td></tr><tr><td>perplexity</td><td>1.23353</td></tr><tr><td>train_loss</td><td>0.47749</td></tr></table><br/></div></div>"
            ]
          },
          "metadata": {}
        },
        {
          "output_type": "display_data",
          "data": {
            "text/plain": [
              "<IPython.core.display.HTML object>"
            ],
            "text/html": [
              " View run <strong style=\"color:#cdcd00\">fast-sweep-48</strong> at: <a href='https://wandb.ai/tokamak01823-new-york-university/gpt2-pruning-optimization/runs/g6ig7nsl' target=\"_blank\">https://wandb.ai/tokamak01823-new-york-university/gpt2-pruning-optimization/runs/g6ig7nsl</a><br/> View project at: <a href='https://wandb.ai/tokamak01823-new-york-university/gpt2-pruning-optimization' target=\"_blank\">https://wandb.ai/tokamak01823-new-york-university/gpt2-pruning-optimization</a><br/>Synced 5 W&B file(s), 0 media file(s), 0 artifact file(s) and 0 other file(s)"
            ]
          },
          "metadata": {}
        },
        {
          "output_type": "display_data",
          "data": {
            "text/plain": [
              "<IPython.core.display.HTML object>"
            ],
            "text/html": [
              "Find logs at: <code>./wandb/run-20241209_192313-g6ig7nsl/logs</code>"
            ]
          },
          "metadata": {}
        },
        {
          "output_type": "stream",
          "name": "stderr",
          "text": [
            "\u001b[34m\u001b[1mwandb\u001b[0m: Sweep Agent: Waiting for job.\n",
            "\u001b[34m\u001b[1mwandb\u001b[0m: Job received.\n",
            "\u001b[34m\u001b[1mwandb\u001b[0m: Agent Starting Run: bqli596c with config:\n",
            "\u001b[34m\u001b[1mwandb\u001b[0m: \tfirst_ratio: 0.9\n",
            "\u001b[34m\u001b[1mwandb\u001b[0m: \tlast_ratio: 0.7\n",
            "\u001b[34m\u001b[1mwandb\u001b[0m: \tmiddle_ratio: 0.1\n"
          ]
        },
        {
          "output_type": "display_data",
          "data": {
            "text/plain": [
              "<IPython.core.display.HTML object>"
            ],
            "text/html": [
              "Tracking run with wandb version 0.18.7"
            ]
          },
          "metadata": {}
        },
        {
          "output_type": "display_data",
          "data": {
            "text/plain": [
              "<IPython.core.display.HTML object>"
            ],
            "text/html": [
              "Run data is saved locally in <code>/content/wandb/run-20241209_192719-bqli596c</code>"
            ]
          },
          "metadata": {}
        },
        {
          "output_type": "display_data",
          "data": {
            "text/plain": [
              "<IPython.core.display.HTML object>"
            ],
            "text/html": [
              "Syncing run <strong><a href='https://wandb.ai/tokamak01823-new-york-university/gpt2-pruning-optimization/runs/bqli596c' target=\"_blank\">cerulean-sweep-49</a></strong> to <a href='https://wandb.ai/tokamak01823-new-york-university/gpt2-pruning-optimization' target=\"_blank\">Weights & Biases</a> (<a href='https://wandb.me/developer-guide' target=\"_blank\">docs</a>)<br/>Sweep page: <a href='https://wandb.ai/tokamak01823-new-york-university/gpt2-pruning-optimization/sweeps/wd1vpw3g' target=\"_blank\">https://wandb.ai/tokamak01823-new-york-university/gpt2-pruning-optimization/sweeps/wd1vpw3g</a>"
            ]
          },
          "metadata": {}
        },
        {
          "output_type": "display_data",
          "data": {
            "text/plain": [
              "<IPython.core.display.HTML object>"
            ],
            "text/html": [
              " View project at <a href='https://wandb.ai/tokamak01823-new-york-university/gpt2-pruning-optimization' target=\"_blank\">https://wandb.ai/tokamak01823-new-york-university/gpt2-pruning-optimization</a>"
            ]
          },
          "metadata": {}
        },
        {
          "output_type": "display_data",
          "data": {
            "text/plain": [
              "<IPython.core.display.HTML object>"
            ],
            "text/html": [
              " View sweep at <a href='https://wandb.ai/tokamak01823-new-york-university/gpt2-pruning-optimization/sweeps/wd1vpw3g' target=\"_blank\">https://wandb.ai/tokamak01823-new-york-university/gpt2-pruning-optimization/sweeps/wd1vpw3g</a>"
            ]
          },
          "metadata": {}
        },
        {
          "output_type": "display_data",
          "data": {
            "text/plain": [
              "<IPython.core.display.HTML object>"
            ],
            "text/html": [
              " View run at <a href='https://wandb.ai/tokamak01823-new-york-university/gpt2-pruning-optimization/runs/bqli596c' target=\"_blank\">https://wandb.ai/tokamak01823-new-york-university/gpt2-pruning-optimization/runs/bqli596c</a>"
            ]
          },
          "metadata": {}
        },
        {
          "output_type": "stream",
          "name": "stderr",
          "text": [
            "Re-training after pruning: 100%|██████████| 901/901 [03:23<00:00,  4.43it/s]\n"
          ]
        },
        {
          "output_type": "stream",
          "name": "stdout",
          "text": [
            "First test sample text:\n",
            "  Hurricanes are an ever @-@ present threat during the summer and fall season , which puts Galveston in Coastal Windstorm Area . Galveston Island and the Bolivar Peninsula are generally at the greatest risk among the communities near the Galveston Bay . However , though the island and peninsula provide some shielding , the bay shoreline still faces significant danger from storm surge . \n",
            "\n",
            "First test sample tokenized input_ids: tensor([[39419,   389,   281,  1683,  2488,    12,    31,  1944,  2372,  1141,\n",
            "           262,  3931,   290,  2121,  1622,   837,   543,  7584,  5027,  4223,\n",
            "           261,   287, 43513,  3086, 12135,  9498,   764,  5027,  4223,   261,\n",
            "          5451,   290,   262, 10797,   452,   283, 24078,   389,  4143,   379,\n",
            "           262,  6000,  2526,  1871,   262,  5348,  1474,   262,  5027,  4223,\n",
            "           261,  4696,   764,  2102,   837,   996,   262,  7022,   290, 28080,\n",
            "          2148,   617, 43539,   837,   262, 15489, 15191,  1370,   991,  6698,\n",
            "          2383,  3514,   422,  6388, 13853,   764,   220,   198]])\n",
            "Decoded text from tokenized input:  Hurricanes are an ever @-@ present threat during the summer and fall season , which puts Galveston in Coastal Windstorm Area . Galveston Island and the Bolivar Peninsula are generally at the greatest risk among the communities near the Galveston Bay . However , though the island and peninsula provide some shielding , the bay shoreline still faces significant danger from storm surge . \n",
            "\n",
            "Test Perplexity: 2.3046, Test Accuracy: 0.7274\n"
          ]
        },
        {
          "output_type": "display_data",
          "data": {
            "text/plain": [
              "VBox(children=(Label(value='0.014 MB of 0.014 MB uploaded\\r'), FloatProgress(value=1.0, max=1.0)))"
            ],
            "application/vnd.jupyter.widget-view+json": {
              "version_major": 2,
              "version_minor": 0,
              "model_id": "648a39d9e77547ae888641d1abfa83f5"
            }
          },
          "metadata": {}
        },
        {
          "output_type": "display_data",
          "data": {
            "text/plain": [
              "<IPython.core.display.HTML object>"
            ],
            "text/html": [
              "\n",
              "    <style>\n",
              "        .wandb-row {\n",
              "            display: flex;\n",
              "            flex-direction: row;\n",
              "            flex-wrap: wrap;\n",
              "            justify-content: flex-start;\n",
              "            width: 100%;\n",
              "        }\n",
              "        .wandb-col {\n",
              "            display: flex;\n",
              "            flex-direction: column;\n",
              "            flex-basis: 100%;\n",
              "            flex: 1;\n",
              "            padding: 10px;\n",
              "        }\n",
              "    </style>\n",
              "<div class=\"wandb-row\"><div class=\"wandb-col\"><h3>Run history:</h3><br/><table class=\"wandb\"><tr><td>accuracy</td><td>▁</td></tr><tr><td>perplexity</td><td>▁</td></tr><tr><td>train_loss</td><td>▁</td></tr></table><br/></div><div class=\"wandb-col\"><h3>Run summary:</h3><br/><table class=\"wandb\"><tr><td>accuracy</td><td>0.72743</td></tr><tr><td>perplexity</td><td>2.30458</td></tr><tr><td>train_loss</td><td>1.77387</td></tr></table><br/></div></div>"
            ]
          },
          "metadata": {}
        },
        {
          "output_type": "display_data",
          "data": {
            "text/plain": [
              "<IPython.core.display.HTML object>"
            ],
            "text/html": [
              " View run <strong style=\"color:#cdcd00\">cerulean-sweep-49</strong> at: <a href='https://wandb.ai/tokamak01823-new-york-university/gpt2-pruning-optimization/runs/bqli596c' target=\"_blank\">https://wandb.ai/tokamak01823-new-york-university/gpt2-pruning-optimization/runs/bqli596c</a><br/> View project at: <a href='https://wandb.ai/tokamak01823-new-york-university/gpt2-pruning-optimization' target=\"_blank\">https://wandb.ai/tokamak01823-new-york-university/gpt2-pruning-optimization</a><br/>Synced 5 W&B file(s), 0 media file(s), 0 artifact file(s) and 0 other file(s)"
            ]
          },
          "metadata": {}
        },
        {
          "output_type": "display_data",
          "data": {
            "text/plain": [
              "<IPython.core.display.HTML object>"
            ],
            "text/html": [
              "Find logs at: <code>./wandb/run-20241209_192719-bqli596c/logs</code>"
            ]
          },
          "metadata": {}
        },
        {
          "output_type": "stream",
          "name": "stderr",
          "text": [
            "\u001b[34m\u001b[1mwandb\u001b[0m: Agent Starting Run: iqqcas3c with config:\n",
            "\u001b[34m\u001b[1mwandb\u001b[0m: \tfirst_ratio: 0.7\n",
            "\u001b[34m\u001b[1mwandb\u001b[0m: \tlast_ratio: 0\n",
            "\u001b[34m\u001b[1mwandb\u001b[0m: \tmiddle_ratio: 0.9\n"
          ]
        },
        {
          "output_type": "display_data",
          "data": {
            "text/plain": [
              "<IPython.core.display.HTML object>"
            ],
            "text/html": [
              "Tracking run with wandb version 0.18.7"
            ]
          },
          "metadata": {}
        },
        {
          "output_type": "display_data",
          "data": {
            "text/plain": [
              "<IPython.core.display.HTML object>"
            ],
            "text/html": [
              "Run data is saved locally in <code>/content/wandb/run-20241209_193115-iqqcas3c</code>"
            ]
          },
          "metadata": {}
        },
        {
          "output_type": "display_data",
          "data": {
            "text/plain": [
              "<IPython.core.display.HTML object>"
            ],
            "text/html": [
              "Syncing run <strong><a href='https://wandb.ai/tokamak01823-new-york-university/gpt2-pruning-optimization/runs/iqqcas3c' target=\"_blank\">stilted-sweep-50</a></strong> to <a href='https://wandb.ai/tokamak01823-new-york-university/gpt2-pruning-optimization' target=\"_blank\">Weights & Biases</a> (<a href='https://wandb.me/developer-guide' target=\"_blank\">docs</a>)<br/>Sweep page: <a href='https://wandb.ai/tokamak01823-new-york-university/gpt2-pruning-optimization/sweeps/wd1vpw3g' target=\"_blank\">https://wandb.ai/tokamak01823-new-york-university/gpt2-pruning-optimization/sweeps/wd1vpw3g</a>"
            ]
          },
          "metadata": {}
        },
        {
          "output_type": "display_data",
          "data": {
            "text/plain": [
              "<IPython.core.display.HTML object>"
            ],
            "text/html": [
              " View project at <a href='https://wandb.ai/tokamak01823-new-york-university/gpt2-pruning-optimization' target=\"_blank\">https://wandb.ai/tokamak01823-new-york-university/gpt2-pruning-optimization</a>"
            ]
          },
          "metadata": {}
        },
        {
          "output_type": "display_data",
          "data": {
            "text/plain": [
              "<IPython.core.display.HTML object>"
            ],
            "text/html": [
              " View sweep at <a href='https://wandb.ai/tokamak01823-new-york-university/gpt2-pruning-optimization/sweeps/wd1vpw3g' target=\"_blank\">https://wandb.ai/tokamak01823-new-york-university/gpt2-pruning-optimization/sweeps/wd1vpw3g</a>"
            ]
          },
          "metadata": {}
        },
        {
          "output_type": "display_data",
          "data": {
            "text/plain": [
              "<IPython.core.display.HTML object>"
            ],
            "text/html": [
              " View run at <a href='https://wandb.ai/tokamak01823-new-york-university/gpt2-pruning-optimization/runs/iqqcas3c' target=\"_blank\">https://wandb.ai/tokamak01823-new-york-university/gpt2-pruning-optimization/runs/iqqcas3c</a>"
            ]
          },
          "metadata": {}
        },
        {
          "output_type": "stream",
          "name": "stderr",
          "text": [
            "Re-training after pruning: 100%|██████████| 901/901 [03:22<00:00,  4.44it/s]\n"
          ]
        },
        {
          "output_type": "stream",
          "name": "stdout",
          "text": [
            "First test sample text:\n",
            "  Hurricanes are an ever @-@ present threat during the summer and fall season , which puts Galveston in Coastal Windstorm Area . Galveston Island and the Bolivar Peninsula are generally at the greatest risk among the communities near the Galveston Bay . However , though the island and peninsula provide some shielding , the bay shoreline still faces significant danger from storm surge . \n",
            "\n",
            "First test sample tokenized input_ids: tensor([[39419,   389,   281,  1683,  2488,    12,    31,  1944,  2372,  1141,\n",
            "           262,  3931,   290,  2121,  1622,   837,   543,  7584,  5027,  4223,\n",
            "           261,   287, 43513,  3086, 12135,  9498,   764,  5027,  4223,   261,\n",
            "          5451,   290,   262, 10797,   452,   283, 24078,   389,  4143,   379,\n",
            "           262,  6000,  2526,  1871,   262,  5348,  1474,   262,  5027,  4223,\n",
            "           261,  4696,   764,  2102,   837,   996,   262,  7022,   290, 28080,\n",
            "          2148,   617, 43539,   837,   262, 15489, 15191,  1370,   991,  6698,\n",
            "          2383,  3514,   422,  6388, 13853,   764,   220,   198]])\n",
            "Decoded text from tokenized input:  Hurricanes are an ever @-@ present threat during the summer and fall season , which puts Galveston in Coastal Windstorm Area . Galveston Island and the Bolivar Peninsula are generally at the greatest risk among the communities near the Galveston Bay . However , though the island and peninsula provide some shielding , the bay shoreline still faces significant danger from storm surge . \n",
            "\n",
            "Test Perplexity: 1.8061, Test Accuracy: 0.7267\n"
          ]
        },
        {
          "output_type": "display_data",
          "data": {
            "text/plain": [
              "VBox(children=(Label(value='0.014 MB of 0.014 MB uploaded\\r'), FloatProgress(value=1.0, max=1.0)))"
            ],
            "application/vnd.jupyter.widget-view+json": {
              "version_major": 2,
              "version_minor": 0,
              "model_id": "1251ce3e7e144b32adc88dcd275300b7"
            }
          },
          "metadata": {}
        },
        {
          "output_type": "display_data",
          "data": {
            "text/plain": [
              "<IPython.core.display.HTML object>"
            ],
            "text/html": [
              "\n",
              "    <style>\n",
              "        .wandb-row {\n",
              "            display: flex;\n",
              "            flex-direction: row;\n",
              "            flex-wrap: wrap;\n",
              "            justify-content: flex-start;\n",
              "            width: 100%;\n",
              "        }\n",
              "        .wandb-col {\n",
              "            display: flex;\n",
              "            flex-direction: column;\n",
              "            flex-basis: 100%;\n",
              "            flex: 1;\n",
              "            padding: 10px;\n",
              "        }\n",
              "    </style>\n",
              "<div class=\"wandb-row\"><div class=\"wandb-col\"><h3>Run history:</h3><br/><table class=\"wandb\"><tr><td>accuracy</td><td>▁</td></tr><tr><td>perplexity</td><td>▁</td></tr><tr><td>train_loss</td><td>▁</td></tr></table><br/></div><div class=\"wandb-col\"><h3>Run summary:</h3><br/><table class=\"wandb\"><tr><td>accuracy</td><td>0.72672</td></tr><tr><td>perplexity</td><td>1.80609</td></tr><tr><td>train_loss</td><td>1.15838</td></tr></table><br/></div></div>"
            ]
          },
          "metadata": {}
        },
        {
          "output_type": "display_data",
          "data": {
            "text/plain": [
              "<IPython.core.display.HTML object>"
            ],
            "text/html": [
              " View run <strong style=\"color:#cdcd00\">stilted-sweep-50</strong> at: <a href='https://wandb.ai/tokamak01823-new-york-university/gpt2-pruning-optimization/runs/iqqcas3c' target=\"_blank\">https://wandb.ai/tokamak01823-new-york-university/gpt2-pruning-optimization/runs/iqqcas3c</a><br/> View project at: <a href='https://wandb.ai/tokamak01823-new-york-university/gpt2-pruning-optimization' target=\"_blank\">https://wandb.ai/tokamak01823-new-york-university/gpt2-pruning-optimization</a><br/>Synced 5 W&B file(s), 0 media file(s), 0 artifact file(s) and 0 other file(s)"
            ]
          },
          "metadata": {}
        },
        {
          "output_type": "display_data",
          "data": {
            "text/plain": [
              "<IPython.core.display.HTML object>"
            ],
            "text/html": [
              "Find logs at: <code>./wandb/run-20241209_193115-iqqcas3c/logs</code>"
            ]
          },
          "metadata": {}
        },
        {
          "output_type": "stream",
          "name": "stderr",
          "text": [
            "\u001b[34m\u001b[1mwandb\u001b[0m: Agent Starting Run: i53kisf0 with config:\n",
            "\u001b[34m\u001b[1mwandb\u001b[0m: \tfirst_ratio: 0.9\n",
            "\u001b[34m\u001b[1mwandb\u001b[0m: \tlast_ratio: 0.7\n",
            "\u001b[34m\u001b[1mwandb\u001b[0m: \tmiddle_ratio: 0.9\n"
          ]
        },
        {
          "output_type": "display_data",
          "data": {
            "text/plain": [
              "<IPython.core.display.HTML object>"
            ],
            "text/html": [
              "Tracking run with wandb version 0.18.7"
            ]
          },
          "metadata": {}
        },
        {
          "output_type": "display_data",
          "data": {
            "text/plain": [
              "<IPython.core.display.HTML object>"
            ],
            "text/html": [
              "Run data is saved locally in <code>/content/wandb/run-20241209_193515-i53kisf0</code>"
            ]
          },
          "metadata": {}
        },
        {
          "output_type": "display_data",
          "data": {
            "text/plain": [
              "<IPython.core.display.HTML object>"
            ],
            "text/html": [
              "Syncing run <strong><a href='https://wandb.ai/tokamak01823-new-york-university/gpt2-pruning-optimization/runs/i53kisf0' target=\"_blank\">glad-sweep-51</a></strong> to <a href='https://wandb.ai/tokamak01823-new-york-university/gpt2-pruning-optimization' target=\"_blank\">Weights & Biases</a> (<a href='https://wandb.me/developer-guide' target=\"_blank\">docs</a>)<br/>Sweep page: <a href='https://wandb.ai/tokamak01823-new-york-university/gpt2-pruning-optimization/sweeps/wd1vpw3g' target=\"_blank\">https://wandb.ai/tokamak01823-new-york-university/gpt2-pruning-optimization/sweeps/wd1vpw3g</a>"
            ]
          },
          "metadata": {}
        },
        {
          "output_type": "display_data",
          "data": {
            "text/plain": [
              "<IPython.core.display.HTML object>"
            ],
            "text/html": [
              " View project at <a href='https://wandb.ai/tokamak01823-new-york-university/gpt2-pruning-optimization' target=\"_blank\">https://wandb.ai/tokamak01823-new-york-university/gpt2-pruning-optimization</a>"
            ]
          },
          "metadata": {}
        },
        {
          "output_type": "display_data",
          "data": {
            "text/plain": [
              "<IPython.core.display.HTML object>"
            ],
            "text/html": [
              " View sweep at <a href='https://wandb.ai/tokamak01823-new-york-university/gpt2-pruning-optimization/sweeps/wd1vpw3g' target=\"_blank\">https://wandb.ai/tokamak01823-new-york-university/gpt2-pruning-optimization/sweeps/wd1vpw3g</a>"
            ]
          },
          "metadata": {}
        },
        {
          "output_type": "display_data",
          "data": {
            "text/plain": [
              "<IPython.core.display.HTML object>"
            ],
            "text/html": [
              " View run at <a href='https://wandb.ai/tokamak01823-new-york-university/gpt2-pruning-optimization/runs/i53kisf0' target=\"_blank\">https://wandb.ai/tokamak01823-new-york-university/gpt2-pruning-optimization/runs/i53kisf0</a>"
            ]
          },
          "metadata": {}
        },
        {
          "output_type": "stream",
          "name": "stderr",
          "text": [
            "Re-training after pruning: 100%|██████████| 901/901 [03:21<00:00,  4.47it/s]\n"
          ]
        },
        {
          "output_type": "stream",
          "name": "stdout",
          "text": [
            "First test sample text:\n",
            "  Hurricanes are an ever @-@ present threat during the summer and fall season , which puts Galveston in Coastal Windstorm Area . Galveston Island and the Bolivar Peninsula are generally at the greatest risk among the communities near the Galveston Bay . However , though the island and peninsula provide some shielding , the bay shoreline still faces significant danger from storm surge . \n",
            "\n",
            "First test sample tokenized input_ids: tensor([[39419,   389,   281,  1683,  2488,    12,    31,  1944,  2372,  1141,\n",
            "           262,  3931,   290,  2121,  1622,   837,   543,  7584,  5027,  4223,\n",
            "           261,   287, 43513,  3086, 12135,  9498,   764,  5027,  4223,   261,\n",
            "          5451,   290,   262, 10797,   452,   283, 24078,   389,  4143,   379,\n",
            "           262,  6000,  2526,  1871,   262,  5348,  1474,   262,  5027,  4223,\n",
            "           261,  4696,   764,  2102,   837,   996,   262,  7022,   290, 28080,\n",
            "          2148,   617, 43539,   837,   262, 15489, 15191,  1370,   991,  6698,\n",
            "          2383,  3514,   422,  6388, 13853,   764,   220,   198]])\n",
            "Decoded text from tokenized input:  Hurricanes are an ever @-@ present threat during the summer and fall season , which puts Galveston in Coastal Windstorm Area . Galveston Island and the Bolivar Peninsula are generally at the greatest risk among the communities near the Galveston Bay . However , though the island and peninsula provide some shielding , the bay shoreline still faces significant danger from storm surge . \n",
            "\n",
            "Test Perplexity: 3.5578, Test Accuracy: 0.7317\n"
          ]
        },
        {
          "output_type": "display_data",
          "data": {
            "text/plain": [
              "VBox(children=(Label(value='0.014 MB of 0.014 MB uploaded\\r'), FloatProgress(value=1.0, max=1.0)))"
            ],
            "application/vnd.jupyter.widget-view+json": {
              "version_major": 2,
              "version_minor": 0,
              "model_id": "a2ec9089467c436a9a7ec6eab71815df"
            }
          },
          "metadata": {}
        },
        {
          "output_type": "display_data",
          "data": {
            "text/plain": [
              "<IPython.core.display.HTML object>"
            ],
            "text/html": [
              "\n",
              "    <style>\n",
              "        .wandb-row {\n",
              "            display: flex;\n",
              "            flex-direction: row;\n",
              "            flex-wrap: wrap;\n",
              "            justify-content: flex-start;\n",
              "            width: 100%;\n",
              "        }\n",
              "        .wandb-col {\n",
              "            display: flex;\n",
              "            flex-direction: column;\n",
              "            flex-basis: 100%;\n",
              "            flex: 1;\n",
              "            padding: 10px;\n",
              "        }\n",
              "    </style>\n",
              "<div class=\"wandb-row\"><div class=\"wandb-col\"><h3>Run history:</h3><br/><table class=\"wandb\"><tr><td>accuracy</td><td>▁</td></tr><tr><td>perplexity</td><td>▁</td></tr><tr><td>train_loss</td><td>▁</td></tr></table><br/></div><div class=\"wandb-col\"><h3>Run summary:</h3><br/><table class=\"wandb\"><tr><td>accuracy</td><td>0.7317</td></tr><tr><td>perplexity</td><td>3.55781</td></tr><tr><td>train_loss</td><td>2.14224</td></tr></table><br/></div></div>"
            ]
          },
          "metadata": {}
        },
        {
          "output_type": "display_data",
          "data": {
            "text/plain": [
              "<IPython.core.display.HTML object>"
            ],
            "text/html": [
              " View run <strong style=\"color:#cdcd00\">glad-sweep-51</strong> at: <a href='https://wandb.ai/tokamak01823-new-york-university/gpt2-pruning-optimization/runs/i53kisf0' target=\"_blank\">https://wandb.ai/tokamak01823-new-york-university/gpt2-pruning-optimization/runs/i53kisf0</a><br/> View project at: <a href='https://wandb.ai/tokamak01823-new-york-university/gpt2-pruning-optimization' target=\"_blank\">https://wandb.ai/tokamak01823-new-york-university/gpt2-pruning-optimization</a><br/>Synced 5 W&B file(s), 0 media file(s), 0 artifact file(s) and 0 other file(s)"
            ]
          },
          "metadata": {}
        },
        {
          "output_type": "display_data",
          "data": {
            "text/plain": [
              "<IPython.core.display.HTML object>"
            ],
            "text/html": [
              "Find logs at: <code>./wandb/run-20241209_193515-i53kisf0/logs</code>"
            ]
          },
          "metadata": {}
        },
        {
          "output_type": "stream",
          "name": "stderr",
          "text": [
            "\u001b[34m\u001b[1mwandb\u001b[0m: Agent Starting Run: yanqd423 with config:\n",
            "\u001b[34m\u001b[1mwandb\u001b[0m: \tfirst_ratio: 0.3\n",
            "\u001b[34m\u001b[1mwandb\u001b[0m: \tlast_ratio: 0.3\n",
            "\u001b[34m\u001b[1mwandb\u001b[0m: \tmiddle_ratio: 0.3\n"
          ]
        },
        {
          "output_type": "display_data",
          "data": {
            "text/plain": [
              "<IPython.core.display.HTML object>"
            ],
            "text/html": [
              "Tracking run with wandb version 0.18.7"
            ]
          },
          "metadata": {}
        },
        {
          "output_type": "display_data",
          "data": {
            "text/plain": [
              "<IPython.core.display.HTML object>"
            ],
            "text/html": [
              "Run data is saved locally in <code>/content/wandb/run-20241209_193921-yanqd423</code>"
            ]
          },
          "metadata": {}
        },
        {
          "output_type": "display_data",
          "data": {
            "text/plain": [
              "<IPython.core.display.HTML object>"
            ],
            "text/html": [
              "Syncing run <strong><a href='https://wandb.ai/tokamak01823-new-york-university/gpt2-pruning-optimization/runs/yanqd423' target=\"_blank\">sunny-sweep-52</a></strong> to <a href='https://wandb.ai/tokamak01823-new-york-university/gpt2-pruning-optimization' target=\"_blank\">Weights & Biases</a> (<a href='https://wandb.me/developer-guide' target=\"_blank\">docs</a>)<br/>Sweep page: <a href='https://wandb.ai/tokamak01823-new-york-university/gpt2-pruning-optimization/sweeps/wd1vpw3g' target=\"_blank\">https://wandb.ai/tokamak01823-new-york-university/gpt2-pruning-optimization/sweeps/wd1vpw3g</a>"
            ]
          },
          "metadata": {}
        },
        {
          "output_type": "display_data",
          "data": {
            "text/plain": [
              "<IPython.core.display.HTML object>"
            ],
            "text/html": [
              " View project at <a href='https://wandb.ai/tokamak01823-new-york-university/gpt2-pruning-optimization' target=\"_blank\">https://wandb.ai/tokamak01823-new-york-university/gpt2-pruning-optimization</a>"
            ]
          },
          "metadata": {}
        },
        {
          "output_type": "display_data",
          "data": {
            "text/plain": [
              "<IPython.core.display.HTML object>"
            ],
            "text/html": [
              " View sweep at <a href='https://wandb.ai/tokamak01823-new-york-university/gpt2-pruning-optimization/sweeps/wd1vpw3g' target=\"_blank\">https://wandb.ai/tokamak01823-new-york-university/gpt2-pruning-optimization/sweeps/wd1vpw3g</a>"
            ]
          },
          "metadata": {}
        },
        {
          "output_type": "display_data",
          "data": {
            "text/plain": [
              "<IPython.core.display.HTML object>"
            ],
            "text/html": [
              " View run at <a href='https://wandb.ai/tokamak01823-new-york-university/gpt2-pruning-optimization/runs/yanqd423' target=\"_blank\">https://wandb.ai/tokamak01823-new-york-university/gpt2-pruning-optimization/runs/yanqd423</a>"
            ]
          },
          "metadata": {}
        },
        {
          "output_type": "stream",
          "name": "stderr",
          "text": [
            "Re-training after pruning:  50%|█████     | 454/901 [01:43<01:38,  4.54it/s]"
          ]
        }
      ],
      "source": [
        "import os\n",
        "import pickle\n",
        "import wandb\n",
        "from transformers import AdamW, GPT2LMHeadModel, GPT2Tokenizer\n",
        "from torch.utils.data import DataLoader, random_split\n",
        "from tqdm import tqdm\n",
        "import torch\n",
        "import torch.nn.utils.prune as prune\n",
        "from datasets import load_dataset\n",
        "import numpy as np\n",
        "\n",
        "# Path to save the sampled dataset\n",
        "dataset_path = \"/content/drive/MyDrive/HPML/Course_Project/sampled_dataset.pkl\"\n",
        "\n",
        "# Load or create the dataset\n",
        "if os.path.exists(dataset_path):\n",
        "    print(\"Loading existing sampled dataset...\")\n",
        "    with open(dataset_path, \"rb\") as f:\n",
        "        full_subset = pickle.load(f)\n",
        "else:\n",
        "    print(\"Creating and saving a new sampled dataset...\")\n",
        "    dataset = load_dataset(\"wikitext\", \"wikitext-103-raw-v1\", split=\"train\")\n",
        "    subset_ratio = 0.0025\n",
        "    subset_size = int(len(dataset) * subset_ratio)\n",
        "    full_subset = [dataset[i] for i in range(subset_size)]\n",
        "\n",
        "    # Save the sampled dataset\n",
        "    with open(dataset_path, \"wb\") as f:\n",
        "        pickle.dump(full_subset, f)\n",
        "\n",
        "from torch.utils.data import Dataset\n",
        "class CustomDataset(Dataset):\n",
        "    def __init__(self, data):\n",
        "        self.data = data\n",
        "\n",
        "    def __len__(self):\n",
        "        return len(self.data)\n",
        "\n",
        "    def __getitem__(self, idx):\n",
        "        return self.data[idx]\n",
        "\n",
        "full_subset = CustomDataset(full_subset)\n",
        "\n",
        "# Split into train and test sets\n",
        "train_size = int(0.8 * len(full_subset))\n",
        "test_size = len(full_subset) - train_size\n",
        "train_data, test_data = random_split(full_subset, [train_size, test_size])\n",
        "\n",
        "# Load the tokenizer\n",
        "tokenizer = GPT2Tokenizer.from_pretrained(\"gpt2\")\n",
        "tokenizer.pad_token = tokenizer.eos_token\n",
        "\n",
        "# Path to save the fine-tuned model\n",
        "fine_tuned_model_path = \"/content/drive/MyDrive/HPML/Course_Project/fine_tuned_model\"\n",
        "\n",
        "# Fine-tune the original model if not already saved\n",
        "if not os.path.exists(fine_tuned_model_path):\n",
        "    print(\"Fine-tuning original model...\")\n",
        "    model = GPT2LMHeadModel.from_pretrained(\"gpt2\")\n",
        "    device = torch.device(\"cuda\" if torch.cuda.is_available() else \"cpu\")\n",
        "    model = model.to(device)\n",
        "    model.train()\n",
        "\n",
        "    train_dataloader = DataLoader(train_data, batch_size=4, shuffle=True)\n",
        "    optimizer = AdamW(model.parameters(), lr=5e-5)\n",
        "\n",
        "    for epoch in range(5):  # Fine-tune for a few epochs\n",
        "        epoch_loss = 0\n",
        "        for batch in tqdm(train_dataloader):\n",
        "            inputs = tokenizer(batch['text'], padding=True, truncation=True, return_tensors=\"pt\")\n",
        "            input_ids = inputs['input_ids']\n",
        "            attention_mask = inputs['attention_mask']\n",
        "\n",
        "            if input_ids.size(0) == 0 or input_ids.size(1) == 0:\n",
        "                continue\n",
        "\n",
        "            input_ids = input_ids.to(device)\n",
        "            attention_mask = attention_mask.to(device)\n",
        "\n",
        "            outputs = model(input_ids=input_ids, attention_mask=attention_mask, labels=input_ids)\n",
        "            loss = outputs.loss\n",
        "\n",
        "            optimizer.zero_grad()\n",
        "            loss.backward()\n",
        "            optimizer.step()\n",
        "\n",
        "            epoch_loss += loss.item()\n",
        "        print(f\"Epoch {epoch + 1}: Loss {epoch_loss / len(train_dataloader)}\")\n",
        "\n",
        "    model.save_pretrained(fine_tuned_model_path)\n",
        "    tokenizer.save_pretrained(fine_tuned_model_path)\n",
        "else:\n",
        "    print(\"Fine-tuned model already exists. Skipping fine-tuning...\")\n",
        "\n",
        "# Define the W&B sweep configuration\n",
        "sweep_config = {\n",
        "    \"method\": \"random\",\n",
        "    \"metric\": {\n",
        "        \"name\": \"perplexity\",\n",
        "        \"goal\": \"minimize\"\n",
        "    },\n",
        "    \"parameters\": {\n",
        "        \"first_ratio\": {\"values\": [0.0, 0.1, 0.3, 0.5, 0.7, 0.9]},\n",
        "        \"middle_ratio\": {\"values\": [0.0, 0.1, 0.3, 0.5, 0.7, 0.9]},\n",
        "        \"last_ratio\": {\"values\": [0.0, 0.1, 0.3, 0.5, 0.7, 0.9]},\n",
        "    }\n",
        "}\n",
        "\n",
        "def prune_mlp_layers(model, layer_count, ratios):\n",
        "    first_end = layer_count // 3\n",
        "    middle_start = first_end\n",
        "    middle_end = 2 * layer_count // 3\n",
        "    last_start = middle_end\n",
        "\n",
        "    # Prune the first third of the layers\n",
        "    for i in range(0, first_end):\n",
        "        if ratios[0] > 0:\n",
        "            prune.l1_unstructured(model.transformer.h[i].mlp.c_fc, name=\"weight\", amount=ratios[0])\n",
        "            prune.l1_unstructured(model.transformer.h[i].mlp.c_proj, name=\"weight\", amount=ratios[0])\n",
        "\n",
        "    # Prune the middle third of the layers\n",
        "    for i in range(middle_start, middle_end):\n",
        "        if ratios[1] > 0:\n",
        "            prune.l1_unstructured(model.transformer.h[i].mlp.c_fc, name=\"weight\", amount=ratios[1])\n",
        "            prune.l1_unstructured(model.transformer.h[i].mlp.c_proj, name=\"weight\", amount=ratios[1])\n",
        "\n",
        "    # Prune the last third of the layers\n",
        "    for i in range(last_start, layer_count):\n",
        "        if ratios[2] > 0:\n",
        "            prune.l1_unstructured(model.transformer.h[i].mlp.c_fc, name=\"weight\", amount=ratios[2])\n",
        "            prune.l1_unstructured(model.transformer.h[i].mlp.c_proj, name=\"weight\", amount=ratios[2])\n",
        "\n",
        "    # Remove pruning masks to finalize pruning\n",
        "    for name, module in model.named_modules():\n",
        "        if isinstance(module, torch.nn.Linear):\n",
        "            try:\n",
        "                prune.remove(module, 'weight')\n",
        "            except ValueError:\n",
        "                pass\n",
        "\n",
        "def evaluate_model(model, tokenizer, dataset, device):\n",
        "    model.eval()\n",
        "    dataloader = DataLoader(dataset, batch_size=8, shuffle=False)\n",
        "    total_loss = 0.0\n",
        "    total_tokens = 0\n",
        "    total_correct = 0\n",
        "\n",
        "    with torch.no_grad():\n",
        "        for batch in dataloader:\n",
        "            inputs = tokenizer(batch['text'], padding=True, truncation=True, return_tensors=\"pt\")\n",
        "            input_ids = inputs['input_ids'].to(device)\n",
        "            attention_mask = inputs['attention_mask'].to(device)\n",
        "\n",
        "            if input_ids.size(0) == 0 or input_ids.size(1) == 0:\n",
        "                continue\n",
        "\n",
        "            outputs = model(input_ids=input_ids, attention_mask=attention_mask, labels=input_ids)\n",
        "            loss = outputs.loss\n",
        "            total_loss += loss.item() * input_ids.numel()\n",
        "\n",
        "            predictions = torch.argmax(outputs.logits, dim=-1)\n",
        "            correct = (predictions == input_ids).float().sum().item()\n",
        "            total_correct += correct\n",
        "            total_tokens += input_ids.numel()\n",
        "\n",
        "    perplexity = np.exp(total_loss / total_tokens) if total_tokens > 0 else float('inf')\n",
        "    accuracy = total_correct / total_tokens if total_tokens > 0 else 0\n",
        "    return perplexity, accuracy\n",
        "\n",
        "def sweep_function():\n",
        "    wandb.init()\n",
        "    config = wandb.config\n",
        "\n",
        "    # Load the fine-tuned model\n",
        "    model = GPT2LMHeadModel.from_pretrained(fine_tuned_model_path)\n",
        "    device = torch.device(\"cuda\" if torch.cuda.is_available() else \"cpu\")\n",
        "    model = model.to(device)\n",
        "\n",
        "    # Prune the MLP layers\n",
        "    layer_count = len(model.transformer.h)\n",
        "    prune_mlp_layers(model, layer_count, [config.first_ratio, config.middle_ratio, config.last_ratio])\n",
        "\n",
        "    # Fine-tune the pruned model for a short time\n",
        "    model.train()\n",
        "    train_dataloader = DataLoader(train_data, batch_size=4, shuffle=True)\n",
        "    optimizer = AdamW(model.parameters(), lr=5e-5)\n",
        "\n",
        "    for epoch in range(1):\n",
        "        epoch_loss = 0\n",
        "        for batch in tqdm(train_dataloader, desc=\"Re-training after pruning\"):\n",
        "            inputs = tokenizer(batch['text'], padding=True, truncation=True, return_tensors=\"pt\")\n",
        "            input_ids = inputs['input_ids']\n",
        "            attention_mask = inputs['attention_mask']\n",
        "\n",
        "            if input_ids.size(0) == 0 or input_ids.size(1) == 0:\n",
        "                continue\n",
        "\n",
        "            input_ids = input_ids.to(device)\n",
        "            attention_mask = attention_mask.to(device)\n",
        "\n",
        "            outputs = model(input_ids=input_ids, attention_mask=attention_mask, labels=input_ids)\n",
        "            loss = outputs.loss\n",
        "\n",
        "            optimizer.zero_grad()\n",
        "            loss.backward()\n",
        "            optimizer.step()\n",
        "\n",
        "            epoch_loss += loss.item()\n",
        "        wandb.log({\"train_loss\": epoch_loss / len(train_dataloader)})\n",
        "\n",
        "    if len(test_data) > 0:\n",
        "        first_test_sample = test_data[0]['text']\n",
        "        print(\"First test sample text:\\n\", first_test_sample)\n",
        "        # Tokenize it\n",
        "        sample_inputs = tokenizer(first_test_sample, return_tensors=\"pt\")\n",
        "        print(\"First test sample tokenized input_ids:\", sample_inputs['input_ids'])\n",
        "        print(\"Decoded text from tokenized input:\", tokenizer.decode(sample_inputs['input_ids'][0]))\n",
        "\n",
        "    # Evaluate on test data\n",
        "    perplexity, accuracy = evaluate_model(model, tokenizer, test_data, device)\n",
        "    wandb.log({\"perplexity\": perplexity, \"accuracy\": accuracy})\n",
        "    print(f\"Test Perplexity: {perplexity:.4f}, Test Accuracy: {accuracy:.4f}\")\n",
        "\n",
        "\n",
        "# Initialize and run the sweep\n",
        "sweep_id = wandb.sweep(sweep_config, project=\"gpt2-pruning-optimization\")\n",
        "wandb.agent(sweep_id, function=sweep_function)\n"
      ]
    },
    {
      "cell_type": "code",
      "source": [
        "import os\n",
        "import pickle\n",
        "from transformers import AdamW, GPT2LMHeadModel, GPT2Tokenizer\n",
        "from torch.utils.data import DataLoader, random_split\n",
        "from tqdm import tqdm\n",
        "import torch\n",
        "import torch.nn.utils.prune as prune\n",
        "from datasets import load_dataset\n",
        "import numpy as np\n",
        "from torch.utils.data import Dataset\n",
        "\n",
        "# Constants\n",
        "FIXED_FIRST_RATIO = 0.1\n",
        "\n",
        "# Path to save the sampled dataset\n",
        "dataset_path = \"/content/drive/MyDrive/HPML/Course_Project/sampled_dataset.pkl\"\n",
        "\n",
        "class CustomDataset(Dataset):\n",
        "    def __init__(self, data):\n",
        "        self.data = data\n",
        "\n",
        "    def __len__(self):\n",
        "        return len(self.data)\n",
        "\n",
        "    def __getitem__(self, idx):\n",
        "        return self.data[idx]\n",
        "\n",
        "def evaluate_model(model, tokenizer, dataset, device):\n",
        "    model.eval()\n",
        "    dataloader = DataLoader(dataset, batch_size=8, shuffle=False)\n",
        "    total_loss = 0.0\n",
        "    total_tokens = 0\n",
        "\n",
        "    with torch.no_grad():\n",
        "        for batch in dataloader:\n",
        "            inputs = tokenizer(batch['text'], padding=True, truncation=True, return_tensors=\"pt\")\n",
        "            input_ids = inputs['input_ids'].to(device)\n",
        "            attention_mask = inputs['attention_mask'].to(device)\n",
        "\n",
        "            if input_ids.size(0) == 0 or input_ids.size(1) == 0:\n",
        "                continue\n",
        "\n",
        "            outputs = model(input_ids=input_ids, attention_mask=attention_mask, labels=input_ids)\n",
        "            loss = outputs.loss\n",
        "            total_loss += loss.item() * input_ids.numel()\n",
        "            total_tokens += input_ids.numel()\n",
        "\n",
        "    perplexity = np.exp(total_loss / total_tokens) if total_tokens > 0 else float('inf')\n",
        "    return perplexity\n",
        "\n",
        "def prune_mlp_layers(model, layer_count, ratios):\n",
        "    first_end = layer_count // 3\n",
        "    middle_start = first_end\n",
        "    middle_end = 2 * layer_count // 3\n",
        "    last_start = middle_end\n",
        "\n",
        "    for i in range(0, first_end):\n",
        "        if ratios[0] > 0:\n",
        "            prune.l1_unstructured(model.transformer.h[i].mlp.c_fc, name=\"weight\", amount=ratios[0])\n",
        "            prune.l1_unstructured(model.transformer.h[i].mlp.c_proj, name=\"weight\", amount=ratios[0])\n",
        "\n",
        "    for i in range(middle_start, middle_end):\n",
        "        if ratios[1] > 0:\n",
        "            prune.l1_unstructured(model.transformer.h[i].mlp.c_fc, name=\"weight\", amount=ratios[1])\n",
        "            prune.l1_unstructured(model.transformer.h[i].mlp.c_proj, name=\"weight\", amount=ratios[1])\n",
        "\n",
        "    for i in range(last_start, layer_count):\n",
        "        if ratios[2] > 0:\n",
        "            prune.l1_unstructured(model.transformer.h[i].mlp.c_fc, name=\"weight\", amount=ratios[2])\n",
        "            prune.l1_unstructured(model.transformer.h[i].mlp.c_proj, name=\"weight\", amount=ratios[2])\n",
        "\n",
        "    for name, module in model.named_modules():\n",
        "        if isinstance(module, torch.nn.Linear):\n",
        "            try:\n",
        "                prune.remove(module, 'weight')\n",
        "            except ValueError:\n",
        "                pass\n",
        "\n",
        "def fine_tune_model(model, train_data, tokenizer, device, epochs=3):\n",
        "    model.train()\n",
        "    dataloader = DataLoader(train_data, batch_size=4, shuffle=True)\n",
        "    optimizer = AdamW(model.parameters(), lr=5e-5)\n",
        "\n",
        "    for epoch in range(epochs):\n",
        "        epoch_loss = 0\n",
        "        for batch in tqdm(dataloader, desc=f\"Fine-tuning Epoch {epoch + 1}/{epochs}\"):\n",
        "            inputs = tokenizer(batch['text'], padding=True, truncation=True, return_tensors=\"pt\")\n",
        "            input_ids = inputs['input_ids']\n",
        "            attention_mask = inputs['attention_mask']\n",
        "\n",
        "            if input_ids.size(0) == 0 or input_ids.size(1) == 0:\n",
        "                continue\n",
        "\n",
        "            input_ids = input_ids.to(device)\n",
        "            attention_mask = attention_mask.to(device)\n",
        "\n",
        "            outputs = model(input_ids=input_ids, attention_mask=attention_mask, labels=input_ids)\n",
        "            loss = outputs.loss\n",
        "\n",
        "            optimizer.zero_grad()\n",
        "            loss.backward()\n",
        "            optimizer.step()\n",
        "\n",
        "            epoch_loss += loss.item()\n",
        "        print(f\"Epoch {epoch + 1}/{epochs} Loss: {epoch_loss / len(dataloader):.4f}\")\n",
        "\n",
        "def test_ratios(ratio_combinations, num_trials):\n",
        "    results = {}\n",
        "\n",
        "    for ratios in ratio_combinations:\n",
        "        print(f\"Testing ratios: {ratios}\")\n",
        "        perplexities = []\n",
        "\n",
        "        for trial in range(num_trials):\n",
        "            print(f\"Trial {trial + 1} for ratios {ratios}\")\n",
        "\n",
        "            # Load the fine-tuned model\n",
        "            model = GPT2LMHeadModel.from_pretrained(fine_tuned_model_path)\n",
        "            device = torch.device(\"cuda\" if torch.cuda.is_available() else \"cpu\")\n",
        "            model = model.to(device)\n",
        "\n",
        "            # Prune the MLP layers\n",
        "            layer_count = len(model.transformer.h)\n",
        "            prune_mlp_layers(model, layer_count, ratios)\n",
        "\n",
        "            # Fine-tune the model\n",
        "            fine_tune_model(model, train_data, tokenizer, device, epochs=3)\n",
        "\n",
        "            # Evaluate on test data\n",
        "            perplexity = evaluate_model(model, tokenizer, test_data, device)\n",
        "            perplexities.append(perplexity)\n",
        "\n",
        "        # Calculate average perplexity\n",
        "        avg_perplexity = sum(perplexities) / len(perplexities)\n",
        "        results[tuple(ratios)] = avg_perplexity\n",
        "        print(f\"Average perplexity for ratios {ratios}: {avg_perplexity:.4f}\")\n",
        "\n",
        "    return results\n",
        "\n",
        "# Main Execution\n",
        "if __name__ == \"__main__\":\n",
        "    # Define ratio combinations\n",
        "    ratio_combinations = [\n",
        "        [0.1, 0.2, 0.3],\n",
        "        [0.1, 0.18, 0.32],\n",
        "        [0.1, 0.3, 0.5],\n",
        "        [0.1, 0.237, 0.563]\n",
        "    ]\n",
        "\n",
        "    # Number of trials per combination\n",
        "    num_trials = 3\n",
        "\n",
        "    # Load tokenizer\n",
        "    tokenizer = GPT2Tokenizer.from_pretrained(\"gpt2\")\n",
        "    tokenizer.pad_token = tokenizer.eos_token\n",
        "\n",
        "    # Load dataset\n",
        "    if os.path.exists(dataset_path):\n",
        "        print(\"Loading existing sampled dataset...\")\n",
        "        with open(dataset_path, \"rb\") as f:\n",
        "            full_subset = pickle.load(f)\n",
        "    else:\n",
        "        print(\"Creating and saving a new sampled dataset...\")\n",
        "        dataset = load_dataset(\"wikitext\", \"wikitext-103-raw-v1\", split=\"train\")\n",
        "        subset_ratio = 0.0025\n",
        "        subset_size = int(len(dataset) * subset_ratio)\n",
        "        full_subset = [dataset[i] for i in range(subset_size)]\n",
        "\n",
        "        # Save the sampled dataset\n",
        "        with open(dataset_path, \"wb\") as f:\n",
        "            pickle.dump(full_subset, f)\n",
        "\n",
        "    full_subset = CustomDataset(full_subset)\n",
        "\n",
        "    # Split into train and test sets\n",
        "    train_size = int(0.8 * len(full_subset))\n",
        "    test_size = len(full_subset) - train_size\n",
        "    train_data, test_data = random_split(full_subset, [train_size, test_size])\n",
        "\n",
        "    # Fine-tuned model path\n",
        "    fine_tuned_model_path = \"/content/drive/MyDrive/HPML/Course_Project/fine_tuned_model\"\n",
        "\n",
        "    # Test ratio combinations\n",
        "    results = test_ratios(ratio_combinations, num_trials)\n",
        "\n",
        "    # Print final results\n",
        "    print(\"\\nFinal Results:\")\n",
        "    for ratios, avg_perplexity in results.items():\n",
        "        print(f\"Ratios {ratios}: Average Perplexity = {avg_perplexity:.4f}\")\n"
      ],
      "metadata": {
        "colab": {
          "base_uri": "https://localhost:8080/"
        },
        "id": "1Tj3MOCRae8X",
        "outputId": "c622b39e-412e-46bf-eb5a-a72764f77aed"
      },
      "execution_count": 5,
      "outputs": [
        {
          "output_type": "stream",
          "name": "stdout",
          "text": [
            "Loading existing sampled dataset...\n",
            "Testing ratios: [0.1, 0.2, 0.3]\n",
            "Trial 1 for ratios [0.1, 0.2, 0.3]\n"
          ]
        },
        {
          "output_type": "stream",
          "name": "stderr",
          "text": [
            "/usr/local/lib/python3.10/dist-packages/transformers/optimization.py:591: FutureWarning: This implementation of AdamW is deprecated and will be removed in a future version. Use the PyTorch implementation torch.optim.AdamW instead, or set `no_deprecation_warning=True` to disable this warning\n",
            "  warnings.warn(\n",
            "Fine-tuning Epoch 1/3: 100%|██████████| 901/901 [03:12<00:00,  4.68it/s]\n"
          ]
        },
        {
          "output_type": "stream",
          "name": "stdout",
          "text": [
            "Epoch 1/3 Loss: 0.2044\n"
          ]
        },
        {
          "output_type": "stream",
          "name": "stderr",
          "text": [
            "Fine-tuning Epoch 2/3: 100%|██████████| 901/901 [03:20<00:00,  4.50it/s]\n"
          ]
        },
        {
          "output_type": "stream",
          "name": "stdout",
          "text": [
            "Epoch 2/3 Loss: 0.1742\n"
          ]
        },
        {
          "output_type": "stream",
          "name": "stderr",
          "text": [
            "Fine-tuning Epoch 3/3: 100%|██████████| 901/901 [03:20<00:00,  4.49it/s]\n"
          ]
        },
        {
          "output_type": "stream",
          "name": "stdout",
          "text": [
            "Epoch 3/3 Loss: 0.1623\n",
            "Trial 2 for ratios [0.1, 0.2, 0.3]\n"
          ]
        },
        {
          "output_type": "stream",
          "name": "stderr",
          "text": [
            "Fine-tuning Epoch 1/3: 100%|██████████| 901/901 [03:24<00:00,  4.41it/s]\n"
          ]
        },
        {
          "output_type": "stream",
          "name": "stdout",
          "text": [
            "Epoch 1/3 Loss: 0.2048\n"
          ]
        },
        {
          "output_type": "stream",
          "name": "stderr",
          "text": [
            "Fine-tuning Epoch 2/3: 100%|██████████| 901/901 [03:22<00:00,  4.46it/s]\n"
          ]
        },
        {
          "output_type": "stream",
          "name": "stdout",
          "text": [
            "Epoch 2/3 Loss: 0.1760\n"
          ]
        },
        {
          "output_type": "stream",
          "name": "stderr",
          "text": [
            "Fine-tuning Epoch 3/3: 100%|██████████| 901/901 [03:22<00:00,  4.46it/s]\n"
          ]
        },
        {
          "output_type": "stream",
          "name": "stdout",
          "text": [
            "Epoch 3/3 Loss: 0.1589\n",
            "Trial 3 for ratios [0.1, 0.2, 0.3]\n"
          ]
        },
        {
          "output_type": "stream",
          "name": "stderr",
          "text": [
            "Fine-tuning Epoch 1/3: 100%|██████████| 901/901 [03:22<00:00,  4.45it/s]\n"
          ]
        },
        {
          "output_type": "stream",
          "name": "stdout",
          "text": [
            "Epoch 1/3 Loss: 0.2036\n"
          ]
        },
        {
          "output_type": "stream",
          "name": "stderr",
          "text": [
            "Fine-tuning Epoch 2/3: 100%|██████████| 901/901 [03:22<00:00,  4.45it/s]\n"
          ]
        },
        {
          "output_type": "stream",
          "name": "stdout",
          "text": [
            "Epoch 2/3 Loss: 0.1738\n"
          ]
        },
        {
          "output_type": "stream",
          "name": "stderr",
          "text": [
            "Fine-tuning Epoch 3/3: 100%|██████████| 901/901 [03:21<00:00,  4.48it/s]\n"
          ]
        },
        {
          "output_type": "stream",
          "name": "stdout",
          "text": [
            "Epoch 3/3 Loss: 0.1607\n",
            "Average perplexity for ratios [0.1, 0.2, 0.3]: 1.0972\n",
            "Testing ratios: [0.1, 0.18, 0.32]\n",
            "Trial 1 for ratios [0.1, 0.18, 0.32]\n"
          ]
        },
        {
          "output_type": "stream",
          "name": "stderr",
          "text": [
            "Fine-tuning Epoch 1/3: 100%|██████████| 901/901 [03:20<00:00,  4.49it/s]\n"
          ]
        },
        {
          "output_type": "stream",
          "name": "stdout",
          "text": [
            "Epoch 1/3 Loss: 0.2070\n"
          ]
        },
        {
          "output_type": "stream",
          "name": "stderr",
          "text": [
            "Fine-tuning Epoch 2/3: 100%|██████████| 901/901 [03:19<00:00,  4.52it/s]\n"
          ]
        },
        {
          "output_type": "stream",
          "name": "stdout",
          "text": [
            "Epoch 2/3 Loss: 0.1795\n"
          ]
        },
        {
          "output_type": "stream",
          "name": "stderr",
          "text": [
            "Fine-tuning Epoch 3/3: 100%|██████████| 901/901 [03:19<00:00,  4.52it/s]\n"
          ]
        },
        {
          "output_type": "stream",
          "name": "stdout",
          "text": [
            "Epoch 3/3 Loss: 0.1667\n",
            "Trial 2 for ratios [0.1, 0.18, 0.32]\n"
          ]
        },
        {
          "output_type": "stream",
          "name": "stderr",
          "text": [
            "Fine-tuning Epoch 1/3: 100%|██████████| 901/901 [03:23<00:00,  4.43it/s]\n"
          ]
        },
        {
          "output_type": "stream",
          "name": "stdout",
          "text": [
            "Epoch 1/3 Loss: 0.2056\n"
          ]
        },
        {
          "output_type": "stream",
          "name": "stderr",
          "text": [
            "Fine-tuning Epoch 2/3: 100%|██████████| 901/901 [03:23<00:00,  4.44it/s]\n"
          ]
        },
        {
          "output_type": "stream",
          "name": "stdout",
          "text": [
            "Epoch 2/3 Loss: 0.1805\n"
          ]
        },
        {
          "output_type": "stream",
          "name": "stderr",
          "text": [
            "Fine-tuning Epoch 3/3: 100%|██████████| 901/901 [03:23<00:00,  4.43it/s]\n"
          ]
        },
        {
          "output_type": "stream",
          "name": "stdout",
          "text": [
            "Epoch 3/3 Loss: 0.1576\n",
            "Trial 3 for ratios [0.1, 0.18, 0.32]\n"
          ]
        },
        {
          "output_type": "stream",
          "name": "stderr",
          "text": [
            "Fine-tuning Epoch 1/3: 100%|██████████| 901/901 [03:22<00:00,  4.45it/s]\n"
          ]
        },
        {
          "output_type": "stream",
          "name": "stdout",
          "text": [
            "Epoch 1/3 Loss: 0.2033\n"
          ]
        },
        {
          "output_type": "stream",
          "name": "stderr",
          "text": [
            "Fine-tuning Epoch 2/3: 100%|██████████| 901/901 [03:20<00:00,  4.49it/s]\n"
          ]
        },
        {
          "output_type": "stream",
          "name": "stdout",
          "text": [
            "Epoch 2/3 Loss: 0.1784\n"
          ]
        },
        {
          "output_type": "stream",
          "name": "stderr",
          "text": [
            "Fine-tuning Epoch 3/3: 100%|██████████| 901/901 [03:23<00:00,  4.44it/s]\n"
          ]
        },
        {
          "output_type": "stream",
          "name": "stdout",
          "text": [
            "Epoch 3/3 Loss: 0.1577\n",
            "Average perplexity for ratios [0.1, 0.18, 0.32]: 1.0983\n",
            "Testing ratios: [0.1, 0.3, 0.5]\n",
            "Trial 1 for ratios [0.1, 0.3, 0.5]\n"
          ]
        },
        {
          "output_type": "stream",
          "name": "stderr",
          "text": [
            "Fine-tuning Epoch 1/3: 100%|██████████| 901/901 [03:21<00:00,  4.46it/s]\n"
          ]
        },
        {
          "output_type": "stream",
          "name": "stdout",
          "text": [
            "Epoch 1/3 Loss: 0.3005\n"
          ]
        },
        {
          "output_type": "stream",
          "name": "stderr",
          "text": [
            "Fine-tuning Epoch 2/3: 100%|██████████| 901/901 [03:21<00:00,  4.46it/s]\n"
          ]
        },
        {
          "output_type": "stream",
          "name": "stdout",
          "text": [
            "Epoch 2/3 Loss: 0.2381\n"
          ]
        },
        {
          "output_type": "stream",
          "name": "stderr",
          "text": [
            "Fine-tuning Epoch 3/3: 100%|██████████| 901/901 [03:20<00:00,  4.49it/s]\n"
          ]
        },
        {
          "output_type": "stream",
          "name": "stdout",
          "text": [
            "Epoch 3/3 Loss: 0.2096\n",
            "Trial 2 for ratios [0.1, 0.3, 0.5]\n"
          ]
        },
        {
          "output_type": "stream",
          "name": "stderr",
          "text": [
            "Fine-tuning Epoch 1/3: 100%|██████████| 901/901 [03:24<00:00,  4.40it/s]\n"
          ]
        },
        {
          "output_type": "stream",
          "name": "stdout",
          "text": [
            "Epoch 1/3 Loss: 0.2960\n"
          ]
        },
        {
          "output_type": "stream",
          "name": "stderr",
          "text": [
            "Fine-tuning Epoch 2/3: 100%|██████████| 901/901 [03:20<00:00,  4.50it/s]\n"
          ]
        },
        {
          "output_type": "stream",
          "name": "stdout",
          "text": [
            "Epoch 2/3 Loss: 0.2401\n"
          ]
        },
        {
          "output_type": "stream",
          "name": "stderr",
          "text": [
            "Fine-tuning Epoch 3/3: 100%|██████████| 901/901 [03:22<00:00,  4.46it/s]\n"
          ]
        },
        {
          "output_type": "stream",
          "name": "stdout",
          "text": [
            "Epoch 3/3 Loss: 0.2084\n",
            "Trial 3 for ratios [0.1, 0.3, 0.5]\n"
          ]
        },
        {
          "output_type": "stream",
          "name": "stderr",
          "text": [
            "Fine-tuning Epoch 1/3: 100%|██████████| 901/901 [03:22<00:00,  4.44it/s]\n"
          ]
        },
        {
          "output_type": "stream",
          "name": "stdout",
          "text": [
            "Epoch 1/3 Loss: 0.2987\n"
          ]
        },
        {
          "output_type": "stream",
          "name": "stderr",
          "text": [
            "Fine-tuning Epoch 2/3: 100%|██████████| 901/901 [03:20<00:00,  4.50it/s]\n"
          ]
        },
        {
          "output_type": "stream",
          "name": "stdout",
          "text": [
            "Epoch 2/3 Loss: 0.2354\n"
          ]
        },
        {
          "output_type": "stream",
          "name": "stderr",
          "text": [
            "Fine-tuning Epoch 3/3: 100%|██████████| 901/901 [03:21<00:00,  4.47it/s]\n"
          ]
        },
        {
          "output_type": "stream",
          "name": "stdout",
          "text": [
            "Epoch 3/3 Loss: 0.2052\n",
            "Average perplexity for ratios [0.1, 0.3, 0.5]: 1.1427\n",
            "Testing ratios: [0.1, 0.237, 0.563]\n",
            "Trial 1 for ratios [0.1, 0.237, 0.563]\n"
          ]
        },
        {
          "output_type": "stream",
          "name": "stderr",
          "text": [
            "Fine-tuning Epoch 1/3: 100%|██████████| 901/901 [03:19<00:00,  4.52it/s]\n"
          ]
        },
        {
          "output_type": "stream",
          "name": "stdout",
          "text": [
            "Epoch 1/3 Loss: 0.3441\n"
          ]
        },
        {
          "output_type": "stream",
          "name": "stderr",
          "text": [
            "Fine-tuning Epoch 2/3: 100%|██████████| 901/901 [03:22<00:00,  4.46it/s]\n"
          ]
        },
        {
          "output_type": "stream",
          "name": "stdout",
          "text": [
            "Epoch 2/3 Loss: 0.2638\n"
          ]
        },
        {
          "output_type": "stream",
          "name": "stderr",
          "text": [
            "Fine-tuning Epoch 3/3: 100%|██████████| 901/901 [03:19<00:00,  4.51it/s]\n"
          ]
        },
        {
          "output_type": "stream",
          "name": "stdout",
          "text": [
            "Epoch 3/3 Loss: 0.2328\n",
            "Trial 2 for ratios [0.1, 0.237, 0.563]\n"
          ]
        },
        {
          "output_type": "stream",
          "name": "stderr",
          "text": [
            "Fine-tuning Epoch 1/3: 100%|██████████| 901/901 [03:21<00:00,  4.46it/s]\n"
          ]
        },
        {
          "output_type": "stream",
          "name": "stdout",
          "text": [
            "Epoch 1/3 Loss: 0.3411\n"
          ]
        },
        {
          "output_type": "stream",
          "name": "stderr",
          "text": [
            "Fine-tuning Epoch 2/3: 100%|██████████| 901/901 [03:24<00:00,  4.41it/s]\n"
          ]
        },
        {
          "output_type": "stream",
          "name": "stdout",
          "text": [
            "Epoch 2/3 Loss: 0.2630\n"
          ]
        },
        {
          "output_type": "stream",
          "name": "stderr",
          "text": [
            "Fine-tuning Epoch 3/3: 100%|██████████| 901/901 [03:20<00:00,  4.50it/s]\n"
          ]
        },
        {
          "output_type": "stream",
          "name": "stdout",
          "text": [
            "Epoch 3/3 Loss: 0.2347\n",
            "Trial 3 for ratios [0.1, 0.237, 0.563]\n"
          ]
        },
        {
          "output_type": "stream",
          "name": "stderr",
          "text": [
            "Fine-tuning Epoch 1/3: 100%|██████████| 901/901 [03:23<00:00,  4.43it/s]\n"
          ]
        },
        {
          "output_type": "stream",
          "name": "stdout",
          "text": [
            "Epoch 1/3 Loss: 0.3371\n"
          ]
        },
        {
          "output_type": "stream",
          "name": "stderr",
          "text": [
            "Fine-tuning Epoch 2/3: 100%|██████████| 901/901 [03:21<00:00,  4.48it/s]\n"
          ]
        },
        {
          "output_type": "stream",
          "name": "stdout",
          "text": [
            "Epoch 2/3 Loss: 0.2647\n"
          ]
        },
        {
          "output_type": "stream",
          "name": "stderr",
          "text": [
            "Fine-tuning Epoch 3/3: 100%|██████████| 901/901 [03:20<00:00,  4.49it/s]\n"
          ]
        },
        {
          "output_type": "stream",
          "name": "stdout",
          "text": [
            "Epoch 3/3 Loss: 0.2301\n",
            "Average perplexity for ratios [0.1, 0.237, 0.563]: 1.1680\n",
            "\n",
            "Final Results:\n",
            "Ratios (0.1, 0.2, 0.3): Average Perplexity = 1.0972\n",
            "Ratios (0.1, 0.18, 0.32): Average Perplexity = 1.0983\n",
            "Ratios (0.1, 0.3, 0.5): Average Perplexity = 1.1427\n",
            "Ratios (0.1, 0.237, 0.563): Average Perplexity = 1.1680\n"
          ]
        }
      ]
    }
  ],
  "metadata": {
    "accelerator": "GPU",
    "colab": {
      "gpuType": "T4",
      "provenance": []
    },
    "kernelspec": {
      "display_name": "py39",
      "language": "python",
      "name": "python3"
    },
    "language_info": {
      "codemirror_mode": {
        "name": "ipython",
        "version": 3
      },
      "file_extension": ".py",
      "mimetype": "text/x-python",
      "name": "python",
      "nbconvert_exporter": "python",
      "pygments_lexer": "ipython3",
      "version": "3.9.20"
    },
    "widgets": {
      "application/vnd.jupyter.widget-state+json": {
        "de95ef3bc3b041ce90997c2df9848424": {
          "model_module": "@jupyter-widgets/controls",
          "model_name": "VBoxModel",
          "model_module_version": "1.5.0",
          "state": {
            "_dom_classes": [],
            "_model_module": "@jupyter-widgets/controls",
            "_model_module_version": "1.5.0",
            "_model_name": "VBoxModel",
            "_view_count": null,
            "_view_module": "@jupyter-widgets/controls",
            "_view_module_version": "1.5.0",
            "_view_name": "VBoxView",
            "box_style": "",
            "children": [
              "IPY_MODEL_87e174a537d34225b8a2a06d0195d93d",
              "IPY_MODEL_8607d12f12b847f589a2d8cc1fb55071"
            ],
            "layout": "IPY_MODEL_3ca03b06164e4a2dadbcbc1d7af35c6a"
          }
        },
        "87e174a537d34225b8a2a06d0195d93d": {
          "model_module": "@jupyter-widgets/controls",
          "model_name": "LabelModel",
          "model_module_version": "1.5.0",
          "state": {
            "_dom_classes": [],
            "_model_module": "@jupyter-widgets/controls",
            "_model_module_version": "1.5.0",
            "_model_name": "LabelModel",
            "_view_count": null,
            "_view_module": "@jupyter-widgets/controls",
            "_view_module_version": "1.5.0",
            "_view_name": "LabelView",
            "description": "",
            "description_tooltip": null,
            "layout": "IPY_MODEL_3017af8665d04d6cad18fdaf499776b4",
            "placeholder": "​",
            "style": "IPY_MODEL_645f4f5c70d54825a95084afb3d250a7",
            "value": "0.014 MB of 0.014 MB uploaded\r"
          }
        },
        "8607d12f12b847f589a2d8cc1fb55071": {
          "model_module": "@jupyter-widgets/controls",
          "model_name": "FloatProgressModel",
          "model_module_version": "1.5.0",
          "state": {
            "_dom_classes": [],
            "_model_module": "@jupyter-widgets/controls",
            "_model_module_version": "1.5.0",
            "_model_name": "FloatProgressModel",
            "_view_count": null,
            "_view_module": "@jupyter-widgets/controls",
            "_view_module_version": "1.5.0",
            "_view_name": "ProgressView",
            "bar_style": "",
            "description": "",
            "description_tooltip": null,
            "layout": "IPY_MODEL_90e7acfe5c0d45fc892f605ef541a9bd",
            "max": 1,
            "min": 0,
            "orientation": "horizontal",
            "style": "IPY_MODEL_fa0cd9e447454dfaa022bc64181d572b",
            "value": 1
          }
        },
        "3ca03b06164e4a2dadbcbc1d7af35c6a": {
          "model_module": "@jupyter-widgets/base",
          "model_name": "LayoutModel",
          "model_module_version": "1.2.0",
          "state": {
            "_model_module": "@jupyter-widgets/base",
            "_model_module_version": "1.2.0",
            "_model_name": "LayoutModel",
            "_view_count": null,
            "_view_module": "@jupyter-widgets/base",
            "_view_module_version": "1.2.0",
            "_view_name": "LayoutView",
            "align_content": null,
            "align_items": null,
            "align_self": null,
            "border": null,
            "bottom": null,
            "display": null,
            "flex": null,
            "flex_flow": null,
            "grid_area": null,
            "grid_auto_columns": null,
            "grid_auto_flow": null,
            "grid_auto_rows": null,
            "grid_column": null,
            "grid_gap": null,
            "grid_row": null,
            "grid_template_areas": null,
            "grid_template_columns": null,
            "grid_template_rows": null,
            "height": null,
            "justify_content": null,
            "justify_items": null,
            "left": null,
            "margin": null,
            "max_height": null,
            "max_width": null,
            "min_height": null,
            "min_width": null,
            "object_fit": null,
            "object_position": null,
            "order": null,
            "overflow": null,
            "overflow_x": null,
            "overflow_y": null,
            "padding": null,
            "right": null,
            "top": null,
            "visibility": null,
            "width": null
          }
        },
        "3017af8665d04d6cad18fdaf499776b4": {
          "model_module": "@jupyter-widgets/base",
          "model_name": "LayoutModel",
          "model_module_version": "1.2.0",
          "state": {
            "_model_module": "@jupyter-widgets/base",
            "_model_module_version": "1.2.0",
            "_model_name": "LayoutModel",
            "_view_count": null,
            "_view_module": "@jupyter-widgets/base",
            "_view_module_version": "1.2.0",
            "_view_name": "LayoutView",
            "align_content": null,
            "align_items": null,
            "align_self": null,
            "border": null,
            "bottom": null,
            "display": null,
            "flex": null,
            "flex_flow": null,
            "grid_area": null,
            "grid_auto_columns": null,
            "grid_auto_flow": null,
            "grid_auto_rows": null,
            "grid_column": null,
            "grid_gap": null,
            "grid_row": null,
            "grid_template_areas": null,
            "grid_template_columns": null,
            "grid_template_rows": null,
            "height": null,
            "justify_content": null,
            "justify_items": null,
            "left": null,
            "margin": null,
            "max_height": null,
            "max_width": null,
            "min_height": null,
            "min_width": null,
            "object_fit": null,
            "object_position": null,
            "order": null,
            "overflow": null,
            "overflow_x": null,
            "overflow_y": null,
            "padding": null,
            "right": null,
            "top": null,
            "visibility": null,
            "width": null
          }
        },
        "645f4f5c70d54825a95084afb3d250a7": {
          "model_module": "@jupyter-widgets/controls",
          "model_name": "DescriptionStyleModel",
          "model_module_version": "1.5.0",
          "state": {
            "_model_module": "@jupyter-widgets/controls",
            "_model_module_version": "1.5.0",
            "_model_name": "DescriptionStyleModel",
            "_view_count": null,
            "_view_module": "@jupyter-widgets/base",
            "_view_module_version": "1.2.0",
            "_view_name": "StyleView",
            "description_width": ""
          }
        },
        "90e7acfe5c0d45fc892f605ef541a9bd": {
          "model_module": "@jupyter-widgets/base",
          "model_name": "LayoutModel",
          "model_module_version": "1.2.0",
          "state": {
            "_model_module": "@jupyter-widgets/base",
            "_model_module_version": "1.2.0",
            "_model_name": "LayoutModel",
            "_view_count": null,
            "_view_module": "@jupyter-widgets/base",
            "_view_module_version": "1.2.0",
            "_view_name": "LayoutView",
            "align_content": null,
            "align_items": null,
            "align_self": null,
            "border": null,
            "bottom": null,
            "display": null,
            "flex": null,
            "flex_flow": null,
            "grid_area": null,
            "grid_auto_columns": null,
            "grid_auto_flow": null,
            "grid_auto_rows": null,
            "grid_column": null,
            "grid_gap": null,
            "grid_row": null,
            "grid_template_areas": null,
            "grid_template_columns": null,
            "grid_template_rows": null,
            "height": null,
            "justify_content": null,
            "justify_items": null,
            "left": null,
            "margin": null,
            "max_height": null,
            "max_width": null,
            "min_height": null,
            "min_width": null,
            "object_fit": null,
            "object_position": null,
            "order": null,
            "overflow": null,
            "overflow_x": null,
            "overflow_y": null,
            "padding": null,
            "right": null,
            "top": null,
            "visibility": null,
            "width": null
          }
        },
        "fa0cd9e447454dfaa022bc64181d572b": {
          "model_module": "@jupyter-widgets/controls",
          "model_name": "ProgressStyleModel",
          "model_module_version": "1.5.0",
          "state": {
            "_model_module": "@jupyter-widgets/controls",
            "_model_module_version": "1.5.0",
            "_model_name": "ProgressStyleModel",
            "_view_count": null,
            "_view_module": "@jupyter-widgets/base",
            "_view_module_version": "1.2.0",
            "_view_name": "StyleView",
            "bar_color": null,
            "description_width": ""
          }
        },
        "0496d18b0d5e4d6092abdab5767d6484": {
          "model_module": "@jupyter-widgets/controls",
          "model_name": "VBoxModel",
          "model_module_version": "1.5.0",
          "state": {
            "_dom_classes": [],
            "_model_module": "@jupyter-widgets/controls",
            "_model_module_version": "1.5.0",
            "_model_name": "VBoxModel",
            "_view_count": null,
            "_view_module": "@jupyter-widgets/controls",
            "_view_module_version": "1.5.0",
            "_view_name": "VBoxView",
            "box_style": "",
            "children": [
              "IPY_MODEL_84afb87f02cd403d9a452df0b43db485",
              "IPY_MODEL_11938de7ee184620a469dde469b619a6"
            ],
            "layout": "IPY_MODEL_b7234284962e4f91b688fc5c53dbff3c"
          }
        },
        "84afb87f02cd403d9a452df0b43db485": {
          "model_module": "@jupyter-widgets/controls",
          "model_name": "LabelModel",
          "model_module_version": "1.5.0",
          "state": {
            "_dom_classes": [],
            "_model_module": "@jupyter-widgets/controls",
            "_model_module_version": "1.5.0",
            "_model_name": "LabelModel",
            "_view_count": null,
            "_view_module": "@jupyter-widgets/controls",
            "_view_module_version": "1.5.0",
            "_view_name": "LabelView",
            "description": "",
            "description_tooltip": null,
            "layout": "IPY_MODEL_82028ab227f94ba3a4b03bc1c8ca480d",
            "placeholder": "​",
            "style": "IPY_MODEL_2f96678ff95f4cd7a5600d2e36e9da3e",
            "value": "0.014 MB of 0.014 MB uploaded\r"
          }
        },
        "11938de7ee184620a469dde469b619a6": {
          "model_module": "@jupyter-widgets/controls",
          "model_name": "FloatProgressModel",
          "model_module_version": "1.5.0",
          "state": {
            "_dom_classes": [],
            "_model_module": "@jupyter-widgets/controls",
            "_model_module_version": "1.5.0",
            "_model_name": "FloatProgressModel",
            "_view_count": null,
            "_view_module": "@jupyter-widgets/controls",
            "_view_module_version": "1.5.0",
            "_view_name": "ProgressView",
            "bar_style": "",
            "description": "",
            "description_tooltip": null,
            "layout": "IPY_MODEL_c2e86c015c3e4054a47372cd870587f2",
            "max": 1,
            "min": 0,
            "orientation": "horizontal",
            "style": "IPY_MODEL_f2277d629f0042c59651e94196166f73",
            "value": 1
          }
        },
        "b7234284962e4f91b688fc5c53dbff3c": {
          "model_module": "@jupyter-widgets/base",
          "model_name": "LayoutModel",
          "model_module_version": "1.2.0",
          "state": {
            "_model_module": "@jupyter-widgets/base",
            "_model_module_version": "1.2.0",
            "_model_name": "LayoutModel",
            "_view_count": null,
            "_view_module": "@jupyter-widgets/base",
            "_view_module_version": "1.2.0",
            "_view_name": "LayoutView",
            "align_content": null,
            "align_items": null,
            "align_self": null,
            "border": null,
            "bottom": null,
            "display": null,
            "flex": null,
            "flex_flow": null,
            "grid_area": null,
            "grid_auto_columns": null,
            "grid_auto_flow": null,
            "grid_auto_rows": null,
            "grid_column": null,
            "grid_gap": null,
            "grid_row": null,
            "grid_template_areas": null,
            "grid_template_columns": null,
            "grid_template_rows": null,
            "height": null,
            "justify_content": null,
            "justify_items": null,
            "left": null,
            "margin": null,
            "max_height": null,
            "max_width": null,
            "min_height": null,
            "min_width": null,
            "object_fit": null,
            "object_position": null,
            "order": null,
            "overflow": null,
            "overflow_x": null,
            "overflow_y": null,
            "padding": null,
            "right": null,
            "top": null,
            "visibility": null,
            "width": null
          }
        },
        "82028ab227f94ba3a4b03bc1c8ca480d": {
          "model_module": "@jupyter-widgets/base",
          "model_name": "LayoutModel",
          "model_module_version": "1.2.0",
          "state": {
            "_model_module": "@jupyter-widgets/base",
            "_model_module_version": "1.2.0",
            "_model_name": "LayoutModel",
            "_view_count": null,
            "_view_module": "@jupyter-widgets/base",
            "_view_module_version": "1.2.0",
            "_view_name": "LayoutView",
            "align_content": null,
            "align_items": null,
            "align_self": null,
            "border": null,
            "bottom": null,
            "display": null,
            "flex": null,
            "flex_flow": null,
            "grid_area": null,
            "grid_auto_columns": null,
            "grid_auto_flow": null,
            "grid_auto_rows": null,
            "grid_column": null,
            "grid_gap": null,
            "grid_row": null,
            "grid_template_areas": null,
            "grid_template_columns": null,
            "grid_template_rows": null,
            "height": null,
            "justify_content": null,
            "justify_items": null,
            "left": null,
            "margin": null,
            "max_height": null,
            "max_width": null,
            "min_height": null,
            "min_width": null,
            "object_fit": null,
            "object_position": null,
            "order": null,
            "overflow": null,
            "overflow_x": null,
            "overflow_y": null,
            "padding": null,
            "right": null,
            "top": null,
            "visibility": null,
            "width": null
          }
        },
        "2f96678ff95f4cd7a5600d2e36e9da3e": {
          "model_module": "@jupyter-widgets/controls",
          "model_name": "DescriptionStyleModel",
          "model_module_version": "1.5.0",
          "state": {
            "_model_module": "@jupyter-widgets/controls",
            "_model_module_version": "1.5.0",
            "_model_name": "DescriptionStyleModel",
            "_view_count": null,
            "_view_module": "@jupyter-widgets/base",
            "_view_module_version": "1.2.0",
            "_view_name": "StyleView",
            "description_width": ""
          }
        },
        "c2e86c015c3e4054a47372cd870587f2": {
          "model_module": "@jupyter-widgets/base",
          "model_name": "LayoutModel",
          "model_module_version": "1.2.0",
          "state": {
            "_model_module": "@jupyter-widgets/base",
            "_model_module_version": "1.2.0",
            "_model_name": "LayoutModel",
            "_view_count": null,
            "_view_module": "@jupyter-widgets/base",
            "_view_module_version": "1.2.0",
            "_view_name": "LayoutView",
            "align_content": null,
            "align_items": null,
            "align_self": null,
            "border": null,
            "bottom": null,
            "display": null,
            "flex": null,
            "flex_flow": null,
            "grid_area": null,
            "grid_auto_columns": null,
            "grid_auto_flow": null,
            "grid_auto_rows": null,
            "grid_column": null,
            "grid_gap": null,
            "grid_row": null,
            "grid_template_areas": null,
            "grid_template_columns": null,
            "grid_template_rows": null,
            "height": null,
            "justify_content": null,
            "justify_items": null,
            "left": null,
            "margin": null,
            "max_height": null,
            "max_width": null,
            "min_height": null,
            "min_width": null,
            "object_fit": null,
            "object_position": null,
            "order": null,
            "overflow": null,
            "overflow_x": null,
            "overflow_y": null,
            "padding": null,
            "right": null,
            "top": null,
            "visibility": null,
            "width": null
          }
        },
        "f2277d629f0042c59651e94196166f73": {
          "model_module": "@jupyter-widgets/controls",
          "model_name": "ProgressStyleModel",
          "model_module_version": "1.5.0",
          "state": {
            "_model_module": "@jupyter-widgets/controls",
            "_model_module_version": "1.5.0",
            "_model_name": "ProgressStyleModel",
            "_view_count": null,
            "_view_module": "@jupyter-widgets/base",
            "_view_module_version": "1.2.0",
            "_view_name": "StyleView",
            "bar_color": null,
            "description_width": ""
          }
        },
        "e0812b1e90d349c9acbe54ba7f62dcea": {
          "model_module": "@jupyter-widgets/controls",
          "model_name": "VBoxModel",
          "model_module_version": "1.5.0",
          "state": {
            "_dom_classes": [],
            "_model_module": "@jupyter-widgets/controls",
            "_model_module_version": "1.5.0",
            "_model_name": "VBoxModel",
            "_view_count": null,
            "_view_module": "@jupyter-widgets/controls",
            "_view_module_version": "1.5.0",
            "_view_name": "VBoxView",
            "box_style": "",
            "children": [
              "IPY_MODEL_b429bb3b494e4641b4e02898b44acbaf",
              "IPY_MODEL_7c009a416ad64b1785a2dab631fbef96"
            ],
            "layout": "IPY_MODEL_a0a0bd32dd13441ca5361575f4497874"
          }
        },
        "b429bb3b494e4641b4e02898b44acbaf": {
          "model_module": "@jupyter-widgets/controls",
          "model_name": "LabelModel",
          "model_module_version": "1.5.0",
          "state": {
            "_dom_classes": [],
            "_model_module": "@jupyter-widgets/controls",
            "_model_module_version": "1.5.0",
            "_model_name": "LabelModel",
            "_view_count": null,
            "_view_module": "@jupyter-widgets/controls",
            "_view_module_version": "1.5.0",
            "_view_name": "LabelView",
            "description": "",
            "description_tooltip": null,
            "layout": "IPY_MODEL_e8aea34200ed4178b011920909b8f980",
            "placeholder": "​",
            "style": "IPY_MODEL_356a8e293972406aa7102cb2463428b9",
            "value": "0.014 MB of 0.014 MB uploaded\r"
          }
        },
        "7c009a416ad64b1785a2dab631fbef96": {
          "model_module": "@jupyter-widgets/controls",
          "model_name": "FloatProgressModel",
          "model_module_version": "1.5.0",
          "state": {
            "_dom_classes": [],
            "_model_module": "@jupyter-widgets/controls",
            "_model_module_version": "1.5.0",
            "_model_name": "FloatProgressModel",
            "_view_count": null,
            "_view_module": "@jupyter-widgets/controls",
            "_view_module_version": "1.5.0",
            "_view_name": "ProgressView",
            "bar_style": "",
            "description": "",
            "description_tooltip": null,
            "layout": "IPY_MODEL_7599b6a501184552a9c999621b68be55",
            "max": 1,
            "min": 0,
            "orientation": "horizontal",
            "style": "IPY_MODEL_e77b1eec3a2644a48985625b79a8fa95",
            "value": 1
          }
        },
        "a0a0bd32dd13441ca5361575f4497874": {
          "model_module": "@jupyter-widgets/base",
          "model_name": "LayoutModel",
          "model_module_version": "1.2.0",
          "state": {
            "_model_module": "@jupyter-widgets/base",
            "_model_module_version": "1.2.0",
            "_model_name": "LayoutModel",
            "_view_count": null,
            "_view_module": "@jupyter-widgets/base",
            "_view_module_version": "1.2.0",
            "_view_name": "LayoutView",
            "align_content": null,
            "align_items": null,
            "align_self": null,
            "border": null,
            "bottom": null,
            "display": null,
            "flex": null,
            "flex_flow": null,
            "grid_area": null,
            "grid_auto_columns": null,
            "grid_auto_flow": null,
            "grid_auto_rows": null,
            "grid_column": null,
            "grid_gap": null,
            "grid_row": null,
            "grid_template_areas": null,
            "grid_template_columns": null,
            "grid_template_rows": null,
            "height": null,
            "justify_content": null,
            "justify_items": null,
            "left": null,
            "margin": null,
            "max_height": null,
            "max_width": null,
            "min_height": null,
            "min_width": null,
            "object_fit": null,
            "object_position": null,
            "order": null,
            "overflow": null,
            "overflow_x": null,
            "overflow_y": null,
            "padding": null,
            "right": null,
            "top": null,
            "visibility": null,
            "width": null
          }
        },
        "e8aea34200ed4178b011920909b8f980": {
          "model_module": "@jupyter-widgets/base",
          "model_name": "LayoutModel",
          "model_module_version": "1.2.0",
          "state": {
            "_model_module": "@jupyter-widgets/base",
            "_model_module_version": "1.2.0",
            "_model_name": "LayoutModel",
            "_view_count": null,
            "_view_module": "@jupyter-widgets/base",
            "_view_module_version": "1.2.0",
            "_view_name": "LayoutView",
            "align_content": null,
            "align_items": null,
            "align_self": null,
            "border": null,
            "bottom": null,
            "display": null,
            "flex": null,
            "flex_flow": null,
            "grid_area": null,
            "grid_auto_columns": null,
            "grid_auto_flow": null,
            "grid_auto_rows": null,
            "grid_column": null,
            "grid_gap": null,
            "grid_row": null,
            "grid_template_areas": null,
            "grid_template_columns": null,
            "grid_template_rows": null,
            "height": null,
            "justify_content": null,
            "justify_items": null,
            "left": null,
            "margin": null,
            "max_height": null,
            "max_width": null,
            "min_height": null,
            "min_width": null,
            "object_fit": null,
            "object_position": null,
            "order": null,
            "overflow": null,
            "overflow_x": null,
            "overflow_y": null,
            "padding": null,
            "right": null,
            "top": null,
            "visibility": null,
            "width": null
          }
        },
        "356a8e293972406aa7102cb2463428b9": {
          "model_module": "@jupyter-widgets/controls",
          "model_name": "DescriptionStyleModel",
          "model_module_version": "1.5.0",
          "state": {
            "_model_module": "@jupyter-widgets/controls",
            "_model_module_version": "1.5.0",
            "_model_name": "DescriptionStyleModel",
            "_view_count": null,
            "_view_module": "@jupyter-widgets/base",
            "_view_module_version": "1.2.0",
            "_view_name": "StyleView",
            "description_width": ""
          }
        },
        "7599b6a501184552a9c999621b68be55": {
          "model_module": "@jupyter-widgets/base",
          "model_name": "LayoutModel",
          "model_module_version": "1.2.0",
          "state": {
            "_model_module": "@jupyter-widgets/base",
            "_model_module_version": "1.2.0",
            "_model_name": "LayoutModel",
            "_view_count": null,
            "_view_module": "@jupyter-widgets/base",
            "_view_module_version": "1.2.0",
            "_view_name": "LayoutView",
            "align_content": null,
            "align_items": null,
            "align_self": null,
            "border": null,
            "bottom": null,
            "display": null,
            "flex": null,
            "flex_flow": null,
            "grid_area": null,
            "grid_auto_columns": null,
            "grid_auto_flow": null,
            "grid_auto_rows": null,
            "grid_column": null,
            "grid_gap": null,
            "grid_row": null,
            "grid_template_areas": null,
            "grid_template_columns": null,
            "grid_template_rows": null,
            "height": null,
            "justify_content": null,
            "justify_items": null,
            "left": null,
            "margin": null,
            "max_height": null,
            "max_width": null,
            "min_height": null,
            "min_width": null,
            "object_fit": null,
            "object_position": null,
            "order": null,
            "overflow": null,
            "overflow_x": null,
            "overflow_y": null,
            "padding": null,
            "right": null,
            "top": null,
            "visibility": null,
            "width": null
          }
        },
        "e77b1eec3a2644a48985625b79a8fa95": {
          "model_module": "@jupyter-widgets/controls",
          "model_name": "ProgressStyleModel",
          "model_module_version": "1.5.0",
          "state": {
            "_model_module": "@jupyter-widgets/controls",
            "_model_module_version": "1.5.0",
            "_model_name": "ProgressStyleModel",
            "_view_count": null,
            "_view_module": "@jupyter-widgets/base",
            "_view_module_version": "1.2.0",
            "_view_name": "StyleView",
            "bar_color": null,
            "description_width": ""
          }
        },
        "5ade10add594487ea7f7d3836eae4087": {
          "model_module": "@jupyter-widgets/controls",
          "model_name": "VBoxModel",
          "model_module_version": "1.5.0",
          "state": {
            "_dom_classes": [],
            "_model_module": "@jupyter-widgets/controls",
            "_model_module_version": "1.5.0",
            "_model_name": "VBoxModel",
            "_view_count": null,
            "_view_module": "@jupyter-widgets/controls",
            "_view_module_version": "1.5.0",
            "_view_name": "VBoxView",
            "box_style": "",
            "children": [
              "IPY_MODEL_5698349e79a54c189cee9346b93173dc",
              "IPY_MODEL_0261981df7fb4a32bebe2b7115968d2a"
            ],
            "layout": "IPY_MODEL_507477fccdf84e279618f7a77de84f4e"
          }
        },
        "5698349e79a54c189cee9346b93173dc": {
          "model_module": "@jupyter-widgets/controls",
          "model_name": "LabelModel",
          "model_module_version": "1.5.0",
          "state": {
            "_dom_classes": [],
            "_model_module": "@jupyter-widgets/controls",
            "_model_module_version": "1.5.0",
            "_model_name": "LabelModel",
            "_view_count": null,
            "_view_module": "@jupyter-widgets/controls",
            "_view_module_version": "1.5.0",
            "_view_name": "LabelView",
            "description": "",
            "description_tooltip": null,
            "layout": "IPY_MODEL_62783465da03403e9f1fc4e92d10b986",
            "placeholder": "​",
            "style": "IPY_MODEL_adfc81c9ef9d416c960c380ab2503b26",
            "value": "0.014 MB of 0.014 MB uploaded\r"
          }
        },
        "0261981df7fb4a32bebe2b7115968d2a": {
          "model_module": "@jupyter-widgets/controls",
          "model_name": "FloatProgressModel",
          "model_module_version": "1.5.0",
          "state": {
            "_dom_classes": [],
            "_model_module": "@jupyter-widgets/controls",
            "_model_module_version": "1.5.0",
            "_model_name": "FloatProgressModel",
            "_view_count": null,
            "_view_module": "@jupyter-widgets/controls",
            "_view_module_version": "1.5.0",
            "_view_name": "ProgressView",
            "bar_style": "",
            "description": "",
            "description_tooltip": null,
            "layout": "IPY_MODEL_a771ee658c724531abb4496572437fdb",
            "max": 1,
            "min": 0,
            "orientation": "horizontal",
            "style": "IPY_MODEL_72aa3469d7cc4ad983feeafa2111daba",
            "value": 1
          }
        },
        "507477fccdf84e279618f7a77de84f4e": {
          "model_module": "@jupyter-widgets/base",
          "model_name": "LayoutModel",
          "model_module_version": "1.2.0",
          "state": {
            "_model_module": "@jupyter-widgets/base",
            "_model_module_version": "1.2.0",
            "_model_name": "LayoutModel",
            "_view_count": null,
            "_view_module": "@jupyter-widgets/base",
            "_view_module_version": "1.2.0",
            "_view_name": "LayoutView",
            "align_content": null,
            "align_items": null,
            "align_self": null,
            "border": null,
            "bottom": null,
            "display": null,
            "flex": null,
            "flex_flow": null,
            "grid_area": null,
            "grid_auto_columns": null,
            "grid_auto_flow": null,
            "grid_auto_rows": null,
            "grid_column": null,
            "grid_gap": null,
            "grid_row": null,
            "grid_template_areas": null,
            "grid_template_columns": null,
            "grid_template_rows": null,
            "height": null,
            "justify_content": null,
            "justify_items": null,
            "left": null,
            "margin": null,
            "max_height": null,
            "max_width": null,
            "min_height": null,
            "min_width": null,
            "object_fit": null,
            "object_position": null,
            "order": null,
            "overflow": null,
            "overflow_x": null,
            "overflow_y": null,
            "padding": null,
            "right": null,
            "top": null,
            "visibility": null,
            "width": null
          }
        },
        "62783465da03403e9f1fc4e92d10b986": {
          "model_module": "@jupyter-widgets/base",
          "model_name": "LayoutModel",
          "model_module_version": "1.2.0",
          "state": {
            "_model_module": "@jupyter-widgets/base",
            "_model_module_version": "1.2.0",
            "_model_name": "LayoutModel",
            "_view_count": null,
            "_view_module": "@jupyter-widgets/base",
            "_view_module_version": "1.2.0",
            "_view_name": "LayoutView",
            "align_content": null,
            "align_items": null,
            "align_self": null,
            "border": null,
            "bottom": null,
            "display": null,
            "flex": null,
            "flex_flow": null,
            "grid_area": null,
            "grid_auto_columns": null,
            "grid_auto_flow": null,
            "grid_auto_rows": null,
            "grid_column": null,
            "grid_gap": null,
            "grid_row": null,
            "grid_template_areas": null,
            "grid_template_columns": null,
            "grid_template_rows": null,
            "height": null,
            "justify_content": null,
            "justify_items": null,
            "left": null,
            "margin": null,
            "max_height": null,
            "max_width": null,
            "min_height": null,
            "min_width": null,
            "object_fit": null,
            "object_position": null,
            "order": null,
            "overflow": null,
            "overflow_x": null,
            "overflow_y": null,
            "padding": null,
            "right": null,
            "top": null,
            "visibility": null,
            "width": null
          }
        },
        "adfc81c9ef9d416c960c380ab2503b26": {
          "model_module": "@jupyter-widgets/controls",
          "model_name": "DescriptionStyleModel",
          "model_module_version": "1.5.0",
          "state": {
            "_model_module": "@jupyter-widgets/controls",
            "_model_module_version": "1.5.0",
            "_model_name": "DescriptionStyleModel",
            "_view_count": null,
            "_view_module": "@jupyter-widgets/base",
            "_view_module_version": "1.2.0",
            "_view_name": "StyleView",
            "description_width": ""
          }
        },
        "a771ee658c724531abb4496572437fdb": {
          "model_module": "@jupyter-widgets/base",
          "model_name": "LayoutModel",
          "model_module_version": "1.2.0",
          "state": {
            "_model_module": "@jupyter-widgets/base",
            "_model_module_version": "1.2.0",
            "_model_name": "LayoutModel",
            "_view_count": null,
            "_view_module": "@jupyter-widgets/base",
            "_view_module_version": "1.2.0",
            "_view_name": "LayoutView",
            "align_content": null,
            "align_items": null,
            "align_self": null,
            "border": null,
            "bottom": null,
            "display": null,
            "flex": null,
            "flex_flow": null,
            "grid_area": null,
            "grid_auto_columns": null,
            "grid_auto_flow": null,
            "grid_auto_rows": null,
            "grid_column": null,
            "grid_gap": null,
            "grid_row": null,
            "grid_template_areas": null,
            "grid_template_columns": null,
            "grid_template_rows": null,
            "height": null,
            "justify_content": null,
            "justify_items": null,
            "left": null,
            "margin": null,
            "max_height": null,
            "max_width": null,
            "min_height": null,
            "min_width": null,
            "object_fit": null,
            "object_position": null,
            "order": null,
            "overflow": null,
            "overflow_x": null,
            "overflow_y": null,
            "padding": null,
            "right": null,
            "top": null,
            "visibility": null,
            "width": null
          }
        },
        "72aa3469d7cc4ad983feeafa2111daba": {
          "model_module": "@jupyter-widgets/controls",
          "model_name": "ProgressStyleModel",
          "model_module_version": "1.5.0",
          "state": {
            "_model_module": "@jupyter-widgets/controls",
            "_model_module_version": "1.5.0",
            "_model_name": "ProgressStyleModel",
            "_view_count": null,
            "_view_module": "@jupyter-widgets/base",
            "_view_module_version": "1.2.0",
            "_view_name": "StyleView",
            "bar_color": null,
            "description_width": ""
          }
        },
        "f6978a12c8d24ef0a7e40efa728dab88": {
          "model_module": "@jupyter-widgets/controls",
          "model_name": "VBoxModel",
          "model_module_version": "1.5.0",
          "state": {
            "_dom_classes": [],
            "_model_module": "@jupyter-widgets/controls",
            "_model_module_version": "1.5.0",
            "_model_name": "VBoxModel",
            "_view_count": null,
            "_view_module": "@jupyter-widgets/controls",
            "_view_module_version": "1.5.0",
            "_view_name": "VBoxView",
            "box_style": "",
            "children": [
              "IPY_MODEL_57d8266f73e945e39604d167a5a2248c",
              "IPY_MODEL_798828699abe4edebcc3990a9374c667"
            ],
            "layout": "IPY_MODEL_ec9a06873ce44576979b99e558abb686"
          }
        },
        "57d8266f73e945e39604d167a5a2248c": {
          "model_module": "@jupyter-widgets/controls",
          "model_name": "LabelModel",
          "model_module_version": "1.5.0",
          "state": {
            "_dom_classes": [],
            "_model_module": "@jupyter-widgets/controls",
            "_model_module_version": "1.5.0",
            "_model_name": "LabelModel",
            "_view_count": null,
            "_view_module": "@jupyter-widgets/controls",
            "_view_module_version": "1.5.0",
            "_view_name": "LabelView",
            "description": "",
            "description_tooltip": null,
            "layout": "IPY_MODEL_b8969874ab3a409ea7946615d03a1b52",
            "placeholder": "​",
            "style": "IPY_MODEL_ff3e71ef97574fa193ea2791211de5ce",
            "value": "0.014 MB of 0.014 MB uploaded\r"
          }
        },
        "798828699abe4edebcc3990a9374c667": {
          "model_module": "@jupyter-widgets/controls",
          "model_name": "FloatProgressModel",
          "model_module_version": "1.5.0",
          "state": {
            "_dom_classes": [],
            "_model_module": "@jupyter-widgets/controls",
            "_model_module_version": "1.5.0",
            "_model_name": "FloatProgressModel",
            "_view_count": null,
            "_view_module": "@jupyter-widgets/controls",
            "_view_module_version": "1.5.0",
            "_view_name": "ProgressView",
            "bar_style": "",
            "description": "",
            "description_tooltip": null,
            "layout": "IPY_MODEL_e458f32d362f43b688615ed8ccc90bbd",
            "max": 1,
            "min": 0,
            "orientation": "horizontal",
            "style": "IPY_MODEL_bbb060aa4b5a4001a7a13c55fe73be04",
            "value": 1
          }
        },
        "ec9a06873ce44576979b99e558abb686": {
          "model_module": "@jupyter-widgets/base",
          "model_name": "LayoutModel",
          "model_module_version": "1.2.0",
          "state": {
            "_model_module": "@jupyter-widgets/base",
            "_model_module_version": "1.2.0",
            "_model_name": "LayoutModel",
            "_view_count": null,
            "_view_module": "@jupyter-widgets/base",
            "_view_module_version": "1.2.0",
            "_view_name": "LayoutView",
            "align_content": null,
            "align_items": null,
            "align_self": null,
            "border": null,
            "bottom": null,
            "display": null,
            "flex": null,
            "flex_flow": null,
            "grid_area": null,
            "grid_auto_columns": null,
            "grid_auto_flow": null,
            "grid_auto_rows": null,
            "grid_column": null,
            "grid_gap": null,
            "grid_row": null,
            "grid_template_areas": null,
            "grid_template_columns": null,
            "grid_template_rows": null,
            "height": null,
            "justify_content": null,
            "justify_items": null,
            "left": null,
            "margin": null,
            "max_height": null,
            "max_width": null,
            "min_height": null,
            "min_width": null,
            "object_fit": null,
            "object_position": null,
            "order": null,
            "overflow": null,
            "overflow_x": null,
            "overflow_y": null,
            "padding": null,
            "right": null,
            "top": null,
            "visibility": null,
            "width": null
          }
        },
        "b8969874ab3a409ea7946615d03a1b52": {
          "model_module": "@jupyter-widgets/base",
          "model_name": "LayoutModel",
          "model_module_version": "1.2.0",
          "state": {
            "_model_module": "@jupyter-widgets/base",
            "_model_module_version": "1.2.0",
            "_model_name": "LayoutModel",
            "_view_count": null,
            "_view_module": "@jupyter-widgets/base",
            "_view_module_version": "1.2.0",
            "_view_name": "LayoutView",
            "align_content": null,
            "align_items": null,
            "align_self": null,
            "border": null,
            "bottom": null,
            "display": null,
            "flex": null,
            "flex_flow": null,
            "grid_area": null,
            "grid_auto_columns": null,
            "grid_auto_flow": null,
            "grid_auto_rows": null,
            "grid_column": null,
            "grid_gap": null,
            "grid_row": null,
            "grid_template_areas": null,
            "grid_template_columns": null,
            "grid_template_rows": null,
            "height": null,
            "justify_content": null,
            "justify_items": null,
            "left": null,
            "margin": null,
            "max_height": null,
            "max_width": null,
            "min_height": null,
            "min_width": null,
            "object_fit": null,
            "object_position": null,
            "order": null,
            "overflow": null,
            "overflow_x": null,
            "overflow_y": null,
            "padding": null,
            "right": null,
            "top": null,
            "visibility": null,
            "width": null
          }
        },
        "ff3e71ef97574fa193ea2791211de5ce": {
          "model_module": "@jupyter-widgets/controls",
          "model_name": "DescriptionStyleModel",
          "model_module_version": "1.5.0",
          "state": {
            "_model_module": "@jupyter-widgets/controls",
            "_model_module_version": "1.5.0",
            "_model_name": "DescriptionStyleModel",
            "_view_count": null,
            "_view_module": "@jupyter-widgets/base",
            "_view_module_version": "1.2.0",
            "_view_name": "StyleView",
            "description_width": ""
          }
        },
        "e458f32d362f43b688615ed8ccc90bbd": {
          "model_module": "@jupyter-widgets/base",
          "model_name": "LayoutModel",
          "model_module_version": "1.2.0",
          "state": {
            "_model_module": "@jupyter-widgets/base",
            "_model_module_version": "1.2.0",
            "_model_name": "LayoutModel",
            "_view_count": null,
            "_view_module": "@jupyter-widgets/base",
            "_view_module_version": "1.2.0",
            "_view_name": "LayoutView",
            "align_content": null,
            "align_items": null,
            "align_self": null,
            "border": null,
            "bottom": null,
            "display": null,
            "flex": null,
            "flex_flow": null,
            "grid_area": null,
            "grid_auto_columns": null,
            "grid_auto_flow": null,
            "grid_auto_rows": null,
            "grid_column": null,
            "grid_gap": null,
            "grid_row": null,
            "grid_template_areas": null,
            "grid_template_columns": null,
            "grid_template_rows": null,
            "height": null,
            "justify_content": null,
            "justify_items": null,
            "left": null,
            "margin": null,
            "max_height": null,
            "max_width": null,
            "min_height": null,
            "min_width": null,
            "object_fit": null,
            "object_position": null,
            "order": null,
            "overflow": null,
            "overflow_x": null,
            "overflow_y": null,
            "padding": null,
            "right": null,
            "top": null,
            "visibility": null,
            "width": null
          }
        },
        "bbb060aa4b5a4001a7a13c55fe73be04": {
          "model_module": "@jupyter-widgets/controls",
          "model_name": "ProgressStyleModel",
          "model_module_version": "1.5.0",
          "state": {
            "_model_module": "@jupyter-widgets/controls",
            "_model_module_version": "1.5.0",
            "_model_name": "ProgressStyleModel",
            "_view_count": null,
            "_view_module": "@jupyter-widgets/base",
            "_view_module_version": "1.2.0",
            "_view_name": "StyleView",
            "bar_color": null,
            "description_width": ""
          }
        },
        "268438e9076f4140a7cb91fa845157dc": {
          "model_module": "@jupyter-widgets/controls",
          "model_name": "VBoxModel",
          "model_module_version": "1.5.0",
          "state": {
            "_dom_classes": [],
            "_model_module": "@jupyter-widgets/controls",
            "_model_module_version": "1.5.0",
            "_model_name": "VBoxModel",
            "_view_count": null,
            "_view_module": "@jupyter-widgets/controls",
            "_view_module_version": "1.5.0",
            "_view_name": "VBoxView",
            "box_style": "",
            "children": [
              "IPY_MODEL_bd14ed20aa004c7da647d386c285f74d",
              "IPY_MODEL_3af88caa9f5c4a15869c2785904a2028"
            ],
            "layout": "IPY_MODEL_a5b3656f4e464fe8af3e17281c0fc353"
          }
        },
        "bd14ed20aa004c7da647d386c285f74d": {
          "model_module": "@jupyter-widgets/controls",
          "model_name": "LabelModel",
          "model_module_version": "1.5.0",
          "state": {
            "_dom_classes": [],
            "_model_module": "@jupyter-widgets/controls",
            "_model_module_version": "1.5.0",
            "_model_name": "LabelModel",
            "_view_count": null,
            "_view_module": "@jupyter-widgets/controls",
            "_view_module_version": "1.5.0",
            "_view_name": "LabelView",
            "description": "",
            "description_tooltip": null,
            "layout": "IPY_MODEL_02d53b391bc1408c87f95520c11b7573",
            "placeholder": "​",
            "style": "IPY_MODEL_eef45f38d5e84367880b11f33742c763",
            "value": "0.014 MB of 0.014 MB uploaded\r"
          }
        },
        "3af88caa9f5c4a15869c2785904a2028": {
          "model_module": "@jupyter-widgets/controls",
          "model_name": "FloatProgressModel",
          "model_module_version": "1.5.0",
          "state": {
            "_dom_classes": [],
            "_model_module": "@jupyter-widgets/controls",
            "_model_module_version": "1.5.0",
            "_model_name": "FloatProgressModel",
            "_view_count": null,
            "_view_module": "@jupyter-widgets/controls",
            "_view_module_version": "1.5.0",
            "_view_name": "ProgressView",
            "bar_style": "",
            "description": "",
            "description_tooltip": null,
            "layout": "IPY_MODEL_979adbb5d0254b80ac917198019f5832",
            "max": 1,
            "min": 0,
            "orientation": "horizontal",
            "style": "IPY_MODEL_5b75aca3152e41baa1714d34fae483ca",
            "value": 1
          }
        },
        "a5b3656f4e464fe8af3e17281c0fc353": {
          "model_module": "@jupyter-widgets/base",
          "model_name": "LayoutModel",
          "model_module_version": "1.2.0",
          "state": {
            "_model_module": "@jupyter-widgets/base",
            "_model_module_version": "1.2.0",
            "_model_name": "LayoutModel",
            "_view_count": null,
            "_view_module": "@jupyter-widgets/base",
            "_view_module_version": "1.2.0",
            "_view_name": "LayoutView",
            "align_content": null,
            "align_items": null,
            "align_self": null,
            "border": null,
            "bottom": null,
            "display": null,
            "flex": null,
            "flex_flow": null,
            "grid_area": null,
            "grid_auto_columns": null,
            "grid_auto_flow": null,
            "grid_auto_rows": null,
            "grid_column": null,
            "grid_gap": null,
            "grid_row": null,
            "grid_template_areas": null,
            "grid_template_columns": null,
            "grid_template_rows": null,
            "height": null,
            "justify_content": null,
            "justify_items": null,
            "left": null,
            "margin": null,
            "max_height": null,
            "max_width": null,
            "min_height": null,
            "min_width": null,
            "object_fit": null,
            "object_position": null,
            "order": null,
            "overflow": null,
            "overflow_x": null,
            "overflow_y": null,
            "padding": null,
            "right": null,
            "top": null,
            "visibility": null,
            "width": null
          }
        },
        "02d53b391bc1408c87f95520c11b7573": {
          "model_module": "@jupyter-widgets/base",
          "model_name": "LayoutModel",
          "model_module_version": "1.2.0",
          "state": {
            "_model_module": "@jupyter-widgets/base",
            "_model_module_version": "1.2.0",
            "_model_name": "LayoutModel",
            "_view_count": null,
            "_view_module": "@jupyter-widgets/base",
            "_view_module_version": "1.2.0",
            "_view_name": "LayoutView",
            "align_content": null,
            "align_items": null,
            "align_self": null,
            "border": null,
            "bottom": null,
            "display": null,
            "flex": null,
            "flex_flow": null,
            "grid_area": null,
            "grid_auto_columns": null,
            "grid_auto_flow": null,
            "grid_auto_rows": null,
            "grid_column": null,
            "grid_gap": null,
            "grid_row": null,
            "grid_template_areas": null,
            "grid_template_columns": null,
            "grid_template_rows": null,
            "height": null,
            "justify_content": null,
            "justify_items": null,
            "left": null,
            "margin": null,
            "max_height": null,
            "max_width": null,
            "min_height": null,
            "min_width": null,
            "object_fit": null,
            "object_position": null,
            "order": null,
            "overflow": null,
            "overflow_x": null,
            "overflow_y": null,
            "padding": null,
            "right": null,
            "top": null,
            "visibility": null,
            "width": null
          }
        },
        "eef45f38d5e84367880b11f33742c763": {
          "model_module": "@jupyter-widgets/controls",
          "model_name": "DescriptionStyleModel",
          "model_module_version": "1.5.0",
          "state": {
            "_model_module": "@jupyter-widgets/controls",
            "_model_module_version": "1.5.0",
            "_model_name": "DescriptionStyleModel",
            "_view_count": null,
            "_view_module": "@jupyter-widgets/base",
            "_view_module_version": "1.2.0",
            "_view_name": "StyleView",
            "description_width": ""
          }
        },
        "979adbb5d0254b80ac917198019f5832": {
          "model_module": "@jupyter-widgets/base",
          "model_name": "LayoutModel",
          "model_module_version": "1.2.0",
          "state": {
            "_model_module": "@jupyter-widgets/base",
            "_model_module_version": "1.2.0",
            "_model_name": "LayoutModel",
            "_view_count": null,
            "_view_module": "@jupyter-widgets/base",
            "_view_module_version": "1.2.0",
            "_view_name": "LayoutView",
            "align_content": null,
            "align_items": null,
            "align_self": null,
            "border": null,
            "bottom": null,
            "display": null,
            "flex": null,
            "flex_flow": null,
            "grid_area": null,
            "grid_auto_columns": null,
            "grid_auto_flow": null,
            "grid_auto_rows": null,
            "grid_column": null,
            "grid_gap": null,
            "grid_row": null,
            "grid_template_areas": null,
            "grid_template_columns": null,
            "grid_template_rows": null,
            "height": null,
            "justify_content": null,
            "justify_items": null,
            "left": null,
            "margin": null,
            "max_height": null,
            "max_width": null,
            "min_height": null,
            "min_width": null,
            "object_fit": null,
            "object_position": null,
            "order": null,
            "overflow": null,
            "overflow_x": null,
            "overflow_y": null,
            "padding": null,
            "right": null,
            "top": null,
            "visibility": null,
            "width": null
          }
        },
        "5b75aca3152e41baa1714d34fae483ca": {
          "model_module": "@jupyter-widgets/controls",
          "model_name": "ProgressStyleModel",
          "model_module_version": "1.5.0",
          "state": {
            "_model_module": "@jupyter-widgets/controls",
            "_model_module_version": "1.5.0",
            "_model_name": "ProgressStyleModel",
            "_view_count": null,
            "_view_module": "@jupyter-widgets/base",
            "_view_module_version": "1.2.0",
            "_view_name": "StyleView",
            "bar_color": null,
            "description_width": ""
          }
        },
        "f46c7f8505c845c3ac5c09939d7f3ad1": {
          "model_module": "@jupyter-widgets/controls",
          "model_name": "VBoxModel",
          "model_module_version": "1.5.0",
          "state": {
            "_dom_classes": [],
            "_model_module": "@jupyter-widgets/controls",
            "_model_module_version": "1.5.0",
            "_model_name": "VBoxModel",
            "_view_count": null,
            "_view_module": "@jupyter-widgets/controls",
            "_view_module_version": "1.5.0",
            "_view_name": "VBoxView",
            "box_style": "",
            "children": [
              "IPY_MODEL_3209ca7f4fe946db87d5ac80aad07cb5",
              "IPY_MODEL_d7dd4b05aa014f3c9eae30becc67a898"
            ],
            "layout": "IPY_MODEL_6928a2ee9c274fe3b185ed474c23c033"
          }
        },
        "3209ca7f4fe946db87d5ac80aad07cb5": {
          "model_module": "@jupyter-widgets/controls",
          "model_name": "LabelModel",
          "model_module_version": "1.5.0",
          "state": {
            "_dom_classes": [],
            "_model_module": "@jupyter-widgets/controls",
            "_model_module_version": "1.5.0",
            "_model_name": "LabelModel",
            "_view_count": null,
            "_view_module": "@jupyter-widgets/controls",
            "_view_module_version": "1.5.0",
            "_view_name": "LabelView",
            "description": "",
            "description_tooltip": null,
            "layout": "IPY_MODEL_376c7544ad114249979deb6136de8a2d",
            "placeholder": "​",
            "style": "IPY_MODEL_c8ad481118d04617af594851f134d815",
            "value": "0.014 MB of 0.014 MB uploaded\r"
          }
        },
        "d7dd4b05aa014f3c9eae30becc67a898": {
          "model_module": "@jupyter-widgets/controls",
          "model_name": "FloatProgressModel",
          "model_module_version": "1.5.0",
          "state": {
            "_dom_classes": [],
            "_model_module": "@jupyter-widgets/controls",
            "_model_module_version": "1.5.0",
            "_model_name": "FloatProgressModel",
            "_view_count": null,
            "_view_module": "@jupyter-widgets/controls",
            "_view_module_version": "1.5.0",
            "_view_name": "ProgressView",
            "bar_style": "",
            "description": "",
            "description_tooltip": null,
            "layout": "IPY_MODEL_0ed187efe8c042b6bc4a5cfe33e25140",
            "max": 1,
            "min": 0,
            "orientation": "horizontal",
            "style": "IPY_MODEL_139d4c1bd7e442828048d99bf2a36850",
            "value": 1
          }
        },
        "6928a2ee9c274fe3b185ed474c23c033": {
          "model_module": "@jupyter-widgets/base",
          "model_name": "LayoutModel",
          "model_module_version": "1.2.0",
          "state": {
            "_model_module": "@jupyter-widgets/base",
            "_model_module_version": "1.2.0",
            "_model_name": "LayoutModel",
            "_view_count": null,
            "_view_module": "@jupyter-widgets/base",
            "_view_module_version": "1.2.0",
            "_view_name": "LayoutView",
            "align_content": null,
            "align_items": null,
            "align_self": null,
            "border": null,
            "bottom": null,
            "display": null,
            "flex": null,
            "flex_flow": null,
            "grid_area": null,
            "grid_auto_columns": null,
            "grid_auto_flow": null,
            "grid_auto_rows": null,
            "grid_column": null,
            "grid_gap": null,
            "grid_row": null,
            "grid_template_areas": null,
            "grid_template_columns": null,
            "grid_template_rows": null,
            "height": null,
            "justify_content": null,
            "justify_items": null,
            "left": null,
            "margin": null,
            "max_height": null,
            "max_width": null,
            "min_height": null,
            "min_width": null,
            "object_fit": null,
            "object_position": null,
            "order": null,
            "overflow": null,
            "overflow_x": null,
            "overflow_y": null,
            "padding": null,
            "right": null,
            "top": null,
            "visibility": null,
            "width": null
          }
        },
        "376c7544ad114249979deb6136de8a2d": {
          "model_module": "@jupyter-widgets/base",
          "model_name": "LayoutModel",
          "model_module_version": "1.2.0",
          "state": {
            "_model_module": "@jupyter-widgets/base",
            "_model_module_version": "1.2.0",
            "_model_name": "LayoutModel",
            "_view_count": null,
            "_view_module": "@jupyter-widgets/base",
            "_view_module_version": "1.2.0",
            "_view_name": "LayoutView",
            "align_content": null,
            "align_items": null,
            "align_self": null,
            "border": null,
            "bottom": null,
            "display": null,
            "flex": null,
            "flex_flow": null,
            "grid_area": null,
            "grid_auto_columns": null,
            "grid_auto_flow": null,
            "grid_auto_rows": null,
            "grid_column": null,
            "grid_gap": null,
            "grid_row": null,
            "grid_template_areas": null,
            "grid_template_columns": null,
            "grid_template_rows": null,
            "height": null,
            "justify_content": null,
            "justify_items": null,
            "left": null,
            "margin": null,
            "max_height": null,
            "max_width": null,
            "min_height": null,
            "min_width": null,
            "object_fit": null,
            "object_position": null,
            "order": null,
            "overflow": null,
            "overflow_x": null,
            "overflow_y": null,
            "padding": null,
            "right": null,
            "top": null,
            "visibility": null,
            "width": null
          }
        },
        "c8ad481118d04617af594851f134d815": {
          "model_module": "@jupyter-widgets/controls",
          "model_name": "DescriptionStyleModel",
          "model_module_version": "1.5.0",
          "state": {
            "_model_module": "@jupyter-widgets/controls",
            "_model_module_version": "1.5.0",
            "_model_name": "DescriptionStyleModel",
            "_view_count": null,
            "_view_module": "@jupyter-widgets/base",
            "_view_module_version": "1.2.0",
            "_view_name": "StyleView",
            "description_width": ""
          }
        },
        "0ed187efe8c042b6bc4a5cfe33e25140": {
          "model_module": "@jupyter-widgets/base",
          "model_name": "LayoutModel",
          "model_module_version": "1.2.0",
          "state": {
            "_model_module": "@jupyter-widgets/base",
            "_model_module_version": "1.2.0",
            "_model_name": "LayoutModel",
            "_view_count": null,
            "_view_module": "@jupyter-widgets/base",
            "_view_module_version": "1.2.0",
            "_view_name": "LayoutView",
            "align_content": null,
            "align_items": null,
            "align_self": null,
            "border": null,
            "bottom": null,
            "display": null,
            "flex": null,
            "flex_flow": null,
            "grid_area": null,
            "grid_auto_columns": null,
            "grid_auto_flow": null,
            "grid_auto_rows": null,
            "grid_column": null,
            "grid_gap": null,
            "grid_row": null,
            "grid_template_areas": null,
            "grid_template_columns": null,
            "grid_template_rows": null,
            "height": null,
            "justify_content": null,
            "justify_items": null,
            "left": null,
            "margin": null,
            "max_height": null,
            "max_width": null,
            "min_height": null,
            "min_width": null,
            "object_fit": null,
            "object_position": null,
            "order": null,
            "overflow": null,
            "overflow_x": null,
            "overflow_y": null,
            "padding": null,
            "right": null,
            "top": null,
            "visibility": null,
            "width": null
          }
        },
        "139d4c1bd7e442828048d99bf2a36850": {
          "model_module": "@jupyter-widgets/controls",
          "model_name": "ProgressStyleModel",
          "model_module_version": "1.5.0",
          "state": {
            "_model_module": "@jupyter-widgets/controls",
            "_model_module_version": "1.5.0",
            "_model_name": "ProgressStyleModel",
            "_view_count": null,
            "_view_module": "@jupyter-widgets/base",
            "_view_module_version": "1.2.0",
            "_view_name": "StyleView",
            "bar_color": null,
            "description_width": ""
          }
        },
        "c63d4f4071194e87b1d53826edd88456": {
          "model_module": "@jupyter-widgets/controls",
          "model_name": "VBoxModel",
          "model_module_version": "1.5.0",
          "state": {
            "_dom_classes": [],
            "_model_module": "@jupyter-widgets/controls",
            "_model_module_version": "1.5.0",
            "_model_name": "VBoxModel",
            "_view_count": null,
            "_view_module": "@jupyter-widgets/controls",
            "_view_module_version": "1.5.0",
            "_view_name": "VBoxView",
            "box_style": "",
            "children": [
              "IPY_MODEL_c6e8af40ddef40e89ed35d95ac03ec3f",
              "IPY_MODEL_375f00c36c0f48da8283919b66b18f35"
            ],
            "layout": "IPY_MODEL_0f4bf3c5120740ea9fc49d32146b0cb2"
          }
        },
        "c6e8af40ddef40e89ed35d95ac03ec3f": {
          "model_module": "@jupyter-widgets/controls",
          "model_name": "LabelModel",
          "model_module_version": "1.5.0",
          "state": {
            "_dom_classes": [],
            "_model_module": "@jupyter-widgets/controls",
            "_model_module_version": "1.5.0",
            "_model_name": "LabelModel",
            "_view_count": null,
            "_view_module": "@jupyter-widgets/controls",
            "_view_module_version": "1.5.0",
            "_view_name": "LabelView",
            "description": "",
            "description_tooltip": null,
            "layout": "IPY_MODEL_c766172d28424a76b42fb247484a697f",
            "placeholder": "​",
            "style": "IPY_MODEL_9d02655ca7a9420d97b61cafdfbf69d9",
            "value": "0.014 MB of 0.014 MB uploaded\r"
          }
        },
        "375f00c36c0f48da8283919b66b18f35": {
          "model_module": "@jupyter-widgets/controls",
          "model_name": "FloatProgressModel",
          "model_module_version": "1.5.0",
          "state": {
            "_dom_classes": [],
            "_model_module": "@jupyter-widgets/controls",
            "_model_module_version": "1.5.0",
            "_model_name": "FloatProgressModel",
            "_view_count": null,
            "_view_module": "@jupyter-widgets/controls",
            "_view_module_version": "1.5.0",
            "_view_name": "ProgressView",
            "bar_style": "",
            "description": "",
            "description_tooltip": null,
            "layout": "IPY_MODEL_0403698e7038461bbd61e8459eb6dc7a",
            "max": 1,
            "min": 0,
            "orientation": "horizontal",
            "style": "IPY_MODEL_b97f5c756536427abe44a122f8a7107c",
            "value": 1
          }
        },
        "0f4bf3c5120740ea9fc49d32146b0cb2": {
          "model_module": "@jupyter-widgets/base",
          "model_name": "LayoutModel",
          "model_module_version": "1.2.0",
          "state": {
            "_model_module": "@jupyter-widgets/base",
            "_model_module_version": "1.2.0",
            "_model_name": "LayoutModel",
            "_view_count": null,
            "_view_module": "@jupyter-widgets/base",
            "_view_module_version": "1.2.0",
            "_view_name": "LayoutView",
            "align_content": null,
            "align_items": null,
            "align_self": null,
            "border": null,
            "bottom": null,
            "display": null,
            "flex": null,
            "flex_flow": null,
            "grid_area": null,
            "grid_auto_columns": null,
            "grid_auto_flow": null,
            "grid_auto_rows": null,
            "grid_column": null,
            "grid_gap": null,
            "grid_row": null,
            "grid_template_areas": null,
            "grid_template_columns": null,
            "grid_template_rows": null,
            "height": null,
            "justify_content": null,
            "justify_items": null,
            "left": null,
            "margin": null,
            "max_height": null,
            "max_width": null,
            "min_height": null,
            "min_width": null,
            "object_fit": null,
            "object_position": null,
            "order": null,
            "overflow": null,
            "overflow_x": null,
            "overflow_y": null,
            "padding": null,
            "right": null,
            "top": null,
            "visibility": null,
            "width": null
          }
        },
        "c766172d28424a76b42fb247484a697f": {
          "model_module": "@jupyter-widgets/base",
          "model_name": "LayoutModel",
          "model_module_version": "1.2.0",
          "state": {
            "_model_module": "@jupyter-widgets/base",
            "_model_module_version": "1.2.0",
            "_model_name": "LayoutModel",
            "_view_count": null,
            "_view_module": "@jupyter-widgets/base",
            "_view_module_version": "1.2.0",
            "_view_name": "LayoutView",
            "align_content": null,
            "align_items": null,
            "align_self": null,
            "border": null,
            "bottom": null,
            "display": null,
            "flex": null,
            "flex_flow": null,
            "grid_area": null,
            "grid_auto_columns": null,
            "grid_auto_flow": null,
            "grid_auto_rows": null,
            "grid_column": null,
            "grid_gap": null,
            "grid_row": null,
            "grid_template_areas": null,
            "grid_template_columns": null,
            "grid_template_rows": null,
            "height": null,
            "justify_content": null,
            "justify_items": null,
            "left": null,
            "margin": null,
            "max_height": null,
            "max_width": null,
            "min_height": null,
            "min_width": null,
            "object_fit": null,
            "object_position": null,
            "order": null,
            "overflow": null,
            "overflow_x": null,
            "overflow_y": null,
            "padding": null,
            "right": null,
            "top": null,
            "visibility": null,
            "width": null
          }
        },
        "9d02655ca7a9420d97b61cafdfbf69d9": {
          "model_module": "@jupyter-widgets/controls",
          "model_name": "DescriptionStyleModel",
          "model_module_version": "1.5.0",
          "state": {
            "_model_module": "@jupyter-widgets/controls",
            "_model_module_version": "1.5.0",
            "_model_name": "DescriptionStyleModel",
            "_view_count": null,
            "_view_module": "@jupyter-widgets/base",
            "_view_module_version": "1.2.0",
            "_view_name": "StyleView",
            "description_width": ""
          }
        },
        "0403698e7038461bbd61e8459eb6dc7a": {
          "model_module": "@jupyter-widgets/base",
          "model_name": "LayoutModel",
          "model_module_version": "1.2.0",
          "state": {
            "_model_module": "@jupyter-widgets/base",
            "_model_module_version": "1.2.0",
            "_model_name": "LayoutModel",
            "_view_count": null,
            "_view_module": "@jupyter-widgets/base",
            "_view_module_version": "1.2.0",
            "_view_name": "LayoutView",
            "align_content": null,
            "align_items": null,
            "align_self": null,
            "border": null,
            "bottom": null,
            "display": null,
            "flex": null,
            "flex_flow": null,
            "grid_area": null,
            "grid_auto_columns": null,
            "grid_auto_flow": null,
            "grid_auto_rows": null,
            "grid_column": null,
            "grid_gap": null,
            "grid_row": null,
            "grid_template_areas": null,
            "grid_template_columns": null,
            "grid_template_rows": null,
            "height": null,
            "justify_content": null,
            "justify_items": null,
            "left": null,
            "margin": null,
            "max_height": null,
            "max_width": null,
            "min_height": null,
            "min_width": null,
            "object_fit": null,
            "object_position": null,
            "order": null,
            "overflow": null,
            "overflow_x": null,
            "overflow_y": null,
            "padding": null,
            "right": null,
            "top": null,
            "visibility": null,
            "width": null
          }
        },
        "b97f5c756536427abe44a122f8a7107c": {
          "model_module": "@jupyter-widgets/controls",
          "model_name": "ProgressStyleModel",
          "model_module_version": "1.5.0",
          "state": {
            "_model_module": "@jupyter-widgets/controls",
            "_model_module_version": "1.5.0",
            "_model_name": "ProgressStyleModel",
            "_view_count": null,
            "_view_module": "@jupyter-widgets/base",
            "_view_module_version": "1.2.0",
            "_view_name": "StyleView",
            "bar_color": null,
            "description_width": ""
          }
        },
        "de6aeb50d1e84a909e317decad03ecb1": {
          "model_module": "@jupyter-widgets/controls",
          "model_name": "VBoxModel",
          "model_module_version": "1.5.0",
          "state": {
            "_dom_classes": [],
            "_model_module": "@jupyter-widgets/controls",
            "_model_module_version": "1.5.0",
            "_model_name": "VBoxModel",
            "_view_count": null,
            "_view_module": "@jupyter-widgets/controls",
            "_view_module_version": "1.5.0",
            "_view_name": "VBoxView",
            "box_style": "",
            "children": [
              "IPY_MODEL_80c7fd3d5f0f49dabacf2acf750999a5",
              "IPY_MODEL_02e18b5c4e32498593d2d435d116e8f6"
            ],
            "layout": "IPY_MODEL_29e8f7d5deba4aada340ac748d7b8b8d"
          }
        },
        "80c7fd3d5f0f49dabacf2acf750999a5": {
          "model_module": "@jupyter-widgets/controls",
          "model_name": "LabelModel",
          "model_module_version": "1.5.0",
          "state": {
            "_dom_classes": [],
            "_model_module": "@jupyter-widgets/controls",
            "_model_module_version": "1.5.0",
            "_model_name": "LabelModel",
            "_view_count": null,
            "_view_module": "@jupyter-widgets/controls",
            "_view_module_version": "1.5.0",
            "_view_name": "LabelView",
            "description": "",
            "description_tooltip": null,
            "layout": "IPY_MODEL_d9f4f1253c254d5babe0d85ce42dbb7a",
            "placeholder": "​",
            "style": "IPY_MODEL_edf41e1a69554ad89054d882d9fa1c09",
            "value": "0.014 MB of 0.014 MB uploaded\r"
          }
        },
        "02e18b5c4e32498593d2d435d116e8f6": {
          "model_module": "@jupyter-widgets/controls",
          "model_name": "FloatProgressModel",
          "model_module_version": "1.5.0",
          "state": {
            "_dom_classes": [],
            "_model_module": "@jupyter-widgets/controls",
            "_model_module_version": "1.5.0",
            "_model_name": "FloatProgressModel",
            "_view_count": null,
            "_view_module": "@jupyter-widgets/controls",
            "_view_module_version": "1.5.0",
            "_view_name": "ProgressView",
            "bar_style": "",
            "description": "",
            "description_tooltip": null,
            "layout": "IPY_MODEL_92cd95a84ee74329881b5b402fb3a0f2",
            "max": 1,
            "min": 0,
            "orientation": "horizontal",
            "style": "IPY_MODEL_9b89932266064ab7bcdd58b8da5aae35",
            "value": 1
          }
        },
        "29e8f7d5deba4aada340ac748d7b8b8d": {
          "model_module": "@jupyter-widgets/base",
          "model_name": "LayoutModel",
          "model_module_version": "1.2.0",
          "state": {
            "_model_module": "@jupyter-widgets/base",
            "_model_module_version": "1.2.0",
            "_model_name": "LayoutModel",
            "_view_count": null,
            "_view_module": "@jupyter-widgets/base",
            "_view_module_version": "1.2.0",
            "_view_name": "LayoutView",
            "align_content": null,
            "align_items": null,
            "align_self": null,
            "border": null,
            "bottom": null,
            "display": null,
            "flex": null,
            "flex_flow": null,
            "grid_area": null,
            "grid_auto_columns": null,
            "grid_auto_flow": null,
            "grid_auto_rows": null,
            "grid_column": null,
            "grid_gap": null,
            "grid_row": null,
            "grid_template_areas": null,
            "grid_template_columns": null,
            "grid_template_rows": null,
            "height": null,
            "justify_content": null,
            "justify_items": null,
            "left": null,
            "margin": null,
            "max_height": null,
            "max_width": null,
            "min_height": null,
            "min_width": null,
            "object_fit": null,
            "object_position": null,
            "order": null,
            "overflow": null,
            "overflow_x": null,
            "overflow_y": null,
            "padding": null,
            "right": null,
            "top": null,
            "visibility": null,
            "width": null
          }
        },
        "d9f4f1253c254d5babe0d85ce42dbb7a": {
          "model_module": "@jupyter-widgets/base",
          "model_name": "LayoutModel",
          "model_module_version": "1.2.0",
          "state": {
            "_model_module": "@jupyter-widgets/base",
            "_model_module_version": "1.2.0",
            "_model_name": "LayoutModel",
            "_view_count": null,
            "_view_module": "@jupyter-widgets/base",
            "_view_module_version": "1.2.0",
            "_view_name": "LayoutView",
            "align_content": null,
            "align_items": null,
            "align_self": null,
            "border": null,
            "bottom": null,
            "display": null,
            "flex": null,
            "flex_flow": null,
            "grid_area": null,
            "grid_auto_columns": null,
            "grid_auto_flow": null,
            "grid_auto_rows": null,
            "grid_column": null,
            "grid_gap": null,
            "grid_row": null,
            "grid_template_areas": null,
            "grid_template_columns": null,
            "grid_template_rows": null,
            "height": null,
            "justify_content": null,
            "justify_items": null,
            "left": null,
            "margin": null,
            "max_height": null,
            "max_width": null,
            "min_height": null,
            "min_width": null,
            "object_fit": null,
            "object_position": null,
            "order": null,
            "overflow": null,
            "overflow_x": null,
            "overflow_y": null,
            "padding": null,
            "right": null,
            "top": null,
            "visibility": null,
            "width": null
          }
        },
        "edf41e1a69554ad89054d882d9fa1c09": {
          "model_module": "@jupyter-widgets/controls",
          "model_name": "DescriptionStyleModel",
          "model_module_version": "1.5.0",
          "state": {
            "_model_module": "@jupyter-widgets/controls",
            "_model_module_version": "1.5.0",
            "_model_name": "DescriptionStyleModel",
            "_view_count": null,
            "_view_module": "@jupyter-widgets/base",
            "_view_module_version": "1.2.0",
            "_view_name": "StyleView",
            "description_width": ""
          }
        },
        "92cd95a84ee74329881b5b402fb3a0f2": {
          "model_module": "@jupyter-widgets/base",
          "model_name": "LayoutModel",
          "model_module_version": "1.2.0",
          "state": {
            "_model_module": "@jupyter-widgets/base",
            "_model_module_version": "1.2.0",
            "_model_name": "LayoutModel",
            "_view_count": null,
            "_view_module": "@jupyter-widgets/base",
            "_view_module_version": "1.2.0",
            "_view_name": "LayoutView",
            "align_content": null,
            "align_items": null,
            "align_self": null,
            "border": null,
            "bottom": null,
            "display": null,
            "flex": null,
            "flex_flow": null,
            "grid_area": null,
            "grid_auto_columns": null,
            "grid_auto_flow": null,
            "grid_auto_rows": null,
            "grid_column": null,
            "grid_gap": null,
            "grid_row": null,
            "grid_template_areas": null,
            "grid_template_columns": null,
            "grid_template_rows": null,
            "height": null,
            "justify_content": null,
            "justify_items": null,
            "left": null,
            "margin": null,
            "max_height": null,
            "max_width": null,
            "min_height": null,
            "min_width": null,
            "object_fit": null,
            "object_position": null,
            "order": null,
            "overflow": null,
            "overflow_x": null,
            "overflow_y": null,
            "padding": null,
            "right": null,
            "top": null,
            "visibility": null,
            "width": null
          }
        },
        "9b89932266064ab7bcdd58b8da5aae35": {
          "model_module": "@jupyter-widgets/controls",
          "model_name": "ProgressStyleModel",
          "model_module_version": "1.5.0",
          "state": {
            "_model_module": "@jupyter-widgets/controls",
            "_model_module_version": "1.5.0",
            "_model_name": "ProgressStyleModel",
            "_view_count": null,
            "_view_module": "@jupyter-widgets/base",
            "_view_module_version": "1.2.0",
            "_view_name": "StyleView",
            "bar_color": null,
            "description_width": ""
          }
        },
        "eff02b8954a2416db590a9e1525293b2": {
          "model_module": "@jupyter-widgets/controls",
          "model_name": "VBoxModel",
          "model_module_version": "1.5.0",
          "state": {
            "_dom_classes": [],
            "_model_module": "@jupyter-widgets/controls",
            "_model_module_version": "1.5.0",
            "_model_name": "VBoxModel",
            "_view_count": null,
            "_view_module": "@jupyter-widgets/controls",
            "_view_module_version": "1.5.0",
            "_view_name": "VBoxView",
            "box_style": "",
            "children": [
              "IPY_MODEL_21033ab3c2074ceb94bf5a5599b365f1",
              "IPY_MODEL_dff379bbabdc47cd956d492925010eb6"
            ],
            "layout": "IPY_MODEL_cb22d7560b5e4d4e8ddf2413018a4bf2"
          }
        },
        "21033ab3c2074ceb94bf5a5599b365f1": {
          "model_module": "@jupyter-widgets/controls",
          "model_name": "LabelModel",
          "model_module_version": "1.5.0",
          "state": {
            "_dom_classes": [],
            "_model_module": "@jupyter-widgets/controls",
            "_model_module_version": "1.5.0",
            "_model_name": "LabelModel",
            "_view_count": null,
            "_view_module": "@jupyter-widgets/controls",
            "_view_module_version": "1.5.0",
            "_view_name": "LabelView",
            "description": "",
            "description_tooltip": null,
            "layout": "IPY_MODEL_6eea45e280e54ac4b47268a9ff79a037",
            "placeholder": "​",
            "style": "IPY_MODEL_9755db0a165e4afb84b8a2ea40519327",
            "value": "0.014 MB of 0.014 MB uploaded\r"
          }
        },
        "dff379bbabdc47cd956d492925010eb6": {
          "model_module": "@jupyter-widgets/controls",
          "model_name": "FloatProgressModel",
          "model_module_version": "1.5.0",
          "state": {
            "_dom_classes": [],
            "_model_module": "@jupyter-widgets/controls",
            "_model_module_version": "1.5.0",
            "_model_name": "FloatProgressModel",
            "_view_count": null,
            "_view_module": "@jupyter-widgets/controls",
            "_view_module_version": "1.5.0",
            "_view_name": "ProgressView",
            "bar_style": "",
            "description": "",
            "description_tooltip": null,
            "layout": "IPY_MODEL_350432d7982441a49277249b5c3cd720",
            "max": 1,
            "min": 0,
            "orientation": "horizontal",
            "style": "IPY_MODEL_e8c5d6ce0f1d4ec9af3122246ac70b13",
            "value": 1
          }
        },
        "cb22d7560b5e4d4e8ddf2413018a4bf2": {
          "model_module": "@jupyter-widgets/base",
          "model_name": "LayoutModel",
          "model_module_version": "1.2.0",
          "state": {
            "_model_module": "@jupyter-widgets/base",
            "_model_module_version": "1.2.0",
            "_model_name": "LayoutModel",
            "_view_count": null,
            "_view_module": "@jupyter-widgets/base",
            "_view_module_version": "1.2.0",
            "_view_name": "LayoutView",
            "align_content": null,
            "align_items": null,
            "align_self": null,
            "border": null,
            "bottom": null,
            "display": null,
            "flex": null,
            "flex_flow": null,
            "grid_area": null,
            "grid_auto_columns": null,
            "grid_auto_flow": null,
            "grid_auto_rows": null,
            "grid_column": null,
            "grid_gap": null,
            "grid_row": null,
            "grid_template_areas": null,
            "grid_template_columns": null,
            "grid_template_rows": null,
            "height": null,
            "justify_content": null,
            "justify_items": null,
            "left": null,
            "margin": null,
            "max_height": null,
            "max_width": null,
            "min_height": null,
            "min_width": null,
            "object_fit": null,
            "object_position": null,
            "order": null,
            "overflow": null,
            "overflow_x": null,
            "overflow_y": null,
            "padding": null,
            "right": null,
            "top": null,
            "visibility": null,
            "width": null
          }
        },
        "6eea45e280e54ac4b47268a9ff79a037": {
          "model_module": "@jupyter-widgets/base",
          "model_name": "LayoutModel",
          "model_module_version": "1.2.0",
          "state": {
            "_model_module": "@jupyter-widgets/base",
            "_model_module_version": "1.2.0",
            "_model_name": "LayoutModel",
            "_view_count": null,
            "_view_module": "@jupyter-widgets/base",
            "_view_module_version": "1.2.0",
            "_view_name": "LayoutView",
            "align_content": null,
            "align_items": null,
            "align_self": null,
            "border": null,
            "bottom": null,
            "display": null,
            "flex": null,
            "flex_flow": null,
            "grid_area": null,
            "grid_auto_columns": null,
            "grid_auto_flow": null,
            "grid_auto_rows": null,
            "grid_column": null,
            "grid_gap": null,
            "grid_row": null,
            "grid_template_areas": null,
            "grid_template_columns": null,
            "grid_template_rows": null,
            "height": null,
            "justify_content": null,
            "justify_items": null,
            "left": null,
            "margin": null,
            "max_height": null,
            "max_width": null,
            "min_height": null,
            "min_width": null,
            "object_fit": null,
            "object_position": null,
            "order": null,
            "overflow": null,
            "overflow_x": null,
            "overflow_y": null,
            "padding": null,
            "right": null,
            "top": null,
            "visibility": null,
            "width": null
          }
        },
        "9755db0a165e4afb84b8a2ea40519327": {
          "model_module": "@jupyter-widgets/controls",
          "model_name": "DescriptionStyleModel",
          "model_module_version": "1.5.0",
          "state": {
            "_model_module": "@jupyter-widgets/controls",
            "_model_module_version": "1.5.0",
            "_model_name": "DescriptionStyleModel",
            "_view_count": null,
            "_view_module": "@jupyter-widgets/base",
            "_view_module_version": "1.2.0",
            "_view_name": "StyleView",
            "description_width": ""
          }
        },
        "350432d7982441a49277249b5c3cd720": {
          "model_module": "@jupyter-widgets/base",
          "model_name": "LayoutModel",
          "model_module_version": "1.2.0",
          "state": {
            "_model_module": "@jupyter-widgets/base",
            "_model_module_version": "1.2.0",
            "_model_name": "LayoutModel",
            "_view_count": null,
            "_view_module": "@jupyter-widgets/base",
            "_view_module_version": "1.2.0",
            "_view_name": "LayoutView",
            "align_content": null,
            "align_items": null,
            "align_self": null,
            "border": null,
            "bottom": null,
            "display": null,
            "flex": null,
            "flex_flow": null,
            "grid_area": null,
            "grid_auto_columns": null,
            "grid_auto_flow": null,
            "grid_auto_rows": null,
            "grid_column": null,
            "grid_gap": null,
            "grid_row": null,
            "grid_template_areas": null,
            "grid_template_columns": null,
            "grid_template_rows": null,
            "height": null,
            "justify_content": null,
            "justify_items": null,
            "left": null,
            "margin": null,
            "max_height": null,
            "max_width": null,
            "min_height": null,
            "min_width": null,
            "object_fit": null,
            "object_position": null,
            "order": null,
            "overflow": null,
            "overflow_x": null,
            "overflow_y": null,
            "padding": null,
            "right": null,
            "top": null,
            "visibility": null,
            "width": null
          }
        },
        "e8c5d6ce0f1d4ec9af3122246ac70b13": {
          "model_module": "@jupyter-widgets/controls",
          "model_name": "ProgressStyleModel",
          "model_module_version": "1.5.0",
          "state": {
            "_model_module": "@jupyter-widgets/controls",
            "_model_module_version": "1.5.0",
            "_model_name": "ProgressStyleModel",
            "_view_count": null,
            "_view_module": "@jupyter-widgets/base",
            "_view_module_version": "1.2.0",
            "_view_name": "StyleView",
            "bar_color": null,
            "description_width": ""
          }
        },
        "6884b391a794477ca74bc4d54af2faee": {
          "model_module": "@jupyter-widgets/controls",
          "model_name": "VBoxModel",
          "model_module_version": "1.5.0",
          "state": {
            "_dom_classes": [],
            "_model_module": "@jupyter-widgets/controls",
            "_model_module_version": "1.5.0",
            "_model_name": "VBoxModel",
            "_view_count": null,
            "_view_module": "@jupyter-widgets/controls",
            "_view_module_version": "1.5.0",
            "_view_name": "VBoxView",
            "box_style": "",
            "children": [
              "IPY_MODEL_b3a3db0e0d1e4a6ea50c30dde9c2262d",
              "IPY_MODEL_2f8077b3abdc43628c7b2aa40558c3b3"
            ],
            "layout": "IPY_MODEL_6a60c4a402bd47309529bef30e52d371"
          }
        },
        "b3a3db0e0d1e4a6ea50c30dde9c2262d": {
          "model_module": "@jupyter-widgets/controls",
          "model_name": "LabelModel",
          "model_module_version": "1.5.0",
          "state": {
            "_dom_classes": [],
            "_model_module": "@jupyter-widgets/controls",
            "_model_module_version": "1.5.0",
            "_model_name": "LabelModel",
            "_view_count": null,
            "_view_module": "@jupyter-widgets/controls",
            "_view_module_version": "1.5.0",
            "_view_name": "LabelView",
            "description": "",
            "description_tooltip": null,
            "layout": "IPY_MODEL_7d9fddca83b24e00954a760bc1ea1f0b",
            "placeholder": "​",
            "style": "IPY_MODEL_c960309c22f44d01bd4a97eca33ac1fc",
            "value": "0.014 MB of 0.014 MB uploaded\r"
          }
        },
        "2f8077b3abdc43628c7b2aa40558c3b3": {
          "model_module": "@jupyter-widgets/controls",
          "model_name": "FloatProgressModel",
          "model_module_version": "1.5.0",
          "state": {
            "_dom_classes": [],
            "_model_module": "@jupyter-widgets/controls",
            "_model_module_version": "1.5.0",
            "_model_name": "FloatProgressModel",
            "_view_count": null,
            "_view_module": "@jupyter-widgets/controls",
            "_view_module_version": "1.5.0",
            "_view_name": "ProgressView",
            "bar_style": "",
            "description": "",
            "description_tooltip": null,
            "layout": "IPY_MODEL_1f069c3eeb554f2795c6e004e7120c2e",
            "max": 1,
            "min": 0,
            "orientation": "horizontal",
            "style": "IPY_MODEL_a864abf208224904a2ff7c41c045a810",
            "value": 1
          }
        },
        "6a60c4a402bd47309529bef30e52d371": {
          "model_module": "@jupyter-widgets/base",
          "model_name": "LayoutModel",
          "model_module_version": "1.2.0",
          "state": {
            "_model_module": "@jupyter-widgets/base",
            "_model_module_version": "1.2.0",
            "_model_name": "LayoutModel",
            "_view_count": null,
            "_view_module": "@jupyter-widgets/base",
            "_view_module_version": "1.2.0",
            "_view_name": "LayoutView",
            "align_content": null,
            "align_items": null,
            "align_self": null,
            "border": null,
            "bottom": null,
            "display": null,
            "flex": null,
            "flex_flow": null,
            "grid_area": null,
            "grid_auto_columns": null,
            "grid_auto_flow": null,
            "grid_auto_rows": null,
            "grid_column": null,
            "grid_gap": null,
            "grid_row": null,
            "grid_template_areas": null,
            "grid_template_columns": null,
            "grid_template_rows": null,
            "height": null,
            "justify_content": null,
            "justify_items": null,
            "left": null,
            "margin": null,
            "max_height": null,
            "max_width": null,
            "min_height": null,
            "min_width": null,
            "object_fit": null,
            "object_position": null,
            "order": null,
            "overflow": null,
            "overflow_x": null,
            "overflow_y": null,
            "padding": null,
            "right": null,
            "top": null,
            "visibility": null,
            "width": null
          }
        },
        "7d9fddca83b24e00954a760bc1ea1f0b": {
          "model_module": "@jupyter-widgets/base",
          "model_name": "LayoutModel",
          "model_module_version": "1.2.0",
          "state": {
            "_model_module": "@jupyter-widgets/base",
            "_model_module_version": "1.2.0",
            "_model_name": "LayoutModel",
            "_view_count": null,
            "_view_module": "@jupyter-widgets/base",
            "_view_module_version": "1.2.0",
            "_view_name": "LayoutView",
            "align_content": null,
            "align_items": null,
            "align_self": null,
            "border": null,
            "bottom": null,
            "display": null,
            "flex": null,
            "flex_flow": null,
            "grid_area": null,
            "grid_auto_columns": null,
            "grid_auto_flow": null,
            "grid_auto_rows": null,
            "grid_column": null,
            "grid_gap": null,
            "grid_row": null,
            "grid_template_areas": null,
            "grid_template_columns": null,
            "grid_template_rows": null,
            "height": null,
            "justify_content": null,
            "justify_items": null,
            "left": null,
            "margin": null,
            "max_height": null,
            "max_width": null,
            "min_height": null,
            "min_width": null,
            "object_fit": null,
            "object_position": null,
            "order": null,
            "overflow": null,
            "overflow_x": null,
            "overflow_y": null,
            "padding": null,
            "right": null,
            "top": null,
            "visibility": null,
            "width": null
          }
        },
        "c960309c22f44d01bd4a97eca33ac1fc": {
          "model_module": "@jupyter-widgets/controls",
          "model_name": "DescriptionStyleModel",
          "model_module_version": "1.5.0",
          "state": {
            "_model_module": "@jupyter-widgets/controls",
            "_model_module_version": "1.5.0",
            "_model_name": "DescriptionStyleModel",
            "_view_count": null,
            "_view_module": "@jupyter-widgets/base",
            "_view_module_version": "1.2.0",
            "_view_name": "StyleView",
            "description_width": ""
          }
        },
        "1f069c3eeb554f2795c6e004e7120c2e": {
          "model_module": "@jupyter-widgets/base",
          "model_name": "LayoutModel",
          "model_module_version": "1.2.0",
          "state": {
            "_model_module": "@jupyter-widgets/base",
            "_model_module_version": "1.2.0",
            "_model_name": "LayoutModel",
            "_view_count": null,
            "_view_module": "@jupyter-widgets/base",
            "_view_module_version": "1.2.0",
            "_view_name": "LayoutView",
            "align_content": null,
            "align_items": null,
            "align_self": null,
            "border": null,
            "bottom": null,
            "display": null,
            "flex": null,
            "flex_flow": null,
            "grid_area": null,
            "grid_auto_columns": null,
            "grid_auto_flow": null,
            "grid_auto_rows": null,
            "grid_column": null,
            "grid_gap": null,
            "grid_row": null,
            "grid_template_areas": null,
            "grid_template_columns": null,
            "grid_template_rows": null,
            "height": null,
            "justify_content": null,
            "justify_items": null,
            "left": null,
            "margin": null,
            "max_height": null,
            "max_width": null,
            "min_height": null,
            "min_width": null,
            "object_fit": null,
            "object_position": null,
            "order": null,
            "overflow": null,
            "overflow_x": null,
            "overflow_y": null,
            "padding": null,
            "right": null,
            "top": null,
            "visibility": null,
            "width": null
          }
        },
        "a864abf208224904a2ff7c41c045a810": {
          "model_module": "@jupyter-widgets/controls",
          "model_name": "ProgressStyleModel",
          "model_module_version": "1.5.0",
          "state": {
            "_model_module": "@jupyter-widgets/controls",
            "_model_module_version": "1.5.0",
            "_model_name": "ProgressStyleModel",
            "_view_count": null,
            "_view_module": "@jupyter-widgets/base",
            "_view_module_version": "1.2.0",
            "_view_name": "StyleView",
            "bar_color": null,
            "description_width": ""
          }
        },
        "2fded33c6ef54b1cbc2b50931bd329cc": {
          "model_module": "@jupyter-widgets/controls",
          "model_name": "VBoxModel",
          "model_module_version": "1.5.0",
          "state": {
            "_dom_classes": [],
            "_model_module": "@jupyter-widgets/controls",
            "_model_module_version": "1.5.0",
            "_model_name": "VBoxModel",
            "_view_count": null,
            "_view_module": "@jupyter-widgets/controls",
            "_view_module_version": "1.5.0",
            "_view_name": "VBoxView",
            "box_style": "",
            "children": [
              "IPY_MODEL_931d795afcd748eb8f4dd07f66adbce3",
              "IPY_MODEL_3170c0dc5d184d6bad74bc0cc731436f"
            ],
            "layout": "IPY_MODEL_050f5d42298e440589e0453a350a2881"
          }
        },
        "931d795afcd748eb8f4dd07f66adbce3": {
          "model_module": "@jupyter-widgets/controls",
          "model_name": "LabelModel",
          "model_module_version": "1.5.0",
          "state": {
            "_dom_classes": [],
            "_model_module": "@jupyter-widgets/controls",
            "_model_module_version": "1.5.0",
            "_model_name": "LabelModel",
            "_view_count": null,
            "_view_module": "@jupyter-widgets/controls",
            "_view_module_version": "1.5.0",
            "_view_name": "LabelView",
            "description": "",
            "description_tooltip": null,
            "layout": "IPY_MODEL_50ff851e32ec4120bdb45a416bd85437",
            "placeholder": "​",
            "style": "IPY_MODEL_a30895f96ec44f1dbfb71ecb134cff04",
            "value": "0.014 MB of 0.014 MB uploaded\r"
          }
        },
        "3170c0dc5d184d6bad74bc0cc731436f": {
          "model_module": "@jupyter-widgets/controls",
          "model_name": "FloatProgressModel",
          "model_module_version": "1.5.0",
          "state": {
            "_dom_classes": [],
            "_model_module": "@jupyter-widgets/controls",
            "_model_module_version": "1.5.0",
            "_model_name": "FloatProgressModel",
            "_view_count": null,
            "_view_module": "@jupyter-widgets/controls",
            "_view_module_version": "1.5.0",
            "_view_name": "ProgressView",
            "bar_style": "",
            "description": "",
            "description_tooltip": null,
            "layout": "IPY_MODEL_5982dc7d2b1a49d980ca752d64dfd3ea",
            "max": 1,
            "min": 0,
            "orientation": "horizontal",
            "style": "IPY_MODEL_054869e318c54c758d1d6caa7f1810c9",
            "value": 1
          }
        },
        "050f5d42298e440589e0453a350a2881": {
          "model_module": "@jupyter-widgets/base",
          "model_name": "LayoutModel",
          "model_module_version": "1.2.0",
          "state": {
            "_model_module": "@jupyter-widgets/base",
            "_model_module_version": "1.2.0",
            "_model_name": "LayoutModel",
            "_view_count": null,
            "_view_module": "@jupyter-widgets/base",
            "_view_module_version": "1.2.0",
            "_view_name": "LayoutView",
            "align_content": null,
            "align_items": null,
            "align_self": null,
            "border": null,
            "bottom": null,
            "display": null,
            "flex": null,
            "flex_flow": null,
            "grid_area": null,
            "grid_auto_columns": null,
            "grid_auto_flow": null,
            "grid_auto_rows": null,
            "grid_column": null,
            "grid_gap": null,
            "grid_row": null,
            "grid_template_areas": null,
            "grid_template_columns": null,
            "grid_template_rows": null,
            "height": null,
            "justify_content": null,
            "justify_items": null,
            "left": null,
            "margin": null,
            "max_height": null,
            "max_width": null,
            "min_height": null,
            "min_width": null,
            "object_fit": null,
            "object_position": null,
            "order": null,
            "overflow": null,
            "overflow_x": null,
            "overflow_y": null,
            "padding": null,
            "right": null,
            "top": null,
            "visibility": null,
            "width": null
          }
        },
        "50ff851e32ec4120bdb45a416bd85437": {
          "model_module": "@jupyter-widgets/base",
          "model_name": "LayoutModel",
          "model_module_version": "1.2.0",
          "state": {
            "_model_module": "@jupyter-widgets/base",
            "_model_module_version": "1.2.0",
            "_model_name": "LayoutModel",
            "_view_count": null,
            "_view_module": "@jupyter-widgets/base",
            "_view_module_version": "1.2.0",
            "_view_name": "LayoutView",
            "align_content": null,
            "align_items": null,
            "align_self": null,
            "border": null,
            "bottom": null,
            "display": null,
            "flex": null,
            "flex_flow": null,
            "grid_area": null,
            "grid_auto_columns": null,
            "grid_auto_flow": null,
            "grid_auto_rows": null,
            "grid_column": null,
            "grid_gap": null,
            "grid_row": null,
            "grid_template_areas": null,
            "grid_template_columns": null,
            "grid_template_rows": null,
            "height": null,
            "justify_content": null,
            "justify_items": null,
            "left": null,
            "margin": null,
            "max_height": null,
            "max_width": null,
            "min_height": null,
            "min_width": null,
            "object_fit": null,
            "object_position": null,
            "order": null,
            "overflow": null,
            "overflow_x": null,
            "overflow_y": null,
            "padding": null,
            "right": null,
            "top": null,
            "visibility": null,
            "width": null
          }
        },
        "a30895f96ec44f1dbfb71ecb134cff04": {
          "model_module": "@jupyter-widgets/controls",
          "model_name": "DescriptionStyleModel",
          "model_module_version": "1.5.0",
          "state": {
            "_model_module": "@jupyter-widgets/controls",
            "_model_module_version": "1.5.0",
            "_model_name": "DescriptionStyleModel",
            "_view_count": null,
            "_view_module": "@jupyter-widgets/base",
            "_view_module_version": "1.2.0",
            "_view_name": "StyleView",
            "description_width": ""
          }
        },
        "5982dc7d2b1a49d980ca752d64dfd3ea": {
          "model_module": "@jupyter-widgets/base",
          "model_name": "LayoutModel",
          "model_module_version": "1.2.0",
          "state": {
            "_model_module": "@jupyter-widgets/base",
            "_model_module_version": "1.2.0",
            "_model_name": "LayoutModel",
            "_view_count": null,
            "_view_module": "@jupyter-widgets/base",
            "_view_module_version": "1.2.0",
            "_view_name": "LayoutView",
            "align_content": null,
            "align_items": null,
            "align_self": null,
            "border": null,
            "bottom": null,
            "display": null,
            "flex": null,
            "flex_flow": null,
            "grid_area": null,
            "grid_auto_columns": null,
            "grid_auto_flow": null,
            "grid_auto_rows": null,
            "grid_column": null,
            "grid_gap": null,
            "grid_row": null,
            "grid_template_areas": null,
            "grid_template_columns": null,
            "grid_template_rows": null,
            "height": null,
            "justify_content": null,
            "justify_items": null,
            "left": null,
            "margin": null,
            "max_height": null,
            "max_width": null,
            "min_height": null,
            "min_width": null,
            "object_fit": null,
            "object_position": null,
            "order": null,
            "overflow": null,
            "overflow_x": null,
            "overflow_y": null,
            "padding": null,
            "right": null,
            "top": null,
            "visibility": null,
            "width": null
          }
        },
        "054869e318c54c758d1d6caa7f1810c9": {
          "model_module": "@jupyter-widgets/controls",
          "model_name": "ProgressStyleModel",
          "model_module_version": "1.5.0",
          "state": {
            "_model_module": "@jupyter-widgets/controls",
            "_model_module_version": "1.5.0",
            "_model_name": "ProgressStyleModel",
            "_view_count": null,
            "_view_module": "@jupyter-widgets/base",
            "_view_module_version": "1.2.0",
            "_view_name": "StyleView",
            "bar_color": null,
            "description_width": ""
          }
        },
        "bc3b010ee2c644a1b7b6c61d23863be7": {
          "model_module": "@jupyter-widgets/controls",
          "model_name": "VBoxModel",
          "model_module_version": "1.5.0",
          "state": {
            "_dom_classes": [],
            "_model_module": "@jupyter-widgets/controls",
            "_model_module_version": "1.5.0",
            "_model_name": "VBoxModel",
            "_view_count": null,
            "_view_module": "@jupyter-widgets/controls",
            "_view_module_version": "1.5.0",
            "_view_name": "VBoxView",
            "box_style": "",
            "children": [
              "IPY_MODEL_a582e3ba2ff8477daa6802c7f62ebe4c",
              "IPY_MODEL_19368943051a434780423a79e0973f51"
            ],
            "layout": "IPY_MODEL_cc67b1d1375041b095292761f00af19b"
          }
        },
        "a582e3ba2ff8477daa6802c7f62ebe4c": {
          "model_module": "@jupyter-widgets/controls",
          "model_name": "LabelModel",
          "model_module_version": "1.5.0",
          "state": {
            "_dom_classes": [],
            "_model_module": "@jupyter-widgets/controls",
            "_model_module_version": "1.5.0",
            "_model_name": "LabelModel",
            "_view_count": null,
            "_view_module": "@jupyter-widgets/controls",
            "_view_module_version": "1.5.0",
            "_view_name": "LabelView",
            "description": "",
            "description_tooltip": null,
            "layout": "IPY_MODEL_1674dd91e6fb42bb876df911c4ab34d3",
            "placeholder": "​",
            "style": "IPY_MODEL_5e58d2829ebf4fafbba17d09ee97ea89",
            "value": "0.014 MB of 0.014 MB uploaded\r"
          }
        },
        "19368943051a434780423a79e0973f51": {
          "model_module": "@jupyter-widgets/controls",
          "model_name": "FloatProgressModel",
          "model_module_version": "1.5.0",
          "state": {
            "_dom_classes": [],
            "_model_module": "@jupyter-widgets/controls",
            "_model_module_version": "1.5.0",
            "_model_name": "FloatProgressModel",
            "_view_count": null,
            "_view_module": "@jupyter-widgets/controls",
            "_view_module_version": "1.5.0",
            "_view_name": "ProgressView",
            "bar_style": "",
            "description": "",
            "description_tooltip": null,
            "layout": "IPY_MODEL_adc6a03ed7d043dca9776634169083a6",
            "max": 1,
            "min": 0,
            "orientation": "horizontal",
            "style": "IPY_MODEL_dd4f61142b6c4cfaab339841acd079b4",
            "value": 1
          }
        },
        "cc67b1d1375041b095292761f00af19b": {
          "model_module": "@jupyter-widgets/base",
          "model_name": "LayoutModel",
          "model_module_version": "1.2.0",
          "state": {
            "_model_module": "@jupyter-widgets/base",
            "_model_module_version": "1.2.0",
            "_model_name": "LayoutModel",
            "_view_count": null,
            "_view_module": "@jupyter-widgets/base",
            "_view_module_version": "1.2.0",
            "_view_name": "LayoutView",
            "align_content": null,
            "align_items": null,
            "align_self": null,
            "border": null,
            "bottom": null,
            "display": null,
            "flex": null,
            "flex_flow": null,
            "grid_area": null,
            "grid_auto_columns": null,
            "grid_auto_flow": null,
            "grid_auto_rows": null,
            "grid_column": null,
            "grid_gap": null,
            "grid_row": null,
            "grid_template_areas": null,
            "grid_template_columns": null,
            "grid_template_rows": null,
            "height": null,
            "justify_content": null,
            "justify_items": null,
            "left": null,
            "margin": null,
            "max_height": null,
            "max_width": null,
            "min_height": null,
            "min_width": null,
            "object_fit": null,
            "object_position": null,
            "order": null,
            "overflow": null,
            "overflow_x": null,
            "overflow_y": null,
            "padding": null,
            "right": null,
            "top": null,
            "visibility": null,
            "width": null
          }
        },
        "1674dd91e6fb42bb876df911c4ab34d3": {
          "model_module": "@jupyter-widgets/base",
          "model_name": "LayoutModel",
          "model_module_version": "1.2.0",
          "state": {
            "_model_module": "@jupyter-widgets/base",
            "_model_module_version": "1.2.0",
            "_model_name": "LayoutModel",
            "_view_count": null,
            "_view_module": "@jupyter-widgets/base",
            "_view_module_version": "1.2.0",
            "_view_name": "LayoutView",
            "align_content": null,
            "align_items": null,
            "align_self": null,
            "border": null,
            "bottom": null,
            "display": null,
            "flex": null,
            "flex_flow": null,
            "grid_area": null,
            "grid_auto_columns": null,
            "grid_auto_flow": null,
            "grid_auto_rows": null,
            "grid_column": null,
            "grid_gap": null,
            "grid_row": null,
            "grid_template_areas": null,
            "grid_template_columns": null,
            "grid_template_rows": null,
            "height": null,
            "justify_content": null,
            "justify_items": null,
            "left": null,
            "margin": null,
            "max_height": null,
            "max_width": null,
            "min_height": null,
            "min_width": null,
            "object_fit": null,
            "object_position": null,
            "order": null,
            "overflow": null,
            "overflow_x": null,
            "overflow_y": null,
            "padding": null,
            "right": null,
            "top": null,
            "visibility": null,
            "width": null
          }
        },
        "5e58d2829ebf4fafbba17d09ee97ea89": {
          "model_module": "@jupyter-widgets/controls",
          "model_name": "DescriptionStyleModel",
          "model_module_version": "1.5.0",
          "state": {
            "_model_module": "@jupyter-widgets/controls",
            "_model_module_version": "1.5.0",
            "_model_name": "DescriptionStyleModel",
            "_view_count": null,
            "_view_module": "@jupyter-widgets/base",
            "_view_module_version": "1.2.0",
            "_view_name": "StyleView",
            "description_width": ""
          }
        },
        "adc6a03ed7d043dca9776634169083a6": {
          "model_module": "@jupyter-widgets/base",
          "model_name": "LayoutModel",
          "model_module_version": "1.2.0",
          "state": {
            "_model_module": "@jupyter-widgets/base",
            "_model_module_version": "1.2.0",
            "_model_name": "LayoutModel",
            "_view_count": null,
            "_view_module": "@jupyter-widgets/base",
            "_view_module_version": "1.2.0",
            "_view_name": "LayoutView",
            "align_content": null,
            "align_items": null,
            "align_self": null,
            "border": null,
            "bottom": null,
            "display": null,
            "flex": null,
            "flex_flow": null,
            "grid_area": null,
            "grid_auto_columns": null,
            "grid_auto_flow": null,
            "grid_auto_rows": null,
            "grid_column": null,
            "grid_gap": null,
            "grid_row": null,
            "grid_template_areas": null,
            "grid_template_columns": null,
            "grid_template_rows": null,
            "height": null,
            "justify_content": null,
            "justify_items": null,
            "left": null,
            "margin": null,
            "max_height": null,
            "max_width": null,
            "min_height": null,
            "min_width": null,
            "object_fit": null,
            "object_position": null,
            "order": null,
            "overflow": null,
            "overflow_x": null,
            "overflow_y": null,
            "padding": null,
            "right": null,
            "top": null,
            "visibility": null,
            "width": null
          }
        },
        "dd4f61142b6c4cfaab339841acd079b4": {
          "model_module": "@jupyter-widgets/controls",
          "model_name": "ProgressStyleModel",
          "model_module_version": "1.5.0",
          "state": {
            "_model_module": "@jupyter-widgets/controls",
            "_model_module_version": "1.5.0",
            "_model_name": "ProgressStyleModel",
            "_view_count": null,
            "_view_module": "@jupyter-widgets/base",
            "_view_module_version": "1.2.0",
            "_view_name": "StyleView",
            "bar_color": null,
            "description_width": ""
          }
        },
        "2da50e8dae2b4cf483dcc7e7cea7b247": {
          "model_module": "@jupyter-widgets/controls",
          "model_name": "VBoxModel",
          "model_module_version": "1.5.0",
          "state": {
            "_dom_classes": [],
            "_model_module": "@jupyter-widgets/controls",
            "_model_module_version": "1.5.0",
            "_model_name": "VBoxModel",
            "_view_count": null,
            "_view_module": "@jupyter-widgets/controls",
            "_view_module_version": "1.5.0",
            "_view_name": "VBoxView",
            "box_style": "",
            "children": [
              "IPY_MODEL_c1fdefb60c9b499598b053259acd82ff",
              "IPY_MODEL_440f4d893eef46199de7dc69da125f87"
            ],
            "layout": "IPY_MODEL_d680717b698c4867853c80ebd04db800"
          }
        },
        "c1fdefb60c9b499598b053259acd82ff": {
          "model_module": "@jupyter-widgets/controls",
          "model_name": "LabelModel",
          "model_module_version": "1.5.0",
          "state": {
            "_dom_classes": [],
            "_model_module": "@jupyter-widgets/controls",
            "_model_module_version": "1.5.0",
            "_model_name": "LabelModel",
            "_view_count": null,
            "_view_module": "@jupyter-widgets/controls",
            "_view_module_version": "1.5.0",
            "_view_name": "LabelView",
            "description": "",
            "description_tooltip": null,
            "layout": "IPY_MODEL_ad1912d59a9c4dc9a044d6b6343fda64",
            "placeholder": "​",
            "style": "IPY_MODEL_d874341c7b0040088957ee27a7c342a2",
            "value": "0.014 MB of 0.014 MB uploaded\r"
          }
        },
        "440f4d893eef46199de7dc69da125f87": {
          "model_module": "@jupyter-widgets/controls",
          "model_name": "FloatProgressModel",
          "model_module_version": "1.5.0",
          "state": {
            "_dom_classes": [],
            "_model_module": "@jupyter-widgets/controls",
            "_model_module_version": "1.5.0",
            "_model_name": "FloatProgressModel",
            "_view_count": null,
            "_view_module": "@jupyter-widgets/controls",
            "_view_module_version": "1.5.0",
            "_view_name": "ProgressView",
            "bar_style": "",
            "description": "",
            "description_tooltip": null,
            "layout": "IPY_MODEL_59c0fd60268e42c0bfe6b408df03e581",
            "max": 1,
            "min": 0,
            "orientation": "horizontal",
            "style": "IPY_MODEL_2cc36f90ad534c2cb108de48074f6565",
            "value": 1
          }
        },
        "d680717b698c4867853c80ebd04db800": {
          "model_module": "@jupyter-widgets/base",
          "model_name": "LayoutModel",
          "model_module_version": "1.2.0",
          "state": {
            "_model_module": "@jupyter-widgets/base",
            "_model_module_version": "1.2.0",
            "_model_name": "LayoutModel",
            "_view_count": null,
            "_view_module": "@jupyter-widgets/base",
            "_view_module_version": "1.2.0",
            "_view_name": "LayoutView",
            "align_content": null,
            "align_items": null,
            "align_self": null,
            "border": null,
            "bottom": null,
            "display": null,
            "flex": null,
            "flex_flow": null,
            "grid_area": null,
            "grid_auto_columns": null,
            "grid_auto_flow": null,
            "grid_auto_rows": null,
            "grid_column": null,
            "grid_gap": null,
            "grid_row": null,
            "grid_template_areas": null,
            "grid_template_columns": null,
            "grid_template_rows": null,
            "height": null,
            "justify_content": null,
            "justify_items": null,
            "left": null,
            "margin": null,
            "max_height": null,
            "max_width": null,
            "min_height": null,
            "min_width": null,
            "object_fit": null,
            "object_position": null,
            "order": null,
            "overflow": null,
            "overflow_x": null,
            "overflow_y": null,
            "padding": null,
            "right": null,
            "top": null,
            "visibility": null,
            "width": null
          }
        },
        "ad1912d59a9c4dc9a044d6b6343fda64": {
          "model_module": "@jupyter-widgets/base",
          "model_name": "LayoutModel",
          "model_module_version": "1.2.0",
          "state": {
            "_model_module": "@jupyter-widgets/base",
            "_model_module_version": "1.2.0",
            "_model_name": "LayoutModel",
            "_view_count": null,
            "_view_module": "@jupyter-widgets/base",
            "_view_module_version": "1.2.0",
            "_view_name": "LayoutView",
            "align_content": null,
            "align_items": null,
            "align_self": null,
            "border": null,
            "bottom": null,
            "display": null,
            "flex": null,
            "flex_flow": null,
            "grid_area": null,
            "grid_auto_columns": null,
            "grid_auto_flow": null,
            "grid_auto_rows": null,
            "grid_column": null,
            "grid_gap": null,
            "grid_row": null,
            "grid_template_areas": null,
            "grid_template_columns": null,
            "grid_template_rows": null,
            "height": null,
            "justify_content": null,
            "justify_items": null,
            "left": null,
            "margin": null,
            "max_height": null,
            "max_width": null,
            "min_height": null,
            "min_width": null,
            "object_fit": null,
            "object_position": null,
            "order": null,
            "overflow": null,
            "overflow_x": null,
            "overflow_y": null,
            "padding": null,
            "right": null,
            "top": null,
            "visibility": null,
            "width": null
          }
        },
        "d874341c7b0040088957ee27a7c342a2": {
          "model_module": "@jupyter-widgets/controls",
          "model_name": "DescriptionStyleModel",
          "model_module_version": "1.5.0",
          "state": {
            "_model_module": "@jupyter-widgets/controls",
            "_model_module_version": "1.5.0",
            "_model_name": "DescriptionStyleModel",
            "_view_count": null,
            "_view_module": "@jupyter-widgets/base",
            "_view_module_version": "1.2.0",
            "_view_name": "StyleView",
            "description_width": ""
          }
        },
        "59c0fd60268e42c0bfe6b408df03e581": {
          "model_module": "@jupyter-widgets/base",
          "model_name": "LayoutModel",
          "model_module_version": "1.2.0",
          "state": {
            "_model_module": "@jupyter-widgets/base",
            "_model_module_version": "1.2.0",
            "_model_name": "LayoutModel",
            "_view_count": null,
            "_view_module": "@jupyter-widgets/base",
            "_view_module_version": "1.2.0",
            "_view_name": "LayoutView",
            "align_content": null,
            "align_items": null,
            "align_self": null,
            "border": null,
            "bottom": null,
            "display": null,
            "flex": null,
            "flex_flow": null,
            "grid_area": null,
            "grid_auto_columns": null,
            "grid_auto_flow": null,
            "grid_auto_rows": null,
            "grid_column": null,
            "grid_gap": null,
            "grid_row": null,
            "grid_template_areas": null,
            "grid_template_columns": null,
            "grid_template_rows": null,
            "height": null,
            "justify_content": null,
            "justify_items": null,
            "left": null,
            "margin": null,
            "max_height": null,
            "max_width": null,
            "min_height": null,
            "min_width": null,
            "object_fit": null,
            "object_position": null,
            "order": null,
            "overflow": null,
            "overflow_x": null,
            "overflow_y": null,
            "padding": null,
            "right": null,
            "top": null,
            "visibility": null,
            "width": null
          }
        },
        "2cc36f90ad534c2cb108de48074f6565": {
          "model_module": "@jupyter-widgets/controls",
          "model_name": "ProgressStyleModel",
          "model_module_version": "1.5.0",
          "state": {
            "_model_module": "@jupyter-widgets/controls",
            "_model_module_version": "1.5.0",
            "_model_name": "ProgressStyleModel",
            "_view_count": null,
            "_view_module": "@jupyter-widgets/base",
            "_view_module_version": "1.2.0",
            "_view_name": "StyleView",
            "bar_color": null,
            "description_width": ""
          }
        },
        "7df45f247ce347df8ac013956f6d2087": {
          "model_module": "@jupyter-widgets/controls",
          "model_name": "VBoxModel",
          "model_module_version": "1.5.0",
          "state": {
            "_dom_classes": [],
            "_model_module": "@jupyter-widgets/controls",
            "_model_module_version": "1.5.0",
            "_model_name": "VBoxModel",
            "_view_count": null,
            "_view_module": "@jupyter-widgets/controls",
            "_view_module_version": "1.5.0",
            "_view_name": "VBoxView",
            "box_style": "",
            "children": [
              "IPY_MODEL_ddf03f331f3a4a3c9eeb8d3578cdb87c",
              "IPY_MODEL_65cec011ee024f0eb9d5c5830ae0f9fd"
            ],
            "layout": "IPY_MODEL_9a04be5346424c9995de3322d3e9247d"
          }
        },
        "ddf03f331f3a4a3c9eeb8d3578cdb87c": {
          "model_module": "@jupyter-widgets/controls",
          "model_name": "LabelModel",
          "model_module_version": "1.5.0",
          "state": {
            "_dom_classes": [],
            "_model_module": "@jupyter-widgets/controls",
            "_model_module_version": "1.5.0",
            "_model_name": "LabelModel",
            "_view_count": null,
            "_view_module": "@jupyter-widgets/controls",
            "_view_module_version": "1.5.0",
            "_view_name": "LabelView",
            "description": "",
            "description_tooltip": null,
            "layout": "IPY_MODEL_a7934ab1d3ed4037b0902c3c04200c8e",
            "placeholder": "​",
            "style": "IPY_MODEL_31fc52da79b645e2a835e038b1cc7b4f",
            "value": "0.014 MB of 0.014 MB uploaded\r"
          }
        },
        "65cec011ee024f0eb9d5c5830ae0f9fd": {
          "model_module": "@jupyter-widgets/controls",
          "model_name": "FloatProgressModel",
          "model_module_version": "1.5.0",
          "state": {
            "_dom_classes": [],
            "_model_module": "@jupyter-widgets/controls",
            "_model_module_version": "1.5.0",
            "_model_name": "FloatProgressModel",
            "_view_count": null,
            "_view_module": "@jupyter-widgets/controls",
            "_view_module_version": "1.5.0",
            "_view_name": "ProgressView",
            "bar_style": "",
            "description": "",
            "description_tooltip": null,
            "layout": "IPY_MODEL_0432f966c9ef42869b3c6496040f211a",
            "max": 1,
            "min": 0,
            "orientation": "horizontal",
            "style": "IPY_MODEL_b275a66a23b74b63801c8b9112690006",
            "value": 1
          }
        },
        "9a04be5346424c9995de3322d3e9247d": {
          "model_module": "@jupyter-widgets/base",
          "model_name": "LayoutModel",
          "model_module_version": "1.2.0",
          "state": {
            "_model_module": "@jupyter-widgets/base",
            "_model_module_version": "1.2.0",
            "_model_name": "LayoutModel",
            "_view_count": null,
            "_view_module": "@jupyter-widgets/base",
            "_view_module_version": "1.2.0",
            "_view_name": "LayoutView",
            "align_content": null,
            "align_items": null,
            "align_self": null,
            "border": null,
            "bottom": null,
            "display": null,
            "flex": null,
            "flex_flow": null,
            "grid_area": null,
            "grid_auto_columns": null,
            "grid_auto_flow": null,
            "grid_auto_rows": null,
            "grid_column": null,
            "grid_gap": null,
            "grid_row": null,
            "grid_template_areas": null,
            "grid_template_columns": null,
            "grid_template_rows": null,
            "height": null,
            "justify_content": null,
            "justify_items": null,
            "left": null,
            "margin": null,
            "max_height": null,
            "max_width": null,
            "min_height": null,
            "min_width": null,
            "object_fit": null,
            "object_position": null,
            "order": null,
            "overflow": null,
            "overflow_x": null,
            "overflow_y": null,
            "padding": null,
            "right": null,
            "top": null,
            "visibility": null,
            "width": null
          }
        },
        "a7934ab1d3ed4037b0902c3c04200c8e": {
          "model_module": "@jupyter-widgets/base",
          "model_name": "LayoutModel",
          "model_module_version": "1.2.0",
          "state": {
            "_model_module": "@jupyter-widgets/base",
            "_model_module_version": "1.2.0",
            "_model_name": "LayoutModel",
            "_view_count": null,
            "_view_module": "@jupyter-widgets/base",
            "_view_module_version": "1.2.0",
            "_view_name": "LayoutView",
            "align_content": null,
            "align_items": null,
            "align_self": null,
            "border": null,
            "bottom": null,
            "display": null,
            "flex": null,
            "flex_flow": null,
            "grid_area": null,
            "grid_auto_columns": null,
            "grid_auto_flow": null,
            "grid_auto_rows": null,
            "grid_column": null,
            "grid_gap": null,
            "grid_row": null,
            "grid_template_areas": null,
            "grid_template_columns": null,
            "grid_template_rows": null,
            "height": null,
            "justify_content": null,
            "justify_items": null,
            "left": null,
            "margin": null,
            "max_height": null,
            "max_width": null,
            "min_height": null,
            "min_width": null,
            "object_fit": null,
            "object_position": null,
            "order": null,
            "overflow": null,
            "overflow_x": null,
            "overflow_y": null,
            "padding": null,
            "right": null,
            "top": null,
            "visibility": null,
            "width": null
          }
        },
        "31fc52da79b645e2a835e038b1cc7b4f": {
          "model_module": "@jupyter-widgets/controls",
          "model_name": "DescriptionStyleModel",
          "model_module_version": "1.5.0",
          "state": {
            "_model_module": "@jupyter-widgets/controls",
            "_model_module_version": "1.5.0",
            "_model_name": "DescriptionStyleModel",
            "_view_count": null,
            "_view_module": "@jupyter-widgets/base",
            "_view_module_version": "1.2.0",
            "_view_name": "StyleView",
            "description_width": ""
          }
        },
        "0432f966c9ef42869b3c6496040f211a": {
          "model_module": "@jupyter-widgets/base",
          "model_name": "LayoutModel",
          "model_module_version": "1.2.0",
          "state": {
            "_model_module": "@jupyter-widgets/base",
            "_model_module_version": "1.2.0",
            "_model_name": "LayoutModel",
            "_view_count": null,
            "_view_module": "@jupyter-widgets/base",
            "_view_module_version": "1.2.0",
            "_view_name": "LayoutView",
            "align_content": null,
            "align_items": null,
            "align_self": null,
            "border": null,
            "bottom": null,
            "display": null,
            "flex": null,
            "flex_flow": null,
            "grid_area": null,
            "grid_auto_columns": null,
            "grid_auto_flow": null,
            "grid_auto_rows": null,
            "grid_column": null,
            "grid_gap": null,
            "grid_row": null,
            "grid_template_areas": null,
            "grid_template_columns": null,
            "grid_template_rows": null,
            "height": null,
            "justify_content": null,
            "justify_items": null,
            "left": null,
            "margin": null,
            "max_height": null,
            "max_width": null,
            "min_height": null,
            "min_width": null,
            "object_fit": null,
            "object_position": null,
            "order": null,
            "overflow": null,
            "overflow_x": null,
            "overflow_y": null,
            "padding": null,
            "right": null,
            "top": null,
            "visibility": null,
            "width": null
          }
        },
        "b275a66a23b74b63801c8b9112690006": {
          "model_module": "@jupyter-widgets/controls",
          "model_name": "ProgressStyleModel",
          "model_module_version": "1.5.0",
          "state": {
            "_model_module": "@jupyter-widgets/controls",
            "_model_module_version": "1.5.0",
            "_model_name": "ProgressStyleModel",
            "_view_count": null,
            "_view_module": "@jupyter-widgets/base",
            "_view_module_version": "1.2.0",
            "_view_name": "StyleView",
            "bar_color": null,
            "description_width": ""
          }
        },
        "6791f3d3484648ccae87fbfada1bc37a": {
          "model_module": "@jupyter-widgets/controls",
          "model_name": "VBoxModel",
          "model_module_version": "1.5.0",
          "state": {
            "_dom_classes": [],
            "_model_module": "@jupyter-widgets/controls",
            "_model_module_version": "1.5.0",
            "_model_name": "VBoxModel",
            "_view_count": null,
            "_view_module": "@jupyter-widgets/controls",
            "_view_module_version": "1.5.0",
            "_view_name": "VBoxView",
            "box_style": "",
            "children": [
              "IPY_MODEL_fa92feef0d784d1aaac7fef666f142e4",
              "IPY_MODEL_1e17c333c7da4359bfdf62c7bf2270c2"
            ],
            "layout": "IPY_MODEL_0fb6de9d771c4133a28a275d0a7d3952"
          }
        },
        "fa92feef0d784d1aaac7fef666f142e4": {
          "model_module": "@jupyter-widgets/controls",
          "model_name": "LabelModel",
          "model_module_version": "1.5.0",
          "state": {
            "_dom_classes": [],
            "_model_module": "@jupyter-widgets/controls",
            "_model_module_version": "1.5.0",
            "_model_name": "LabelModel",
            "_view_count": null,
            "_view_module": "@jupyter-widgets/controls",
            "_view_module_version": "1.5.0",
            "_view_name": "LabelView",
            "description": "",
            "description_tooltip": null,
            "layout": "IPY_MODEL_37a90c31ba88485597faa7aa3e40abce",
            "placeholder": "​",
            "style": "IPY_MODEL_4316b6830f014f46aaeb73671f9adef6",
            "value": "0.014 MB of 0.014 MB uploaded\r"
          }
        },
        "1e17c333c7da4359bfdf62c7bf2270c2": {
          "model_module": "@jupyter-widgets/controls",
          "model_name": "FloatProgressModel",
          "model_module_version": "1.5.0",
          "state": {
            "_dom_classes": [],
            "_model_module": "@jupyter-widgets/controls",
            "_model_module_version": "1.5.0",
            "_model_name": "FloatProgressModel",
            "_view_count": null,
            "_view_module": "@jupyter-widgets/controls",
            "_view_module_version": "1.5.0",
            "_view_name": "ProgressView",
            "bar_style": "",
            "description": "",
            "description_tooltip": null,
            "layout": "IPY_MODEL_f0b16087cece495cb43eebfc31f2b290",
            "max": 1,
            "min": 0,
            "orientation": "horizontal",
            "style": "IPY_MODEL_4c5b4150fb6e4528b929457f05faf954",
            "value": 1
          }
        },
        "0fb6de9d771c4133a28a275d0a7d3952": {
          "model_module": "@jupyter-widgets/base",
          "model_name": "LayoutModel",
          "model_module_version": "1.2.0",
          "state": {
            "_model_module": "@jupyter-widgets/base",
            "_model_module_version": "1.2.0",
            "_model_name": "LayoutModel",
            "_view_count": null,
            "_view_module": "@jupyter-widgets/base",
            "_view_module_version": "1.2.0",
            "_view_name": "LayoutView",
            "align_content": null,
            "align_items": null,
            "align_self": null,
            "border": null,
            "bottom": null,
            "display": null,
            "flex": null,
            "flex_flow": null,
            "grid_area": null,
            "grid_auto_columns": null,
            "grid_auto_flow": null,
            "grid_auto_rows": null,
            "grid_column": null,
            "grid_gap": null,
            "grid_row": null,
            "grid_template_areas": null,
            "grid_template_columns": null,
            "grid_template_rows": null,
            "height": null,
            "justify_content": null,
            "justify_items": null,
            "left": null,
            "margin": null,
            "max_height": null,
            "max_width": null,
            "min_height": null,
            "min_width": null,
            "object_fit": null,
            "object_position": null,
            "order": null,
            "overflow": null,
            "overflow_x": null,
            "overflow_y": null,
            "padding": null,
            "right": null,
            "top": null,
            "visibility": null,
            "width": null
          }
        },
        "37a90c31ba88485597faa7aa3e40abce": {
          "model_module": "@jupyter-widgets/base",
          "model_name": "LayoutModel",
          "model_module_version": "1.2.0",
          "state": {
            "_model_module": "@jupyter-widgets/base",
            "_model_module_version": "1.2.0",
            "_model_name": "LayoutModel",
            "_view_count": null,
            "_view_module": "@jupyter-widgets/base",
            "_view_module_version": "1.2.0",
            "_view_name": "LayoutView",
            "align_content": null,
            "align_items": null,
            "align_self": null,
            "border": null,
            "bottom": null,
            "display": null,
            "flex": null,
            "flex_flow": null,
            "grid_area": null,
            "grid_auto_columns": null,
            "grid_auto_flow": null,
            "grid_auto_rows": null,
            "grid_column": null,
            "grid_gap": null,
            "grid_row": null,
            "grid_template_areas": null,
            "grid_template_columns": null,
            "grid_template_rows": null,
            "height": null,
            "justify_content": null,
            "justify_items": null,
            "left": null,
            "margin": null,
            "max_height": null,
            "max_width": null,
            "min_height": null,
            "min_width": null,
            "object_fit": null,
            "object_position": null,
            "order": null,
            "overflow": null,
            "overflow_x": null,
            "overflow_y": null,
            "padding": null,
            "right": null,
            "top": null,
            "visibility": null,
            "width": null
          }
        },
        "4316b6830f014f46aaeb73671f9adef6": {
          "model_module": "@jupyter-widgets/controls",
          "model_name": "DescriptionStyleModel",
          "model_module_version": "1.5.0",
          "state": {
            "_model_module": "@jupyter-widgets/controls",
            "_model_module_version": "1.5.0",
            "_model_name": "DescriptionStyleModel",
            "_view_count": null,
            "_view_module": "@jupyter-widgets/base",
            "_view_module_version": "1.2.0",
            "_view_name": "StyleView",
            "description_width": ""
          }
        },
        "f0b16087cece495cb43eebfc31f2b290": {
          "model_module": "@jupyter-widgets/base",
          "model_name": "LayoutModel",
          "model_module_version": "1.2.0",
          "state": {
            "_model_module": "@jupyter-widgets/base",
            "_model_module_version": "1.2.0",
            "_model_name": "LayoutModel",
            "_view_count": null,
            "_view_module": "@jupyter-widgets/base",
            "_view_module_version": "1.2.0",
            "_view_name": "LayoutView",
            "align_content": null,
            "align_items": null,
            "align_self": null,
            "border": null,
            "bottom": null,
            "display": null,
            "flex": null,
            "flex_flow": null,
            "grid_area": null,
            "grid_auto_columns": null,
            "grid_auto_flow": null,
            "grid_auto_rows": null,
            "grid_column": null,
            "grid_gap": null,
            "grid_row": null,
            "grid_template_areas": null,
            "grid_template_columns": null,
            "grid_template_rows": null,
            "height": null,
            "justify_content": null,
            "justify_items": null,
            "left": null,
            "margin": null,
            "max_height": null,
            "max_width": null,
            "min_height": null,
            "min_width": null,
            "object_fit": null,
            "object_position": null,
            "order": null,
            "overflow": null,
            "overflow_x": null,
            "overflow_y": null,
            "padding": null,
            "right": null,
            "top": null,
            "visibility": null,
            "width": null
          }
        },
        "4c5b4150fb6e4528b929457f05faf954": {
          "model_module": "@jupyter-widgets/controls",
          "model_name": "ProgressStyleModel",
          "model_module_version": "1.5.0",
          "state": {
            "_model_module": "@jupyter-widgets/controls",
            "_model_module_version": "1.5.0",
            "_model_name": "ProgressStyleModel",
            "_view_count": null,
            "_view_module": "@jupyter-widgets/base",
            "_view_module_version": "1.2.0",
            "_view_name": "StyleView",
            "bar_color": null,
            "description_width": ""
          }
        },
        "3746b8d940d94ebcaa8a84df420a41e7": {
          "model_module": "@jupyter-widgets/controls",
          "model_name": "VBoxModel",
          "model_module_version": "1.5.0",
          "state": {
            "_dom_classes": [],
            "_model_module": "@jupyter-widgets/controls",
            "_model_module_version": "1.5.0",
            "_model_name": "VBoxModel",
            "_view_count": null,
            "_view_module": "@jupyter-widgets/controls",
            "_view_module_version": "1.5.0",
            "_view_name": "VBoxView",
            "box_style": "",
            "children": [
              "IPY_MODEL_5618a85ae44d44d7aaf6fd61958a5ca4",
              "IPY_MODEL_971a04126647436eb473c2ae4989cdbb"
            ],
            "layout": "IPY_MODEL_7c0d9db5aa024dfda2e6711a1167dbd1"
          }
        },
        "5618a85ae44d44d7aaf6fd61958a5ca4": {
          "model_module": "@jupyter-widgets/controls",
          "model_name": "LabelModel",
          "model_module_version": "1.5.0",
          "state": {
            "_dom_classes": [],
            "_model_module": "@jupyter-widgets/controls",
            "_model_module_version": "1.5.0",
            "_model_name": "LabelModel",
            "_view_count": null,
            "_view_module": "@jupyter-widgets/controls",
            "_view_module_version": "1.5.0",
            "_view_name": "LabelView",
            "description": "",
            "description_tooltip": null,
            "layout": "IPY_MODEL_01ea4320ce3742b6bb6e246b88e3a484",
            "placeholder": "​",
            "style": "IPY_MODEL_9323fe4128f94c25bdf09ad077588daa",
            "value": "0.014 MB of 0.014 MB uploaded\r"
          }
        },
        "971a04126647436eb473c2ae4989cdbb": {
          "model_module": "@jupyter-widgets/controls",
          "model_name": "FloatProgressModel",
          "model_module_version": "1.5.0",
          "state": {
            "_dom_classes": [],
            "_model_module": "@jupyter-widgets/controls",
            "_model_module_version": "1.5.0",
            "_model_name": "FloatProgressModel",
            "_view_count": null,
            "_view_module": "@jupyter-widgets/controls",
            "_view_module_version": "1.5.0",
            "_view_name": "ProgressView",
            "bar_style": "",
            "description": "",
            "description_tooltip": null,
            "layout": "IPY_MODEL_79a723444f7d4ba8ab3f97d3890acb5b",
            "max": 1,
            "min": 0,
            "orientation": "horizontal",
            "style": "IPY_MODEL_e8124eace87d4a1a8453306c6665cf5a",
            "value": 1
          }
        },
        "7c0d9db5aa024dfda2e6711a1167dbd1": {
          "model_module": "@jupyter-widgets/base",
          "model_name": "LayoutModel",
          "model_module_version": "1.2.0",
          "state": {
            "_model_module": "@jupyter-widgets/base",
            "_model_module_version": "1.2.0",
            "_model_name": "LayoutModel",
            "_view_count": null,
            "_view_module": "@jupyter-widgets/base",
            "_view_module_version": "1.2.0",
            "_view_name": "LayoutView",
            "align_content": null,
            "align_items": null,
            "align_self": null,
            "border": null,
            "bottom": null,
            "display": null,
            "flex": null,
            "flex_flow": null,
            "grid_area": null,
            "grid_auto_columns": null,
            "grid_auto_flow": null,
            "grid_auto_rows": null,
            "grid_column": null,
            "grid_gap": null,
            "grid_row": null,
            "grid_template_areas": null,
            "grid_template_columns": null,
            "grid_template_rows": null,
            "height": null,
            "justify_content": null,
            "justify_items": null,
            "left": null,
            "margin": null,
            "max_height": null,
            "max_width": null,
            "min_height": null,
            "min_width": null,
            "object_fit": null,
            "object_position": null,
            "order": null,
            "overflow": null,
            "overflow_x": null,
            "overflow_y": null,
            "padding": null,
            "right": null,
            "top": null,
            "visibility": null,
            "width": null
          }
        },
        "01ea4320ce3742b6bb6e246b88e3a484": {
          "model_module": "@jupyter-widgets/base",
          "model_name": "LayoutModel",
          "model_module_version": "1.2.0",
          "state": {
            "_model_module": "@jupyter-widgets/base",
            "_model_module_version": "1.2.0",
            "_model_name": "LayoutModel",
            "_view_count": null,
            "_view_module": "@jupyter-widgets/base",
            "_view_module_version": "1.2.0",
            "_view_name": "LayoutView",
            "align_content": null,
            "align_items": null,
            "align_self": null,
            "border": null,
            "bottom": null,
            "display": null,
            "flex": null,
            "flex_flow": null,
            "grid_area": null,
            "grid_auto_columns": null,
            "grid_auto_flow": null,
            "grid_auto_rows": null,
            "grid_column": null,
            "grid_gap": null,
            "grid_row": null,
            "grid_template_areas": null,
            "grid_template_columns": null,
            "grid_template_rows": null,
            "height": null,
            "justify_content": null,
            "justify_items": null,
            "left": null,
            "margin": null,
            "max_height": null,
            "max_width": null,
            "min_height": null,
            "min_width": null,
            "object_fit": null,
            "object_position": null,
            "order": null,
            "overflow": null,
            "overflow_x": null,
            "overflow_y": null,
            "padding": null,
            "right": null,
            "top": null,
            "visibility": null,
            "width": null
          }
        },
        "9323fe4128f94c25bdf09ad077588daa": {
          "model_module": "@jupyter-widgets/controls",
          "model_name": "DescriptionStyleModel",
          "model_module_version": "1.5.0",
          "state": {
            "_model_module": "@jupyter-widgets/controls",
            "_model_module_version": "1.5.0",
            "_model_name": "DescriptionStyleModel",
            "_view_count": null,
            "_view_module": "@jupyter-widgets/base",
            "_view_module_version": "1.2.0",
            "_view_name": "StyleView",
            "description_width": ""
          }
        },
        "79a723444f7d4ba8ab3f97d3890acb5b": {
          "model_module": "@jupyter-widgets/base",
          "model_name": "LayoutModel",
          "model_module_version": "1.2.0",
          "state": {
            "_model_module": "@jupyter-widgets/base",
            "_model_module_version": "1.2.0",
            "_model_name": "LayoutModel",
            "_view_count": null,
            "_view_module": "@jupyter-widgets/base",
            "_view_module_version": "1.2.0",
            "_view_name": "LayoutView",
            "align_content": null,
            "align_items": null,
            "align_self": null,
            "border": null,
            "bottom": null,
            "display": null,
            "flex": null,
            "flex_flow": null,
            "grid_area": null,
            "grid_auto_columns": null,
            "grid_auto_flow": null,
            "grid_auto_rows": null,
            "grid_column": null,
            "grid_gap": null,
            "grid_row": null,
            "grid_template_areas": null,
            "grid_template_columns": null,
            "grid_template_rows": null,
            "height": null,
            "justify_content": null,
            "justify_items": null,
            "left": null,
            "margin": null,
            "max_height": null,
            "max_width": null,
            "min_height": null,
            "min_width": null,
            "object_fit": null,
            "object_position": null,
            "order": null,
            "overflow": null,
            "overflow_x": null,
            "overflow_y": null,
            "padding": null,
            "right": null,
            "top": null,
            "visibility": null,
            "width": null
          }
        },
        "e8124eace87d4a1a8453306c6665cf5a": {
          "model_module": "@jupyter-widgets/controls",
          "model_name": "ProgressStyleModel",
          "model_module_version": "1.5.0",
          "state": {
            "_model_module": "@jupyter-widgets/controls",
            "_model_module_version": "1.5.0",
            "_model_name": "ProgressStyleModel",
            "_view_count": null,
            "_view_module": "@jupyter-widgets/base",
            "_view_module_version": "1.2.0",
            "_view_name": "StyleView",
            "bar_color": null,
            "description_width": ""
          }
        },
        "b5520a39904741ee9b3b3f12d43057e8": {
          "model_module": "@jupyter-widgets/controls",
          "model_name": "VBoxModel",
          "model_module_version": "1.5.0",
          "state": {
            "_dom_classes": [],
            "_model_module": "@jupyter-widgets/controls",
            "_model_module_version": "1.5.0",
            "_model_name": "VBoxModel",
            "_view_count": null,
            "_view_module": "@jupyter-widgets/controls",
            "_view_module_version": "1.5.0",
            "_view_name": "VBoxView",
            "box_style": "",
            "children": [
              "IPY_MODEL_6a7ef8156128419fa1f5ab8604bdae25",
              "IPY_MODEL_ccd7f1576a014667a6a721c697fa6000"
            ],
            "layout": "IPY_MODEL_b92f617add924b1daf0a7aa872c08b62"
          }
        },
        "6a7ef8156128419fa1f5ab8604bdae25": {
          "model_module": "@jupyter-widgets/controls",
          "model_name": "LabelModel",
          "model_module_version": "1.5.0",
          "state": {
            "_dom_classes": [],
            "_model_module": "@jupyter-widgets/controls",
            "_model_module_version": "1.5.0",
            "_model_name": "LabelModel",
            "_view_count": null,
            "_view_module": "@jupyter-widgets/controls",
            "_view_module_version": "1.5.0",
            "_view_name": "LabelView",
            "description": "",
            "description_tooltip": null,
            "layout": "IPY_MODEL_91d90ad0e77a4eef91780b34742bfbaa",
            "placeholder": "​",
            "style": "IPY_MODEL_15e32778037e42dfabc4818d8dd54c64",
            "value": "0.014 MB of 0.014 MB uploaded\r"
          }
        },
        "ccd7f1576a014667a6a721c697fa6000": {
          "model_module": "@jupyter-widgets/controls",
          "model_name": "FloatProgressModel",
          "model_module_version": "1.5.0",
          "state": {
            "_dom_classes": [],
            "_model_module": "@jupyter-widgets/controls",
            "_model_module_version": "1.5.0",
            "_model_name": "FloatProgressModel",
            "_view_count": null,
            "_view_module": "@jupyter-widgets/controls",
            "_view_module_version": "1.5.0",
            "_view_name": "ProgressView",
            "bar_style": "",
            "description": "",
            "description_tooltip": null,
            "layout": "IPY_MODEL_6965ea201d7449168e5d20cc94360815",
            "max": 1,
            "min": 0,
            "orientation": "horizontal",
            "style": "IPY_MODEL_0778d7193a76440a8bfbcd282b72f836",
            "value": 1
          }
        },
        "b92f617add924b1daf0a7aa872c08b62": {
          "model_module": "@jupyter-widgets/base",
          "model_name": "LayoutModel",
          "model_module_version": "1.2.0",
          "state": {
            "_model_module": "@jupyter-widgets/base",
            "_model_module_version": "1.2.0",
            "_model_name": "LayoutModel",
            "_view_count": null,
            "_view_module": "@jupyter-widgets/base",
            "_view_module_version": "1.2.0",
            "_view_name": "LayoutView",
            "align_content": null,
            "align_items": null,
            "align_self": null,
            "border": null,
            "bottom": null,
            "display": null,
            "flex": null,
            "flex_flow": null,
            "grid_area": null,
            "grid_auto_columns": null,
            "grid_auto_flow": null,
            "grid_auto_rows": null,
            "grid_column": null,
            "grid_gap": null,
            "grid_row": null,
            "grid_template_areas": null,
            "grid_template_columns": null,
            "grid_template_rows": null,
            "height": null,
            "justify_content": null,
            "justify_items": null,
            "left": null,
            "margin": null,
            "max_height": null,
            "max_width": null,
            "min_height": null,
            "min_width": null,
            "object_fit": null,
            "object_position": null,
            "order": null,
            "overflow": null,
            "overflow_x": null,
            "overflow_y": null,
            "padding": null,
            "right": null,
            "top": null,
            "visibility": null,
            "width": null
          }
        },
        "91d90ad0e77a4eef91780b34742bfbaa": {
          "model_module": "@jupyter-widgets/base",
          "model_name": "LayoutModel",
          "model_module_version": "1.2.0",
          "state": {
            "_model_module": "@jupyter-widgets/base",
            "_model_module_version": "1.2.0",
            "_model_name": "LayoutModel",
            "_view_count": null,
            "_view_module": "@jupyter-widgets/base",
            "_view_module_version": "1.2.0",
            "_view_name": "LayoutView",
            "align_content": null,
            "align_items": null,
            "align_self": null,
            "border": null,
            "bottom": null,
            "display": null,
            "flex": null,
            "flex_flow": null,
            "grid_area": null,
            "grid_auto_columns": null,
            "grid_auto_flow": null,
            "grid_auto_rows": null,
            "grid_column": null,
            "grid_gap": null,
            "grid_row": null,
            "grid_template_areas": null,
            "grid_template_columns": null,
            "grid_template_rows": null,
            "height": null,
            "justify_content": null,
            "justify_items": null,
            "left": null,
            "margin": null,
            "max_height": null,
            "max_width": null,
            "min_height": null,
            "min_width": null,
            "object_fit": null,
            "object_position": null,
            "order": null,
            "overflow": null,
            "overflow_x": null,
            "overflow_y": null,
            "padding": null,
            "right": null,
            "top": null,
            "visibility": null,
            "width": null
          }
        },
        "15e32778037e42dfabc4818d8dd54c64": {
          "model_module": "@jupyter-widgets/controls",
          "model_name": "DescriptionStyleModel",
          "model_module_version": "1.5.0",
          "state": {
            "_model_module": "@jupyter-widgets/controls",
            "_model_module_version": "1.5.0",
            "_model_name": "DescriptionStyleModel",
            "_view_count": null,
            "_view_module": "@jupyter-widgets/base",
            "_view_module_version": "1.2.0",
            "_view_name": "StyleView",
            "description_width": ""
          }
        },
        "6965ea201d7449168e5d20cc94360815": {
          "model_module": "@jupyter-widgets/base",
          "model_name": "LayoutModel",
          "model_module_version": "1.2.0",
          "state": {
            "_model_module": "@jupyter-widgets/base",
            "_model_module_version": "1.2.0",
            "_model_name": "LayoutModel",
            "_view_count": null,
            "_view_module": "@jupyter-widgets/base",
            "_view_module_version": "1.2.0",
            "_view_name": "LayoutView",
            "align_content": null,
            "align_items": null,
            "align_self": null,
            "border": null,
            "bottom": null,
            "display": null,
            "flex": null,
            "flex_flow": null,
            "grid_area": null,
            "grid_auto_columns": null,
            "grid_auto_flow": null,
            "grid_auto_rows": null,
            "grid_column": null,
            "grid_gap": null,
            "grid_row": null,
            "grid_template_areas": null,
            "grid_template_columns": null,
            "grid_template_rows": null,
            "height": null,
            "justify_content": null,
            "justify_items": null,
            "left": null,
            "margin": null,
            "max_height": null,
            "max_width": null,
            "min_height": null,
            "min_width": null,
            "object_fit": null,
            "object_position": null,
            "order": null,
            "overflow": null,
            "overflow_x": null,
            "overflow_y": null,
            "padding": null,
            "right": null,
            "top": null,
            "visibility": null,
            "width": null
          }
        },
        "0778d7193a76440a8bfbcd282b72f836": {
          "model_module": "@jupyter-widgets/controls",
          "model_name": "ProgressStyleModel",
          "model_module_version": "1.5.0",
          "state": {
            "_model_module": "@jupyter-widgets/controls",
            "_model_module_version": "1.5.0",
            "_model_name": "ProgressStyleModel",
            "_view_count": null,
            "_view_module": "@jupyter-widgets/base",
            "_view_module_version": "1.2.0",
            "_view_name": "StyleView",
            "bar_color": null,
            "description_width": ""
          }
        },
        "4f3389c610134689b8db816cb1ba8471": {
          "model_module": "@jupyter-widgets/controls",
          "model_name": "VBoxModel",
          "model_module_version": "1.5.0",
          "state": {
            "_dom_classes": [],
            "_model_module": "@jupyter-widgets/controls",
            "_model_module_version": "1.5.0",
            "_model_name": "VBoxModel",
            "_view_count": null,
            "_view_module": "@jupyter-widgets/controls",
            "_view_module_version": "1.5.0",
            "_view_name": "VBoxView",
            "box_style": "",
            "children": [
              "IPY_MODEL_62c705a343e5442aa797fe946ac53e3f",
              "IPY_MODEL_0a12cb1e48954095a07e121b68b9f79f"
            ],
            "layout": "IPY_MODEL_4d67b50ec615484581a852a6f3ab8a6a"
          }
        },
        "62c705a343e5442aa797fe946ac53e3f": {
          "model_module": "@jupyter-widgets/controls",
          "model_name": "LabelModel",
          "model_module_version": "1.5.0",
          "state": {
            "_dom_classes": [],
            "_model_module": "@jupyter-widgets/controls",
            "_model_module_version": "1.5.0",
            "_model_name": "LabelModel",
            "_view_count": null,
            "_view_module": "@jupyter-widgets/controls",
            "_view_module_version": "1.5.0",
            "_view_name": "LabelView",
            "description": "",
            "description_tooltip": null,
            "layout": "IPY_MODEL_4c6fd05b85d94632bce4daf70467ce6a",
            "placeholder": "​",
            "style": "IPY_MODEL_8afad0965da441d290636e24517eaae3",
            "value": "0.014 MB of 0.014 MB uploaded\r"
          }
        },
        "0a12cb1e48954095a07e121b68b9f79f": {
          "model_module": "@jupyter-widgets/controls",
          "model_name": "FloatProgressModel",
          "model_module_version": "1.5.0",
          "state": {
            "_dom_classes": [],
            "_model_module": "@jupyter-widgets/controls",
            "_model_module_version": "1.5.0",
            "_model_name": "FloatProgressModel",
            "_view_count": null,
            "_view_module": "@jupyter-widgets/controls",
            "_view_module_version": "1.5.0",
            "_view_name": "ProgressView",
            "bar_style": "",
            "description": "",
            "description_tooltip": null,
            "layout": "IPY_MODEL_e1aceebd52654f63802a586f2dd7f8ac",
            "max": 1,
            "min": 0,
            "orientation": "horizontal",
            "style": "IPY_MODEL_56a3d50807ab464c9336059669972cdf",
            "value": 1
          }
        },
        "4d67b50ec615484581a852a6f3ab8a6a": {
          "model_module": "@jupyter-widgets/base",
          "model_name": "LayoutModel",
          "model_module_version": "1.2.0",
          "state": {
            "_model_module": "@jupyter-widgets/base",
            "_model_module_version": "1.2.0",
            "_model_name": "LayoutModel",
            "_view_count": null,
            "_view_module": "@jupyter-widgets/base",
            "_view_module_version": "1.2.0",
            "_view_name": "LayoutView",
            "align_content": null,
            "align_items": null,
            "align_self": null,
            "border": null,
            "bottom": null,
            "display": null,
            "flex": null,
            "flex_flow": null,
            "grid_area": null,
            "grid_auto_columns": null,
            "grid_auto_flow": null,
            "grid_auto_rows": null,
            "grid_column": null,
            "grid_gap": null,
            "grid_row": null,
            "grid_template_areas": null,
            "grid_template_columns": null,
            "grid_template_rows": null,
            "height": null,
            "justify_content": null,
            "justify_items": null,
            "left": null,
            "margin": null,
            "max_height": null,
            "max_width": null,
            "min_height": null,
            "min_width": null,
            "object_fit": null,
            "object_position": null,
            "order": null,
            "overflow": null,
            "overflow_x": null,
            "overflow_y": null,
            "padding": null,
            "right": null,
            "top": null,
            "visibility": null,
            "width": null
          }
        },
        "4c6fd05b85d94632bce4daf70467ce6a": {
          "model_module": "@jupyter-widgets/base",
          "model_name": "LayoutModel",
          "model_module_version": "1.2.0",
          "state": {
            "_model_module": "@jupyter-widgets/base",
            "_model_module_version": "1.2.0",
            "_model_name": "LayoutModel",
            "_view_count": null,
            "_view_module": "@jupyter-widgets/base",
            "_view_module_version": "1.2.0",
            "_view_name": "LayoutView",
            "align_content": null,
            "align_items": null,
            "align_self": null,
            "border": null,
            "bottom": null,
            "display": null,
            "flex": null,
            "flex_flow": null,
            "grid_area": null,
            "grid_auto_columns": null,
            "grid_auto_flow": null,
            "grid_auto_rows": null,
            "grid_column": null,
            "grid_gap": null,
            "grid_row": null,
            "grid_template_areas": null,
            "grid_template_columns": null,
            "grid_template_rows": null,
            "height": null,
            "justify_content": null,
            "justify_items": null,
            "left": null,
            "margin": null,
            "max_height": null,
            "max_width": null,
            "min_height": null,
            "min_width": null,
            "object_fit": null,
            "object_position": null,
            "order": null,
            "overflow": null,
            "overflow_x": null,
            "overflow_y": null,
            "padding": null,
            "right": null,
            "top": null,
            "visibility": null,
            "width": null
          }
        },
        "8afad0965da441d290636e24517eaae3": {
          "model_module": "@jupyter-widgets/controls",
          "model_name": "DescriptionStyleModel",
          "model_module_version": "1.5.0",
          "state": {
            "_model_module": "@jupyter-widgets/controls",
            "_model_module_version": "1.5.0",
            "_model_name": "DescriptionStyleModel",
            "_view_count": null,
            "_view_module": "@jupyter-widgets/base",
            "_view_module_version": "1.2.0",
            "_view_name": "StyleView",
            "description_width": ""
          }
        },
        "e1aceebd52654f63802a586f2dd7f8ac": {
          "model_module": "@jupyter-widgets/base",
          "model_name": "LayoutModel",
          "model_module_version": "1.2.0",
          "state": {
            "_model_module": "@jupyter-widgets/base",
            "_model_module_version": "1.2.0",
            "_model_name": "LayoutModel",
            "_view_count": null,
            "_view_module": "@jupyter-widgets/base",
            "_view_module_version": "1.2.0",
            "_view_name": "LayoutView",
            "align_content": null,
            "align_items": null,
            "align_self": null,
            "border": null,
            "bottom": null,
            "display": null,
            "flex": null,
            "flex_flow": null,
            "grid_area": null,
            "grid_auto_columns": null,
            "grid_auto_flow": null,
            "grid_auto_rows": null,
            "grid_column": null,
            "grid_gap": null,
            "grid_row": null,
            "grid_template_areas": null,
            "grid_template_columns": null,
            "grid_template_rows": null,
            "height": null,
            "justify_content": null,
            "justify_items": null,
            "left": null,
            "margin": null,
            "max_height": null,
            "max_width": null,
            "min_height": null,
            "min_width": null,
            "object_fit": null,
            "object_position": null,
            "order": null,
            "overflow": null,
            "overflow_x": null,
            "overflow_y": null,
            "padding": null,
            "right": null,
            "top": null,
            "visibility": null,
            "width": null
          }
        },
        "56a3d50807ab464c9336059669972cdf": {
          "model_module": "@jupyter-widgets/controls",
          "model_name": "ProgressStyleModel",
          "model_module_version": "1.5.0",
          "state": {
            "_model_module": "@jupyter-widgets/controls",
            "_model_module_version": "1.5.0",
            "_model_name": "ProgressStyleModel",
            "_view_count": null,
            "_view_module": "@jupyter-widgets/base",
            "_view_module_version": "1.2.0",
            "_view_name": "StyleView",
            "bar_color": null,
            "description_width": ""
          }
        },
        "7bbe0ea702c54be88060d2b245f83f93": {
          "model_module": "@jupyter-widgets/controls",
          "model_name": "VBoxModel",
          "model_module_version": "1.5.0",
          "state": {
            "_dom_classes": [],
            "_model_module": "@jupyter-widgets/controls",
            "_model_module_version": "1.5.0",
            "_model_name": "VBoxModel",
            "_view_count": null,
            "_view_module": "@jupyter-widgets/controls",
            "_view_module_version": "1.5.0",
            "_view_name": "VBoxView",
            "box_style": "",
            "children": [
              "IPY_MODEL_4afd19be02764995bf9bb42906d0cc27",
              "IPY_MODEL_0322883d71924215ad7e91a6434c4585"
            ],
            "layout": "IPY_MODEL_b6172ddaa7db426d842a07034f7823fa"
          }
        },
        "4afd19be02764995bf9bb42906d0cc27": {
          "model_module": "@jupyter-widgets/controls",
          "model_name": "LabelModel",
          "model_module_version": "1.5.0",
          "state": {
            "_dom_classes": [],
            "_model_module": "@jupyter-widgets/controls",
            "_model_module_version": "1.5.0",
            "_model_name": "LabelModel",
            "_view_count": null,
            "_view_module": "@jupyter-widgets/controls",
            "_view_module_version": "1.5.0",
            "_view_name": "LabelView",
            "description": "",
            "description_tooltip": null,
            "layout": "IPY_MODEL_aae8df804a1d4148b34a39dceb31dcb1",
            "placeholder": "​",
            "style": "IPY_MODEL_4fe92aaf1eda4c889ac5e83643d91697",
            "value": "0.014 MB of 0.014 MB uploaded\r"
          }
        },
        "0322883d71924215ad7e91a6434c4585": {
          "model_module": "@jupyter-widgets/controls",
          "model_name": "FloatProgressModel",
          "model_module_version": "1.5.0",
          "state": {
            "_dom_classes": [],
            "_model_module": "@jupyter-widgets/controls",
            "_model_module_version": "1.5.0",
            "_model_name": "FloatProgressModel",
            "_view_count": null,
            "_view_module": "@jupyter-widgets/controls",
            "_view_module_version": "1.5.0",
            "_view_name": "ProgressView",
            "bar_style": "",
            "description": "",
            "description_tooltip": null,
            "layout": "IPY_MODEL_198a1d4ea8fd49df917aa1a3ed2845b3",
            "max": 1,
            "min": 0,
            "orientation": "horizontal",
            "style": "IPY_MODEL_7ebad35f3cd84f098456e5feddfb1ec8",
            "value": 1
          }
        },
        "b6172ddaa7db426d842a07034f7823fa": {
          "model_module": "@jupyter-widgets/base",
          "model_name": "LayoutModel",
          "model_module_version": "1.2.0",
          "state": {
            "_model_module": "@jupyter-widgets/base",
            "_model_module_version": "1.2.0",
            "_model_name": "LayoutModel",
            "_view_count": null,
            "_view_module": "@jupyter-widgets/base",
            "_view_module_version": "1.2.0",
            "_view_name": "LayoutView",
            "align_content": null,
            "align_items": null,
            "align_self": null,
            "border": null,
            "bottom": null,
            "display": null,
            "flex": null,
            "flex_flow": null,
            "grid_area": null,
            "grid_auto_columns": null,
            "grid_auto_flow": null,
            "grid_auto_rows": null,
            "grid_column": null,
            "grid_gap": null,
            "grid_row": null,
            "grid_template_areas": null,
            "grid_template_columns": null,
            "grid_template_rows": null,
            "height": null,
            "justify_content": null,
            "justify_items": null,
            "left": null,
            "margin": null,
            "max_height": null,
            "max_width": null,
            "min_height": null,
            "min_width": null,
            "object_fit": null,
            "object_position": null,
            "order": null,
            "overflow": null,
            "overflow_x": null,
            "overflow_y": null,
            "padding": null,
            "right": null,
            "top": null,
            "visibility": null,
            "width": null
          }
        },
        "aae8df804a1d4148b34a39dceb31dcb1": {
          "model_module": "@jupyter-widgets/base",
          "model_name": "LayoutModel",
          "model_module_version": "1.2.0",
          "state": {
            "_model_module": "@jupyter-widgets/base",
            "_model_module_version": "1.2.0",
            "_model_name": "LayoutModel",
            "_view_count": null,
            "_view_module": "@jupyter-widgets/base",
            "_view_module_version": "1.2.0",
            "_view_name": "LayoutView",
            "align_content": null,
            "align_items": null,
            "align_self": null,
            "border": null,
            "bottom": null,
            "display": null,
            "flex": null,
            "flex_flow": null,
            "grid_area": null,
            "grid_auto_columns": null,
            "grid_auto_flow": null,
            "grid_auto_rows": null,
            "grid_column": null,
            "grid_gap": null,
            "grid_row": null,
            "grid_template_areas": null,
            "grid_template_columns": null,
            "grid_template_rows": null,
            "height": null,
            "justify_content": null,
            "justify_items": null,
            "left": null,
            "margin": null,
            "max_height": null,
            "max_width": null,
            "min_height": null,
            "min_width": null,
            "object_fit": null,
            "object_position": null,
            "order": null,
            "overflow": null,
            "overflow_x": null,
            "overflow_y": null,
            "padding": null,
            "right": null,
            "top": null,
            "visibility": null,
            "width": null
          }
        },
        "4fe92aaf1eda4c889ac5e83643d91697": {
          "model_module": "@jupyter-widgets/controls",
          "model_name": "DescriptionStyleModel",
          "model_module_version": "1.5.0",
          "state": {
            "_model_module": "@jupyter-widgets/controls",
            "_model_module_version": "1.5.0",
            "_model_name": "DescriptionStyleModel",
            "_view_count": null,
            "_view_module": "@jupyter-widgets/base",
            "_view_module_version": "1.2.0",
            "_view_name": "StyleView",
            "description_width": ""
          }
        },
        "198a1d4ea8fd49df917aa1a3ed2845b3": {
          "model_module": "@jupyter-widgets/base",
          "model_name": "LayoutModel",
          "model_module_version": "1.2.0",
          "state": {
            "_model_module": "@jupyter-widgets/base",
            "_model_module_version": "1.2.0",
            "_model_name": "LayoutModel",
            "_view_count": null,
            "_view_module": "@jupyter-widgets/base",
            "_view_module_version": "1.2.0",
            "_view_name": "LayoutView",
            "align_content": null,
            "align_items": null,
            "align_self": null,
            "border": null,
            "bottom": null,
            "display": null,
            "flex": null,
            "flex_flow": null,
            "grid_area": null,
            "grid_auto_columns": null,
            "grid_auto_flow": null,
            "grid_auto_rows": null,
            "grid_column": null,
            "grid_gap": null,
            "grid_row": null,
            "grid_template_areas": null,
            "grid_template_columns": null,
            "grid_template_rows": null,
            "height": null,
            "justify_content": null,
            "justify_items": null,
            "left": null,
            "margin": null,
            "max_height": null,
            "max_width": null,
            "min_height": null,
            "min_width": null,
            "object_fit": null,
            "object_position": null,
            "order": null,
            "overflow": null,
            "overflow_x": null,
            "overflow_y": null,
            "padding": null,
            "right": null,
            "top": null,
            "visibility": null,
            "width": null
          }
        },
        "7ebad35f3cd84f098456e5feddfb1ec8": {
          "model_module": "@jupyter-widgets/controls",
          "model_name": "ProgressStyleModel",
          "model_module_version": "1.5.0",
          "state": {
            "_model_module": "@jupyter-widgets/controls",
            "_model_module_version": "1.5.0",
            "_model_name": "ProgressStyleModel",
            "_view_count": null,
            "_view_module": "@jupyter-widgets/base",
            "_view_module_version": "1.2.0",
            "_view_name": "StyleView",
            "bar_color": null,
            "description_width": ""
          }
        },
        "5cabf7f99329418d9e1d35207786a387": {
          "model_module": "@jupyter-widgets/controls",
          "model_name": "VBoxModel",
          "model_module_version": "1.5.0",
          "state": {
            "_dom_classes": [],
            "_model_module": "@jupyter-widgets/controls",
            "_model_module_version": "1.5.0",
            "_model_name": "VBoxModel",
            "_view_count": null,
            "_view_module": "@jupyter-widgets/controls",
            "_view_module_version": "1.5.0",
            "_view_name": "VBoxView",
            "box_style": "",
            "children": [
              "IPY_MODEL_b7defe6b77324955a4bb1772bd894aeb",
              "IPY_MODEL_9e588caedc754747a8cb117f12856cdf"
            ],
            "layout": "IPY_MODEL_b2efbe071a5c4e3d9e01c39b2f02b1d6"
          }
        },
        "b7defe6b77324955a4bb1772bd894aeb": {
          "model_module": "@jupyter-widgets/controls",
          "model_name": "LabelModel",
          "model_module_version": "1.5.0",
          "state": {
            "_dom_classes": [],
            "_model_module": "@jupyter-widgets/controls",
            "_model_module_version": "1.5.0",
            "_model_name": "LabelModel",
            "_view_count": null,
            "_view_module": "@jupyter-widgets/controls",
            "_view_module_version": "1.5.0",
            "_view_name": "LabelView",
            "description": "",
            "description_tooltip": null,
            "layout": "IPY_MODEL_09df5cb98c3e45f4b18c517b51cf34ee",
            "placeholder": "​",
            "style": "IPY_MODEL_527a6e157ece4858a0b07c89b386433c",
            "value": "0.014 MB of 0.014 MB uploaded\r"
          }
        },
        "9e588caedc754747a8cb117f12856cdf": {
          "model_module": "@jupyter-widgets/controls",
          "model_name": "FloatProgressModel",
          "model_module_version": "1.5.0",
          "state": {
            "_dom_classes": [],
            "_model_module": "@jupyter-widgets/controls",
            "_model_module_version": "1.5.0",
            "_model_name": "FloatProgressModel",
            "_view_count": null,
            "_view_module": "@jupyter-widgets/controls",
            "_view_module_version": "1.5.0",
            "_view_name": "ProgressView",
            "bar_style": "",
            "description": "",
            "description_tooltip": null,
            "layout": "IPY_MODEL_56c156ae984145c49b441a272d05b61c",
            "max": 1,
            "min": 0,
            "orientation": "horizontal",
            "style": "IPY_MODEL_d2a317d2b2d34ef69a2dd186a68cbb21",
            "value": 1
          }
        },
        "b2efbe071a5c4e3d9e01c39b2f02b1d6": {
          "model_module": "@jupyter-widgets/base",
          "model_name": "LayoutModel",
          "model_module_version": "1.2.0",
          "state": {
            "_model_module": "@jupyter-widgets/base",
            "_model_module_version": "1.2.0",
            "_model_name": "LayoutModel",
            "_view_count": null,
            "_view_module": "@jupyter-widgets/base",
            "_view_module_version": "1.2.0",
            "_view_name": "LayoutView",
            "align_content": null,
            "align_items": null,
            "align_self": null,
            "border": null,
            "bottom": null,
            "display": null,
            "flex": null,
            "flex_flow": null,
            "grid_area": null,
            "grid_auto_columns": null,
            "grid_auto_flow": null,
            "grid_auto_rows": null,
            "grid_column": null,
            "grid_gap": null,
            "grid_row": null,
            "grid_template_areas": null,
            "grid_template_columns": null,
            "grid_template_rows": null,
            "height": null,
            "justify_content": null,
            "justify_items": null,
            "left": null,
            "margin": null,
            "max_height": null,
            "max_width": null,
            "min_height": null,
            "min_width": null,
            "object_fit": null,
            "object_position": null,
            "order": null,
            "overflow": null,
            "overflow_x": null,
            "overflow_y": null,
            "padding": null,
            "right": null,
            "top": null,
            "visibility": null,
            "width": null
          }
        },
        "09df5cb98c3e45f4b18c517b51cf34ee": {
          "model_module": "@jupyter-widgets/base",
          "model_name": "LayoutModel",
          "model_module_version": "1.2.0",
          "state": {
            "_model_module": "@jupyter-widgets/base",
            "_model_module_version": "1.2.0",
            "_model_name": "LayoutModel",
            "_view_count": null,
            "_view_module": "@jupyter-widgets/base",
            "_view_module_version": "1.2.0",
            "_view_name": "LayoutView",
            "align_content": null,
            "align_items": null,
            "align_self": null,
            "border": null,
            "bottom": null,
            "display": null,
            "flex": null,
            "flex_flow": null,
            "grid_area": null,
            "grid_auto_columns": null,
            "grid_auto_flow": null,
            "grid_auto_rows": null,
            "grid_column": null,
            "grid_gap": null,
            "grid_row": null,
            "grid_template_areas": null,
            "grid_template_columns": null,
            "grid_template_rows": null,
            "height": null,
            "justify_content": null,
            "justify_items": null,
            "left": null,
            "margin": null,
            "max_height": null,
            "max_width": null,
            "min_height": null,
            "min_width": null,
            "object_fit": null,
            "object_position": null,
            "order": null,
            "overflow": null,
            "overflow_x": null,
            "overflow_y": null,
            "padding": null,
            "right": null,
            "top": null,
            "visibility": null,
            "width": null
          }
        },
        "527a6e157ece4858a0b07c89b386433c": {
          "model_module": "@jupyter-widgets/controls",
          "model_name": "DescriptionStyleModel",
          "model_module_version": "1.5.0",
          "state": {
            "_model_module": "@jupyter-widgets/controls",
            "_model_module_version": "1.5.0",
            "_model_name": "DescriptionStyleModel",
            "_view_count": null,
            "_view_module": "@jupyter-widgets/base",
            "_view_module_version": "1.2.0",
            "_view_name": "StyleView",
            "description_width": ""
          }
        },
        "56c156ae984145c49b441a272d05b61c": {
          "model_module": "@jupyter-widgets/base",
          "model_name": "LayoutModel",
          "model_module_version": "1.2.0",
          "state": {
            "_model_module": "@jupyter-widgets/base",
            "_model_module_version": "1.2.0",
            "_model_name": "LayoutModel",
            "_view_count": null,
            "_view_module": "@jupyter-widgets/base",
            "_view_module_version": "1.2.0",
            "_view_name": "LayoutView",
            "align_content": null,
            "align_items": null,
            "align_self": null,
            "border": null,
            "bottom": null,
            "display": null,
            "flex": null,
            "flex_flow": null,
            "grid_area": null,
            "grid_auto_columns": null,
            "grid_auto_flow": null,
            "grid_auto_rows": null,
            "grid_column": null,
            "grid_gap": null,
            "grid_row": null,
            "grid_template_areas": null,
            "grid_template_columns": null,
            "grid_template_rows": null,
            "height": null,
            "justify_content": null,
            "justify_items": null,
            "left": null,
            "margin": null,
            "max_height": null,
            "max_width": null,
            "min_height": null,
            "min_width": null,
            "object_fit": null,
            "object_position": null,
            "order": null,
            "overflow": null,
            "overflow_x": null,
            "overflow_y": null,
            "padding": null,
            "right": null,
            "top": null,
            "visibility": null,
            "width": null
          }
        },
        "d2a317d2b2d34ef69a2dd186a68cbb21": {
          "model_module": "@jupyter-widgets/controls",
          "model_name": "ProgressStyleModel",
          "model_module_version": "1.5.0",
          "state": {
            "_model_module": "@jupyter-widgets/controls",
            "_model_module_version": "1.5.0",
            "_model_name": "ProgressStyleModel",
            "_view_count": null,
            "_view_module": "@jupyter-widgets/base",
            "_view_module_version": "1.2.0",
            "_view_name": "StyleView",
            "bar_color": null,
            "description_width": ""
          }
        },
        "0e4e553802b748268a18dd567a637a75": {
          "model_module": "@jupyter-widgets/controls",
          "model_name": "VBoxModel",
          "model_module_version": "1.5.0",
          "state": {
            "_dom_classes": [],
            "_model_module": "@jupyter-widgets/controls",
            "_model_module_version": "1.5.0",
            "_model_name": "VBoxModel",
            "_view_count": null,
            "_view_module": "@jupyter-widgets/controls",
            "_view_module_version": "1.5.0",
            "_view_name": "VBoxView",
            "box_style": "",
            "children": [
              "IPY_MODEL_227428b565a44ec489ceb1cab0566101",
              "IPY_MODEL_be8768d794f34b2d8b0622c897c4ae39"
            ],
            "layout": "IPY_MODEL_eddc2fe413e04c51b8a642e99eaa5901"
          }
        },
        "227428b565a44ec489ceb1cab0566101": {
          "model_module": "@jupyter-widgets/controls",
          "model_name": "LabelModel",
          "model_module_version": "1.5.0",
          "state": {
            "_dom_classes": [],
            "_model_module": "@jupyter-widgets/controls",
            "_model_module_version": "1.5.0",
            "_model_name": "LabelModel",
            "_view_count": null,
            "_view_module": "@jupyter-widgets/controls",
            "_view_module_version": "1.5.0",
            "_view_name": "LabelView",
            "description": "",
            "description_tooltip": null,
            "layout": "IPY_MODEL_aaf955a2420142e2877187f7257fb380",
            "placeholder": "​",
            "style": "IPY_MODEL_807b9dc6ce34466e893369d2fdd674a7",
            "value": "0.014 MB of 0.014 MB uploaded\r"
          }
        },
        "be8768d794f34b2d8b0622c897c4ae39": {
          "model_module": "@jupyter-widgets/controls",
          "model_name": "FloatProgressModel",
          "model_module_version": "1.5.0",
          "state": {
            "_dom_classes": [],
            "_model_module": "@jupyter-widgets/controls",
            "_model_module_version": "1.5.0",
            "_model_name": "FloatProgressModel",
            "_view_count": null,
            "_view_module": "@jupyter-widgets/controls",
            "_view_module_version": "1.5.0",
            "_view_name": "ProgressView",
            "bar_style": "",
            "description": "",
            "description_tooltip": null,
            "layout": "IPY_MODEL_1775761c61e64eb69be3c2b0c2cf46db",
            "max": 1,
            "min": 0,
            "orientation": "horizontal",
            "style": "IPY_MODEL_4c04224068f341cdb4dd445f444ca33f",
            "value": 1
          }
        },
        "eddc2fe413e04c51b8a642e99eaa5901": {
          "model_module": "@jupyter-widgets/base",
          "model_name": "LayoutModel",
          "model_module_version": "1.2.0",
          "state": {
            "_model_module": "@jupyter-widgets/base",
            "_model_module_version": "1.2.0",
            "_model_name": "LayoutModel",
            "_view_count": null,
            "_view_module": "@jupyter-widgets/base",
            "_view_module_version": "1.2.0",
            "_view_name": "LayoutView",
            "align_content": null,
            "align_items": null,
            "align_self": null,
            "border": null,
            "bottom": null,
            "display": null,
            "flex": null,
            "flex_flow": null,
            "grid_area": null,
            "grid_auto_columns": null,
            "grid_auto_flow": null,
            "grid_auto_rows": null,
            "grid_column": null,
            "grid_gap": null,
            "grid_row": null,
            "grid_template_areas": null,
            "grid_template_columns": null,
            "grid_template_rows": null,
            "height": null,
            "justify_content": null,
            "justify_items": null,
            "left": null,
            "margin": null,
            "max_height": null,
            "max_width": null,
            "min_height": null,
            "min_width": null,
            "object_fit": null,
            "object_position": null,
            "order": null,
            "overflow": null,
            "overflow_x": null,
            "overflow_y": null,
            "padding": null,
            "right": null,
            "top": null,
            "visibility": null,
            "width": null
          }
        },
        "aaf955a2420142e2877187f7257fb380": {
          "model_module": "@jupyter-widgets/base",
          "model_name": "LayoutModel",
          "model_module_version": "1.2.0",
          "state": {
            "_model_module": "@jupyter-widgets/base",
            "_model_module_version": "1.2.0",
            "_model_name": "LayoutModel",
            "_view_count": null,
            "_view_module": "@jupyter-widgets/base",
            "_view_module_version": "1.2.0",
            "_view_name": "LayoutView",
            "align_content": null,
            "align_items": null,
            "align_self": null,
            "border": null,
            "bottom": null,
            "display": null,
            "flex": null,
            "flex_flow": null,
            "grid_area": null,
            "grid_auto_columns": null,
            "grid_auto_flow": null,
            "grid_auto_rows": null,
            "grid_column": null,
            "grid_gap": null,
            "grid_row": null,
            "grid_template_areas": null,
            "grid_template_columns": null,
            "grid_template_rows": null,
            "height": null,
            "justify_content": null,
            "justify_items": null,
            "left": null,
            "margin": null,
            "max_height": null,
            "max_width": null,
            "min_height": null,
            "min_width": null,
            "object_fit": null,
            "object_position": null,
            "order": null,
            "overflow": null,
            "overflow_x": null,
            "overflow_y": null,
            "padding": null,
            "right": null,
            "top": null,
            "visibility": null,
            "width": null
          }
        },
        "807b9dc6ce34466e893369d2fdd674a7": {
          "model_module": "@jupyter-widgets/controls",
          "model_name": "DescriptionStyleModel",
          "model_module_version": "1.5.0",
          "state": {
            "_model_module": "@jupyter-widgets/controls",
            "_model_module_version": "1.5.0",
            "_model_name": "DescriptionStyleModel",
            "_view_count": null,
            "_view_module": "@jupyter-widgets/base",
            "_view_module_version": "1.2.0",
            "_view_name": "StyleView",
            "description_width": ""
          }
        },
        "1775761c61e64eb69be3c2b0c2cf46db": {
          "model_module": "@jupyter-widgets/base",
          "model_name": "LayoutModel",
          "model_module_version": "1.2.0",
          "state": {
            "_model_module": "@jupyter-widgets/base",
            "_model_module_version": "1.2.0",
            "_model_name": "LayoutModel",
            "_view_count": null,
            "_view_module": "@jupyter-widgets/base",
            "_view_module_version": "1.2.0",
            "_view_name": "LayoutView",
            "align_content": null,
            "align_items": null,
            "align_self": null,
            "border": null,
            "bottom": null,
            "display": null,
            "flex": null,
            "flex_flow": null,
            "grid_area": null,
            "grid_auto_columns": null,
            "grid_auto_flow": null,
            "grid_auto_rows": null,
            "grid_column": null,
            "grid_gap": null,
            "grid_row": null,
            "grid_template_areas": null,
            "grid_template_columns": null,
            "grid_template_rows": null,
            "height": null,
            "justify_content": null,
            "justify_items": null,
            "left": null,
            "margin": null,
            "max_height": null,
            "max_width": null,
            "min_height": null,
            "min_width": null,
            "object_fit": null,
            "object_position": null,
            "order": null,
            "overflow": null,
            "overflow_x": null,
            "overflow_y": null,
            "padding": null,
            "right": null,
            "top": null,
            "visibility": null,
            "width": null
          }
        },
        "4c04224068f341cdb4dd445f444ca33f": {
          "model_module": "@jupyter-widgets/controls",
          "model_name": "ProgressStyleModel",
          "model_module_version": "1.5.0",
          "state": {
            "_model_module": "@jupyter-widgets/controls",
            "_model_module_version": "1.5.0",
            "_model_name": "ProgressStyleModel",
            "_view_count": null,
            "_view_module": "@jupyter-widgets/base",
            "_view_module_version": "1.2.0",
            "_view_name": "StyleView",
            "bar_color": null,
            "description_width": ""
          }
        },
        "a16a2edbfa3c4ee8b4bf85f68ae04f79": {
          "model_module": "@jupyter-widgets/controls",
          "model_name": "VBoxModel",
          "model_module_version": "1.5.0",
          "state": {
            "_dom_classes": [],
            "_model_module": "@jupyter-widgets/controls",
            "_model_module_version": "1.5.0",
            "_model_name": "VBoxModel",
            "_view_count": null,
            "_view_module": "@jupyter-widgets/controls",
            "_view_module_version": "1.5.0",
            "_view_name": "VBoxView",
            "box_style": "",
            "children": [
              "IPY_MODEL_ae24f1da9ae94f2a8501bf016f4572c9",
              "IPY_MODEL_6dbb716d2ffa45d1bf02cfe3f9cfd209"
            ],
            "layout": "IPY_MODEL_81e0c6b3892a4f6589cfbcddf026f6a7"
          }
        },
        "ae24f1da9ae94f2a8501bf016f4572c9": {
          "model_module": "@jupyter-widgets/controls",
          "model_name": "LabelModel",
          "model_module_version": "1.5.0",
          "state": {
            "_dom_classes": [],
            "_model_module": "@jupyter-widgets/controls",
            "_model_module_version": "1.5.0",
            "_model_name": "LabelModel",
            "_view_count": null,
            "_view_module": "@jupyter-widgets/controls",
            "_view_module_version": "1.5.0",
            "_view_name": "LabelView",
            "description": "",
            "description_tooltip": null,
            "layout": "IPY_MODEL_43b66e0aa47b4b40b77bba85ed3fc899",
            "placeholder": "​",
            "style": "IPY_MODEL_4acd3a757af64d15bbb1e45c3d2c2306",
            "value": "0.014 MB of 0.014 MB uploaded\r"
          }
        },
        "6dbb716d2ffa45d1bf02cfe3f9cfd209": {
          "model_module": "@jupyter-widgets/controls",
          "model_name": "FloatProgressModel",
          "model_module_version": "1.5.0",
          "state": {
            "_dom_classes": [],
            "_model_module": "@jupyter-widgets/controls",
            "_model_module_version": "1.5.0",
            "_model_name": "FloatProgressModel",
            "_view_count": null,
            "_view_module": "@jupyter-widgets/controls",
            "_view_module_version": "1.5.0",
            "_view_name": "ProgressView",
            "bar_style": "",
            "description": "",
            "description_tooltip": null,
            "layout": "IPY_MODEL_4482cf1f24a647ada28f3bd4e454f03e",
            "max": 1,
            "min": 0,
            "orientation": "horizontal",
            "style": "IPY_MODEL_bc8e9d3f00c746209253a5b88bcb4cce",
            "value": 1
          }
        },
        "81e0c6b3892a4f6589cfbcddf026f6a7": {
          "model_module": "@jupyter-widgets/base",
          "model_name": "LayoutModel",
          "model_module_version": "1.2.0",
          "state": {
            "_model_module": "@jupyter-widgets/base",
            "_model_module_version": "1.2.0",
            "_model_name": "LayoutModel",
            "_view_count": null,
            "_view_module": "@jupyter-widgets/base",
            "_view_module_version": "1.2.0",
            "_view_name": "LayoutView",
            "align_content": null,
            "align_items": null,
            "align_self": null,
            "border": null,
            "bottom": null,
            "display": null,
            "flex": null,
            "flex_flow": null,
            "grid_area": null,
            "grid_auto_columns": null,
            "grid_auto_flow": null,
            "grid_auto_rows": null,
            "grid_column": null,
            "grid_gap": null,
            "grid_row": null,
            "grid_template_areas": null,
            "grid_template_columns": null,
            "grid_template_rows": null,
            "height": null,
            "justify_content": null,
            "justify_items": null,
            "left": null,
            "margin": null,
            "max_height": null,
            "max_width": null,
            "min_height": null,
            "min_width": null,
            "object_fit": null,
            "object_position": null,
            "order": null,
            "overflow": null,
            "overflow_x": null,
            "overflow_y": null,
            "padding": null,
            "right": null,
            "top": null,
            "visibility": null,
            "width": null
          }
        },
        "43b66e0aa47b4b40b77bba85ed3fc899": {
          "model_module": "@jupyter-widgets/base",
          "model_name": "LayoutModel",
          "model_module_version": "1.2.0",
          "state": {
            "_model_module": "@jupyter-widgets/base",
            "_model_module_version": "1.2.0",
            "_model_name": "LayoutModel",
            "_view_count": null,
            "_view_module": "@jupyter-widgets/base",
            "_view_module_version": "1.2.0",
            "_view_name": "LayoutView",
            "align_content": null,
            "align_items": null,
            "align_self": null,
            "border": null,
            "bottom": null,
            "display": null,
            "flex": null,
            "flex_flow": null,
            "grid_area": null,
            "grid_auto_columns": null,
            "grid_auto_flow": null,
            "grid_auto_rows": null,
            "grid_column": null,
            "grid_gap": null,
            "grid_row": null,
            "grid_template_areas": null,
            "grid_template_columns": null,
            "grid_template_rows": null,
            "height": null,
            "justify_content": null,
            "justify_items": null,
            "left": null,
            "margin": null,
            "max_height": null,
            "max_width": null,
            "min_height": null,
            "min_width": null,
            "object_fit": null,
            "object_position": null,
            "order": null,
            "overflow": null,
            "overflow_x": null,
            "overflow_y": null,
            "padding": null,
            "right": null,
            "top": null,
            "visibility": null,
            "width": null
          }
        },
        "4acd3a757af64d15bbb1e45c3d2c2306": {
          "model_module": "@jupyter-widgets/controls",
          "model_name": "DescriptionStyleModel",
          "model_module_version": "1.5.0",
          "state": {
            "_model_module": "@jupyter-widgets/controls",
            "_model_module_version": "1.5.0",
            "_model_name": "DescriptionStyleModel",
            "_view_count": null,
            "_view_module": "@jupyter-widgets/base",
            "_view_module_version": "1.2.0",
            "_view_name": "StyleView",
            "description_width": ""
          }
        },
        "4482cf1f24a647ada28f3bd4e454f03e": {
          "model_module": "@jupyter-widgets/base",
          "model_name": "LayoutModel",
          "model_module_version": "1.2.0",
          "state": {
            "_model_module": "@jupyter-widgets/base",
            "_model_module_version": "1.2.0",
            "_model_name": "LayoutModel",
            "_view_count": null,
            "_view_module": "@jupyter-widgets/base",
            "_view_module_version": "1.2.0",
            "_view_name": "LayoutView",
            "align_content": null,
            "align_items": null,
            "align_self": null,
            "border": null,
            "bottom": null,
            "display": null,
            "flex": null,
            "flex_flow": null,
            "grid_area": null,
            "grid_auto_columns": null,
            "grid_auto_flow": null,
            "grid_auto_rows": null,
            "grid_column": null,
            "grid_gap": null,
            "grid_row": null,
            "grid_template_areas": null,
            "grid_template_columns": null,
            "grid_template_rows": null,
            "height": null,
            "justify_content": null,
            "justify_items": null,
            "left": null,
            "margin": null,
            "max_height": null,
            "max_width": null,
            "min_height": null,
            "min_width": null,
            "object_fit": null,
            "object_position": null,
            "order": null,
            "overflow": null,
            "overflow_x": null,
            "overflow_y": null,
            "padding": null,
            "right": null,
            "top": null,
            "visibility": null,
            "width": null
          }
        },
        "bc8e9d3f00c746209253a5b88bcb4cce": {
          "model_module": "@jupyter-widgets/controls",
          "model_name": "ProgressStyleModel",
          "model_module_version": "1.5.0",
          "state": {
            "_model_module": "@jupyter-widgets/controls",
            "_model_module_version": "1.5.0",
            "_model_name": "ProgressStyleModel",
            "_view_count": null,
            "_view_module": "@jupyter-widgets/base",
            "_view_module_version": "1.2.0",
            "_view_name": "StyleView",
            "bar_color": null,
            "description_width": ""
          }
        },
        "dd65ee31c4c74016b758a5a9d2362eea": {
          "model_module": "@jupyter-widgets/controls",
          "model_name": "VBoxModel",
          "model_module_version": "1.5.0",
          "state": {
            "_dom_classes": [],
            "_model_module": "@jupyter-widgets/controls",
            "_model_module_version": "1.5.0",
            "_model_name": "VBoxModel",
            "_view_count": null,
            "_view_module": "@jupyter-widgets/controls",
            "_view_module_version": "1.5.0",
            "_view_name": "VBoxView",
            "box_style": "",
            "children": [
              "IPY_MODEL_d496f5ff67924a9780c1eba3ca88cd87",
              "IPY_MODEL_680a7b1d72cf428287b852b746528a6b"
            ],
            "layout": "IPY_MODEL_a5df2bb152cd4f569c395ea6d1dc9d1c"
          }
        },
        "d496f5ff67924a9780c1eba3ca88cd87": {
          "model_module": "@jupyter-widgets/controls",
          "model_name": "LabelModel",
          "model_module_version": "1.5.0",
          "state": {
            "_dom_classes": [],
            "_model_module": "@jupyter-widgets/controls",
            "_model_module_version": "1.5.0",
            "_model_name": "LabelModel",
            "_view_count": null,
            "_view_module": "@jupyter-widgets/controls",
            "_view_module_version": "1.5.0",
            "_view_name": "LabelView",
            "description": "",
            "description_tooltip": null,
            "layout": "IPY_MODEL_9ebc5fee209c42f7bffd4fc7caf975c3",
            "placeholder": "​",
            "style": "IPY_MODEL_f4f599dbeb0e4beeb4b25f3af675b4d6",
            "value": "0.014 MB of 0.014 MB uploaded\r"
          }
        },
        "680a7b1d72cf428287b852b746528a6b": {
          "model_module": "@jupyter-widgets/controls",
          "model_name": "FloatProgressModel",
          "model_module_version": "1.5.0",
          "state": {
            "_dom_classes": [],
            "_model_module": "@jupyter-widgets/controls",
            "_model_module_version": "1.5.0",
            "_model_name": "FloatProgressModel",
            "_view_count": null,
            "_view_module": "@jupyter-widgets/controls",
            "_view_module_version": "1.5.0",
            "_view_name": "ProgressView",
            "bar_style": "",
            "description": "",
            "description_tooltip": null,
            "layout": "IPY_MODEL_f74d8729d5204731ad5fb8750b9040c3",
            "max": 1,
            "min": 0,
            "orientation": "horizontal",
            "style": "IPY_MODEL_8e32489439d3431eb5846d80fa169b2d",
            "value": 1
          }
        },
        "a5df2bb152cd4f569c395ea6d1dc9d1c": {
          "model_module": "@jupyter-widgets/base",
          "model_name": "LayoutModel",
          "model_module_version": "1.2.0",
          "state": {
            "_model_module": "@jupyter-widgets/base",
            "_model_module_version": "1.2.0",
            "_model_name": "LayoutModel",
            "_view_count": null,
            "_view_module": "@jupyter-widgets/base",
            "_view_module_version": "1.2.0",
            "_view_name": "LayoutView",
            "align_content": null,
            "align_items": null,
            "align_self": null,
            "border": null,
            "bottom": null,
            "display": null,
            "flex": null,
            "flex_flow": null,
            "grid_area": null,
            "grid_auto_columns": null,
            "grid_auto_flow": null,
            "grid_auto_rows": null,
            "grid_column": null,
            "grid_gap": null,
            "grid_row": null,
            "grid_template_areas": null,
            "grid_template_columns": null,
            "grid_template_rows": null,
            "height": null,
            "justify_content": null,
            "justify_items": null,
            "left": null,
            "margin": null,
            "max_height": null,
            "max_width": null,
            "min_height": null,
            "min_width": null,
            "object_fit": null,
            "object_position": null,
            "order": null,
            "overflow": null,
            "overflow_x": null,
            "overflow_y": null,
            "padding": null,
            "right": null,
            "top": null,
            "visibility": null,
            "width": null
          }
        },
        "9ebc5fee209c42f7bffd4fc7caf975c3": {
          "model_module": "@jupyter-widgets/base",
          "model_name": "LayoutModel",
          "model_module_version": "1.2.0",
          "state": {
            "_model_module": "@jupyter-widgets/base",
            "_model_module_version": "1.2.0",
            "_model_name": "LayoutModel",
            "_view_count": null,
            "_view_module": "@jupyter-widgets/base",
            "_view_module_version": "1.2.0",
            "_view_name": "LayoutView",
            "align_content": null,
            "align_items": null,
            "align_self": null,
            "border": null,
            "bottom": null,
            "display": null,
            "flex": null,
            "flex_flow": null,
            "grid_area": null,
            "grid_auto_columns": null,
            "grid_auto_flow": null,
            "grid_auto_rows": null,
            "grid_column": null,
            "grid_gap": null,
            "grid_row": null,
            "grid_template_areas": null,
            "grid_template_columns": null,
            "grid_template_rows": null,
            "height": null,
            "justify_content": null,
            "justify_items": null,
            "left": null,
            "margin": null,
            "max_height": null,
            "max_width": null,
            "min_height": null,
            "min_width": null,
            "object_fit": null,
            "object_position": null,
            "order": null,
            "overflow": null,
            "overflow_x": null,
            "overflow_y": null,
            "padding": null,
            "right": null,
            "top": null,
            "visibility": null,
            "width": null
          }
        },
        "f4f599dbeb0e4beeb4b25f3af675b4d6": {
          "model_module": "@jupyter-widgets/controls",
          "model_name": "DescriptionStyleModel",
          "model_module_version": "1.5.0",
          "state": {
            "_model_module": "@jupyter-widgets/controls",
            "_model_module_version": "1.5.0",
            "_model_name": "DescriptionStyleModel",
            "_view_count": null,
            "_view_module": "@jupyter-widgets/base",
            "_view_module_version": "1.2.0",
            "_view_name": "StyleView",
            "description_width": ""
          }
        },
        "f74d8729d5204731ad5fb8750b9040c3": {
          "model_module": "@jupyter-widgets/base",
          "model_name": "LayoutModel",
          "model_module_version": "1.2.0",
          "state": {
            "_model_module": "@jupyter-widgets/base",
            "_model_module_version": "1.2.0",
            "_model_name": "LayoutModel",
            "_view_count": null,
            "_view_module": "@jupyter-widgets/base",
            "_view_module_version": "1.2.0",
            "_view_name": "LayoutView",
            "align_content": null,
            "align_items": null,
            "align_self": null,
            "border": null,
            "bottom": null,
            "display": null,
            "flex": null,
            "flex_flow": null,
            "grid_area": null,
            "grid_auto_columns": null,
            "grid_auto_flow": null,
            "grid_auto_rows": null,
            "grid_column": null,
            "grid_gap": null,
            "grid_row": null,
            "grid_template_areas": null,
            "grid_template_columns": null,
            "grid_template_rows": null,
            "height": null,
            "justify_content": null,
            "justify_items": null,
            "left": null,
            "margin": null,
            "max_height": null,
            "max_width": null,
            "min_height": null,
            "min_width": null,
            "object_fit": null,
            "object_position": null,
            "order": null,
            "overflow": null,
            "overflow_x": null,
            "overflow_y": null,
            "padding": null,
            "right": null,
            "top": null,
            "visibility": null,
            "width": null
          }
        },
        "8e32489439d3431eb5846d80fa169b2d": {
          "model_module": "@jupyter-widgets/controls",
          "model_name": "ProgressStyleModel",
          "model_module_version": "1.5.0",
          "state": {
            "_model_module": "@jupyter-widgets/controls",
            "_model_module_version": "1.5.0",
            "_model_name": "ProgressStyleModel",
            "_view_count": null,
            "_view_module": "@jupyter-widgets/base",
            "_view_module_version": "1.2.0",
            "_view_name": "StyleView",
            "bar_color": null,
            "description_width": ""
          }
        },
        "1b26a97259dd47128c6517ce99b5f065": {
          "model_module": "@jupyter-widgets/controls",
          "model_name": "VBoxModel",
          "model_module_version": "1.5.0",
          "state": {
            "_dom_classes": [],
            "_model_module": "@jupyter-widgets/controls",
            "_model_module_version": "1.5.0",
            "_model_name": "VBoxModel",
            "_view_count": null,
            "_view_module": "@jupyter-widgets/controls",
            "_view_module_version": "1.5.0",
            "_view_name": "VBoxView",
            "box_style": "",
            "children": [
              "IPY_MODEL_776fcdd5dcf841e3ba05d87386cf6ec1",
              "IPY_MODEL_d2b8b3e0609447679a1c597aac838003"
            ],
            "layout": "IPY_MODEL_6e01b67c1cdf4988aef68a1d3df49a3d"
          }
        },
        "776fcdd5dcf841e3ba05d87386cf6ec1": {
          "model_module": "@jupyter-widgets/controls",
          "model_name": "LabelModel",
          "model_module_version": "1.5.0",
          "state": {
            "_dom_classes": [],
            "_model_module": "@jupyter-widgets/controls",
            "_model_module_version": "1.5.0",
            "_model_name": "LabelModel",
            "_view_count": null,
            "_view_module": "@jupyter-widgets/controls",
            "_view_module_version": "1.5.0",
            "_view_name": "LabelView",
            "description": "",
            "description_tooltip": null,
            "layout": "IPY_MODEL_0756e2bcb6fe4284ac47a66f57829688",
            "placeholder": "​",
            "style": "IPY_MODEL_8aa60762561443fdb542b3fa901c43b9",
            "value": "0.014 MB of 0.014 MB uploaded\r"
          }
        },
        "d2b8b3e0609447679a1c597aac838003": {
          "model_module": "@jupyter-widgets/controls",
          "model_name": "FloatProgressModel",
          "model_module_version": "1.5.0",
          "state": {
            "_dom_classes": [],
            "_model_module": "@jupyter-widgets/controls",
            "_model_module_version": "1.5.0",
            "_model_name": "FloatProgressModel",
            "_view_count": null,
            "_view_module": "@jupyter-widgets/controls",
            "_view_module_version": "1.5.0",
            "_view_name": "ProgressView",
            "bar_style": "",
            "description": "",
            "description_tooltip": null,
            "layout": "IPY_MODEL_e4ba82e8e5af4a64b40cb114d18f98c8",
            "max": 1,
            "min": 0,
            "orientation": "horizontal",
            "style": "IPY_MODEL_ccb5186aa4bd4eeeb8786e1fa8c29d41",
            "value": 1
          }
        },
        "6e01b67c1cdf4988aef68a1d3df49a3d": {
          "model_module": "@jupyter-widgets/base",
          "model_name": "LayoutModel",
          "model_module_version": "1.2.0",
          "state": {
            "_model_module": "@jupyter-widgets/base",
            "_model_module_version": "1.2.0",
            "_model_name": "LayoutModel",
            "_view_count": null,
            "_view_module": "@jupyter-widgets/base",
            "_view_module_version": "1.2.0",
            "_view_name": "LayoutView",
            "align_content": null,
            "align_items": null,
            "align_self": null,
            "border": null,
            "bottom": null,
            "display": null,
            "flex": null,
            "flex_flow": null,
            "grid_area": null,
            "grid_auto_columns": null,
            "grid_auto_flow": null,
            "grid_auto_rows": null,
            "grid_column": null,
            "grid_gap": null,
            "grid_row": null,
            "grid_template_areas": null,
            "grid_template_columns": null,
            "grid_template_rows": null,
            "height": null,
            "justify_content": null,
            "justify_items": null,
            "left": null,
            "margin": null,
            "max_height": null,
            "max_width": null,
            "min_height": null,
            "min_width": null,
            "object_fit": null,
            "object_position": null,
            "order": null,
            "overflow": null,
            "overflow_x": null,
            "overflow_y": null,
            "padding": null,
            "right": null,
            "top": null,
            "visibility": null,
            "width": null
          }
        },
        "0756e2bcb6fe4284ac47a66f57829688": {
          "model_module": "@jupyter-widgets/base",
          "model_name": "LayoutModel",
          "model_module_version": "1.2.0",
          "state": {
            "_model_module": "@jupyter-widgets/base",
            "_model_module_version": "1.2.0",
            "_model_name": "LayoutModel",
            "_view_count": null,
            "_view_module": "@jupyter-widgets/base",
            "_view_module_version": "1.2.0",
            "_view_name": "LayoutView",
            "align_content": null,
            "align_items": null,
            "align_self": null,
            "border": null,
            "bottom": null,
            "display": null,
            "flex": null,
            "flex_flow": null,
            "grid_area": null,
            "grid_auto_columns": null,
            "grid_auto_flow": null,
            "grid_auto_rows": null,
            "grid_column": null,
            "grid_gap": null,
            "grid_row": null,
            "grid_template_areas": null,
            "grid_template_columns": null,
            "grid_template_rows": null,
            "height": null,
            "justify_content": null,
            "justify_items": null,
            "left": null,
            "margin": null,
            "max_height": null,
            "max_width": null,
            "min_height": null,
            "min_width": null,
            "object_fit": null,
            "object_position": null,
            "order": null,
            "overflow": null,
            "overflow_x": null,
            "overflow_y": null,
            "padding": null,
            "right": null,
            "top": null,
            "visibility": null,
            "width": null
          }
        },
        "8aa60762561443fdb542b3fa901c43b9": {
          "model_module": "@jupyter-widgets/controls",
          "model_name": "DescriptionStyleModel",
          "model_module_version": "1.5.0",
          "state": {
            "_model_module": "@jupyter-widgets/controls",
            "_model_module_version": "1.5.0",
            "_model_name": "DescriptionStyleModel",
            "_view_count": null,
            "_view_module": "@jupyter-widgets/base",
            "_view_module_version": "1.2.0",
            "_view_name": "StyleView",
            "description_width": ""
          }
        },
        "e4ba82e8e5af4a64b40cb114d18f98c8": {
          "model_module": "@jupyter-widgets/base",
          "model_name": "LayoutModel",
          "model_module_version": "1.2.0",
          "state": {
            "_model_module": "@jupyter-widgets/base",
            "_model_module_version": "1.2.0",
            "_model_name": "LayoutModel",
            "_view_count": null,
            "_view_module": "@jupyter-widgets/base",
            "_view_module_version": "1.2.0",
            "_view_name": "LayoutView",
            "align_content": null,
            "align_items": null,
            "align_self": null,
            "border": null,
            "bottom": null,
            "display": null,
            "flex": null,
            "flex_flow": null,
            "grid_area": null,
            "grid_auto_columns": null,
            "grid_auto_flow": null,
            "grid_auto_rows": null,
            "grid_column": null,
            "grid_gap": null,
            "grid_row": null,
            "grid_template_areas": null,
            "grid_template_columns": null,
            "grid_template_rows": null,
            "height": null,
            "justify_content": null,
            "justify_items": null,
            "left": null,
            "margin": null,
            "max_height": null,
            "max_width": null,
            "min_height": null,
            "min_width": null,
            "object_fit": null,
            "object_position": null,
            "order": null,
            "overflow": null,
            "overflow_x": null,
            "overflow_y": null,
            "padding": null,
            "right": null,
            "top": null,
            "visibility": null,
            "width": null
          }
        },
        "ccb5186aa4bd4eeeb8786e1fa8c29d41": {
          "model_module": "@jupyter-widgets/controls",
          "model_name": "ProgressStyleModel",
          "model_module_version": "1.5.0",
          "state": {
            "_model_module": "@jupyter-widgets/controls",
            "_model_module_version": "1.5.0",
            "_model_name": "ProgressStyleModel",
            "_view_count": null,
            "_view_module": "@jupyter-widgets/base",
            "_view_module_version": "1.2.0",
            "_view_name": "StyleView",
            "bar_color": null,
            "description_width": ""
          }
        },
        "34e4c0402b9e42f7a5783e2816e8a0bc": {
          "model_module": "@jupyter-widgets/controls",
          "model_name": "VBoxModel",
          "model_module_version": "1.5.0",
          "state": {
            "_dom_classes": [],
            "_model_module": "@jupyter-widgets/controls",
            "_model_module_version": "1.5.0",
            "_model_name": "VBoxModel",
            "_view_count": null,
            "_view_module": "@jupyter-widgets/controls",
            "_view_module_version": "1.5.0",
            "_view_name": "VBoxView",
            "box_style": "",
            "children": [
              "IPY_MODEL_dc0a927346e140e0801a7fab2117167b",
              "IPY_MODEL_383878478c8143858723f4d9603654bd"
            ],
            "layout": "IPY_MODEL_c9afcf78c07a4538b74405bc926639c1"
          }
        },
        "dc0a927346e140e0801a7fab2117167b": {
          "model_module": "@jupyter-widgets/controls",
          "model_name": "LabelModel",
          "model_module_version": "1.5.0",
          "state": {
            "_dom_classes": [],
            "_model_module": "@jupyter-widgets/controls",
            "_model_module_version": "1.5.0",
            "_model_name": "LabelModel",
            "_view_count": null,
            "_view_module": "@jupyter-widgets/controls",
            "_view_module_version": "1.5.0",
            "_view_name": "LabelView",
            "description": "",
            "description_tooltip": null,
            "layout": "IPY_MODEL_1149dd68c667439ab3a935e7c7e225c4",
            "placeholder": "​",
            "style": "IPY_MODEL_71974c7a4f6c496993ba1de0a17628c9",
            "value": "0.014 MB of 0.014 MB uploaded\r"
          }
        },
        "383878478c8143858723f4d9603654bd": {
          "model_module": "@jupyter-widgets/controls",
          "model_name": "FloatProgressModel",
          "model_module_version": "1.5.0",
          "state": {
            "_dom_classes": [],
            "_model_module": "@jupyter-widgets/controls",
            "_model_module_version": "1.5.0",
            "_model_name": "FloatProgressModel",
            "_view_count": null,
            "_view_module": "@jupyter-widgets/controls",
            "_view_module_version": "1.5.0",
            "_view_name": "ProgressView",
            "bar_style": "",
            "description": "",
            "description_tooltip": null,
            "layout": "IPY_MODEL_6dde2934558b4921b6ee1a6cc2af411d",
            "max": 1,
            "min": 0,
            "orientation": "horizontal",
            "style": "IPY_MODEL_3bc1ecf38aed412596709e842149051d",
            "value": 1
          }
        },
        "c9afcf78c07a4538b74405bc926639c1": {
          "model_module": "@jupyter-widgets/base",
          "model_name": "LayoutModel",
          "model_module_version": "1.2.0",
          "state": {
            "_model_module": "@jupyter-widgets/base",
            "_model_module_version": "1.2.0",
            "_model_name": "LayoutModel",
            "_view_count": null,
            "_view_module": "@jupyter-widgets/base",
            "_view_module_version": "1.2.0",
            "_view_name": "LayoutView",
            "align_content": null,
            "align_items": null,
            "align_self": null,
            "border": null,
            "bottom": null,
            "display": null,
            "flex": null,
            "flex_flow": null,
            "grid_area": null,
            "grid_auto_columns": null,
            "grid_auto_flow": null,
            "grid_auto_rows": null,
            "grid_column": null,
            "grid_gap": null,
            "grid_row": null,
            "grid_template_areas": null,
            "grid_template_columns": null,
            "grid_template_rows": null,
            "height": null,
            "justify_content": null,
            "justify_items": null,
            "left": null,
            "margin": null,
            "max_height": null,
            "max_width": null,
            "min_height": null,
            "min_width": null,
            "object_fit": null,
            "object_position": null,
            "order": null,
            "overflow": null,
            "overflow_x": null,
            "overflow_y": null,
            "padding": null,
            "right": null,
            "top": null,
            "visibility": null,
            "width": null
          }
        },
        "1149dd68c667439ab3a935e7c7e225c4": {
          "model_module": "@jupyter-widgets/base",
          "model_name": "LayoutModel",
          "model_module_version": "1.2.0",
          "state": {
            "_model_module": "@jupyter-widgets/base",
            "_model_module_version": "1.2.0",
            "_model_name": "LayoutModel",
            "_view_count": null,
            "_view_module": "@jupyter-widgets/base",
            "_view_module_version": "1.2.0",
            "_view_name": "LayoutView",
            "align_content": null,
            "align_items": null,
            "align_self": null,
            "border": null,
            "bottom": null,
            "display": null,
            "flex": null,
            "flex_flow": null,
            "grid_area": null,
            "grid_auto_columns": null,
            "grid_auto_flow": null,
            "grid_auto_rows": null,
            "grid_column": null,
            "grid_gap": null,
            "grid_row": null,
            "grid_template_areas": null,
            "grid_template_columns": null,
            "grid_template_rows": null,
            "height": null,
            "justify_content": null,
            "justify_items": null,
            "left": null,
            "margin": null,
            "max_height": null,
            "max_width": null,
            "min_height": null,
            "min_width": null,
            "object_fit": null,
            "object_position": null,
            "order": null,
            "overflow": null,
            "overflow_x": null,
            "overflow_y": null,
            "padding": null,
            "right": null,
            "top": null,
            "visibility": null,
            "width": null
          }
        },
        "71974c7a4f6c496993ba1de0a17628c9": {
          "model_module": "@jupyter-widgets/controls",
          "model_name": "DescriptionStyleModel",
          "model_module_version": "1.5.0",
          "state": {
            "_model_module": "@jupyter-widgets/controls",
            "_model_module_version": "1.5.0",
            "_model_name": "DescriptionStyleModel",
            "_view_count": null,
            "_view_module": "@jupyter-widgets/base",
            "_view_module_version": "1.2.0",
            "_view_name": "StyleView",
            "description_width": ""
          }
        },
        "6dde2934558b4921b6ee1a6cc2af411d": {
          "model_module": "@jupyter-widgets/base",
          "model_name": "LayoutModel",
          "model_module_version": "1.2.0",
          "state": {
            "_model_module": "@jupyter-widgets/base",
            "_model_module_version": "1.2.0",
            "_model_name": "LayoutModel",
            "_view_count": null,
            "_view_module": "@jupyter-widgets/base",
            "_view_module_version": "1.2.0",
            "_view_name": "LayoutView",
            "align_content": null,
            "align_items": null,
            "align_self": null,
            "border": null,
            "bottom": null,
            "display": null,
            "flex": null,
            "flex_flow": null,
            "grid_area": null,
            "grid_auto_columns": null,
            "grid_auto_flow": null,
            "grid_auto_rows": null,
            "grid_column": null,
            "grid_gap": null,
            "grid_row": null,
            "grid_template_areas": null,
            "grid_template_columns": null,
            "grid_template_rows": null,
            "height": null,
            "justify_content": null,
            "justify_items": null,
            "left": null,
            "margin": null,
            "max_height": null,
            "max_width": null,
            "min_height": null,
            "min_width": null,
            "object_fit": null,
            "object_position": null,
            "order": null,
            "overflow": null,
            "overflow_x": null,
            "overflow_y": null,
            "padding": null,
            "right": null,
            "top": null,
            "visibility": null,
            "width": null
          }
        },
        "3bc1ecf38aed412596709e842149051d": {
          "model_module": "@jupyter-widgets/controls",
          "model_name": "ProgressStyleModel",
          "model_module_version": "1.5.0",
          "state": {
            "_model_module": "@jupyter-widgets/controls",
            "_model_module_version": "1.5.0",
            "_model_name": "ProgressStyleModel",
            "_view_count": null,
            "_view_module": "@jupyter-widgets/base",
            "_view_module_version": "1.2.0",
            "_view_name": "StyleView",
            "bar_color": null,
            "description_width": ""
          }
        },
        "ddab2de2f5a640779212a3d5da54bafc": {
          "model_module": "@jupyter-widgets/controls",
          "model_name": "VBoxModel",
          "model_module_version": "1.5.0",
          "state": {
            "_dom_classes": [],
            "_model_module": "@jupyter-widgets/controls",
            "_model_module_version": "1.5.0",
            "_model_name": "VBoxModel",
            "_view_count": null,
            "_view_module": "@jupyter-widgets/controls",
            "_view_module_version": "1.5.0",
            "_view_name": "VBoxView",
            "box_style": "",
            "children": [
              "IPY_MODEL_5b643a3790a34815bb87b0c4c18029ae",
              "IPY_MODEL_361fab6c89e2497a9610ca1e213b3cf5"
            ],
            "layout": "IPY_MODEL_16c750b1fdd942df934b8fdf8e33ab67"
          }
        },
        "5b643a3790a34815bb87b0c4c18029ae": {
          "model_module": "@jupyter-widgets/controls",
          "model_name": "LabelModel",
          "model_module_version": "1.5.0",
          "state": {
            "_dom_classes": [],
            "_model_module": "@jupyter-widgets/controls",
            "_model_module_version": "1.5.0",
            "_model_name": "LabelModel",
            "_view_count": null,
            "_view_module": "@jupyter-widgets/controls",
            "_view_module_version": "1.5.0",
            "_view_name": "LabelView",
            "description": "",
            "description_tooltip": null,
            "layout": "IPY_MODEL_cfa06ec2b79d49b6b9e7793da465df12",
            "placeholder": "​",
            "style": "IPY_MODEL_444db2b4ae7647faa2413fb0210b9ced",
            "value": "0.014 MB of 0.014 MB uploaded\r"
          }
        },
        "361fab6c89e2497a9610ca1e213b3cf5": {
          "model_module": "@jupyter-widgets/controls",
          "model_name": "FloatProgressModel",
          "model_module_version": "1.5.0",
          "state": {
            "_dom_classes": [],
            "_model_module": "@jupyter-widgets/controls",
            "_model_module_version": "1.5.0",
            "_model_name": "FloatProgressModel",
            "_view_count": null,
            "_view_module": "@jupyter-widgets/controls",
            "_view_module_version": "1.5.0",
            "_view_name": "ProgressView",
            "bar_style": "",
            "description": "",
            "description_tooltip": null,
            "layout": "IPY_MODEL_626ef15bdf364c2f825b006e7c9dccd1",
            "max": 1,
            "min": 0,
            "orientation": "horizontal",
            "style": "IPY_MODEL_70dbc106871641d794ad27c43465591c",
            "value": 1
          }
        },
        "16c750b1fdd942df934b8fdf8e33ab67": {
          "model_module": "@jupyter-widgets/base",
          "model_name": "LayoutModel",
          "model_module_version": "1.2.0",
          "state": {
            "_model_module": "@jupyter-widgets/base",
            "_model_module_version": "1.2.0",
            "_model_name": "LayoutModel",
            "_view_count": null,
            "_view_module": "@jupyter-widgets/base",
            "_view_module_version": "1.2.0",
            "_view_name": "LayoutView",
            "align_content": null,
            "align_items": null,
            "align_self": null,
            "border": null,
            "bottom": null,
            "display": null,
            "flex": null,
            "flex_flow": null,
            "grid_area": null,
            "grid_auto_columns": null,
            "grid_auto_flow": null,
            "grid_auto_rows": null,
            "grid_column": null,
            "grid_gap": null,
            "grid_row": null,
            "grid_template_areas": null,
            "grid_template_columns": null,
            "grid_template_rows": null,
            "height": null,
            "justify_content": null,
            "justify_items": null,
            "left": null,
            "margin": null,
            "max_height": null,
            "max_width": null,
            "min_height": null,
            "min_width": null,
            "object_fit": null,
            "object_position": null,
            "order": null,
            "overflow": null,
            "overflow_x": null,
            "overflow_y": null,
            "padding": null,
            "right": null,
            "top": null,
            "visibility": null,
            "width": null
          }
        },
        "cfa06ec2b79d49b6b9e7793da465df12": {
          "model_module": "@jupyter-widgets/base",
          "model_name": "LayoutModel",
          "model_module_version": "1.2.0",
          "state": {
            "_model_module": "@jupyter-widgets/base",
            "_model_module_version": "1.2.0",
            "_model_name": "LayoutModel",
            "_view_count": null,
            "_view_module": "@jupyter-widgets/base",
            "_view_module_version": "1.2.0",
            "_view_name": "LayoutView",
            "align_content": null,
            "align_items": null,
            "align_self": null,
            "border": null,
            "bottom": null,
            "display": null,
            "flex": null,
            "flex_flow": null,
            "grid_area": null,
            "grid_auto_columns": null,
            "grid_auto_flow": null,
            "grid_auto_rows": null,
            "grid_column": null,
            "grid_gap": null,
            "grid_row": null,
            "grid_template_areas": null,
            "grid_template_columns": null,
            "grid_template_rows": null,
            "height": null,
            "justify_content": null,
            "justify_items": null,
            "left": null,
            "margin": null,
            "max_height": null,
            "max_width": null,
            "min_height": null,
            "min_width": null,
            "object_fit": null,
            "object_position": null,
            "order": null,
            "overflow": null,
            "overflow_x": null,
            "overflow_y": null,
            "padding": null,
            "right": null,
            "top": null,
            "visibility": null,
            "width": null
          }
        },
        "444db2b4ae7647faa2413fb0210b9ced": {
          "model_module": "@jupyter-widgets/controls",
          "model_name": "DescriptionStyleModel",
          "model_module_version": "1.5.0",
          "state": {
            "_model_module": "@jupyter-widgets/controls",
            "_model_module_version": "1.5.0",
            "_model_name": "DescriptionStyleModel",
            "_view_count": null,
            "_view_module": "@jupyter-widgets/base",
            "_view_module_version": "1.2.0",
            "_view_name": "StyleView",
            "description_width": ""
          }
        },
        "626ef15bdf364c2f825b006e7c9dccd1": {
          "model_module": "@jupyter-widgets/base",
          "model_name": "LayoutModel",
          "model_module_version": "1.2.0",
          "state": {
            "_model_module": "@jupyter-widgets/base",
            "_model_module_version": "1.2.0",
            "_model_name": "LayoutModel",
            "_view_count": null,
            "_view_module": "@jupyter-widgets/base",
            "_view_module_version": "1.2.0",
            "_view_name": "LayoutView",
            "align_content": null,
            "align_items": null,
            "align_self": null,
            "border": null,
            "bottom": null,
            "display": null,
            "flex": null,
            "flex_flow": null,
            "grid_area": null,
            "grid_auto_columns": null,
            "grid_auto_flow": null,
            "grid_auto_rows": null,
            "grid_column": null,
            "grid_gap": null,
            "grid_row": null,
            "grid_template_areas": null,
            "grid_template_columns": null,
            "grid_template_rows": null,
            "height": null,
            "justify_content": null,
            "justify_items": null,
            "left": null,
            "margin": null,
            "max_height": null,
            "max_width": null,
            "min_height": null,
            "min_width": null,
            "object_fit": null,
            "object_position": null,
            "order": null,
            "overflow": null,
            "overflow_x": null,
            "overflow_y": null,
            "padding": null,
            "right": null,
            "top": null,
            "visibility": null,
            "width": null
          }
        },
        "70dbc106871641d794ad27c43465591c": {
          "model_module": "@jupyter-widgets/controls",
          "model_name": "ProgressStyleModel",
          "model_module_version": "1.5.0",
          "state": {
            "_model_module": "@jupyter-widgets/controls",
            "_model_module_version": "1.5.0",
            "_model_name": "ProgressStyleModel",
            "_view_count": null,
            "_view_module": "@jupyter-widgets/base",
            "_view_module_version": "1.2.0",
            "_view_name": "StyleView",
            "bar_color": null,
            "description_width": ""
          }
        },
        "0447b2d5d46944bb92f5860c27974461": {
          "model_module": "@jupyter-widgets/controls",
          "model_name": "VBoxModel",
          "model_module_version": "1.5.0",
          "state": {
            "_dom_classes": [],
            "_model_module": "@jupyter-widgets/controls",
            "_model_module_version": "1.5.0",
            "_model_name": "VBoxModel",
            "_view_count": null,
            "_view_module": "@jupyter-widgets/controls",
            "_view_module_version": "1.5.0",
            "_view_name": "VBoxView",
            "box_style": "",
            "children": [
              "IPY_MODEL_9728a946ceb944579c1519a378fe094d",
              "IPY_MODEL_b1b79c7b810448b3b7c0baa1276307cf"
            ],
            "layout": "IPY_MODEL_84b89d9e72fb42c29d805da387455b1f"
          }
        },
        "9728a946ceb944579c1519a378fe094d": {
          "model_module": "@jupyter-widgets/controls",
          "model_name": "LabelModel",
          "model_module_version": "1.5.0",
          "state": {
            "_dom_classes": [],
            "_model_module": "@jupyter-widgets/controls",
            "_model_module_version": "1.5.0",
            "_model_name": "LabelModel",
            "_view_count": null,
            "_view_module": "@jupyter-widgets/controls",
            "_view_module_version": "1.5.0",
            "_view_name": "LabelView",
            "description": "",
            "description_tooltip": null,
            "layout": "IPY_MODEL_fc007186fc3d46f0a16d065965ac63cd",
            "placeholder": "​",
            "style": "IPY_MODEL_0b56661f30ca4aa790edb79a4254458b",
            "value": "0.014 MB of 0.014 MB uploaded\r"
          }
        },
        "b1b79c7b810448b3b7c0baa1276307cf": {
          "model_module": "@jupyter-widgets/controls",
          "model_name": "FloatProgressModel",
          "model_module_version": "1.5.0",
          "state": {
            "_dom_classes": [],
            "_model_module": "@jupyter-widgets/controls",
            "_model_module_version": "1.5.0",
            "_model_name": "FloatProgressModel",
            "_view_count": null,
            "_view_module": "@jupyter-widgets/controls",
            "_view_module_version": "1.5.0",
            "_view_name": "ProgressView",
            "bar_style": "",
            "description": "",
            "description_tooltip": null,
            "layout": "IPY_MODEL_9781b1964bcd4c06a78ee1695e9fe6b1",
            "max": 1,
            "min": 0,
            "orientation": "horizontal",
            "style": "IPY_MODEL_6908b65daa3a43a887a96587af7c13f6",
            "value": 1
          }
        },
        "84b89d9e72fb42c29d805da387455b1f": {
          "model_module": "@jupyter-widgets/base",
          "model_name": "LayoutModel",
          "model_module_version": "1.2.0",
          "state": {
            "_model_module": "@jupyter-widgets/base",
            "_model_module_version": "1.2.0",
            "_model_name": "LayoutModel",
            "_view_count": null,
            "_view_module": "@jupyter-widgets/base",
            "_view_module_version": "1.2.0",
            "_view_name": "LayoutView",
            "align_content": null,
            "align_items": null,
            "align_self": null,
            "border": null,
            "bottom": null,
            "display": null,
            "flex": null,
            "flex_flow": null,
            "grid_area": null,
            "grid_auto_columns": null,
            "grid_auto_flow": null,
            "grid_auto_rows": null,
            "grid_column": null,
            "grid_gap": null,
            "grid_row": null,
            "grid_template_areas": null,
            "grid_template_columns": null,
            "grid_template_rows": null,
            "height": null,
            "justify_content": null,
            "justify_items": null,
            "left": null,
            "margin": null,
            "max_height": null,
            "max_width": null,
            "min_height": null,
            "min_width": null,
            "object_fit": null,
            "object_position": null,
            "order": null,
            "overflow": null,
            "overflow_x": null,
            "overflow_y": null,
            "padding": null,
            "right": null,
            "top": null,
            "visibility": null,
            "width": null
          }
        },
        "fc007186fc3d46f0a16d065965ac63cd": {
          "model_module": "@jupyter-widgets/base",
          "model_name": "LayoutModel",
          "model_module_version": "1.2.0",
          "state": {
            "_model_module": "@jupyter-widgets/base",
            "_model_module_version": "1.2.0",
            "_model_name": "LayoutModel",
            "_view_count": null,
            "_view_module": "@jupyter-widgets/base",
            "_view_module_version": "1.2.0",
            "_view_name": "LayoutView",
            "align_content": null,
            "align_items": null,
            "align_self": null,
            "border": null,
            "bottom": null,
            "display": null,
            "flex": null,
            "flex_flow": null,
            "grid_area": null,
            "grid_auto_columns": null,
            "grid_auto_flow": null,
            "grid_auto_rows": null,
            "grid_column": null,
            "grid_gap": null,
            "grid_row": null,
            "grid_template_areas": null,
            "grid_template_columns": null,
            "grid_template_rows": null,
            "height": null,
            "justify_content": null,
            "justify_items": null,
            "left": null,
            "margin": null,
            "max_height": null,
            "max_width": null,
            "min_height": null,
            "min_width": null,
            "object_fit": null,
            "object_position": null,
            "order": null,
            "overflow": null,
            "overflow_x": null,
            "overflow_y": null,
            "padding": null,
            "right": null,
            "top": null,
            "visibility": null,
            "width": null
          }
        },
        "0b56661f30ca4aa790edb79a4254458b": {
          "model_module": "@jupyter-widgets/controls",
          "model_name": "DescriptionStyleModel",
          "model_module_version": "1.5.0",
          "state": {
            "_model_module": "@jupyter-widgets/controls",
            "_model_module_version": "1.5.0",
            "_model_name": "DescriptionStyleModel",
            "_view_count": null,
            "_view_module": "@jupyter-widgets/base",
            "_view_module_version": "1.2.0",
            "_view_name": "StyleView",
            "description_width": ""
          }
        },
        "9781b1964bcd4c06a78ee1695e9fe6b1": {
          "model_module": "@jupyter-widgets/base",
          "model_name": "LayoutModel",
          "model_module_version": "1.2.0",
          "state": {
            "_model_module": "@jupyter-widgets/base",
            "_model_module_version": "1.2.0",
            "_model_name": "LayoutModel",
            "_view_count": null,
            "_view_module": "@jupyter-widgets/base",
            "_view_module_version": "1.2.0",
            "_view_name": "LayoutView",
            "align_content": null,
            "align_items": null,
            "align_self": null,
            "border": null,
            "bottom": null,
            "display": null,
            "flex": null,
            "flex_flow": null,
            "grid_area": null,
            "grid_auto_columns": null,
            "grid_auto_flow": null,
            "grid_auto_rows": null,
            "grid_column": null,
            "grid_gap": null,
            "grid_row": null,
            "grid_template_areas": null,
            "grid_template_columns": null,
            "grid_template_rows": null,
            "height": null,
            "justify_content": null,
            "justify_items": null,
            "left": null,
            "margin": null,
            "max_height": null,
            "max_width": null,
            "min_height": null,
            "min_width": null,
            "object_fit": null,
            "object_position": null,
            "order": null,
            "overflow": null,
            "overflow_x": null,
            "overflow_y": null,
            "padding": null,
            "right": null,
            "top": null,
            "visibility": null,
            "width": null
          }
        },
        "6908b65daa3a43a887a96587af7c13f6": {
          "model_module": "@jupyter-widgets/controls",
          "model_name": "ProgressStyleModel",
          "model_module_version": "1.5.0",
          "state": {
            "_model_module": "@jupyter-widgets/controls",
            "_model_module_version": "1.5.0",
            "_model_name": "ProgressStyleModel",
            "_view_count": null,
            "_view_module": "@jupyter-widgets/base",
            "_view_module_version": "1.2.0",
            "_view_name": "StyleView",
            "bar_color": null,
            "description_width": ""
          }
        },
        "f5af455c7ef84962a92fc68e52f6bc6b": {
          "model_module": "@jupyter-widgets/controls",
          "model_name": "VBoxModel",
          "model_module_version": "1.5.0",
          "state": {
            "_dom_classes": [],
            "_model_module": "@jupyter-widgets/controls",
            "_model_module_version": "1.5.0",
            "_model_name": "VBoxModel",
            "_view_count": null,
            "_view_module": "@jupyter-widgets/controls",
            "_view_module_version": "1.5.0",
            "_view_name": "VBoxView",
            "box_style": "",
            "children": [
              "IPY_MODEL_d119c24d20794391bff0411c6a8ce783",
              "IPY_MODEL_77ded04ca8c347a9b08bc59aa00ffb67"
            ],
            "layout": "IPY_MODEL_6c97848d3ef543d8890387f416139657"
          }
        },
        "d119c24d20794391bff0411c6a8ce783": {
          "model_module": "@jupyter-widgets/controls",
          "model_name": "LabelModel",
          "model_module_version": "1.5.0",
          "state": {
            "_dom_classes": [],
            "_model_module": "@jupyter-widgets/controls",
            "_model_module_version": "1.5.0",
            "_model_name": "LabelModel",
            "_view_count": null,
            "_view_module": "@jupyter-widgets/controls",
            "_view_module_version": "1.5.0",
            "_view_name": "LabelView",
            "description": "",
            "description_tooltip": null,
            "layout": "IPY_MODEL_ebca4b76c3af4978abbb6206d60feccd",
            "placeholder": "​",
            "style": "IPY_MODEL_1dc6b5bdf32a4e36a96ac57eecb071eb",
            "value": "0.014 MB of 0.014 MB uploaded\r"
          }
        },
        "77ded04ca8c347a9b08bc59aa00ffb67": {
          "model_module": "@jupyter-widgets/controls",
          "model_name": "FloatProgressModel",
          "model_module_version": "1.5.0",
          "state": {
            "_dom_classes": [],
            "_model_module": "@jupyter-widgets/controls",
            "_model_module_version": "1.5.0",
            "_model_name": "FloatProgressModel",
            "_view_count": null,
            "_view_module": "@jupyter-widgets/controls",
            "_view_module_version": "1.5.0",
            "_view_name": "ProgressView",
            "bar_style": "",
            "description": "",
            "description_tooltip": null,
            "layout": "IPY_MODEL_0faffb1c35b84a0e8c7e85cef5b7d7b0",
            "max": 1,
            "min": 0,
            "orientation": "horizontal",
            "style": "IPY_MODEL_750445d2dd5049b89e5c521728af8a16",
            "value": 1
          }
        },
        "6c97848d3ef543d8890387f416139657": {
          "model_module": "@jupyter-widgets/base",
          "model_name": "LayoutModel",
          "model_module_version": "1.2.0",
          "state": {
            "_model_module": "@jupyter-widgets/base",
            "_model_module_version": "1.2.0",
            "_model_name": "LayoutModel",
            "_view_count": null,
            "_view_module": "@jupyter-widgets/base",
            "_view_module_version": "1.2.0",
            "_view_name": "LayoutView",
            "align_content": null,
            "align_items": null,
            "align_self": null,
            "border": null,
            "bottom": null,
            "display": null,
            "flex": null,
            "flex_flow": null,
            "grid_area": null,
            "grid_auto_columns": null,
            "grid_auto_flow": null,
            "grid_auto_rows": null,
            "grid_column": null,
            "grid_gap": null,
            "grid_row": null,
            "grid_template_areas": null,
            "grid_template_columns": null,
            "grid_template_rows": null,
            "height": null,
            "justify_content": null,
            "justify_items": null,
            "left": null,
            "margin": null,
            "max_height": null,
            "max_width": null,
            "min_height": null,
            "min_width": null,
            "object_fit": null,
            "object_position": null,
            "order": null,
            "overflow": null,
            "overflow_x": null,
            "overflow_y": null,
            "padding": null,
            "right": null,
            "top": null,
            "visibility": null,
            "width": null
          }
        },
        "ebca4b76c3af4978abbb6206d60feccd": {
          "model_module": "@jupyter-widgets/base",
          "model_name": "LayoutModel",
          "model_module_version": "1.2.0",
          "state": {
            "_model_module": "@jupyter-widgets/base",
            "_model_module_version": "1.2.0",
            "_model_name": "LayoutModel",
            "_view_count": null,
            "_view_module": "@jupyter-widgets/base",
            "_view_module_version": "1.2.0",
            "_view_name": "LayoutView",
            "align_content": null,
            "align_items": null,
            "align_self": null,
            "border": null,
            "bottom": null,
            "display": null,
            "flex": null,
            "flex_flow": null,
            "grid_area": null,
            "grid_auto_columns": null,
            "grid_auto_flow": null,
            "grid_auto_rows": null,
            "grid_column": null,
            "grid_gap": null,
            "grid_row": null,
            "grid_template_areas": null,
            "grid_template_columns": null,
            "grid_template_rows": null,
            "height": null,
            "justify_content": null,
            "justify_items": null,
            "left": null,
            "margin": null,
            "max_height": null,
            "max_width": null,
            "min_height": null,
            "min_width": null,
            "object_fit": null,
            "object_position": null,
            "order": null,
            "overflow": null,
            "overflow_x": null,
            "overflow_y": null,
            "padding": null,
            "right": null,
            "top": null,
            "visibility": null,
            "width": null
          }
        },
        "1dc6b5bdf32a4e36a96ac57eecb071eb": {
          "model_module": "@jupyter-widgets/controls",
          "model_name": "DescriptionStyleModel",
          "model_module_version": "1.5.0",
          "state": {
            "_model_module": "@jupyter-widgets/controls",
            "_model_module_version": "1.5.0",
            "_model_name": "DescriptionStyleModel",
            "_view_count": null,
            "_view_module": "@jupyter-widgets/base",
            "_view_module_version": "1.2.0",
            "_view_name": "StyleView",
            "description_width": ""
          }
        },
        "0faffb1c35b84a0e8c7e85cef5b7d7b0": {
          "model_module": "@jupyter-widgets/base",
          "model_name": "LayoutModel",
          "model_module_version": "1.2.0",
          "state": {
            "_model_module": "@jupyter-widgets/base",
            "_model_module_version": "1.2.0",
            "_model_name": "LayoutModel",
            "_view_count": null,
            "_view_module": "@jupyter-widgets/base",
            "_view_module_version": "1.2.0",
            "_view_name": "LayoutView",
            "align_content": null,
            "align_items": null,
            "align_self": null,
            "border": null,
            "bottom": null,
            "display": null,
            "flex": null,
            "flex_flow": null,
            "grid_area": null,
            "grid_auto_columns": null,
            "grid_auto_flow": null,
            "grid_auto_rows": null,
            "grid_column": null,
            "grid_gap": null,
            "grid_row": null,
            "grid_template_areas": null,
            "grid_template_columns": null,
            "grid_template_rows": null,
            "height": null,
            "justify_content": null,
            "justify_items": null,
            "left": null,
            "margin": null,
            "max_height": null,
            "max_width": null,
            "min_height": null,
            "min_width": null,
            "object_fit": null,
            "object_position": null,
            "order": null,
            "overflow": null,
            "overflow_x": null,
            "overflow_y": null,
            "padding": null,
            "right": null,
            "top": null,
            "visibility": null,
            "width": null
          }
        },
        "750445d2dd5049b89e5c521728af8a16": {
          "model_module": "@jupyter-widgets/controls",
          "model_name": "ProgressStyleModel",
          "model_module_version": "1.5.0",
          "state": {
            "_model_module": "@jupyter-widgets/controls",
            "_model_module_version": "1.5.0",
            "_model_name": "ProgressStyleModel",
            "_view_count": null,
            "_view_module": "@jupyter-widgets/base",
            "_view_module_version": "1.2.0",
            "_view_name": "StyleView",
            "bar_color": null,
            "description_width": ""
          }
        },
        "7246281ecb4f48a48457a789ce32c6d6": {
          "model_module": "@jupyter-widgets/controls",
          "model_name": "VBoxModel",
          "model_module_version": "1.5.0",
          "state": {
            "_dom_classes": [],
            "_model_module": "@jupyter-widgets/controls",
            "_model_module_version": "1.5.0",
            "_model_name": "VBoxModel",
            "_view_count": null,
            "_view_module": "@jupyter-widgets/controls",
            "_view_module_version": "1.5.0",
            "_view_name": "VBoxView",
            "box_style": "",
            "children": [
              "IPY_MODEL_242599d7cf084e7c833fa0186e914329",
              "IPY_MODEL_d39d2fe0704b4ffb8c96d171a2729927"
            ],
            "layout": "IPY_MODEL_9863441b1ccf41e6bd8e30676581f350"
          }
        },
        "242599d7cf084e7c833fa0186e914329": {
          "model_module": "@jupyter-widgets/controls",
          "model_name": "LabelModel",
          "model_module_version": "1.5.0",
          "state": {
            "_dom_classes": [],
            "_model_module": "@jupyter-widgets/controls",
            "_model_module_version": "1.5.0",
            "_model_name": "LabelModel",
            "_view_count": null,
            "_view_module": "@jupyter-widgets/controls",
            "_view_module_version": "1.5.0",
            "_view_name": "LabelView",
            "description": "",
            "description_tooltip": null,
            "layout": "IPY_MODEL_55744777e1cc4986bf800c69effef471",
            "placeholder": "​",
            "style": "IPY_MODEL_0b0c74b5b5e44ebcaddcbc50602e7eb3",
            "value": "0.014 MB of 0.014 MB uploaded\r"
          }
        },
        "d39d2fe0704b4ffb8c96d171a2729927": {
          "model_module": "@jupyter-widgets/controls",
          "model_name": "FloatProgressModel",
          "model_module_version": "1.5.0",
          "state": {
            "_dom_classes": [],
            "_model_module": "@jupyter-widgets/controls",
            "_model_module_version": "1.5.0",
            "_model_name": "FloatProgressModel",
            "_view_count": null,
            "_view_module": "@jupyter-widgets/controls",
            "_view_module_version": "1.5.0",
            "_view_name": "ProgressView",
            "bar_style": "",
            "description": "",
            "description_tooltip": null,
            "layout": "IPY_MODEL_d18c0d5eadb44082a2a4b43f8f779a7d",
            "max": 1,
            "min": 0,
            "orientation": "horizontal",
            "style": "IPY_MODEL_34c599510a1b472b8a3220610888eb35",
            "value": 1
          }
        },
        "9863441b1ccf41e6bd8e30676581f350": {
          "model_module": "@jupyter-widgets/base",
          "model_name": "LayoutModel",
          "model_module_version": "1.2.0",
          "state": {
            "_model_module": "@jupyter-widgets/base",
            "_model_module_version": "1.2.0",
            "_model_name": "LayoutModel",
            "_view_count": null,
            "_view_module": "@jupyter-widgets/base",
            "_view_module_version": "1.2.0",
            "_view_name": "LayoutView",
            "align_content": null,
            "align_items": null,
            "align_self": null,
            "border": null,
            "bottom": null,
            "display": null,
            "flex": null,
            "flex_flow": null,
            "grid_area": null,
            "grid_auto_columns": null,
            "grid_auto_flow": null,
            "grid_auto_rows": null,
            "grid_column": null,
            "grid_gap": null,
            "grid_row": null,
            "grid_template_areas": null,
            "grid_template_columns": null,
            "grid_template_rows": null,
            "height": null,
            "justify_content": null,
            "justify_items": null,
            "left": null,
            "margin": null,
            "max_height": null,
            "max_width": null,
            "min_height": null,
            "min_width": null,
            "object_fit": null,
            "object_position": null,
            "order": null,
            "overflow": null,
            "overflow_x": null,
            "overflow_y": null,
            "padding": null,
            "right": null,
            "top": null,
            "visibility": null,
            "width": null
          }
        },
        "55744777e1cc4986bf800c69effef471": {
          "model_module": "@jupyter-widgets/base",
          "model_name": "LayoutModel",
          "model_module_version": "1.2.0",
          "state": {
            "_model_module": "@jupyter-widgets/base",
            "_model_module_version": "1.2.0",
            "_model_name": "LayoutModel",
            "_view_count": null,
            "_view_module": "@jupyter-widgets/base",
            "_view_module_version": "1.2.0",
            "_view_name": "LayoutView",
            "align_content": null,
            "align_items": null,
            "align_self": null,
            "border": null,
            "bottom": null,
            "display": null,
            "flex": null,
            "flex_flow": null,
            "grid_area": null,
            "grid_auto_columns": null,
            "grid_auto_flow": null,
            "grid_auto_rows": null,
            "grid_column": null,
            "grid_gap": null,
            "grid_row": null,
            "grid_template_areas": null,
            "grid_template_columns": null,
            "grid_template_rows": null,
            "height": null,
            "justify_content": null,
            "justify_items": null,
            "left": null,
            "margin": null,
            "max_height": null,
            "max_width": null,
            "min_height": null,
            "min_width": null,
            "object_fit": null,
            "object_position": null,
            "order": null,
            "overflow": null,
            "overflow_x": null,
            "overflow_y": null,
            "padding": null,
            "right": null,
            "top": null,
            "visibility": null,
            "width": null
          }
        },
        "0b0c74b5b5e44ebcaddcbc50602e7eb3": {
          "model_module": "@jupyter-widgets/controls",
          "model_name": "DescriptionStyleModel",
          "model_module_version": "1.5.0",
          "state": {
            "_model_module": "@jupyter-widgets/controls",
            "_model_module_version": "1.5.0",
            "_model_name": "DescriptionStyleModel",
            "_view_count": null,
            "_view_module": "@jupyter-widgets/base",
            "_view_module_version": "1.2.0",
            "_view_name": "StyleView",
            "description_width": ""
          }
        },
        "d18c0d5eadb44082a2a4b43f8f779a7d": {
          "model_module": "@jupyter-widgets/base",
          "model_name": "LayoutModel",
          "model_module_version": "1.2.0",
          "state": {
            "_model_module": "@jupyter-widgets/base",
            "_model_module_version": "1.2.0",
            "_model_name": "LayoutModel",
            "_view_count": null,
            "_view_module": "@jupyter-widgets/base",
            "_view_module_version": "1.2.0",
            "_view_name": "LayoutView",
            "align_content": null,
            "align_items": null,
            "align_self": null,
            "border": null,
            "bottom": null,
            "display": null,
            "flex": null,
            "flex_flow": null,
            "grid_area": null,
            "grid_auto_columns": null,
            "grid_auto_flow": null,
            "grid_auto_rows": null,
            "grid_column": null,
            "grid_gap": null,
            "grid_row": null,
            "grid_template_areas": null,
            "grid_template_columns": null,
            "grid_template_rows": null,
            "height": null,
            "justify_content": null,
            "justify_items": null,
            "left": null,
            "margin": null,
            "max_height": null,
            "max_width": null,
            "min_height": null,
            "min_width": null,
            "object_fit": null,
            "object_position": null,
            "order": null,
            "overflow": null,
            "overflow_x": null,
            "overflow_y": null,
            "padding": null,
            "right": null,
            "top": null,
            "visibility": null,
            "width": null
          }
        },
        "34c599510a1b472b8a3220610888eb35": {
          "model_module": "@jupyter-widgets/controls",
          "model_name": "ProgressStyleModel",
          "model_module_version": "1.5.0",
          "state": {
            "_model_module": "@jupyter-widgets/controls",
            "_model_module_version": "1.5.0",
            "_model_name": "ProgressStyleModel",
            "_view_count": null,
            "_view_module": "@jupyter-widgets/base",
            "_view_module_version": "1.2.0",
            "_view_name": "StyleView",
            "bar_color": null,
            "description_width": ""
          }
        },
        "99d007fdf9604e25b6f9a97d6bf42cf9": {
          "model_module": "@jupyter-widgets/controls",
          "model_name": "VBoxModel",
          "model_module_version": "1.5.0",
          "state": {
            "_dom_classes": [],
            "_model_module": "@jupyter-widgets/controls",
            "_model_module_version": "1.5.0",
            "_model_name": "VBoxModel",
            "_view_count": null,
            "_view_module": "@jupyter-widgets/controls",
            "_view_module_version": "1.5.0",
            "_view_name": "VBoxView",
            "box_style": "",
            "children": [
              "IPY_MODEL_71d47a13151d4101a0d8dc659f2c0fb6",
              "IPY_MODEL_fc3e7ea126334641ae656788e41ffecb"
            ],
            "layout": "IPY_MODEL_a9d9410c62bf4e37be384d84ec485001"
          }
        },
        "71d47a13151d4101a0d8dc659f2c0fb6": {
          "model_module": "@jupyter-widgets/controls",
          "model_name": "LabelModel",
          "model_module_version": "1.5.0",
          "state": {
            "_dom_classes": [],
            "_model_module": "@jupyter-widgets/controls",
            "_model_module_version": "1.5.0",
            "_model_name": "LabelModel",
            "_view_count": null,
            "_view_module": "@jupyter-widgets/controls",
            "_view_module_version": "1.5.0",
            "_view_name": "LabelView",
            "description": "",
            "description_tooltip": null,
            "layout": "IPY_MODEL_3901c13c54d54b34bf41485e4a0002ce",
            "placeholder": "​",
            "style": "IPY_MODEL_d6d59a94c68a4c11aa7e078f05e997a6",
            "value": "0.014 MB of 0.014 MB uploaded\r"
          }
        },
        "fc3e7ea126334641ae656788e41ffecb": {
          "model_module": "@jupyter-widgets/controls",
          "model_name": "FloatProgressModel",
          "model_module_version": "1.5.0",
          "state": {
            "_dom_classes": [],
            "_model_module": "@jupyter-widgets/controls",
            "_model_module_version": "1.5.0",
            "_model_name": "FloatProgressModel",
            "_view_count": null,
            "_view_module": "@jupyter-widgets/controls",
            "_view_module_version": "1.5.0",
            "_view_name": "ProgressView",
            "bar_style": "",
            "description": "",
            "description_tooltip": null,
            "layout": "IPY_MODEL_e4059a73a62649b581d9645022299b5b",
            "max": 1,
            "min": 0,
            "orientation": "horizontal",
            "style": "IPY_MODEL_1cace8c530ee416fb7bed18eeaeaaf5a",
            "value": 1
          }
        },
        "a9d9410c62bf4e37be384d84ec485001": {
          "model_module": "@jupyter-widgets/base",
          "model_name": "LayoutModel",
          "model_module_version": "1.2.0",
          "state": {
            "_model_module": "@jupyter-widgets/base",
            "_model_module_version": "1.2.0",
            "_model_name": "LayoutModel",
            "_view_count": null,
            "_view_module": "@jupyter-widgets/base",
            "_view_module_version": "1.2.0",
            "_view_name": "LayoutView",
            "align_content": null,
            "align_items": null,
            "align_self": null,
            "border": null,
            "bottom": null,
            "display": null,
            "flex": null,
            "flex_flow": null,
            "grid_area": null,
            "grid_auto_columns": null,
            "grid_auto_flow": null,
            "grid_auto_rows": null,
            "grid_column": null,
            "grid_gap": null,
            "grid_row": null,
            "grid_template_areas": null,
            "grid_template_columns": null,
            "grid_template_rows": null,
            "height": null,
            "justify_content": null,
            "justify_items": null,
            "left": null,
            "margin": null,
            "max_height": null,
            "max_width": null,
            "min_height": null,
            "min_width": null,
            "object_fit": null,
            "object_position": null,
            "order": null,
            "overflow": null,
            "overflow_x": null,
            "overflow_y": null,
            "padding": null,
            "right": null,
            "top": null,
            "visibility": null,
            "width": null
          }
        },
        "3901c13c54d54b34bf41485e4a0002ce": {
          "model_module": "@jupyter-widgets/base",
          "model_name": "LayoutModel",
          "model_module_version": "1.2.0",
          "state": {
            "_model_module": "@jupyter-widgets/base",
            "_model_module_version": "1.2.0",
            "_model_name": "LayoutModel",
            "_view_count": null,
            "_view_module": "@jupyter-widgets/base",
            "_view_module_version": "1.2.0",
            "_view_name": "LayoutView",
            "align_content": null,
            "align_items": null,
            "align_self": null,
            "border": null,
            "bottom": null,
            "display": null,
            "flex": null,
            "flex_flow": null,
            "grid_area": null,
            "grid_auto_columns": null,
            "grid_auto_flow": null,
            "grid_auto_rows": null,
            "grid_column": null,
            "grid_gap": null,
            "grid_row": null,
            "grid_template_areas": null,
            "grid_template_columns": null,
            "grid_template_rows": null,
            "height": null,
            "justify_content": null,
            "justify_items": null,
            "left": null,
            "margin": null,
            "max_height": null,
            "max_width": null,
            "min_height": null,
            "min_width": null,
            "object_fit": null,
            "object_position": null,
            "order": null,
            "overflow": null,
            "overflow_x": null,
            "overflow_y": null,
            "padding": null,
            "right": null,
            "top": null,
            "visibility": null,
            "width": null
          }
        },
        "d6d59a94c68a4c11aa7e078f05e997a6": {
          "model_module": "@jupyter-widgets/controls",
          "model_name": "DescriptionStyleModel",
          "model_module_version": "1.5.0",
          "state": {
            "_model_module": "@jupyter-widgets/controls",
            "_model_module_version": "1.5.0",
            "_model_name": "DescriptionStyleModel",
            "_view_count": null,
            "_view_module": "@jupyter-widgets/base",
            "_view_module_version": "1.2.0",
            "_view_name": "StyleView",
            "description_width": ""
          }
        },
        "e4059a73a62649b581d9645022299b5b": {
          "model_module": "@jupyter-widgets/base",
          "model_name": "LayoutModel",
          "model_module_version": "1.2.0",
          "state": {
            "_model_module": "@jupyter-widgets/base",
            "_model_module_version": "1.2.0",
            "_model_name": "LayoutModel",
            "_view_count": null,
            "_view_module": "@jupyter-widgets/base",
            "_view_module_version": "1.2.0",
            "_view_name": "LayoutView",
            "align_content": null,
            "align_items": null,
            "align_self": null,
            "border": null,
            "bottom": null,
            "display": null,
            "flex": null,
            "flex_flow": null,
            "grid_area": null,
            "grid_auto_columns": null,
            "grid_auto_flow": null,
            "grid_auto_rows": null,
            "grid_column": null,
            "grid_gap": null,
            "grid_row": null,
            "grid_template_areas": null,
            "grid_template_columns": null,
            "grid_template_rows": null,
            "height": null,
            "justify_content": null,
            "justify_items": null,
            "left": null,
            "margin": null,
            "max_height": null,
            "max_width": null,
            "min_height": null,
            "min_width": null,
            "object_fit": null,
            "object_position": null,
            "order": null,
            "overflow": null,
            "overflow_x": null,
            "overflow_y": null,
            "padding": null,
            "right": null,
            "top": null,
            "visibility": null,
            "width": null
          }
        },
        "1cace8c530ee416fb7bed18eeaeaaf5a": {
          "model_module": "@jupyter-widgets/controls",
          "model_name": "ProgressStyleModel",
          "model_module_version": "1.5.0",
          "state": {
            "_model_module": "@jupyter-widgets/controls",
            "_model_module_version": "1.5.0",
            "_model_name": "ProgressStyleModel",
            "_view_count": null,
            "_view_module": "@jupyter-widgets/base",
            "_view_module_version": "1.2.0",
            "_view_name": "StyleView",
            "bar_color": null,
            "description_width": ""
          }
        },
        "5c3b7e782f63460ca9ef3842e39cf541": {
          "model_module": "@jupyter-widgets/controls",
          "model_name": "VBoxModel",
          "model_module_version": "1.5.0",
          "state": {
            "_dom_classes": [],
            "_model_module": "@jupyter-widgets/controls",
            "_model_module_version": "1.5.0",
            "_model_name": "VBoxModel",
            "_view_count": null,
            "_view_module": "@jupyter-widgets/controls",
            "_view_module_version": "1.5.0",
            "_view_name": "VBoxView",
            "box_style": "",
            "children": [
              "IPY_MODEL_2fb74efd374a4c078d32a53986b89877",
              "IPY_MODEL_2815caa5ad15477680f2a60f5d980ce6"
            ],
            "layout": "IPY_MODEL_8612fef6f4574557985af5005307c526"
          }
        },
        "2fb74efd374a4c078d32a53986b89877": {
          "model_module": "@jupyter-widgets/controls",
          "model_name": "LabelModel",
          "model_module_version": "1.5.0",
          "state": {
            "_dom_classes": [],
            "_model_module": "@jupyter-widgets/controls",
            "_model_module_version": "1.5.0",
            "_model_name": "LabelModel",
            "_view_count": null,
            "_view_module": "@jupyter-widgets/controls",
            "_view_module_version": "1.5.0",
            "_view_name": "LabelView",
            "description": "",
            "description_tooltip": null,
            "layout": "IPY_MODEL_950fbdc56305468191f1cf74dc4ad46c",
            "placeholder": "​",
            "style": "IPY_MODEL_c43a34e190254294a22167cd9054abf2",
            "value": "0.014 MB of 0.014 MB uploaded\r"
          }
        },
        "2815caa5ad15477680f2a60f5d980ce6": {
          "model_module": "@jupyter-widgets/controls",
          "model_name": "FloatProgressModel",
          "model_module_version": "1.5.0",
          "state": {
            "_dom_classes": [],
            "_model_module": "@jupyter-widgets/controls",
            "_model_module_version": "1.5.0",
            "_model_name": "FloatProgressModel",
            "_view_count": null,
            "_view_module": "@jupyter-widgets/controls",
            "_view_module_version": "1.5.0",
            "_view_name": "ProgressView",
            "bar_style": "",
            "description": "",
            "description_tooltip": null,
            "layout": "IPY_MODEL_1f8d35ab53974f1f98e3647d728b2300",
            "max": 1,
            "min": 0,
            "orientation": "horizontal",
            "style": "IPY_MODEL_61522241d6ce4ea48aa48fafbb051a9e",
            "value": 1
          }
        },
        "8612fef6f4574557985af5005307c526": {
          "model_module": "@jupyter-widgets/base",
          "model_name": "LayoutModel",
          "model_module_version": "1.2.0",
          "state": {
            "_model_module": "@jupyter-widgets/base",
            "_model_module_version": "1.2.0",
            "_model_name": "LayoutModel",
            "_view_count": null,
            "_view_module": "@jupyter-widgets/base",
            "_view_module_version": "1.2.0",
            "_view_name": "LayoutView",
            "align_content": null,
            "align_items": null,
            "align_self": null,
            "border": null,
            "bottom": null,
            "display": null,
            "flex": null,
            "flex_flow": null,
            "grid_area": null,
            "grid_auto_columns": null,
            "grid_auto_flow": null,
            "grid_auto_rows": null,
            "grid_column": null,
            "grid_gap": null,
            "grid_row": null,
            "grid_template_areas": null,
            "grid_template_columns": null,
            "grid_template_rows": null,
            "height": null,
            "justify_content": null,
            "justify_items": null,
            "left": null,
            "margin": null,
            "max_height": null,
            "max_width": null,
            "min_height": null,
            "min_width": null,
            "object_fit": null,
            "object_position": null,
            "order": null,
            "overflow": null,
            "overflow_x": null,
            "overflow_y": null,
            "padding": null,
            "right": null,
            "top": null,
            "visibility": null,
            "width": null
          }
        },
        "950fbdc56305468191f1cf74dc4ad46c": {
          "model_module": "@jupyter-widgets/base",
          "model_name": "LayoutModel",
          "model_module_version": "1.2.0",
          "state": {
            "_model_module": "@jupyter-widgets/base",
            "_model_module_version": "1.2.0",
            "_model_name": "LayoutModel",
            "_view_count": null,
            "_view_module": "@jupyter-widgets/base",
            "_view_module_version": "1.2.0",
            "_view_name": "LayoutView",
            "align_content": null,
            "align_items": null,
            "align_self": null,
            "border": null,
            "bottom": null,
            "display": null,
            "flex": null,
            "flex_flow": null,
            "grid_area": null,
            "grid_auto_columns": null,
            "grid_auto_flow": null,
            "grid_auto_rows": null,
            "grid_column": null,
            "grid_gap": null,
            "grid_row": null,
            "grid_template_areas": null,
            "grid_template_columns": null,
            "grid_template_rows": null,
            "height": null,
            "justify_content": null,
            "justify_items": null,
            "left": null,
            "margin": null,
            "max_height": null,
            "max_width": null,
            "min_height": null,
            "min_width": null,
            "object_fit": null,
            "object_position": null,
            "order": null,
            "overflow": null,
            "overflow_x": null,
            "overflow_y": null,
            "padding": null,
            "right": null,
            "top": null,
            "visibility": null,
            "width": null
          }
        },
        "c43a34e190254294a22167cd9054abf2": {
          "model_module": "@jupyter-widgets/controls",
          "model_name": "DescriptionStyleModel",
          "model_module_version": "1.5.0",
          "state": {
            "_model_module": "@jupyter-widgets/controls",
            "_model_module_version": "1.5.0",
            "_model_name": "DescriptionStyleModel",
            "_view_count": null,
            "_view_module": "@jupyter-widgets/base",
            "_view_module_version": "1.2.0",
            "_view_name": "StyleView",
            "description_width": ""
          }
        },
        "1f8d35ab53974f1f98e3647d728b2300": {
          "model_module": "@jupyter-widgets/base",
          "model_name": "LayoutModel",
          "model_module_version": "1.2.0",
          "state": {
            "_model_module": "@jupyter-widgets/base",
            "_model_module_version": "1.2.0",
            "_model_name": "LayoutModel",
            "_view_count": null,
            "_view_module": "@jupyter-widgets/base",
            "_view_module_version": "1.2.0",
            "_view_name": "LayoutView",
            "align_content": null,
            "align_items": null,
            "align_self": null,
            "border": null,
            "bottom": null,
            "display": null,
            "flex": null,
            "flex_flow": null,
            "grid_area": null,
            "grid_auto_columns": null,
            "grid_auto_flow": null,
            "grid_auto_rows": null,
            "grid_column": null,
            "grid_gap": null,
            "grid_row": null,
            "grid_template_areas": null,
            "grid_template_columns": null,
            "grid_template_rows": null,
            "height": null,
            "justify_content": null,
            "justify_items": null,
            "left": null,
            "margin": null,
            "max_height": null,
            "max_width": null,
            "min_height": null,
            "min_width": null,
            "object_fit": null,
            "object_position": null,
            "order": null,
            "overflow": null,
            "overflow_x": null,
            "overflow_y": null,
            "padding": null,
            "right": null,
            "top": null,
            "visibility": null,
            "width": null
          }
        },
        "61522241d6ce4ea48aa48fafbb051a9e": {
          "model_module": "@jupyter-widgets/controls",
          "model_name": "ProgressStyleModel",
          "model_module_version": "1.5.0",
          "state": {
            "_model_module": "@jupyter-widgets/controls",
            "_model_module_version": "1.5.0",
            "_model_name": "ProgressStyleModel",
            "_view_count": null,
            "_view_module": "@jupyter-widgets/base",
            "_view_module_version": "1.2.0",
            "_view_name": "StyleView",
            "bar_color": null,
            "description_width": ""
          }
        },
        "a0d905113f6348a280399f3750b35c65": {
          "model_module": "@jupyter-widgets/controls",
          "model_name": "VBoxModel",
          "model_module_version": "1.5.0",
          "state": {
            "_dom_classes": [],
            "_model_module": "@jupyter-widgets/controls",
            "_model_module_version": "1.5.0",
            "_model_name": "VBoxModel",
            "_view_count": null,
            "_view_module": "@jupyter-widgets/controls",
            "_view_module_version": "1.5.0",
            "_view_name": "VBoxView",
            "box_style": "",
            "children": [
              "IPY_MODEL_6c50d10733024b2fa4f507280b79fa72",
              "IPY_MODEL_7236375b22b145a39fa354cf5d7ff865"
            ],
            "layout": "IPY_MODEL_980b49fa595c4dcc9765b6e9ce5bf420"
          }
        },
        "6c50d10733024b2fa4f507280b79fa72": {
          "model_module": "@jupyter-widgets/controls",
          "model_name": "LabelModel",
          "model_module_version": "1.5.0",
          "state": {
            "_dom_classes": [],
            "_model_module": "@jupyter-widgets/controls",
            "_model_module_version": "1.5.0",
            "_model_name": "LabelModel",
            "_view_count": null,
            "_view_module": "@jupyter-widgets/controls",
            "_view_module_version": "1.5.0",
            "_view_name": "LabelView",
            "description": "",
            "description_tooltip": null,
            "layout": "IPY_MODEL_66d260b95334486d976f3af41ef2f01b",
            "placeholder": "​",
            "style": "IPY_MODEL_698c6d5408024c1287472365a441def1",
            "value": "0.014 MB of 0.014 MB uploaded\r"
          }
        },
        "7236375b22b145a39fa354cf5d7ff865": {
          "model_module": "@jupyter-widgets/controls",
          "model_name": "FloatProgressModel",
          "model_module_version": "1.5.0",
          "state": {
            "_dom_classes": [],
            "_model_module": "@jupyter-widgets/controls",
            "_model_module_version": "1.5.0",
            "_model_name": "FloatProgressModel",
            "_view_count": null,
            "_view_module": "@jupyter-widgets/controls",
            "_view_module_version": "1.5.0",
            "_view_name": "ProgressView",
            "bar_style": "",
            "description": "",
            "description_tooltip": null,
            "layout": "IPY_MODEL_18271df4c0b34ab39011e19fe848ef8a",
            "max": 1,
            "min": 0,
            "orientation": "horizontal",
            "style": "IPY_MODEL_43a315a161944dc18dbd653603edb7fa",
            "value": 1
          }
        },
        "980b49fa595c4dcc9765b6e9ce5bf420": {
          "model_module": "@jupyter-widgets/base",
          "model_name": "LayoutModel",
          "model_module_version": "1.2.0",
          "state": {
            "_model_module": "@jupyter-widgets/base",
            "_model_module_version": "1.2.0",
            "_model_name": "LayoutModel",
            "_view_count": null,
            "_view_module": "@jupyter-widgets/base",
            "_view_module_version": "1.2.0",
            "_view_name": "LayoutView",
            "align_content": null,
            "align_items": null,
            "align_self": null,
            "border": null,
            "bottom": null,
            "display": null,
            "flex": null,
            "flex_flow": null,
            "grid_area": null,
            "grid_auto_columns": null,
            "grid_auto_flow": null,
            "grid_auto_rows": null,
            "grid_column": null,
            "grid_gap": null,
            "grid_row": null,
            "grid_template_areas": null,
            "grid_template_columns": null,
            "grid_template_rows": null,
            "height": null,
            "justify_content": null,
            "justify_items": null,
            "left": null,
            "margin": null,
            "max_height": null,
            "max_width": null,
            "min_height": null,
            "min_width": null,
            "object_fit": null,
            "object_position": null,
            "order": null,
            "overflow": null,
            "overflow_x": null,
            "overflow_y": null,
            "padding": null,
            "right": null,
            "top": null,
            "visibility": null,
            "width": null
          }
        },
        "66d260b95334486d976f3af41ef2f01b": {
          "model_module": "@jupyter-widgets/base",
          "model_name": "LayoutModel",
          "model_module_version": "1.2.0",
          "state": {
            "_model_module": "@jupyter-widgets/base",
            "_model_module_version": "1.2.0",
            "_model_name": "LayoutModel",
            "_view_count": null,
            "_view_module": "@jupyter-widgets/base",
            "_view_module_version": "1.2.0",
            "_view_name": "LayoutView",
            "align_content": null,
            "align_items": null,
            "align_self": null,
            "border": null,
            "bottom": null,
            "display": null,
            "flex": null,
            "flex_flow": null,
            "grid_area": null,
            "grid_auto_columns": null,
            "grid_auto_flow": null,
            "grid_auto_rows": null,
            "grid_column": null,
            "grid_gap": null,
            "grid_row": null,
            "grid_template_areas": null,
            "grid_template_columns": null,
            "grid_template_rows": null,
            "height": null,
            "justify_content": null,
            "justify_items": null,
            "left": null,
            "margin": null,
            "max_height": null,
            "max_width": null,
            "min_height": null,
            "min_width": null,
            "object_fit": null,
            "object_position": null,
            "order": null,
            "overflow": null,
            "overflow_x": null,
            "overflow_y": null,
            "padding": null,
            "right": null,
            "top": null,
            "visibility": null,
            "width": null
          }
        },
        "698c6d5408024c1287472365a441def1": {
          "model_module": "@jupyter-widgets/controls",
          "model_name": "DescriptionStyleModel",
          "model_module_version": "1.5.0",
          "state": {
            "_model_module": "@jupyter-widgets/controls",
            "_model_module_version": "1.5.0",
            "_model_name": "DescriptionStyleModel",
            "_view_count": null,
            "_view_module": "@jupyter-widgets/base",
            "_view_module_version": "1.2.0",
            "_view_name": "StyleView",
            "description_width": ""
          }
        },
        "18271df4c0b34ab39011e19fe848ef8a": {
          "model_module": "@jupyter-widgets/base",
          "model_name": "LayoutModel",
          "model_module_version": "1.2.0",
          "state": {
            "_model_module": "@jupyter-widgets/base",
            "_model_module_version": "1.2.0",
            "_model_name": "LayoutModel",
            "_view_count": null,
            "_view_module": "@jupyter-widgets/base",
            "_view_module_version": "1.2.0",
            "_view_name": "LayoutView",
            "align_content": null,
            "align_items": null,
            "align_self": null,
            "border": null,
            "bottom": null,
            "display": null,
            "flex": null,
            "flex_flow": null,
            "grid_area": null,
            "grid_auto_columns": null,
            "grid_auto_flow": null,
            "grid_auto_rows": null,
            "grid_column": null,
            "grid_gap": null,
            "grid_row": null,
            "grid_template_areas": null,
            "grid_template_columns": null,
            "grid_template_rows": null,
            "height": null,
            "justify_content": null,
            "justify_items": null,
            "left": null,
            "margin": null,
            "max_height": null,
            "max_width": null,
            "min_height": null,
            "min_width": null,
            "object_fit": null,
            "object_position": null,
            "order": null,
            "overflow": null,
            "overflow_x": null,
            "overflow_y": null,
            "padding": null,
            "right": null,
            "top": null,
            "visibility": null,
            "width": null
          }
        },
        "43a315a161944dc18dbd653603edb7fa": {
          "model_module": "@jupyter-widgets/controls",
          "model_name": "ProgressStyleModel",
          "model_module_version": "1.5.0",
          "state": {
            "_model_module": "@jupyter-widgets/controls",
            "_model_module_version": "1.5.0",
            "_model_name": "ProgressStyleModel",
            "_view_count": null,
            "_view_module": "@jupyter-widgets/base",
            "_view_module_version": "1.2.0",
            "_view_name": "StyleView",
            "bar_color": null,
            "description_width": ""
          }
        },
        "08848b39250d46d9a58f2ea0ef905c34": {
          "model_module": "@jupyter-widgets/controls",
          "model_name": "VBoxModel",
          "model_module_version": "1.5.0",
          "state": {
            "_dom_classes": [],
            "_model_module": "@jupyter-widgets/controls",
            "_model_module_version": "1.5.0",
            "_model_name": "VBoxModel",
            "_view_count": null,
            "_view_module": "@jupyter-widgets/controls",
            "_view_module_version": "1.5.0",
            "_view_name": "VBoxView",
            "box_style": "",
            "children": [
              "IPY_MODEL_7bb8df39256b47278ffbcab5c996bde0",
              "IPY_MODEL_5400ac784df344ac9d7eaed4a8ba72bf"
            ],
            "layout": "IPY_MODEL_1f79736cee5641a2ba3118103ebd7042"
          }
        },
        "7bb8df39256b47278ffbcab5c996bde0": {
          "model_module": "@jupyter-widgets/controls",
          "model_name": "LabelModel",
          "model_module_version": "1.5.0",
          "state": {
            "_dom_classes": [],
            "_model_module": "@jupyter-widgets/controls",
            "_model_module_version": "1.5.0",
            "_model_name": "LabelModel",
            "_view_count": null,
            "_view_module": "@jupyter-widgets/controls",
            "_view_module_version": "1.5.0",
            "_view_name": "LabelView",
            "description": "",
            "description_tooltip": null,
            "layout": "IPY_MODEL_72d15d0b98d44fc982bc1a0a740ef239",
            "placeholder": "​",
            "style": "IPY_MODEL_6c18e6c1c131485c93a70e9fb29da650",
            "value": "0.014 MB of 0.014 MB uploaded\r"
          }
        },
        "5400ac784df344ac9d7eaed4a8ba72bf": {
          "model_module": "@jupyter-widgets/controls",
          "model_name": "FloatProgressModel",
          "model_module_version": "1.5.0",
          "state": {
            "_dom_classes": [],
            "_model_module": "@jupyter-widgets/controls",
            "_model_module_version": "1.5.0",
            "_model_name": "FloatProgressModel",
            "_view_count": null,
            "_view_module": "@jupyter-widgets/controls",
            "_view_module_version": "1.5.0",
            "_view_name": "ProgressView",
            "bar_style": "",
            "description": "",
            "description_tooltip": null,
            "layout": "IPY_MODEL_934d43214ac6485c897b17e4fc6e6515",
            "max": 1,
            "min": 0,
            "orientation": "horizontal",
            "style": "IPY_MODEL_21d719b422b640e0a3d2b1a1045be6a6",
            "value": 1
          }
        },
        "1f79736cee5641a2ba3118103ebd7042": {
          "model_module": "@jupyter-widgets/base",
          "model_name": "LayoutModel",
          "model_module_version": "1.2.0",
          "state": {
            "_model_module": "@jupyter-widgets/base",
            "_model_module_version": "1.2.0",
            "_model_name": "LayoutModel",
            "_view_count": null,
            "_view_module": "@jupyter-widgets/base",
            "_view_module_version": "1.2.0",
            "_view_name": "LayoutView",
            "align_content": null,
            "align_items": null,
            "align_self": null,
            "border": null,
            "bottom": null,
            "display": null,
            "flex": null,
            "flex_flow": null,
            "grid_area": null,
            "grid_auto_columns": null,
            "grid_auto_flow": null,
            "grid_auto_rows": null,
            "grid_column": null,
            "grid_gap": null,
            "grid_row": null,
            "grid_template_areas": null,
            "grid_template_columns": null,
            "grid_template_rows": null,
            "height": null,
            "justify_content": null,
            "justify_items": null,
            "left": null,
            "margin": null,
            "max_height": null,
            "max_width": null,
            "min_height": null,
            "min_width": null,
            "object_fit": null,
            "object_position": null,
            "order": null,
            "overflow": null,
            "overflow_x": null,
            "overflow_y": null,
            "padding": null,
            "right": null,
            "top": null,
            "visibility": null,
            "width": null
          }
        },
        "72d15d0b98d44fc982bc1a0a740ef239": {
          "model_module": "@jupyter-widgets/base",
          "model_name": "LayoutModel",
          "model_module_version": "1.2.0",
          "state": {
            "_model_module": "@jupyter-widgets/base",
            "_model_module_version": "1.2.0",
            "_model_name": "LayoutModel",
            "_view_count": null,
            "_view_module": "@jupyter-widgets/base",
            "_view_module_version": "1.2.0",
            "_view_name": "LayoutView",
            "align_content": null,
            "align_items": null,
            "align_self": null,
            "border": null,
            "bottom": null,
            "display": null,
            "flex": null,
            "flex_flow": null,
            "grid_area": null,
            "grid_auto_columns": null,
            "grid_auto_flow": null,
            "grid_auto_rows": null,
            "grid_column": null,
            "grid_gap": null,
            "grid_row": null,
            "grid_template_areas": null,
            "grid_template_columns": null,
            "grid_template_rows": null,
            "height": null,
            "justify_content": null,
            "justify_items": null,
            "left": null,
            "margin": null,
            "max_height": null,
            "max_width": null,
            "min_height": null,
            "min_width": null,
            "object_fit": null,
            "object_position": null,
            "order": null,
            "overflow": null,
            "overflow_x": null,
            "overflow_y": null,
            "padding": null,
            "right": null,
            "top": null,
            "visibility": null,
            "width": null
          }
        },
        "6c18e6c1c131485c93a70e9fb29da650": {
          "model_module": "@jupyter-widgets/controls",
          "model_name": "DescriptionStyleModel",
          "model_module_version": "1.5.0",
          "state": {
            "_model_module": "@jupyter-widgets/controls",
            "_model_module_version": "1.5.0",
            "_model_name": "DescriptionStyleModel",
            "_view_count": null,
            "_view_module": "@jupyter-widgets/base",
            "_view_module_version": "1.2.0",
            "_view_name": "StyleView",
            "description_width": ""
          }
        },
        "934d43214ac6485c897b17e4fc6e6515": {
          "model_module": "@jupyter-widgets/base",
          "model_name": "LayoutModel",
          "model_module_version": "1.2.0",
          "state": {
            "_model_module": "@jupyter-widgets/base",
            "_model_module_version": "1.2.0",
            "_model_name": "LayoutModel",
            "_view_count": null,
            "_view_module": "@jupyter-widgets/base",
            "_view_module_version": "1.2.0",
            "_view_name": "LayoutView",
            "align_content": null,
            "align_items": null,
            "align_self": null,
            "border": null,
            "bottom": null,
            "display": null,
            "flex": null,
            "flex_flow": null,
            "grid_area": null,
            "grid_auto_columns": null,
            "grid_auto_flow": null,
            "grid_auto_rows": null,
            "grid_column": null,
            "grid_gap": null,
            "grid_row": null,
            "grid_template_areas": null,
            "grid_template_columns": null,
            "grid_template_rows": null,
            "height": null,
            "justify_content": null,
            "justify_items": null,
            "left": null,
            "margin": null,
            "max_height": null,
            "max_width": null,
            "min_height": null,
            "min_width": null,
            "object_fit": null,
            "object_position": null,
            "order": null,
            "overflow": null,
            "overflow_x": null,
            "overflow_y": null,
            "padding": null,
            "right": null,
            "top": null,
            "visibility": null,
            "width": null
          }
        },
        "21d719b422b640e0a3d2b1a1045be6a6": {
          "model_module": "@jupyter-widgets/controls",
          "model_name": "ProgressStyleModel",
          "model_module_version": "1.5.0",
          "state": {
            "_model_module": "@jupyter-widgets/controls",
            "_model_module_version": "1.5.0",
            "_model_name": "ProgressStyleModel",
            "_view_count": null,
            "_view_module": "@jupyter-widgets/base",
            "_view_module_version": "1.2.0",
            "_view_name": "StyleView",
            "bar_color": null,
            "description_width": ""
          }
        },
        "c3bdb99302c347b5857416bbb5512f0f": {
          "model_module": "@jupyter-widgets/controls",
          "model_name": "VBoxModel",
          "model_module_version": "1.5.0",
          "state": {
            "_dom_classes": [],
            "_model_module": "@jupyter-widgets/controls",
            "_model_module_version": "1.5.0",
            "_model_name": "VBoxModel",
            "_view_count": null,
            "_view_module": "@jupyter-widgets/controls",
            "_view_module_version": "1.5.0",
            "_view_name": "VBoxView",
            "box_style": "",
            "children": [
              "IPY_MODEL_d0807b10f41946de87ef55219061cdc3",
              "IPY_MODEL_d2eadda51be44144a50692f5b4468ad1"
            ],
            "layout": "IPY_MODEL_efb87a4e607f45db91cf3504f80503dc"
          }
        },
        "d0807b10f41946de87ef55219061cdc3": {
          "model_module": "@jupyter-widgets/controls",
          "model_name": "LabelModel",
          "model_module_version": "1.5.0",
          "state": {
            "_dom_classes": [],
            "_model_module": "@jupyter-widgets/controls",
            "_model_module_version": "1.5.0",
            "_model_name": "LabelModel",
            "_view_count": null,
            "_view_module": "@jupyter-widgets/controls",
            "_view_module_version": "1.5.0",
            "_view_name": "LabelView",
            "description": "",
            "description_tooltip": null,
            "layout": "IPY_MODEL_c96cb83a414e4a9a9ec3bf21595bbacd",
            "placeholder": "​",
            "style": "IPY_MODEL_e67f7d12d2b345ee81cd2e0f3f6ad668",
            "value": "0.014 MB of 0.014 MB uploaded\r"
          }
        },
        "d2eadda51be44144a50692f5b4468ad1": {
          "model_module": "@jupyter-widgets/controls",
          "model_name": "FloatProgressModel",
          "model_module_version": "1.5.0",
          "state": {
            "_dom_classes": [],
            "_model_module": "@jupyter-widgets/controls",
            "_model_module_version": "1.5.0",
            "_model_name": "FloatProgressModel",
            "_view_count": null,
            "_view_module": "@jupyter-widgets/controls",
            "_view_module_version": "1.5.0",
            "_view_name": "ProgressView",
            "bar_style": "",
            "description": "",
            "description_tooltip": null,
            "layout": "IPY_MODEL_7f8f6dd780bf4b0496fcf48cc44771c7",
            "max": 1,
            "min": 0,
            "orientation": "horizontal",
            "style": "IPY_MODEL_4d487df109b64be2be7b1d5b1173d22b",
            "value": 1
          }
        },
        "efb87a4e607f45db91cf3504f80503dc": {
          "model_module": "@jupyter-widgets/base",
          "model_name": "LayoutModel",
          "model_module_version": "1.2.0",
          "state": {
            "_model_module": "@jupyter-widgets/base",
            "_model_module_version": "1.2.0",
            "_model_name": "LayoutModel",
            "_view_count": null,
            "_view_module": "@jupyter-widgets/base",
            "_view_module_version": "1.2.0",
            "_view_name": "LayoutView",
            "align_content": null,
            "align_items": null,
            "align_self": null,
            "border": null,
            "bottom": null,
            "display": null,
            "flex": null,
            "flex_flow": null,
            "grid_area": null,
            "grid_auto_columns": null,
            "grid_auto_flow": null,
            "grid_auto_rows": null,
            "grid_column": null,
            "grid_gap": null,
            "grid_row": null,
            "grid_template_areas": null,
            "grid_template_columns": null,
            "grid_template_rows": null,
            "height": null,
            "justify_content": null,
            "justify_items": null,
            "left": null,
            "margin": null,
            "max_height": null,
            "max_width": null,
            "min_height": null,
            "min_width": null,
            "object_fit": null,
            "object_position": null,
            "order": null,
            "overflow": null,
            "overflow_x": null,
            "overflow_y": null,
            "padding": null,
            "right": null,
            "top": null,
            "visibility": null,
            "width": null
          }
        },
        "c96cb83a414e4a9a9ec3bf21595bbacd": {
          "model_module": "@jupyter-widgets/base",
          "model_name": "LayoutModel",
          "model_module_version": "1.2.0",
          "state": {
            "_model_module": "@jupyter-widgets/base",
            "_model_module_version": "1.2.0",
            "_model_name": "LayoutModel",
            "_view_count": null,
            "_view_module": "@jupyter-widgets/base",
            "_view_module_version": "1.2.0",
            "_view_name": "LayoutView",
            "align_content": null,
            "align_items": null,
            "align_self": null,
            "border": null,
            "bottom": null,
            "display": null,
            "flex": null,
            "flex_flow": null,
            "grid_area": null,
            "grid_auto_columns": null,
            "grid_auto_flow": null,
            "grid_auto_rows": null,
            "grid_column": null,
            "grid_gap": null,
            "grid_row": null,
            "grid_template_areas": null,
            "grid_template_columns": null,
            "grid_template_rows": null,
            "height": null,
            "justify_content": null,
            "justify_items": null,
            "left": null,
            "margin": null,
            "max_height": null,
            "max_width": null,
            "min_height": null,
            "min_width": null,
            "object_fit": null,
            "object_position": null,
            "order": null,
            "overflow": null,
            "overflow_x": null,
            "overflow_y": null,
            "padding": null,
            "right": null,
            "top": null,
            "visibility": null,
            "width": null
          }
        },
        "e67f7d12d2b345ee81cd2e0f3f6ad668": {
          "model_module": "@jupyter-widgets/controls",
          "model_name": "DescriptionStyleModel",
          "model_module_version": "1.5.0",
          "state": {
            "_model_module": "@jupyter-widgets/controls",
            "_model_module_version": "1.5.0",
            "_model_name": "DescriptionStyleModel",
            "_view_count": null,
            "_view_module": "@jupyter-widgets/base",
            "_view_module_version": "1.2.0",
            "_view_name": "StyleView",
            "description_width": ""
          }
        },
        "7f8f6dd780bf4b0496fcf48cc44771c7": {
          "model_module": "@jupyter-widgets/base",
          "model_name": "LayoutModel",
          "model_module_version": "1.2.0",
          "state": {
            "_model_module": "@jupyter-widgets/base",
            "_model_module_version": "1.2.0",
            "_model_name": "LayoutModel",
            "_view_count": null,
            "_view_module": "@jupyter-widgets/base",
            "_view_module_version": "1.2.0",
            "_view_name": "LayoutView",
            "align_content": null,
            "align_items": null,
            "align_self": null,
            "border": null,
            "bottom": null,
            "display": null,
            "flex": null,
            "flex_flow": null,
            "grid_area": null,
            "grid_auto_columns": null,
            "grid_auto_flow": null,
            "grid_auto_rows": null,
            "grid_column": null,
            "grid_gap": null,
            "grid_row": null,
            "grid_template_areas": null,
            "grid_template_columns": null,
            "grid_template_rows": null,
            "height": null,
            "justify_content": null,
            "justify_items": null,
            "left": null,
            "margin": null,
            "max_height": null,
            "max_width": null,
            "min_height": null,
            "min_width": null,
            "object_fit": null,
            "object_position": null,
            "order": null,
            "overflow": null,
            "overflow_x": null,
            "overflow_y": null,
            "padding": null,
            "right": null,
            "top": null,
            "visibility": null,
            "width": null
          }
        },
        "4d487df109b64be2be7b1d5b1173d22b": {
          "model_module": "@jupyter-widgets/controls",
          "model_name": "ProgressStyleModel",
          "model_module_version": "1.5.0",
          "state": {
            "_model_module": "@jupyter-widgets/controls",
            "_model_module_version": "1.5.0",
            "_model_name": "ProgressStyleModel",
            "_view_count": null,
            "_view_module": "@jupyter-widgets/base",
            "_view_module_version": "1.2.0",
            "_view_name": "StyleView",
            "bar_color": null,
            "description_width": ""
          }
        },
        "ac875565a74247ee97e2813960093a71": {
          "model_module": "@jupyter-widgets/controls",
          "model_name": "VBoxModel",
          "model_module_version": "1.5.0",
          "state": {
            "_dom_classes": [],
            "_model_module": "@jupyter-widgets/controls",
            "_model_module_version": "1.5.0",
            "_model_name": "VBoxModel",
            "_view_count": null,
            "_view_module": "@jupyter-widgets/controls",
            "_view_module_version": "1.5.0",
            "_view_name": "VBoxView",
            "box_style": "",
            "children": [
              "IPY_MODEL_47fd8fa9b894419b883a4e45f5d6cb84",
              "IPY_MODEL_33f383d9b9384116a91e158bb6afa984"
            ],
            "layout": "IPY_MODEL_84bad33b5bf84874922e60f16d828781"
          }
        },
        "47fd8fa9b894419b883a4e45f5d6cb84": {
          "model_module": "@jupyter-widgets/controls",
          "model_name": "LabelModel",
          "model_module_version": "1.5.0",
          "state": {
            "_dom_classes": [],
            "_model_module": "@jupyter-widgets/controls",
            "_model_module_version": "1.5.0",
            "_model_name": "LabelModel",
            "_view_count": null,
            "_view_module": "@jupyter-widgets/controls",
            "_view_module_version": "1.5.0",
            "_view_name": "LabelView",
            "description": "",
            "description_tooltip": null,
            "layout": "IPY_MODEL_c7fdf2cc39d6483eb105eac1330fe3b2",
            "placeholder": "​",
            "style": "IPY_MODEL_7bd92ae422984b98ab65ab912ae66bcc",
            "value": "0.014 MB of 0.014 MB uploaded\r"
          }
        },
        "33f383d9b9384116a91e158bb6afa984": {
          "model_module": "@jupyter-widgets/controls",
          "model_name": "FloatProgressModel",
          "model_module_version": "1.5.0",
          "state": {
            "_dom_classes": [],
            "_model_module": "@jupyter-widgets/controls",
            "_model_module_version": "1.5.0",
            "_model_name": "FloatProgressModel",
            "_view_count": null,
            "_view_module": "@jupyter-widgets/controls",
            "_view_module_version": "1.5.0",
            "_view_name": "ProgressView",
            "bar_style": "",
            "description": "",
            "description_tooltip": null,
            "layout": "IPY_MODEL_51ad1f33e48546e7b48655687adc7a78",
            "max": 1,
            "min": 0,
            "orientation": "horizontal",
            "style": "IPY_MODEL_d2adf9559a6442e2a5ddd8234cdd6f37",
            "value": 1
          }
        },
        "84bad33b5bf84874922e60f16d828781": {
          "model_module": "@jupyter-widgets/base",
          "model_name": "LayoutModel",
          "model_module_version": "1.2.0",
          "state": {
            "_model_module": "@jupyter-widgets/base",
            "_model_module_version": "1.2.0",
            "_model_name": "LayoutModel",
            "_view_count": null,
            "_view_module": "@jupyter-widgets/base",
            "_view_module_version": "1.2.0",
            "_view_name": "LayoutView",
            "align_content": null,
            "align_items": null,
            "align_self": null,
            "border": null,
            "bottom": null,
            "display": null,
            "flex": null,
            "flex_flow": null,
            "grid_area": null,
            "grid_auto_columns": null,
            "grid_auto_flow": null,
            "grid_auto_rows": null,
            "grid_column": null,
            "grid_gap": null,
            "grid_row": null,
            "grid_template_areas": null,
            "grid_template_columns": null,
            "grid_template_rows": null,
            "height": null,
            "justify_content": null,
            "justify_items": null,
            "left": null,
            "margin": null,
            "max_height": null,
            "max_width": null,
            "min_height": null,
            "min_width": null,
            "object_fit": null,
            "object_position": null,
            "order": null,
            "overflow": null,
            "overflow_x": null,
            "overflow_y": null,
            "padding": null,
            "right": null,
            "top": null,
            "visibility": null,
            "width": null
          }
        },
        "c7fdf2cc39d6483eb105eac1330fe3b2": {
          "model_module": "@jupyter-widgets/base",
          "model_name": "LayoutModel",
          "model_module_version": "1.2.0",
          "state": {
            "_model_module": "@jupyter-widgets/base",
            "_model_module_version": "1.2.0",
            "_model_name": "LayoutModel",
            "_view_count": null,
            "_view_module": "@jupyter-widgets/base",
            "_view_module_version": "1.2.0",
            "_view_name": "LayoutView",
            "align_content": null,
            "align_items": null,
            "align_self": null,
            "border": null,
            "bottom": null,
            "display": null,
            "flex": null,
            "flex_flow": null,
            "grid_area": null,
            "grid_auto_columns": null,
            "grid_auto_flow": null,
            "grid_auto_rows": null,
            "grid_column": null,
            "grid_gap": null,
            "grid_row": null,
            "grid_template_areas": null,
            "grid_template_columns": null,
            "grid_template_rows": null,
            "height": null,
            "justify_content": null,
            "justify_items": null,
            "left": null,
            "margin": null,
            "max_height": null,
            "max_width": null,
            "min_height": null,
            "min_width": null,
            "object_fit": null,
            "object_position": null,
            "order": null,
            "overflow": null,
            "overflow_x": null,
            "overflow_y": null,
            "padding": null,
            "right": null,
            "top": null,
            "visibility": null,
            "width": null
          }
        },
        "7bd92ae422984b98ab65ab912ae66bcc": {
          "model_module": "@jupyter-widgets/controls",
          "model_name": "DescriptionStyleModel",
          "model_module_version": "1.5.0",
          "state": {
            "_model_module": "@jupyter-widgets/controls",
            "_model_module_version": "1.5.0",
            "_model_name": "DescriptionStyleModel",
            "_view_count": null,
            "_view_module": "@jupyter-widgets/base",
            "_view_module_version": "1.2.0",
            "_view_name": "StyleView",
            "description_width": ""
          }
        },
        "51ad1f33e48546e7b48655687adc7a78": {
          "model_module": "@jupyter-widgets/base",
          "model_name": "LayoutModel",
          "model_module_version": "1.2.0",
          "state": {
            "_model_module": "@jupyter-widgets/base",
            "_model_module_version": "1.2.0",
            "_model_name": "LayoutModel",
            "_view_count": null,
            "_view_module": "@jupyter-widgets/base",
            "_view_module_version": "1.2.0",
            "_view_name": "LayoutView",
            "align_content": null,
            "align_items": null,
            "align_self": null,
            "border": null,
            "bottom": null,
            "display": null,
            "flex": null,
            "flex_flow": null,
            "grid_area": null,
            "grid_auto_columns": null,
            "grid_auto_flow": null,
            "grid_auto_rows": null,
            "grid_column": null,
            "grid_gap": null,
            "grid_row": null,
            "grid_template_areas": null,
            "grid_template_columns": null,
            "grid_template_rows": null,
            "height": null,
            "justify_content": null,
            "justify_items": null,
            "left": null,
            "margin": null,
            "max_height": null,
            "max_width": null,
            "min_height": null,
            "min_width": null,
            "object_fit": null,
            "object_position": null,
            "order": null,
            "overflow": null,
            "overflow_x": null,
            "overflow_y": null,
            "padding": null,
            "right": null,
            "top": null,
            "visibility": null,
            "width": null
          }
        },
        "d2adf9559a6442e2a5ddd8234cdd6f37": {
          "model_module": "@jupyter-widgets/controls",
          "model_name": "ProgressStyleModel",
          "model_module_version": "1.5.0",
          "state": {
            "_model_module": "@jupyter-widgets/controls",
            "_model_module_version": "1.5.0",
            "_model_name": "ProgressStyleModel",
            "_view_count": null,
            "_view_module": "@jupyter-widgets/base",
            "_view_module_version": "1.2.0",
            "_view_name": "StyleView",
            "bar_color": null,
            "description_width": ""
          }
        },
        "d715cee4081245b985c8a794799cfdb3": {
          "model_module": "@jupyter-widgets/controls",
          "model_name": "VBoxModel",
          "model_module_version": "1.5.0",
          "state": {
            "_dom_classes": [],
            "_model_module": "@jupyter-widgets/controls",
            "_model_module_version": "1.5.0",
            "_model_name": "VBoxModel",
            "_view_count": null,
            "_view_module": "@jupyter-widgets/controls",
            "_view_module_version": "1.5.0",
            "_view_name": "VBoxView",
            "box_style": "",
            "children": [
              "IPY_MODEL_b21243f3ec0448bbbed2e42a02b36269",
              "IPY_MODEL_9c6f69d09c8c4efc930b393b71ec0800"
            ],
            "layout": "IPY_MODEL_5b5a6fff0bb44bc3989881b46ef612ff"
          }
        },
        "b21243f3ec0448bbbed2e42a02b36269": {
          "model_module": "@jupyter-widgets/controls",
          "model_name": "LabelModel",
          "model_module_version": "1.5.0",
          "state": {
            "_dom_classes": [],
            "_model_module": "@jupyter-widgets/controls",
            "_model_module_version": "1.5.0",
            "_model_name": "LabelModel",
            "_view_count": null,
            "_view_module": "@jupyter-widgets/controls",
            "_view_module_version": "1.5.0",
            "_view_name": "LabelView",
            "description": "",
            "description_tooltip": null,
            "layout": "IPY_MODEL_4935d9b8b2f54fa482a2f805ddaed9bd",
            "placeholder": "​",
            "style": "IPY_MODEL_e664268e7c294371bd6d9837df981545",
            "value": "0.014 MB of 0.014 MB uploaded\r"
          }
        },
        "9c6f69d09c8c4efc930b393b71ec0800": {
          "model_module": "@jupyter-widgets/controls",
          "model_name": "FloatProgressModel",
          "model_module_version": "1.5.0",
          "state": {
            "_dom_classes": [],
            "_model_module": "@jupyter-widgets/controls",
            "_model_module_version": "1.5.0",
            "_model_name": "FloatProgressModel",
            "_view_count": null,
            "_view_module": "@jupyter-widgets/controls",
            "_view_module_version": "1.5.0",
            "_view_name": "ProgressView",
            "bar_style": "",
            "description": "",
            "description_tooltip": null,
            "layout": "IPY_MODEL_a89f169b9ec742b58e8e45bc84eb5fe2",
            "max": 1,
            "min": 0,
            "orientation": "horizontal",
            "style": "IPY_MODEL_a9be356a419c4e849b2872657772e577",
            "value": 1
          }
        },
        "5b5a6fff0bb44bc3989881b46ef612ff": {
          "model_module": "@jupyter-widgets/base",
          "model_name": "LayoutModel",
          "model_module_version": "1.2.0",
          "state": {
            "_model_module": "@jupyter-widgets/base",
            "_model_module_version": "1.2.0",
            "_model_name": "LayoutModel",
            "_view_count": null,
            "_view_module": "@jupyter-widgets/base",
            "_view_module_version": "1.2.0",
            "_view_name": "LayoutView",
            "align_content": null,
            "align_items": null,
            "align_self": null,
            "border": null,
            "bottom": null,
            "display": null,
            "flex": null,
            "flex_flow": null,
            "grid_area": null,
            "grid_auto_columns": null,
            "grid_auto_flow": null,
            "grid_auto_rows": null,
            "grid_column": null,
            "grid_gap": null,
            "grid_row": null,
            "grid_template_areas": null,
            "grid_template_columns": null,
            "grid_template_rows": null,
            "height": null,
            "justify_content": null,
            "justify_items": null,
            "left": null,
            "margin": null,
            "max_height": null,
            "max_width": null,
            "min_height": null,
            "min_width": null,
            "object_fit": null,
            "object_position": null,
            "order": null,
            "overflow": null,
            "overflow_x": null,
            "overflow_y": null,
            "padding": null,
            "right": null,
            "top": null,
            "visibility": null,
            "width": null
          }
        },
        "4935d9b8b2f54fa482a2f805ddaed9bd": {
          "model_module": "@jupyter-widgets/base",
          "model_name": "LayoutModel",
          "model_module_version": "1.2.0",
          "state": {
            "_model_module": "@jupyter-widgets/base",
            "_model_module_version": "1.2.0",
            "_model_name": "LayoutModel",
            "_view_count": null,
            "_view_module": "@jupyter-widgets/base",
            "_view_module_version": "1.2.0",
            "_view_name": "LayoutView",
            "align_content": null,
            "align_items": null,
            "align_self": null,
            "border": null,
            "bottom": null,
            "display": null,
            "flex": null,
            "flex_flow": null,
            "grid_area": null,
            "grid_auto_columns": null,
            "grid_auto_flow": null,
            "grid_auto_rows": null,
            "grid_column": null,
            "grid_gap": null,
            "grid_row": null,
            "grid_template_areas": null,
            "grid_template_columns": null,
            "grid_template_rows": null,
            "height": null,
            "justify_content": null,
            "justify_items": null,
            "left": null,
            "margin": null,
            "max_height": null,
            "max_width": null,
            "min_height": null,
            "min_width": null,
            "object_fit": null,
            "object_position": null,
            "order": null,
            "overflow": null,
            "overflow_x": null,
            "overflow_y": null,
            "padding": null,
            "right": null,
            "top": null,
            "visibility": null,
            "width": null
          }
        },
        "e664268e7c294371bd6d9837df981545": {
          "model_module": "@jupyter-widgets/controls",
          "model_name": "DescriptionStyleModel",
          "model_module_version": "1.5.0",
          "state": {
            "_model_module": "@jupyter-widgets/controls",
            "_model_module_version": "1.5.0",
            "_model_name": "DescriptionStyleModel",
            "_view_count": null,
            "_view_module": "@jupyter-widgets/base",
            "_view_module_version": "1.2.0",
            "_view_name": "StyleView",
            "description_width": ""
          }
        },
        "a89f169b9ec742b58e8e45bc84eb5fe2": {
          "model_module": "@jupyter-widgets/base",
          "model_name": "LayoutModel",
          "model_module_version": "1.2.0",
          "state": {
            "_model_module": "@jupyter-widgets/base",
            "_model_module_version": "1.2.0",
            "_model_name": "LayoutModel",
            "_view_count": null,
            "_view_module": "@jupyter-widgets/base",
            "_view_module_version": "1.2.0",
            "_view_name": "LayoutView",
            "align_content": null,
            "align_items": null,
            "align_self": null,
            "border": null,
            "bottom": null,
            "display": null,
            "flex": null,
            "flex_flow": null,
            "grid_area": null,
            "grid_auto_columns": null,
            "grid_auto_flow": null,
            "grid_auto_rows": null,
            "grid_column": null,
            "grid_gap": null,
            "grid_row": null,
            "grid_template_areas": null,
            "grid_template_columns": null,
            "grid_template_rows": null,
            "height": null,
            "justify_content": null,
            "justify_items": null,
            "left": null,
            "margin": null,
            "max_height": null,
            "max_width": null,
            "min_height": null,
            "min_width": null,
            "object_fit": null,
            "object_position": null,
            "order": null,
            "overflow": null,
            "overflow_x": null,
            "overflow_y": null,
            "padding": null,
            "right": null,
            "top": null,
            "visibility": null,
            "width": null
          }
        },
        "a9be356a419c4e849b2872657772e577": {
          "model_module": "@jupyter-widgets/controls",
          "model_name": "ProgressStyleModel",
          "model_module_version": "1.5.0",
          "state": {
            "_model_module": "@jupyter-widgets/controls",
            "_model_module_version": "1.5.0",
            "_model_name": "ProgressStyleModel",
            "_view_count": null,
            "_view_module": "@jupyter-widgets/base",
            "_view_module_version": "1.2.0",
            "_view_name": "StyleView",
            "bar_color": null,
            "description_width": ""
          }
        },
        "ff4908a05a8a4ce1ad9cb0a724176c6d": {
          "model_module": "@jupyter-widgets/controls",
          "model_name": "VBoxModel",
          "model_module_version": "1.5.0",
          "state": {
            "_dom_classes": [],
            "_model_module": "@jupyter-widgets/controls",
            "_model_module_version": "1.5.0",
            "_model_name": "VBoxModel",
            "_view_count": null,
            "_view_module": "@jupyter-widgets/controls",
            "_view_module_version": "1.5.0",
            "_view_name": "VBoxView",
            "box_style": "",
            "children": [
              "IPY_MODEL_224fd2eb2f2c4320a071dea3f6a138f0",
              "IPY_MODEL_35274970148349c89175839ba2dbc114"
            ],
            "layout": "IPY_MODEL_1e75d87e296e4c99b952cf5112ef4547"
          }
        },
        "224fd2eb2f2c4320a071dea3f6a138f0": {
          "model_module": "@jupyter-widgets/controls",
          "model_name": "LabelModel",
          "model_module_version": "1.5.0",
          "state": {
            "_dom_classes": [],
            "_model_module": "@jupyter-widgets/controls",
            "_model_module_version": "1.5.0",
            "_model_name": "LabelModel",
            "_view_count": null,
            "_view_module": "@jupyter-widgets/controls",
            "_view_module_version": "1.5.0",
            "_view_name": "LabelView",
            "description": "",
            "description_tooltip": null,
            "layout": "IPY_MODEL_9a8101f460f14b47a75bc3830f2031a6",
            "placeholder": "​",
            "style": "IPY_MODEL_e2af3bc4379c4740abde0b78b6194ba6",
            "value": "0.014 MB of 0.014 MB uploaded\r"
          }
        },
        "35274970148349c89175839ba2dbc114": {
          "model_module": "@jupyter-widgets/controls",
          "model_name": "FloatProgressModel",
          "model_module_version": "1.5.0",
          "state": {
            "_dom_classes": [],
            "_model_module": "@jupyter-widgets/controls",
            "_model_module_version": "1.5.0",
            "_model_name": "FloatProgressModel",
            "_view_count": null,
            "_view_module": "@jupyter-widgets/controls",
            "_view_module_version": "1.5.0",
            "_view_name": "ProgressView",
            "bar_style": "",
            "description": "",
            "description_tooltip": null,
            "layout": "IPY_MODEL_03bfaf1a42d34fb5a81ddb3323e9a45c",
            "max": 1,
            "min": 0,
            "orientation": "horizontal",
            "style": "IPY_MODEL_155d2992a81c43d8900f9762650bbbf6",
            "value": 1
          }
        },
        "1e75d87e296e4c99b952cf5112ef4547": {
          "model_module": "@jupyter-widgets/base",
          "model_name": "LayoutModel",
          "model_module_version": "1.2.0",
          "state": {
            "_model_module": "@jupyter-widgets/base",
            "_model_module_version": "1.2.0",
            "_model_name": "LayoutModel",
            "_view_count": null,
            "_view_module": "@jupyter-widgets/base",
            "_view_module_version": "1.2.0",
            "_view_name": "LayoutView",
            "align_content": null,
            "align_items": null,
            "align_self": null,
            "border": null,
            "bottom": null,
            "display": null,
            "flex": null,
            "flex_flow": null,
            "grid_area": null,
            "grid_auto_columns": null,
            "grid_auto_flow": null,
            "grid_auto_rows": null,
            "grid_column": null,
            "grid_gap": null,
            "grid_row": null,
            "grid_template_areas": null,
            "grid_template_columns": null,
            "grid_template_rows": null,
            "height": null,
            "justify_content": null,
            "justify_items": null,
            "left": null,
            "margin": null,
            "max_height": null,
            "max_width": null,
            "min_height": null,
            "min_width": null,
            "object_fit": null,
            "object_position": null,
            "order": null,
            "overflow": null,
            "overflow_x": null,
            "overflow_y": null,
            "padding": null,
            "right": null,
            "top": null,
            "visibility": null,
            "width": null
          }
        },
        "9a8101f460f14b47a75bc3830f2031a6": {
          "model_module": "@jupyter-widgets/base",
          "model_name": "LayoutModel",
          "model_module_version": "1.2.0",
          "state": {
            "_model_module": "@jupyter-widgets/base",
            "_model_module_version": "1.2.0",
            "_model_name": "LayoutModel",
            "_view_count": null,
            "_view_module": "@jupyter-widgets/base",
            "_view_module_version": "1.2.0",
            "_view_name": "LayoutView",
            "align_content": null,
            "align_items": null,
            "align_self": null,
            "border": null,
            "bottom": null,
            "display": null,
            "flex": null,
            "flex_flow": null,
            "grid_area": null,
            "grid_auto_columns": null,
            "grid_auto_flow": null,
            "grid_auto_rows": null,
            "grid_column": null,
            "grid_gap": null,
            "grid_row": null,
            "grid_template_areas": null,
            "grid_template_columns": null,
            "grid_template_rows": null,
            "height": null,
            "justify_content": null,
            "justify_items": null,
            "left": null,
            "margin": null,
            "max_height": null,
            "max_width": null,
            "min_height": null,
            "min_width": null,
            "object_fit": null,
            "object_position": null,
            "order": null,
            "overflow": null,
            "overflow_x": null,
            "overflow_y": null,
            "padding": null,
            "right": null,
            "top": null,
            "visibility": null,
            "width": null
          }
        },
        "e2af3bc4379c4740abde0b78b6194ba6": {
          "model_module": "@jupyter-widgets/controls",
          "model_name": "DescriptionStyleModel",
          "model_module_version": "1.5.0",
          "state": {
            "_model_module": "@jupyter-widgets/controls",
            "_model_module_version": "1.5.0",
            "_model_name": "DescriptionStyleModel",
            "_view_count": null,
            "_view_module": "@jupyter-widgets/base",
            "_view_module_version": "1.2.0",
            "_view_name": "StyleView",
            "description_width": ""
          }
        },
        "03bfaf1a42d34fb5a81ddb3323e9a45c": {
          "model_module": "@jupyter-widgets/base",
          "model_name": "LayoutModel",
          "model_module_version": "1.2.0",
          "state": {
            "_model_module": "@jupyter-widgets/base",
            "_model_module_version": "1.2.0",
            "_model_name": "LayoutModel",
            "_view_count": null,
            "_view_module": "@jupyter-widgets/base",
            "_view_module_version": "1.2.0",
            "_view_name": "LayoutView",
            "align_content": null,
            "align_items": null,
            "align_self": null,
            "border": null,
            "bottom": null,
            "display": null,
            "flex": null,
            "flex_flow": null,
            "grid_area": null,
            "grid_auto_columns": null,
            "grid_auto_flow": null,
            "grid_auto_rows": null,
            "grid_column": null,
            "grid_gap": null,
            "grid_row": null,
            "grid_template_areas": null,
            "grid_template_columns": null,
            "grid_template_rows": null,
            "height": null,
            "justify_content": null,
            "justify_items": null,
            "left": null,
            "margin": null,
            "max_height": null,
            "max_width": null,
            "min_height": null,
            "min_width": null,
            "object_fit": null,
            "object_position": null,
            "order": null,
            "overflow": null,
            "overflow_x": null,
            "overflow_y": null,
            "padding": null,
            "right": null,
            "top": null,
            "visibility": null,
            "width": null
          }
        },
        "155d2992a81c43d8900f9762650bbbf6": {
          "model_module": "@jupyter-widgets/controls",
          "model_name": "ProgressStyleModel",
          "model_module_version": "1.5.0",
          "state": {
            "_model_module": "@jupyter-widgets/controls",
            "_model_module_version": "1.5.0",
            "_model_name": "ProgressStyleModel",
            "_view_count": null,
            "_view_module": "@jupyter-widgets/base",
            "_view_module_version": "1.2.0",
            "_view_name": "StyleView",
            "bar_color": null,
            "description_width": ""
          }
        },
        "f0450c48075d46529053784f1858d201": {
          "model_module": "@jupyter-widgets/controls",
          "model_name": "VBoxModel",
          "model_module_version": "1.5.0",
          "state": {
            "_dom_classes": [],
            "_model_module": "@jupyter-widgets/controls",
            "_model_module_version": "1.5.0",
            "_model_name": "VBoxModel",
            "_view_count": null,
            "_view_module": "@jupyter-widgets/controls",
            "_view_module_version": "1.5.0",
            "_view_name": "VBoxView",
            "box_style": "",
            "children": [
              "IPY_MODEL_6fedcd2408af45f28dbb0e786b493b60",
              "IPY_MODEL_e5fc5b84add74f728cceb3cc0b79bd3c"
            ],
            "layout": "IPY_MODEL_45581077352c4e9c9c3d984b5de92cc7"
          }
        },
        "6fedcd2408af45f28dbb0e786b493b60": {
          "model_module": "@jupyter-widgets/controls",
          "model_name": "LabelModel",
          "model_module_version": "1.5.0",
          "state": {
            "_dom_classes": [],
            "_model_module": "@jupyter-widgets/controls",
            "_model_module_version": "1.5.0",
            "_model_name": "LabelModel",
            "_view_count": null,
            "_view_module": "@jupyter-widgets/controls",
            "_view_module_version": "1.5.0",
            "_view_name": "LabelView",
            "description": "",
            "description_tooltip": null,
            "layout": "IPY_MODEL_8334dd6f3bd04ba793442ebff87e1c46",
            "placeholder": "​",
            "style": "IPY_MODEL_eff9a841773d4d41bf284e6d64feaf3b",
            "value": "0.014 MB of 0.014 MB uploaded\r"
          }
        },
        "e5fc5b84add74f728cceb3cc0b79bd3c": {
          "model_module": "@jupyter-widgets/controls",
          "model_name": "FloatProgressModel",
          "model_module_version": "1.5.0",
          "state": {
            "_dom_classes": [],
            "_model_module": "@jupyter-widgets/controls",
            "_model_module_version": "1.5.0",
            "_model_name": "FloatProgressModel",
            "_view_count": null,
            "_view_module": "@jupyter-widgets/controls",
            "_view_module_version": "1.5.0",
            "_view_name": "ProgressView",
            "bar_style": "",
            "description": "",
            "description_tooltip": null,
            "layout": "IPY_MODEL_23ec9ecd91774854a332d8c726ada8c7",
            "max": 1,
            "min": 0,
            "orientation": "horizontal",
            "style": "IPY_MODEL_2c2d395a3d3d4757ba2e4dbe72afa726",
            "value": 1
          }
        },
        "45581077352c4e9c9c3d984b5de92cc7": {
          "model_module": "@jupyter-widgets/base",
          "model_name": "LayoutModel",
          "model_module_version": "1.2.0",
          "state": {
            "_model_module": "@jupyter-widgets/base",
            "_model_module_version": "1.2.0",
            "_model_name": "LayoutModel",
            "_view_count": null,
            "_view_module": "@jupyter-widgets/base",
            "_view_module_version": "1.2.0",
            "_view_name": "LayoutView",
            "align_content": null,
            "align_items": null,
            "align_self": null,
            "border": null,
            "bottom": null,
            "display": null,
            "flex": null,
            "flex_flow": null,
            "grid_area": null,
            "grid_auto_columns": null,
            "grid_auto_flow": null,
            "grid_auto_rows": null,
            "grid_column": null,
            "grid_gap": null,
            "grid_row": null,
            "grid_template_areas": null,
            "grid_template_columns": null,
            "grid_template_rows": null,
            "height": null,
            "justify_content": null,
            "justify_items": null,
            "left": null,
            "margin": null,
            "max_height": null,
            "max_width": null,
            "min_height": null,
            "min_width": null,
            "object_fit": null,
            "object_position": null,
            "order": null,
            "overflow": null,
            "overflow_x": null,
            "overflow_y": null,
            "padding": null,
            "right": null,
            "top": null,
            "visibility": null,
            "width": null
          }
        },
        "8334dd6f3bd04ba793442ebff87e1c46": {
          "model_module": "@jupyter-widgets/base",
          "model_name": "LayoutModel",
          "model_module_version": "1.2.0",
          "state": {
            "_model_module": "@jupyter-widgets/base",
            "_model_module_version": "1.2.0",
            "_model_name": "LayoutModel",
            "_view_count": null,
            "_view_module": "@jupyter-widgets/base",
            "_view_module_version": "1.2.0",
            "_view_name": "LayoutView",
            "align_content": null,
            "align_items": null,
            "align_self": null,
            "border": null,
            "bottom": null,
            "display": null,
            "flex": null,
            "flex_flow": null,
            "grid_area": null,
            "grid_auto_columns": null,
            "grid_auto_flow": null,
            "grid_auto_rows": null,
            "grid_column": null,
            "grid_gap": null,
            "grid_row": null,
            "grid_template_areas": null,
            "grid_template_columns": null,
            "grid_template_rows": null,
            "height": null,
            "justify_content": null,
            "justify_items": null,
            "left": null,
            "margin": null,
            "max_height": null,
            "max_width": null,
            "min_height": null,
            "min_width": null,
            "object_fit": null,
            "object_position": null,
            "order": null,
            "overflow": null,
            "overflow_x": null,
            "overflow_y": null,
            "padding": null,
            "right": null,
            "top": null,
            "visibility": null,
            "width": null
          }
        },
        "eff9a841773d4d41bf284e6d64feaf3b": {
          "model_module": "@jupyter-widgets/controls",
          "model_name": "DescriptionStyleModel",
          "model_module_version": "1.5.0",
          "state": {
            "_model_module": "@jupyter-widgets/controls",
            "_model_module_version": "1.5.0",
            "_model_name": "DescriptionStyleModel",
            "_view_count": null,
            "_view_module": "@jupyter-widgets/base",
            "_view_module_version": "1.2.0",
            "_view_name": "StyleView",
            "description_width": ""
          }
        },
        "23ec9ecd91774854a332d8c726ada8c7": {
          "model_module": "@jupyter-widgets/base",
          "model_name": "LayoutModel",
          "model_module_version": "1.2.0",
          "state": {
            "_model_module": "@jupyter-widgets/base",
            "_model_module_version": "1.2.0",
            "_model_name": "LayoutModel",
            "_view_count": null,
            "_view_module": "@jupyter-widgets/base",
            "_view_module_version": "1.2.0",
            "_view_name": "LayoutView",
            "align_content": null,
            "align_items": null,
            "align_self": null,
            "border": null,
            "bottom": null,
            "display": null,
            "flex": null,
            "flex_flow": null,
            "grid_area": null,
            "grid_auto_columns": null,
            "grid_auto_flow": null,
            "grid_auto_rows": null,
            "grid_column": null,
            "grid_gap": null,
            "grid_row": null,
            "grid_template_areas": null,
            "grid_template_columns": null,
            "grid_template_rows": null,
            "height": null,
            "justify_content": null,
            "justify_items": null,
            "left": null,
            "margin": null,
            "max_height": null,
            "max_width": null,
            "min_height": null,
            "min_width": null,
            "object_fit": null,
            "object_position": null,
            "order": null,
            "overflow": null,
            "overflow_x": null,
            "overflow_y": null,
            "padding": null,
            "right": null,
            "top": null,
            "visibility": null,
            "width": null
          }
        },
        "2c2d395a3d3d4757ba2e4dbe72afa726": {
          "model_module": "@jupyter-widgets/controls",
          "model_name": "ProgressStyleModel",
          "model_module_version": "1.5.0",
          "state": {
            "_model_module": "@jupyter-widgets/controls",
            "_model_module_version": "1.5.0",
            "_model_name": "ProgressStyleModel",
            "_view_count": null,
            "_view_module": "@jupyter-widgets/base",
            "_view_module_version": "1.2.0",
            "_view_name": "StyleView",
            "bar_color": null,
            "description_width": ""
          }
        },
        "6296d80e9543482ca14583e7cdf4d5b3": {
          "model_module": "@jupyter-widgets/controls",
          "model_name": "VBoxModel",
          "model_module_version": "1.5.0",
          "state": {
            "_dom_classes": [],
            "_model_module": "@jupyter-widgets/controls",
            "_model_module_version": "1.5.0",
            "_model_name": "VBoxModel",
            "_view_count": null,
            "_view_module": "@jupyter-widgets/controls",
            "_view_module_version": "1.5.0",
            "_view_name": "VBoxView",
            "box_style": "",
            "children": [
              "IPY_MODEL_eca60981e11647828e888aad0552b2bd",
              "IPY_MODEL_eb9c9579b50a480682dc4e352dcc39d3"
            ],
            "layout": "IPY_MODEL_80920df0f789427da3c5747667edb9b8"
          }
        },
        "eca60981e11647828e888aad0552b2bd": {
          "model_module": "@jupyter-widgets/controls",
          "model_name": "LabelModel",
          "model_module_version": "1.5.0",
          "state": {
            "_dom_classes": [],
            "_model_module": "@jupyter-widgets/controls",
            "_model_module_version": "1.5.0",
            "_model_name": "LabelModel",
            "_view_count": null,
            "_view_module": "@jupyter-widgets/controls",
            "_view_module_version": "1.5.0",
            "_view_name": "LabelView",
            "description": "",
            "description_tooltip": null,
            "layout": "IPY_MODEL_0ea3c2a21dfa4ec3a113b1a4cd11c909",
            "placeholder": "​",
            "style": "IPY_MODEL_7adc62912ee74ef398be8b407248bc88",
            "value": "0.014 MB of 0.014 MB uploaded\r"
          }
        },
        "eb9c9579b50a480682dc4e352dcc39d3": {
          "model_module": "@jupyter-widgets/controls",
          "model_name": "FloatProgressModel",
          "model_module_version": "1.5.0",
          "state": {
            "_dom_classes": [],
            "_model_module": "@jupyter-widgets/controls",
            "_model_module_version": "1.5.0",
            "_model_name": "FloatProgressModel",
            "_view_count": null,
            "_view_module": "@jupyter-widgets/controls",
            "_view_module_version": "1.5.0",
            "_view_name": "ProgressView",
            "bar_style": "",
            "description": "",
            "description_tooltip": null,
            "layout": "IPY_MODEL_765b44aca3794106a320c5845756ed00",
            "max": 1,
            "min": 0,
            "orientation": "horizontal",
            "style": "IPY_MODEL_f6178d0c7b7a47209968dab5bc7ab923",
            "value": 1
          }
        },
        "80920df0f789427da3c5747667edb9b8": {
          "model_module": "@jupyter-widgets/base",
          "model_name": "LayoutModel",
          "model_module_version": "1.2.0",
          "state": {
            "_model_module": "@jupyter-widgets/base",
            "_model_module_version": "1.2.0",
            "_model_name": "LayoutModel",
            "_view_count": null,
            "_view_module": "@jupyter-widgets/base",
            "_view_module_version": "1.2.0",
            "_view_name": "LayoutView",
            "align_content": null,
            "align_items": null,
            "align_self": null,
            "border": null,
            "bottom": null,
            "display": null,
            "flex": null,
            "flex_flow": null,
            "grid_area": null,
            "grid_auto_columns": null,
            "grid_auto_flow": null,
            "grid_auto_rows": null,
            "grid_column": null,
            "grid_gap": null,
            "grid_row": null,
            "grid_template_areas": null,
            "grid_template_columns": null,
            "grid_template_rows": null,
            "height": null,
            "justify_content": null,
            "justify_items": null,
            "left": null,
            "margin": null,
            "max_height": null,
            "max_width": null,
            "min_height": null,
            "min_width": null,
            "object_fit": null,
            "object_position": null,
            "order": null,
            "overflow": null,
            "overflow_x": null,
            "overflow_y": null,
            "padding": null,
            "right": null,
            "top": null,
            "visibility": null,
            "width": null
          }
        },
        "0ea3c2a21dfa4ec3a113b1a4cd11c909": {
          "model_module": "@jupyter-widgets/base",
          "model_name": "LayoutModel",
          "model_module_version": "1.2.0",
          "state": {
            "_model_module": "@jupyter-widgets/base",
            "_model_module_version": "1.2.0",
            "_model_name": "LayoutModel",
            "_view_count": null,
            "_view_module": "@jupyter-widgets/base",
            "_view_module_version": "1.2.0",
            "_view_name": "LayoutView",
            "align_content": null,
            "align_items": null,
            "align_self": null,
            "border": null,
            "bottom": null,
            "display": null,
            "flex": null,
            "flex_flow": null,
            "grid_area": null,
            "grid_auto_columns": null,
            "grid_auto_flow": null,
            "grid_auto_rows": null,
            "grid_column": null,
            "grid_gap": null,
            "grid_row": null,
            "grid_template_areas": null,
            "grid_template_columns": null,
            "grid_template_rows": null,
            "height": null,
            "justify_content": null,
            "justify_items": null,
            "left": null,
            "margin": null,
            "max_height": null,
            "max_width": null,
            "min_height": null,
            "min_width": null,
            "object_fit": null,
            "object_position": null,
            "order": null,
            "overflow": null,
            "overflow_x": null,
            "overflow_y": null,
            "padding": null,
            "right": null,
            "top": null,
            "visibility": null,
            "width": null
          }
        },
        "7adc62912ee74ef398be8b407248bc88": {
          "model_module": "@jupyter-widgets/controls",
          "model_name": "DescriptionStyleModel",
          "model_module_version": "1.5.0",
          "state": {
            "_model_module": "@jupyter-widgets/controls",
            "_model_module_version": "1.5.0",
            "_model_name": "DescriptionStyleModel",
            "_view_count": null,
            "_view_module": "@jupyter-widgets/base",
            "_view_module_version": "1.2.0",
            "_view_name": "StyleView",
            "description_width": ""
          }
        },
        "765b44aca3794106a320c5845756ed00": {
          "model_module": "@jupyter-widgets/base",
          "model_name": "LayoutModel",
          "model_module_version": "1.2.0",
          "state": {
            "_model_module": "@jupyter-widgets/base",
            "_model_module_version": "1.2.0",
            "_model_name": "LayoutModel",
            "_view_count": null,
            "_view_module": "@jupyter-widgets/base",
            "_view_module_version": "1.2.0",
            "_view_name": "LayoutView",
            "align_content": null,
            "align_items": null,
            "align_self": null,
            "border": null,
            "bottom": null,
            "display": null,
            "flex": null,
            "flex_flow": null,
            "grid_area": null,
            "grid_auto_columns": null,
            "grid_auto_flow": null,
            "grid_auto_rows": null,
            "grid_column": null,
            "grid_gap": null,
            "grid_row": null,
            "grid_template_areas": null,
            "grid_template_columns": null,
            "grid_template_rows": null,
            "height": null,
            "justify_content": null,
            "justify_items": null,
            "left": null,
            "margin": null,
            "max_height": null,
            "max_width": null,
            "min_height": null,
            "min_width": null,
            "object_fit": null,
            "object_position": null,
            "order": null,
            "overflow": null,
            "overflow_x": null,
            "overflow_y": null,
            "padding": null,
            "right": null,
            "top": null,
            "visibility": null,
            "width": null
          }
        },
        "f6178d0c7b7a47209968dab5bc7ab923": {
          "model_module": "@jupyter-widgets/controls",
          "model_name": "ProgressStyleModel",
          "model_module_version": "1.5.0",
          "state": {
            "_model_module": "@jupyter-widgets/controls",
            "_model_module_version": "1.5.0",
            "_model_name": "ProgressStyleModel",
            "_view_count": null,
            "_view_module": "@jupyter-widgets/base",
            "_view_module_version": "1.2.0",
            "_view_name": "StyleView",
            "bar_color": null,
            "description_width": ""
          }
        },
        "8e2a7be35894483ab20dc1cb375a8c47": {
          "model_module": "@jupyter-widgets/controls",
          "model_name": "VBoxModel",
          "model_module_version": "1.5.0",
          "state": {
            "_dom_classes": [],
            "_model_module": "@jupyter-widgets/controls",
            "_model_module_version": "1.5.0",
            "_model_name": "VBoxModel",
            "_view_count": null,
            "_view_module": "@jupyter-widgets/controls",
            "_view_module_version": "1.5.0",
            "_view_name": "VBoxView",
            "box_style": "",
            "children": [
              "IPY_MODEL_5a00b488fabb46c2a9f095ab0110582c",
              "IPY_MODEL_09e17bc33f224a829402d391ad7d5ec4"
            ],
            "layout": "IPY_MODEL_daa7ee8a598d473298a25ba1100be910"
          }
        },
        "5a00b488fabb46c2a9f095ab0110582c": {
          "model_module": "@jupyter-widgets/controls",
          "model_name": "LabelModel",
          "model_module_version": "1.5.0",
          "state": {
            "_dom_classes": [],
            "_model_module": "@jupyter-widgets/controls",
            "_model_module_version": "1.5.0",
            "_model_name": "LabelModel",
            "_view_count": null,
            "_view_module": "@jupyter-widgets/controls",
            "_view_module_version": "1.5.0",
            "_view_name": "LabelView",
            "description": "",
            "description_tooltip": null,
            "layout": "IPY_MODEL_8f989609393f4fa1b68b56caea17de58",
            "placeholder": "​",
            "style": "IPY_MODEL_7940d827a59148d684291ba3aa1c9877",
            "value": "0.014 MB of 0.014 MB uploaded\r"
          }
        },
        "09e17bc33f224a829402d391ad7d5ec4": {
          "model_module": "@jupyter-widgets/controls",
          "model_name": "FloatProgressModel",
          "model_module_version": "1.5.0",
          "state": {
            "_dom_classes": [],
            "_model_module": "@jupyter-widgets/controls",
            "_model_module_version": "1.5.0",
            "_model_name": "FloatProgressModel",
            "_view_count": null,
            "_view_module": "@jupyter-widgets/controls",
            "_view_module_version": "1.5.0",
            "_view_name": "ProgressView",
            "bar_style": "",
            "description": "",
            "description_tooltip": null,
            "layout": "IPY_MODEL_ce85f4b6f358463dabe927aa4652746e",
            "max": 1,
            "min": 0,
            "orientation": "horizontal",
            "style": "IPY_MODEL_6b995ed78db342d7a0320f3167c86238",
            "value": 1
          }
        },
        "daa7ee8a598d473298a25ba1100be910": {
          "model_module": "@jupyter-widgets/base",
          "model_name": "LayoutModel",
          "model_module_version": "1.2.0",
          "state": {
            "_model_module": "@jupyter-widgets/base",
            "_model_module_version": "1.2.0",
            "_model_name": "LayoutModel",
            "_view_count": null,
            "_view_module": "@jupyter-widgets/base",
            "_view_module_version": "1.2.0",
            "_view_name": "LayoutView",
            "align_content": null,
            "align_items": null,
            "align_self": null,
            "border": null,
            "bottom": null,
            "display": null,
            "flex": null,
            "flex_flow": null,
            "grid_area": null,
            "grid_auto_columns": null,
            "grid_auto_flow": null,
            "grid_auto_rows": null,
            "grid_column": null,
            "grid_gap": null,
            "grid_row": null,
            "grid_template_areas": null,
            "grid_template_columns": null,
            "grid_template_rows": null,
            "height": null,
            "justify_content": null,
            "justify_items": null,
            "left": null,
            "margin": null,
            "max_height": null,
            "max_width": null,
            "min_height": null,
            "min_width": null,
            "object_fit": null,
            "object_position": null,
            "order": null,
            "overflow": null,
            "overflow_x": null,
            "overflow_y": null,
            "padding": null,
            "right": null,
            "top": null,
            "visibility": null,
            "width": null
          }
        },
        "8f989609393f4fa1b68b56caea17de58": {
          "model_module": "@jupyter-widgets/base",
          "model_name": "LayoutModel",
          "model_module_version": "1.2.0",
          "state": {
            "_model_module": "@jupyter-widgets/base",
            "_model_module_version": "1.2.0",
            "_model_name": "LayoutModel",
            "_view_count": null,
            "_view_module": "@jupyter-widgets/base",
            "_view_module_version": "1.2.0",
            "_view_name": "LayoutView",
            "align_content": null,
            "align_items": null,
            "align_self": null,
            "border": null,
            "bottom": null,
            "display": null,
            "flex": null,
            "flex_flow": null,
            "grid_area": null,
            "grid_auto_columns": null,
            "grid_auto_flow": null,
            "grid_auto_rows": null,
            "grid_column": null,
            "grid_gap": null,
            "grid_row": null,
            "grid_template_areas": null,
            "grid_template_columns": null,
            "grid_template_rows": null,
            "height": null,
            "justify_content": null,
            "justify_items": null,
            "left": null,
            "margin": null,
            "max_height": null,
            "max_width": null,
            "min_height": null,
            "min_width": null,
            "object_fit": null,
            "object_position": null,
            "order": null,
            "overflow": null,
            "overflow_x": null,
            "overflow_y": null,
            "padding": null,
            "right": null,
            "top": null,
            "visibility": null,
            "width": null
          }
        },
        "7940d827a59148d684291ba3aa1c9877": {
          "model_module": "@jupyter-widgets/controls",
          "model_name": "DescriptionStyleModel",
          "model_module_version": "1.5.0",
          "state": {
            "_model_module": "@jupyter-widgets/controls",
            "_model_module_version": "1.5.0",
            "_model_name": "DescriptionStyleModel",
            "_view_count": null,
            "_view_module": "@jupyter-widgets/base",
            "_view_module_version": "1.2.0",
            "_view_name": "StyleView",
            "description_width": ""
          }
        },
        "ce85f4b6f358463dabe927aa4652746e": {
          "model_module": "@jupyter-widgets/base",
          "model_name": "LayoutModel",
          "model_module_version": "1.2.0",
          "state": {
            "_model_module": "@jupyter-widgets/base",
            "_model_module_version": "1.2.0",
            "_model_name": "LayoutModel",
            "_view_count": null,
            "_view_module": "@jupyter-widgets/base",
            "_view_module_version": "1.2.0",
            "_view_name": "LayoutView",
            "align_content": null,
            "align_items": null,
            "align_self": null,
            "border": null,
            "bottom": null,
            "display": null,
            "flex": null,
            "flex_flow": null,
            "grid_area": null,
            "grid_auto_columns": null,
            "grid_auto_flow": null,
            "grid_auto_rows": null,
            "grid_column": null,
            "grid_gap": null,
            "grid_row": null,
            "grid_template_areas": null,
            "grid_template_columns": null,
            "grid_template_rows": null,
            "height": null,
            "justify_content": null,
            "justify_items": null,
            "left": null,
            "margin": null,
            "max_height": null,
            "max_width": null,
            "min_height": null,
            "min_width": null,
            "object_fit": null,
            "object_position": null,
            "order": null,
            "overflow": null,
            "overflow_x": null,
            "overflow_y": null,
            "padding": null,
            "right": null,
            "top": null,
            "visibility": null,
            "width": null
          }
        },
        "6b995ed78db342d7a0320f3167c86238": {
          "model_module": "@jupyter-widgets/controls",
          "model_name": "ProgressStyleModel",
          "model_module_version": "1.5.0",
          "state": {
            "_model_module": "@jupyter-widgets/controls",
            "_model_module_version": "1.5.0",
            "_model_name": "ProgressStyleModel",
            "_view_count": null,
            "_view_module": "@jupyter-widgets/base",
            "_view_module_version": "1.2.0",
            "_view_name": "StyleView",
            "bar_color": null,
            "description_width": ""
          }
        },
        "6c87db3d777b4c2fbc50589f9ef65972": {
          "model_module": "@jupyter-widgets/controls",
          "model_name": "VBoxModel",
          "model_module_version": "1.5.0",
          "state": {
            "_dom_classes": [],
            "_model_module": "@jupyter-widgets/controls",
            "_model_module_version": "1.5.0",
            "_model_name": "VBoxModel",
            "_view_count": null,
            "_view_module": "@jupyter-widgets/controls",
            "_view_module_version": "1.5.0",
            "_view_name": "VBoxView",
            "box_style": "",
            "children": [
              "IPY_MODEL_0c682a11beb3445cbb33d00a7988e7f0",
              "IPY_MODEL_7f3aa100e6a1404c9b60bdd0ea982022"
            ],
            "layout": "IPY_MODEL_2def091da311450eaf8ec5a052b893d4"
          }
        },
        "0c682a11beb3445cbb33d00a7988e7f0": {
          "model_module": "@jupyter-widgets/controls",
          "model_name": "LabelModel",
          "model_module_version": "1.5.0",
          "state": {
            "_dom_classes": [],
            "_model_module": "@jupyter-widgets/controls",
            "_model_module_version": "1.5.0",
            "_model_name": "LabelModel",
            "_view_count": null,
            "_view_module": "@jupyter-widgets/controls",
            "_view_module_version": "1.5.0",
            "_view_name": "LabelView",
            "description": "",
            "description_tooltip": null,
            "layout": "IPY_MODEL_2138bb556144411282877d9ea32b8bae",
            "placeholder": "​",
            "style": "IPY_MODEL_db897766785d409abb6d27bc0c515bc3",
            "value": "Waiting for wandb.init()...\r"
          }
        },
        "7f3aa100e6a1404c9b60bdd0ea982022": {
          "model_module": "@jupyter-widgets/controls",
          "model_name": "FloatProgressModel",
          "model_module_version": "1.5.0",
          "state": {
            "_dom_classes": [],
            "_model_module": "@jupyter-widgets/controls",
            "_model_module_version": "1.5.0",
            "_model_name": "FloatProgressModel",
            "_view_count": null,
            "_view_module": "@jupyter-widgets/controls",
            "_view_module_version": "1.5.0",
            "_view_name": "ProgressView",
            "bar_style": "",
            "description": "",
            "description_tooltip": null,
            "layout": "IPY_MODEL_2efc6b9348cf49bcb67f135125644298",
            "max": 1,
            "min": 0,
            "orientation": "horizontal",
            "style": "IPY_MODEL_4025f3ea251a4e20a33e58d3a01e07e4",
            "value": 1
          }
        },
        "2def091da311450eaf8ec5a052b893d4": {
          "model_module": "@jupyter-widgets/base",
          "model_name": "LayoutModel",
          "model_module_version": "1.2.0",
          "state": {
            "_model_module": "@jupyter-widgets/base",
            "_model_module_version": "1.2.0",
            "_model_name": "LayoutModel",
            "_view_count": null,
            "_view_module": "@jupyter-widgets/base",
            "_view_module_version": "1.2.0",
            "_view_name": "LayoutView",
            "align_content": null,
            "align_items": null,
            "align_self": null,
            "border": null,
            "bottom": null,
            "display": null,
            "flex": null,
            "flex_flow": null,
            "grid_area": null,
            "grid_auto_columns": null,
            "grid_auto_flow": null,
            "grid_auto_rows": null,
            "grid_column": null,
            "grid_gap": null,
            "grid_row": null,
            "grid_template_areas": null,
            "grid_template_columns": null,
            "grid_template_rows": null,
            "height": null,
            "justify_content": null,
            "justify_items": null,
            "left": null,
            "margin": null,
            "max_height": null,
            "max_width": null,
            "min_height": null,
            "min_width": null,
            "object_fit": null,
            "object_position": null,
            "order": null,
            "overflow": null,
            "overflow_x": null,
            "overflow_y": null,
            "padding": null,
            "right": null,
            "top": null,
            "visibility": null,
            "width": null
          }
        },
        "2138bb556144411282877d9ea32b8bae": {
          "model_module": "@jupyter-widgets/base",
          "model_name": "LayoutModel",
          "model_module_version": "1.2.0",
          "state": {
            "_model_module": "@jupyter-widgets/base",
            "_model_module_version": "1.2.0",
            "_model_name": "LayoutModel",
            "_view_count": null,
            "_view_module": "@jupyter-widgets/base",
            "_view_module_version": "1.2.0",
            "_view_name": "LayoutView",
            "align_content": null,
            "align_items": null,
            "align_self": null,
            "border": null,
            "bottom": null,
            "display": null,
            "flex": null,
            "flex_flow": null,
            "grid_area": null,
            "grid_auto_columns": null,
            "grid_auto_flow": null,
            "grid_auto_rows": null,
            "grid_column": null,
            "grid_gap": null,
            "grid_row": null,
            "grid_template_areas": null,
            "grid_template_columns": null,
            "grid_template_rows": null,
            "height": null,
            "justify_content": null,
            "justify_items": null,
            "left": null,
            "margin": null,
            "max_height": null,
            "max_width": null,
            "min_height": null,
            "min_width": null,
            "object_fit": null,
            "object_position": null,
            "order": null,
            "overflow": null,
            "overflow_x": null,
            "overflow_y": null,
            "padding": null,
            "right": null,
            "top": null,
            "visibility": null,
            "width": null
          }
        },
        "db897766785d409abb6d27bc0c515bc3": {
          "model_module": "@jupyter-widgets/controls",
          "model_name": "DescriptionStyleModel",
          "model_module_version": "1.5.0",
          "state": {
            "_model_module": "@jupyter-widgets/controls",
            "_model_module_version": "1.5.0",
            "_model_name": "DescriptionStyleModel",
            "_view_count": null,
            "_view_module": "@jupyter-widgets/base",
            "_view_module_version": "1.2.0",
            "_view_name": "StyleView",
            "description_width": ""
          }
        },
        "2efc6b9348cf49bcb67f135125644298": {
          "model_module": "@jupyter-widgets/base",
          "model_name": "LayoutModel",
          "model_module_version": "1.2.0",
          "state": {
            "_model_module": "@jupyter-widgets/base",
            "_model_module_version": "1.2.0",
            "_model_name": "LayoutModel",
            "_view_count": null,
            "_view_module": "@jupyter-widgets/base",
            "_view_module_version": "1.2.0",
            "_view_name": "LayoutView",
            "align_content": null,
            "align_items": null,
            "align_self": null,
            "border": null,
            "bottom": null,
            "display": null,
            "flex": null,
            "flex_flow": null,
            "grid_area": null,
            "grid_auto_columns": null,
            "grid_auto_flow": null,
            "grid_auto_rows": null,
            "grid_column": null,
            "grid_gap": null,
            "grid_row": null,
            "grid_template_areas": null,
            "grid_template_columns": null,
            "grid_template_rows": null,
            "height": null,
            "justify_content": null,
            "justify_items": null,
            "left": null,
            "margin": null,
            "max_height": null,
            "max_width": null,
            "min_height": null,
            "min_width": null,
            "object_fit": null,
            "object_position": null,
            "order": null,
            "overflow": null,
            "overflow_x": null,
            "overflow_y": null,
            "padding": null,
            "right": null,
            "top": null,
            "visibility": null,
            "width": null
          }
        },
        "4025f3ea251a4e20a33e58d3a01e07e4": {
          "model_module": "@jupyter-widgets/controls",
          "model_name": "ProgressStyleModel",
          "model_module_version": "1.5.0",
          "state": {
            "_model_module": "@jupyter-widgets/controls",
            "_model_module_version": "1.5.0",
            "_model_name": "ProgressStyleModel",
            "_view_count": null,
            "_view_module": "@jupyter-widgets/base",
            "_view_module_version": "1.2.0",
            "_view_name": "StyleView",
            "bar_color": null,
            "description_width": ""
          }
        },
        "a5b4478444034e729cacda8add675414": {
          "model_module": "@jupyter-widgets/controls",
          "model_name": "VBoxModel",
          "model_module_version": "1.5.0",
          "state": {
            "_dom_classes": [],
            "_model_module": "@jupyter-widgets/controls",
            "_model_module_version": "1.5.0",
            "_model_name": "VBoxModel",
            "_view_count": null,
            "_view_module": "@jupyter-widgets/controls",
            "_view_module_version": "1.5.0",
            "_view_name": "VBoxView",
            "box_style": "",
            "children": [
              "IPY_MODEL_0699be451eb34e02a6e94e562785a14d",
              "IPY_MODEL_8042e580fd634ac3a48244e6b0517697"
            ],
            "layout": "IPY_MODEL_eb00e74dcc8f43959366dee9c950732a"
          }
        },
        "0699be451eb34e02a6e94e562785a14d": {
          "model_module": "@jupyter-widgets/controls",
          "model_name": "LabelModel",
          "model_module_version": "1.5.0",
          "state": {
            "_dom_classes": [],
            "_model_module": "@jupyter-widgets/controls",
            "_model_module_version": "1.5.0",
            "_model_name": "LabelModel",
            "_view_count": null,
            "_view_module": "@jupyter-widgets/controls",
            "_view_module_version": "1.5.0",
            "_view_name": "LabelView",
            "description": "",
            "description_tooltip": null,
            "layout": "IPY_MODEL_ec38a05ad675453c8415886d4d8ceb81",
            "placeholder": "​",
            "style": "IPY_MODEL_5bf814ff776a4700ba66bf880606878e",
            "value": "0.014 MB of 0.014 MB uploaded\r"
          }
        },
        "8042e580fd634ac3a48244e6b0517697": {
          "model_module": "@jupyter-widgets/controls",
          "model_name": "FloatProgressModel",
          "model_module_version": "1.5.0",
          "state": {
            "_dom_classes": [],
            "_model_module": "@jupyter-widgets/controls",
            "_model_module_version": "1.5.0",
            "_model_name": "FloatProgressModel",
            "_view_count": null,
            "_view_module": "@jupyter-widgets/controls",
            "_view_module_version": "1.5.0",
            "_view_name": "ProgressView",
            "bar_style": "",
            "description": "",
            "description_tooltip": null,
            "layout": "IPY_MODEL_09ea08781eea4ca3adc4c56e7a714623",
            "max": 1,
            "min": 0,
            "orientation": "horizontal",
            "style": "IPY_MODEL_b12624e139ed4f2f88b11971de7f4613",
            "value": 1
          }
        },
        "eb00e74dcc8f43959366dee9c950732a": {
          "model_module": "@jupyter-widgets/base",
          "model_name": "LayoutModel",
          "model_module_version": "1.2.0",
          "state": {
            "_model_module": "@jupyter-widgets/base",
            "_model_module_version": "1.2.0",
            "_model_name": "LayoutModel",
            "_view_count": null,
            "_view_module": "@jupyter-widgets/base",
            "_view_module_version": "1.2.0",
            "_view_name": "LayoutView",
            "align_content": null,
            "align_items": null,
            "align_self": null,
            "border": null,
            "bottom": null,
            "display": null,
            "flex": null,
            "flex_flow": null,
            "grid_area": null,
            "grid_auto_columns": null,
            "grid_auto_flow": null,
            "grid_auto_rows": null,
            "grid_column": null,
            "grid_gap": null,
            "grid_row": null,
            "grid_template_areas": null,
            "grid_template_columns": null,
            "grid_template_rows": null,
            "height": null,
            "justify_content": null,
            "justify_items": null,
            "left": null,
            "margin": null,
            "max_height": null,
            "max_width": null,
            "min_height": null,
            "min_width": null,
            "object_fit": null,
            "object_position": null,
            "order": null,
            "overflow": null,
            "overflow_x": null,
            "overflow_y": null,
            "padding": null,
            "right": null,
            "top": null,
            "visibility": null,
            "width": null
          }
        },
        "ec38a05ad675453c8415886d4d8ceb81": {
          "model_module": "@jupyter-widgets/base",
          "model_name": "LayoutModel",
          "model_module_version": "1.2.0",
          "state": {
            "_model_module": "@jupyter-widgets/base",
            "_model_module_version": "1.2.0",
            "_model_name": "LayoutModel",
            "_view_count": null,
            "_view_module": "@jupyter-widgets/base",
            "_view_module_version": "1.2.0",
            "_view_name": "LayoutView",
            "align_content": null,
            "align_items": null,
            "align_self": null,
            "border": null,
            "bottom": null,
            "display": null,
            "flex": null,
            "flex_flow": null,
            "grid_area": null,
            "grid_auto_columns": null,
            "grid_auto_flow": null,
            "grid_auto_rows": null,
            "grid_column": null,
            "grid_gap": null,
            "grid_row": null,
            "grid_template_areas": null,
            "grid_template_columns": null,
            "grid_template_rows": null,
            "height": null,
            "justify_content": null,
            "justify_items": null,
            "left": null,
            "margin": null,
            "max_height": null,
            "max_width": null,
            "min_height": null,
            "min_width": null,
            "object_fit": null,
            "object_position": null,
            "order": null,
            "overflow": null,
            "overflow_x": null,
            "overflow_y": null,
            "padding": null,
            "right": null,
            "top": null,
            "visibility": null,
            "width": null
          }
        },
        "5bf814ff776a4700ba66bf880606878e": {
          "model_module": "@jupyter-widgets/controls",
          "model_name": "DescriptionStyleModel",
          "model_module_version": "1.5.0",
          "state": {
            "_model_module": "@jupyter-widgets/controls",
            "_model_module_version": "1.5.0",
            "_model_name": "DescriptionStyleModel",
            "_view_count": null,
            "_view_module": "@jupyter-widgets/base",
            "_view_module_version": "1.2.0",
            "_view_name": "StyleView",
            "description_width": ""
          }
        },
        "09ea08781eea4ca3adc4c56e7a714623": {
          "model_module": "@jupyter-widgets/base",
          "model_name": "LayoutModel",
          "model_module_version": "1.2.0",
          "state": {
            "_model_module": "@jupyter-widgets/base",
            "_model_module_version": "1.2.0",
            "_model_name": "LayoutModel",
            "_view_count": null,
            "_view_module": "@jupyter-widgets/base",
            "_view_module_version": "1.2.0",
            "_view_name": "LayoutView",
            "align_content": null,
            "align_items": null,
            "align_self": null,
            "border": null,
            "bottom": null,
            "display": null,
            "flex": null,
            "flex_flow": null,
            "grid_area": null,
            "grid_auto_columns": null,
            "grid_auto_flow": null,
            "grid_auto_rows": null,
            "grid_column": null,
            "grid_gap": null,
            "grid_row": null,
            "grid_template_areas": null,
            "grid_template_columns": null,
            "grid_template_rows": null,
            "height": null,
            "justify_content": null,
            "justify_items": null,
            "left": null,
            "margin": null,
            "max_height": null,
            "max_width": null,
            "min_height": null,
            "min_width": null,
            "object_fit": null,
            "object_position": null,
            "order": null,
            "overflow": null,
            "overflow_x": null,
            "overflow_y": null,
            "padding": null,
            "right": null,
            "top": null,
            "visibility": null,
            "width": null
          }
        },
        "b12624e139ed4f2f88b11971de7f4613": {
          "model_module": "@jupyter-widgets/controls",
          "model_name": "ProgressStyleModel",
          "model_module_version": "1.5.0",
          "state": {
            "_model_module": "@jupyter-widgets/controls",
            "_model_module_version": "1.5.0",
            "_model_name": "ProgressStyleModel",
            "_view_count": null,
            "_view_module": "@jupyter-widgets/base",
            "_view_module_version": "1.2.0",
            "_view_name": "StyleView",
            "bar_color": null,
            "description_width": ""
          }
        },
        "af83752b591846d8b33b63df2fe9958c": {
          "model_module": "@jupyter-widgets/controls",
          "model_name": "VBoxModel",
          "model_module_version": "1.5.0",
          "state": {
            "_dom_classes": [],
            "_model_module": "@jupyter-widgets/controls",
            "_model_module_version": "1.5.0",
            "_model_name": "VBoxModel",
            "_view_count": null,
            "_view_module": "@jupyter-widgets/controls",
            "_view_module_version": "1.5.0",
            "_view_name": "VBoxView",
            "box_style": "",
            "children": [
              "IPY_MODEL_3f347e26cadf482db6512315ba7352aa",
              "IPY_MODEL_f1f59d29a9c545ac910f434c8292fc0f"
            ],
            "layout": "IPY_MODEL_68cadcd7270a438993f51a06adf63844"
          }
        },
        "3f347e26cadf482db6512315ba7352aa": {
          "model_module": "@jupyter-widgets/controls",
          "model_name": "LabelModel",
          "model_module_version": "1.5.0",
          "state": {
            "_dom_classes": [],
            "_model_module": "@jupyter-widgets/controls",
            "_model_module_version": "1.5.0",
            "_model_name": "LabelModel",
            "_view_count": null,
            "_view_module": "@jupyter-widgets/controls",
            "_view_module_version": "1.5.0",
            "_view_name": "LabelView",
            "description": "",
            "description_tooltip": null,
            "layout": "IPY_MODEL_89d8fd9ecdb44185b0507557f9311fce",
            "placeholder": "​",
            "style": "IPY_MODEL_c3314362d5d345f0917a3ecdb52bd661",
            "value": "0.014 MB of 0.014 MB uploaded\r"
          }
        },
        "f1f59d29a9c545ac910f434c8292fc0f": {
          "model_module": "@jupyter-widgets/controls",
          "model_name": "FloatProgressModel",
          "model_module_version": "1.5.0",
          "state": {
            "_dom_classes": [],
            "_model_module": "@jupyter-widgets/controls",
            "_model_module_version": "1.5.0",
            "_model_name": "FloatProgressModel",
            "_view_count": null,
            "_view_module": "@jupyter-widgets/controls",
            "_view_module_version": "1.5.0",
            "_view_name": "ProgressView",
            "bar_style": "",
            "description": "",
            "description_tooltip": null,
            "layout": "IPY_MODEL_72009b7f62c4440990caf0d3884757b2",
            "max": 1,
            "min": 0,
            "orientation": "horizontal",
            "style": "IPY_MODEL_e9882a58e65e44b193e4719cca24cee1",
            "value": 1
          }
        },
        "68cadcd7270a438993f51a06adf63844": {
          "model_module": "@jupyter-widgets/base",
          "model_name": "LayoutModel",
          "model_module_version": "1.2.0",
          "state": {
            "_model_module": "@jupyter-widgets/base",
            "_model_module_version": "1.2.0",
            "_model_name": "LayoutModel",
            "_view_count": null,
            "_view_module": "@jupyter-widgets/base",
            "_view_module_version": "1.2.0",
            "_view_name": "LayoutView",
            "align_content": null,
            "align_items": null,
            "align_self": null,
            "border": null,
            "bottom": null,
            "display": null,
            "flex": null,
            "flex_flow": null,
            "grid_area": null,
            "grid_auto_columns": null,
            "grid_auto_flow": null,
            "grid_auto_rows": null,
            "grid_column": null,
            "grid_gap": null,
            "grid_row": null,
            "grid_template_areas": null,
            "grid_template_columns": null,
            "grid_template_rows": null,
            "height": null,
            "justify_content": null,
            "justify_items": null,
            "left": null,
            "margin": null,
            "max_height": null,
            "max_width": null,
            "min_height": null,
            "min_width": null,
            "object_fit": null,
            "object_position": null,
            "order": null,
            "overflow": null,
            "overflow_x": null,
            "overflow_y": null,
            "padding": null,
            "right": null,
            "top": null,
            "visibility": null,
            "width": null
          }
        },
        "89d8fd9ecdb44185b0507557f9311fce": {
          "model_module": "@jupyter-widgets/base",
          "model_name": "LayoutModel",
          "model_module_version": "1.2.0",
          "state": {
            "_model_module": "@jupyter-widgets/base",
            "_model_module_version": "1.2.0",
            "_model_name": "LayoutModel",
            "_view_count": null,
            "_view_module": "@jupyter-widgets/base",
            "_view_module_version": "1.2.0",
            "_view_name": "LayoutView",
            "align_content": null,
            "align_items": null,
            "align_self": null,
            "border": null,
            "bottom": null,
            "display": null,
            "flex": null,
            "flex_flow": null,
            "grid_area": null,
            "grid_auto_columns": null,
            "grid_auto_flow": null,
            "grid_auto_rows": null,
            "grid_column": null,
            "grid_gap": null,
            "grid_row": null,
            "grid_template_areas": null,
            "grid_template_columns": null,
            "grid_template_rows": null,
            "height": null,
            "justify_content": null,
            "justify_items": null,
            "left": null,
            "margin": null,
            "max_height": null,
            "max_width": null,
            "min_height": null,
            "min_width": null,
            "object_fit": null,
            "object_position": null,
            "order": null,
            "overflow": null,
            "overflow_x": null,
            "overflow_y": null,
            "padding": null,
            "right": null,
            "top": null,
            "visibility": null,
            "width": null
          }
        },
        "c3314362d5d345f0917a3ecdb52bd661": {
          "model_module": "@jupyter-widgets/controls",
          "model_name": "DescriptionStyleModel",
          "model_module_version": "1.5.0",
          "state": {
            "_model_module": "@jupyter-widgets/controls",
            "_model_module_version": "1.5.0",
            "_model_name": "DescriptionStyleModel",
            "_view_count": null,
            "_view_module": "@jupyter-widgets/base",
            "_view_module_version": "1.2.0",
            "_view_name": "StyleView",
            "description_width": ""
          }
        },
        "72009b7f62c4440990caf0d3884757b2": {
          "model_module": "@jupyter-widgets/base",
          "model_name": "LayoutModel",
          "model_module_version": "1.2.0",
          "state": {
            "_model_module": "@jupyter-widgets/base",
            "_model_module_version": "1.2.0",
            "_model_name": "LayoutModel",
            "_view_count": null,
            "_view_module": "@jupyter-widgets/base",
            "_view_module_version": "1.2.0",
            "_view_name": "LayoutView",
            "align_content": null,
            "align_items": null,
            "align_self": null,
            "border": null,
            "bottom": null,
            "display": null,
            "flex": null,
            "flex_flow": null,
            "grid_area": null,
            "grid_auto_columns": null,
            "grid_auto_flow": null,
            "grid_auto_rows": null,
            "grid_column": null,
            "grid_gap": null,
            "grid_row": null,
            "grid_template_areas": null,
            "grid_template_columns": null,
            "grid_template_rows": null,
            "height": null,
            "justify_content": null,
            "justify_items": null,
            "left": null,
            "margin": null,
            "max_height": null,
            "max_width": null,
            "min_height": null,
            "min_width": null,
            "object_fit": null,
            "object_position": null,
            "order": null,
            "overflow": null,
            "overflow_x": null,
            "overflow_y": null,
            "padding": null,
            "right": null,
            "top": null,
            "visibility": null,
            "width": null
          }
        },
        "e9882a58e65e44b193e4719cca24cee1": {
          "model_module": "@jupyter-widgets/controls",
          "model_name": "ProgressStyleModel",
          "model_module_version": "1.5.0",
          "state": {
            "_model_module": "@jupyter-widgets/controls",
            "_model_module_version": "1.5.0",
            "_model_name": "ProgressStyleModel",
            "_view_count": null,
            "_view_module": "@jupyter-widgets/base",
            "_view_module_version": "1.2.0",
            "_view_name": "StyleView",
            "bar_color": null,
            "description_width": ""
          }
        },
        "6a9d99e9742f4caeb8d36fe53cbc1972": {
          "model_module": "@jupyter-widgets/controls",
          "model_name": "VBoxModel",
          "model_module_version": "1.5.0",
          "state": {
            "_dom_classes": [],
            "_model_module": "@jupyter-widgets/controls",
            "_model_module_version": "1.5.0",
            "_model_name": "VBoxModel",
            "_view_count": null,
            "_view_module": "@jupyter-widgets/controls",
            "_view_module_version": "1.5.0",
            "_view_name": "VBoxView",
            "box_style": "",
            "children": [
              "IPY_MODEL_d13f96730d414d4da71636efe28e51eb",
              "IPY_MODEL_b916147eb9a64d08bb7203adbb006a13"
            ],
            "layout": "IPY_MODEL_cec974f0db6c453c9c5b2ea62195a5af"
          }
        },
        "d13f96730d414d4da71636efe28e51eb": {
          "model_module": "@jupyter-widgets/controls",
          "model_name": "LabelModel",
          "model_module_version": "1.5.0",
          "state": {
            "_dom_classes": [],
            "_model_module": "@jupyter-widgets/controls",
            "_model_module_version": "1.5.0",
            "_model_name": "LabelModel",
            "_view_count": null,
            "_view_module": "@jupyter-widgets/controls",
            "_view_module_version": "1.5.0",
            "_view_name": "LabelView",
            "description": "",
            "description_tooltip": null,
            "layout": "IPY_MODEL_199343e430cf46cdacbd4076562e3a40",
            "placeholder": "​",
            "style": "IPY_MODEL_e72c52285b7f436bab21116ce640c05e",
            "value": "0.014 MB of 0.014 MB uploaded\r"
          }
        },
        "b916147eb9a64d08bb7203adbb006a13": {
          "model_module": "@jupyter-widgets/controls",
          "model_name": "FloatProgressModel",
          "model_module_version": "1.5.0",
          "state": {
            "_dom_classes": [],
            "_model_module": "@jupyter-widgets/controls",
            "_model_module_version": "1.5.0",
            "_model_name": "FloatProgressModel",
            "_view_count": null,
            "_view_module": "@jupyter-widgets/controls",
            "_view_module_version": "1.5.0",
            "_view_name": "ProgressView",
            "bar_style": "",
            "description": "",
            "description_tooltip": null,
            "layout": "IPY_MODEL_0e6279917c664a0fa6a99b07ab51b675",
            "max": 1,
            "min": 0,
            "orientation": "horizontal",
            "style": "IPY_MODEL_638f7931150c491193529fe3be6bdbcc",
            "value": 1
          }
        },
        "cec974f0db6c453c9c5b2ea62195a5af": {
          "model_module": "@jupyter-widgets/base",
          "model_name": "LayoutModel",
          "model_module_version": "1.2.0",
          "state": {
            "_model_module": "@jupyter-widgets/base",
            "_model_module_version": "1.2.0",
            "_model_name": "LayoutModel",
            "_view_count": null,
            "_view_module": "@jupyter-widgets/base",
            "_view_module_version": "1.2.0",
            "_view_name": "LayoutView",
            "align_content": null,
            "align_items": null,
            "align_self": null,
            "border": null,
            "bottom": null,
            "display": null,
            "flex": null,
            "flex_flow": null,
            "grid_area": null,
            "grid_auto_columns": null,
            "grid_auto_flow": null,
            "grid_auto_rows": null,
            "grid_column": null,
            "grid_gap": null,
            "grid_row": null,
            "grid_template_areas": null,
            "grid_template_columns": null,
            "grid_template_rows": null,
            "height": null,
            "justify_content": null,
            "justify_items": null,
            "left": null,
            "margin": null,
            "max_height": null,
            "max_width": null,
            "min_height": null,
            "min_width": null,
            "object_fit": null,
            "object_position": null,
            "order": null,
            "overflow": null,
            "overflow_x": null,
            "overflow_y": null,
            "padding": null,
            "right": null,
            "top": null,
            "visibility": null,
            "width": null
          }
        },
        "199343e430cf46cdacbd4076562e3a40": {
          "model_module": "@jupyter-widgets/base",
          "model_name": "LayoutModel",
          "model_module_version": "1.2.0",
          "state": {
            "_model_module": "@jupyter-widgets/base",
            "_model_module_version": "1.2.0",
            "_model_name": "LayoutModel",
            "_view_count": null,
            "_view_module": "@jupyter-widgets/base",
            "_view_module_version": "1.2.0",
            "_view_name": "LayoutView",
            "align_content": null,
            "align_items": null,
            "align_self": null,
            "border": null,
            "bottom": null,
            "display": null,
            "flex": null,
            "flex_flow": null,
            "grid_area": null,
            "grid_auto_columns": null,
            "grid_auto_flow": null,
            "grid_auto_rows": null,
            "grid_column": null,
            "grid_gap": null,
            "grid_row": null,
            "grid_template_areas": null,
            "grid_template_columns": null,
            "grid_template_rows": null,
            "height": null,
            "justify_content": null,
            "justify_items": null,
            "left": null,
            "margin": null,
            "max_height": null,
            "max_width": null,
            "min_height": null,
            "min_width": null,
            "object_fit": null,
            "object_position": null,
            "order": null,
            "overflow": null,
            "overflow_x": null,
            "overflow_y": null,
            "padding": null,
            "right": null,
            "top": null,
            "visibility": null,
            "width": null
          }
        },
        "e72c52285b7f436bab21116ce640c05e": {
          "model_module": "@jupyter-widgets/controls",
          "model_name": "DescriptionStyleModel",
          "model_module_version": "1.5.0",
          "state": {
            "_model_module": "@jupyter-widgets/controls",
            "_model_module_version": "1.5.0",
            "_model_name": "DescriptionStyleModel",
            "_view_count": null,
            "_view_module": "@jupyter-widgets/base",
            "_view_module_version": "1.2.0",
            "_view_name": "StyleView",
            "description_width": ""
          }
        },
        "0e6279917c664a0fa6a99b07ab51b675": {
          "model_module": "@jupyter-widgets/base",
          "model_name": "LayoutModel",
          "model_module_version": "1.2.0",
          "state": {
            "_model_module": "@jupyter-widgets/base",
            "_model_module_version": "1.2.0",
            "_model_name": "LayoutModel",
            "_view_count": null,
            "_view_module": "@jupyter-widgets/base",
            "_view_module_version": "1.2.0",
            "_view_name": "LayoutView",
            "align_content": null,
            "align_items": null,
            "align_self": null,
            "border": null,
            "bottom": null,
            "display": null,
            "flex": null,
            "flex_flow": null,
            "grid_area": null,
            "grid_auto_columns": null,
            "grid_auto_flow": null,
            "grid_auto_rows": null,
            "grid_column": null,
            "grid_gap": null,
            "grid_row": null,
            "grid_template_areas": null,
            "grid_template_columns": null,
            "grid_template_rows": null,
            "height": null,
            "justify_content": null,
            "justify_items": null,
            "left": null,
            "margin": null,
            "max_height": null,
            "max_width": null,
            "min_height": null,
            "min_width": null,
            "object_fit": null,
            "object_position": null,
            "order": null,
            "overflow": null,
            "overflow_x": null,
            "overflow_y": null,
            "padding": null,
            "right": null,
            "top": null,
            "visibility": null,
            "width": null
          }
        },
        "638f7931150c491193529fe3be6bdbcc": {
          "model_module": "@jupyter-widgets/controls",
          "model_name": "ProgressStyleModel",
          "model_module_version": "1.5.0",
          "state": {
            "_model_module": "@jupyter-widgets/controls",
            "_model_module_version": "1.5.0",
            "_model_name": "ProgressStyleModel",
            "_view_count": null,
            "_view_module": "@jupyter-widgets/base",
            "_view_module_version": "1.2.0",
            "_view_name": "StyleView",
            "bar_color": null,
            "description_width": ""
          }
        },
        "648a39d9e77547ae888641d1abfa83f5": {
          "model_module": "@jupyter-widgets/controls",
          "model_name": "VBoxModel",
          "model_module_version": "1.5.0",
          "state": {
            "_dom_classes": [],
            "_model_module": "@jupyter-widgets/controls",
            "_model_module_version": "1.5.0",
            "_model_name": "VBoxModel",
            "_view_count": null,
            "_view_module": "@jupyter-widgets/controls",
            "_view_module_version": "1.5.0",
            "_view_name": "VBoxView",
            "box_style": "",
            "children": [
              "IPY_MODEL_b24010233b114fc28030c44caba44a1e",
              "IPY_MODEL_11a8d65061de4e33b602c6923f5c21a9"
            ],
            "layout": "IPY_MODEL_4f589f5f11d643cf80fe9d8197bfe3a5"
          }
        },
        "b24010233b114fc28030c44caba44a1e": {
          "model_module": "@jupyter-widgets/controls",
          "model_name": "LabelModel",
          "model_module_version": "1.5.0",
          "state": {
            "_dom_classes": [],
            "_model_module": "@jupyter-widgets/controls",
            "_model_module_version": "1.5.0",
            "_model_name": "LabelModel",
            "_view_count": null,
            "_view_module": "@jupyter-widgets/controls",
            "_view_module_version": "1.5.0",
            "_view_name": "LabelView",
            "description": "",
            "description_tooltip": null,
            "layout": "IPY_MODEL_1244df54222f45a19124ba6769437e44",
            "placeholder": "​",
            "style": "IPY_MODEL_74465bfec5654cb5a32f79f4902195ab",
            "value": "0.014 MB of 0.014 MB uploaded\r"
          }
        },
        "11a8d65061de4e33b602c6923f5c21a9": {
          "model_module": "@jupyter-widgets/controls",
          "model_name": "FloatProgressModel",
          "model_module_version": "1.5.0",
          "state": {
            "_dom_classes": [],
            "_model_module": "@jupyter-widgets/controls",
            "_model_module_version": "1.5.0",
            "_model_name": "FloatProgressModel",
            "_view_count": null,
            "_view_module": "@jupyter-widgets/controls",
            "_view_module_version": "1.5.0",
            "_view_name": "ProgressView",
            "bar_style": "",
            "description": "",
            "description_tooltip": null,
            "layout": "IPY_MODEL_7a852463f4d54e60a4ef28703b5d9402",
            "max": 1,
            "min": 0,
            "orientation": "horizontal",
            "style": "IPY_MODEL_8d19193597c642e0affb8000eba75044",
            "value": 1
          }
        },
        "4f589f5f11d643cf80fe9d8197bfe3a5": {
          "model_module": "@jupyter-widgets/base",
          "model_name": "LayoutModel",
          "model_module_version": "1.2.0",
          "state": {
            "_model_module": "@jupyter-widgets/base",
            "_model_module_version": "1.2.0",
            "_model_name": "LayoutModel",
            "_view_count": null,
            "_view_module": "@jupyter-widgets/base",
            "_view_module_version": "1.2.0",
            "_view_name": "LayoutView",
            "align_content": null,
            "align_items": null,
            "align_self": null,
            "border": null,
            "bottom": null,
            "display": null,
            "flex": null,
            "flex_flow": null,
            "grid_area": null,
            "grid_auto_columns": null,
            "grid_auto_flow": null,
            "grid_auto_rows": null,
            "grid_column": null,
            "grid_gap": null,
            "grid_row": null,
            "grid_template_areas": null,
            "grid_template_columns": null,
            "grid_template_rows": null,
            "height": null,
            "justify_content": null,
            "justify_items": null,
            "left": null,
            "margin": null,
            "max_height": null,
            "max_width": null,
            "min_height": null,
            "min_width": null,
            "object_fit": null,
            "object_position": null,
            "order": null,
            "overflow": null,
            "overflow_x": null,
            "overflow_y": null,
            "padding": null,
            "right": null,
            "top": null,
            "visibility": null,
            "width": null
          }
        },
        "1244df54222f45a19124ba6769437e44": {
          "model_module": "@jupyter-widgets/base",
          "model_name": "LayoutModel",
          "model_module_version": "1.2.0",
          "state": {
            "_model_module": "@jupyter-widgets/base",
            "_model_module_version": "1.2.0",
            "_model_name": "LayoutModel",
            "_view_count": null,
            "_view_module": "@jupyter-widgets/base",
            "_view_module_version": "1.2.0",
            "_view_name": "LayoutView",
            "align_content": null,
            "align_items": null,
            "align_self": null,
            "border": null,
            "bottom": null,
            "display": null,
            "flex": null,
            "flex_flow": null,
            "grid_area": null,
            "grid_auto_columns": null,
            "grid_auto_flow": null,
            "grid_auto_rows": null,
            "grid_column": null,
            "grid_gap": null,
            "grid_row": null,
            "grid_template_areas": null,
            "grid_template_columns": null,
            "grid_template_rows": null,
            "height": null,
            "justify_content": null,
            "justify_items": null,
            "left": null,
            "margin": null,
            "max_height": null,
            "max_width": null,
            "min_height": null,
            "min_width": null,
            "object_fit": null,
            "object_position": null,
            "order": null,
            "overflow": null,
            "overflow_x": null,
            "overflow_y": null,
            "padding": null,
            "right": null,
            "top": null,
            "visibility": null,
            "width": null
          }
        },
        "74465bfec5654cb5a32f79f4902195ab": {
          "model_module": "@jupyter-widgets/controls",
          "model_name": "DescriptionStyleModel",
          "model_module_version": "1.5.0",
          "state": {
            "_model_module": "@jupyter-widgets/controls",
            "_model_module_version": "1.5.0",
            "_model_name": "DescriptionStyleModel",
            "_view_count": null,
            "_view_module": "@jupyter-widgets/base",
            "_view_module_version": "1.2.0",
            "_view_name": "StyleView",
            "description_width": ""
          }
        },
        "7a852463f4d54e60a4ef28703b5d9402": {
          "model_module": "@jupyter-widgets/base",
          "model_name": "LayoutModel",
          "model_module_version": "1.2.0",
          "state": {
            "_model_module": "@jupyter-widgets/base",
            "_model_module_version": "1.2.0",
            "_model_name": "LayoutModel",
            "_view_count": null,
            "_view_module": "@jupyter-widgets/base",
            "_view_module_version": "1.2.0",
            "_view_name": "LayoutView",
            "align_content": null,
            "align_items": null,
            "align_self": null,
            "border": null,
            "bottom": null,
            "display": null,
            "flex": null,
            "flex_flow": null,
            "grid_area": null,
            "grid_auto_columns": null,
            "grid_auto_flow": null,
            "grid_auto_rows": null,
            "grid_column": null,
            "grid_gap": null,
            "grid_row": null,
            "grid_template_areas": null,
            "grid_template_columns": null,
            "grid_template_rows": null,
            "height": null,
            "justify_content": null,
            "justify_items": null,
            "left": null,
            "margin": null,
            "max_height": null,
            "max_width": null,
            "min_height": null,
            "min_width": null,
            "object_fit": null,
            "object_position": null,
            "order": null,
            "overflow": null,
            "overflow_x": null,
            "overflow_y": null,
            "padding": null,
            "right": null,
            "top": null,
            "visibility": null,
            "width": null
          }
        },
        "8d19193597c642e0affb8000eba75044": {
          "model_module": "@jupyter-widgets/controls",
          "model_name": "ProgressStyleModel",
          "model_module_version": "1.5.0",
          "state": {
            "_model_module": "@jupyter-widgets/controls",
            "_model_module_version": "1.5.0",
            "_model_name": "ProgressStyleModel",
            "_view_count": null,
            "_view_module": "@jupyter-widgets/base",
            "_view_module_version": "1.2.0",
            "_view_name": "StyleView",
            "bar_color": null,
            "description_width": ""
          }
        },
        "1251ce3e7e144b32adc88dcd275300b7": {
          "model_module": "@jupyter-widgets/controls",
          "model_name": "VBoxModel",
          "model_module_version": "1.5.0",
          "state": {
            "_dom_classes": [],
            "_model_module": "@jupyter-widgets/controls",
            "_model_module_version": "1.5.0",
            "_model_name": "VBoxModel",
            "_view_count": null,
            "_view_module": "@jupyter-widgets/controls",
            "_view_module_version": "1.5.0",
            "_view_name": "VBoxView",
            "box_style": "",
            "children": [
              "IPY_MODEL_122c8d9f3caf48c7b53d90ea637c13cb",
              "IPY_MODEL_50bce88a5b314d81a4a29e537d1ba5b2"
            ],
            "layout": "IPY_MODEL_ac528b96168849e2833a0148840fffad"
          }
        },
        "122c8d9f3caf48c7b53d90ea637c13cb": {
          "model_module": "@jupyter-widgets/controls",
          "model_name": "LabelModel",
          "model_module_version": "1.5.0",
          "state": {
            "_dom_classes": [],
            "_model_module": "@jupyter-widgets/controls",
            "_model_module_version": "1.5.0",
            "_model_name": "LabelModel",
            "_view_count": null,
            "_view_module": "@jupyter-widgets/controls",
            "_view_module_version": "1.5.0",
            "_view_name": "LabelView",
            "description": "",
            "description_tooltip": null,
            "layout": "IPY_MODEL_bf749844dccf4ebf897c526c1149bce9",
            "placeholder": "​",
            "style": "IPY_MODEL_c943289265984bd0beb12e892e490c19",
            "value": "0.014 MB of 0.014 MB uploaded\r"
          }
        },
        "50bce88a5b314d81a4a29e537d1ba5b2": {
          "model_module": "@jupyter-widgets/controls",
          "model_name": "FloatProgressModel",
          "model_module_version": "1.5.0",
          "state": {
            "_dom_classes": [],
            "_model_module": "@jupyter-widgets/controls",
            "_model_module_version": "1.5.0",
            "_model_name": "FloatProgressModel",
            "_view_count": null,
            "_view_module": "@jupyter-widgets/controls",
            "_view_module_version": "1.5.0",
            "_view_name": "ProgressView",
            "bar_style": "",
            "description": "",
            "description_tooltip": null,
            "layout": "IPY_MODEL_659653bcf4a544d8aca16103255cae65",
            "max": 1,
            "min": 0,
            "orientation": "horizontal",
            "style": "IPY_MODEL_d6c9cd35ef144194b02a5e0db4ce458c",
            "value": 1
          }
        },
        "ac528b96168849e2833a0148840fffad": {
          "model_module": "@jupyter-widgets/base",
          "model_name": "LayoutModel",
          "model_module_version": "1.2.0",
          "state": {
            "_model_module": "@jupyter-widgets/base",
            "_model_module_version": "1.2.0",
            "_model_name": "LayoutModel",
            "_view_count": null,
            "_view_module": "@jupyter-widgets/base",
            "_view_module_version": "1.2.0",
            "_view_name": "LayoutView",
            "align_content": null,
            "align_items": null,
            "align_self": null,
            "border": null,
            "bottom": null,
            "display": null,
            "flex": null,
            "flex_flow": null,
            "grid_area": null,
            "grid_auto_columns": null,
            "grid_auto_flow": null,
            "grid_auto_rows": null,
            "grid_column": null,
            "grid_gap": null,
            "grid_row": null,
            "grid_template_areas": null,
            "grid_template_columns": null,
            "grid_template_rows": null,
            "height": null,
            "justify_content": null,
            "justify_items": null,
            "left": null,
            "margin": null,
            "max_height": null,
            "max_width": null,
            "min_height": null,
            "min_width": null,
            "object_fit": null,
            "object_position": null,
            "order": null,
            "overflow": null,
            "overflow_x": null,
            "overflow_y": null,
            "padding": null,
            "right": null,
            "top": null,
            "visibility": null,
            "width": null
          }
        },
        "bf749844dccf4ebf897c526c1149bce9": {
          "model_module": "@jupyter-widgets/base",
          "model_name": "LayoutModel",
          "model_module_version": "1.2.0",
          "state": {
            "_model_module": "@jupyter-widgets/base",
            "_model_module_version": "1.2.0",
            "_model_name": "LayoutModel",
            "_view_count": null,
            "_view_module": "@jupyter-widgets/base",
            "_view_module_version": "1.2.0",
            "_view_name": "LayoutView",
            "align_content": null,
            "align_items": null,
            "align_self": null,
            "border": null,
            "bottom": null,
            "display": null,
            "flex": null,
            "flex_flow": null,
            "grid_area": null,
            "grid_auto_columns": null,
            "grid_auto_flow": null,
            "grid_auto_rows": null,
            "grid_column": null,
            "grid_gap": null,
            "grid_row": null,
            "grid_template_areas": null,
            "grid_template_columns": null,
            "grid_template_rows": null,
            "height": null,
            "justify_content": null,
            "justify_items": null,
            "left": null,
            "margin": null,
            "max_height": null,
            "max_width": null,
            "min_height": null,
            "min_width": null,
            "object_fit": null,
            "object_position": null,
            "order": null,
            "overflow": null,
            "overflow_x": null,
            "overflow_y": null,
            "padding": null,
            "right": null,
            "top": null,
            "visibility": null,
            "width": null
          }
        },
        "c943289265984bd0beb12e892e490c19": {
          "model_module": "@jupyter-widgets/controls",
          "model_name": "DescriptionStyleModel",
          "model_module_version": "1.5.0",
          "state": {
            "_model_module": "@jupyter-widgets/controls",
            "_model_module_version": "1.5.0",
            "_model_name": "DescriptionStyleModel",
            "_view_count": null,
            "_view_module": "@jupyter-widgets/base",
            "_view_module_version": "1.2.0",
            "_view_name": "StyleView",
            "description_width": ""
          }
        },
        "659653bcf4a544d8aca16103255cae65": {
          "model_module": "@jupyter-widgets/base",
          "model_name": "LayoutModel",
          "model_module_version": "1.2.0",
          "state": {
            "_model_module": "@jupyter-widgets/base",
            "_model_module_version": "1.2.0",
            "_model_name": "LayoutModel",
            "_view_count": null,
            "_view_module": "@jupyter-widgets/base",
            "_view_module_version": "1.2.0",
            "_view_name": "LayoutView",
            "align_content": null,
            "align_items": null,
            "align_self": null,
            "border": null,
            "bottom": null,
            "display": null,
            "flex": null,
            "flex_flow": null,
            "grid_area": null,
            "grid_auto_columns": null,
            "grid_auto_flow": null,
            "grid_auto_rows": null,
            "grid_column": null,
            "grid_gap": null,
            "grid_row": null,
            "grid_template_areas": null,
            "grid_template_columns": null,
            "grid_template_rows": null,
            "height": null,
            "justify_content": null,
            "justify_items": null,
            "left": null,
            "margin": null,
            "max_height": null,
            "max_width": null,
            "min_height": null,
            "min_width": null,
            "object_fit": null,
            "object_position": null,
            "order": null,
            "overflow": null,
            "overflow_x": null,
            "overflow_y": null,
            "padding": null,
            "right": null,
            "top": null,
            "visibility": null,
            "width": null
          }
        },
        "d6c9cd35ef144194b02a5e0db4ce458c": {
          "model_module": "@jupyter-widgets/controls",
          "model_name": "ProgressStyleModel",
          "model_module_version": "1.5.0",
          "state": {
            "_model_module": "@jupyter-widgets/controls",
            "_model_module_version": "1.5.0",
            "_model_name": "ProgressStyleModel",
            "_view_count": null,
            "_view_module": "@jupyter-widgets/base",
            "_view_module_version": "1.2.0",
            "_view_name": "StyleView",
            "bar_color": null,
            "description_width": ""
          }
        },
        "a2ec9089467c436a9a7ec6eab71815df": {
          "model_module": "@jupyter-widgets/controls",
          "model_name": "VBoxModel",
          "model_module_version": "1.5.0",
          "state": {
            "_dom_classes": [],
            "_model_module": "@jupyter-widgets/controls",
            "_model_module_version": "1.5.0",
            "_model_name": "VBoxModel",
            "_view_count": null,
            "_view_module": "@jupyter-widgets/controls",
            "_view_module_version": "1.5.0",
            "_view_name": "VBoxView",
            "box_style": "",
            "children": [
              "IPY_MODEL_bf37d0a85df544d28d4827bffadb0b37",
              "IPY_MODEL_3cbbcad2bb384fc291b418d38084251e"
            ],
            "layout": "IPY_MODEL_ffa0729a071a4bee9335694234e679b7"
          }
        },
        "bf37d0a85df544d28d4827bffadb0b37": {
          "model_module": "@jupyter-widgets/controls",
          "model_name": "LabelModel",
          "model_module_version": "1.5.0",
          "state": {
            "_dom_classes": [],
            "_model_module": "@jupyter-widgets/controls",
            "_model_module_version": "1.5.0",
            "_model_name": "LabelModel",
            "_view_count": null,
            "_view_module": "@jupyter-widgets/controls",
            "_view_module_version": "1.5.0",
            "_view_name": "LabelView",
            "description": "",
            "description_tooltip": null,
            "layout": "IPY_MODEL_f81490bc3df74eababe89baf63bbaa78",
            "placeholder": "​",
            "style": "IPY_MODEL_6e48f605ccc24edaac0fe73275127852",
            "value": "0.014 MB of 0.014 MB uploaded\r"
          }
        },
        "3cbbcad2bb384fc291b418d38084251e": {
          "model_module": "@jupyter-widgets/controls",
          "model_name": "FloatProgressModel",
          "model_module_version": "1.5.0",
          "state": {
            "_dom_classes": [],
            "_model_module": "@jupyter-widgets/controls",
            "_model_module_version": "1.5.0",
            "_model_name": "FloatProgressModel",
            "_view_count": null,
            "_view_module": "@jupyter-widgets/controls",
            "_view_module_version": "1.5.0",
            "_view_name": "ProgressView",
            "bar_style": "",
            "description": "",
            "description_tooltip": null,
            "layout": "IPY_MODEL_29a21ec61cc343d2a729bf8cac7cb35e",
            "max": 1,
            "min": 0,
            "orientation": "horizontal",
            "style": "IPY_MODEL_7d70953387ec4ef5afc299856785e38d",
            "value": 1
          }
        },
        "ffa0729a071a4bee9335694234e679b7": {
          "model_module": "@jupyter-widgets/base",
          "model_name": "LayoutModel",
          "model_module_version": "1.2.0",
          "state": {
            "_model_module": "@jupyter-widgets/base",
            "_model_module_version": "1.2.0",
            "_model_name": "LayoutModel",
            "_view_count": null,
            "_view_module": "@jupyter-widgets/base",
            "_view_module_version": "1.2.0",
            "_view_name": "LayoutView",
            "align_content": null,
            "align_items": null,
            "align_self": null,
            "border": null,
            "bottom": null,
            "display": null,
            "flex": null,
            "flex_flow": null,
            "grid_area": null,
            "grid_auto_columns": null,
            "grid_auto_flow": null,
            "grid_auto_rows": null,
            "grid_column": null,
            "grid_gap": null,
            "grid_row": null,
            "grid_template_areas": null,
            "grid_template_columns": null,
            "grid_template_rows": null,
            "height": null,
            "justify_content": null,
            "justify_items": null,
            "left": null,
            "margin": null,
            "max_height": null,
            "max_width": null,
            "min_height": null,
            "min_width": null,
            "object_fit": null,
            "object_position": null,
            "order": null,
            "overflow": null,
            "overflow_x": null,
            "overflow_y": null,
            "padding": null,
            "right": null,
            "top": null,
            "visibility": null,
            "width": null
          }
        },
        "f81490bc3df74eababe89baf63bbaa78": {
          "model_module": "@jupyter-widgets/base",
          "model_name": "LayoutModel",
          "model_module_version": "1.2.0",
          "state": {
            "_model_module": "@jupyter-widgets/base",
            "_model_module_version": "1.2.0",
            "_model_name": "LayoutModel",
            "_view_count": null,
            "_view_module": "@jupyter-widgets/base",
            "_view_module_version": "1.2.0",
            "_view_name": "LayoutView",
            "align_content": null,
            "align_items": null,
            "align_self": null,
            "border": null,
            "bottom": null,
            "display": null,
            "flex": null,
            "flex_flow": null,
            "grid_area": null,
            "grid_auto_columns": null,
            "grid_auto_flow": null,
            "grid_auto_rows": null,
            "grid_column": null,
            "grid_gap": null,
            "grid_row": null,
            "grid_template_areas": null,
            "grid_template_columns": null,
            "grid_template_rows": null,
            "height": null,
            "justify_content": null,
            "justify_items": null,
            "left": null,
            "margin": null,
            "max_height": null,
            "max_width": null,
            "min_height": null,
            "min_width": null,
            "object_fit": null,
            "object_position": null,
            "order": null,
            "overflow": null,
            "overflow_x": null,
            "overflow_y": null,
            "padding": null,
            "right": null,
            "top": null,
            "visibility": null,
            "width": null
          }
        },
        "6e48f605ccc24edaac0fe73275127852": {
          "model_module": "@jupyter-widgets/controls",
          "model_name": "DescriptionStyleModel",
          "model_module_version": "1.5.0",
          "state": {
            "_model_module": "@jupyter-widgets/controls",
            "_model_module_version": "1.5.0",
            "_model_name": "DescriptionStyleModel",
            "_view_count": null,
            "_view_module": "@jupyter-widgets/base",
            "_view_module_version": "1.2.0",
            "_view_name": "StyleView",
            "description_width": ""
          }
        },
        "29a21ec61cc343d2a729bf8cac7cb35e": {
          "model_module": "@jupyter-widgets/base",
          "model_name": "LayoutModel",
          "model_module_version": "1.2.0",
          "state": {
            "_model_module": "@jupyter-widgets/base",
            "_model_module_version": "1.2.0",
            "_model_name": "LayoutModel",
            "_view_count": null,
            "_view_module": "@jupyter-widgets/base",
            "_view_module_version": "1.2.0",
            "_view_name": "LayoutView",
            "align_content": null,
            "align_items": null,
            "align_self": null,
            "border": null,
            "bottom": null,
            "display": null,
            "flex": null,
            "flex_flow": null,
            "grid_area": null,
            "grid_auto_columns": null,
            "grid_auto_flow": null,
            "grid_auto_rows": null,
            "grid_column": null,
            "grid_gap": null,
            "grid_row": null,
            "grid_template_areas": null,
            "grid_template_columns": null,
            "grid_template_rows": null,
            "height": null,
            "justify_content": null,
            "justify_items": null,
            "left": null,
            "margin": null,
            "max_height": null,
            "max_width": null,
            "min_height": null,
            "min_width": null,
            "object_fit": null,
            "object_position": null,
            "order": null,
            "overflow": null,
            "overflow_x": null,
            "overflow_y": null,
            "padding": null,
            "right": null,
            "top": null,
            "visibility": null,
            "width": null
          }
        },
        "7d70953387ec4ef5afc299856785e38d": {
          "model_module": "@jupyter-widgets/controls",
          "model_name": "ProgressStyleModel",
          "model_module_version": "1.5.0",
          "state": {
            "_model_module": "@jupyter-widgets/controls",
            "_model_module_version": "1.5.0",
            "_model_name": "ProgressStyleModel",
            "_view_count": null,
            "_view_module": "@jupyter-widgets/base",
            "_view_module_version": "1.2.0",
            "_view_name": "StyleView",
            "bar_color": null,
            "description_width": ""
          }
        }
      }
    }
  },
  "nbformat": 4,
  "nbformat_minor": 0
}