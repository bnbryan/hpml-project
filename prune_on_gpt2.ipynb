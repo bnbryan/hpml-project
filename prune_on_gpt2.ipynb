{
  "nbformat": 4,
  "nbformat_minor": 0,
  "metadata": {
    "colab": {
      "provenance": [],
      "toc_visible": true,
      "gpuType": "T4",
      "authorship_tag": "ABX9TyPOvBeh2ni0ffNXXP87Jj2n",
      "include_colab_link": true
    },
    "kernelspec": {
      "name": "python3",
      "display_name": "Python 3"
    },
    "language_info": {
      "name": "python"
    },
    "accelerator": "GPU",
    "widgets": {
      "application/vnd.jupyter.widget-state+json": {
        "cdc8bc74df42469599a63e929ebab01b": {
          "model_module": "@jupyter-widgets/controls",
          "model_name": "HBoxModel",
          "model_module_version": "1.5.0",
          "state": {
            "_dom_classes": [],
            "_model_module": "@jupyter-widgets/controls",
            "_model_module_version": "1.5.0",
            "_model_name": "HBoxModel",
            "_view_count": null,
            "_view_module": "@jupyter-widgets/controls",
            "_view_module_version": "1.5.0",
            "_view_name": "HBoxView",
            "box_style": "",
            "children": [
              "IPY_MODEL_6f99c0ba523a4dd5b037fdd6b8fa3175",
              "IPY_MODEL_14a4d2a3796f403099c569641a77b395",
              "IPY_MODEL_0791a14c560d43389d50a12f915b49c2"
            ],
            "layout": "IPY_MODEL_5b78c5fbede94b2ca4e6b948afe767d8"
          }
        },
        "6f99c0ba523a4dd5b037fdd6b8fa3175": {
          "model_module": "@jupyter-widgets/controls",
          "model_name": "HTMLModel",
          "model_module_version": "1.5.0",
          "state": {
            "_dom_classes": [],
            "_model_module": "@jupyter-widgets/controls",
            "_model_module_version": "1.5.0",
            "_model_name": "HTMLModel",
            "_view_count": null,
            "_view_module": "@jupyter-widgets/controls",
            "_view_module_version": "1.5.0",
            "_view_name": "HTMLView",
            "description": "",
            "description_tooltip": null,
            "layout": "IPY_MODEL_a9728f9e44ae4553b7045b40f58ca49c",
            "placeholder": "​",
            "style": "IPY_MODEL_8c8a1adeb40c45c7acffa03c6635f905",
            "value": "Map: 100%"
          }
        },
        "14a4d2a3796f403099c569641a77b395": {
          "model_module": "@jupyter-widgets/controls",
          "model_name": "FloatProgressModel",
          "model_module_version": "1.5.0",
          "state": {
            "_dom_classes": [],
            "_model_module": "@jupyter-widgets/controls",
            "_model_module_version": "1.5.0",
            "_model_name": "FloatProgressModel",
            "_view_count": null,
            "_view_module": "@jupyter-widgets/controls",
            "_view_module_version": "1.5.0",
            "_view_name": "ProgressView",
            "bar_style": "success",
            "description": "",
            "description_tooltip": null,
            "layout": "IPY_MODEL_f8edf4f689794f0fa0a6ddd7c9b8bdb5",
            "max": 4358,
            "min": 0,
            "orientation": "horizontal",
            "style": "IPY_MODEL_1124b9f085e243adbf06cd3f082b3d19",
            "value": 4358
          }
        },
        "0791a14c560d43389d50a12f915b49c2": {
          "model_module": "@jupyter-widgets/controls",
          "model_name": "HTMLModel",
          "model_module_version": "1.5.0",
          "state": {
            "_dom_classes": [],
            "_model_module": "@jupyter-widgets/controls",
            "_model_module_version": "1.5.0",
            "_model_name": "HTMLModel",
            "_view_count": null,
            "_view_module": "@jupyter-widgets/controls",
            "_view_module_version": "1.5.0",
            "_view_name": "HTMLView",
            "description": "",
            "description_tooltip": null,
            "layout": "IPY_MODEL_ce27288c210d44f0a98951c7b3e75a27",
            "placeholder": "​",
            "style": "IPY_MODEL_e39f88d445084cbf9a89926d073a1862",
            "value": " 4358/4358 [00:05&lt;00:00, 857.60 examples/s]"
          }
        },
        "5b78c5fbede94b2ca4e6b948afe767d8": {
          "model_module": "@jupyter-widgets/base",
          "model_name": "LayoutModel",
          "model_module_version": "1.2.0",
          "state": {
            "_model_module": "@jupyter-widgets/base",
            "_model_module_version": "1.2.0",
            "_model_name": "LayoutModel",
            "_view_count": null,
            "_view_module": "@jupyter-widgets/base",
            "_view_module_version": "1.2.0",
            "_view_name": "LayoutView",
            "align_content": null,
            "align_items": null,
            "align_self": null,
            "border": null,
            "bottom": null,
            "display": null,
            "flex": null,
            "flex_flow": null,
            "grid_area": null,
            "grid_auto_columns": null,
            "grid_auto_flow": null,
            "grid_auto_rows": null,
            "grid_column": null,
            "grid_gap": null,
            "grid_row": null,
            "grid_template_areas": null,
            "grid_template_columns": null,
            "grid_template_rows": null,
            "height": null,
            "justify_content": null,
            "justify_items": null,
            "left": null,
            "margin": null,
            "max_height": null,
            "max_width": null,
            "min_height": null,
            "min_width": null,
            "object_fit": null,
            "object_position": null,
            "order": null,
            "overflow": null,
            "overflow_x": null,
            "overflow_y": null,
            "padding": null,
            "right": null,
            "top": null,
            "visibility": null,
            "width": null
          }
        },
        "a9728f9e44ae4553b7045b40f58ca49c": {
          "model_module": "@jupyter-widgets/base",
          "model_name": "LayoutModel",
          "model_module_version": "1.2.0",
          "state": {
            "_model_module": "@jupyter-widgets/base",
            "_model_module_version": "1.2.0",
            "_model_name": "LayoutModel",
            "_view_count": null,
            "_view_module": "@jupyter-widgets/base",
            "_view_module_version": "1.2.0",
            "_view_name": "LayoutView",
            "align_content": null,
            "align_items": null,
            "align_self": null,
            "border": null,
            "bottom": null,
            "display": null,
            "flex": null,
            "flex_flow": null,
            "grid_area": null,
            "grid_auto_columns": null,
            "grid_auto_flow": null,
            "grid_auto_rows": null,
            "grid_column": null,
            "grid_gap": null,
            "grid_row": null,
            "grid_template_areas": null,
            "grid_template_columns": null,
            "grid_template_rows": null,
            "height": null,
            "justify_content": null,
            "justify_items": null,
            "left": null,
            "margin": null,
            "max_height": null,
            "max_width": null,
            "min_height": null,
            "min_width": null,
            "object_fit": null,
            "object_position": null,
            "order": null,
            "overflow": null,
            "overflow_x": null,
            "overflow_y": null,
            "padding": null,
            "right": null,
            "top": null,
            "visibility": null,
            "width": null
          }
        },
        "8c8a1adeb40c45c7acffa03c6635f905": {
          "model_module": "@jupyter-widgets/controls",
          "model_name": "DescriptionStyleModel",
          "model_module_version": "1.5.0",
          "state": {
            "_model_module": "@jupyter-widgets/controls",
            "_model_module_version": "1.5.0",
            "_model_name": "DescriptionStyleModel",
            "_view_count": null,
            "_view_module": "@jupyter-widgets/base",
            "_view_module_version": "1.2.0",
            "_view_name": "StyleView",
            "description_width": ""
          }
        },
        "f8edf4f689794f0fa0a6ddd7c9b8bdb5": {
          "model_module": "@jupyter-widgets/base",
          "model_name": "LayoutModel",
          "model_module_version": "1.2.0",
          "state": {
            "_model_module": "@jupyter-widgets/base",
            "_model_module_version": "1.2.0",
            "_model_name": "LayoutModel",
            "_view_count": null,
            "_view_module": "@jupyter-widgets/base",
            "_view_module_version": "1.2.0",
            "_view_name": "LayoutView",
            "align_content": null,
            "align_items": null,
            "align_self": null,
            "border": null,
            "bottom": null,
            "display": null,
            "flex": null,
            "flex_flow": null,
            "grid_area": null,
            "grid_auto_columns": null,
            "grid_auto_flow": null,
            "grid_auto_rows": null,
            "grid_column": null,
            "grid_gap": null,
            "grid_row": null,
            "grid_template_areas": null,
            "grid_template_columns": null,
            "grid_template_rows": null,
            "height": null,
            "justify_content": null,
            "justify_items": null,
            "left": null,
            "margin": null,
            "max_height": null,
            "max_width": null,
            "min_height": null,
            "min_width": null,
            "object_fit": null,
            "object_position": null,
            "order": null,
            "overflow": null,
            "overflow_x": null,
            "overflow_y": null,
            "padding": null,
            "right": null,
            "top": null,
            "visibility": null,
            "width": null
          }
        },
        "1124b9f085e243adbf06cd3f082b3d19": {
          "model_module": "@jupyter-widgets/controls",
          "model_name": "ProgressStyleModel",
          "model_module_version": "1.5.0",
          "state": {
            "_model_module": "@jupyter-widgets/controls",
            "_model_module_version": "1.5.0",
            "_model_name": "ProgressStyleModel",
            "_view_count": null,
            "_view_module": "@jupyter-widgets/base",
            "_view_module_version": "1.2.0",
            "_view_name": "StyleView",
            "bar_color": null,
            "description_width": ""
          }
        },
        "ce27288c210d44f0a98951c7b3e75a27": {
          "model_module": "@jupyter-widgets/base",
          "model_name": "LayoutModel",
          "model_module_version": "1.2.0",
          "state": {
            "_model_module": "@jupyter-widgets/base",
            "_model_module_version": "1.2.0",
            "_model_name": "LayoutModel",
            "_view_count": null,
            "_view_module": "@jupyter-widgets/base",
            "_view_module_version": "1.2.0",
            "_view_name": "LayoutView",
            "align_content": null,
            "align_items": null,
            "align_self": null,
            "border": null,
            "bottom": null,
            "display": null,
            "flex": null,
            "flex_flow": null,
            "grid_area": null,
            "grid_auto_columns": null,
            "grid_auto_flow": null,
            "grid_auto_rows": null,
            "grid_column": null,
            "grid_gap": null,
            "grid_row": null,
            "grid_template_areas": null,
            "grid_template_columns": null,
            "grid_template_rows": null,
            "height": null,
            "justify_content": null,
            "justify_items": null,
            "left": null,
            "margin": null,
            "max_height": null,
            "max_width": null,
            "min_height": null,
            "min_width": null,
            "object_fit": null,
            "object_position": null,
            "order": null,
            "overflow": null,
            "overflow_x": null,
            "overflow_y": null,
            "padding": null,
            "right": null,
            "top": null,
            "visibility": null,
            "width": null
          }
        },
        "e39f88d445084cbf9a89926d073a1862": {
          "model_module": "@jupyter-widgets/controls",
          "model_name": "DescriptionStyleModel",
          "model_module_version": "1.5.0",
          "state": {
            "_model_module": "@jupyter-widgets/controls",
            "_model_module_version": "1.5.0",
            "_model_name": "DescriptionStyleModel",
            "_view_count": null,
            "_view_module": "@jupyter-widgets/base",
            "_view_module_version": "1.2.0",
            "_view_name": "StyleView",
            "description_width": ""
          }
        }
      }
    }
  },
  "cells": [
    {
      "cell_type": "markdown",
      "metadata": {
        "id": "view-in-github",
        "colab_type": "text"
      },
      "source": [
        "<a href=\"https://colab.research.google.com/github/bnbryan/hpml-project/blob/baseline/prune_on_gpt2.ipynb\" target=\"_parent\"><img src=\"https://colab.research.google.com/assets/colab-badge.svg\" alt=\"Open In Colab\"/></a>"
      ]
    },
    {
      "cell_type": "markdown",
      "source": [
        "# Load the model"
      ],
      "metadata": {
        "id": "4gvabBLlZfz-"
      }
    },
    {
      "cell_type": "markdown",
      "source": [
        "install library"
      ],
      "metadata": {
        "id": "gzHXX9M0RLK7"
      }
    },
    {
      "cell_type": "code",
      "execution_count": null,
      "metadata": {
        "id": "B8O-fd7SRFR_"
      },
      "outputs": [],
      "source": [
        "!pip install transformers\n",
        "!pip install datasets"
      ]
    },
    {
      "cell_type": "code",
      "source": [
        "import torch\n",
        "from torch.utils.data import DataLoader\n",
        "from tqdm import tqdm"
      ],
      "metadata": {
        "id": "qDhkbn7UTXjw"
      },
      "execution_count": null,
      "outputs": []
    },
    {
      "cell_type": "markdown",
      "source": [
        "Load pre-trained gpt2 model from library"
      ],
      "metadata": {
        "id": "E5OwxNrBRcKf"
      }
    },
    {
      "cell_type": "code",
      "source": [
        "from transformers import GPT2LMHeadModel, GPT2Tokenizer\n",
        "\n",
        "model = GPT2LMHeadModel.from_pretrained(\"gpt2\")\n",
        "tokenizer = GPT2Tokenizer.from_pretrained(\"gpt2\")\n",
        "\n",
        "tokenizer.pad_token = tokenizer.eos_token"
      ],
      "metadata": {
        "collapsed": true,
        "id": "EYhbFycLRiHb"
      },
      "execution_count": null,
      "outputs": []
    },
    {
      "cell_type": "markdown",
      "source": [
        "## Data pre-processing"
      ],
      "metadata": {
        "id": "m6TXrhHjTIlI"
      }
    },
    {
      "cell_type": "code",
      "source": [
        "from datasets import load_dataset\n",
        "\n",
        "# 加载 WikiText-2 数据集\n",
        "dataset = load_dataset(\"wikitext\", \"wikitext-2-raw-v1\", split=\"test\")\n",
        "\n",
        "# 分词\n",
        "def tokenize_text(examples):\n",
        "  tokenized_inputs = tokenizer(\n",
        "        examples[\"text\"],\n",
        "        truncation=True,\n",
        "        padding=\"max_length\",\n",
        "        max_length=512\n",
        "    )\n",
        "\n",
        "  labels = tokenized_inputs[\"input_ids\"].copy()\n",
        "  labels = [\n",
        "      [(label if label != tokenizer.pad_token_id else -100) for label in label_example]\n",
        "      for label_example in labels\n",
        "  ]\n",
        "  tokenized_inputs[\"labels\"] = labels\n",
        "  return tokenized_inputs\n",
        "\n",
        "tokenized_dataset = dataset.map(tokenize_text, batched=True)"
      ],
      "metadata": {
        "colab": {
          "base_uri": "https://localhost:8080/",
          "height": 49,
          "referenced_widgets": [
            "cdc8bc74df42469599a63e929ebab01b",
            "6f99c0ba523a4dd5b037fdd6b8fa3175",
            "14a4d2a3796f403099c569641a77b395",
            "0791a14c560d43389d50a12f915b49c2",
            "5b78c5fbede94b2ca4e6b948afe767d8",
            "a9728f9e44ae4553b7045b40f58ca49c",
            "8c8a1adeb40c45c7acffa03c6635f905",
            "f8edf4f689794f0fa0a6ddd7c9b8bdb5",
            "1124b9f085e243adbf06cd3f082b3d19",
            "ce27288c210d44f0a98951c7b3e75a27",
            "e39f88d445084cbf9a89926d073a1862"
          ]
        },
        "id": "Y5UWMB-0Ti_-",
        "outputId": "c68340b3-625d-4833-bfd1-5c83a5600fbf"
      },
      "execution_count": 20,
      "outputs": [
        {
          "output_type": "display_data",
          "data": {
            "text/plain": [
              "Map:   0%|          | 0/4358 [00:00<?, ? examples/s]"
            ],
            "application/vnd.jupyter.widget-view+json": {
              "version_major": 2,
              "version_minor": 0,
              "model_id": "cdc8bc74df42469599a63e929ebab01b"
            }
          },
          "metadata": {}
        }
      ]
    },
    {
      "cell_type": "markdown",
      "source": [
        "## Finetune the pre-trained model on WikiText-2"
      ],
      "metadata": {
        "id": "9ehI-FcEaUZ2"
      }
    },
    {
      "cell_type": "markdown",
      "source": [
        "### prepare training data & testing data"
      ],
      "metadata": {
        "id": "YALkKLorkrqm"
      }
    },
    {
      "cell_type": "code",
      "source": [
        "train_dataloader = DataLoader(tokenized_dataset[\"train\"], batch_size=8, shuffle=True)\n",
        "eval_dataloader = DataLoader(tokenized_dataset[\"validation\"], batch_size=8)"
      ],
      "metadata": {
        "id": "_rVqat3RabF8"
      },
      "execution_count": null,
      "outputs": []
    },
    {
      "cell_type": "markdown",
      "source": [
        "### finetuning"
      ],
      "metadata": {
        "id": "tniYfgVCkxBl"
      }
    },
    {
      "cell_type": "code",
      "source": [
        "from transformers import TrainingArguments, Trainer\n",
        "\n",
        "# 定义训练参数\n",
        "training_args = TrainingArguments(\n",
        "    output_dir=\"./results\",           # 模型保存路径\n",
        "    evaluation_strategy=\"epoch\",     # 每个 epoch 验证一次\n",
        "    learning_rate=5e-5,              # 学习率\n",
        "    num_train_epochs=3,              # 训练轮数\n",
        "    per_device_train_batch_size=8,   # 每个设备的 batch size\n",
        "    save_total_limit=2,              # 最多保存2个检查点\n",
        "    logging_dir=\"./logs\",            # 日志文件\n",
        "    logging_steps=100,               # 每100步记录一次日志\n",
        "    save_steps=500,                  # 每500步保存一次模型\n",
        "    report_to=\"none\"                 # 禁用日志工具，如 wandb\n",
        ")\n",
        "\n",
        "trainer = Trainer(\n",
        "    model=model,                       # 要微调的模型\n",
        "    args=training_args,                # 训练参数\n",
        "    train_dataset=tokenized_dataset[\"train\"],  # 训练数据集\n",
        "    eval_dataset=tokenized_dataset[\"validation\"],  # 验证数据集\n",
        "    tokenizer=tokenizer                # 分词器\n",
        ")\n",
        "\n",
        "trainer.train()"
      ],
      "metadata": {
        "id": "WOK5Xjbrk0ub"
      },
      "execution_count": null,
      "outputs": []
    },
    {
      "cell_type": "markdown",
      "source": [
        "## Get the baseline accuracy"
      ],
      "metadata": {
        "id": "M6wi044racbY"
      }
    },
    {
      "cell_type": "code",
      "source": [
        "torch.cuda.empty_cache()"
      ],
      "metadata": {
        "id": "P2k2C82tfE2a"
      },
      "execution_count": null,
      "outputs": []
    },
    {
      "cell_type": "code",
      "source": [
        "torch.cuda.empty_cache()\n",
        "device = torch.device(\"cuda\" if torch.cuda.is_available() else \"cpu\")\n",
        "model.to(device)\n",
        "\n",
        "model.eval()\n",
        "\n",
        "total_loss = 0\n",
        "total_tokens = 0\n",
        "\n",
        "# 创建 DataLoader\n",
        "dataloader = DataLoader(tokenized_dataset, batch_size=8, shuffle=False)\n",
        "\n",
        "# 遍历数据集\n",
        "with tqdm(dataloader, desc=\"Evaluating\", unit=\"batch\") as pbar:\n",
        "    for batch in pbar:\n",
        "        # 确保 input_ids 是张量\n",
        "        torch.cuda.empty_cache()\n",
        "        tokens = torch.stack(batch[\"input_ids\"]).to(device)\n",
        "        labels = torch.stack(batch[\"labels\"]).to(device)\n",
        "\n",
        "        # 禁用梯度计算\n",
        "        with torch.no_grad():\n",
        "            outputs = model(input_ids=tokens, labels=tokens)\n",
        "            loss = outputs.loss\n",
        "\n",
        "            active_loss = labels != -100\n",
        "            num_active_tokens = active_loss.sum().item()\n",
        "            total_loss += loss.item() * num_active_tokens\n",
        "            total_tokens += num_active_tokens"
      ],
      "metadata": {
        "colab": {
          "base_uri": "https://localhost:8080/"
        },
        "collapsed": true,
        "id": "H8ROkKXwTTic",
        "outputId": "ebe3d591-7a5c-46f5-db52-7e8d5cd6ea9a"
      },
      "execution_count": null,
      "outputs": [
        {
          "output_type": "stream",
          "name": "stderr",
          "text": [
            "Evaluating:  72%|███████▏  | 391/545 [02:18<00:55,  2.78batch/s]"
          ]
        }
      ]
    },
    {
      "cell_type": "code",
      "source": [
        "# 计算准确率\n",
        "import math\n",
        "print(f\"Total Loss: {total_loss}\")\n",
        "print(f\"Total Tokens: {total_tokens}\")\n",
        "print(f\"Average Loss: {total_loss / total_tokens}\")\n",
        "perplexity = math.exp(total_loss / total_tokens)\n",
        "print(f\"Perplexity: {perplexity:.4f}\")"
      ],
      "metadata": {
        "id": "LY4TyrFbbVm5"
      },
      "execution_count": null,
      "outputs": []
    },
    {
      "cell_type": "markdown",
      "source": [
        "# Pruning"
      ],
      "metadata": {
        "id": "UDMcVsrNZZ4Y"
      }
    },
    {
      "cell_type": "code",
      "source": [],
      "metadata": {
        "id": "m5Ojl3KXZbsV"
      },
      "execution_count": null,
      "outputs": []
    }
  ]
}