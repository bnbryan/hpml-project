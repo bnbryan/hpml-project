{
 "cells": [
  {
   "cell_type": "markdown",
   "metadata": {
    "colab_type": "text",
    "id": "view-in-github"
   },
   "source": [
    "<a href=\"https://colab.research.google.com/github/bnbryan/hpml-project/blob/master/prune_on_gpt2.ipynb\" target=\"_parent\"><img src=\"https://colab.research.google.com/assets/colab-badge.svg\" alt=\"Open In Colab\"/></a>"
   ]
  },
  {
   "cell_type": "markdown",
   "metadata": {
    "id": "4gvabBLlZfz-"
   },
   "source": [
    "# Load the model"
   ]
  },
  {
   "cell_type": "markdown",
   "metadata": {
    "id": "gzHXX9M0RLK7"
   },
   "source": [
    "install library"
   ]
  },
  {
   "cell_type": "code",
   "execution_count": null,
   "metadata": {
    "id": "B8O-fd7SRFR_"
   },
   "outputs": [],
   "source": [
    "%pip install transformers\n",
    "%pip install datasets"
   ]
  },
  {
   "cell_type": "code",
   "execution_count": null,
   "metadata": {
    "id": "qDhkbn7UTXjw"
   },
   "outputs": [],
   "source": [
    "import torch\n",
    "from torch.utils.data import DataLoader\n",
    "from tqdm import tqdm"
   ]
  },
  {
   "cell_type": "markdown",
   "metadata": {
    "id": "E5OwxNrBRcKf"
   },
   "source": [
    "Load pre-trained gpt2 model from library"
   ]
  },
  {
   "cell_type": "code",
   "execution_count": null,
   "metadata": {
    "collapsed": true,
    "id": "EYhbFycLRiHb"
   },
   "outputs": [],
   "source": [
    "from transformers import GPT2LMHeadModel, GPT2Tokenizer\n",
    "\n",
    "model = GPT2LMHeadModel.from_pretrained(\"gpt2\")\n",
    "tokenizer = GPT2Tokenizer.from_pretrained(\"gpt2\")\n",
    "\n",
    "tokenizer.pad_token = tokenizer.eos_token"
   ]
  },
  {
   "cell_type": "markdown",
   "metadata": {
    "id": "m6TXrhHjTIlI"
   },
   "source": [
    "## Data pre-processing"
   ]
  },
  {
   "cell_type": "code",
   "execution_count": null,
   "metadata": {
    "id": "Y5UWMB-0Ti_-"
   },
   "outputs": [],
   "source": [
    "from datasets import load_dataset\n",
    "\n",
    "# 加载 WikiText-103 数据集\n",
    "dataset = load_dataset(\"wikitext\", \"wikitext-103-raw-v1\", split=\"test\")\n",
    "# 分词\n",
    "def tokenize_text(examples):\n",
    "  return tokenizer(\n",
    "        examples[\"text\"],\n",
    "        return_special_tokens_mask=True,\n",
    "        truncation=True,\n",
    "        max_length=512,\n",
    "        padding='max_length'\n",
    "    )\n",
    "\n",
    "tokenized_dataset = dataset.map(tokenize_text, batched=True, remove_columns=['text'])\n",
    "tokenized_dataset.set_format(type='torch', columns = ['input_ids', 'attention_mask'])"
   ]
  },
  {
   "cell_type": "markdown",
   "metadata": {
    "id": "M6wi044racbY"
   },
   "source": [
    "## Get the baseline perplexity"
   ]
  },
  {
   "cell_type": "code",
   "execution_count": null,
   "metadata": {
    "collapsed": true,
    "id": "H8ROkKXwTTic"
   },
   "outputs": [],
   "source": [
    "def cal_perplexity():\n",
    "    torch.cuda.empty_cache()\n",
    "    device = torch.device(\"cuda\" if torch.cuda.is_available() else \"cpu\")\n",
    "    model.to(device)\n",
    "\n",
    "    model.eval()\n",
    "\n",
    "    total_loss = 0\n",
    "    total_tokens = 0\n",
    "\n",
    "    # 创建 DataLoader\n",
    "    dataloader = DataLoader(tokenized_dataset, batch_size=8)\n",
    "\n",
    "    # 遍历数据集\n",
    "    with tqdm(dataloader, desc=\"Evaluating\", unit=\"batch\") as pbar:\n",
    "        for batch in pbar:\n",
    "            torch.cuda.empty_cache()\n",
    "            tokens = batch[\"input_ids\"].to(device)\n",
    "            attention_mask = batch[\"attention_mask\"].to(device)\n",
    "\n",
    "            labels = tokens.clone()\n",
    "            labels[attention_mask == 0] = -100\n",
    "\n",
    "            with torch.no_grad():\n",
    "                outputs = model(input_ids=tokens, attention_mask=attention_mask, labels=labels)\n",
    "                loss = outputs.loss\n",
    "\n",
    "                num_active_tokens = attention_mask.sum().item()\n",
    "                total_loss += loss.item() * num_active_tokens\n",
    "                total_tokens += num_active_tokens\n",
    "    \n",
    "    perplexity = torch.exp(torch.tensor(total_loss / total_tokens))\n",
    "    print(f\"perplexity: {perplexity:.4f}\")\n",
    "    torch.cuda.empty_cache()\n",
    "    return perplexity\n"
   ]
  },
  {
   "cell_type": "code",
   "execution_count": null,
   "metadata": {
    "id": "LY4TyrFbbVm5"
   },
   "outputs": [],
   "source": [
    "cal_perplexity()"
   ]
  },
  {
   "cell_type": "markdown",
   "metadata": {
    "id": "UDMcVsrNZZ4Y"
   },
   "source": [
    "# Pruning"
   ]
  },
  {
   "cell_type": "code",
   "execution_count": null,
   "metadata": {
    "id": "m5Ojl3KXZbsV"
   },
   "outputs": [],
   "source": [
    "import torch.nn.utils.prune as prune"
   ]
  },
  {
   "cell_type": "markdown",
   "metadata": {},
   "source": [
    "## Prune transformers"
   ]
  },
  {
   "cell_type": "markdown",
   "metadata": {},
   "source": [
    "### functions to restore pruned layers"
   ]
  },
  {
   "cell_type": "code",
   "execution_count": null,
   "metadata": {},
   "outputs": [],
   "source": [
    "def restore_pruned_layer(layer):\n",
    "    if hasattr(layer, \"weight_orig\"):\n",
    "        orig_weight = getattr(layer, \"weight_orig\")\n",
    "        setattr(layer, \"weight\", orig_weight)\n",
    "        delattr(layer, \"weight_orig\")\n",
    "    if hasattr(layer, \"weight_mask\"):\n",
    "        delattr(layer, \"weight_mask\")\n",
    "        \n",
    "def remove_hooks(layer):\n",
    "    for hook_id in list(layer._forward_pre_hooks.keys()):\n",
    "        del layer._forward_pre_hooks[hook_id]\n",
    "        \n",
    "def restore_block_n(block_num):\n",
    "    for i in range(4 * block_num, 4 * block_num + 4):\n",
    "        restore_pruned_layer(model.transformer.h[i].mlp.c_fc)\n",
    "        restore_pruned_layer(model.transformer.h[i].mlp.c_proj)\n",
    "        remove_hooks(model.transformer.h[i].mlp.c_fc)\n",
    "        remove_hooks(model.transformer.h[i].mlp.c_proj)"
   ]
  },
  {
   "cell_type": "markdown",
   "metadata": {},
   "source": [
    "### functions to prune layers"
   ]
  },
  {
   "cell_type": "code",
   "execution_count": null,
   "metadata": {},
   "outputs": [],
   "source": [
    "def prune_mlp_layer(mlp, pruning_ratio=0.3):\n",
    "    prune.l1_unstructured(mlp.c_fc, name=\"weight\", amount=pruning_ratio)\n",
    "    prune.l1_unstructured(mlp.c_proj, name=\"weight\", amount=pruning_ratio)\n",
    "\n",
    "def prune_block(block_num, pruning_ratio):\n",
    "    for i in range(4 * block_num, 4 * block_num + 4):\n",
    "        prune_mlp_layer(model.transformer.h[i].mlp, pruning_ratio)"
   ]
  },
  {
   "cell_type": "markdown",
   "metadata": {},
   "source": [
    "### Prune, calculate perplexity, and restore pruned layers"
   ]
  },
  {
   "cell_type": "code",
   "execution_count": null,
   "metadata": {},
   "outputs": [],
   "source": [
    "prune_block(0, 0.3)\n",
    "cal_perplexity()\n",
    "restore_block_n(0)"
   ]
  }
 ],
 "metadata": {
  "accelerator": "GPU",
  "colab": {
   "authorship_tag": "ABX9TyPFiB1zkVfXIme4G5WCAsOr",
   "gpuType": "T4",
   "include_colab_link": true,
   "provenance": []
  },
  "kernelspec": {
   "display_name": "py39",
   "language": "python",
   "name": "python3"
  },
  "language_info": {
   "codemirror_mode": {
    "name": "ipython",
    "version": 3
   },
   "file_extension": ".py",
   "mimetype": "text/x-python",
   "name": "python",
   "nbconvert_exporter": "python",
   "pygments_lexer": "ipython3",
   "version": "3.9.20"
  }
 },
 "nbformat": 4,
 "nbformat_minor": 0
}
