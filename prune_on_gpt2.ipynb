{
  "nbformat": 4,
  "nbformat_minor": 0,
  "metadata": {
    "colab": {
      "provenance": [],
      "gpuType": "T4",
      "authorship_tag": "ABX9TyPFiB1zkVfXIme4G5WCAsOr",
      "include_colab_link": true
    },
    "kernelspec": {
      "name": "python3",
      "display_name": "Python 3"
    },
    "language_info": {
      "name": "python"
    },
    "accelerator": "GPU"
  },
  "cells": [
    {
      "cell_type": "markdown",
      "metadata": {
        "id": "view-in-github",
        "colab_type": "text"
      },
      "source": [
        "<a href=\"https://colab.research.google.com/github/bnbryan/hpml-project/blob/master/prune_on_gpt2.ipynb\" target=\"_parent\"><img src=\"https://colab.research.google.com/assets/colab-badge.svg\" alt=\"Open In Colab\"/></a>"
      ]
    },
    {
      "cell_type": "markdown",
      "source": [
        "# Load the model"
      ],
      "metadata": {
        "id": "4gvabBLlZfz-"
      }
    },
    {
      "cell_type": "markdown",
      "source": [
        "install library"
      ],
      "metadata": {
        "id": "gzHXX9M0RLK7"
      }
    },
    {
      "cell_type": "code",
      "execution_count": null,
      "metadata": {
        "id": "B8O-fd7SRFR_"
      },
      "outputs": [],
      "source": [
        "!pip install transformers\n",
        "!pip install datasets"
      ]
    },
    {
      "cell_type": "code",
      "source": [
        "import torch\n",
        "from torch.utils.data import DataLoader\n",
        "from tqdm import tqdm"
      ],
      "metadata": {
        "id": "qDhkbn7UTXjw"
      },
      "execution_count": null,
      "outputs": []
    },
    {
      "cell_type": "markdown",
      "source": [
        "Load pre-trained gpt2 model from library"
      ],
      "metadata": {
        "id": "E5OwxNrBRcKf"
      }
    },
    {
      "cell_type": "code",
      "source": [
        "from transformers import GPT2LMHeadModel, GPT2Tokenizer\n",
        "\n",
        "model = GPT2LMHeadModel.from_pretrained(\"gpt2\")\n",
        "tokenizer = GPT2Tokenizer.from_pretrained(\"gpt2\")\n",
        "\n",
        "tokenizer.pad_token = tokenizer.eos_token"
      ],
      "metadata": {
        "collapsed": true,
        "id": "EYhbFycLRiHb"
      },
      "execution_count": null,
      "outputs": []
    },
    {
      "cell_type": "markdown",
      "source": [
        "## Data pre-processing"
      ],
      "metadata": {
        "id": "m6TXrhHjTIlI"
      }
    },
    {
      "cell_type": "code",
      "source": [
        "from datasets import load_dataset\n",
        "\n",
        "# 加载 WikiText-103 数据集\n",
        "dataset = load_dataset(\"wikitext\", \"wikitext-103-raw-v1\", split=\"test\")\n",
        "# 分词\n",
        "def tokenize_text(examples):\n",
        "  return tokenizer(\n",
        "        examples[\"text\"],\n",
        "        return_special_tokens_mask=True,\n",
        "        truncation=True,\n",
        "        max_length=512,\n",
        "        padding='max_length'\n",
        "    )\n",
        "\n",
        "tokenized_dataset = dataset.map(tokenize_text, batched=True, remove_columns=['text'])\n",
        "tokenized_dataset.set_format(type='torch', columns = ['input_ids', 'attention_mask'])"
      ],
      "metadata": {
        "id": "Y5UWMB-0Ti_-"
      },
      "execution_count": null,
      "outputs": []
    },
    {
      "cell_type": "markdown",
      "source": [
        "## Get the baseline accuracy"
      ],
      "metadata": {
        "id": "M6wi044racbY"
      }
    },
    {
      "cell_type": "code",
      "source": [
        "torch.cuda.empty_cache()"
      ],
      "metadata": {
        "id": "P2k2C82tfE2a"
      },
      "execution_count": null,
      "outputs": []
    },
    {
      "cell_type": "code",
      "source": [
        "torch.cuda.empty_cache()\n",
        "device = torch.device(\"cuda\" if torch.cuda.is_available() else \"cpu\")\n",
        "model.to(device)\n",
        "\n",
        "model.eval()\n",
        "\n",
        "total_loss = 0\n",
        "total_tokens = 0\n",
        "\n",
        "# 创建 DataLoader\n",
        "dataloader = DataLoader(tokenized_dataset, batch_size=8)\n",
        "\n",
        "# 遍历数据集\n",
        "with tqdm(dataloader, desc=\"Evaluating\", unit=\"batch\") as pbar:\n",
        "    for batch in pbar:\n",
        "        torch.cuda.empty_cache()\n",
        "        tokens = batch[\"input_ids\"].to(device)\n",
        "        attention_mask = batch[\"attention_mask\"].to(device)\n",
        "\n",
        "        labels = tokens.clone()\n",
        "        labels[attention_mask == 0] = -100\n",
        "\n",
        "        with torch.no_grad():\n",
        "            outputs = model(input_ids=tokens, attention_mask=attention_mask, labels=labels)\n",
        "            loss = outputs.loss\n",
        "\n",
        "            num_active_tokens = attention_mask.sum().item()\n",
        "            total_loss += loss.item() * num_active_tokens\n",
        "            total_tokens += num_active_tokens"
      ],
      "metadata": {
        "collapsed": true,
        "id": "H8ROkKXwTTic"
      },
      "execution_count": null,
      "outputs": []
    },
    {
      "cell_type": "code",
      "source": [
        "# 计算准确率\n",
        "import math\n",
        "print(f\"Total Loss: {total_loss}\")\n",
        "print(f\"Total Tokens: {total_tokens}\")\n",
        "print(f\"Average Loss: {total_loss / total_tokens}\")\n",
        "perplexity = torch.exp(torch.tensor(total_loss / total_tokens))\n",
        "print(f\"Perplexity: {perplexity:.4f}\")"
      ],
      "metadata": {
        "id": "LY4TyrFbbVm5"
      },
      "execution_count": null,
      "outputs": []
    },
    {
      "cell_type": "markdown",
      "source": [
        "# Pruning"
      ],
      "metadata": {
        "id": "UDMcVsrNZZ4Y"
      }
    },
    {
      "cell_type": "code",
      "source": [],
      "metadata": {
        "id": "m5Ojl3KXZbsV"
      },
      "execution_count": null,
      "outputs": []
    }
  ]
}